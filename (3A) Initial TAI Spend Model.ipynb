{
 "cells": [
  {
   "cell_type": "code",
   "execution_count": 1,
   "id": "5ac6fd9f-ba15-4177-b363-cd62b7b638d0",
   "metadata": {},
   "outputs": [
    {
     "name": "stdout",
     "output_type": "stream",
     "text": [
      "Loaded\n",
      "Loaded\n"
     ]
    }
   ],
   "source": [
    "import math\n",
    "import random\n",
    "import numpy as np\n",
    "import squigglepy as sq\n",
    "from squigglepy.numbers import K, M, B, T\n",
    "import matplotlib.pyplot as plt\n",
    "\n",
    "from copy import copy, deepcopy\n",
    "from scipy import stats\n",
    "from pprint import pprint\n",
    "from datetime import datetime as dt\n",
    "\n",
    "exec(open('utils.py').read())\n",
    "print('Loaded')\n",
    "\n",
    "\n",
    "def pct_dist(a, b):\n",
    "    return sq.lognorm(a, b, lclip=0.001, rclip=1, credibility=80) \n",
    "\n",
    "\n",
    "def lab_spend_on_largest_model_this_year(total_investment,\n",
    "                                         total_revenue,\n",
    "                                         percent_investment_spent_this_year,\n",
    "                                         percent_revenue_that_is_profit,\n",
    "                                         percent_profit_spent_this_year,\n",
    "                                         percent_spend_on_compute,\n",
    "                                         percent_compute_on_biggest_model):\n",
    "    money = total_investment * percent_investment_spent_this_year\n",
    "    money += total_revenue * percent_revenue_that_is_profit * percent_profit_spent_this_year\n",
    "    return sq.dist_fn(money * percent_spend_on_compute * percent_compute_on_biggest_model, fn=np.log10)\n",
    "\n",
    "\n",
    "def bigtech_spend_on_largest_model_this_year(annual_r_and_d_spend,\n",
    "                                             percent_r_and_d_on_ai,\n",
    "                                             percent_ai_spend_on_compute,\n",
    "                                             percent_compute_on_biggest_model):\n",
    "    return sq.dist_fn(annual_r_and_d_spend *\n",
    "                      percent_r_and_d_on_ai *\n",
    "                      percent_ai_spend_on_compute *\n",
    "                      percent_compute_on_biggest_model, fn=np.log10)\n",
    "\n",
    "print('Loaded')"
   ]
  },
  {
   "cell_type": "markdown",
   "id": "3966d6e9-b30c-4055-ae39-e3837846e638",
   "metadata": {},
   "source": [
    "## GPT3 Prediction (for calibration)"
   ]
  },
  {
   "cell_type": "code",
   "execution_count": 2,
   "id": "714ccadd-8b56-4203-ab64-a957efa7e0e4",
   "metadata": {},
   "outputs": [
    {
     "name": "stdout",
     "output_type": "stream",
     "text": [
      "{1: '205 thousand',\n",
      " 5: '503 thousand',\n",
      " 10: '819 thousand',\n",
      " 20: '1 million',\n",
      " 30: '2 million',\n",
      " 40: '3 million',\n",
      " 50: '4 million',\n",
      " 60: '6 million',\n",
      " 70: '9 million',\n",
      " 80: '13 million',\n",
      " 90: '23 million',\n",
      " 95: '37 million',\n",
      " 99: '86 million'}\n",
      "-\n",
      "Actual spend ($12.0M) is at the 78.2th percentile of the model\n"
     ]
    }
   ],
   "source": [
    "gpt3_prediction = lab_spend_on_largest_model_this_year(total_investment=1*B,\n",
    "                                                       total_revenue=0,\n",
    "                                                       percent_investment_spent_this_year=pct_dist(0.05, 0.3),\n",
    "                                                       percent_revenue_that_is_profit=0,\n",
    "                                                       percent_profit_spent_this_year=0,\n",
    "                                                       percent_spend_on_compute=pct_dist(0.3, 0.7),\n",
    "                                                       percent_compute_on_biggest_model=pct_dist(0.02, 0.3))\n",
    "samples = gpt3_prediction @ (100*K)\n",
    "\n",
    "# See: https://docs.google.com/spreadsheets/d/1cLzO_tX9b4z6URKLFvzc0MtsN4GrftkFZuv1bCxeWVY/edit#gid=555410569\n",
    "actual_gpt3_spend = 12*M\n",
    "\n",
    "pprint(dict([(i[0], numerize(10 ** i[1])) for i in sq.get_percentiles(samples).items()]))\n",
    "print('-')\n",
    "print('Actual spend (${}M) is at the {}th percentile of the model'.format(round(actual_gpt3_spend / M, 1),\n",
    "                                                                          round(np.mean([s <= np.log10(actual_gpt3_spend) for s in samples]) * 100, 1)))\n"
   ]
  },
  {
   "cell_type": "code",
   "execution_count": 3,
   "id": "e96afe2d-419b-41e2-9ae9-001e8582e32c",
   "metadata": {},
   "outputs": [
    {
     "data": {
      "image/png": "[encoded data removed]",
      "text/plain": [
       "<Figure size 640x480 with 1 Axes>"
      ]
     },
     "metadata": {},
     "output_type": "display_data"
    }
   ],
   "source": [
    "plt.hist(samples, bins=200, label='GPT-3 Prediction from Model')\n",
    "estimate_cost_samples = sq.dist_fn(sq.lognorm(actual_gpt3_spend/2, actual_gpt3_spend*2), fn=np.log10) @ (100*K)\n",
    "plt.hist(estimate_cost_samples, bins=200, label='GPT-3 Estimates of cost')\n",
    "plt.xlabel('log $ spent')\n",
    "plt.legend()\n",
    "plt.show()"
   ]
  },
  {
   "cell_type": "markdown",
   "id": "50d03f90-701f-426e-b606-3c2384504c89",
   "metadata": {},
   "source": [
    "## GPT4 Prediction (for calibration)"
   ]
  },
  {
   "cell_type": "code",
   "execution_count": 4,
   "id": "93a20b0d-ef6f-4ce7-980d-29a9bdf4be65",
   "metadata": {},
   "outputs": [
    {
     "name": "stdout",
     "output_type": "stream",
     "text": [
      "{1: '2 million',\n",
      " 5: '5 million',\n",
      " 10: '8 million',\n",
      " 20: '14 million',\n",
      " 30: '22 million',\n",
      " 40: '31 million',\n",
      " 50: '43 million',\n",
      " 60: '60 million',\n",
      " 70: '85 million',\n",
      " 80: '130 million',\n",
      " 90: '230 million',\n",
      " 95: '366 million',\n",
      " 99: '862 million'}\n",
      "-\n",
      "Actual spend ($53.8M) is at the 56.6th percentile of the model\n"
     ]
    }
   ],
   "source": [
    "gpt4_prediction = lab_spend_on_largest_model_this_year(total_investment=10*B,\n",
    "                                                       total_revenue=0,\n",
    "                                                       percent_investment_spent_this_year=pct_dist(0.05, 0.3),\n",
    "                                                       percent_revenue_that_is_profit=0,\n",
    "                                                       percent_profit_spent_this_year=0,\n",
    "                                                       percent_spend_on_compute=pct_dist(0.3, 0.7),\n",
    "                                                       percent_compute_on_biggest_model=pct_dist(0.02, 0.3))\n",
    "samples = gpt4_prediction @ (100*K)\n",
    "\n",
    "# See: https://epochai.org/trends\n",
    "actual_gpt4_spend = 53.8*M\n",
    "\n",
    "pprint(dict([(i[0], numerize(10 ** i[1])) for i in sq.get_percentiles(samples).items()]))\n",
    "print('-')\n",
    "print('Actual spend (${}M) is at the {}th percentile of the model'.format(round(actual_gpt4_spend / M, 1),\n",
    "                                                                          round(np.mean([s <= np.log10(actual_gpt4_spend) for s in samples]) * 100, 1)))\n"
   ]
  },
  {
   "cell_type": "code",
   "execution_count": 5,
   "id": "989a3182-653b-4cec-84a8-2385cd0afa89",
   "metadata": {},
   "outputs": [
    {
     "data": {
      "image/png": "[encoded data removed]",
      "text/plain": [
       "<Figure size 640x480 with 1 Axes>"
      ]
     },
     "metadata": {},
     "output_type": "display_data"
    }
   ],
   "source": [
    "plt.hist(samples, bins=200, label='GPT-4 Prediction from Model')\n",
    "estimate_cost_samples = sq.dist_fn(sq.lognorm(actual_gpt4_spend/2, actual_gpt4_spend*2), fn=np.log10) @ (100*K)\n",
    "plt.hist(estimate_cost_samples, bins=200, label='GPT-4 Estimates of cost')\n",
    "plt.xlabel('log $ spent')\n",
    "plt.legend()\n",
    "plt.show()"
   ]
  },
  {
   "cell_type": "markdown",
   "id": "198cef42-6811-49e5-9a1c-f311799352f4",
   "metadata": {},
   "source": [
    "## Gemini Ultra Prediction (for calibration)"
   ]
  },
  {
   "cell_type": "code",
   "execution_count": 6,
   "id": "817ed405-6701-4f3f-b9a6-704641176f1e",
   "metadata": {},
   "outputs": [
    {
     "name": "stdout",
     "output_type": "stream",
     "text": [
      "{1: '6 million',\n",
      " 5: '15 million',\n",
      " 10: '23 million',\n",
      " 20: '40 million',\n",
      " 30: '59 million',\n",
      " 40: '83 million',\n",
      " 50: '114 million',\n",
      " 60: '156 million',\n",
      " 70: '218 million',\n",
      " 80: '320 million',\n",
      " 90: '543 million',\n",
      " 95: '839 million',\n",
      " 99: '2 billion'}\n",
      "-\n",
      "Actual spend ($57.0M) is at the 28.9th percentile of the model\n"
     ]
    }
   ],
   "source": [
    "gemini_prediction = bigtech_spend_on_largest_model_this_year(annual_r_and_d_spend=sq.lognorm(22*B, 40*B, credibility=80),\n",
    "                                                             percent_r_and_d_on_ai=pct_dist(0.1, 0.7),\n",
    "                                                             percent_ai_spend_on_compute=pct_dist(0.3, 0.7),\n",
    "                                                             percent_compute_on_biggest_model=pct_dist(0.01, 0.1))\n",
    "samples = gemini_prediction @ (100*K)\n",
    "\n",
    "# See: https://epochai.org/trends\n",
    "actual_gemini_spend = 57*M\n",
    "\n",
    "pprint(dict([(i[0], numerize(10 ** i[1])) for i in sq.get_percentiles(samples).items()]))\n",
    "print('-')\n",
    "print('Actual spend (${}M) is at the {}th percentile of the model'.format(round(actual_gemini_spend / M, 1),\n",
    "                                                                          round(np.mean([s <= np.log10(actual_gemini_spend) for s in samples]) * 100, 1)))\n"
   ]
  },
  {
   "cell_type": "code",
   "execution_count": 7,
   "id": "c9789620-c76e-48ee-bfa2-010d7b79be18",
   "metadata": {},
   "outputs": [
    {
     "data": {
      "image/png": "[encoded data removed]",
      "text/plain": [
       "<Figure size 640x480 with 1 Axes>"
      ]
     },
     "metadata": {},
     "output_type": "display_data"
    }
   ],
   "source": [
    "plt.hist(samples, bins=200, label='Gemini Ultra Prediction from Model')\n",
    "estimate_cost_samples = sq.dist_fn(sq.lognorm(actual_gemini_spend/2, actual_gemini_spend*2), fn=np.log10) @ (100*K)\n",
    "plt.hist(estimate_cost_samples, bins=200, label='Gemini Ultra Estimates of cost')\n",
    "plt.xlabel('log $ spent')\n",
    "plt.legend()\n",
    "plt.show()"
   ]
  },
  {
   "cell_type": "markdown",
   "id": "57736d5c-d535-494b-b86d-52ffa8a1f89e",
   "metadata": {},
   "source": [
    "## Model for Largest Training Run in 2024"
   ]
  },
  {
   "cell_type": "code",
   "execution_count": 8,
   "id": "25e74613-62e7-48c2-a79a-a7cfc6875007",
   "metadata": {},
   "outputs": [
    {
     "name": "stdout",
     "output_type": "stream",
     "text": [
      "{1: '1 million',\n",
      " 5: '5 million',\n",
      " 10: '9 million',\n",
      " 20: '20 million',\n",
      " 30: '36 million',\n",
      " 40: '60 million',\n",
      " 50: '95 million',\n",
      " 60: '152 million',\n",
      " 70: '250 million',\n",
      " 80: '436 million',\n",
      " 90: '867 million',\n",
      " 95: '1 billion',\n",
      " 99: '3 billion'}\n"
     ]
    }
   ],
   "source": [
    "largest_openai_model_prediction = lab_spend_on_largest_model_this_year(total_investment=sq.lognorm(10*B, 30*B, credibility=80),\n",
    "                                                                       total_revenue=sq.lognorm(1*B, 5*B, credibility=80),\n",
    "                                                                       percent_investment_spent_this_year=pct_dist(0.05, 0.3),\n",
    "                                                                       percent_revenue_that_is_profit=pct_dist(0.05, 0.4),\n",
    "                                                                       percent_profit_spent_this_year=pct_dist(0.3, 1),\n",
    "                                                                       percent_spend_on_compute=pct_dist(0.3, 0.7),\n",
    "                                                                       percent_compute_on_biggest_model=pct_dist(0.01, 0.7))\n",
    "samples = largest_openai_model_prediction @ (100*K)\n",
    "pprint(dict([(i[0], numerize(10 ** i[1])) for i in sq.get_percentiles(samples).items()]))"
   ]
  },
  {
   "cell_type": "code",
   "execution_count": 9,
   "id": "38a4007a-af42-4862-ae3c-a71081a7faeb",
   "metadata": {},
   "outputs": [
    {
     "name": "stdout",
     "output_type": "stream",
     "text": [
      "{1: '605 thousand',\n",
      " 5: '2 million',\n",
      " 10: '4 million',\n",
      " 20: '9 million',\n",
      " 30: '15 million',\n",
      " 40: '25 million',\n",
      " 50: '40 million',\n",
      " 60: '64 million',\n",
      " 70: '103 million',\n",
      " 80: '180 million',\n",
      " 90: '356 million',\n",
      " 95: '582 million',\n",
      " 99: '1 billion'}\n"
     ]
    }
   ],
   "source": [
    "largest_anthropic_model_prediction = lab_spend_on_largest_model_this_year(total_investment=sq.lognorm(5*B, 10*B, credibility=80),\n",
    "                                                                          total_revenue=sq.lognorm(1*B, 2*B, credibility=80),\n",
    "                                                                          percent_investment_spent_this_year=pct_dist(0.05, 0.3),\n",
    "                                                                          percent_revenue_that_is_profit=pct_dist(0.05, 0.4),\n",
    "                                                                          percent_profit_spent_this_year=pct_dist(0.3, 1),\n",
    "                                                                          percent_spend_on_compute=pct_dist(0.3, 0.7),\n",
    "                                                                          percent_compute_on_biggest_model=pct_dist(0.01, 0.7))\n",
    "samples = largest_anthropic_model_prediction @ (100*K)\n",
    "pprint(dict([(i[0], numerize(10 ** i[1])) for i in sq.get_percentiles(samples).items()]))"
   ]
  },
  {
   "cell_type": "code",
   "execution_count": 10,
   "id": "d3b2804b-2578-4559-bd76-ef92449d9804",
   "metadata": {},
   "outputs": [
    {
     "name": "stdout",
     "output_type": "stream",
     "text": [
      "{1: '6 million',\n",
      " 5: '16 million',\n",
      " 10: '29 million',\n",
      " 20: '59 million',\n",
      " 30: '99 million',\n",
      " 40: '154 million',\n",
      " 50: '231 million',\n",
      " 60: '346 million',\n",
      " 70: '535 million',\n",
      " 80: '886 million',\n",
      " 90: '2 billion',\n",
      " 95: '3 billion',\n",
      " 99: '8 billion'}\n"
     ]
    }
   ],
   "source": [
    "largest_google_model_prediction = bigtech_spend_on_largest_model_this_year(annual_r_and_d_spend=sq.lognorm(22*B, 50*B, credibility=80),\n",
    "                                                                           percent_r_and_d_on_ai=pct_dist(0.1, 0.8),\n",
    "                                                                           percent_ai_spend_on_compute=pct_dist(0.3, 0.7),\n",
    "                                                                           percent_compute_on_biggest_model=pct_dist(0.01, 0.3))\n",
    "samples = largest_google_model_prediction @ (100*K)\n",
    "pprint(dict([(i[0], numerize(10 ** i[1])) for i in sq.get_percentiles(samples).items()]))"
   ]
  },
  {
   "cell_type": "code",
   "execution_count": 11,
   "id": "cec2931c-60f3-4a98-a28b-a41871ce01c7",
   "metadata": {},
   "outputs": [
    {
     "name": "stdout",
     "output_type": "stream",
     "text": [
      "{1: '5 million',\n",
      " 5: '16 million',\n",
      " 10: '29 million',\n",
      " 20: '59 million',\n",
      " 30: '99 million',\n",
      " 40: '154 million',\n",
      " 50: '232 million',\n",
      " 60: '349 million',\n",
      " 70: '538 million',\n",
      " 80: '890 million',\n",
      " 90: '2 billion',\n",
      " 95: '3 billion',\n",
      " 99: '8 billion'}\n"
     ]
    }
   ],
   "source": [
    "largest_microsoft_model_prediction = bigtech_spend_on_largest_model_this_year(annual_r_and_d_spend=sq.lognorm(22*B, 50*B, credibility=80),\n",
    "                                                                              percent_r_and_d_on_ai=pct_dist(0.1, 0.8),\n",
    "                                                                              percent_ai_spend_on_compute=pct_dist(0.3, 0.7),\n",
    "                                                                              percent_compute_on_biggest_model=pct_dist(0.01, 0.3))\n",
    "samples = largest_microsoft_model_prediction @ (100*K)\n",
    "pprint(dict([(i[0], numerize(10 ** i[1])) for i in sq.get_percentiles(samples).items()]))"
   ]
  },
  {
   "cell_type": "code",
   "execution_count": 12,
   "id": "ddacfc86-16f7-423f-8b08-9ebd43e4b92e",
   "metadata": {},
   "outputs": [
    {
     "name": "stdout",
     "output_type": "stream",
     "text": [
      "{1: '6 million',\n",
      " 5: '16 million',\n",
      " 10: '29 million',\n",
      " 20: '60 million',\n",
      " 30: '100 million',\n",
      " 40: '156 million',\n",
      " 50: '233 million',\n",
      " 60: '351 million',\n",
      " 70: '538 million',\n",
      " 80: '895 million',\n",
      " 90: '2 billion',\n",
      " 95: '3 billion',\n",
      " 99: '8 billion'}\n"
     ]
    }
   ],
   "source": [
    "largest_fb_model_prediction = bigtech_spend_on_largest_model_this_year(annual_r_and_d_spend=sq.lognorm(22*B, 50*B, credibility=80),\n",
    "                                                                       percent_r_and_d_on_ai=pct_dist(0.1, 0.8),\n",
    "                                                                       percent_ai_spend_on_compute=pct_dist(0.3, 0.7),\n",
    "                                                                       percent_compute_on_biggest_model=pct_dist(0.01, 0.3))\n",
    "samples = largest_fb_model_prediction @ (100*K)\n",
    "pprint(dict([(i[0], numerize(10 ** i[1])) for i in sq.get_percentiles(samples).items()]))"
   ]
  },
  {
   "cell_type": "code",
   "execution_count": 13,
   "id": "84df882a-b146-4877-8067-9bc6954889ea",
   "metadata": {},
   "outputs": [
    {
     "name": "stdout",
     "output_type": "stream",
     "text": [
      "{1: '100 thousand',\n",
      " 5: '338 thousand',\n",
      " 10: '665 thousand',\n",
      " 20: '1 million',\n",
      " 30: '3 million',\n",
      " 40: '4 million',\n",
      " 50: '7 million',\n",
      " 60: '11 million',\n",
      " 70: '18 million',\n",
      " 80: '32 million',\n",
      " 90: '65 million',\n",
      " 95: '107 million',\n",
      " 99: '242 million'}\n"
     ]
    }
   ],
   "source": [
    "largest_inflection_model_prediction = lab_spend_on_largest_model_this_year(total_investment=sq.lognorm(1*B, 2*B, credibility=80),\n",
    "                                                                           total_revenue=sq.lognorm(10*M, 200*M, credibility=80),\n",
    "                                                                           percent_investment_spent_this_year=pct_dist(0.05, 0.3),\n",
    "                                                                           percent_revenue_that_is_profit=pct_dist(0.05, 0.4),\n",
    "                                                                           percent_profit_spent_this_year=pct_dist(0.3, 1),\n",
    "                                                                           percent_spend_on_compute=pct_dist(0.3, 0.7),\n",
    "                                                                           percent_compute_on_biggest_model=pct_dist(0.01, 0.7))\n",
    "samples = largest_inflection_model_prediction @ (100*K)\n",
    "pprint(dict([(i[0], numerize(10 ** i[1])) for i in sq.get_percentiles(samples).items()]))"
   ]
  },
  {
   "cell_type": "code",
   "execution_count": 14,
   "id": "82764011-02f2-4baa-8bb7-8fd511549695",
   "metadata": {},
   "outputs": [
    {
     "name": "stdout",
     "output_type": "stream",
     "text": [
      "{1: '2 thousand',\n",
      " 5: '8 thousand',\n",
      " 10: '18 thousand',\n",
      " 20: '46 thousand',\n",
      " 30: '99 thousand',\n",
      " 40: '210 thousand',\n",
      " 50: '494 thousand',\n",
      " 60: '1 million',\n",
      " 70: '5 million',\n",
      " 80: '22 million',\n",
      " 90: '133 million',\n",
      " 95: '388 million',\n",
      " 99: '1 billion'}\n"
     ]
    }
   ],
   "source": [
    "us_gov_prediction = sq.mixture([[0.6, sq.norm(4, 6, credibility=80)],\n",
    "                                [0.3, sq.norm(6, 8, credibility=80)],\n",
    "                                [0.1, bigtech_spend_on_largest_model_this_year(annual_r_and_d_spend=sq.lognorm(1*B, 10*B, credibility=80),\n",
    "                                                                               percent_r_and_d_on_ai=1,\n",
    "                                                                               percent_ai_spend_on_compute=pct_dist(0.3, 0.7),\n",
    "                                                                               percent_compute_on_biggest_model=pct_dist(0.1, 0.5))]])\n",
    "samples = us_gov_prediction @ (100*K)\n",
    "pprint(dict([(i[0], numerize(10 ** i[1])) for i in sq.get_percentiles(samples).items()]))\n"
   ]
  },
  {
   "cell_type": "code",
   "execution_count": 15,
   "id": "088a26c7-75b4-4abc-bf37-562e6cf748fb",
   "metadata": {},
   "outputs": [
    {
     "name": "stdout",
     "output_type": "stream",
     "text": [
      "{1: '32 million',\n",
      " 5: '100 million',\n",
      " 10: '100 million',\n",
      " 20: '100 million',\n",
      " 30: '100 million',\n",
      " 40: '131 million',\n",
      " 50: '207 million',\n",
      " 60: '333 million',\n",
      " 70: '563 million',\n",
      " 80: '1 billion',\n",
      " 90: '3 billion',\n",
      " 95: '5 billion',\n",
      " 99: '19 billion'}\n"
     ]
    }
   ],
   "source": [
    "uk_gov_prediction = sq.mixture([[0.6, sq.norm(7, 9, lclip=8)],\n",
    "                                [0.4, bigtech_spend_on_largest_model_this_year(annual_r_and_d_spend=sq.lognorm(10*B, 100*B, credibility=80),\n",
    "                                                                               percent_r_and_d_on_ai=1,\n",
    "                                                                               percent_ai_spend_on_compute=pct_dist(0.3, 0.7),\n",
    "                                                                               percent_compute_on_biggest_model=pct_dist(0.01, 0.3))]])\n",
    "samples = uk_gov_prediction @ (100*K)\n",
    "pprint(dict([(i[0], numerize(10 ** i[1])) for i in sq.get_percentiles(samples).items()]))"
   ]
  },
  {
   "cell_type": "code",
   "execution_count": 16,
   "id": "55f2a147-7359-4612-9328-adef911326ed",
   "metadata": {},
   "outputs": [
    {
     "name": "stdout",
     "output_type": "stream",
     "text": [
      "{1: 1.0,\n",
      " 5: '1 million',\n",
      " 10: '2 million',\n",
      " 20: '4 million',\n",
      " 30: '8 million',\n",
      " 40: '16 million',\n",
      " 50: '32 million',\n",
      " 60: '85 million',\n",
      " 70: '276 million',\n",
      " 80: '786 million',\n",
      " 90: '2 billion',\n",
      " 95: '5 billion',\n",
      " 99: '18 billion'}\n"
     ]
    }
   ],
   "source": [
    "china_gov_prediction = sq.mixture([[0.05, 0],\n",
    "                                   [0.55, sq.norm(6, 8, lclip=6)],\n",
    "                                   [0.4, bigtech_spend_on_largest_model_this_year(annual_r_and_d_spend=sq.lognorm(10*B, 100*B, credibility=80),\n",
    "                                                                                  percent_r_and_d_on_ai=1,\n",
    "                                                                                  percent_ai_spend_on_compute=pct_dist(0.3, 0.7),\n",
    "                                                                                  percent_compute_on_biggest_model=pct_dist(0.01, 0.3))]])\n",
    "\n",
    "# Adjust China's \"effective US-equivalent\" spend by export controls and other things\n",
    "# china_gov_prediction = sq.dist_max(0, china_gov_prediction - sq.norm(0.1, 0.5, lclip=0.05, rclip=1))\n",
    "\n",
    "samples = china_gov_prediction @ (100*K)\n",
    "pprint(dict([(i[0], numerize(10 ** i[1])) for i in sq.get_percentiles(samples).items()]))"
   ]
  },
  {
   "cell_type": "code",
   "execution_count": 17,
   "id": "0384186e-0dd6-4001-ab99-fb42ff98ee74",
   "metadata": {},
   "outputs": [
    {
     "name": "stdout",
     "output_type": "stream",
     "text": [
      "{1: '34 million',\n",
      " 5: '100 million',\n",
      " 10: '100 million',\n",
      " 20: '100 million',\n",
      " 30: '100 million',\n",
      " 40: '132 million',\n",
      " 50: '206 million',\n",
      " 60: '333 million',\n",
      " 70: '564 million',\n",
      " 80: '1 billion',\n",
      " 90: '3 billion',\n",
      " 95: '5 billion',\n",
      " 99: '19 billion'}\n"
     ]
    }
   ],
   "source": [
    "uae_gov_prediction = sq.mixture([[0.6, sq.norm(7, 9, lclip=8)],\n",
    "                                 [0.4, bigtech_spend_on_largest_model_this_year(annual_r_and_d_spend=sq.lognorm(10*B, 100*B, credibility=80),\n",
    "                                                                                percent_r_and_d_on_ai=1,\n",
    "                                                                                percent_ai_spend_on_compute=pct_dist(0.3, 0.7),\n",
    "                                                                                percent_compute_on_biggest_model=pct_dist(0.01, 0.3))]])\n",
    "samples = uk_gov_prediction @ (100*K)\n",
    "pprint(dict([(i[0], numerize(10 ** i[1])) for i in sq.get_percentiles(samples).items()]))"
   ]
  },
  {
   "cell_type": "code",
   "execution_count": 18,
   "id": "ecd02af7-4aee-44ec-afc5-b00b1335ff68",
   "metadata": {},
   "outputs": [
    {
     "name": "stdout",
     "output_type": "stream",
     "text": [
      "{1: '215 million',\n",
      " 5: '395 million',\n",
      " 10: '553 million',\n",
      " 20: '843 million',\n",
      " 30: '1 billion',\n",
      " 40: '2 billion',\n",
      " 50: '2 billion',\n",
      " 60: '3 billion',\n",
      " 70: '4 billion',\n",
      " 80: '5 billion',\n",
      " 90: '9 billion',\n",
      " 95: '14 billion',\n",
      " 99: '34 billion'}\n"
     ]
    }
   ],
   "source": [
    "mixed_model = (largest_openai_model_prediction >>\n",
    "               sq.dist_max(largest_anthropic_model_prediction) >>\n",
    "               sq.dist_max(largest_inflection_model_prediction) >>\n",
    "               sq.dist_max(largest_google_model_prediction) >>\n",
    "               sq.dist_max(largest_microsoft_model_prediction) >>\n",
    "               sq.dist_max(largest_fb_model_prediction) >>\n",
    "               sq.dist_max(us_gov_prediction) >>\n",
    "               sq.dist_max(uk_gov_prediction) >>\n",
    "               sq.dist_max(uae_gov_prediction) >>\n",
    "               sq.dist_max(china_gov_prediction))\n",
    "pprint(dict([(i[0], numerize(10 ** i[1])) for i in sq.get_percentiles(mixed_model @ (100*K)).items()]))"
   ]
  },
  {
   "cell_type": "code",
   "execution_count": 19,
   "id": "980b3ce6-098f-4295-86d2-24f239b349ab",
   "metadata": {},
   "outputs": [
    {
     "data": {
      "text/plain": [
       "{'Google': '14.4%',\n",
       " 'UKGov': '17.0%',\n",
       " 'Meta': '14.2%',\n",
       " 'Microsoft': '14.2%',\n",
       " 'ChinaGov': '13.8%',\n",
       " 'USGov': '1.4%',\n",
       " 'OpenAI': '6.3%',\n",
       " 'UAEGov': '17.0%',\n",
       " 'Anthropic': '1.7%',\n",
       " 'Inflection': '0.1%'}"
      ]
     },
     "execution_count": 19,
     "metadata": {},
     "output_type": "execute_result"
    }
   ],
   "source": [
    "from collections import Counter\n",
    "\n",
    "models = [['OpenAI', largest_openai_model_prediction],\n",
    "          ['Anthropic', largest_anthropic_model_prediction],\n",
    "          ['Inflection', largest_inflection_model_prediction],\n",
    "          ['Google', largest_google_model_prediction],\n",
    "          ['Microsoft', largest_microsoft_model_prediction],\n",
    "          ['Meta', largest_fb_model_prediction],\n",
    "          ['USGov', us_gov_prediction],\n",
    "          ['UKGov', uk_gov_prediction],\n",
    "          ['UAEGov', uae_gov_prediction],\n",
    "          ['ChinaGov', china_gov_prediction]]\n",
    "\n",
    "labels = [m[0] for m in models]\n",
    "max_indices = np.argmax([m[1] @ 100_000 for m in models], axis=0)\n",
    "max_labels = [labels[i] for i in max_indices]\n",
    "label_counts = Counter(max_labels)\n",
    "label_percentages = {label: f\"{round((count / 100_000) * 100, 1)}%\" for label, count in Counter(max_labels).items()}\n",
    "label_percentages"
   ]
  },
  {
   "cell_type": "markdown",
   "id": "dfc4147d-984b-4a74-abfe-fe6e6080daf4",
   "metadata": {},
   "source": [
    "## Cache spend model"
   ]
  },
  {
   "cell_type": "code",
   "execution_count": 20,
   "id": "d9756696-d62a-47d2-8ac7-628d22f9f76e",
   "metadata": {},
   "outputs": [
    {
     "name": "stderr",
     "output_type": "stream",
     "text": [
      "100%|████████████████████████████████████████████████████████████████████████████████████████████████████████████████████████████████████████████████████████████████████████| 3/3 [00:00<00:00, 624.06it/s]\n",
      "100%|████████████████████████████████████████████████████████████████████████████████████████████████████████████████████████████████████████████████████████████| 40000/40000 [00:00<00:00, 2603500.26it/s]\n",
      "100%|████████████████████████████████████████████████████████████████████████████████████████████████████████████████████████████████████████████████████████████████████████| 2/2 [00:00<00:00, 521.78it/s]\n",
      "100%|████████████████████████████████████████████████████████████████████████████████████████████████████████████████████████████████████████████████████████████| 40000/40000 [00:00<00:00, 2829257.83it/s]\n",
      "100%|████████████████████████████████████████████████████████████████████████████████████████████████████████████████████████████████████████████████████████████████████████| 2/2 [00:00<00:00, 585.84it/s]\n",
      "100%|████████████████████████████████████████████████████████████████████████████████████████████████████████████████████████████████████████████████████████████| 40000/40000 [00:00<00:00, 2873155.34it/s]\n",
      "100%|████████████████████████████████████████████████████████████████████████████████████████████████████████████████████████████████████████████████████████████████████████| 3/3 [00:00<00:00, 419.88it/s]\n",
      "100%|████████████████████████████████████████████████████████████████████████████████████████████████████████████████████████████████████████████████████████████| 40000/40000 [00:00<00:00, 2471417.25it/s]\n"
     ]
    },
    {
     "name": "stdout",
     "output_type": "stream",
     "text": [
      "Writing cache to file `caches/initial_pay.sqcache.npy`...\n",
      "...Cached\n",
      "{1: 8.3,\n",
      " 5: 8.6,\n",
      " 10: 8.7,\n",
      " 20: 8.9,\n",
      " 30: 9.1,\n",
      " 40: 9.2,\n",
      " 50: 9.3,\n",
      " 60: 9.4,\n",
      " 70: 9.6,\n",
      " 80: 9.7,\n",
      " 90: 10.0,\n",
      " 95: 10.2,\n",
      " 99: 10.5}\n"
     ]
    },
    {
     "data": {
      "image/png": "[encoded data removed]",
      "text/plain": [
       "<Figure size 640x480 with 1 Axes>"
      ]
     },
     "metadata": {},
     "output_type": "display_data"
    }
   ],
   "source": [
    "# Output expected willingness to pay for a model in 2024, using log 2022$USD\n",
    "log_initial_pay_samples = sq.sample(mixed_model, dump_cache_file='caches/initial_pay', n=40000, verbose=True)\n",
    "pprint(sq.get_percentiles(log_initial_pay_samples, digits=1))\n",
    "plt.hist(log_initial_pay_samples, bins=200)\n",
    "plt.show()"
   ]
  },
  {
   "cell_type": "code",
   "execution_count": 21,
   "id": "935ff707-72f4-4eb4-a327-439b711f91d6",
   "metadata": {},
   "outputs": [
    {
     "name": "stdout",
     "output_type": "stream",
     "text": [
      "File last ran: 2023-12-27 16:39:31.628556\n"
     ]
    }
   ],
   "source": [
    "print('File last ran: {}'.format(dt.now()))"
   ]
  }
 ],
 "metadata": {
  "kernelspec": {
   "display_name": "Python 3 (ipykernel)",
   "language": "python",
   "name": "python3"
  },
  "language_info": {
   "codemirror_mode": {
    "name": "ipython",
    "version": 3
   },
   "file_extension": ".py",
   "mimetype": "text/x-python",
   "name": "python",
   "nbconvert_exporter": "python",
   "pygments_lexer": "ipython3",
   "version": "3.11.6"
  }
 },
 "nbformat": 4,
 "nbformat_minor": 5
}
