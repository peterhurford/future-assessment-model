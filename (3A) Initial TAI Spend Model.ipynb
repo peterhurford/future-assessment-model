{
 "cells": [
  {
   "cell_type": "code",
   "execution_count": 1,
   "id": "5ac6fd9f-ba15-4177-b363-cd62b7b638d0",
   "metadata": {},
   "outputs": [
    {
     "name": "stdout",
     "output_type": "stream",
     "text": [
      "Loaded\n"
     ]
    }
   ],
   "source": [
    "import math\n",
    "import random\n",
    "import numpy as np\n",
    "import squigglepy as sq\n",
    "from squigglepy.numbers import K, M, B\n",
    "import matplotlib.pyplot as plt\n",
    "\n",
    "from copy import copy, deepcopy\n",
    "from scipy import stats\n",
    "from pprint import pprint\n",
    "\n",
    "exec(open('utils.py').read())\n",
    "print('Loaded')"
   ]
  },
  {
   "cell_type": "code",
   "execution_count": 2,
   "id": "714ccadd-8b56-4203-ab64-a957efa7e0e4",
   "metadata": {},
   "outputs": [
    {
     "name": "stdout",
     "output_type": "stream",
     "text": [
      "{1: '432 thousand',\n",
      " 5: '827 thousand',\n",
      " 10: '1 million',\n",
      " 20: '2 million',\n",
      " 30: '2 million',\n",
      " 40: '3 million',\n",
      " 50: '4 million',\n",
      " 60: '5 million',\n",
      " 70: '7 million',\n",
      " 80: '9 million',\n",
      " 90: '13 million',\n",
      " 95: '19 million',\n",
      " 99: '35 million'}\n",
      "-\n",
      "Actual spend is at the 29.9th percentile of the model\n"
     ]
    }
   ],
   "source": [
    "def pct_dist(a, b):\n",
    "    return sq.lognorm(a, b, lclip=0.001, rclip=1, credibility=80) \n",
    "\n",
    "\n",
    "def openai_spend_on_largest_model_this_year(total_investment,\n",
    "                                            percent_investment_spent_this_year,\n",
    "                                            percent_spend_on_compute,\n",
    "                                            percent_compute_on_biggest_model):\n",
    "    return sq.dist_fn(total_investment * percent_investment_spent_this_year * percent_spend_on_compute * percent_compute_on_biggest_model,\n",
    "                      fn=np.log10)\n",
    "\n",
    "\n",
    "gpt3_prediction = openai_spend_on_largest_model_this_year(total_investment=1*B,\n",
    "                                                          percent_investment_spent_this_year=pct_dist(0.05, 0.3),\n",
    "                                                          percent_spend_on_compute=pct_dist(0.2, 0.7),\n",
    "                                                          percent_compute_on_biggest_model=pct_dist(0.05, 0.15))\n",
    "\n",
    "\n",
    "samples = gpt3_prediction @ (100*K)\n",
    "\n",
    "# See: https://docs.google.com/spreadsheets/d/1cLzO_tX9b4z6URKLFvzc0MtsN4GrftkFZuv1bCxeWVY/edit#gid=555410569\n",
    "actual_gpt3_spend = 2.4*M\n",
    "\n",
    "pprint(dict([(i[0], numerize(10 ** i[1])) for i in sq.get_percentiles(samples).items()]))\n",
    "print('-')\n",
    "print('Actual spend is at the {}th percentile of the model'.format(round(np.mean([s <= np.log10(actual_gpt3_spend) for s in samples]) * 100, 1)))\n"
   ]
  },
  {
   "cell_type": "code",
   "execution_count": 3,
   "id": "af2228bc-0982-4e39-98c1-17eeae33eae0",
   "metadata": {},
   "outputs": [
    {
     "name": "stdout",
     "output_type": "stream",
     "text": [
      "{1: '4 million',\n",
      " 5: '9 million',\n",
      " 10: '13 million',\n",
      " 20: '21 million',\n",
      " 30: '30 million',\n",
      " 40: '40 million',\n",
      " 50: '52 million',\n",
      " 60: '67 million',\n",
      " 70: '89 million',\n",
      " 80: '124 million',\n",
      " 90: '194 million',\n",
      " 95: '281 million',\n",
      " 99: '559 million'}\n"
     ]
    }
   ],
   "source": [
    "# OpenAI has 375 people as of 2023 Jan per https://twitter.com/sama/status/1617627882997813248\n",
    "# if we assume it costs $500K per person and that payroll is half of non-compute costs, that means $375M per year is spent\n",
    "largest_openai_model_2023_prediction = openai_spend_on_largest_model_this_year(total_investment=10*B,\n",
    "                                                                               percent_investment_spent_this_year=pct_dist(0.05, 0.3),\n",
    "                                                                               percent_spend_on_compute=pct_dist(0.2, 0.9),\n",
    "                                                                               percent_compute_on_biggest_model=pct_dist(0.05, 0.2))\n",
    "samples = largest_openai_model_2023_prediction @ (100*K)\n",
    "pprint(dict([(i[0], numerize(10 ** i[1])) for i in sq.get_percentiles(samples).items()]))"
   ]
  },
  {
   "cell_type": "code",
   "execution_count": 4,
   "id": "3677b910-9753-4b06-a97e-751d408a5b29",
   "metadata": {},
   "outputs": [
    {
     "name": "stdout",
     "output_type": "stream",
     "text": [
      "{1: '498 thousand',\n",
      " 5: '1 million',\n",
      " 10: '1 million',\n",
      " 20: '2 million',\n",
      " 30: '3 million',\n",
      " 40: '4 million',\n",
      " 50: '5 million',\n",
      " 60: '7 million',\n",
      " 70: '9 million',\n",
      " 80: '13 million',\n",
      " 90: '19 million',\n",
      " 95: '27 million',\n",
      " 99: '48 million'}\n"
     ]
    }
   ],
   "source": [
    "# https://www.nytimes.com/2023/01/27/technology/anthropic-ai-funding.html\n",
    "largest_anthropic_model_2023_prediction = openai_spend_on_largest_model_this_year(total_investment=300*M,\n",
    "                                                                                  percent_investment_spent_this_year=pct_dist(0.1, 0.3),\n",
    "                                                                                  percent_spend_on_compute=pct_dist(0.2, 0.8),\n",
    "                                                                                  percent_compute_on_biggest_model=pct_dist(0.1, 0.7))\n",
    "samples = largest_anthropic_model_2023_prediction @ (100*K)\n",
    "pprint(dict([(i[0], numerize(10 ** i[1])) for i in sq.get_percentiles(samples).items()]))"
   ]
  },
  {
   "cell_type": "code",
   "execution_count": 5,
   "id": "88369903-7a10-4acb-b0ea-50b3f347c3b5",
   "metadata": {},
   "outputs": [
    {
     "name": "stdout",
     "output_type": "stream",
     "text": [
      "{1: '381 thousand',\n",
      " 5: '1 million',\n",
      " 10: '2 million',\n",
      " 20: '4 million',\n",
      " 30: '7 million',\n",
      " 40: '12 million',\n",
      " 50: '20 million',\n",
      " 60: '34 million',\n",
      " 70: '60 million',\n",
      " 80: '117 million',\n",
      " 90: '289 million',\n",
      " 95: '602 million',\n",
      " 99: '2 billion'}\n"
     ]
    }
   ],
   "source": [
    "def google_spend_on_largest_model_this_year(annual_r_and_d_spend,\n",
    "                                            percent_r_and_d_on_ai,\n",
    "                                            percent_ai_spend_on_compute,\n",
    "                                            percent_compute_on_biggest_model):\n",
    "    return sq.dist_fn(annual_r_and_d_spend *\n",
    "                      percent_r_and_d_on_ai *\n",
    "                      percent_ai_spend_on_compute *\n",
    "                      percent_compute_on_biggest_model, fn=np.log10)\n",
    "\n",
    "\n",
    "largest_google_model_2023_prediction = google_spend_on_largest_model_this_year(annual_r_and_d_spend=sq.norm(22*B, 40*B, lclip=20*B),\n",
    "                                                                               percent_r_and_d_on_ai=pct_dist(0.05, 0.5),\n",
    "                                                                               percent_ai_spend_on_compute=pct_dist(0.2, 0.9),\n",
    "                                                                               percent_compute_on_biggest_model=pct_dist(0.001, 0.1))\n",
    "samples = largest_google_model_2023_prediction @ (100*K)\n",
    "pprint(dict([(i[0], numerize(10 ** i[1])) for i in sq.get_percentiles(samples).items()]))"
   ]
  },
  {
   "cell_type": "code",
   "execution_count": 6,
   "id": "887170c8-35b9-476d-9d4d-7ab7c87b4051",
   "metadata": {},
   "outputs": [
    {
     "name": "stdout",
     "output_type": "stream",
     "text": [
      "{1: '391 thousand',\n",
      " 5: '847 thousand',\n",
      " 10: '1 million',\n",
      " 20: '3 million',\n",
      " 30: '5 million',\n",
      " 40: '8 million',\n",
      " 50: '13 million',\n",
      " 60: '21 million',\n",
      " 70: '36 million',\n",
      " 80: '67 million',\n",
      " 90: '159 million',\n",
      " 95: '319 million',\n",
      " 99: '1 billion'}\n"
     ]
    }
   ],
   "source": [
    "largest_fb_model_2023_prediction = google_spend_on_largest_model_this_year(annual_r_and_d_spend=sq.norm(22*B, 40*B, lclip=20*B),\n",
    "                                                                           percent_r_and_d_on_ai=pct_dist(0.05, 0.2),\n",
    "                                                                           percent_ai_spend_on_compute=pct_dist(0.2, 0.9),\n",
    "                                                                           percent_compute_on_biggest_model=pct_dist(0.001, 0.1))\n",
    "samples = largest_fb_model_2023_prediction @ (100*K)\n",
    "pprint(dict([(i[0], numerize(10 ** i[1])) for i in sq.get_percentiles(samples).items()]))"
   ]
  },
  {
   "cell_type": "code",
   "execution_count": 7,
   "id": "b8d2d6dd-3dca-4011-b619-1bdfc5c8c471",
   "metadata": {},
   "outputs": [
    {
     "data": {
      "text/plain": [
       "<Distribution> max(max(max(log10(10000000000 * lognorm(mean=-2.1, sd=0.7, lclip=0.001, rclip=1) * lognorm(mean=-0.86, sd=0.59, lclip=0.001, rclip=1) * lognorm(mean=-2.3, sd=0.54, lclip=0.001, rclip=1)), log10(300000000 * lognorm(mean=-1.75, sd=0.43, lclip=0.001, rclip=1) * lognorm(mean=-0.92, sd=0.54, lclip=0.001, rclip=1) * lognorm(mean=-1.33, sd=0.76, lclip=0.001, rclip=1))), log10(norm(mean=31000000000.0, sd=5471611487.21, lclip=20000000000) * lognorm(mean=-1.84, sd=0.9, lclip=0.001, rclip=1) * lognorm(mean=-0.86, sd=0.59, lclip=0.001, rclip=1) * lognorm(mean=-4.61, sd=1.8, lclip=0.001, rclip=1))), log10(norm(mean=31000000000.0, sd=5471611487.21, lclip=20000000000) * lognorm(mean=-2.3, sd=0.54, lclip=0.001, rclip=1) * lognorm(mean=-0.86, sd=0.59, lclip=0.001, rclip=1) * lognorm(mean=-4.61, sd=1.8, lclip=0.001, rclip=1)))"
      ]
     },
     "execution_count": 7,
     "metadata": {},
     "output_type": "execute_result"
    }
   ],
   "source": [
    "mixed_model = (largest_openai_model_2023_prediction >>\n",
    "               sq.dist_max(largest_anthropic_model_2023_prediction) >>\n",
    "               sq.dist_max(largest_google_model_2023_prediction) >>\n",
    "               sq.dist_max(largest_fb_model_2023_prediction))\n",
    "mixed_model"
   ]
  },
  {
   "cell_type": "code",
   "execution_count": 8,
   "id": "bdfe096a-eb5e-4ba9-b908-d0452e9244a3",
   "metadata": {},
   "outputs": [
    {
     "name": "stdout",
     "output_type": "stream",
     "text": [
      "{1: '11 million',\n",
      " 5: '20 million',\n",
      " 10: '28 million',\n",
      " 20: '43 million',\n",
      " 30: '59 million',\n",
      " 40: '78 million',\n",
      " 50: '103 million',\n",
      " 60: '136 million',\n",
      " 70: '187 million',\n",
      " 80: '276 million',\n",
      " 90: '504 million',\n",
      " 95: '885 million',\n",
      " 99: '3 billion'}\n"
     ]
    }
   ],
   "source": [
    "pprint(dict([(i[0], numerize(10 ** i[1])) for i in sq.get_percentiles(mixed_model @ (100*K)).items()]))"
   ]
  },
  {
   "cell_type": "code",
   "execution_count": 12,
   "id": "d9756696-d62a-47d2-8ac7-628d22f9f76e",
   "metadata": {},
   "outputs": [
    {
     "name": "stdout",
     "output_type": "stream",
     "text": [
      "Writing cache to file `caches/initial_pay.sqcache.npy`...\n",
      "...Cached\n",
      "{1: 7.0,\n",
      " 5: 7.3,\n",
      " 10: 7.4,\n",
      " 20: 7.6,\n",
      " 30: 7.8,\n",
      " 40: 7.9,\n",
      " 50: 8.0,\n",
      " 60: 8.1,\n",
      " 70: 8.3,\n",
      " 80: 8.4,\n",
      " 90: 8.7,\n",
      " 95: 8.9,\n",
      " 99: 9.4}\n"
     ]
    },
    {
     "data": {
      "image/png": "[encoded data removed]",
      "text/plain": [
       "<Figure size 640x480 with 1 Axes>"
      ]
     },
     "metadata": {},
     "output_type": "display_data"
    }
   ],
   "source": [
    "log_initial_pay_samples = sq.sample(mixed_model, dump_cache_file='caches/initial_pay', n=40000, verbose=True)\n",
    "pprint(sq.get_percentiles(log_initial_pay_samples, digits=1))\n",
    "plt.hist(log_initial_pay_samples, bins=200)\n",
    "plt.show()"
   ]
  }
 ],
 "metadata": {
  "kernelspec": {
   "display_name": "Python 3 (ipykernel)",
   "language": "python",
   "name": "python3"
  },
  "language_info": {
   "codemirror_mode": {
    "name": "ipython",
    "version": 3
   },
   "file_extension": ".py",
   "mimetype": "text/x-python",
   "name": "python",
   "nbconvert_exporter": "python",
   "pygments_lexer": "ipython3",
   "version": "3.9.15"
  }
 },
 "nbformat": 4,
 "nbformat_minor": 5
}
