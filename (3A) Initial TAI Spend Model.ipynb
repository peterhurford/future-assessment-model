{
 "cells": [
  {
   "cell_type": "code",
   "execution_count": 1,
   "id": "5ac6fd9f-ba15-4177-b363-cd62b7b638d0",
   "metadata": {},
   "outputs": [
    {
     "name": "stdout",
     "output_type": "stream",
     "text": [
      "Loaded\n",
      "Loaded\n"
     ]
    }
   ],
   "source": [
    "import math\n",
    "import random\n",
    "import numpy as np\n",
    "import squigglepy as sq\n",
    "from squigglepy.numbers import K, M, B, T\n",
    "import matplotlib.pyplot as plt\n",
    "\n",
    "from copy import copy, deepcopy\n",
    "from scipy import stats\n",
    "from pprint import pprint\n",
    "from datetime import datetime as dt\n",
    "\n",
    "exec(open('utils.py').read())\n",
    "print('Loaded')\n",
    "\n",
    "\n",
    "def pct_dist(a, b):\n",
    "    return sq.lognorm(a, b, lclip=0.001, rclip=1, credibility=80) \n",
    "\n",
    "\n",
    "def lab_spend_on_largest_model_this_year(total_investment,\n",
    "                                         percent_investment_spent_this_year,\n",
    "                                         percent_spend_on_compute,\n",
    "                                         percent_compute_on_biggest_model):\n",
    "    return sq.dist_fn(total_investment * percent_investment_spent_this_year * percent_spend_on_compute * percent_compute_on_biggest_model,\n",
    "                      fn=np.log10)\n",
    "\n",
    "\n",
    "def bigtech_spend_on_largest_model_this_year(annual_r_and_d_spend,\n",
    "                                             percent_r_and_d_on_ai,\n",
    "                                             percent_ai_spend_on_compute,\n",
    "                                             percent_compute_on_biggest_model):\n",
    "    return sq.dist_fn(annual_r_and_d_spend *\n",
    "                      percent_r_and_d_on_ai *\n",
    "                      percent_ai_spend_on_compute *\n",
    "                      percent_compute_on_biggest_model, fn=np.log10)\n",
    "\n",
    "print('Loaded')"
   ]
  },
  {
   "cell_type": "markdown",
   "id": "3966d6e9-b30c-4055-ae39-e3837846e638",
   "metadata": {},
   "source": [
    "## GPT3 Prediction (for calibration)"
   ]
  },
  {
   "cell_type": "code",
   "execution_count": 2,
   "id": "714ccadd-8b56-4203-ab64-a957efa7e0e4",
   "metadata": {},
   "outputs": [
    {
     "name": "stdout",
     "output_type": "stream",
     "text": [
      "{1: '209 thousand',\n",
      " 5: '506 thousand',\n",
      " 10: '819 thousand',\n",
      " 20: '1 million',\n",
      " 30: '2 million',\n",
      " 40: '3 million',\n",
      " 50: '4 million',\n",
      " 60: '6 million',\n",
      " 70: '9 million',\n",
      " 80: '13 million',\n",
      " 90: '23 million',\n",
      " 95: '37 million',\n",
      " 99: '85 million'}\n",
      "-\n",
      "Actual spend is at the 32.4th percentile of the model\n"
     ]
    }
   ],
   "source": [
    "gpt3_prediction = lab_spend_on_largest_model_this_year(total_investment=1*B,\n",
    "                                                       percent_investment_spent_this_year=pct_dist(0.05, 0.3),\n",
    "                                                       percent_spend_on_compute=pct_dist(0.3, 0.7),\n",
    "                                                       percent_compute_on_biggest_model=pct_dist(0.02, 0.3))\n",
    "samples = gpt3_prediction @ (100*K)\n",
    "\n",
    "# See: https://docs.google.com/spreadsheets/d/1cLzO_tX9b4z6URKLFvzc0MtsN4GrftkFZuv1bCxeWVY/edit#gid=555410569\n",
    "actual_gpt3_spend = 2.4*M\n",
    "\n",
    "pprint(dict([(i[0], numerize(10 ** i[1])) for i in sq.get_percentiles(samples).items()]))\n",
    "print('-')\n",
    "print('Actual spend is at the {}th percentile of the model'.format(round(np.mean([s <= np.log10(actual_gpt3_spend) for s in samples]) * 100, 1)))\n"
   ]
  },
  {
   "cell_type": "markdown",
   "id": "50d03f90-701f-426e-b606-3c2384504c89",
   "metadata": {},
   "source": [
    "## GPT4 Prediction (for calibration)"
   ]
  },
  {
   "cell_type": "code",
   "execution_count": 3,
   "id": "93a20b0d-ef6f-4ce7-980d-29a9bdf4be65",
   "metadata": {},
   "outputs": [
    {
     "name": "stdout",
     "output_type": "stream",
     "text": [
      "{1: '2 million',\n",
      " 5: '5 million',\n",
      " 10: '8 million',\n",
      " 20: '15 million',\n",
      " 30: '22 million',\n",
      " 40: '31 million',\n",
      " 50: '44 million',\n",
      " 60: '61 million',\n",
      " 70: '87 million',\n",
      " 80: '132 million',\n",
      " 90: '233 million',\n",
      " 95: '371 million',\n",
      " 99: '860 million'}\n",
      "-\n",
      "Actual spend is at the 47.3th percentile of the model\n"
     ]
    }
   ],
   "source": [
    "gpt4_prediction = lab_spend_on_largest_model_this_year(total_investment=10*B,\n",
    "                                                       percent_investment_spent_this_year=pct_dist(0.05, 0.3),\n",
    "                                                       percent_spend_on_compute=pct_dist(0.3, 0.7),\n",
    "                                                       percent_compute_on_biggest_model=pct_dist(0.02, 0.3))\n",
    "samples = gpt4_prediction @ (100*K)\n",
    "\n",
    "# See: https://epochai.org/trends\n",
    "actual_gpt4_spend = 40*M\n",
    "\n",
    "pprint(dict([(i[0], numerize(10 ** i[1])) for i in sq.get_percentiles(samples).items()]))\n",
    "print('-')\n",
    "print('Actual spend is at the {}th percentile of the model'.format(round(np.mean([s <= np.log10(actual_gpt4_spend) for s in samples]) * 100, 1)))\n"
   ]
  },
  {
   "cell_type": "markdown",
   "id": "57736d5c-d535-494b-b86d-52ffa8a1f89e",
   "metadata": {},
   "source": [
    "## 2023 Spend Model"
   ]
  },
  {
   "cell_type": "code",
   "execution_count": 4,
   "id": "af2228bc-0982-4e39-98c1-17eeae33eae0",
   "metadata": {},
   "outputs": [
    {
     "name": "stdout",
     "output_type": "stream",
     "text": [
      "{1: '2 million',\n",
      " 5: '5 million',\n",
      " 10: '8 million',\n",
      " 20: '14 million',\n",
      " 30: '22 million',\n",
      " 40: '31 million',\n",
      " 50: '43 million',\n",
      " 60: '60 million',\n",
      " 70: '86 million',\n",
      " 80: '131 million',\n",
      " 90: '231 million',\n",
      " 95: '370 million',\n",
      " 99: '865 million'}\n"
     ]
    }
   ],
   "source": [
    "# OpenAI has 375 people as of 2023 Jan per https://twitter.com/sama/status/1617627882997813248\n",
    "# if we assume it costs $500K per person and that payroll is half of non-compute costs, that means $375M per year is spent\n",
    "largest_openai_model_2023_prediction = lab_spend_on_largest_model_this_year(total_investment=10*B,\n",
    "                                                                            percent_investment_spent_this_year=pct_dist(0.05, 0.3),\n",
    "                                                                            percent_spend_on_compute=pct_dist(0.3, 0.7),\n",
    "                                                                            percent_compute_on_biggest_model=pct_dist(0.02, 0.3))\n",
    "samples = largest_openai_model_2023_prediction @ (100*K)\n",
    "pprint(dict([(i[0], numerize(10 ** i[1])) for i in sq.get_percentiles(samples).items()]))"
   ]
  },
  {
   "cell_type": "code",
   "execution_count": 5,
   "id": "3677b910-9753-4b06-a97e-751d408a5b29",
   "metadata": {},
   "outputs": [
    {
     "name": "stdout",
     "output_type": "stream",
     "text": [
      "{1: '393 thousand',\n",
      " 5: '879 thousand',\n",
      " 10: '1 million',\n",
      " 20: '2 million',\n",
      " 30: '3 million',\n",
      " 40: '5 million',\n",
      " 50: '6 million',\n",
      " 60: '8 million',\n",
      " 70: '11 million',\n",
      " 80: '17 million',\n",
      " 90: '28 million',\n",
      " 95: '43 million',\n",
      " 99: '92 million'}\n"
     ]
    }
   ],
   "source": [
    "# https://www.nytimes.com/2023/01/27/technology/anthropic-ai-funding.html\n",
    "# https://techcrunch.com/2023/04/06/anthropics-5b-4-year-plan-to-take-on-openai/\n",
    "largest_anthropic_model_2023_prediction = lab_spend_on_largest_model_this_year(total_investment=1*B,\n",
    "                                                                               percent_investment_spent_this_year=pct_dist(0.1, 0.3),\n",
    "                                                                               percent_spend_on_compute=pct_dist(0.3, 0.7),\n",
    "                                                                               percent_compute_on_biggest_model=pct_dist(0.02, 0.3))\n",
    "samples = largest_anthropic_model_2023_prediction @ (100*K)\n",
    "pprint(dict([(i[0], numerize(10 ** i[1])) for i in sq.get_percentiles(samples).items()]))"
   ]
  },
  {
   "cell_type": "code",
   "execution_count": 6,
   "id": "27679ff4-a74e-4863-b431-9dca17de39b1",
   "metadata": {},
   "outputs": [
    {
     "name": "stdout",
     "output_type": "stream",
     "text": [
      "{1: '502 thousand',\n",
      " 5: '1 million',\n",
      " 10: '2 million',\n",
      " 20: '3 million',\n",
      " 30: '4 million',\n",
      " 40: '6 million',\n",
      " 50: '8 million',\n",
      " 60: '11 million',\n",
      " 70: '15 million',\n",
      " 80: '22 million',\n",
      " 90: '36 million',\n",
      " 95: '55 million',\n",
      " 99: '114 million'}\n"
     ]
    }
   ],
   "source": [
    "# https://techcrunch.com/2023/06/29/inflection-ai-lands-1-3b-investment-to-build-more-personal-ai/\n",
    "largest_inflection_model_2023_prediction = lab_spend_on_largest_model_this_year(total_investment=1.3*B,\n",
    "                                                                                percent_investment_spent_this_year=pct_dist(0.1, 0.3),\n",
    "                                                                                percent_spend_on_compute=pct_dist(0.3, 0.7),\n",
    "                                                                                percent_compute_on_biggest_model=pct_dist(0.02, 0.3))\n",
    "samples = largest_inflection_model_2023_prediction @ (100*K)\n",
    "pprint(dict([(i[0], numerize(10 ** i[1])) for i in sq.get_percentiles(samples).items()]))"
   ]
  },
  {
   "cell_type": "code",
   "execution_count": 7,
   "id": "88369903-7a10-4acb-b0ea-50b3f347c3b5",
   "metadata": {},
   "outputs": [
    {
     "name": "stdout",
     "output_type": "stream",
     "text": [
      "{1: '7 million',\n",
      " 5: '15 million',\n",
      " 10: '23 million',\n",
      " 20: '40 million',\n",
      " 30: '59 million',\n",
      " 40: '83 million',\n",
      " 50: '113 million',\n",
      " 60: '154 million',\n",
      " 70: '214 million',\n",
      " 80: '314 million',\n",
      " 90: '529 million',\n",
      " 95: '815 million',\n",
      " 99: '2 billion'}\n"
     ]
    }
   ],
   "source": [
    "largest_google_model_2023_prediction = bigtech_spend_on_largest_model_this_year(annual_r_and_d_spend=sq.lognorm(22*B, 40*B),\n",
    "                                                                                percent_r_and_d_on_ai=pct_dist(0.1, 0.7),\n",
    "                                                                                percent_ai_spend_on_compute=pct_dist(0.3, 0.7),\n",
    "                                                                                percent_compute_on_biggest_model=pct_dist(0.01, 0.1))\n",
    "samples = largest_google_model_2023_prediction @ (100*K)\n",
    "pprint(dict([(i[0], numerize(10 ** i[1])) for i in sq.get_percentiles(samples).items()]))"
   ]
  },
  {
   "cell_type": "code",
   "execution_count": 8,
   "id": "887170c8-35b9-476d-9d4d-7ab7c87b4051",
   "metadata": {},
   "outputs": [
    {
     "name": "stdout",
     "output_type": "stream",
     "text": [
      "{1: '457 thousand',\n",
      " 5: '2 million',\n",
      " 10: '3 million',\n",
      " 20: '7 million',\n",
      " 30: '12 million',\n",
      " 40: '19 million',\n",
      " 50: '31 million',\n",
      " 60: '49 million',\n",
      " 70: '78 million',\n",
      " 80: '137 million',\n",
      " 90: '290 million',\n",
      " 95: '508 million',\n",
      " 99: '1 billion'}\n"
     ]
    }
   ],
   "source": [
    "largest_fb_model_2023_prediction = bigtech_spend_on_largest_model_this_year(annual_r_and_d_spend=sq.lognorm(22*B, 40*B),\n",
    "                                                                            percent_r_and_d_on_ai=pct_dist(0.01, 0.5),\n",
    "                                                                            percent_ai_spend_on_compute=pct_dist(0.3, 0.7),\n",
    "                                                                            percent_compute_on_biggest_model=pct_dist(0.01, 0.1))\n",
    "samples = largest_fb_model_2023_prediction @ (100*K)\n",
    "pprint(dict([(i[0], numerize(10 ** i[1])) for i in sq.get_percentiles(samples).items()]))"
   ]
  },
  {
   "cell_type": "code",
   "execution_count": 9,
   "id": "11d559ba-7d6d-4d06-ac7e-13b9b329f4b8",
   "metadata": {},
   "outputs": [
    {
     "name": "stdout",
     "output_type": "stream",
     "text": [
      "{1: 1.0,\n",
      " 5: 1.0,\n",
      " 10: 1.0,\n",
      " 20: 1.0,\n",
      " 30: '2 million',\n",
      " 40: '4 million',\n",
      " 50: '7 million',\n",
      " 60: '11 million',\n",
      " 70: '18 million',\n",
      " 80: '32 million',\n",
      " 90: '77 million',\n",
      " 95: '190 million',\n",
      " 99: '1 billion'}\n"
     ]
    }
   ],
   "source": [
    "us_gov_2023_prediction = sq.mixture([[0.2, 0],\n",
    "                                     [0.75, sq.norm(6, 8, lclip=6)],\n",
    "                                     [0.05, bigtech_spend_on_largest_model_this_year(annual_r_and_d_spend=sq.lognorm(10*B, 100*B),\n",
    "                                                                                     percent_r_and_d_on_ai=1,\n",
    "                                                                                     percent_ai_spend_on_compute=pct_dist(0.3, 0.7),\n",
    "                                                                                     percent_compute_on_biggest_model=pct_dist(0.01, 0.1))]])\n",
    "samples = us_gov_2023_prediction @ (100*K)\n",
    "pprint(dict([(i[0], numerize(10 ** i[1])) for i in sq.get_percentiles(samples).items()]))\n"
   ]
  },
  {
   "cell_type": "code",
   "execution_count": 10,
   "id": "0cd4f64c-39cf-406a-bbfa-5dc9fa8c93bb",
   "metadata": {},
   "outputs": [
    {
     "name": "stdout",
     "output_type": "stream",
     "text": [
      "{1: '100 million',\n",
      " 5: '100 million',\n",
      " 10: '127 million',\n",
      " 20: '174 million',\n",
      " 30: '218 million',\n",
      " 40: '265 million',\n",
      " 50: '318 million',\n",
      " 60: '382 million',\n",
      " 70: '464 million',\n",
      " 80: '582 million',\n",
      " 90: '809 million',\n",
      " 95: '1 billion',\n",
      " 99: '2 billion'}\n"
     ]
    }
   ],
   "source": [
    "uk_gov_2023_prediction = sq.mixture([[0.95, sq.norm(8, 9, lclip=8)],\n",
    "                                     [0.05, bigtech_spend_on_largest_model_this_year(annual_r_and_d_spend=sq.lognorm(10*B, 100*B),\n",
    "                                                                                     percent_r_and_d_on_ai=1,\n",
    "                                                                                     percent_ai_spend_on_compute=pct_dist(0.3, 0.7),\n",
    "                                                                                     percent_compute_on_biggest_model=pct_dist(0.01, 0.1))]])\n",
    "samples = uk_gov_2023_prediction @ (100*K)\n",
    "pprint(dict([(i[0], numerize(10 ** i[1])) for i in sq.get_percentiles(samples).items()]))\n"
   ]
  },
  {
   "cell_type": "code",
   "execution_count": 11,
   "id": "07906d48-f9f0-4dcb-be88-2a5d9e173404",
   "metadata": {},
   "outputs": [
    {
     "name": "stdout",
     "output_type": "stream",
     "text": [
      "{1: 0.3480303880969796,\n",
      " 5: 0.5011544512977876,\n",
      " 10: '271 thousand',\n",
      " 20: '979 thousand',\n",
      " 30: '2 million',\n",
      " 40: '3 million',\n",
      " 50: '5 million',\n",
      " 60: '8 million',\n",
      " 70: '13 million',\n",
      " 80: '25 million',\n",
      " 90: '82 million',\n",
      " 95: '250 million',\n",
      " 99: '1 billion'}\n"
     ]
    }
   ],
   "source": [
    "china_gov_2023_prediction = sq.mixture([[0.1, 0],\n",
    "                                        [0.8, sq.norm(6, 8, lclip=6)],\n",
    "                                        [0.1, bigtech_spend_on_largest_model_this_year(annual_r_and_d_spend=sq.lognorm(10*B, 100*B),\n",
    "                                                                                       percent_r_and_d_on_ai=1,\n",
    "                                                                                       percent_ai_spend_on_compute=pct_dist(0.3, 0.7),\n",
    "                                                                                       percent_compute_on_biggest_model=pct_dist(0.01, 0.1))]])\n",
    "\n",
    "# Adjust China's \"effective US-equivalent\" spend by export controls and other things\n",
    "china_gov_2023_prediction = china_gov_2023_prediction - sq.norm(0.1, 0.5, lclip=0.05, rclip=1)\n",
    "\n",
    "samples = china_gov_2023_prediction @ (100*K)\n",
    "pprint(dict([(i[0], numerize(10 ** i[1])) for i in sq.get_percentiles(samples).items()]))\n"
   ]
  },
  {
   "cell_type": "code",
   "execution_count": 12,
   "id": "b8d2d6dd-3dca-4011-b619-1bdfc5c8c471",
   "metadata": {},
   "outputs": [
    {
     "data": {
      "text/plain": [
       "<Distribution> max(max(max(max(max(max(max(log10(10000000000 * lognorm(lognorm_mean=0.16, lognorm_sd=0.12, norm_mean=-2.1, norm_sd=0.7, lclip=0.001, rclip=1) * lognorm(lognorm_mean=0.48, lognorm_sd=0.16, norm_mean=-0.78, norm_sd=0.33, lclip=0.001, rclip=1) * lognorm(lognorm_mean=0.14, lognorm_sd=0.19, norm_mean=-2.56, norm_sd=1.06, lclip=0.001, rclip=1)), log10(1000000000 * lognorm(lognorm_mean=0.19, lognorm_sd=0.09, norm_mean=-1.75, norm_sd=0.43, lclip=0.001, rclip=1) * lognorm(lognorm_mean=0.48, lognorm_sd=0.16, norm_mean=-0.78, norm_sd=0.33, lclip=0.001, rclip=1) * lognorm(lognorm_mean=0.14, lognorm_sd=0.19, norm_mean=-2.56, norm_sd=1.06, lclip=0.001, rclip=1))), log10(1300000000.0 * lognorm(lognorm_mean=0.19, lognorm_sd=0.09, norm_mean=-1.75, norm_sd=0.43, lclip=0.001, rclip=1) * lognorm(lognorm_mean=0.48, lognorm_sd=0.16, norm_mean=-0.78, norm_sd=0.33, lclip=0.001, rclip=1) * lognorm(lognorm_mean=0.14, lognorm_sd=0.19, norm_mean=-2.56, norm_sd=1.06, lclip=0.001, rclip=1))), log10(lognorm(lognorm_mean=30158709911.47, lognorm_sd=5526292630.83, norm_mean=24.11, norm_sd=0.18) * lognorm(lognorm_mean=0.35, lognorm_sd=0.31, norm_mean=-1.33, norm_sd=0.76, lclip=0.001, rclip=1) * lognorm(lognorm_mean=0.48, lognorm_sd=0.16, norm_mean=-0.78, norm_sd=0.33, lclip=0.001, rclip=1) * lognorm(lognorm_mean=0.05, lognorm_sd=0.05, norm_mean=-3.45, norm_sd=0.9, lclip=0.001, rclip=1))), log10(lognorm(lognorm_mean=30158709911.47, lognorm_sd=5526292630.83, norm_mean=24.11, norm_sd=0.18) * lognorm(lognorm_mean=0.23, lognorm_sd=0.69, norm_mean=-2.65, norm_sd=1.53, lclip=0.001, rclip=1) * lognorm(lognorm_mean=0.48, lognorm_sd=0.16, norm_mean=-0.78, norm_sd=0.33, lclip=0.001, rclip=1) * lognorm(lognorm_mean=0.05, lognorm_sd=0.05, norm_mean=-3.45, norm_sd=0.9, lclip=0.001, rclip=1))), mixture\n",
       " - 0.2 weight on 0\n",
       " - 0.75 weight on norm(mean=7.0, sd=0.61, lclip=6)\n",
       " - 0.05 weight on log10(lognorm(lognorm_mean=40400128269.46, lognorm_sd=32121795303.92, norm_mean=24.18, norm_sd=0.7) * 1 * lognorm(lognorm_mean=0.48, lognorm_sd=0.16, norm_mean=-0.78, norm_sd=0.33, lclip=0.001, rclip=1) * lognorm(lognorm_mean=0.05, lognorm_sd=0.05, norm_mean=-3.45, norm_sd=0.9, lclip=0.001, rclip=1))), mixture\n",
       " - 0.95 weight on norm(mean=8.5, sd=0.3, lclip=8)\n",
       " - 0.05 weight on log10(lognorm(lognorm_mean=40400128269.46, lognorm_sd=32121795303.92, norm_mean=24.18, norm_sd=0.7) * 1 * lognorm(lognorm_mean=0.48, lognorm_sd=0.16, norm_mean=-0.78, norm_sd=0.33, lclip=0.001, rclip=1) * lognorm(lognorm_mean=0.05, lognorm_sd=0.05, norm_mean=-3.45, norm_sd=0.9, lclip=0.001, rclip=1))), mixture\n",
       " - 0.1 weight on 0\n",
       " - 0.8 weight on norm(mean=7.0, sd=0.61, lclip=6)\n",
       " - 0.1 weight on log10(lognorm(lognorm_mean=40400128269.46, lognorm_sd=32121795303.92, norm_mean=24.18, norm_sd=0.7) * 1 * lognorm(lognorm_mean=0.48, lognorm_sd=0.16, norm_mean=-0.78, norm_sd=0.33, lclip=0.001, rclip=1) * lognorm(lognorm_mean=0.05, lognorm_sd=0.05, norm_mean=-3.45, norm_sd=0.9, lclip=0.001, rclip=1)) - norm(mean=0.3, sd=0.12, lclip=0.05, rclip=1))"
      ]
     },
     "execution_count": 12,
     "metadata": {},
     "output_type": "execute_result"
    }
   ],
   "source": [
    "mixed_model = (largest_openai_model_2023_prediction >>\n",
    "               sq.dist_max(largest_anthropic_model_2023_prediction) >>\n",
    "               sq.dist_max(largest_inflection_model_2023_prediction) >>\n",
    "               sq.dist_max(largest_google_model_2023_prediction) >>\n",
    "               sq.dist_max(largest_fb_model_2023_prediction) >>\n",
    "               sq.dist_max(us_gov_2023_prediction) >>\n",
    "               sq.dist_max(uk_gov_2023_prediction) >>\n",
    "               sq.dist_max(china_gov_2023_prediction))\n",
    "mixed_model"
   ]
  },
  {
   "cell_type": "code",
   "execution_count": 13,
   "id": "bdfe096a-eb5e-4ba9-b908-d0452e9244a3",
   "metadata": {},
   "outputs": [
    {
     "name": "stdout",
     "output_type": "stream",
     "text": [
      "{1: '100 million',\n",
      " 5: '150 million',\n",
      " 10: '189 million',\n",
      " 20: '252 million',\n",
      " 30: '312 million',\n",
      " 40: '374 million',\n",
      " 50: '446 million',\n",
      " 60: '533 million',\n",
      " 70: '647 million',\n",
      " 80: '821 million',\n",
      " 90: '1 billion',\n",
      " 95: '2 billion',\n",
      " 99: '3 billion'}\n"
     ]
    }
   ],
   "source": [
    "pprint(dict([(i[0], numerize(10 ** i[1])) for i in sq.get_percentiles(mixed_model @ (100*K)).items()]))"
   ]
  },
  {
   "cell_type": "markdown",
   "id": "a7253f3b-5658-4cf2-9050-69c2dc8c9776",
   "metadata": {},
   "source": [
    "## 2025 Spend Model"
   ]
  },
  {
   "cell_type": "code",
   "execution_count": 14,
   "id": "25e74613-62e7-48c2-a79a-a7cfc6875007",
   "metadata": {},
   "outputs": [
    {
     "name": "stdout",
     "output_type": "stream",
     "text": [
      "{1: '2 million',\n",
      " 5: '7 million',\n",
      " 10: '14 million',\n",
      " 20: '31 million',\n",
      " 30: '56 million',\n",
      " 40: '92 million',\n",
      " 50: '146 million',\n",
      " 60: '233 million',\n",
      " 70: '383 million',\n",
      " 80: '671 million',\n",
      " 90: '1 billion',\n",
      " 95: '2 billion',\n",
      " 99: '5 billion'}\n"
     ]
    }
   ],
   "source": [
    "largest_openai_model_2025_prediction = lab_spend_on_largest_model_this_year(total_investment=sq.lognorm(20*B, 50*B),\n",
    "                                                                            percent_investment_spent_this_year=pct_dist(0.05, 0.3),\n",
    "                                                                            percent_spend_on_compute=pct_dist(0.3, 0.7),\n",
    "                                                                            percent_compute_on_biggest_model=pct_dist(0.01, 0.7))\n",
    "samples = largest_openai_model_2025_prediction @ (100*K)\n",
    "pprint(dict([(i[0], numerize(10 ** i[1])) for i in sq.get_percentiles(samples).items()]))"
   ]
  },
  {
   "cell_type": "code",
   "execution_count": 15,
   "id": "38a4007a-af42-4862-ae3c-a71081a7faeb",
   "metadata": {},
   "outputs": [
    {
     "name": "stdout",
     "output_type": "stream",
     "text": [
      "{1: '807 thousand',\n",
      " 5: '3 million',\n",
      " 10: '6 million',\n",
      " 20: '14 million',\n",
      " 30: '27 million',\n",
      " 40: '45 million',\n",
      " 50: '74 million',\n",
      " 60: '121 million',\n",
      " 70: '205 million',\n",
      " 80: '370 million',\n",
      " 90: '790 million',\n",
      " 95: '1 billion',\n",
      " 99: '4 billion'}\n"
     ]
    }
   ],
   "source": [
    "# https://www.nytimes.com/2023/01/27/technology/anthropic-ai-funding.html\n",
    "# https://techcrunch.com/2023/04/06/anthropics-5b-4-year-plan-to-take-on-openai/\n",
    "# https://twitter.com/AnthropicAI/status/1706202966238318670\n",
    "largest_anthropic_model_2025_prediction = lab_spend_on_largest_model_this_year(total_investment=sq.lognorm(5*B, 50*B),\n",
    "                                                                               percent_investment_spent_this_year=pct_dist(0.05, 0.3),\n",
    "                                                                               percent_spend_on_compute=pct_dist(0.3, 0.7),\n",
    "                                                                               percent_compute_on_biggest_model=pct_dist(0.01, 0.7))\n",
    "samples = largest_anthropic_model_2025_prediction @ (100*K)\n",
    "pprint(dict([(i[0], numerize(10 ** i[1])) for i in sq.get_percentiles(samples).items()]))"
   ]
  },
  {
   "cell_type": "code",
   "execution_count": 16,
   "id": "84df882a-b146-4877-8067-9bc6954889ea",
   "metadata": {},
   "outputs": [
    {
     "name": "stdout",
     "output_type": "stream",
     "text": [
      "{1: '2 million',\n",
      " 5: '4 million',\n",
      " 10: '7 million',\n",
      " 20: '12 million',\n",
      " 30: '19 million',\n",
      " 40: '27 million',\n",
      " 50: '39 million',\n",
      " 60: '55 million',\n",
      " 70: '80 million',\n",
      " 80: '123 million',\n",
      " 90: '226 million',\n",
      " 95: '370 million',\n",
      " 99: '897 million'}\n"
     ]
    }
   ],
   "source": [
    "# https://techcrunch.com/2023/06/29/inflection-ai-lands-1-3b-investment-to-build-more-personal-ai/\n",
    "largest_inflection_model_2025_prediction = lab_spend_on_largest_model_this_year(total_investment=sq.lognorm(2*B, 20*B),\n",
    "                                                                                percent_investment_spent_this_year=pct_dist(0.1, 0.3),\n",
    "                                                                                percent_spend_on_compute=pct_dist(0.3, 0.7),\n",
    "                                                                                percent_compute_on_biggest_model=pct_dist(0.02, 0.3))\n",
    "samples = largest_inflection_model_2025_prediction @ (100*K)\n",
    "pprint(dict([(i[0], numerize(10 ** i[1])) for i in sq.get_percentiles(samples).items()]))"
   ]
  },
  {
   "cell_type": "code",
   "execution_count": 17,
   "id": "d3b2804b-2578-4559-bd76-ef92449d9804",
   "metadata": {},
   "outputs": [
    {
     "name": "stdout",
     "output_type": "stream",
     "text": [
      "{1: '6 million',\n",
      " 5: '16 million',\n",
      " 10: '29 million',\n",
      " 20: '60 million',\n",
      " 30: '100 million',\n",
      " 40: '155 million',\n",
      " 50: '232 million',\n",
      " 60: '346 million',\n",
      " 70: '531 million',\n",
      " 80: '880 million',\n",
      " 90: '2 billion',\n",
      " 95: '3 billion',\n",
      " 99: '8 billion'}\n"
     ]
    }
   ],
   "source": [
    "largest_google_model_2025_prediction = bigtech_spend_on_largest_model_this_year(annual_r_and_d_spend=sq.lognorm(22*B, 50*B),\n",
    "                                                                                percent_r_and_d_on_ai=pct_dist(0.1, 0.8),\n",
    "                                                                                percent_ai_spend_on_compute=pct_dist(0.3, 0.7),\n",
    "                                                                                percent_compute_on_biggest_model=pct_dist(0.01, 0.3))\n",
    "samples = largest_google_model_2025_prediction @ (100*K)\n",
    "pprint(dict([(i[0], numerize(10 ** i[1])) for i in sq.get_percentiles(samples).items()]))"
   ]
  },
  {
   "cell_type": "code",
   "execution_count": 18,
   "id": "ddacfc86-16f7-423f-8b08-9ebd43e4b92e",
   "metadata": {},
   "outputs": [
    {
     "name": "stdout",
     "output_type": "stream",
     "text": [
      "{1: '3 million',\n",
      " 5: '9 million',\n",
      " 10: '17 million',\n",
      " 20: '35 million',\n",
      " 30: '59 million',\n",
      " 40: '94 million',\n",
      " 50: '144 million',\n",
      " 60: '221 million',\n",
      " 70: '347 million',\n",
      " 80: '587 million',\n",
      " 90: '1 billion',\n",
      " 95: '2 billion',\n",
      " 99: '6 billion'}\n"
     ]
    }
   ],
   "source": [
    "largest_fb_model_2025_prediction = bigtech_spend_on_largest_model_this_year(annual_r_and_d_spend=sq.lognorm(22*B, 50*B),\n",
    "                                                                            percent_r_and_d_on_ai=pct_dist(0.05, 0.6),\n",
    "                                                                            percent_ai_spend_on_compute=pct_dist(0.3, 0.7),\n",
    "                                                                            percent_compute_on_biggest_model=pct_dist(0.01, 0.3))\n",
    "samples = largest_fb_model_2025_prediction @ (100*K)\n",
    "pprint(dict([(i[0], numerize(10 ** i[1])) for i in sq.get_percentiles(samples).items()]))"
   ]
  },
  {
   "cell_type": "code",
   "execution_count": 19,
   "id": "82764011-02f2-4baa-8bb7-8fd511549695",
   "metadata": {},
   "outputs": [
    {
     "name": "stdout",
     "output_type": "stream",
     "text": [
      "{1: 1.0,\n",
      " 5: 1.0,\n",
      " 10: '1 million',\n",
      " 20: '3 million',\n",
      " 30: '5 million',\n",
      " 40: '10 million',\n",
      " 50: '18 million',\n",
      " 60: '36 million',\n",
      " 70: '103 million',\n",
      " 80: '430 million',\n",
      " 90: '2 billion',\n",
      " 95: '3 billion',\n",
      " 99: '13 billion'}\n"
     ]
    }
   ],
   "source": [
    "us_gov_2025_prediction = sq.mixture([[0.1, 0],\n",
    "                                     [0.6, sq.norm(6, 8, lclip=6)],\n",
    "                                     [0.3, bigtech_spend_on_largest_model_this_year(annual_r_and_d_spend=sq.lognorm(10*B, 100*B),\n",
    "                                                                                    percent_r_and_d_on_ai=1,\n",
    "                                                                                    percent_ai_spend_on_compute=pct_dist(0.3, 0.7),\n",
    "                                                                                    percent_compute_on_biggest_model=pct_dist(0.01, 0.3))]])\n",
    "samples = us_gov_2025_prediction @ (100*K)\n",
    "pprint(dict([(i[0], numerize(10 ** i[1])) for i in sq.get_percentiles(samples).items()]))\n"
   ]
  },
  {
   "cell_type": "code",
   "execution_count": 20,
   "id": "088a26c7-75b4-4abc-bf37-562e6cf748fb",
   "metadata": {},
   "outputs": [
    {
     "name": "stdout",
     "output_type": "stream",
     "text": [
      "{1: '40 million',\n",
      " 5: '100 million',\n",
      " 10: '124 million',\n",
      " 20: '184 million',\n",
      " 30: '242 million',\n",
      " 40: '309 million',\n",
      " 50: '392 million',\n",
      " 60: '503 million',\n",
      " 70: '679 million',\n",
      " 80: '1 billion',\n",
      " 90: '2 billion',\n",
      " 95: '5 billion',\n",
      " 99: '15 billion'}\n"
     ]
    }
   ],
   "source": [
    "uk_gov_2025_prediction = sq.mixture([[0.6, sq.norm(8, 9, lclip=8)],\n",
    "                                     [0.4, bigtech_spend_on_largest_model_this_year(annual_r_and_d_spend=sq.lognorm(10*B, 100*B),\n",
    "                                                                                    percent_r_and_d_on_ai=1,\n",
    "                                                                                    percent_ai_spend_on_compute=pct_dist(0.3, 0.7),\n",
    "                                                                                    percent_compute_on_biggest_model=pct_dist(0.01, 0.3))]])\n",
    "samples = uk_gov_2025_prediction @ (100*K)\n",
    "pprint(dict([(i[0], numerize(10 ** i[1])) for i in sq.get_percentiles(samples).items()]))"
   ]
  },
  {
   "cell_type": "code",
   "execution_count": 21,
   "id": "55f2a147-7359-4612-9328-adef911326ed",
   "metadata": {},
   "outputs": [
    {
     "name": "stdout",
     "output_type": "stream",
     "text": [
      "{1: 0.3961346219222579,\n",
      " 5: 0.8742770818515068,\n",
      " 10: '759 thousand',\n",
      " 20: '2 million',\n",
      " 30: '4 million',\n",
      " 40: '8 million',\n",
      " 50: '17 million',\n",
      " 60: '45 million',\n",
      " 70: '147 million',\n",
      " 80: '405 million',\n",
      " 90: '1 billion',\n",
      " 95: '2 billion',\n",
      " 99: '8 billion'}\n"
     ]
    }
   ],
   "source": [
    "china_gov_2025_prediction = sq.mixture([[0.05, 0],\n",
    "                                        [0.55, sq.norm(6, 8, lclip=6)],\n",
    "                                        [0.4, bigtech_spend_on_largest_model_this_year(annual_r_and_d_spend=sq.lognorm(10*B, 100*B),\n",
    "                                                                                       percent_r_and_d_on_ai=1,\n",
    "                                                                                       percent_ai_spend_on_compute=pct_dist(0.3, 0.7),\n",
    "                                                                                       percent_compute_on_biggest_model=pct_dist(0.01, 0.3))]])\n",
    "\n",
    "# Adjust China's \"effective US-equivalent\" spend by export controls and other things\n",
    "china_gov_2025_prediction = china_gov_2025_prediction - sq.norm(0.1, 0.5, lclip=0.05, rclip=1)\n",
    "\n",
    "samples = china_gov_2025_prediction @ (100*K)\n",
    "pprint(dict([(i[0], numerize(10 ** i[1])) for i in sq.get_percentiles(samples).items()]))"
   ]
  },
  {
   "cell_type": "code",
   "execution_count": 22,
   "id": "ecd02af7-4aee-44ec-afc5-b00b1335ff68",
   "metadata": {},
   "outputs": [
    {
     "name": "stdout",
     "output_type": "stream",
     "text": [
      "{1: '193 million',\n",
      " 5: '326 million',\n",
      " 10: '440 million',\n",
      " 20: '648 million',\n",
      " 30: '874 million',\n",
      " 40: '1 billion',\n",
      " 50: '1 billion',\n",
      " 60: '2 billion',\n",
      " 70: '3 billion',\n",
      " 80: '4 billion',\n",
      " 90: '6 billion',\n",
      " 95: '10 billion',\n",
      " 99: '22 billion'}\n"
     ]
    }
   ],
   "source": [
    "mixed_model_2025 = (largest_openai_model_2025_prediction >>\n",
    "                    sq.dist_max(largest_anthropic_model_2025_prediction) >>\n",
    "                    sq.dist_max(largest_inflection_model_2025_prediction) >>\n",
    "                    sq.dist_max(largest_google_model_2025_prediction) >>\n",
    "                    sq.dist_max(largest_fb_model_2025_prediction) >>\n",
    "                    sq.dist_max(us_gov_2025_prediction) >>\n",
    "                    sq.dist_max(uk_gov_2025_prediction) >>\n",
    "                    sq.dist_max(china_gov_2025_prediction))\n",
    "pprint(dict([(i[0], numerize(10 ** i[1])) for i in sq.get_percentiles(mixed_model_2025 @ (100*K)).items()]))"
   ]
  },
  {
   "cell_type": "code",
   "execution_count": 23,
   "id": "06b45d47-ccc4-497a-b4c6-1ab9e459bee7",
   "metadata": {},
   "outputs": [],
   "source": [
    "# TODO: Fix bug\n",
    "#print('2023->2025 Doubling Rate (years)')\n",
    "#rate_model = sq.growth_rate_to_doubling_time((((mixed_model_2025 / mixed_model) - 1) / 2) + 1)\n",
    "#pprint(dict([(i[0], i[1]) for i in sq.get_percentiles(rate_model @ (100*K), digits=3).items()]))"
   ]
  },
  {
   "cell_type": "code",
   "execution_count": 24,
   "id": "266b5a4c-c3af-4a4d-ab3f-b7a8dd09244c",
   "metadata": {},
   "outputs": [
    {
     "name": "stdout",
     "output_type": "stream",
     "text": [
      "2023->2025 Doubling Rate (years)\n",
      "{1: 1.029,\n",
      " 5: 1.014,\n",
      " 10: 1.006,\n",
      " 20: 0.997,\n",
      " 30: 0.99,\n",
      " 40: 0.984,\n",
      " 50: 0.979,\n",
      " 60: 0.973,\n",
      " 70: 0.967,\n",
      " 80: 0.96,\n",
      " 90: 0.95,\n",
      " 95: 0.942,\n",
      " 99: 0.927}\n"
     ]
    }
   ],
   "source": [
    "print('2023->2025 Doubling Rate (years)')\n",
    "rate_model = (((mixed_model_2025 / mixed_model) - 1) / 2) + 1\n",
    "pprint(dict([(i[0], np.round(sq.growth_rate_to_doubling_time(i[1]), 3)) for i in sq.get_percentiles(rate_model @ (100*K)).items()]))"
   ]
  },
  {
   "cell_type": "markdown",
   "id": "dfc4147d-984b-4a74-abfe-fe6e6080daf4",
   "metadata": {},
   "source": [
    "## Cache spend model"
   ]
  },
  {
   "cell_type": "code",
   "execution_count": 25,
   "id": "d9756696-d62a-47d2-8ac7-628d22f9f76e",
   "metadata": {},
   "outputs": [
    {
     "name": "stderr",
     "output_type": "stream",
     "text": [
      "100%|████████████████████████████████████████████████████████████████████████████████████████████████████████████████████████████████████████████████████████████████████████| 3/3 [00:00<00:00, 162.83it/s]\n",
      "100%|████████████████████████████████████████████████████████████████████████████████████████████████████████████████████████████████████████████████████████████| 40000/40000 [00:00<00:00, 2433843.88it/s]\n",
      "100%|████████████████████████████████████████████████████████████████████████████████████████████████████████████████████████████████████████████████████████████████████████| 2/2 [00:00<00:00, 130.39it/s]\n",
      "100%|████████████████████████████████████████████████████████████████████████████████████████████████████████████████████████████████████████████████████████████| 40000/40000 [00:00<00:00, 2627269.25it/s]\n",
      "100%|████████████████████████████████████████████████████████████████████████████████████████████████████████████████████████████████████████████████████████████████████████| 3/3 [00:00<00:00, 170.09it/s]\n",
      "100%|████████████████████████████████████████████████████████████████████████████████████████████████████████████████████████████████████████████████████████████| 40000/40000 [00:00<00:00, 2464121.26it/s]\n"
     ]
    },
    {
     "name": "stdout",
     "output_type": "stream",
     "text": [
      "Writing cache to file `caches/initial_pay.sqcache.npy`...\n",
      "...Cached\n",
      "{1: 8.0,\n",
      " 5: 8.2,\n",
      " 10: 8.3,\n",
      " 20: 8.4,\n",
      " 30: 8.5,\n",
      " 40: 8.6,\n",
      " 50: 8.6,\n",
      " 60: 8.7,\n",
      " 70: 8.8,\n",
      " 80: 8.9,\n",
      " 90: 9.1,\n",
      " 95: 9.2,\n",
      " 99: 9.5}\n"
     ]
    },
    {
     "data": {
      "image/png": "[encoded data removed]",
      "text/plain": [
       "<Figure size 640x480 with 1 Axes>"
      ]
     },
     "metadata": {},
     "output_type": "display_data"
    }
   ],
   "source": [
    "# Output expected willingness to pay for a model in 2023, using log 2022$USD\n",
    "log_initial_pay_samples = sq.sample(mixed_model, dump_cache_file='caches/initial_pay', n=40000, verbose=True)\n",
    "pprint(sq.get_percentiles(log_initial_pay_samples, digits=1))\n",
    "plt.hist(log_initial_pay_samples, bins=200)\n",
    "plt.show()"
   ]
  },
  {
   "cell_type": "code",
   "execution_count": 26,
   "id": "935ff707-72f4-4eb4-a327-439b711f91d6",
   "metadata": {},
   "outputs": [
    {
     "name": "stdout",
     "output_type": "stream",
     "text": [
      "File last ran: 2023-09-25 10:38:16.957851\n"
     ]
    }
   ],
   "source": [
    "print('File last ran: {}'.format(dt.now()))"
   ]
  }
 ],
 "metadata": {
  "kernelspec": {
   "display_name": "Python 3 (ipykernel)",
   "language": "python",
   "name": "python3"
  },
  "language_info": {
   "codemirror_mode": {
    "name": "ipython",
    "version": 3
   },
   "file_extension": ".py",
   "mimetype": "text/x-python",
   "name": "python",
   "nbconvert_exporter": "python",
   "pygments_lexer": "ipython3",
   "version": "3.11.4"
  }
 },
 "nbformat": 4,
 "nbformat_minor": 5
}
