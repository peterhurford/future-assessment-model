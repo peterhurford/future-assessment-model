{
 "cells": [
  {
   "cell_type": "code",
   "execution_count": 1,
   "id": "5ac6fd9f-ba15-4177-b363-cd62b7b638d0",
   "metadata": {},
   "outputs": [
    {
     "name": "stdout",
     "output_type": "stream",
     "text": [
      "Loaded\n",
      "Loaded\n"
     ]
    }
   ],
   "source": [
    "import math\n",
    "import random\n",
    "import numpy as np\n",
    "import squigglepy as sq\n",
    "from squigglepy.numbers import K, M, B, T\n",
    "import matplotlib.pyplot as plt\n",
    "\n",
    "from copy import copy, deepcopy\n",
    "from scipy import stats\n",
    "from pprint import pprint\n",
    "from datetime import datetime as dt\n",
    "\n",
    "exec(open('utils.py').read())\n",
    "print('Loaded')\n",
    "\n",
    "\n",
    "def pct_dist(a, b):\n",
    "    return sq.lognorm(a, b, lclip=0.001, rclip=1, credibility=80) \n",
    "\n",
    "\n",
    "def lab_spend_on_largest_model_this_year(total_investment,\n",
    "                                         percent_investment_spent_this_year,\n",
    "                                         percent_spend_on_compute,\n",
    "                                         percent_compute_on_biggest_model):\n",
    "    return sq.dist_fn(total_investment * percent_investment_spent_this_year * percent_spend_on_compute * percent_compute_on_biggest_model,\n",
    "                      fn=np.log10)\n",
    "\n",
    "\n",
    "def bigtech_spend_on_largest_model_this_year(annual_r_and_d_spend,\n",
    "                                             percent_r_and_d_on_ai,\n",
    "                                             percent_ai_spend_on_compute,\n",
    "                                             percent_compute_on_biggest_model):\n",
    "    return sq.dist_fn(annual_r_and_d_spend *\n",
    "                      percent_r_and_d_on_ai *\n",
    "                      percent_ai_spend_on_compute *\n",
    "                      percent_compute_on_biggest_model, fn=np.log10)\n",
    "\n",
    "print('Loaded')"
   ]
  },
  {
   "cell_type": "markdown",
   "id": "3966d6e9-b30c-4055-ae39-e3837846e638",
   "metadata": {},
   "source": [
    "## GPT3 Prediction (for calibration)"
   ]
  },
  {
   "cell_type": "code",
   "execution_count": 2,
   "id": "714ccadd-8b56-4203-ab64-a957efa7e0e4",
   "metadata": {},
   "outputs": [
    {
     "name": "stdout",
     "output_type": "stream",
     "text": [
      "{1: '201 thousand',\n",
      " 5: '500 thousand',\n",
      " 10: '806 thousand',\n",
      " 20: '1 million',\n",
      " 30: '2 million',\n",
      " 40: '3 million',\n",
      " 50: '4 million',\n",
      " 60: '6 million',\n",
      " 70: '9 million',\n",
      " 80: '13 million',\n",
      " 90: '23 million',\n",
      " 95: '37 million',\n",
      " 99: '87 million'}\n",
      "-\n",
      "Actual spend ($2.4M) is at the 32.6th percentile of the model\n"
     ]
    }
   ],
   "source": [
    "gpt3_prediction = lab_spend_on_largest_model_this_year(total_investment=1*B,\n",
    "                                                       percent_investment_spent_this_year=pct_dist(0.05, 0.3),\n",
    "                                                       percent_spend_on_compute=pct_dist(0.3, 0.7),\n",
    "                                                       percent_compute_on_biggest_model=pct_dist(0.02, 0.3))\n",
    "samples = gpt3_prediction @ (100*K)\n",
    "\n",
    "# See: https://docs.google.com/spreadsheets/d/1cLzO_tX9b4z6URKLFvzc0MtsN4GrftkFZuv1bCxeWVY/edit#gid=555410569\n",
    "actual_gpt3_spend = 2.4*M\n",
    "\n",
    "pprint(dict([(i[0], numerize(10 ** i[1])) for i in sq.get_percentiles(samples).items()]))\n",
    "print('-')\n",
    "print('Actual spend (${}M) is at the {}th percentile of the model'.format(round(actual_gpt3_spend / M, 1),\n",
    "                                                                          round(np.mean([s <= np.log10(actual_gpt3_spend) for s in samples]) * 100, 1)))\n"
   ]
  },
  {
   "cell_type": "markdown",
   "id": "50d03f90-701f-426e-b606-3c2384504c89",
   "metadata": {},
   "source": [
    "## GPT4 Prediction (for calibration)"
   ]
  },
  {
   "cell_type": "code",
   "execution_count": 3,
   "id": "93a20b0d-ef6f-4ce7-980d-29a9bdf4be65",
   "metadata": {},
   "outputs": [
    {
     "name": "stdout",
     "output_type": "stream",
     "text": [
      "{1: '2 million',\n",
      " 5: '5 million',\n",
      " 10: '8 million',\n",
      " 20: '14 million',\n",
      " 30: '22 million',\n",
      " 40: '31 million',\n",
      " 50: '43 million',\n",
      " 60: '60 million',\n",
      " 70: '85 million',\n",
      " 80: '129 million',\n",
      " 90: '229 million',\n",
      " 95: '366 million',\n",
      " 99: '840 million'}\n",
      "-\n",
      "Actual spend ($40.0M) is at the 47.7th percentile of the model\n"
     ]
    }
   ],
   "source": [
    "gpt4_prediction = lab_spend_on_largest_model_this_year(total_investment=10*B,\n",
    "                                                       percent_investment_spent_this_year=pct_dist(0.05, 0.3),\n",
    "                                                       percent_spend_on_compute=pct_dist(0.3, 0.7),\n",
    "                                                       percent_compute_on_biggest_model=pct_dist(0.02, 0.3))\n",
    "samples = gpt4_prediction @ (100*K)\n",
    "\n",
    "# See: https://epochai.org/trends\n",
    "actual_gpt4_spend = 40*M\n",
    "\n",
    "pprint(dict([(i[0], numerize(10 ** i[1])) for i in sq.get_percentiles(samples).items()]))\n",
    "print('-')\n",
    "print('Actual spend (${}M) is at the {}th percentile of the model'.format(round(actual_gpt4_spend / M, 1),\n",
    "                                                                          round(np.mean([s <= np.log10(actual_gpt4_spend) for s in samples]) * 100, 1)))\n"
   ]
  },
  {
   "cell_type": "markdown",
   "id": "198cef42-6811-49e5-9a1c-f311799352f4",
   "metadata": {},
   "source": [
    "## Gemini Ultra Prediction (for calibration)"
   ]
  },
  {
   "cell_type": "code",
   "execution_count": 4,
   "id": "817ed405-6701-4f3f-b9a6-704641176f1e",
   "metadata": {},
   "outputs": [
    {
     "name": "stdout",
     "output_type": "stream",
     "text": [
      "{1: '6 million',\n",
      " 5: '15 million',\n",
      " 10: '23 million',\n",
      " 20: '40 million',\n",
      " 30: '59 million',\n",
      " 40: '83 million',\n",
      " 50: '113 million',\n",
      " 60: '155 million',\n",
      " 70: '215 million',\n",
      " 80: '318 million',\n",
      " 90: '537 million',\n",
      " 95: '824 million',\n",
      " 99: '2 billion'}\n",
      "-\n",
      "Actual spend ($60.0M) is at the 30.4th percentile of the model\n"
     ]
    }
   ],
   "source": [
    "gemini_prediction = bigtech_spend_on_largest_model_this_year(annual_r_and_d_spend=sq.lognorm(22*B, 40*B),\n",
    "                                                             percent_r_and_d_on_ai=pct_dist(0.1, 0.7),\n",
    "                                                             percent_ai_spend_on_compute=pct_dist(0.3, 0.7),\n",
    "                                                             percent_compute_on_biggest_model=pct_dist(0.01, 0.1))\n",
    "samples = gemini_prediction @ (100*K)\n",
    "\n",
    "# See: https://epochai.org/trends\n",
    "actual_gemini_spend = 60*M\n",
    "\n",
    "pprint(dict([(i[0], numerize(10 ** i[1])) for i in sq.get_percentiles(samples).items()]))\n",
    "print('-')\n",
    "print('Actual spend (${}M) is at the {}th percentile of the model'.format(round(actual_gemini_spend / M, 1),\n",
    "                                                                          round(np.mean([s <= np.log10(actual_gemini_spend) for s in samples]) * 100, 1)))\n"
   ]
  },
  {
   "cell_type": "markdown",
   "id": "57736d5c-d535-494b-b86d-52ffa8a1f89e",
   "metadata": {},
   "source": [
    "## Model for Largest Training Run in 2024"
   ]
  },
  {
   "cell_type": "code",
   "execution_count": 5,
   "id": "25e74613-62e7-48c2-a79a-a7cfc6875007",
   "metadata": {},
   "outputs": [
    {
     "name": "stdout",
     "output_type": "stream",
     "text": [
      "{1: '2 million',\n",
      " 5: '7 million',\n",
      " 10: '14 million',\n",
      " 20: '31 million',\n",
      " 30: '56 million',\n",
      " 40: '94 million',\n",
      " 50: '150 million',\n",
      " 60: '238 million',\n",
      " 70: '393 million',\n",
      " 80: '687 million',\n",
      " 90: '1 billion',\n",
      " 95: '2 billion',\n",
      " 99: '5 billion'}\n"
     ]
    }
   ],
   "source": [
    "largest_openai_model_prediction = lab_spend_on_largest_model_this_year(total_investment=sq.lognorm(20*B, 50*B),\n",
    "                                                                       percent_investment_spent_this_year=pct_dist(0.05, 0.3),\n",
    "                                                                       percent_spend_on_compute=pct_dist(0.3, 0.7),\n",
    "                                                                       percent_compute_on_biggest_model=pct_dist(0.01, 0.7))\n",
    "samples = largest_openai_model_prediction @ (100*K)\n",
    "pprint(dict([(i[0], numerize(10 ** i[1])) for i in sq.get_percentiles(samples).items()]))"
   ]
  },
  {
   "cell_type": "code",
   "execution_count": 6,
   "id": "38a4007a-af42-4862-ae3c-a71081a7faeb",
   "metadata": {},
   "outputs": [
    {
     "name": "stdout",
     "output_type": "stream",
     "text": [
      "{1: '824 thousand',\n",
      " 5: '3 million',\n",
      " 10: '6 million',\n",
      " 20: '14 million',\n",
      " 30: '26 million',\n",
      " 40: '45 million',\n",
      " 50: '74 million',\n",
      " 60: '121 million',\n",
      " 70: '202 million',\n",
      " 80: '365 million',\n",
      " 90: '798 million',\n",
      " 95: '1 billion',\n",
      " 99: '4 billion'}\n"
     ]
    }
   ],
   "source": [
    "# https://www.nytimes.com/2023/01/27/technology/anthropic-ai-funding.html\n",
    "# https://techcrunch.com/2023/04/06/anthropics-5b-4-year-plan-to-take-on-openai/\n",
    "# https://twitter.com/AnthropicAI/status/1706202966238318670\n",
    "largest_anthropic_model_prediction = lab_spend_on_largest_model_this_year(total_investment=sq.lognorm(5*B, 50*B),\n",
    "                                                                          percent_investment_spent_this_year=pct_dist(0.05, 0.3),\n",
    "                                                                          percent_spend_on_compute=pct_dist(0.3, 0.7),\n",
    "                                                                          percent_compute_on_biggest_model=pct_dist(0.01, 0.7))\n",
    "samples = largest_anthropic_model_prediction @ (100*K)\n",
    "pprint(dict([(i[0], numerize(10 ** i[1])) for i in sq.get_percentiles(samples).items()]))"
   ]
  },
  {
   "cell_type": "code",
   "execution_count": 7,
   "id": "84df882a-b146-4877-8067-9bc6954889ea",
   "metadata": {},
   "outputs": [
    {
     "name": "stdout",
     "output_type": "stream",
     "text": [
      "{1: '2 million',\n",
      " 5: '4 million',\n",
      " 10: '7 million',\n",
      " 20: '12 million',\n",
      " 30: '19 million',\n",
      " 40: '28 million',\n",
      " 50: '39 million',\n",
      " 60: '55 million',\n",
      " 70: '80 million',\n",
      " 80: '124 million',\n",
      " 90: '224 million',\n",
      " 95: '369 million',\n",
      " 99: '884 million'}\n"
     ]
    }
   ],
   "source": [
    "# https://techcrunch.com/2023/06/29/inflection-ai-lands-1-3b-investment-to-build-more-personal-ai/\n",
    "largest_inflection_model_prediction = lab_spend_on_largest_model_this_year(total_investment=sq.lognorm(2*B, 20*B),\n",
    "                                                                           percent_investment_spent_this_year=pct_dist(0.1, 0.3),\n",
    "                                                                           percent_spend_on_compute=pct_dist(0.3, 0.7),\n",
    "                                                                           percent_compute_on_biggest_model=pct_dist(0.02, 0.3))\n",
    "samples = largest_inflection_model_prediction @ (100*K)\n",
    "pprint(dict([(i[0], numerize(10 ** i[1])) for i in sq.get_percentiles(samples).items()]))"
   ]
  },
  {
   "cell_type": "code",
   "execution_count": 8,
   "id": "d3b2804b-2578-4559-bd76-ef92449d9804",
   "metadata": {},
   "outputs": [
    {
     "name": "stdout",
     "output_type": "stream",
     "text": [
      "{1: '6 million',\n",
      " 5: '16 million',\n",
      " 10: '29 million',\n",
      " 20: '60 million',\n",
      " 30: '100 million',\n",
      " 40: '154 million',\n",
      " 50: '232 million',\n",
      " 60: '347 million',\n",
      " 70: '530 million',\n",
      " 80: '875 million',\n",
      " 90: '2 billion',\n",
      " 95: '3 billion',\n",
      " 99: '8 billion'}\n"
     ]
    }
   ],
   "source": [
    "largest_google_model_prediction = bigtech_spend_on_largest_model_this_year(annual_r_and_d_spend=sq.lognorm(22*B, 50*B),\n",
    "                                                                           percent_r_and_d_on_ai=pct_dist(0.1, 0.8),\n",
    "                                                                           percent_ai_spend_on_compute=pct_dist(0.3, 0.7),\n",
    "                                                                           percent_compute_on_biggest_model=pct_dist(0.01, 0.3))\n",
    "samples = largest_google_model_prediction @ (100*K)\n",
    "pprint(dict([(i[0], numerize(10 ** i[1])) for i in sq.get_percentiles(samples).items()]))"
   ]
  },
  {
   "cell_type": "code",
   "execution_count": 9,
   "id": "cec2931c-60f3-4a98-a28b-a41871ce01c7",
   "metadata": {},
   "outputs": [
    {
     "name": "stdout",
     "output_type": "stream",
     "text": [
      "{1: '6 million',\n",
      " 5: '17 million',\n",
      " 10: '30 million',\n",
      " 20: '61 million',\n",
      " 30: '100 million',\n",
      " 40: '155 million',\n",
      " 50: '232 million',\n",
      " 60: '348 million',\n",
      " 70: '529 million',\n",
      " 80: '873 million',\n",
      " 90: '2 billion',\n",
      " 95: '3 billion',\n",
      " 99: '8 billion'}\n"
     ]
    }
   ],
   "source": [
    "largest_microsoft_model_prediction = bigtech_spend_on_largest_model_this_year(annual_r_and_d_spend=sq.lognorm(22*B, 50*B),\n",
    "                                                                              percent_r_and_d_on_ai=pct_dist(0.1, 0.8),\n",
    "                                                                              percent_ai_spend_on_compute=pct_dist(0.3, 0.7),\n",
    "                                                                              percent_compute_on_biggest_model=pct_dist(0.01, 0.3))\n",
    "samples = largest_microsoft_model_prediction @ (100*K)\n",
    "pprint(dict([(i[0], numerize(10 ** i[1])) for i in sq.get_percentiles(samples).items()]))"
   ]
  },
  {
   "cell_type": "code",
   "execution_count": 10,
   "id": "ddacfc86-16f7-423f-8b08-9ebd43e4b92e",
   "metadata": {},
   "outputs": [
    {
     "name": "stdout",
     "output_type": "stream",
     "text": [
      "{1: '3 million',\n",
      " 5: '9 million',\n",
      " 10: '16 million',\n",
      " 20: '34 million',\n",
      " 30: '59 million',\n",
      " 40: '93 million',\n",
      " 50: '142 million',\n",
      " 60: '217 million',\n",
      " 70: '346 million',\n",
      " 80: '586 million',\n",
      " 90: '1 billion',\n",
      " 95: '2 billion',\n",
      " 99: '6 billion'}\n"
     ]
    }
   ],
   "source": [
    "largest_fb_model_prediction = bigtech_spend_on_largest_model_this_year(annual_r_and_d_spend=sq.lognorm(22*B, 50*B),\n",
    "                                                                       percent_r_and_d_on_ai=pct_dist(0.05, 0.6),\n",
    "                                                                       percent_ai_spend_on_compute=pct_dist(0.3, 0.7),\n",
    "                                                                       percent_compute_on_biggest_model=pct_dist(0.01, 0.3))\n",
    "samples = largest_fb_model_prediction @ (100*K)\n",
    "pprint(dict([(i[0], numerize(10 ** i[1])) for i in sq.get_percentiles(samples).items()]))"
   ]
  },
  {
   "cell_type": "code",
   "execution_count": 11,
   "id": "82764011-02f2-4baa-8bb7-8fd511549695",
   "metadata": {},
   "outputs": [
    {
     "name": "stdout",
     "output_type": "stream",
     "text": [
      "{1: 1.0,\n",
      " 5: 1.0,\n",
      " 10: '1 million',\n",
      " 20: '3 million',\n",
      " 30: '6 million',\n",
      " 40: '10 million',\n",
      " 50: '18 million',\n",
      " 60: '36 million',\n",
      " 70: '103 million',\n",
      " 80: '409 million',\n",
      " 90: '1 billion',\n",
      " 95: '3 billion',\n",
      " 99: '12 billion'}\n"
     ]
    }
   ],
   "source": [
    "us_gov_prediction = sq.mixture([[0.1, 0],\n",
    "                                [0.6, sq.norm(6, 8, lclip=6)],\n",
    "                                [0.3, bigtech_spend_on_largest_model_this_year(annual_r_and_d_spend=sq.lognorm(10*B, 100*B),\n",
    "                                                                               percent_r_and_d_on_ai=1,\n",
    "                                                                               percent_ai_spend_on_compute=pct_dist(0.3, 0.7),\n",
    "                                                                               percent_compute_on_biggest_model=pct_dist(0.01, 0.3))]])\n",
    "samples = us_gov_prediction @ (100*K)\n",
    "pprint(dict([(i[0], numerize(10 ** i[1])) for i in sq.get_percentiles(samples).items()]))\n"
   ]
  },
  {
   "cell_type": "code",
   "execution_count": 12,
   "id": "088a26c7-75b4-4abc-bf37-562e6cf748fb",
   "metadata": {},
   "outputs": [
    {
     "name": "stdout",
     "output_type": "stream",
     "text": [
      "{1: '40 million',\n",
      " 5: '100 million',\n",
      " 10: '123 million',\n",
      " 20: '183 million',\n",
      " 30: '242 million',\n",
      " 40: '308 million',\n",
      " 50: '389 million',\n",
      " 60: '501 million',\n",
      " 70: '674 million',\n",
      " 80: '1 billion',\n",
      " 90: '2 billion',\n",
      " 95: '5 billion',\n",
      " 99: '15 billion'}\n"
     ]
    }
   ],
   "source": [
    "uk_gov_prediction = sq.mixture([[0.6, sq.norm(8, 9, lclip=8)],\n",
    "                                [0.4, bigtech_spend_on_largest_model_this_year(annual_r_and_d_spend=sq.lognorm(10*B, 100*B),\n",
    "                                                                               percent_r_and_d_on_ai=1,\n",
    "                                                                               percent_ai_spend_on_compute=pct_dist(0.3, 0.7),\n",
    "                                                                               percent_compute_on_biggest_model=pct_dist(0.01, 0.3))]])\n",
    "samples = uk_gov_prediction @ (100*K)\n",
    "pprint(dict([(i[0], numerize(10 ** i[1])) for i in sq.get_percentiles(samples).items()]))"
   ]
  },
  {
   "cell_type": "code",
   "execution_count": 13,
   "id": "0384186e-0dd6-4001-ab99-fb42ff98ee74",
   "metadata": {},
   "outputs": [
    {
     "name": "stdout",
     "output_type": "stream",
     "text": [
      "{1: '39 million',\n",
      " 5: '100 million',\n",
      " 10: '124 million',\n",
      " 20: '185 million',\n",
      " 30: '244 million',\n",
      " 40: '311 million',\n",
      " 50: '393 million',\n",
      " 60: '503 million',\n",
      " 70: '675 million',\n",
      " 80: '1 billion',\n",
      " 90: '2 billion',\n",
      " 95: '5 billion',\n",
      " 99: '15 billion'}\n"
     ]
    }
   ],
   "source": [
    "uae_gov_prediction = sq.mixture([[0.6, sq.norm(8, 9, lclip=8)],\n",
    "                                 [0.4, bigtech_spend_on_largest_model_this_year(annual_r_and_d_spend=sq.lognorm(10*B, 100*B),\n",
    "                                                                                percent_r_and_d_on_ai=1,\n",
    "                                                                                percent_ai_spend_on_compute=pct_dist(0.3, 0.7),\n",
    "                                                                                percent_compute_on_biggest_model=pct_dist(0.01, 0.3))]])\n",
    "samples = uk_gov_prediction @ (100*K)\n",
    "pprint(dict([(i[0], numerize(10 ** i[1])) for i in sq.get_percentiles(samples).items()]))"
   ]
  },
  {
   "cell_type": "code",
   "execution_count": 14,
   "id": "55f2a147-7359-4612-9328-adef911326ed",
   "metadata": {},
   "outputs": [
    {
     "name": "stdout",
     "output_type": "stream",
     "text": [
      "{1: 0.39319314059733423,\n",
      " 5: 0.8912509381337456,\n",
      " 10: '763 thousand',\n",
      " 20: '2 million',\n",
      " 30: '4 million',\n",
      " 40: '8 million',\n",
      " 50: '17 million',\n",
      " 60: '47 million',\n",
      " 70: '150 million',\n",
      " 80: '406 million',\n",
      " 90: '1 billion',\n",
      " 95: '2 billion',\n",
      " 99: '8 billion'}\n"
     ]
    }
   ],
   "source": [
    "china_gov_prediction = sq.mixture([[0.05, 0],\n",
    "                                   [0.55, sq.norm(6, 8, lclip=6)],\n",
    "                                   [0.4, bigtech_spend_on_largest_model_this_year(annual_r_and_d_spend=sq.lognorm(10*B, 100*B),\n",
    "                                                                                  percent_r_and_d_on_ai=1,\n",
    "                                                                                  percent_ai_spend_on_compute=pct_dist(0.3, 0.7),\n",
    "                                                                                  percent_compute_on_biggest_model=pct_dist(0.01, 0.3))]])\n",
    "\n",
    "# Adjust China's \"effective US-equivalent\" spend by export controls and other things\n",
    "china_gov_prediction = china_gov_prediction - sq.norm(0.1, 0.5, lclip=0.05, rclip=1)\n",
    "\n",
    "samples = china_gov_prediction @ (100*K)\n",
    "pprint(dict([(i[0], numerize(10 ** i[1])) for i in sq.get_percentiles(samples).items()]))"
   ]
  },
  {
   "cell_type": "code",
   "execution_count": 15,
   "id": "ecd02af7-4aee-44ec-afc5-b00b1335ff68",
   "metadata": {},
   "outputs": [
    {
     "name": "stdout",
     "output_type": "stream",
     "text": [
      "{1: '307 million',\n",
      " 5: '488 million',\n",
      " 10: '641 million',\n",
      " 20: '918 million',\n",
      " 30: '1 billion',\n",
      " 40: '2 billion',\n",
      " 50: '2 billion',\n",
      " 60: '3 billion',\n",
      " 70: '4 billion',\n",
      " 80: '5 billion',\n",
      " 90: '8 billion',\n",
      " 95: '12 billion',\n",
      " 99: '26 billion'}\n"
     ]
    }
   ],
   "source": [
    "mixed_model = (largest_openai_model_prediction >>\n",
    "                    sq.dist_max(largest_anthropic_model_prediction) >>\n",
    "                    sq.dist_max(largest_inflection_model_prediction) >>\n",
    "                    sq.dist_max(largest_google_model_prediction) >>\n",
    "                    sq.dist_max(largest_microsoft_model_prediction) >>\n",
    "                    sq.dist_max(largest_fb_model_prediction) >>\n",
    "                    sq.dist_max(us_gov_prediction) >>\n",
    "                    sq.dist_max(uk_gov_prediction) >>\n",
    "                    sq.dist_max(uae_gov_prediction) >>\n",
    "                    sq.dist_max(china_gov_prediction))\n",
    "pprint(dict([(i[0], numerize(10 ** i[1])) for i in sq.get_percentiles(mixed_model @ (100*K)).items()]))"
   ]
  },
  {
   "cell_type": "markdown",
   "id": "dfc4147d-984b-4a74-abfe-fe6e6080daf4",
   "metadata": {},
   "source": [
    "## Cache spend model"
   ]
  },
  {
   "cell_type": "code",
   "execution_count": 16,
   "id": "d9756696-d62a-47d2-8ac7-628d22f9f76e",
   "metadata": {},
   "outputs": [
    {
     "name": "stderr",
     "output_type": "stream",
     "text": [
      "100%|████████████████████████████████████████████████████████████████████████████████████████████████████████████████████████████████████████████████████████████████████████| 3/3 [00:00<00:00, 511.58it/s]\n",
      "100%|████████████████████████████████████████████████████████████████████████████████████████████████████████████████████████████████████████████████████████████| 40000/40000 [00:00<00:00, 2604712.86it/s]\n",
      "100%|████████████████████████████████████████████████████████████████████████████████████████████████████████████████████████████████████████████████████████████████████████| 2/2 [00:00<00:00, 478.83it/s]\n",
      "100%|████████████████████████████████████████████████████████████████████████████████████████████████████████████████████████████████████████████████████████████| 40000/40000 [00:00<00:00, 2806446.20it/s]\n",
      "100%|████████████████████████████████████████████████████████████████████████████████████████████████████████████████████████████████████████████████████████████████████████| 2/2 [00:00<00:00, 462.41it/s]\n",
      "100%|████████████████████████████████████████████████████████████████████████████████████████████████████████████████████████████████████████████████████████████| 40000/40000 [00:00<00:00, 2768517.49it/s]\n",
      "100%|████████████████████████████████████████████████████████████████████████████████████████████████████████████████████████████████████████████████████████████████████████| 3/3 [00:00<00:00, 557.83it/s]\n",
      "100%|████████████████████████████████████████████████████████████████████████████████████████████████████████████████████████████████████████████████████████████| 40000/40000 [00:00<00:00, 2755920.30it/s]"
     ]
    },
    {
     "name": "stdout",
     "output_type": "stream",
     "text": [
      "Writing cache to file `caches/initial_pay.sqcache.npy`...\n",
      "...Cached\n",
      "{1: 8.5,\n",
      " 5: 8.7,\n",
      " 10: 8.8,\n",
      " 20: 9.0,\n",
      " 30: 9.1,\n",
      " 40: 9.2,\n",
      " 50: 9.3,\n",
      " 60: 9.4,\n",
      " 70: 9.6,\n",
      " 80: 9.7,\n",
      " 90: 9.9,\n",
      " 95: 10.1,\n",
      " 99: 10.4}\n"
     ]
    },
    {
     "name": "stderr",
     "output_type": "stream",
     "text": [
      "\n"
     ]
    },
    {
     "data": {
      "image/png": "[encoded data removed]",
      "text/plain": [
       "<Figure size 640x480 with 1 Axes>"
      ]
     },
     "metadata": {},
     "output_type": "display_data"
    }
   ],
   "source": [
    "# Output expected willingness to pay for a model in 2024, using log 2022$USD\n",
    "log_initial_pay_samples = sq.sample(mixed_model, dump_cache_file='caches/initial_pay', n=40000, verbose=True)\n",
    "pprint(sq.get_percentiles(log_initial_pay_samples, digits=1))\n",
    "plt.hist(log_initial_pay_samples, bins=200)\n",
    "plt.show()"
   ]
  },
  {
   "cell_type": "code",
   "execution_count": 17,
   "id": "935ff707-72f4-4eb4-a327-439b711f91d6",
   "metadata": {},
   "outputs": [
    {
     "name": "stdout",
     "output_type": "stream",
     "text": [
      "File last ran: 2023-12-26 13:42:13.978513\n"
     ]
    }
   ],
   "source": [
    "print('File last ran: {}'.format(dt.now()))"
   ]
  }
 ],
 "metadata": {
  "kernelspec": {
   "display_name": "Python 3 (ipykernel)",
   "language": "python",
   "name": "python3"
  },
  "language_info": {
   "codemirror_mode": {
    "name": "ipython",
    "version": 3
   },
   "file_extension": ".py",
   "mimetype": "text/x-python",
   "name": "python",
   "nbconvert_exporter": "python",
   "pygments_lexer": "ipython3",
   "version": "3.11.6"
  }
 },
 "nbformat": 4,
 "nbformat_minor": 5
}
