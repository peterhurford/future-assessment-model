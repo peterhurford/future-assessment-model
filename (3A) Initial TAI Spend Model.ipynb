{
 "cells": [
  {
   "cell_type": "code",
   "execution_count": null,
   "id": "5ac6fd9f-ba15-4177-b363-cd62b7b638d0",
   "metadata": {},
   "outputs": [
    {
     "name": "stdout",
     "output_type": "stream",
     "text": [
      "Loaded\n"
     ]
    }
   ],
   "source": [
    "import math\n",
    "import random\n",
    "import numpy as np\n",
    "import squigglepy as sq\n",
    "from squigglepy.numbers import K, M, B\n",
    "import matplotlib.pyplot as plt\n",
    "\n",
    "from copy import copy, deepcopy\n",
    "from scipy import stats\n",
    "from pprint import pprint\n",
    "\n",
    "exec(open('utils.py').read())\n",
    "print('Loaded')"
   ]
  },
  {
   "cell_type": "code",
   "execution_count": 16,
   "id": "714ccadd-8b56-4203-ab64-a957efa7e0e4",
   "metadata": {},
   "outputs": [
    {
     "name": "stdout",
     "output_type": "stream",
     "text": [
      "{1: '427 thousand',\n",
      " 5: '848 thousand',\n",
      " 10: '1 million',\n",
      " 20: '2 million',\n",
      " 30: '3 million',\n",
      " 40: '3 million',\n",
      " 50: '4 million',\n",
      " 60: '5 million',\n",
      " 70: '7 million',\n",
      " 80: '10 million',\n",
      " 90: '15 million',\n",
      " 95: '20 million',\n",
      " 99: '39 million'}\n",
      "-\n",
      "27.9%\n"
     ]
    }
   ],
   "source": [
    "def pct_dist(a, b):\n",
    "    return sq.lognorm(a, b, lclip=0.01, rclip=1, credibility=80) \n",
    "\n",
    "\n",
    "def openai_spend_on_largest_model_this_year(total_investment,\n",
    "                                            percent_investment_spent_this_year,\n",
    "                                            percent_spend_on_compute,\n",
    "                                            percent_compute_on_biggest_model):\n",
    "    return sq.dist_fn(total_investment * percent_investment_spent_this_year * percent_spend_on_compute * percent_compute_on_biggest_model,\n",
    "                      fn=np.log10)\n",
    "\n",
    "\n",
    "gpt3_prediction = openai_spend_on_largest_model_this_year(total_investment=1*B,\n",
    "                                                          percent_investment_spent_this_year=pct_dist(0.05, 0.3),\n",
    "                                                          percent_spend_on_compute=pct_dist(0.2, 0.8),\n",
    "                                                          percent_compute_on_biggest_model=pct_dist(0.05, 0.15))\n",
    "\n",
    "\n",
    "samples = gpt3_prediction @ (100*K)\n",
    "\n",
    "# See: https://docs.google.com/spreadsheets/d/1cLzO_tX9b4z6URKLFvzc0MtsN4GrftkFZuv1bCxeWVY/edit#gid=555410569\n",
    "actual_gpt3_spend = 2.4*M\n",
    "\n",
    "pprint(dict([(i[0], numerize(10 ** i[1])) for i in sq.get_percentiles(samples).items()]))\n",
    "print('-')\n",
    "print('{}%'.format(round(np.mean([s <= np.log10(actual_gpt3_spend) for s in samples]) * 100, 1)))"
   ]
  },
  {
   "cell_type": "code",
   "execution_count": 17,
   "id": "af2228bc-0982-4e39-98c1-17eeae33eae0",
   "metadata": {},
   "outputs": [
    {
     "name": "stdout",
     "output_type": "stream",
     "text": [
      "{1: '4 million',\n",
      " 5: '9 million',\n",
      " 10: '14 million',\n",
      " 20: '23 million',\n",
      " 30: '33 million',\n",
      " 40: '44 million',\n",
      " 50: '59 million',\n",
      " 60: '78 million',\n",
      " 70: '106 million',\n",
      " 80: '150 million',\n",
      " 90: '244 million',\n",
      " 95: '361 million',\n",
      " 99: '729 million'}\n"
     ]
    }
   ],
   "source": [
    "largest_openai_model_2023_prediction = openai_spend_on_largest_model_this_year(total_investment=10*B,\n",
    "                                                                               percent_investment_spent_this_year=pct_dist(0.05, 0.4),\n",
    "                                                                               percent_spend_on_compute=pct_dist(0.2, 0.9),\n",
    "                                                                               percent_compute_on_biggest_model=pct_dist(0.05, 0.2))\n",
    "samples = largest_openai_model_2023_prediction @ (100*K)\n",
    "\n",
    "pprint(dict([(i[0], numerize(10 ** i[1])) for i in sq.get_percentiles(samples).items()]))"
   ]
  },
  {
   "cell_type": "code",
   "execution_count": 26,
   "id": "88369903-7a10-4acb-b0ea-50b3f347c3b5",
   "metadata": {},
   "outputs": [
    {
     "name": "stdout",
     "output_type": "stream",
     "text": [
      "{1: '3 million',\n",
      " 5: '7 million',\n",
      " 10: '11 million',\n",
      " 20: '21 million',\n",
      " 30: '31 million',\n",
      " 40: '45 million',\n",
      " 50: '64 million',\n",
      " 60: '91 million',\n",
      " 70: '132 million',\n",
      " 80: '204 million',\n",
      " 90: '373 million',\n",
      " 95: '615 million',\n",
      " 99: '2 billion'}\n"
     ]
    }
   ],
   "source": [
    "def google_spend_on_largest_model_this_year(annual_r_and_d_spend,\n",
    "                                            percent_r_and_d_on_ai,\n",
    "                                            percent_ai_spend_on_compute,\n",
    "                                            percent_compute_on_biggest_model):\n",
    "    return sq.dist_fn(annual_r_and_d_spend *\n",
    "                      percent_r_and_d_on_ai *\n",
    "                      percent_ai_spend_on_compute *\n",
    "                      percent_compute_on_biggest_model, fn=np.log10)\n",
    "\n",
    "\n",
    "largest_google_model_2023_prediction = google_spend_on_largest_model_this_year(annual_r_and_d_spend=sq.norm(22*B, 40*B, credibility=80),\n",
    "                                                                               percent_r_and_d_on_ai=pct_dist(0.05, 0.5),\n",
    "                                                                               percent_ai_spend_on_compute=pct_dist(0.2, 0.9),\n",
    "                                                                               percent_compute_on_biggest_model=pct_dist(0.01, 0.1))\n",
    "samples = largest_google_model_2023_prediction @ (100*K)\n",
    "pprint(dict([(i[0], numerize(10 ** i[1])) for i in sq.get_percentiles(samples).items()]))"
   ]
  },
  {
   "cell_type": "code",
   "execution_count": 44,
   "id": "d69fe933-d4d9-4973-8936-07e3d54c142f",
   "metadata": {},
   "outputs": [
    {
     "data": {
      "text/plain": [
       "array([8.31888558, 7.75006254, 8.4252373 , 8.25794064, 8.29410084,\n",
       "       8.77465706, 7.40022856, 8.55412613, 7.88487481, 7.47409532])"
      ]
     },
     "execution_count": 44,
     "metadata": {},
     "output_type": "execute_result"
    }
   ],
   "source": [
    "sq.dist_max(largest_openai_model_2023_prediction, largest_google_model_2023_prediction) @ 10"
   ]
  },
  {
   "cell_type": "code",
   "execution_count": 45,
   "id": "b8d2d6dd-3dca-4011-b619-1bdfc5c8c471",
   "metadata": {},
   "outputs": [
    {
     "ename": "RecursionError",
     "evalue": "maximum recursion depth exceeded in comparison",
     "output_type": "error",
     "traceback": [
      "\u001b[0;31m---------------------------------------------------------------------------\u001b[0m",
      "\u001b[0;31mRecursionError\u001b[0m                            Traceback (most recent call last)",
      "Cell \u001b[0;32mIn [45], line 3\u001b[0m\n\u001b[1;32m      1\u001b[0m mixed_model \u001b[38;5;241m=\u001b[39m sq\u001b[38;5;241m.\u001b[39mdist_max(largest_openai_model_2023_prediction, largest_google_model_2023_prediction)\n\u001b[1;32m      2\u001b[0m mixed_model \u001b[38;5;241m@\u001b[39m (\u001b[38;5;241m100\u001b[39m\u001b[38;5;241m*\u001b[39mK)\n\u001b[0;32m----> 3\u001b[0m pprint(\u001b[38;5;28mdict\u001b[39m([(i[\u001b[38;5;241m0\u001b[39m], numerize(\u001b[38;5;241m10\u001b[39m \u001b[38;5;241m*\u001b[39m\u001b[38;5;241m*\u001b[39m i[\u001b[38;5;241m1\u001b[39m])) \u001b[38;5;28;01mfor\u001b[39;00m i \u001b[38;5;129;01min\u001b[39;00m sq\u001b[38;5;241m.\u001b[39mget_percentiles(mixed_model \u001b[38;5;241m@\u001b[39m (\u001b[38;5;241m100\u001b[39m\u001b[38;5;241m*\u001b[39mK))\u001b[38;5;241m.\u001b[39mitems()]))\n",
      "Cell \u001b[0;32mIn [45], line 3\u001b[0m, in \u001b[0;36m<listcomp>\u001b[0;34m(.0)\u001b[0m\n\u001b[1;32m      1\u001b[0m mixed_model \u001b[38;5;241m=\u001b[39m sq\u001b[38;5;241m.\u001b[39mdist_max(largest_openai_model_2023_prediction, largest_google_model_2023_prediction)\n\u001b[1;32m      2\u001b[0m mixed_model \u001b[38;5;241m@\u001b[39m (\u001b[38;5;241m100\u001b[39m\u001b[38;5;241m*\u001b[39mK)\n\u001b[0;32m----> 3\u001b[0m pprint(\u001b[38;5;28mdict\u001b[39m([(i[\u001b[38;5;241m0\u001b[39m], \u001b[43mnumerize\u001b[49m\u001b[43m(\u001b[49m\u001b[38;5;241;43m10\u001b[39;49m\u001b[43m \u001b[49m\u001b[38;5;241;43m*\u001b[39;49m\u001b[38;5;241;43m*\u001b[39;49m\u001b[43m \u001b[49m\u001b[43mi\u001b[49m\u001b[43m[\u001b[49m\u001b[38;5;241;43m1\u001b[39;49m\u001b[43m]\u001b[49m\u001b[43m)\u001b[49m) \u001b[38;5;28;01mfor\u001b[39;00m i \u001b[38;5;129;01min\u001b[39;00m sq\u001b[38;5;241m.\u001b[39mget_percentiles(mixed_model \u001b[38;5;241m@\u001b[39m (\u001b[38;5;241m100\u001b[39m\u001b[38;5;241m*\u001b[39mK))\u001b[38;5;241m.\u001b[39mitems()]))\n",
      "File \u001b[0;32m<string>:28\u001b[0m, in \u001b[0;36mnumerize\u001b[0;34m(num)\u001b[0m\n",
      "File \u001b[0;32m<string>:28\u001b[0m, in \u001b[0;36mnumerize\u001b[0;34m(num)\u001b[0m\n",
      "    \u001b[0;31m[... skipping similar frames: numerize at line 28 (2968 times)]\u001b[0m\n",
      "File \u001b[0;32m<string>:28\u001b[0m, in \u001b[0;36mnumerize\u001b[0;34m(num)\u001b[0m\n",
      "File \u001b[0;32m<string>:21\u001b[0m, in \u001b[0;36mnumerize\u001b[0;34m(num)\u001b[0m\n",
      "\u001b[0;31mRecursionError\u001b[0m: maximum recursion depth exceeded in comparison"
     ]
    }
   ],
   "source": [
    "mixed_model = sq.dist_max(largest_openai_model_2023_prediction, largest_google_model_2023_prediction)\n",
    "mixed_model @ (100*K)\n",
    "pprint(dict([(i[0], numerize(10 ** i[1])) for i in sq.get_percentiles(mixed_model @ (100*K)).items()]))"
   ]
  },
  {
   "cell_type": "code",
   "execution_count": 46,
   "id": "d9756696-d62a-47d2-8ac7-628d22f9f76e",
   "metadata": {},
   "outputs": [
    {
     "name": "stdout",
     "output_type": "stream",
     "text": [
      "Writing cache to file `caches/initial_pay.sqcache.npy`...\n",
      "...Cached\n",
      "{1: 7.108155985566396,\n",
      " 5: 7.381324215598414,\n",
      " 10: 7.5307228636822945,\n",
      " 20: 7.71348114719872,\n",
      " 30: 7.848867736551558,\n",
      " 40: 7.971305750633925,\n",
      " 50: 8.085682840378745,\n",
      " 60: 8.196533767988056,\n",
      " 70: 8.318547150620388,\n",
      " 80: 8.466329208022353,\n",
      " 90: 8.680978709736927,\n",
      " 95: 8.854234142359445,\n",
      " 99: 9.20405930408508}\n"
     ]
    },
    {
     "data": {
      "image/png": "[encoded data removed]",
      "text/plain": [
       "<Figure size 640x480 with 1 Axes>"
      ]
     },
     "metadata": {},
     "output_type": "display_data"
    }
   ],
   "source": [
    "log_initial_pay_samples = sq.sample(mixed_model, dump_cache_file='caches/initial_pay', n=40000, verbose=True)\n",
    "pprint(sq.get_percentiles(log_initial_pay_samples))\n",
    "plt.hist(log_initial_pay_samples, bins=200)\n",
    "plt.show()"
   ]
  },
  {
   "cell_type": "code",
   "execution_count": 47,
   "id": "ad582302-ea53-457b-83a7-75da1bfd2f8d",
   "metadata": {},
   "outputs": [
    {
     "data": {
      "text/plain": [
       "{1: 7.083937297667176,\n",
       " 5: 7.388103273558428,\n",
       " 10: 7.547878569724751,\n",
       " 20: 7.743677722519442,\n",
       " 30: 7.885271572065818,\n",
       " 40: 8.006205518989102,\n",
       " 50: 8.118372011029306,\n",
       " 60: 8.231382308212375,\n",
       " 70: 8.352473721141202,\n",
       " 80: 8.49186332153726,\n",
       " 90: 8.685324279131427,\n",
       " 95: 8.85006473323121,\n",
       " 99: 9.148390462980618}"
      ]
     },
     "execution_count": 47,
     "metadata": {},
     "output_type": "execute_result"
    }
   ],
   "source": [
    "sq.get_percentiles(sq.norm(7.38, 8.85) @ 100000)"
   ]
  },
  {
   "cell_type": "code",
   "execution_count": null,
   "id": "fb14eae4-a09b-4e54-92cd-df7e309663bd",
   "metadata": {},
   "outputs": [],
   "source": []
  }
 ],
 "metadata": {
  "kernelspec": {
   "display_name": "Python 3 (ipykernel)",
   "language": "python",
   "name": "python3"
  },
  "language_info": {
   "codemirror_mode": {
    "name": "ipython",
    "version": 3
   },
   "file_extension": ".py",
   "mimetype": "text/x-python",
   "name": "python",
   "nbconvert_exporter": "python",
   "pygments_lexer": "ipython3",
   "version": "3.9.15"
  }
 },
 "nbformat": 4,
 "nbformat_minor": 5
}
