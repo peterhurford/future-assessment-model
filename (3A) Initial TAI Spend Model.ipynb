{
 "cells": [
  {
   "cell_type": "code",
   "execution_count": 1,
   "id": "5ac6fd9f-ba15-4177-b363-cd62b7b638d0",
   "metadata": {},
   "outputs": [
    {
     "name": "stdout",
     "output_type": "stream",
     "text": [
      "Loaded\n"
     ]
    }
   ],
   "source": [
    "import math\n",
    "import random\n",
    "import numpy as np\n",
    "import squigglepy as sq\n",
    "from squigglepy.numbers import K, M, B, T\n",
    "import matplotlib.pyplot as plt\n",
    "\n",
    "from copy import copy, deepcopy\n",
    "from scipy import stats\n",
    "from pprint import pprint\n",
    "\n",
    "exec(open('utils.py').read())\n",
    "print('Loaded')"
   ]
  },
  {
   "cell_type": "code",
   "execution_count": 2,
   "id": "714ccadd-8b56-4203-ab64-a957efa7e0e4",
   "metadata": {},
   "outputs": [
    {
     "name": "stdout",
     "output_type": "stream",
     "text": [
      "{1: '624 thousand',\n",
      " 5: '1 million',\n",
      " 10: '2 million',\n",
      " 20: '2 million',\n",
      " 30: '3 million',\n",
      " 40: '4 million',\n",
      " 50: '5 million',\n",
      " 60: '6 million',\n",
      " 70: '8 million',\n",
      " 80: '10 million',\n",
      " 90: '15 million',\n",
      " 95: '21 million',\n",
      " 99: '38 million'}\n",
      "-\n",
      "Actual spend is at the 21.3th percentile of the model\n"
     ]
    }
   ],
   "source": [
    "def pct_dist(a, b):\n",
    "    return sq.lognorm(a, b, lclip=0.001, rclip=1, credibility=80) \n",
    "\n",
    "\n",
    "def openai_spend_on_largest_model_this_year(total_investment,\n",
    "                                            percent_investment_spent_this_year,\n",
    "                                            percent_spend_on_compute,\n",
    "                                            percent_compute_on_biggest_model):\n",
    "    return sq.dist_fn(total_investment * percent_investment_spent_this_year * percent_spend_on_compute * percent_compute_on_biggest_model,\n",
    "                      fn=np.log10)\n",
    "\n",
    "\n",
    "gpt3_prediction = openai_spend_on_largest_model_this_year(total_investment=1*B,\n",
    "                                                          percent_investment_spent_this_year=pct_dist(0.05, 0.3),\n",
    "                                                          percent_spend_on_compute=pct_dist(0.3, 0.7),\n",
    "                                                          percent_compute_on_biggest_model=pct_dist(0.05, 0.15))\n",
    "\n",
    "\n",
    "samples = gpt3_prediction @ (100*K)\n",
    "\n",
    "# See: https://docs.google.com/spreadsheets/d/1cLzO_tX9b4z6URKLFvzc0MtsN4GrftkFZuv1bCxeWVY/edit#gid=555410569\n",
    "actual_gpt3_spend = 2.4*M\n",
    "\n",
    "pprint(dict([(i[0], numerize(10 ** i[1])) for i in sq.get_percentiles(samples).items()]))\n",
    "print('-')\n",
    "print('Actual spend is at the {}th percentile of the model'.format(round(np.mean([s <= np.log10(actual_gpt3_spend) for s in samples]) * 100, 1)))\n"
   ]
  },
  {
   "cell_type": "code",
   "execution_count": 3,
   "id": "af2228bc-0982-4e39-98c1-17eeae33eae0",
   "metadata": {},
   "outputs": [
    {
     "name": "stdout",
     "output_type": "stream",
     "text": [
      "{1: '6 million',\n",
      " 5: '12 million',\n",
      " 10: '17 million',\n",
      " 20: '26 million',\n",
      " 30: '34 million',\n",
      " 40: '44 million',\n",
      " 50: '56 million',\n",
      " 60: '71 million',\n",
      " 70: '92 million',\n",
      " 80: '124 million',\n",
      " 90: '189 million',\n",
      " 95: '266 million',\n",
      " 99: '511 million'}\n"
     ]
    }
   ],
   "source": [
    "# OpenAI has 375 people as of 2023 Jan per https://twitter.com/sama/status/1617627882997813248\n",
    "# if we assume it costs $500K per person and that payroll is half of non-compute costs, that means $375M per year is spent\n",
    "largest_openai_model_2023_prediction = openai_spend_on_largest_model_this_year(total_investment=10*B,\n",
    "                                                                               percent_investment_spent_this_year=pct_dist(0.05, 0.3),\n",
    "                                                                               percent_spend_on_compute=pct_dist(0.3, 0.7),\n",
    "                                                                               percent_compute_on_biggest_model=pct_dist(0.05, 0.2))\n",
    "samples = largest_openai_model_2023_prediction @ (100*K)\n",
    "pprint(dict([(i[0], numerize(10 ** i[1])) for i in sq.get_percentiles(samples).items()]))"
   ]
  },
  {
   "cell_type": "code",
   "execution_count": 4,
   "id": "3677b910-9753-4b06-a97e-751d408a5b29",
   "metadata": {},
   "outputs": [
    {
     "name": "stdout",
     "output_type": "stream",
     "text": [
      "{1: '707 thousand',\n",
      " 5: '1 million',\n",
      " 10: '2 million',\n",
      " 20: '3 million',\n",
      " 30: '4 million',\n",
      " 40: '5 million',\n",
      " 50: '6 million',\n",
      " 60: '8 million',\n",
      " 70: '10 million',\n",
      " 80: '14 million',\n",
      " 90: '20 million',\n",
      " 95: '27 million',\n",
      " 99: '46 million'}\n"
     ]
    }
   ],
   "source": [
    "# https://www.nytimes.com/2023/01/27/technology/anthropic-ai-funding.html\n",
    "largest_anthropic_model_2023_prediction = openai_spend_on_largest_model_this_year(total_investment=300*M,\n",
    "                                                                                  percent_investment_spent_this_year=pct_dist(0.1, 0.3),\n",
    "                                                                                  percent_spend_on_compute=pct_dist(0.3, 0.7),\n",
    "                                                                                  percent_compute_on_biggest_model=pct_dist(0.1, 0.7))\n",
    "samples = largest_anthropic_model_2023_prediction @ (100*K)\n",
    "pprint(dict([(i[0], numerize(10 ** i[1])) for i in sq.get_percentiles(samples).items()]))"
   ]
  },
  {
   "cell_type": "code",
   "execution_count": 5,
   "id": "88369903-7a10-4acb-b0ea-50b3f347c3b5",
   "metadata": {},
   "outputs": [
    {
     "name": "stdout",
     "output_type": "stream",
     "text": [
      "{1: '515 thousand',\n",
      " 5: '1 million',\n",
      " 10: '2 million',\n",
      " 20: '4 million',\n",
      " 30: '8 million',\n",
      " 40: '13 million',\n",
      " 50: '22 million',\n",
      " 60: '37 million',\n",
      " 70: '64 million',\n",
      " 80: '123 million',\n",
      " 90: '297 million',\n",
      " 95: '613 million',\n",
      " 99: '2 billion'}\n"
     ]
    }
   ],
   "source": [
    "def google_spend_on_largest_model_this_year(annual_r_and_d_spend,\n",
    "                                            percent_r_and_d_on_ai,\n",
    "                                            percent_ai_spend_on_compute,\n",
    "                                            percent_compute_on_biggest_model):\n",
    "    return sq.dist_fn(annual_r_and_d_spend *\n",
    "                      percent_r_and_d_on_ai *\n",
    "                      percent_ai_spend_on_compute *\n",
    "                      percent_compute_on_biggest_model, fn=np.log10)\n",
    "\n",
    "\n",
    "largest_google_model_2023_prediction = google_spend_on_largest_model_this_year(annual_r_and_d_spend=sq.norm(22*B, 40*B, lclip=20*B),\n",
    "                                                                               percent_r_and_d_on_ai=pct_dist(0.05, 0.5),\n",
    "                                                                               percent_ai_spend_on_compute=pct_dist(0.3, 0.7),\n",
    "                                                                               percent_compute_on_biggest_model=pct_dist(0.001, 0.1))\n",
    "samples = largest_google_model_2023_prediction @ (100*K)\n",
    "pprint(dict([(i[0], numerize(10 ** i[1])) for i in sq.get_percentiles(samples).items()]))"
   ]
  },
  {
   "cell_type": "code",
   "execution_count": 6,
   "id": "887170c8-35b9-476d-9d4d-7ab7c87b4051",
   "metadata": {},
   "outputs": [
    {
     "name": "stdout",
     "output_type": "stream",
     "text": [
      "{1: '542 thousand',\n",
      " 5: '1 million',\n",
      " 10: '2 million',\n",
      " 20: '3 million',\n",
      " 30: '5 million',\n",
      " 40: '9 million',\n",
      " 50: '14 million',\n",
      " 60: '23 million',\n",
      " 70: '38 million',\n",
      " 80: '71 million',\n",
      " 90: '165 million',\n",
      " 95: '333 million',\n",
      " 99: '1 billion'}\n"
     ]
    }
   ],
   "source": [
    "largest_fb_model_2023_prediction = google_spend_on_largest_model_this_year(annual_r_and_d_spend=sq.norm(22*B, 40*B, lclip=20*B),\n",
    "                                                                           percent_r_and_d_on_ai=pct_dist(0.05, 0.2),\n",
    "                                                                           percent_ai_spend_on_compute=pct_dist(0.3, 0.7),\n",
    "                                                                           percent_compute_on_biggest_model=pct_dist(0.001, 0.1))\n",
    "samples = largest_fb_model_2023_prediction @ (100*K)\n",
    "pprint(dict([(i[0], numerize(10 ** i[1])) for i in sq.get_percentiles(samples).items()]))"
   ]
  },
  {
   "cell_type": "code",
   "execution_count": 7,
   "id": "11d559ba-7d6d-4d06-ac7e-13b9b329f4b8",
   "metadata": {},
   "outputs": [
    {
     "name": "stdout",
     "output_type": "stream",
     "text": [
      "{1: '1 million',\n",
      " 5: '1 million',\n",
      " 10: '2 million',\n",
      " 20: '3 million',\n",
      " 30: '5 million',\n",
      " 40: '7 million',\n",
      " 50: '11 million',\n",
      " 60: '16 million',\n",
      " 70: '24 million',\n",
      " 80: '39 million',\n",
      " 90: '83 million',\n",
      " 95: '185 million',\n",
      " 99: '3 billion'}\n"
     ]
    }
   ],
   "source": [
    "us_gov_2023_prediction = sq.mixture([[0.95, sq.norm(6, 8, lclip=6)],\n",
    "                                     [0.05, google_spend_on_largest_model_this_year(annual_r_and_d_spend=sq.lognorm(10*B, T, lclip=B),\n",
    "                                                                                    percent_r_and_d_on_ai=1,\n",
    "                                                                                    percent_ai_spend_on_compute=pct_dist(0.3, 0.7),\n",
    "                                                                                    percent_compute_on_biggest_model=pct_dist(0.001, 0.1))]])\n",
    "samples = us_gov_2023_prediction @ (100*K)\n",
    "pprint(dict([(i[0], numerize(10 ** i[1])) for i in sq.get_percentiles(samples).items()]))\n"
   ]
  },
  {
   "cell_type": "code",
   "execution_count": 8,
   "id": "0cd4f64c-39cf-406a-bbfa-5dc9fa8c93bb",
   "metadata": {},
   "outputs": [
    {
     "name": "stdout",
     "output_type": "stream",
     "text": [
      "{1: '1 million',\n",
      " 5: '1 million',\n",
      " 10: '2 million',\n",
      " 20: '4 million',\n",
      " 30: '6 million',\n",
      " 40: '9 million',\n",
      " 50: '13 million',\n",
      " 60: '19 million',\n",
      " 70: '30 million',\n",
      " 80: '54 million',\n",
      " 90: '142 million',\n",
      " 95: '386 million',\n",
      " 99: '3 billion'}\n"
     ]
    }
   ],
   "source": [
    "uk_gov_2023_prediction = sq.mixture([[0.85, sq.norm(6, 8, lclip=6)],\n",
    "                                     [0.15, google_spend_on_largest_model_this_year(annual_r_and_d_spend=sq.lognorm(10*B, 100*B, lclip=B),\n",
    "                                                                                    percent_r_and_d_on_ai=1,\n",
    "                                                                                    percent_ai_spend_on_compute=pct_dist(0.3, 0.7),\n",
    "                                                                                    percent_compute_on_biggest_model=pct_dist(0.001, 0.1))]])\n",
    "samples = uk_gov_2023_prediction @ (100*K)\n",
    "pprint(dict([(i[0], numerize(10 ** i[1])) for i in sq.get_percentiles(samples).items()]))\n"
   ]
  },
  {
   "cell_type": "code",
   "execution_count": 9,
   "id": "07906d48-f9f0-4dcb-be88-2a5d9e173404",
   "metadata": {},
   "outputs": [
    {
     "name": "stdout",
     "output_type": "stream",
     "text": [
      "{1: '1 million',\n",
      " 5: '1 million',\n",
      " 10: '2 million',\n",
      " 20: '4 million',\n",
      " 30: '6 million',\n",
      " 40: '9 million',\n",
      " 50: '13 million',\n",
      " 60: '19 million',\n",
      " 70: '31 million',\n",
      " 80: '55 million',\n",
      " 90: '144 million',\n",
      " 95: '384 million',\n",
      " 99: '3 billion'}\n"
     ]
    }
   ],
   "source": [
    "china_gov_2023_prediction = sq.mixture([[0.85, sq.norm(6, 8, lclip=6)],\n",
    "                                        [0.15, google_spend_on_largest_model_this_year(annual_r_and_d_spend=sq.lognorm(10*B, T, lclip=B),\n",
    "                                                                                       percent_r_and_d_on_ai=1,\n",
    "                                                                                       percent_ai_spend_on_compute=pct_dist(0.3, 0.7),\n",
    "                                                                                       percent_compute_on_biggest_model=pct_dist(0.001, 0.1))]])\n",
    "samples = uk_gov_2023_prediction @ (100*K)\n",
    "pprint(dict([(i[0], numerize(10 ** i[1])) for i in sq.get_percentiles(samples).items()]))\n"
   ]
  },
  {
   "cell_type": "code",
   "execution_count": 10,
   "id": "b8d2d6dd-3dca-4011-b619-1bdfc5c8c471",
   "metadata": {},
   "outputs": [
    {
     "data": {
      "text/plain": [
       "<Distribution> max(max(max(max(max(max(log10(10000000000 * lognorm(mean=-2.1, sd=0.7, lclip=0.001, rclip=1) * lognorm(mean=-0.78, sd=0.33, lclip=0.001, rclip=1) * lognorm(mean=-2.3, sd=0.54, lclip=0.001, rclip=1)), log10(300000000 * lognorm(mean=-1.75, sd=0.43, lclip=0.001, rclip=1) * lognorm(mean=-0.78, sd=0.33, lclip=0.001, rclip=1) * lognorm(mean=-1.33, sd=0.76, lclip=0.001, rclip=1))), log10(norm(mean=31000000000.0, sd=5471611487.21, lclip=20000000000) * lognorm(mean=-1.84, sd=0.9, lclip=0.001, rclip=1) * lognorm(mean=-0.78, sd=0.33, lclip=0.001, rclip=1) * lognorm(mean=-4.61, sd=1.8, lclip=0.001, rclip=1))), log10(norm(mean=31000000000.0, sd=5471611487.21, lclip=20000000000) * lognorm(mean=-2.3, sd=0.54, lclip=0.001, rclip=1) * lognorm(mean=-0.78, sd=0.33, lclip=0.001, rclip=1) * lognorm(mean=-4.61, sd=1.8, lclip=0.001, rclip=1))), mixture\n",
       " - norm(mean=7.0, sd=0.61, lclip=6)\n",
       " - log10(lognorm(mean=25.33, sd=1.4, lclip=1000000000) * 1 * lognorm(mean=-0.78, sd=0.33, lclip=0.001, rclip=1) * lognorm(mean=-4.61, sd=1.8, lclip=0.001, rclip=1))), mixture\n",
       " - norm(mean=7.0, sd=0.61, lclip=6)\n",
       " - log10(lognorm(mean=24.18, sd=0.7, lclip=1000000000) * 1 * lognorm(mean=-0.78, sd=0.33, lclip=0.001, rclip=1) * lognorm(mean=-4.61, sd=1.8, lclip=0.001, rclip=1))), mixture\n",
       " - norm(mean=7.0, sd=0.61, lclip=6)\n",
       " - log10(lognorm(mean=25.33, sd=1.4, lclip=1000000000) * 1 * lognorm(mean=-0.78, sd=0.33, lclip=0.001, rclip=1) * lognorm(mean=-4.61, sd=1.8, lclip=0.001, rclip=1)))"
      ]
     },
     "execution_count": 10,
     "metadata": {},
     "output_type": "execute_result"
    }
   ],
   "source": [
    "mixed_model = (largest_openai_model_2023_prediction >>\n",
    "               sq.dist_max(largest_anthropic_model_2023_prediction) >>\n",
    "               sq.dist_max(largest_google_model_2023_prediction) >>\n",
    "               sq.dist_max(largest_fb_model_2023_prediction) >>\n",
    "               sq.dist_max(us_gov_2023_prediction) >>\n",
    "               sq.dist_max(uk_gov_2023_prediction) >>\n",
    "               sq.dist_max(china_gov_2023_prediction))\n",
    "mixed_model"
   ]
  },
  {
   "cell_type": "code",
   "execution_count": 11,
   "id": "bdfe096a-eb5e-4ba9-b908-d0452e9244a3",
   "metadata": {},
   "outputs": [
    {
     "name": "stdout",
     "output_type": "stream",
     "text": [
      "{1: '21 million',\n",
      " 5: '35 million',\n",
      " 10: '47 million',\n",
      " 20: '70 million',\n",
      " 30: '95 million',\n",
      " 40: '126 million',\n",
      " 50: '167 million',\n",
      " 60: '229 million',\n",
      " 70: '338 million',\n",
      " 80: '586 million',\n",
      " 90: '1 billion',\n",
      " 95: '4 billion',\n",
      " 99: '21 billion'}\n"
     ]
    }
   ],
   "source": [
    "pprint(dict([(i[0], numerize(10 ** i[1])) for i in sq.get_percentiles(mixed_model @ (100*K)).items()]))"
   ]
  },
  {
   "cell_type": "code",
   "execution_count": 12,
   "id": "d9756696-d62a-47d2-8ac7-628d22f9f76e",
   "metadata": {},
   "outputs": [
    {
     "name": "stderr",
     "output_type": "stream",
     "text": [
      "100%|█████████████████████████████████████████████████████████████████████████████████████████████████████████████████████████████████████████████████████████████████████████| 2/2 [00:00<00:00, 42.99it/s]\n",
      "100%|█████████████████████████████████████████████████████████████████████████████████████████████████████████████████████████████████████████████████████████████| 40000/40000 [00:00<00:00, 796355.33it/s]\n",
      "100%|█████████████████████████████████████████████████████████████████████████████████████████████████████████████████████████████████████████████████████████████████████████| 2/2 [00:00<00:00, 50.53it/s]\n",
      "100%|█████████████████████████████████████████████████████████████████████████████████████████████████████████████████████████████████████████████████████████████| 40000/40000 [00:00<00:00, 811705.20it/s]\n",
      "100%|█████████████████████████████████████████████████████████████████████████████████████████████████████████████████████████████████████████████████████████████████████████| 2/2 [00:00<00:00, 54.56it/s]\n",
      "100%|█████████████████████████████████████████████████████████████████████████████████████████████████████████████████████████████████████████████████████████████| 40000/40000 [00:00<00:00, 821289.32it/s]\n"
     ]
    },
    {
     "name": "stdout",
     "output_type": "stream",
     "text": [
      "Writing cache to file `caches/initial_pay.sqcache.npy`...\n",
      "...Cached\n",
      "{1: 7.3,\n",
      " 5: 7.5,\n",
      " 10: 7.7,\n",
      " 20: 7.8,\n",
      " 30: 8.0,\n",
      " 40: 8.1,\n",
      " 50: 8.2,\n",
      " 60: 8.4,\n",
      " 70: 8.5,\n",
      " 80: 8.8,\n",
      " 90: 9.2,\n",
      " 95: 9.5,\n",
      " 99: 10.3}\n"
     ]
    },
    {
     "data": {
      "image/png": "[encoded data removed]",
      "text/plain": [
       "<Figure size 640x480 with 1 Axes>"
      ]
     },
     "metadata": {},
     "output_type": "display_data"
    }
   ],
   "source": [
    "log_initial_pay_samples = sq.sample(mixed_model, dump_cache_file='caches/initial_pay', n=40000, verbose=True)\n",
    "pprint(sq.get_percentiles(log_initial_pay_samples, digits=1))\n",
    "plt.hist(log_initial_pay_samples, bins=200)\n",
    "plt.show()"
   ]
  }
 ],
 "metadata": {
  "kernelspec": {
   "display_name": "Python 3 (ipykernel)",
   "language": "python",
   "name": "python3"
  },
  "language_info": {
   "codemirror_mode": {
    "name": "ipython",
    "version": 3
   },
   "file_extension": ".py",
   "mimetype": "text/x-python",
   "name": "python",
   "nbconvert_exporter": "python",
   "pygments_lexer": "ipython3",
   "version": "3.9.16"
  }
 },
 "nbformat": 4,
 "nbformat_minor": 5
}
