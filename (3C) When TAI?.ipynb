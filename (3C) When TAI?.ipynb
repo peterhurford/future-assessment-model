{
 "cells": [
  {
   "cell_type": "markdown",
   "metadata": {},
   "source": [
    "## Library"
   ]
  },
  {
   "cell_type": "code",
   "execution_count": 1,
   "metadata": {
    "tags": []
   },
   "outputs": [
    {
     "name": "stdout",
     "output_type": "stream",
     "text": [
      "Loaded 1\n",
      "Loaded 2\n",
      "Loaded TAI timelines module\n"
     ]
    }
   ],
   "source": [
    "import os\n",
    "import dill\n",
    "import math\n",
    "import random\n",
    "\n",
    "import numpy as np\n",
    "import matplotlib.pyplot as plt\n",
    "\n",
    "import squigglepy as sq\n",
    "from squigglepy import bayes\n",
    "from squigglepy.numbers import K, M, B, T\n",
    "\n",
    "from copy import copy, deepcopy\n",
    "from scipy import stats\n",
    "from pprint import pprint\n",
    "from datetime import datetime as dt\n",
    "print('Loaded 1')\n",
    "\n",
    "exec(open('utils.py').read())\n",
    "print('Loaded 2')\n",
    "\n",
    "exec(open('modules/tai_timelines.py').read())\n",
    "print('Loaded TAI timelines module')\n"
   ]
  },
  {
   "cell_type": "markdown",
   "metadata": {},
   "source": [
    "## Variables"
   ]
  },
  {
   "cell_type": "code",
   "execution_count": 2,
   "metadata": {},
   "outputs": [],
   "source": [
    "# Global variables - probably don't want to change these but you could.\n",
    "RUNS = 10000                                      # Number of runs to do (default 10000)\n",
    "MAX_YEAR = CURRENT_YEAR + 100                     # What year to end the run on? (CURRENT_YEAR defined in utils.py)\n",
    "years = list(range(CURRENT_YEAR, MAX_YEAR))"
   ]
  },
  {
   "cell_type": "code",
   "execution_count": 3,
   "metadata": {},
   "outputs": [
    {
     "name": "stdout",
     "output_type": "stream",
     "text": [
      "Cache from: 2024-03-15 15:30:18.726215\n"
     ]
    },
    {
     "data": {
      "text/plain": [
       "{1: 24.0,\n",
       " 5: 25.3,\n",
       " 10: 26.1,\n",
       " 20: 27.0,\n",
       " 30: 28.3,\n",
       " 40: 30.1,\n",
       " 50: 31.9,\n",
       " 60: 33.7,\n",
       " 70: 35.7,\n",
       " 80: 38.2,\n",
       " 90: 41.6,\n",
       " 95: 44.5,\n",
       " 99: 50.0}"
      ]
     },
     "execution_count": 3,
     "metadata": {},
     "output_type": "execute_result"
    }
   ],
   "source": [
    "tai_flop_size = sq.sample(load_cache_file='caches/pasta')  # Cache generated in \"(1B) Minimal Menace Anchors\" notebook\n",
    "print('Cache from: {}'.format(dt.fromtimestamp(os.path.getmtime('caches/pasta.sqcache.npy'))))\n",
    "tai_flop_size = [round(t, 1) for t in tai_flop_size]\n",
    "sq.get_percentiles(tai_flop_size)"
   ]
  },
  {
   "cell_type": "code",
   "execution_count": 4,
   "metadata": {},
   "outputs": [
    {
     "name": "stdout",
     "output_type": "stream",
     "text": [
      "Cache from: 2024-03-15 12:27:41.902659\n"
     ]
    },
    {
     "data": {
      "text/plain": [
       "{1: 8.0,\n",
       " 5: 8.2,\n",
       " 10: 8.4,\n",
       " 20: 8.6,\n",
       " 30: 8.8,\n",
       " 40: 8.9,\n",
       " 50: 9.1,\n",
       " 60: 9.2,\n",
       " 70: 9.4,\n",
       " 80: 9.6,\n",
       " 90: 9.9,\n",
       " 95: 10.1,\n",
       " 99: 10.5}"
      ]
     },
     "execution_count": 4,
     "metadata": {},
     "output_type": "execute_result"
    }
   ],
   "source": [
    "initial_pay = sq.sample(load_cache_file='caches/initial_pay')  # Cache generated in \"(3A) Initial TAI Spend Model\" notebook\n",
    "print('Cache from: {}'.format(dt.fromtimestamp(os.path.getmtime('caches/initial_pay.sqcache.npy'))))\n",
    "initial_pay = [round(p, 1) for p in initial_pay]\n",
    "sq.get_percentiles(initial_pay)"
   ]
  },
  {
   "cell_type": "code",
   "execution_count": 5,
   "metadata": {},
   "outputs": [
    {
     "name": "stdout",
     "output_type": "stream",
     "text": [
      "Cache from: 2024-03-15 12:30:55.271687\n"
     ]
    },
    {
     "data": {
      "text/plain": [
       "{'algorithms': {'prob': <function __main__.derive_nonscaling_delay_curve.<locals>.p_nonscaling_delay(year)>,\n",
       "  'length': <Distribution> mixture\n",
       "   - 0.9 weight on <Distribution> lognorm(lognorm_mean=3.29, lognorm_sd=0.93, norm_mean=1.15, norm_sd=0.28)\n",
       "   - 0.1 weight on <Distribution> lognorm(lognorm_mean=8.08, lognorm_sd=6.42, norm_mean=1.84, norm_sd=0.7) (version 0.28-dev1)},\n",
       " 'infra': {'prob': <function __main__.derive_nonscaling_delay_curve.<locals>.p_nonscaling_delay(year)>,\n",
       "  'length': <Distribution> lognorm(lognorm_mean=4.04, lognorm_sd=3.21, norm_mean=1.15, norm_sd=0.7) (version 0.28-dev1)},\n",
       " 'data': {'prob': <function __main__.derive_nonscaling_delay_curve.<locals>.p_nonscaling_delay(year)>,\n",
       "  'length': <Distribution> mixture\n",
       "   - 0.9 weight on <Distribution> lognorm(lognorm_mean=3.45, lognorm_sd=2.42, norm_mean=1.04, norm_sd=0.63)\n",
       "   - 0.1 weight on <Distribution> lognorm(lognorm_mean=5.86, lognorm_sd=2.22, norm_mean=1.7, norm_sd=0.37) (version 0.28-dev1)},\n",
       " 'robotics': {'prob': <function __main__.derive_nonscaling_delay_curve.<locals>.p_nonscaling_delay(year)>,\n",
       "  'length': <Distribution> mixture\n",
       "   - 0.85 weight on <Distribution> lognorm(lognorm_mean=5.86, lognorm_sd=2.22, norm_mean=1.7, norm_sd=0.37)\n",
       "   - 0.15 weight on <Distribution> lognorm(lognorm_mean=10.53, lognorm_sd=2.47, norm_mean=2.33, norm_sd=0.23) (version 0.28-dev1)},\n",
       " 'integration': {'prob': <function __main__.derive_nonscaling_delay_curve.<locals>.p_nonscaling_delay(year)>,\n",
       "  'length': <Distribution> lognorm(lognorm_mean=12.12, lognorm_sd=9.64, norm_mean=2.25, norm_sd=0.7) (version 0.28-dev1)},\n",
       " 'real_world_feedback': {'prob': <function __main__.derive_nonscaling_delay_curve.<locals>.p_nonscaling_delay(year)>,\n",
       "  'length': <Distribution> mixture\n",
       "   - 0.8 weight on <Distribution> lognorm(lognorm_mean=5.86, lognorm_sd=2.22, norm_mean=1.7, norm_sd=0.37)\n",
       "   - 0.1 weight on <Distribution> lognorm(lognorm_mean=18.31, lognorm_sd=6.29, norm_mean=2.85, norm_sd=0.33)\n",
       "   - 0.1 weight on <Distribution> lognorm(lognorm_mean=32.87, lognorm_sd=9.34, norm_mean=3.45, norm_sd=0.28) (version 0.28-dev1)},\n",
       " 'take_off': {'prob': <function __main__.derive_nonscaling_delay_curve.<locals>.p_nonscaling_delay(year)>,\n",
       "  'length': <Distribution> lognorm(lognorm_mean=6.61, lognorm_sd=4.46, norm_mean=1.7, norm_sd=0.61) (version 0.28-dev1)}}"
      ]
     },
     "execution_count": 5,
     "metadata": {},
     "output_type": "execute_result"
    }
   ],
   "source": [
    "# PROBABILITY OF A NONSCALING DELAY\n",
    "\n",
    "# set to None to have no delay\n",
    "# Otherwise specified in a dictionary\n",
    "# {'delay': {'prob': <array of probabilities by year>, 'length': <distribution to sample from to get length of delay>}}\n",
    "\n",
    "# Cache defined in \"(3B) Nonscaling Delay Curve\"\n",
    "\n",
    "with open('caches/nonscaling_delays.dill', 'rb') as f:\n",
    "    delay = dill.load(f)\n",
    "print('Cache from: {}'.format(dt.fromtimestamp(os.path.getmtime('caches/nonscaling_delays.dill'))))\n",
    "\n",
    "delay"
   ]
  },
  {
   "cell_type": "code",
   "execution_count": 6,
   "metadata": {},
   "outputs": [
    {
     "name": "stdout",
     "output_type": "stream",
     "text": [
      "Loaded\n"
     ]
    }
   ],
   "source": [
    "def wildeford_max_gdp_frac():\n",
    "    old_form_megaproject = sq.lognorm(1/K, 1/150)\n",
    "    gigaproject = sq.lognorm(1/150, 1/50)\n",
    "    \n",
    "    r_ = random.random()\n",
    "    if r_ < 0.8:\n",
    "        gdp_frac = old_form_megaproject\n",
    "        percent_spent_on_compute = sq.lognorm(0.5, 0.95, rclip=0.999)\n",
    "        percent_spent_on_largest_model = sq.lognorm(0.015, 0.8, rclip=0.999)\n",
    "    else:\n",
    "        gdp_frac = gigaproject\n",
    "        percent_spent_on_compute = sq.lognorm(0.7, 0.99, lclip=0.1, rclip=0.999)\n",
    "        percent_spent_on_largest_model = sq.lognorm(0.01, 0.8, rclip=0.999)\n",
    "\n",
    "    frac = ~gdp_frac * ~percent_spent_on_compute * ~percent_spent_on_largest_model\n",
    "    frac = 1 / (4*K) if frac < (1 / (4*K)) else frac\n",
    "    gpd_frac = 1 / (4*K) if gdp_frac < (1 / (4*K)) else gdp_frac\n",
    "    return {'total_frac': gdp_frac, 'compute_frac': frac}\n",
    "\n",
    "\n",
    "# https://forum.effectivealtruism.org/posts/ccw9v9giKxg8nyLhp/xpt-forecasts-on-some-biological-anchors-inputs\n",
    "variables = {'initial_gdp': 23.32*T * sq.lognorm(1.02, 1.03) * sq.lognorm(1.02, 1.03) * sq.lognorm(1.02, 1.03),\n",
    "             'tai_flop_size': tai_flop_size,\n",
    "             'algo_doubling_rate_max': sq.lognorm(0.75, 3),\n",
    "             'algo_doubling_rate_min': sq.lognorm(0.5, 2),\n",
    "             'min_reduction': 2,\n",
    "             'max_reduction': sq.lognorm(3, 15),\n",
    "             'initial_flop_per_dollar': sq.lognorm(18, 19.5),  # https://docs.google.com/spreadsheets/d/1cLzO_tX9b4z6URKLFvzc0MtsN4GrftkFZuv1bCxeWVY/edit#gid=2058539694\n",
    "             'flop_halving_rate': sq.norm(2, 3),      # https://epochai.org/blog/trends-in-gpu-price-performance and https://epochai.org/blog/predicting-gpu-performance\n",
    "             'max_flop_per_dollar': sq.norm(21, 26),  # https://epochai.org/blog/predicting-gpu-performance and https://asteriskmag.com/issues/03/the-transistor-cliff\n",
    "             'initial_pay': initial_pay,\n",
    "             'gdp_growth': sq.lognorm(1.01, 1.035, lclip=1.005),\n",
    "             'max_gdp_frac': lambda: wildeford_max_gdp_frac()['compute_frac'], # TODO: Willingness to spend connected to commercialization\n",
    "             'spend_doubling_time': sq.lognorm(1, 8.5, lclip=0.9),\n",
    "             'nonscaling_delay': delay}\n",
    "\n",
    "print('Loaded')\n"
   ]
  },
  {
   "cell_type": "markdown",
   "metadata": {},
   "source": [
    "## GDP Frac"
   ]
  },
  {
   "cell_type": "markdown",
   "metadata": {},
   "source": [
    "#### Total % of GDP spent on entire project"
   ]
  },
  {
   "cell_type": "code",
   "execution_count": 7,
   "metadata": {},
   "outputs": [
    {
     "name": "stderr",
     "output_type": "stream",
     "text": [
      "100%|███████████████████████████████████████████████████████████| 5000/5000 [00:03<00:00, 1486.83it/s]\n",
      "100%|██████████████████████████████████████████████████████████| 5000/5000 [00:00<00:00, 25401.58it/s]\n"
     ]
    },
    {
     "data": {
      "text/plain": [
       "{1: 0.00074,\n",
       " 5: 0.00106,\n",
       " 10: 0.00132,\n",
       " 20: 0.00172,\n",
       " 30: 0.00213,\n",
       " 40: 0.0026,\n",
       " 50: 0.00318,\n",
       " 60: 0.00393,\n",
       " 70: 0.00515,\n",
       " 80: 0.00782,\n",
       " 90: 0.01176,\n",
       " 95: 0.0145,\n",
       " 99: 0.01967}"
      ]
     },
     "execution_count": 7,
     "metadata": {},
     "output_type": "execute_result"
    }
   ],
   "source": [
    "gdp_frac_samples = sq.sample(lambda: wildeford_max_gdp_frac()['total_frac'], verbose=True, n=5000)\n",
    "sq.get_percentiles(gdp_frac_samples, digits=5)"
   ]
  },
  {
   "cell_type": "code",
   "execution_count": 8,
   "metadata": {},
   "outputs": [
    {
     "data": {
      "text/plain": [
       "{1: '0.074%',\n",
       " 5: '0.106%',\n",
       " 10: '0.132%',\n",
       " 20: '0.172%',\n",
       " 30: '0.213%',\n",
       " 40: '0.26%',\n",
       " 50: '0.318%',\n",
       " 60: '0.393%',\n",
       " 70: '0.515%',\n",
       " 80: '0.782%',\n",
       " 90: '1.176%',\n",
       " 95: '1.45%',\n",
       " 99: '1.967%'}"
      ]
     },
     "execution_count": 8,
     "metadata": {},
     "output_type": "execute_result"
    }
   ],
   "source": [
    "dict([(k, '{}%'.format(round(v * 100, 3))) for k, v in sq.get_percentiles(gdp_frac_samples, digits=5).items()])"
   ]
  },
  {
   "cell_type": "code",
   "execution_count": 9,
   "metadata": {},
   "outputs": [
    {
     "data": {
      "text/plain": [
       "{1: '18.8 billion',\n",
       " 5: '26.7 billion',\n",
       " 10: '33.2 billion',\n",
       " 20: '43.2 billion',\n",
       " 30: '53.4 billion',\n",
       " 40: '65.3 billion',\n",
       " 50: '79.6 billion',\n",
       " 60: '99.0 billion',\n",
       " 70: '129.4 billion',\n",
       " 80: '197.0 billion',\n",
       " 90: '295.4 billion',\n",
       " 95: '366.8 billion',\n",
       " 99: '493.3 billion'}"
      ]
     },
     "execution_count": 9,
     "metadata": {},
     "output_type": "execute_result"
    }
   ],
   "source": [
    "gdp_samples = sq.sample(variables['initial_gdp'], n=5000) * gdp_frac_samples\n",
    "{k: numerize(v) for k, v in sq.get_percentiles(gdp_samples).items()}"
   ]
  },
  {
   "cell_type": "markdown",
   "metadata": {},
   "source": [
    "#### Total GDP spent on compute for largest model"
   ]
  },
  {
   "cell_type": "code",
   "execution_count": 10,
   "metadata": {},
   "outputs": [
    {
     "name": "stderr",
     "output_type": "stream",
     "text": [
      "100%|███████████████████████████████████████████████████████████| 5000/5000 [00:03<00:00, 1390.51it/s]\n",
      "100%|█████████████████████████████████████████████████████████| 5000/5000 [00:00<00:00, 343879.97it/s]\n"
     ]
    },
    {
     "data": {
      "text/plain": [
       "{1: 0.00025,\n",
       " 5: 0.00025,\n",
       " 10: 0.00025,\n",
       " 20: 0.00025,\n",
       " 30: 0.00025,\n",
       " 40: 0.00025,\n",
       " 50: 0.00025,\n",
       " 60: 0.00037,\n",
       " 70: 0.00056,\n",
       " 80: 0.00088,\n",
       " 90: 0.00167,\n",
       " 95: 0.00285,\n",
       " 99: 0.00751}"
      ]
     },
     "execution_count": 10,
     "metadata": {},
     "output_type": "execute_result"
    }
   ],
   "source": [
    "gdp_frac_samples = sq.sample(lambda: wildeford_max_gdp_frac()['compute_frac'], verbose=True, n=5000)\n",
    "sq.get_percentiles(gdp_frac_samples, digits=5)"
   ]
  },
  {
   "cell_type": "code",
   "execution_count": 11,
   "metadata": {},
   "outputs": [
    {
     "data": {
      "text/plain": [
       "{1: '0.025%',\n",
       " 5: '0.025%',\n",
       " 10: '0.025%',\n",
       " 20: '0.025%',\n",
       " 30: '0.025%',\n",
       " 40: '0.025%',\n",
       " 50: '0.025%',\n",
       " 60: '0.037%',\n",
       " 70: '0.056%',\n",
       " 80: '0.088%',\n",
       " 90: '0.167%',\n",
       " 95: '0.285%',\n",
       " 99: '0.751%'}"
      ]
     },
     "execution_count": 11,
     "metadata": {},
     "output_type": "execute_result"
    }
   ],
   "source": [
    "dict([(k, '{}%'.format(round(v * 100, 3))) for k, v in sq.get_percentiles(gdp_frac_samples, digits=5).items()])"
   ]
  },
  {
   "cell_type": "code",
   "execution_count": 12,
   "metadata": {},
   "outputs": [
    {
     "data": {
      "text/plain": [
       "{1: '6.2 billion',\n",
       " 5: '6.2 billion',\n",
       " 10: '6.3 billion',\n",
       " 20: '6.3 billion',\n",
       " 30: '6.3 billion',\n",
       " 40: '6.3 billion',\n",
       " 50: '6.4 billion',\n",
       " 60: '9.4 billion',\n",
       " 70: '14.1 billion',\n",
       " 80: '22.2 billion',\n",
       " 90: '41.9 billion',\n",
       " 95: '71.5 billion',\n",
       " 99: '190.6 billion'}"
      ]
     },
     "execution_count": 12,
     "metadata": {},
     "output_type": "execute_result"
    }
   ],
   "source": [
    "gdp_samples = sq.sample(variables['initial_gdp'], n=5000) * gdp_frac_samples\n",
    "{k: numerize(v) for k, v in sq.get_percentiles(gdp_samples).items()}"
   ]
  },
  {
   "cell_type": "markdown",
   "metadata": {},
   "source": [
    "## Run Wildeford timelines model"
   ]
  },
  {
   "cell_type": "code",
   "execution_count": null,
   "metadata": {},
   "outputs": [
    {
     "name": "stdout",
     "output_type": "stream",
     "text": [
      "\n",
      "\n",
      "## SAMPLE RUN 1 ##\n",
      "\n",
      "In this simulation:\n",
      "* It takes 27.8 log FLOP (~6.3 octillion) for transformative capabilities.\n",
      "* Every 3.6 years algorithms get 2x better, with 2 log reductions possible.\n",
      "* FLOP start at a cost of 18.4 log FLOP (~2.5 quintillion) per 2024$USD.\n",
      "* Every 2.0 years they get 2x cheaper, to a maximum of 22.2 log FLOP (~15.2 sextillion) per 2024$USD.\n",
      "* We are initially willing to pay 8.4 log 2024$USD (~242.8 million).\n",
      "* This doubles every 1.6 year to a max of 0.028872% of GDP (initially ~7.3 billion 2024$USD).\n",
      "* GDP grows at a rate of 1.016x per year.\n",
      "---\n",
      "2024 - TAI takes 27.8 logFLOP which costs 9.4 log 2024$USD to buy vs. WTP at 8.4 (buys 26.8 log FLOP or 26.8 2024-log-eFLOP)\n",
      "2025 - TAI takes 27.7 logFLOP which costs 9.2 log 2024$USD to buy vs. WTP at 8.6 (buys 27.1 log FLOP or 27.2 2024-log-eFLOP)\n",
      "2026 - TAI takes 27.6 logFLOP which costs 8.9 log 2024$USD to buy vs. WTP at 8.7 (buys 27.4 log FLOP or 27.6 2024-log-eFLOP)\n",
      "2027 - TAI takes 27.6 logFLOP which costs 8.7 log 2024$USD to buy vs. WTP at 8.9 (buys 27.8 log FLOP or 28.0 2024-log-eFLOP)\n",
      "-- algorithms p_nonscaling_issue p=0.283 -> Nonscaling issue did not occur\n",
      "-- infra p_nonscaling_issue p=0.0703 -> Nonscaling issue did not occur\n",
      "-- data p_nonscaling_issue p=0.5936 -> Nonscaling issue did not occur\n",
      "-- robotics p_nonscaling_issue p=0.3 -> Nonscaling issue did not occur\n",
      "-- integration p_nonscaling_issue p=0.3 -> Nonscaling issue did not occur\n",
      "-- real_world_feedback p_nonscaling_issue p=0.1 -> Nonscaling delay occured\n",
      "-- -- this delay is 12 years (total delay 12 years)\n",
      "-- take_off p_nonscaling_issue p=0.4675 -> Nonscaling delay occured\n",
      "-- -- this delay is 11 years (total delay 15 years)\n",
      "/!\\ FLOP for TAI sufficient but needs 15 more years to solve non-scaling issues\n",
      "2028 - TAI takes 27.5 logFLOP which costs 8.5 log 2024$USD to buy vs. WTP at 9.1 (buys 28.1 log FLOP or 28.4 2024-log-eFLOP)\n",
      "/!\\ FLOP for TAI sufficient but needs 14 more years to solve non-scaling issues\n",
      "2029 - TAI takes 27.4 logFLOP which costs 8.2 log 2024$USD to buy vs. WTP at 9.2 (buys 28.4 log FLOP or 28.8 2024-log-eFLOP)\n",
      "/!\\ FLOP for TAI sufficient but needs 13 more years to solve non-scaling issues\n",
      "2030 - TAI takes 27.3 logFLOP which costs 8.0 log 2024$USD to buy vs. WTP at 9.4 (buys 28.7 log FLOP or 29.2 2024-log-eFLOP)\n",
      "/!\\ FLOP for TAI sufficient but needs 12 more years to solve non-scaling issues\n",
      "2031 - TAI takes 27.2 logFLOP which costs 7.8 log 2024$USD to buy vs. WTP at 9.5 (buys 29.0 log FLOP or 29.5 2024-log-eFLOP)\n",
      "/!\\ FLOP for TAI sufficient but needs 11 more years to solve non-scaling issues\n",
      "2032 - TAI takes 27.2 logFLOP which costs 7.5 log 2024$USD to buy vs. WTP at 9.6 (buys 29.2 log FLOP or 29.9 2024-log-eFLOP)\n",
      "/!\\ FLOP for TAI sufficient but needs 10 more years to solve non-scaling issues\n",
      "2033 - TAI takes 27.1 logFLOP which costs 7.3 log 2024$USD to buy vs. WTP at 9.7 (buys 29.5 log FLOP or 30.2 2024-log-eFLOP)\n",
      "/!\\ FLOP for TAI sufficient but needs 9 more years to solve non-scaling issues\n",
      "2034 - TAI takes 27.0 logFLOP which costs 7.1 log 2024$USD to buy vs. WTP at 9.8 (buys 29.7 log FLOP or 30.5 2024-log-eFLOP)\n",
      "/!\\ FLOP for TAI sufficient but needs 8 more years to solve non-scaling issues\n",
      "2035 - TAI takes 26.9 logFLOP which costs 6.8 log 2024$USD to buy vs. WTP at 9.8 (buys 29.9 log FLOP or 30.8 2024-log-eFLOP)\n",
      "/!\\ FLOP for TAI sufficient but needs 7 more years to solve non-scaling issues\n",
      "2036 - TAI takes 26.8 logFLOP which costs 6.6 log 2024$USD to buy vs. WTP at 9.9 (buys 30.1 log FLOP or 31.1 2024-log-eFLOP)\n",
      "/!\\ FLOP for TAI sufficient but needs 6 more years to solve non-scaling issues\n",
      "2037 - TAI takes 26.8 logFLOP which costs 6.4 log 2024$USD to buy vs. WTP at 9.9 (buys 30.3 log FLOP or 31.3 2024-log-eFLOP)\n",
      "/!\\ FLOP for TAI sufficient but needs 5 more years to solve non-scaling issues\n",
      "2038 - TAI takes 26.7 logFLOP which costs 6.2 log 2024$USD to buy vs. WTP at 9.9 (buys 30.5 log FLOP or 31.6 2024-log-eFLOP)\n",
      "/!\\ FLOP for TAI sufficient but needs 4 more years to solve non-scaling issues\n",
      "2039 - TAI takes 26.6 logFLOP which costs 5.9 log 2024$USD to buy vs. WTP at 9.9 (buys 30.6 log FLOP or 31.8 2024-log-eFLOP)\n",
      "/!\\ FLOP for TAI sufficient but needs 3 more years to solve non-scaling issues\n",
      "2040 - TAI takes 26.6 logFLOP which costs 5.7 log 2024$USD to buy vs. WTP at 10.0 (buys 30.8 log FLOP or 32.0 2024-log-eFLOP)\n",
      "/!\\ FLOP for TAI sufficient but needs 2 more years to solve non-scaling issues\n",
      "2041 - TAI takes 26.5 logFLOP which costs 5.5 log 2024$USD to buy vs. WTP at 10.0 (buys 31.0 log FLOP or 32.3 2024-log-eFLOP)\n",
      "/!\\ FLOP for TAI sufficient but needs 1 more years to solve non-scaling issues\n",
      "2042 - TAI takes 26.4 logFLOP which costs 5.3 log 2024$USD to buy vs. WTP at 10.0 (buys 31.1 log FLOP or 32.5 2024-log-eFLOP)\n",
      "--- /!\\ TAI CREATED in 2042\n",
      "\n"
     ]
    },
    {
     "data": {
      "image/png": "[encoded data removed]",
      "text/plain": [
       "<Figure size 640x480 with 1 Axes>"
      ]
     },
     "metadata": {},
     "output_type": "display_data"
    },
    {
     "name": "stdout",
     "output_type": "stream",
     "text": [
      "\n",
      "\n",
      "## SAMPLE RUN 2 ##\n",
      "\n",
      "In this simulation:\n",
      "* It takes 29.9 log FLOP (~794.3 octillion) for transformative capabilities.\n",
      "* Every 1.5 years algorithms get 2x better, with 2 log reductions possible.\n",
      "* FLOP start at a cost of 18.5 log FLOP (~2.8 quintillion) per 2024$USD.\n",
      "* Every 1.8 years they get 2x cheaper, to a maximum of 20.3 log FLOP (~219.5 quintillion) per 2024$USD.\n",
      "* We are initially willing to pay 9.6 log 2024$USD (~4.2 billion).\n",
      "* This doubles every 13.3 year to a max of 0.025% of GDP (initially ~6.3 billion 2024$USD).\n",
      "* GDP grows at a rate of 1.019x per year.\n",
      "---\n",
      "2024 - TAI takes 29.9 logFLOP which costs 11.5 log 2024$USD to buy vs. WTP at 9.4 (buys 27.8 log FLOP or 27.9 2024-log-eFLOP)\n",
      "2025 - TAI takes 29.7 logFLOP which costs 11.1 log 2024$USD to buy vs. WTP at 9.4 (buys 28.0 log FLOP or 28.2 2024-log-eFLOP)\n",
      "2026 - TAI takes 29.5 logFLOP which costs 10.7 log 2024$USD to buy vs. WTP at 9.4 (buys 28.2 log FLOP or 28.6 2024-log-eFLOP)\n",
      "2027 - TAI takes 29.3 logFLOP which costs 10.4 log 2024$USD to buy vs. WTP at 9.5 (buys 28.4 log FLOP or 29.0 2024-log-eFLOP)\n",
      "2028 - TAI takes 29.1 logFLOP which costs 10.0 log 2024$USD to buy vs. WTP at 9.5 (buys 28.6 log FLOP or 29.3 2024-log-eFLOP)\n",
      "2029 - TAI takes 29.0 logFLOP which costs 9.7 log 2024$USD to buy vs. WTP at 9.5 (buys 28.7 log FLOP or 29.7 2024-log-eFLOP)\n",
      "2030 - TAI takes 28.8 logFLOP which costs 9.4 log 2024$USD to buy vs. WTP at 9.5 (buys 28.9 log FLOP or 30.0 2024-log-eFLOP)\n",
      "-- algorithms p_nonscaling_issue p=0.2086 -> Nonscaling delay occured\n",
      "-- -- this delay is 4 years (total delay 4 years)\n",
      "-- infra p_nonscaling_issue p=0.05 -> Nonscaling issue did not occur\n",
      "-- data p_nonscaling_issue p=0.1118 -> Nonscaling issue did not occur\n",
      "-- robotics p_nonscaling_issue p=0.1564 -> Nonscaling delay occured\n",
      "-- -- this delay is 3 years (total delay 5 years)\n",
      "-- integration p_nonscaling_issue p=0.2459 -> Nonscaling delay occured\n",
      "-- -- this delay is 26 years (total delay 32 years)\n",
      "-- real_world_feedback p_nonscaling_issue p=0.0557 -> Nonscaling issue did not occur\n",
      "-- take_off p_nonscaling_issue p=0.4255 -> Nonscaling issue did not occur\n",
      "/!\\ FLOP for TAI sufficient but needs 32 more years to solve non-scaling issues\n",
      "2031 - TAI takes 28.6 logFLOP which costs 9.1 log 2024$USD to buy vs. WTP at 9.5 (buys 29.0 log FLOP or 30.3 2024-log-eFLOP)\n",
      "/!\\ FLOP for TAI sufficient but needs 31 more years to solve non-scaling issues\n",
      "2032 - TAI takes 28.5 logFLOP which costs 8.8 log 2024$USD to buy vs. WTP at 9.5 (buys 29.2 log FLOP or 30.6 2024-log-eFLOP)\n",
      "/!\\ FLOP for TAI sufficient but needs 30 more years to solve non-scaling issues\n",
      "2033 - TAI takes 28.3 logFLOP which costs 8.5 log 2024$USD to buy vs. WTP at 9.5 (buys 29.3 log FLOP or 30.9 2024-log-eFLOP)\n",
      "/!\\ FLOP for TAI sufficient but needs 29 more years to solve non-scaling issues\n",
      "2034 - TAI takes 28.2 logFLOP which costs 8.3 log 2024$USD to buy vs. WTP at 9.6 (buys 29.5 log FLOP or 31.2 2024-log-eFLOP)\n",
      "/!\\ FLOP for TAI sufficient but needs 28 more years to solve non-scaling issues\n",
      "2035 - TAI takes 28.1 logFLOP which costs 8.1 log 2024$USD to buy vs. WTP at 9.6 (buys 29.6 log FLOP or 31.4 2024-log-eFLOP)\n",
      "/!\\ FLOP for TAI sufficient but needs 27 more years to solve non-scaling issues\n",
      "2036 - TAI takes 28.1 logFLOP which costs 8.0 log 2024$USD to buy vs. WTP at 9.6 (buys 29.7 log FLOP or 31.5 2024-log-eFLOP)\n",
      "/!\\ FLOP for TAI sufficient but needs 26 more years to solve non-scaling issues\n",
      "2037 - TAI takes 28.0 logFLOP which costs 7.9 log 2024$USD to buy vs. WTP at 9.6 (buys 29.8 log FLOP or 31.7 2024-log-eFLOP)\n",
      "/!\\ FLOP for TAI sufficient but needs 25 more years to solve non-scaling issues\n",
      "2038 - TAI takes 28.0 logFLOP which costs 7.8 log 2024$USD to buy vs. WTP at 9.6 (buys 29.8 log FLOP or 31.8 2024-log-eFLOP)\n",
      "/!\\ FLOP for TAI sufficient but needs 24 more years to solve non-scaling issues\n",
      "2039 - TAI takes 27.9 logFLOP which costs 7.7 log 2024$USD to buy vs. WTP at 9.6 (buys 29.9 log FLOP or 31.8 2024-log-eFLOP)\n",
      "/!\\ FLOP for TAI sufficient but needs 23 more years to solve non-scaling issues\n",
      "2040 - TAI takes 27.9 logFLOP which costs 7.7 log 2024$USD to buy vs. WTP at 9.7 (buys 29.9 log FLOP or 31.9 2024-log-eFLOP)\n",
      "/!\\ FLOP for TAI sufficient but needs 22 more years to solve non-scaling issues\n",
      "2041 - TAI takes 27.9 logFLOP which costs 7.6 log 2024$USD to buy vs. WTP at 9.7 (buys 30.0 log FLOP or 31.9 2024-log-eFLOP)\n",
      "/!\\ FLOP for TAI sufficient but needs 21 more years to solve non-scaling issues\n",
      "2042 - TAI takes 27.9 logFLOP which costs 7.6 log 2024$USD to buy vs. WTP at 9.7 (buys 30.0 log FLOP or 32.0 2024-log-eFLOP)\n",
      "/!\\ FLOP for TAI sufficient but needs 20 more years to solve non-scaling issues\n",
      "2043 - TAI takes 27.9 logFLOP which costs 7.6 log 2024$USD to buy vs. WTP at 9.7 (buys 30.0 log FLOP or 32.0 2024-log-eFLOP)\n",
      "/!\\ FLOP for TAI sufficient but needs 19 more years to solve non-scaling issues\n",
      "2044 - TAI takes 27.9 logFLOP which costs 7.6 log 2024$USD to buy vs. WTP at 9.7 (buys 30.0 log FLOP or 32.0 2024-log-eFLOP)\n",
      "/!\\ FLOP for TAI sufficient but needs 18 more years to solve non-scaling issues\n",
      "2045 - TAI takes 27.9 logFLOP which costs 7.6 log 2024$USD to buy vs. WTP at 9.7 (buys 30.1 log FLOP or 32.1 2024-log-eFLOP)\n",
      "/!\\ FLOP for TAI sufficient but needs 17 more years to solve non-scaling issues\n",
      "2046 - TAI takes 27.9 logFLOP which costs 7.6 log 2024$USD to buy vs. WTP at 9.7 (buys 30.1 log FLOP or 32.1 2024-log-eFLOP)\n",
      "/!\\ FLOP for TAI sufficient but needs 16 more years to solve non-scaling issues\n",
      "2047 - TAI takes 27.9 logFLOP which costs 7.6 log 2024$USD to buy vs. WTP at 9.8 (buys 30.1 log FLOP or 32.1 2024-log-eFLOP)\n",
      "/!\\ FLOP for TAI sufficient but needs 15 more years to solve non-scaling issues\n",
      "2048 - TAI takes 27.9 logFLOP which costs 7.6 log 2024$USD to buy vs. WTP at 9.8 (buys 30.1 log FLOP or 32.1 2024-log-eFLOP)\n",
      "/!\\ FLOP for TAI sufficient but needs 14 more years to solve non-scaling issues\n",
      "2049 - TAI takes 27.9 logFLOP which costs 7.6 log 2024$USD to buy vs. WTP at 9.8 (buys 30.1 log FLOP or 32.1 2024-log-eFLOP)\n",
      "/!\\ FLOP for TAI sufficient but needs 13 more years to solve non-scaling issues\n",
      "2050 - TAI takes 27.9 logFLOP which costs 7.6 log 2024$USD to buy vs. WTP at 9.8 (buys 30.1 log FLOP or 32.1 2024-log-eFLOP)\n",
      "/!\\ FLOP for TAI sufficient but needs 12 more years to solve non-scaling issues\n",
      "2051 - TAI takes 27.9 logFLOP which costs 7.6 log 2024$USD to buy vs. WTP at 9.8 (buys 30.1 log FLOP or 32.2 2024-log-eFLOP)\n",
      "/!\\ FLOP for TAI sufficient but needs 11 more years to solve non-scaling issues\n",
      "2052 - TAI takes 27.9 logFLOP which costs 7.6 log 2024$USD to buy vs. WTP at 9.8 (buys 30.2 log FLOP or 32.2 2024-log-eFLOP)\n",
      "/!\\ FLOP for TAI sufficient but needs 10 more years to solve non-scaling issues\n",
      "2053 - TAI takes 27.9 logFLOP which costs 7.6 log 2024$USD to buy vs. WTP at 9.8 (buys 30.2 log FLOP or 32.2 2024-log-eFLOP)\n",
      "/!\\ FLOP for TAI sufficient but needs 9 more years to solve non-scaling issues\n",
      "2054 - TAI takes 27.9 logFLOP which costs 7.6 log 2024$USD to buy vs. WTP at 9.8 (buys 30.2 log FLOP or 32.2 2024-log-eFLOP)\n",
      "/!\\ FLOP for TAI sufficient but needs 8 more years to solve non-scaling issues\n",
      "2055 - TAI takes 27.9 logFLOP which costs 7.6 log 2024$USD to buy vs. WTP at 9.9 (buys 30.2 log FLOP or 32.2 2024-log-eFLOP)\n",
      "/!\\ FLOP for TAI sufficient but needs 7 more years to solve non-scaling issues\n",
      "2056 - TAI takes 27.9 logFLOP which costs 7.6 log 2024$USD to buy vs. WTP at 9.9 (buys 30.2 log FLOP or 32.2 2024-log-eFLOP)\n",
      "/!\\ FLOP for TAI sufficient but needs 6 more years to solve non-scaling issues\n",
      "2057 - TAI takes 27.9 logFLOP which costs 7.6 log 2024$USD to buy vs. WTP at 9.9 (buys 30.2 log FLOP or 32.2 2024-log-eFLOP)\n",
      "/!\\ FLOP for TAI sufficient but needs 5 more years to solve non-scaling issues\n",
      "2058 - TAI takes 27.9 logFLOP which costs 7.6 log 2024$USD to buy vs. WTP at 9.9 (buys 30.2 log FLOP or 32.2 2024-log-eFLOP)\n",
      "/!\\ FLOP for TAI sufficient but needs 4 more years to solve non-scaling issues\n",
      "2059 - TAI takes 27.9 logFLOP which costs 7.6 log 2024$USD to buy vs. WTP at 9.9 (buys 30.3 log FLOP or 32.3 2024-log-eFLOP)\n",
      "/!\\ FLOP for TAI sufficient but needs 3 more years to solve non-scaling issues\n",
      "2060 - TAI takes 27.9 logFLOP which costs 7.6 log 2024$USD to buy vs. WTP at 9.9 (buys 30.3 log FLOP or 32.3 2024-log-eFLOP)\n",
      "/!\\ FLOP for TAI sufficient but needs 2 more years to solve non-scaling issues\n",
      "2061 - TAI takes 27.9 logFLOP which costs 7.6 log 2024$USD to buy vs. WTP at 9.9 (buys 30.3 log FLOP or 32.3 2024-log-eFLOP)\n",
      "/!\\ FLOP for TAI sufficient but needs 1 more years to solve non-scaling issues\n",
      "2062 - TAI takes 27.9 logFLOP which costs 7.6 log 2024$USD to buy vs. WTP at 10.0 (buys 30.3 log FLOP or 32.3 2024-log-eFLOP)\n",
      "--- /!\\ TAI CREATED in 2062\n",
      "\n"
     ]
    },
    {
     "data": {
      "image/png": "[encoded data removed]",
      "text/plain": [
       "<Figure size 640x480 with 1 Axes>"
      ]
     },
     "metadata": {},
     "output_type": "display_data"
    },
    {
     "name": "stdout",
     "output_type": "stream",
     "text": [
      "\n",
      "\n",
      "## SAMPLE RUN 3 ##\n",
      "\n",
      "In this simulation:\n",
      "* It takes 34.4 log FLOP (~25.1 decillion) for transformative capabilities.\n",
      "* Every 1.4 years algorithms get 2x better, with 3 log reductions possible.\n",
      "* FLOP start at a cost of 18.1 log FLOP (~1.3 quintillion) per 2024$USD.\n",
      "* Every 2.7 years they get 2x cheaper, to a maximum of 25.8 log FLOP (~59.4 septillion) per 2024$USD.\n",
      "* We are initially willing to pay 9.5 log 2024$USD (~3.0 billion).\n",
      "* This doubles every 10.3 year to a max of 0.046613% of GDP (initially ~11.7 billion 2024$USD).\n",
      "* GDP grows at a rate of 1.033x per year.\n",
      "---\n",
      "2024 - TAI takes 34.4 logFLOP which costs 16.3 log 2024$USD to buy vs. WTP at 9.4 (buys 27.5 log FLOP or 27.5 2024-log-eFLOP)\n",
      "2025 - TAI takes 34.2 logFLOP which costs 16.0 log 2024$USD to buy vs. WTP at 9.4 (buys 27.6 log FLOP or 27.8 2024-log-eFLOP)\n",
      "2026 - TAI takes 34.0 logFLOP which costs 15.6 log 2024$USD to buy vs. WTP at 9.4 (buys 27.8 log FLOP or 28.2 2024-log-eFLOP)\n",
      "2027 - TAI takes 33.7 logFLOP which costs 15.3 log 2024$USD to buy vs. WTP at 9.5 (buys 27.9 log FLOP or 28.6 2024-log-eFLOP)\n",
      "2028 - TAI takes 33.5 logFLOP which costs 15.0 log 2024$USD to buy vs. WTP at 9.5 (buys 28.0 log FLOP or 28.9 2024-log-eFLOP)\n",
      "2029 - TAI takes 33.3 logFLOP which costs 14.6 log 2024$USD to buy vs. WTP at 9.5 (buys 28.2 log FLOP or 29.3 2024-log-eFLOP)\n",
      "2030 - TAI takes 33.1 logFLOP which costs 14.3 log 2024$USD to buy vs. WTP at 9.5 (buys 28.3 log FLOP or 29.6 2024-log-eFLOP)\n",
      "2031 - TAI takes 32.9 logFLOP which costs 14.0 log 2024$USD to buy vs. WTP at 9.6 (buys 28.5 log FLOP or 30.0 2024-log-eFLOP)\n",
      "2032 - TAI takes 32.6 logFLOP which costs 13.6 log 2024$USD to buy vs. WTP at 9.6 (buys 28.6 log FLOP or 30.3 2024-log-eFLOP)\n",
      "2033 - TAI takes 32.4 logFLOP which costs 13.3 log 2024$USD to buy vs. WTP at 9.6 (buys 28.7 log FLOP or 30.7 2024-log-eFLOP)\n",
      "2034 - TAI takes 32.2 logFLOP which costs 13.0 log 2024$USD to buy vs. WTP at 9.6 (buys 28.9 log FLOP or 31.0 2024-log-eFLOP)\n",
      "2035 - TAI takes 32.1 logFLOP which costs 12.7 log 2024$USD to buy vs. WTP at 9.7 (buys 29.0 log FLOP or 31.3 2024-log-eFLOP)\n",
      "2036 - TAI takes 31.9 logFLOP which costs 12.4 log 2024$USD to buy vs. WTP at 9.7 (buys 29.1 log FLOP or 31.6 2024-log-eFLOP)\n",
      "2037 - TAI takes 31.8 logFLOP which costs 12.2 log 2024$USD to buy vs. WTP at 9.7 (buys 29.3 log FLOP or 31.9 2024-log-eFLOP)\n",
      "2038 - TAI takes 31.6 logFLOP which costs 12.0 log 2024$USD to buy vs. WTP at 9.7 (buys 29.4 log FLOP or 32.2 2024-log-eFLOP)\n",
      "2039 - TAI takes 31.6 logFLOP which costs 11.8 log 2024$USD to buy vs. WTP at 9.8 (buys 29.6 log FLOP or 32.4 2024-log-eFLOP)\n",
      "2040 - TAI takes 31.5 logFLOP which costs 11.6 log 2024$USD to buy vs. WTP at 9.8 (buys 29.7 log FLOP or 32.6 2024-log-eFLOP)\n",
      "2041 - TAI takes 31.5 logFLOP which costs 11.4 log 2024$USD to buy vs. WTP at 9.8 (buys 29.8 log FLOP or 32.8 2024-log-eFLOP)\n",
      "2042 - TAI takes 31.4 logFLOP which costs 11.3 log 2024$USD to buy vs. WTP at 9.8 (buys 30.0 log FLOP or 32.9 2024-log-eFLOP)\n",
      "2043 - TAI takes 31.4 logFLOP which costs 11.2 log 2024$USD to buy vs. WTP at 9.9 (buys 30.1 log FLOP or 33.1 2024-log-eFLOP)\n",
      "2044 - TAI takes 31.4 logFLOP which costs 11.0 log 2024$USD to buy vs. WTP at 9.9 (buys 30.2 log FLOP or 33.2 2024-log-eFLOP)\n",
      "2045 - TAI takes 31.4 logFLOP which costs 10.9 log 2024$USD to buy vs. WTP at 9.9 (buys 30.4 log FLOP or 33.4 2024-log-eFLOP)\n",
      "2046 - TAI takes 31.4 logFLOP which costs 10.8 log 2024$USD to buy vs. WTP at 9.9 (buys 30.5 log FLOP or 33.5 2024-log-eFLOP)\n",
      "2047 - TAI takes 31.4 logFLOP which costs 10.7 log 2024$USD to buy vs. WTP at 9.9 (buys 30.7 log FLOP or 33.6 2024-log-eFLOP)\n",
      "2048 - TAI takes 31.4 logFLOP which costs 10.6 log 2024$USD to buy vs. WTP at 10.0 (buys 30.8 log FLOP or 33.8 2024-log-eFLOP)\n",
      "2049 - TAI takes 31.4 logFLOP which costs 10.5 log 2024$USD to buy vs. WTP at 10.0 (buys 30.9 log FLOP or 33.9 2024-log-eFLOP)\n",
      "2050 - TAI takes 31.4 logFLOP which costs 10.4 log 2024$USD to buy vs. WTP at 10.0 (buys 31.1 log FLOP or 34.1 2024-log-eFLOP)\n",
      "2051 - TAI takes 31.4 logFLOP which costs 10.2 log 2024$USD to buy vs. WTP at 10.0 (buys 31.2 log FLOP or 34.2 2024-log-eFLOP)\n",
      "2052 - TAI takes 31.4 logFLOP which costs 10.1 log 2024$USD to buy vs. WTP at 10.1 (buys 31.3 log FLOP or 34.3 2024-log-eFLOP)\n",
      "2053 - TAI takes 31.4 logFLOP which costs 10.0 log 2024$USD to buy vs. WTP at 10.1 (buys 31.5 log FLOP or 34.5 2024-log-eFLOP)\n",
      "-- algorithms p_nonscaling_issue p=0.05 -> Nonscaling issue did not occur\n",
      "-- infra p_nonscaling_issue p=0.05 -> Nonscaling issue did not occur\n",
      "-- data p_nonscaling_issue p=0.1 -> Nonscaling delay occured\n",
      "-- -- this delay is 6 years (total delay 6 years)\n",
      "-- robotics p_nonscaling_issue p=0.05 -> Nonscaling issue did not occur\n",
      "-- integration p_nonscaling_issue p=0.05 -> Nonscaling issue did not occur\n",
      "-- real_world_feedback p_nonscaling_issue p=0.02 -> Nonscaling issue did not occur\n",
      "-- take_off p_nonscaling_issue p=0.2182 -> Nonscaling delay occured\n",
      "-- -- this delay is 7 years (total delay 9 years)\n",
      "/!\\ FLOP for TAI sufficient but needs 9 more years to solve non-scaling issues\n",
      "2054 - TAI takes 31.4 logFLOP which costs 9.9 log 2024$USD to buy vs. WTP at 10.1 (buys 31.6 log FLOP or 34.6 2024-log-eFLOP)\n",
      "/!\\ FLOP for TAI sufficient but needs 8 more years to solve non-scaling issues\n",
      "2055 - TAI takes 31.4 logFLOP which costs 9.8 log 2024$USD to buy vs. WTP at 10.1 (buys 31.7 log FLOP or 34.7 2024-log-eFLOP)\n",
      "/!\\ FLOP for TAI sufficient but needs 7 more years to solve non-scaling issues\n",
      "2056 - TAI takes 31.4 logFLOP which costs 9.7 log 2024$USD to buy vs. WTP at 10.2 (buys 31.9 log FLOP or 34.9 2024-log-eFLOP)\n",
      "/!\\ FLOP for TAI sufficient but needs 6 more years to solve non-scaling issues\n",
      "2057 - TAI takes 31.4 logFLOP which costs 9.6 log 2024$USD to buy vs. WTP at 10.2 (buys 32.0 log FLOP or 35.0 2024-log-eFLOP)\n",
      "/!\\ FLOP for TAI sufficient but needs 5 more years to solve non-scaling issues\n",
      "2058 - TAI takes 31.4 logFLOP which costs 9.5 log 2024$USD to buy vs. WTP at 10.2 (buys 32.1 log FLOP or 35.1 2024-log-eFLOP)\n",
      "/!\\ FLOP for TAI sufficient but needs 4 more years to solve non-scaling issues\n",
      "2059 - TAI takes 31.4 logFLOP which costs 9.3 log 2024$USD to buy vs. WTP at 10.2 (buys 32.3 log FLOP or 35.3 2024-log-eFLOP)\n",
      "/!\\ FLOP for TAI sufficient but needs 3 more years to solve non-scaling issues\n",
      "2060 - TAI takes 31.4 logFLOP which costs 9.2 log 2024$USD to buy vs. WTP at 10.2 (buys 32.4 log FLOP or 35.4 2024-log-eFLOP)\n",
      "/!\\ FLOP for TAI sufficient but needs 2 more years to solve non-scaling issues\n",
      "2061 - TAI takes 31.4 logFLOP which costs 9.1 log 2024$USD to buy vs. WTP at 10.3 (buys 32.6 log FLOP or 35.6 2024-log-eFLOP)\n",
      "/!\\ FLOP for TAI sufficient but needs 1 more years to solve non-scaling issues\n",
      "2062 - TAI takes 31.4 logFLOP which costs 9.0 log 2024$USD to buy vs. WTP at 10.3 (buys 32.7 log FLOP or 35.7 2024-log-eFLOP)\n",
      "--- /!\\ TAI CREATED in 2062\n",
      "\n"
     ]
    },
    {
     "data": {
      "image/png": "[encoded data removed]",
      "text/plain": [
       "<Figure size 640x480 with 1 Axes>"
      ]
     },
     "metadata": {},
     "output_type": "display_data"
    },
    {
     "name": "stdout",
     "output_type": "stream",
     "text": [
      "\n",
      "\n",
      "## RUN TIMELINES MODEL ##\n",
      "Generating Bayes net with 5 cores...\n"
     ]
    },
    {
     "name": "stderr",
     "output_type": "stream",
     "text": [
      " 48%|████████████████████████████                               | 4750/10000 [00:32<00:29, 179.33it/s]"
     ]
    }
   ],
   "source": [
    "variables['RUNS'] = RUNS\n",
    "variables['CURRENT_YEAR'] = CURRENT_YEAR\n",
    "variables['MAX_YEAR'] = MAX_YEAR\n",
    "\n",
    "run_timelines_model(variables,\n",
    "                    cores=5,\n",
    "                    runs=variables['RUNS'],\n",
    "                    dump_cache_file='caches/tai_years')\n"
   ]
  },
  {
   "cell_type": "code",
   "execution_count": null,
   "metadata": {
    "scrolled": true
   },
   "outputs": [],
   "source": [
    "for i in range(50):\n",
    "    print('-')\n",
    "    print('-')\n",
    "    print('## SAMPLE RUN {} ##'.format(i + 3 + 1))\n",
    "    define_tai_timeline_event(variables, verbose=True)"
   ]
  },
  {
   "cell_type": "code",
   "execution_count": null,
   "metadata": {},
   "outputs": [],
   "source": [
    "print('File last ran: {}'.format(dt.now()))"
   ]
  }
 ],
 "metadata": {
  "kernelspec": {
   "display_name": "Python 3 (ipykernel)",
   "language": "python",
   "name": "python3"
  },
  "language_info": {
   "codemirror_mode": {
    "name": "ipython",
    "version": 3
   },
   "file_extension": ".py",
   "mimetype": "text/x-python",
   "name": "python",
   "nbconvert_exporter": "python",
   "pygments_lexer": "ipython3",
   "version": "3.11.0"
  }
 },
 "nbformat": 4,
 "nbformat_minor": 4
}
