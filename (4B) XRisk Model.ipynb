{
 "cells": [
  {
   "cell_type": "markdown",
   "metadata": {},
   "source": [
    "# Library"
   ]
  },
  {
   "cell_type": "code",
   "execution_count": 1,
   "metadata": {
    "tags": []
   },
   "outputs": [
    {
     "name": "stdout",
     "output_type": "stream",
     "text": [
      "Loaded 1\n",
      "Loaded 2\n"
     ]
    }
   ],
   "source": [
    "import math\n",
    "import dill\n",
    "import random\n",
    "import numpy as np\n",
    "import pandas as pd\n",
    "import matplotlib.pyplot as plt\n",
    "import squigglepy as sq\n",
    "import datetime as dt\n",
    "\n",
    "from squigglepy import bayes\n",
    "from squigglepy.numbers import K, M, B, T\n",
    "from copy import deepcopy\n",
    "from scipy import stats\n",
    "from pprint import pprint\n",
    "from collections import Counter\n",
    "from tqdm import tqdm\n",
    "\n",
    "%matplotlib inline\n",
    "print('Loaded 1')\n",
    "\n",
    "exec(open('utils.py').read())\n",
    "print('Loaded 2')"
   ]
  },
  {
   "cell_type": "code",
   "execution_count": 2,
   "metadata": {},
   "outputs": [
    {
     "name": "stdout",
     "output_type": "stream",
     "text": [
      "Loaded\n"
     ]
    }
   ],
   "source": [
    "VARS = {}\n",
    "\n",
    "# Global variables - probably don't want to change these but you could.\n",
    "VARS['RUNS'] = 50*K                                      # Number of runs to do (default 100*K)\n",
    "VARS['CURRENT_YEAR'] = 2023                              # What year to start the run on? (default: 2023)\n",
    "VARS['MAX_YEAR'] = 2123                                  # What year to end the run on? (default: 2123)\n",
    "\n",
    "years = range(VARS['CURRENT_YEAR'], VARS['MAX_YEAR'])\n",
    "print('Loaded')\n"
   ]
  },
  {
   "cell_type": "markdown",
   "metadata": {},
   "source": [
    "# Model"
   ]
  },
  {
   "cell_type": "markdown",
   "metadata": {},
   "source": [
    "### TAI Scenarios"
   ]
  },
  {
   "cell_type": "code",
   "execution_count": 3,
   "metadata": {},
   "outputs": [
    {
     "name": "stdout",
     "output_type": "stream",
     "text": [
      "Loaded TAI scenarios module\n"
     ]
    }
   ],
   "source": [
    "# Conditoinal on making TAI, will it be agentic?\n",
    "VARS['p_make_agent_tai'] = 0.95\n",
    "\n",
    "# Conditional on making agentic TAI, will it be aligned by default?\n",
    "VARS['p_tai_aligned_by_default'] = 0.3\n",
    "\n",
    "# Conditional on making agentic TAI that is not aligned by default, will we solve the alignment problem?\n",
    "# Varies by year, whether this is the first attempt, and whether there is a great power war\n",
    "def p_alignment_solved(war, year, first_attempt=True, verbose=False):\n",
    "    if first_attempt:\n",
    "        p = min(0.1 + 1.6 * (year/45), 0.7)\n",
    "    else:\n",
    "        p = min(0.1 + 2 * (year/45), 0.9)\n",
    "    if verbose == 2:\n",
    "        print('* alignment solve diagnostic - war: {} year: {} first attempt: {} -> p {})'.format(war, year, first_attempt, p))\n",
    "    return p\n",
    "VARS['p_alignment_solved'] = p_alignment_solved\n",
    "# TODO: Convert to logistic curves\n",
    "\n",
    "\n",
    "# Conditional on making agentic TAI that is not aligned by default, will we successfully coordinate to deploy safe AI?\n",
    "# Varies by year, whether this is the first attempt, and whether there is a great power war\n",
    "def p_alignment_deployment_safety_and_coordination(war, year, variables, first_attempt=True, verbose=False):\n",
    "    if year <= 2030 - variables['CURRENT_YEAR'] and not war:\n",
    "        p = 0.8\n",
    "    elif war:\n",
    "        p = 0.4\n",
    "    else:\n",
    "        p = 0.6\n",
    "    if first_attempt is False:\n",
    "        p += 0.1\n",
    "    p = min(p, 0.95)\n",
    "    p = max(p, 0.05)\n",
    "    if verbose == 2:\n",
    "        print('* alignment coordination diagnostic - war: {} year: {} first attempt: {} -> p {})'.format(war, year, first_attempt, p))\n",
    "    return p\n",
    "VARS['p_alignment_deploy_coordination'] = p_alignment_deployment_safety_and_coordination\n",
    "\n",
    "# Conditional on solving the alignment problem, what is the chance we also solve the subtle misalignment problem?\n",
    "VARS['p_subtle_alignment_solved'] = 0.85\n",
    "\n",
    "# Conditional on alignment by default, what is the chance we also solve the subtle misalignment problem?\n",
    "VARS['p_subtle_alignment_solved_if_aligned_by_default'] = 0.4\n",
    "\n",
    "# Conditional on having aligned AI, will we know it is aligned and therefore want to deploy it?\n",
    "VARS['p_know_aligned_ai_is_aligned'] = 0.6\n",
    "\n",
    "# Conditional on having misaligned AI, will we know it is misaligned and therefore not want to deploy it?\n",
    "VARS['p_know_misaligned_ai_is_misaligned'] = 0.7\n",
    "\n",
    "# Conditional on having agentic TAI, will it be intentionally misused to create a singleton?\n",
    "def p_tai_intentional_misuse(war):\n",
    "    return 0.3 if war else 0.05\n",
    "VARS['p_tai_intentional_misuse'] = p_tai_intentional_misuse\n",
    "\n",
    "# If TAI is fully misaligned what is the chance we can successfully detect and avert this?\n",
    "VARS['p_full_tai_misalignment_averted'] = 0.15\n",
    "\n",
    "# If TAI is fully misaligned but successfully averted, what is the probability there will be a catasrophe (10%+ death)?\n",
    "VARS['p_tai_misalignment_averting_is_catastrophic'] = 0.4\n",
    "\n",
    "# If TAI is fully misaligned and we successfully avert it, what is the chance we give up on TAI?\n",
    "VARS['p_full_tai_misalignment_averted_means_abandoned_tai'] = 0.7\n",
    "\n",
    "# If TAI is fully misaligned, what is the chance it results in extinction versus a singleton?\n",
    "VARS['p_tai_xrisk_is_extinction'] = 0.4\n",
    "\n",
    "# If there is a fully misaligned TAI singleton, what is the chance it results in a non-extinction catastrophe (10%+ death)?\n",
    "VARS['p_tai_singleton_is_catastrophic'] = 0.8\n",
    "\n",
    "\n",
    "exec(open('modules/tai_risk.py').read())\n",
    "print('Loaded TAI scenarios module')\n"
   ]
  },
  {
   "cell_type": "markdown",
   "metadata": {},
   "source": [
    "### Nuclear Scenarios Module"
   ]
  },
  {
   "cell_type": "code",
   "execution_count": 4,
   "metadata": {},
   "outputs": [
    {
     "name": "stdout",
     "output_type": "stream",
     "text": [
      "Loaded nuclear scenarios module\n"
     ]
    }
   ],
   "source": [
    "# Annual chance Russia uses a nuke\n",
    "def p_russia_uses_nuke(peace, year, variables):\n",
    "    peace = 10 if peace else 1\n",
    "    year = year + variables['CURRENT_YEAR']\n",
    "    if year == 2023:\n",
    "        return 0.03\n",
    "    else:\n",
    "        return 0.001 / peace\n",
    "VARS['p_russia_uses_nuke'] = p_russia_uses_nuke\n",
    "\n",
    "\n",
    "# Annual chance North Korea uses a nuke\n",
    "VARS['p_nk_uses_nuke'] = 0.001\n",
    "\n",
    "\n",
    "# Annual chance China invades Taiwan\n",
    "def p_china_invades_taiwan(peace, year, variables):\n",
    "    peace = 10 if peace else 1\n",
    "    year = year + variables['CURRENT_YEAR']\n",
    "    if year == 2022:\n",
    "        return 0\n",
    "    elif year == 2023:\n",
    "        return 0.01\n",
    "    elif year == 2024 or year == 2025:\n",
    "        return 0.0255   # makes cumulative probability by EOY 2025 = 0.06\n",
    "                        # solve 0.01 + (1-0.01)*X + (1-0.01)(1-X)*X = 0.06, 0>X<1\n",
    "    elif year < 2030:\n",
    "        return 0.0493 # makes cumulative probability by EOY 2029 = 0.27\n",
    "                      # solve 0.06 + (1-0.06)*X + (1-0.06)(1-X)*X + (1-0.06)(1-X)^2*X + (1-0.06)(1-X)^3*X + (1-0.06)(1-X)^4*X = 0.27\n",
    "    elif year < 2035:\n",
    "        return 0.0352 # makes cumulative probability by EOY 2034 = 0.39\n",
    "                      # 0.27 + (1-0.27)*X + (1-0.27)(1-X)*X + (1-0.27)(1-X)^2*X + (1-0.27)(1-X)^3*X + (1-0.27)(1-X)^4*X = 0.39\n",
    "    else:\n",
    "        return 0.005 / peace\n",
    "VARS['p_china_invades_taiwan'] = p_china_invades_taiwan\n",
    "\n",
    "\n",
    "# Annual chance China uses a nuke\n",
    "def p_china_uses_nuke(peace, year, variables):\n",
    "    return VARS['p_china_invades_taiwan'](peace, year, variables) * 0.01\n",
    "VARS['p_china_uses_nuke'] = p_china_uses_nuke\n",
    "\n",
    "    \n",
    "# Annual chance another country uses a nuke\n",
    "def p_other_uses_nuke(peace):\n",
    "    peace = 10 if peace else 1\n",
    "    return 0.0002 / peace\n",
    "VARS['p_other_uses_nuke'] = p_other_uses_nuke\n",
    "\n",
    "\n",
    "# What is the chance in a given year there will be a \"nuclear accident\"?\n",
    "def p_nuclear_accident(war, year):\n",
    "    p = 0.05 if war else 0.02\n",
    "    p = p * (0.998 ** year)\n",
    "    return p\n",
    "VARS['p_nuclear_accident'] = p_nuclear_accident\n",
    "\n",
    "\n",
    "# Conditional on a nuclear accident, what is the chance it escalates into an \"exchange\"?\n",
    "def p_nuclear_accident_becomes_exchange(war):\n",
    "    return 0.2 if war else 0.05\n",
    "VARS['p_nuclear_accident_becomes_exchange'] = p_nuclear_accident_becomes_exchange\n",
    "\n",
    "\n",
    "# Conditional on a nuclear exchange, what is the chance it escalates into a catastrophe (10%+ dead)?\n",
    "def p_catastrophe_from_nuclear_exchange(war):\n",
    "    p_exchange_becomes_all_out_war = 0.6 if war else 0.3\n",
    "    p_nuclear_winter_happens = 0.3\n",
    "    alternative_foods_or_other_save = 0.05\n",
    "    return (p_exchange_becomes_all_out_war *\n",
    "            (p_nuclear_winter_happens + (1 - p_nuclear_winter_happens) * 0.1) *\n",
    "            (1 - alternative_foods_or_other_save))\n",
    "VARS['p_catastrophe_from_nuclear_exchange'] = p_catastrophe_from_nuclear_exchange\n",
    "\n",
    "    \n",
    "# Conditional on a nuclear exchange catastrophe, what is the chance it becomes an xrisk?\n",
    "VARS['p_xrisk_from_nuclear_catastrophe'] = 0.05 # https://forum.effectivealtruism.org/posts/GsjmufaebreiaivF7/what-is-the-likelihood-that-civilizational-collapse-would\n",
    "\n",
    "\n",
    "# Conditional on a great power war, what is the chance it goes intentionally nuclear in any given year?\n",
    "def p_nuclear_exchange_given_war(first_year_of_war):\n",
    "    return 0.1 if first_year_of_war else 0.02\n",
    "VARS['p_nuclear_exchange_given_war'] = p_nuclear_exchange_given_war\n",
    "\n",
    "\n",
    "exec(open('modules/nuclear.py').read())\n",
    "print('Loaded nuclear scenarios module')\n"
   ]
  },
  {
   "cell_type": "markdown",
   "metadata": {},
   "source": [
    "### Great Power War Scenarios Module"
   ]
  },
  {
   "cell_type": "code",
   "execution_count": 5,
   "metadata": {},
   "outputs": [
    {
     "name": "stdout",
     "output_type": "stream",
     "text": [
      "Loaded great power war scenarios module\n"
     ]
    }
   ],
   "source": [
    "# Annual chance that, conditional on Russia not nuking outside of a great power war, there will be a US-Russia great power war\n",
    "def p_great_power_war_us_russia_without_nuke_first(peace, year, variables):\n",
    "    peace = 20 if peace else 1\n",
    "    year = year + variables['CURRENT_YEAR']\n",
    "    if year == 2022 or year == 2023:\n",
    "        return (0.02 / 2) / peace\n",
    "    else:\n",
    "        return 0.003 / peace\n",
    "VARS['p_great_power_war_us_russia_without_nuke_first'] = p_great_power_war_us_russia_without_nuke_first\n",
    "    \n",
    "    \n",
    "# Annual chance that there is a great power war between the US and China\n",
    "def p_great_power_war_us_china(peace, year, variables):\n",
    "    p_invade_taiwan = variables['p_china_invades_taiwan'](peace, year, variables)\n",
    "    p_us_responds = 0.6\n",
    "    return p_invade_taiwan * p_us_responds\n",
    "VARS['p_great_power_war_us_china'] = p_great_power_war_us_china\n",
    "\n",
    "    \n",
    "# Annual chance that there is some great power war other than US<>Russia and US<>China\n",
    "def p_great_power_war_other(peace, year, variables):\n",
    "    peace = 5 if peace else 1\n",
    "    year = year + variables['CURRENT_YEAR']\n",
    "    if year > 2040:\n",
    "        return 0.005 / peace\n",
    "    else:\n",
    "        return 0.001 / peace\n",
    "VARS['p_great_power_war_other'] = p_great_power_war_other\n",
    "\n",
    "\n",
    "# Conditional on a great power war starting, how long will it last?\n",
    "VARS['war_length'] = sq.lognorm(2, 50) # 90% CI\n",
    "\n",
    "# After a war ends, how long will there be a peace?\n",
    "VARS['peace_length'] = sq.lognorm(10, 100)\n",
    "\n",
    "\n",
    "exec(open('modules/great_power_war.py').read())\n",
    "print('Loaded great power war scenarios module')\n"
   ]
  },
  {
   "cell_type": "markdown",
   "metadata": {},
   "source": [
    "### Bio scenarios module"
   ]
  },
  {
   "cell_type": "code",
   "execution_count": 6,
   "metadata": {},
   "outputs": [
    {
     "name": "stdout",
     "output_type": "stream",
     "text": [
      "Loaded bio scenarios module\n"
     ]
    }
   ],
   "source": [
    "# Conditional on a great power war, what is the annual chance it intentionally results in a bioweapon?\n",
    "VARS['p_biowar_given_war'] = 1/800\n",
    "\n",
    "# What is the annual chance of a non-state actor creating an intentional biorisk that causes 1%+ death?\n",
    "VARS['p_nonstate_bio'] = 1/1200\n",
    "\n",
    "# What is the chance that if 1%+ die from natural bio, 10%+ will die from natural bio?\n",
    "VARS['p_natural_bio_is_catastrophe'] = 1 / (10 ** 0.5) # https://www.liebertpub.com/doi/pdfplus/10.1089/hs.2017.0028\n",
    "\n",
    "# What is the chance that if 1%+ die from engineered bio, 10%+ will die from engineered bio?\n",
    "VARS['p_engineered_bio_is_catastrophe'] = 1 / (10 ** 0.5) # https://www.liebertpub.com/doi/pdfplus/10.1089/hs.2017.0028\n",
    "\n",
    "VARS['p_covid_spanish_flu_like_becomes_1pct_death'] = 1 / (10 ** 0.5) # https://www.economist.com/graphic-detail/coronavirus-excess-deaths-estimates suggests COVID killed 0.2%... https://www.liebertpub.com/doi/pdfplus/10.1089/hs.2017.0028 suggests 1% is 2x less likely than 0.2%\n",
    "VARS['p_covid_lab_leak'] = 0.3\n",
    "VARS['p_extinction_given_90_pct_death'] = 0.03 # per Luisa https://forum.effectivealtruism.org/posts/GsjmufaebreiaivF7/what-is-the-likelihood-that-civilizational-collapse-would\n",
    "VARS['p_accidental_catastrophe_causes_90_pct_death'] = (1 / (10 ** 0.5)) ** 2 # https://www.liebertpub.com/doi/pdfplus/10.1089/hs.2017.0028\n",
    "VARS['p_intentional_catastrophe_causes_90_pct_death'] = (1 / (10 ** 0.5)) ** 2 # https://www.liebertpub.com/doi/pdfplus/10.1089/hs.2017.0028\n",
    "\n",
    "# If a lab leak occurs, how likely is it that the leaked pandemic will be engineered vs. natural?\n",
    "VARS['ratio_engineered_vs_natural_lab_leak'] = 0.8\n",
    "\n",
    "# What is the chance of an natural biorisk/pandemic causing 1%+ population death?\n",
    "def p_natural_bio(year, variables):\n",
    "    base_rate_from_covid_and_spanish_flu = 1/250\n",
    "    increase_from_globalization = 1.1\n",
    "    decreate_in_rate_per_year_from_improvements = 0.99 ** year\n",
    "    return ((base_rate_from_covid_and_spanish_flu * 0.5 +\n",
    "             base_rate_from_covid_and_spanish_flu * (1 - variables['p_covid_lab_leak']) * 0.5) *\n",
    "            increase_from_globalization *\n",
    "            variables['p_covid_spanish_flu_like_becomes_1pct_death'] *\n",
    "            decreate_in_rate_per_year_from_improvements)\n",
    "VARS['p_natural_bio'] = p_natural_bio\n",
    "    \n",
    "    \n",
    "# What is the chance of an accidental biorisk (e.g., lab leak) causing 1%+ population death?\n",
    "def p_accidental_bio(war, variables):\n",
    "    base_rate_from_covid = 0.01 * variables['p_covid_lab_leak']\n",
    "    increase_factor_due_to_increasing_labs = 1.3\n",
    "    increase_factor_due_to_great_power_war = 2\n",
    "    p = (base_rate_from_covid *\n",
    "         variables['p_covid_spanish_flu_like_becomes_1pct_death'] *\n",
    "         increase_factor_due_to_increasing_labs)\n",
    "    return p * increase_factor_due_to_great_power_war if war else p\n",
    "VARS['p_accidental_bio'] = p_accidental_bio    \n",
    "\n",
    "\n",
    "# Conditional on a accidental biorisk (1% death), what is the chance it becomes a xrisk?\n",
    "def p_xrisk_from_accidental_bio_given_catastrophe(year, variables):\n",
    "    return variables['p_accidental_catastrophe_causes_90_pct_death'] * variables['p_extinction_given_90_pct_death']\n",
    "VARS['p_xrisk_from_accidental_bio_given_catastrophe'] = p_xrisk_from_accidental_bio_given_catastrophe\n",
    "\n",
    "\n",
    "# Conditional on a bioweapon, what is the chance it becomes a xrisk?\n",
    "def p_xrisk_from_engineered_bio_given_catastrophe(year, variables):\n",
    "    return variables['p_intentional_catastrophe_causes_90_pct_death'] * variables['p_extinction_given_90_pct_death']\n",
    "VARS['p_xrisk_from_engineered_bio_given_catastrophe'] = p_xrisk_from_engineered_bio_given_catastrophe\n",
    "\n",
    "\n",
    "exec(open('modules/bio.py').read())\n",
    "print('Loaded bio scenarios module')\n"
   ]
  },
  {
   "cell_type": "markdown",
   "metadata": {},
   "source": [
    "### Nanotech scenarios module"
   ]
  },
  {
   "cell_type": "code",
   "execution_count": 7,
   "metadata": {},
   "outputs": [
    {
     "name": "stdout",
     "output_type": "stream",
     "text": [
      "Loaded nano scenarios module\n"
     ]
    }
   ],
   "source": [
    "# What is the chance in a given year that nanotech will be developed?\n",
    "def p_nanotech_possible(year):\n",
    "    return 0.0001 / (0.956 ** year) # TODO: This goes over 1\n",
    "VARS['p_nanotech_possible'] = p_nanotech_possible\n",
    "\n",
    "\n",
    "# Conditional on developing nanotech, what is the chance nanotech results in an xrisk?\n",
    "VARS['p_nanotech_is_xrisk'] = 0.1 * 0.05\n",
    "\n",
    "\n",
    "exec(open('modules/nano.py').read())\n",
    "print('Loaded nano scenarios module')\n"
   ]
  },
  {
   "cell_type": "markdown",
   "metadata": {},
   "source": [
    "### Supervolcano scenarios module (all other natural risks <0.01%)"
   ]
  },
  {
   "cell_type": "code",
   "execution_count": 8,
   "metadata": {},
   "outputs": [
    {
     "name": "stdout",
     "output_type": "stream",
     "text": [
      "Loaded supervolcano module\n"
     ]
    }
   ],
   "source": [
    "VARS['p_supervolcano_catastrophe'] = 1 / (500*K)  # https://www.openphilanthropy.org/research/large-volcanic-eruptions/ VEI >= 9 (geometric mean of 30K and 30M)\n",
    "\n",
    "VARS['p_supervolcano_extinction_given_catastrophe'] = 0.05\n",
    "\n",
    "\n",
    "exec(open('modules/supervolcano.py').read())\n",
    "print('Loaded supervolcano module')\n"
   ]
  },
  {
   "cell_type": "markdown",
   "metadata": {},
   "source": [
    "### Unknown unknown scenarios module"
   ]
  },
  {
   "cell_type": "code",
   "execution_count": 9,
   "metadata": {},
   "outputs": [
    {
     "name": "stdout",
     "output_type": "stream",
     "text": [
      "Loaded unknown unknown scenarios module\n"
     ]
    }
   ],
   "source": [
    "# What is the chance in any given year that an unknown unknown xrisk occurs?\n",
    "def p_unknown_unknown_xrisk(year):\n",
    "    return (1 / (100*K)) / (0.99 ** year) # TODO: This goes over 1\n",
    "VARS['p_unknown_unknown_xrisk'] = p_unknown_unknown_xrisk\n",
    "\n",
    "\n",
    "exec(open('modules/unknown_unknown.py').read())\n",
    "print('Loaded unknown unknown scenarios module')\n"
   ]
  },
  {
   "cell_type": "markdown",
   "metadata": {},
   "source": [
    "### Double dip catastrophe module"
   ]
  },
  {
   "cell_type": "code",
   "execution_count": 10,
   "metadata": {},
   "outputs": [
    {
     "name": "stdout",
     "output_type": "stream",
     "text": [
      "Loaded double dip catastrophe module\n"
     ]
    }
   ],
   "source": [
    "VARS['p_extinction_from_double_catastrophe'] = 0.1\n",
    "\n",
    "VARS['extinction_from_double_catastrophe_range'] = 10\n",
    "\n",
    "exec(open('modules/double_dip_catastrophe.py').read())\n",
    "print('Loaded double dip catastrophe module')"
   ]
  },
  {
   "cell_type": "markdown",
   "metadata": {},
   "source": [
    "### AI Timeline variables"
   ]
  },
  {
   "cell_type": "code",
   "execution_count": 11,
   "metadata": {},
   "outputs": [
    {
     "name": "stdout",
     "output_type": "stream",
     "text": [
      "Loaded TAI timelines module\n",
      "-\n",
      "Loading from cache file (`caches/tai_years.sqcache`)...\n",
      "...Loaded\n",
      "Caching in-memory...\n",
      "...Cached!\n",
      "...Reducing\n",
      "...Reduced!\n",
      "...All done!\n",
      "-\n",
      "Loaded\n"
     ]
    }
   ],
   "source": [
    "VARS['if_catastrophe_delay_tai_arrival_by_years'] = sq.lognorm(2, 10)\n",
    "\n",
    "VARS['if_us_china_war_delay_tai_arrival_by_years'] = sq.lognorm(2, 10)\n",
    "\n",
    "exec(open('modules/tai_timelines.py').read())\n",
    "print('Loaded TAI timelines module')\n",
    "\n",
    "print('-')\n",
    "VARS['tai_years'] = bayes.bayesnet(load_cache_file='caches/tai_years', verbose=True)\n",
    "\n",
    "print('-')\n",
    "print('Loaded')\n"
   ]
  },
  {
   "cell_type": "code",
   "execution_count": 12,
   "metadata": {},
   "outputs": [
    {
     "name": "stdout",
     "output_type": "stream",
     "text": [
      "cached variables!\n"
     ]
    }
   ],
   "source": [
    "with open('caches/variables.dill', 'wb') as f:\n",
    "    dill.dump(VARS, f)\n",
    "print('cached variables!')"
   ]
  },
  {
   "cell_type": "markdown",
   "metadata": {},
   "source": [
    "## Model output"
   ]
  },
  {
   "cell_type": "code",
   "execution_count": 13,
   "metadata": {},
   "outputs": [
    {
     "name": "stdout",
     "output_type": "stream",
     "text": [
      "Model loaded\n",
      "############\n",
      "## RUN 1 ##\n",
      "############\n",
      "--- /!\\ TAI CREATED in 2039\n",
      "-- sampling p_make_agent_tai p=0.95 outcome=True\n",
      "-- sampling p_tai_intentional_misuse p=0.05 outcome=False\n",
      "-- sampling p_tai_aligned_by_default p=0.3 outcome=False\n",
      "-- sampling p_alignment_solved p=0.7 outcome=True\n",
      "-- sampling p_subtle_alignment_solved p=0.85 outcome=True\n",
      "-- sampling p_know_aligned_ai_is_aligned p=0.6 outcome=False\n",
      "-- sampling p_alignment_deploy_coordination p=0.6 outcome=True\n",
      "2040: ...coordinated to not deploy TAI\n",
      "-- sampling p_make_agent_tai p=0.95 outcome=True\n",
      "-- sampling p_tai_intentional_misuse p=0.05 outcome=False\n",
      "-- sampling p_tai_aligned_by_default p=0.3 outcome=False\n",
      "-- sampling p_alignment_solved p=0.7 outcome=True\n",
      "-- sampling p_subtle_alignment_solved p=0.85 outcome=True\n",
      "-- sampling p_know_aligned_ai_is_aligned p=0.6 outcome=True\n",
      "2041: ...Achieved aligned TAI (aligned via work, first attempt), happy future! :D\n",
      "...Total loop complete in 9.53ms\n",
      "-\n",
      "-\n",
      "############\n",
      "## RUN 2 ##\n",
      "############\n",
      "2062: WAR!!! (Other)\n",
      "2074: War ends :)\n",
      "...Total loop complete in 18.51ms\n",
      "...Boring future\n",
      "-\n",
      "-\n",
      "############\n",
      "## RUN 3 ##\n",
      "############\n",
      "--- /!\\ TAI CREATED in 2026\n",
      "-- sampling p_make_agent_tai p=0.95 outcome=True\n",
      "-- sampling p_tai_intentional_misuse p=0.05 outcome=False\n",
      "-- sampling p_tai_aligned_by_default p=0.3 outcome=False\n",
      "-- sampling p_alignment_solved p=0.24222222222222223 outcome=False\n",
      "-- sampling p_subtle_alignment_solved p=0.85 outcome=False\n",
      "-- sampling p_know_misaligned_ai_is_misaligned p=0.7 outcome=False\n",
      "-- sampling p_full_tai_misalignment_averted p=0.15 outcome=False\n",
      "-- sampling p_tai_xrisk_is_extinction p=0.4 outcome=True\n",
      "2027: ...XRISK from fully unaligned TAI (extinction) :(\n",
      "...Total loop complete in 9.7ms\n",
      "-\n",
      "-\n",
      "############\n",
      "## RUN 4 ##\n",
      "############\n",
      "--- /!\\ TAI CREATED in 2032\n",
      "-- sampling p_make_agent_tai p=0.95 outcome=True\n",
      "-- sampling p_tai_intentional_misuse p=0.05 outcome=False\n",
      "-- sampling p_tai_aligned_by_default p=0.3 outcome=True\n",
      "-- sampling p_subtle_alignment_solved_if_aligned_by_default p=0.4 outcome=False\n",
      "-- sampling p_alignment_solved p=0.4555555555555556 outcome=True\n",
      "-- sampling p_subtle_alignment_solved p=0.85 outcome=True\n",
      "-- sampling p_know_aligned_ai_is_aligned p=0.6 outcome=True\n",
      "2033: ...Achieved aligned TAI (aligned via work, first attempt), happy future! :D\n",
      "...Total loop complete in 8.57ms\n",
      "-\n",
      "-\n",
      "############\n",
      "## RUN 5 ##\n",
      "############\n",
      "--- /!\\ TAI CREATED in 2047\n",
      "-- sampling p_make_agent_tai p=0.95 outcome=True\n",
      "-- sampling p_tai_intentional_misuse p=0.05 outcome=False\n",
      "-- sampling p_tai_aligned_by_default p=0.3 outcome=False\n",
      "-- sampling p_alignment_solved p=0.7 outcome=True\n",
      "-- sampling p_subtle_alignment_solved p=0.85 outcome=False\n",
      "-- sampling p_know_misaligned_ai_is_misaligned p=0.7 outcome=True\n",
      "-- sampling p_alignment_deploy_coordination p=0.6 outcome=False\n",
      "2048: ...XRISK from subtly unaligned TAI :(\n",
      "...Total loop complete in 9.09ms\n",
      "-\n",
      "-\n",
      "############\n",
      "## RUN 6 ##\n",
      "############\n",
      "2081: WAR!!! (US vs. China)\n",
      "...US-China war delays TAI by 6 years\n",
      "2090: War ends :)\n",
      "...Total loop complete in 15.23ms\n",
      "...Boring future\n",
      "-\n",
      "-\n",
      "############\n",
      "## RUN 7 ##\n",
      "############\n",
      "--- /!\\ TAI CREATED in 2050\n",
      "-- sampling p_make_agent_tai p=0.95 outcome=True\n",
      "-- sampling p_tai_intentional_misuse p=0.05 outcome=False\n",
      "-- sampling p_tai_aligned_by_default p=0.3 outcome=False\n",
      "-- sampling p_alignment_solved p=0.7 outcome=True\n",
      "-- sampling p_subtle_alignment_solved p=0.85 outcome=True\n",
      "-- sampling p_know_aligned_ai_is_aligned p=0.6 outcome=False\n",
      "-- sampling p_alignment_deploy_coordination p=0.6 outcome=True\n",
      "2051: ...coordinated to not deploy TAI\n",
      "-- sampling p_make_agent_tai p=0.95 outcome=True\n",
      "-- sampling p_tai_intentional_misuse p=0.05 outcome=False\n",
      "-- sampling p_tai_aligned_by_default p=0.3 outcome=True\n",
      "-- sampling p_subtle_alignment_solved_if_aligned_by_default p=0.4 outcome=True\n",
      "-- sampling p_alignment_solved p=0.7 outcome=False\n",
      "-- sampling p_subtle_alignment_solved p=0.85 outcome=True\n",
      "-- sampling p_know_aligned_ai_is_aligned p=0.6 outcome=False\n",
      "-- sampling p_alignment_deploy_coordination p=0.6 outcome=True\n",
      "2052: ...coordinated to not deploy TAI\n",
      "-- sampling p_make_agent_tai p=0.95 outcome=True\n",
      "-- sampling p_tai_intentional_misuse p=0.05 outcome=False\n",
      "-- sampling p_tai_aligned_by_default p=0.3 outcome=False\n",
      "-- sampling p_alignment_solved p=0.7 outcome=True\n",
      "-- sampling p_subtle_alignment_solved p=0.85 outcome=True\n",
      "-- sampling p_know_aligned_ai_is_aligned p=0.6 outcome=True\n",
      "2053: ...Achieved aligned TAI (aligned via work, first attempt), happy future! :D\n",
      "...Total loop complete in 10.05ms\n",
      "-\n",
      "-\n",
      "############\n",
      "## RUN 8 ##\n",
      "############\n",
      "2079: WAR!!! (Other)\n",
      "2091: ...catastrophe from nukes (war)\n",
      "...catastrophe delays TAI by 6 years\n",
      "2092: War ends :)\n",
      "...Total loop complete in 15.87ms\n",
      "...Boring future\n",
      "-\n",
      "-\n",
      "############\n",
      "## RUN 9 ##\n",
      "############\n",
      "2028: WAR!!! (US vs. China)\n",
      "...US-China war delays TAI by 13 years\n",
      "2040: War ends :)\n",
      "--- /!\\ TAI CREATED in 2046\n",
      "-- sampling p_make_agent_tai p=0.95 outcome=True\n",
      "-- sampling p_tai_intentional_misuse p=0.05 outcome=False\n",
      "-- sampling p_tai_aligned_by_default p=0.3 outcome=False\n",
      "-- sampling p_alignment_solved p=0.7 outcome=False\n",
      "-- sampling p_subtle_alignment_solved p=0.85 outcome=True\n",
      "-- sampling p_know_misaligned_ai_is_misaligned p=0.7 outcome=True\n",
      "-- sampling p_alignment_deploy_coordination p=0.6 outcome=True\n",
      "2047: ...coordinated to not deploy TAI\n",
      "-- sampling p_make_agent_tai p=0.95 outcome=False\n",
      "2048: ...Tool TAI made\n",
      "2086: WAR!!! (US vs. Russia)\n",
      "...Total loop complete in 16.76ms\n",
      "...Boring future\n",
      "-\n",
      "-\n",
      "############\n",
      "## RUN 10 ##\n",
      "############\n",
      "2027: WAR!!! (US vs. Russia)\n",
      "--- /!\\ TAI CREATED in 2035\n",
      "-- sampling p_make_agent_tai p=0.95 outcome=True\n",
      "-- sampling p_tai_intentional_misuse p=0.3 outcome=False\n",
      "-- sampling p_tai_aligned_by_default p=0.3 outcome=True\n",
      "-- sampling p_subtle_alignment_solved_if_aligned_by_default p=0.4 outcome=False\n",
      "-- sampling p_alignment_solved p=0.5622222222222222 outcome=True\n",
      "-- sampling p_subtle_alignment_solved p=0.85 outcome=True\n",
      "-- sampling p_know_aligned_ai_is_aligned p=0.6 outcome=True\n",
      "2036: ...Achieved aligned TAI (aligned via work, first attempt), happy future! :D\n",
      "...Total loop complete in 8.17ms\n",
      "-\n",
      "-\n",
      "############\n",
      "## RUN 11 ##\n",
      "############\n",
      "2092: WAR!!! (Other)\n",
      "...Total loop complete in 15.07ms\n",
      "...Boring future\n",
      "-\n",
      "-\n",
      "############\n",
      "## RUN 12 ##\n",
      "############\n",
      "2033: WAR!!! (US vs. China)\n",
      "...US-China war delays TAI by 3 years\n",
      "2035: War ends :)\n",
      "--- /!\\ TAI CREATED in 2038\n",
      "-- sampling p_make_agent_tai p=0.95 outcome=True\n",
      "-- sampling p_tai_intentional_misuse p=0.05 outcome=False\n",
      "-- sampling p_tai_aligned_by_default p=0.3 outcome=False\n",
      "-- sampling p_alignment_solved p=0.6688888888888889 outcome=True\n",
      "-- sampling p_subtle_alignment_solved p=0.85 outcome=False\n",
      "-- sampling p_know_misaligned_ai_is_misaligned p=0.7 outcome=True\n",
      "-- sampling p_alignment_deploy_coordination p=0.6 outcome=True\n",
      "2039: ...coordinated to not deploy TAI\n",
      "-- sampling p_make_agent_tai p=0.95 outcome=True\n",
      "-- sampling p_tai_intentional_misuse p=0.05 outcome=False\n",
      "-- sampling p_tai_aligned_by_default p=0.3 outcome=False\n",
      "-- sampling p_alignment_solved p=0.7 outcome=False\n",
      "-- sampling p_subtle_alignment_solved p=0.85 outcome=True\n",
      "-- sampling p_know_misaligned_ai_is_misaligned p=0.7 outcome=True\n",
      "-- sampling p_alignment_deploy_coordination p=0.6 outcome=True\n",
      "2040: ...coordinated to not deploy TAI\n",
      "-- sampling p_make_agent_tai p=0.95 outcome=True\n",
      "-- sampling p_tai_intentional_misuse p=0.05 outcome=True\n",
      "-- sampling p_full_tai_misalignment_averted p=0.15 outcome=False\n",
      "2041: ...XRISK from Intentional misuse of TAI (singleton) :(\n",
      "-- sampling p_tai_singleton_is_catastrophic p=0.8 outcome=True\n",
      "...Singleton is catastrophic\n",
      "...Total loop complete in 8.05ms\n",
      "-\n",
      "-\n",
      "############\n",
      "## RUN 13 ##\n",
      "############\n",
      "...Total loop complete in 15.48ms\n",
      "...Boring future\n",
      "-\n",
      "-\n",
      "############\n",
      "## RUN 14 ##\n",
      "############\n",
      "--- /!\\ TAI CREATED in 2031\n",
      "-- sampling p_make_agent_tai p=0.95 outcome=True\n",
      "-- sampling p_tai_intentional_misuse p=0.05 outcome=False\n",
      "-- sampling p_tai_aligned_by_default p=0.3 outcome=True\n",
      "-- sampling p_subtle_alignment_solved_if_aligned_by_default p=0.4 outcome=True\n",
      "-- sampling p_alignment_solved p=0.42000000000000004 outcome=True\n",
      "-- sampling p_subtle_alignment_solved p=0.85 outcome=True\n",
      "-- sampling p_know_aligned_ai_is_aligned p=0.6 outcome=True\n",
      "2032: ...Achieved aligned TAI (aligned by default), happy future! :D\n",
      "...Total loop complete in 8.14ms\n",
      "-\n",
      "-\n",
      "############\n",
      "## RUN 15 ##\n",
      "############\n",
      "--- /!\\ TAI CREATED in 2046\n",
      "-- sampling p_make_agent_tai p=0.95 outcome=True\n",
      "-- sampling p_tai_intentional_misuse p=0.05 outcome=False\n",
      "-- sampling p_tai_aligned_by_default p=0.3 outcome=False\n",
      "-- sampling p_alignment_solved p=0.7 outcome=True\n",
      "-- sampling p_subtle_alignment_solved p=0.85 outcome=True\n",
      "-- sampling p_know_aligned_ai_is_aligned p=0.6 outcome=True\n",
      "2047: ...Achieved aligned TAI (aligned via work, first attempt), happy future! :D\n",
      "...Total loop complete in 8.24ms\n",
      "-\n",
      "-\n",
      "############\n",
      "## RUN 16 ##\n",
      "############\n",
      "2023: WAR!!! (US vs. Russia)\n",
      "--- /!\\ TAI CREATED in 2033\n",
      "-- sampling p_make_agent_tai p=0.95 outcome=True\n",
      "-- sampling p_tai_intentional_misuse p=0.3 outcome=False\n",
      "-- sampling p_tai_aligned_by_default p=0.3 outcome=True\n",
      "-- sampling p_subtle_alignment_solved_if_aligned_by_default p=0.4 outcome=True\n",
      "-- sampling p_alignment_solved p=0.49111111111111116 outcome=True\n",
      "-- sampling p_subtle_alignment_solved p=0.85 outcome=False\n",
      "-- sampling p_know_aligned_ai_is_aligned p=0.6 outcome=False\n",
      "-- sampling p_alignment_deploy_coordination p=0.4 outcome=True\n",
      "2034: ...coordinated to not deploy TAI\n",
      "-- sampling p_make_agent_tai p=0.95 outcome=True\n",
      "-- sampling p_tai_intentional_misuse p=0.3 outcome=False\n",
      "-- sampling p_tai_aligned_by_default p=0.3 outcome=False\n",
      "-- sampling p_alignment_solved p=0.5266666666666667 outcome=True\n",
      "-- sampling p_subtle_alignment_solved p=0.85 outcome=True\n",
      "-- sampling p_know_aligned_ai_is_aligned p=0.6 outcome=True\n",
      "2035: ...Achieved aligned TAI (aligned via work, first attempt), happy future! :D\n",
      "...Total loop complete in 6.98ms\n",
      "-\n",
      "-\n",
      "############\n",
      "## RUN 17 ##\n",
      "############\n",
      "2026: ...catastrophe from engineered pathogen\n",
      "...catastrophe delays TAI by 5 years\n",
      "--- /!\\ TAI CREATED in 2042\n",
      "-- sampling p_make_agent_tai p=0.95 outcome=True\n",
      "-- sampling p_tai_intentional_misuse p=0.05 outcome=False\n",
      "-- sampling p_tai_aligned_by_default p=0.3 outcome=True\n",
      "-- sampling p_subtle_alignment_solved_if_aligned_by_default p=0.4 outcome=False\n",
      "-- sampling p_alignment_solved p=0.7 outcome=False\n",
      "-- sampling p_subtle_alignment_solved p=0.85 outcome=True\n",
      "-- sampling p_know_misaligned_ai_is_misaligned p=0.7 outcome=True\n",
      "-- sampling p_alignment_deploy_coordination p=0.6 outcome=True\n",
      "2043: ...coordinated to not deploy TAI\n",
      "-- sampling p_make_agent_tai p=0.95 outcome=True\n",
      "-- sampling p_tai_intentional_misuse p=0.05 outcome=False\n",
      "-- sampling p_tai_aligned_by_default p=0.3 outcome=True\n",
      "-- sampling p_subtle_alignment_solved_if_aligned_by_default p=0.4 outcome=False\n",
      "-- sampling p_alignment_solved p=0.7 outcome=False\n",
      "-- sampling p_subtle_alignment_solved p=0.85 outcome=True\n",
      "-- sampling p_know_misaligned_ai_is_misaligned p=0.7 outcome=True\n",
      "-- sampling p_alignment_deploy_coordination p=0.6 outcome=False\n",
      "-- sampling p_full_tai_misalignment_averted p=0.15 outcome=False\n",
      "-- sampling p_tai_xrisk_is_extinction p=0.4 outcome=False\n",
      "2044: ...XRISK from AI takeover (singleton) :(\n",
      "-- sampling p_tai_singleton_is_catastrophic p=0.8 outcome=True\n",
      "...Singleton is catastrophic\n",
      "...Total loop complete in 9.9ms\n",
      "-\n",
      "-\n",
      "############\n",
      "## RUN 18 ##\n",
      "############\n",
      "--- /!\\ TAI CREATED in 2037\n",
      "-- sampling p_make_agent_tai p=0.95 outcome=True\n",
      "-- sampling p_tai_intentional_misuse p=0.05 outcome=False\n",
      "-- sampling p_tai_aligned_by_default p=0.3 outcome=False\n",
      "-- sampling p_alignment_solved p=0.6333333333333333 outcome=True\n",
      "-- sampling p_subtle_alignment_solved p=0.85 outcome=True\n",
      "-- sampling p_know_aligned_ai_is_aligned p=0.6 outcome=True\n",
      "2038: ...Achieved aligned TAI (aligned via work, first attempt), happy future! :D\n",
      "...Total loop complete in 7.22ms\n",
      "-\n",
      "-\n",
      "############\n",
      "## RUN 19 ##\n",
      "############\n",
      "--- /!\\ TAI CREATED in 2031\n",
      "-- sampling p_make_agent_tai p=0.95 outcome=False\n",
      "2032: ...Tool TAI made\n",
      "2043: WAR!!! (US vs. Russia)\n",
      "2048: War ends :)\n",
      "2108: North Korea uses a nuke first strike!\n",
      "...Total loop complete in 16.51ms\n",
      "...Boring future\n",
      "-\n",
      "-\n",
      "############\n",
      "## RUN 20 ##\n",
      "############\n",
      "2044: WAR!!! (US vs. Russia)\n",
      "2055: War ends :)\n",
      "--- /!\\ TAI CREATED in 2086\n",
      "-- sampling p_make_agent_tai p=0.95 outcome=False\n",
      "2087: ...Tool TAI made\n",
      "...Total loop complete in 15.69ms\n",
      "...Boring future\n",
      "-\n",
      "-\n"
     ]
    }
   ],
   "source": [
    "exec(open('modules/define_event.py').read())\n",
    "print('Model loaded')\n",
    "\n",
    "for i in range(20):\n",
    "    print('############')\n",
    "    print('## RUN {} ##'.format(i + 1))\n",
    "    print('############')\n",
    "    define_event(VARS, verbosity=2)"
   ]
  },
  {
   "cell_type": "code",
   "execution_count": 14,
   "metadata": {},
   "outputs": [
    {
     "name": "stdout",
     "output_type": "stream",
     "text": [
      "Reloading cache...\n",
      "Generating Bayes net with 5 cores...\n"
     ]
    },
    {
     "name": "stderr",
     "output_type": "stream",
     "text": [
      "100%|████████████████████████████████████████████████████████████████████████████████████████████████████████████████████████████████████████████████████████████████| 50000/50000 [05:34<00:00, 149.32it/s]\n"
     ]
    },
    {
     "name": "stdout",
     "output_type": "stream",
     "text": [
      "Shuffling data...\n",
      "Waiting for other cores...\n",
      "Collecting data...\n"
     ]
    },
    {
     "name": "stderr",
     "output_type": "stream",
     "text": [
      "100%|█████████████████████████████████████████████████████████████████████████████████████████████████████████████████████████████████████████████████████████████████████████| 5/5 [00:46<00:00,  9.25s/it]\n"
     ]
    },
    {
     "name": "stdout",
     "output_type": "stream",
     "text": [
      "...Collected!\n",
      "Caching in-memory...\n",
      "...Cached!\n",
      "Writing cache to file `caches/future_assessment_model_cache.sqcache`...\n",
      "...Cached!\n",
      "...Finding\n",
      "...Found!\n",
      "...All done!\n",
      "CPU times: user 5min 31s, sys: 18.9 s, total: 5min 50s\n",
      "Wall time: 6min 32s\n"
     ]
    }
   ],
   "source": [
    "%%time\n",
    "define_event_lambda = lambda: define_event(VARS, verbosity=0)\n",
    "collectors = bayes.bayesnet(define_event_lambda,\n",
    "                            find=lambda e: e['collectors'],\n",
    "                            load_cache_file='caches/future_assessment_model_cache',\n",
    "                            dump_cache_file='caches/future_assessment_model_cache',\n",
    "                            reload_cache=True, #False, #True\n",
    "                            raw=True,\n",
    "                            verbose=True,\n",
    "                            cores=5,\n",
    "                            n=VARS['RUNS'])"
   ]
  },
  {
   "cell_type": "code",
   "execution_count": 15,
   "metadata": {},
   "outputs": [
    {
     "name": "stdout",
     "output_type": "stream",
     "text": [
      "Loading from in-memory cache...\n",
      "...Loaded\n",
      "Writing cache to file `caches/future_assessment_model_cache_short.sqcache`...\n",
      "...Cached!\n",
      "...Finding\n",
      "...Found!\n",
      "...All done!\n",
      "CPU times: user 4.49 s, sys: 1.76 s, total: 6.25 s\n",
      "Wall time: 6.52 s\n"
     ]
    }
   ],
   "source": [
    "%%time\n",
    "# DO NOT CHANGE THIS ONE\n",
    "collectors_short = bayes.bayesnet(define_event_lambda,\n",
    "                                  find=lambda e: e['collectors'][VARS['MAX_YEAR'] - 1],\n",
    "                                  load_cache_file='caches/future_assessment_model_cache',\n",
    "                                  dump_cache_file='caches/future_assessment_model_cache_short',\n",
    "                                  reload_cache=False,\n",
    "                                  memcache_load=True,\n",
    "                                  memcache_save=False,\n",
    "                                  raw=True,\n",
    "                                  verbose=True,\n",
    "                                  n=VARS['RUNS'])"
   ]
  },
  {
   "cell_type": "markdown",
   "metadata": {},
   "source": [
    "## Core Analysis"
   ]
  },
  {
   "cell_type": "code",
   "execution_count": 16,
   "metadata": {
    "scrolled": true
   },
   "outputs": [
    {
     "name": "stdout",
     "output_type": "stream",
     "text": [
      "4E. When TAI?\n",
      "-\n",
      "## DISTRIBUTION OF TAI ARRIVAL DATE ##\n",
      "['5%: 2031',\n",
      " '10%: 2033',\n",
      " '15%: 2035',\n",
      " '20%: 2036',\n",
      " '25%: 2038',\n",
      " '35%: 2041',\n",
      " '50%: 2048',\n",
      " '60%: 2055',\n",
      " '75%: >2123',\n",
      " '80%: >2123',\n",
      " '90%: >2123',\n",
      " '95%: >2123']\n",
      "-\n",
      "-\n",
      "## DISTRIBUTION OF RELATIVE TAI ARRIVAL DATE ##\n",
      "['5%: 8 years from now',\n",
      " '10%: 10 years from now',\n",
      " '15%: 12 years from now',\n",
      " '20%: 13 years from now',\n",
      " '25%: 15 years from now',\n",
      " '35%: 18 years from now',\n",
      " '50%: 25 years from now',\n",
      " '60%: 32 years from now',\n",
      " '75%: >100 years from now',\n",
      " '80%: >100 years from now',\n",
      " '90%: >100 years from now',\n",
      " '95%: >100 years from now']\n",
      "-\n",
      "-\n",
      "## TAI ARRIVAL DATE BY BIN ##\n",
      "This year: 0.0%\n",
      "2024-2027: 0.2%\n",
      "2028-2029: 2.1%\n",
      "2030-2034: 11.3%\n",
      "2035-2039: 16.8%\n",
      "2040-2049: 22.4%\n",
      "2050-2059: 11.4%\n",
      "2060-2069: 5.4%\n",
      "2070-2079: 2.4%\n",
      "2080-2089: 1.1%\n",
      "2090-2099: 0.7%\n",
      "2100-2109: 0.5%\n",
      "2110-2119: 0.5%\n",
      ">2120: 25.1%\n",
      "-\n",
      "-\n",
      "## TAI ARRIVAL DATE BY YEAR ##\n",
      "By EOY 2024: 0.0%\n",
      "By EOY 2025: 0.0%\n",
      "By EOY 2027: 0.5% (within 5 yrs)\n",
      "By EOY 2032: 7.6% (within 10yrs)\n",
      "By EOY 2040: 33.1%\n",
      "By EOY 2047: 49.2% (within 25yrs)\n",
      "By EOY 2050: 54.5%\n",
      "By EOY 2060: 64.8%\n",
      "By EOY 2070: 69.9%\n",
      "By EOY 2072: 70.5% (within 50yrs)\n",
      "By EOY 2078: 71.8% (within my expected lifetime)\n",
      "By EOY 2100: 73.9%\n",
      "By EOY 2122: 75.0%\n",
      "-\n",
      "-\n",
      "## TAI ARRIVAL DATE BY YEAR - COMPARE TO AJEYA 2020 BENCHMARK ##\n",
      "By EOY 2028 - this model 1.2% vs. Ajeya 2020 5%\n",
      "By EOY 2032 - this model 7.6% vs. Ajeya 2020 10%\n",
      "By EOY 2035 - this model 17.1% vs. Ajeya 2020 15%\n",
      "By EOY 2040 - this model 33.1% vs. Ajeya 2020 25%\n",
      "By EOY 2053 - this model 58.6% vs. Ajeya 2020 50%\n",
      "By EOY 2062 - this model 66.0% vs. Ajeya 2020 60%\n",
      "By EOY 2084 - this model 72.6% vs. Ajeya 2020 75%\n",
      "By EOY 2100 - this model 73.9% vs. Ajeya 2020 78%\n",
      "-\n",
      "-\n",
      "## TAI ARRIVAL DATE BY YEAR - COMPARE TO AJEYA 2022 BENCHMARK ##\n",
      "By EOY 2030 - this model 3.7% vs. Ajeya 2022 15%\n",
      "By EOY 2036 - this model 20.5% vs. Ajeya 2022 35%\n",
      "By EOY 2040 - this model 33.1% vs. Ajeya 2022 50%\n",
      "By EOY 2050 - this model 54.5% vs. Ajeya 2020 60%\n"
     ]
    },
    {
     "data": {
      "image/png": "[encoded data removed]",
      "text/plain": [
       "<Figure size 640x480 with 1 Axes>"
      ]
     },
     "metadata": {},
     "output_type": "display_data"
    },
    {
     "name": "stderr",
     "output_type": "stream",
     "text": [
      "<string>:162: DeprecationWarning: `np.int` is a deprecated alias for the builtin `int`. To silence this warning, use `int` by itself. Doing this will not modify any behavior and is safe. When replacing `np.int`, you may wish to use e.g. `np.int64` or `np.int32` to specify the precision. If you wish to review your current use, check the release note link for additional information.\n",
      "Deprecated in NumPy 1.20; for more details and guidance: https://numpy.org/devdocs/release/1.20.0-notes.html#deprecations\n",
      "<string>:163: DeprecationWarning: `np.int` is a deprecated alias for the builtin `int`. To silence this warning, use `int` by itself. Doing this will not modify any behavior and is safe. When replacing `np.int`, you may wish to use e.g. `np.int64` or `np.int32` to specify the precision. If you wish to review your current use, check the release note link for additional information.\n",
      "Deprecated in NumPy 1.20; for more details and guidance: https://numpy.org/devdocs/release/1.20.0-notes.html#deprecations\n"
     ]
    },
    {
     "data": {
      "image/png": "[encoded data removed]",
      "text/plain": [
       "<Figure size 640x480 with 1 Axes>"
      ]
     },
     "metadata": {},
     "output_type": "display_data"
    }
   ],
   "source": [
    "print('4E. When TAI?')\n",
    "print('-')\n",
    "\n",
    "yrs = bayes.bayesnet(define_event_lambda,\n",
    "                     find=lambda e: e['final_state']['tai_year'],\n",
    "                     raw=True,\n",
    "                     n=VARS['RUNS'])\n",
    "yrs = [VARS['MAX_YEAR'] + 1 if y is None else y for y in yrs]\n",
    "print_tai_arrival_stats(yrs, VARS)"
   ]
  },
  {
   "cell_type": "code",
   "execution_count": 17,
   "metadata": {},
   "outputs": [
    {
     "data": {
      "image/png": "[encoded data removed]",
      "text/plain": [
       "<Figure size 640x480 with 1 Axes>"
      ]
     },
     "metadata": {},
     "output_type": "display_data"
    }
   ],
   "source": [
    "alignment_p = np.array([p_alignment_solved(war=False, year=y - VARS['CURRENT_YEAR'], first_attempt=True) * p_alignment_deployment_safety_and_coordination(war=False, year=y - VARS['CURRENT_YEAR'], variables=VARS, first_attempt=True) for y in years])\n",
    "alignment_p2 = np.array([p_alignment_solved(war=False, year=y - VARS['CURRENT_YEAR'], first_attempt=False) * p_alignment_deployment_safety_and_coordination(war=False, year=y - VARS['CURRENT_YEAR'], variables=VARS, first_attempt=False) for y in years])\n",
    "alignment_pwar = np.array([p_alignment_solved(war=True, year=y - VARS['CURRENT_YEAR'], first_attempt=True) * p_alignment_deployment_safety_and_coordination(war=True, year=y - VARS['CURRENT_YEAR'], variables=VARS, first_attempt=True) for y in years])\n",
    "alignment_p2war = np.array([p_alignment_solved(war=True, year=y - VARS['CURRENT_YEAR'], first_attempt=False) * p_alignment_deployment_safety_and_coordination(war=True, year=y - VARS['CURRENT_YEAR'], variables=VARS, first_attempt=False) for y in years])\n",
    "plt.plot(years, alignment_p, label='first attempt, no war')\n",
    "plt.plot(years, alignment_p2, label='2+ attempt, no war')\n",
    "plt.plot(years, alignment_pwar, label='first attempt, war')\n",
    "plt.plot(years, alignment_p2war, label='2+ attempt, war')\n",
    "plt.legend()\n",
    "plt.ylabel('chance of solving alignment if TAI in year')\n",
    "plt.show()\n"
   ]
  },
  {
   "cell_type": "code",
   "execution_count": 18,
   "metadata": {},
   "outputs": [
    {
     "name": "stdout",
     "output_type": "stream",
     "text": [
      "Year: 2023 - chance of solving TAI alignment with war 4.0% (2nd attempt 5.0%) -- or no war 8.0% (2nd attempt 9.0%)\n",
      "Year: 2024 - chance of solving TAI alignment with war 5.0% (2nd attempt 7.0%) -- or no war 11.0% (2nd attempt 13.0%)\n",
      "Year: 2025 - chance of solving TAI alignment with war 7.0% (2nd attempt 9.0%) -- or no war 14.0% (2nd attempt 17.0%)\n",
      "Year: 2026 - chance of solving TAI alignment with war 8.0% (2nd attempt 12.0%) -- or no war 17.0% (2nd attempt 21.0%)\n",
      "Year: 2027 - chance of solving TAI alignment with war 10.0% (2nd attempt 14.0%) -- or no war 19.0% (2nd attempt 25.0%)\n",
      "Year: 2028 - chance of solving TAI alignment with war 11.0% (2nd attempt 16.0%) -- or no war 22.0% (2nd attempt 29.0%)\n",
      "Year: 2029 - chance of solving TAI alignment with war 13.0% (2nd attempt 18.0%) -- or no war 25.0% (2nd attempt 33.0%)\n",
      "Year: 2030 - chance of solving TAI alignment with war 14.0% (2nd attempt 21.0%) -- or no war 28.0% (2nd attempt 37.0%)\n",
      "Year: 2031 - chance of solving TAI alignment with war 15.0% (2nd attempt 23.0%) -- or no war 23.0% (2nd attempt 32.0%)\n",
      "Year: 2032 - chance of solving TAI alignment with war 17.0% (2nd attempt 25.0%) -- or no war 25.0% (2nd attempt 35.0%)\n",
      "Year: 2033 - chance of solving TAI alignment with war 18.0% (2nd attempt 27.0%) -- or no war 27.0% (2nd attempt 38.0%)\n",
      "Year: 2034 - chance of solving TAI alignment with war 20.0% (2nd attempt 29.0%) -- or no war 29.0% (2nd attempt 41.0%)\n",
      "Year: 2035 - chance of solving TAI alignment with war 21.0% (2nd attempt 32.0%) -- or no war 32.0% (2nd attempt 44.0%)\n",
      "Year: 2036 - chance of solving TAI alignment with war 22.0% (2nd attempt 34.0%) -- or no war 34.0% (2nd attempt 47.0%)\n",
      "Year: 2037 - chance of solving TAI alignment with war 24.0% (2nd attempt 36.0%) -- or no war 36.0% (2nd attempt 51.0%)\n",
      "Year: 2038 - chance of solving TAI alignment with war 25.0% (2nd attempt 38.0%) -- or no war 38.0% (2nd attempt 54.0%)\n",
      "Year: 2039 - chance of solving TAI alignment with war 27.0% (2nd attempt 41.0%) -- or no war 40.0% (2nd attempt 57.0%)\n",
      "Year: 2040 - chance of solving TAI alignment with war 28.0% (2nd attempt 43.0%) -- or no war 42.0% (2nd attempt 60.0%)\n",
      "Year: 2050 - chance of solving TAI alignment with war 28.0% (2nd attempt 45.0%) -- or no war 42.0% (2nd attempt 63.0%)\n",
      "Year: 2060 - chance of solving TAI alignment with war 28.0% (2nd attempt 45.0%) -- or no war 42.0% (2nd attempt 63.0%)\n",
      "Year: 2070 - chance of solving TAI alignment with war 28.0% (2nd attempt 45.0%) -- or no war 42.0% (2nd attempt 63.0%)\n",
      "Year: 2080 - chance of solving TAI alignment with war 28.0% (2nd attempt 45.0%) -- or no war 42.0% (2nd attempt 63.0%)\n",
      "Year: 2090 - chance of solving TAI alignment with war 28.0% (2nd attempt 45.0%) -- or no war 42.0% (2nd attempt 63.0%)\n",
      "Year: 2100 - chance of solving TAI alignment with war 28.0% (2nd attempt 45.0%) -- or no war 42.0% (2nd attempt 63.0%)\n",
      "Year: 2110 - chance of solving TAI alignment with war 28.0% (2nd attempt 45.0%) -- or no war 42.0% (2nd attempt 63.0%)\n",
      "Year: 2120 - chance of solving TAI alignment with war 28.0% (2nd attempt 45.0%) -- or no war 42.0% (2nd attempt 63.0%)\n"
     ]
    }
   ],
   "source": [
    "for y in list(years[:17]) + list(years[17::10]):\n",
    "    str_ = 'Year: {} - chance of solving TAI alignment with war {}% (2nd attempt {}%) -- or no war {}% (2nd attempt {}%)'\n",
    "    print(str_.format(y,\n",
    "                      round(alignment_pwar[y - VARS['CURRENT_YEAR']] * 100, 0),\n",
    "                      round(alignment_p2war[y - VARS['CURRENT_YEAR']] * 100, 0),\n",
    "                      round(alignment_p[y - VARS['CURRENT_YEAR']] * 100, 0),\n",
    "                      round(alignment_p2[y - VARS['CURRENT_YEAR']] * 100, 0)))"
   ]
  },
  {
   "cell_type": "code",
   "execution_count": 19,
   "metadata": {},
   "outputs": [
    {
     "name": "stdout",
     "output_type": "stream",
     "text": [
      "AI X-Risk BY EOY year\n",
      "2024 - 0.0% (Extinction: 0.0%, Bad TAI singleton: 0.0%, Subtly misaligned singleton: 0.0%, Misuse singleton: 0.0%)\n",
      "2030 - 0.9% (Extinction: 0.2%, Bad TAI singleton: 0.4%, Subtly misaligned singleton: 0.1%, Misuse singleton: 0.2%)\n",
      "2050 - 18.3% (Extinction: 4.3%, Bad TAI singleton: 6.4%, Subtly misaligned singleton: 2.9%, Misuse singleton: 4.7%)\n",
      "2070 - 23.6% (Extinction: 5.5%, Bad TAI singleton: 7.9%, Subtly misaligned singleton: 4.0%, Misuse singleton: 6.2%)\n",
      "2100 - 25.0% (Extinction: 5.8%, Bad TAI singleton: 8.4%, Subtly misaligned singleton: 4.3%, Misuse singleton: 6.5%)\n"
     ]
    }
   ],
   "source": [
    "print('AI X-Risk BY EOY year')\n",
    "\n",
    "def find(y_c, category):\n",
    "    return bayes.bayesnet(define_event_lambda,\n",
    "                          find=lambda e: e['collectors'][y_c]['category'] == category,\n",
    "                          n=VARS['RUNS'])\n",
    "\n",
    "for y_c in [2024, 2030, 2050, 2070, 2100]:\n",
    "    extinction = find(y_c, 'xrisk_full_unaligned_tai_extinction')\n",
    "    singleton = find(y_c, 'xrisk_full_unaligned_tai_singleton')\n",
    "    subtle_misalignment = find(y_c, 'xrisk_subtly_unaligned_tai')\n",
    "    misuse = find(y_c, 'xrisk_tai_misuse')\n",
    "    out = '{} - {}% (Extinction: {}%, Bad TAI singleton: {}%, Subtly misaligned singleton: {}%, Misuse singleton: {}%)'\n",
    "    print(out.format(y_c,\n",
    "                     round((extinction + singleton + subtle_misalignment + misuse) * 100, 1),\n",
    "                     round(extinction * 100, 1),\n",
    "                     round(singleton * 100, 1),\n",
    "                     round(subtle_misalignment * 100, 1),\n",
    "                     round(misuse * 100, 1)))\n"
   ]
  },
  {
   "cell_type": "code",
   "execution_count": 20,
   "metadata": {},
   "outputs": [
    {
     "name": "stdout",
     "output_type": "stream",
     "text": [
      "Chance of successfully aligning TAI by EOY year\n",
      "2024 - 0.0%\n",
      "2030 - 0.56%\n",
      "2050 - 27.9%\n",
      "2070 - 38.09%\n",
      "2100 - 40.6%\n"
     ]
    }
   ],
   "source": [
    "print('Chance of successfully aligning TAI by EOY year')\n",
    "for y_c in [2024, 2030, 2050, 2070, 2100]:\n",
    "    r = bayes.bayesnet(define_event_lambda,\n",
    "                       find=lambda e: e['collectors'][y_c]['category'] == 'aligned_tai',\n",
    "                       n=VARS['RUNS'])\n",
    "    print('{} - {}%'.format(y_c, round(r * 100, 2)))\n",
    "    "
   ]
  },
  {
   "cell_type": "code",
   "execution_count": 21,
   "metadata": {},
   "outputs": [
    {
     "name": "stdout",
     "output_type": "stream",
     "text": [
      "Cumulative Total X-Risk (including non-extinction x-risks and \"ok but not great\" x-risks)\n",
      "2023 - 0.0% (AI: 0.0%, Nukes: 0.002%, Bio: 0.0%, Nano: 0.0%, Natural: 0.0%, Other: 0.0%)\n",
      "2024 - 0.01% (AI: 0.0%, Nukes: 0.008%, Bio: 0.0%, Nano: 0.0%, Natural: 0.0%, Other: 0.0%)\n",
      "2025 - 0.02% (AI: 0.0%, Nukes: 0.014%, Bio: 0.002%, Nano: 0.0%, Natural: 0.0%, Other: 0.002%)\n",
      "2026 - 0.03% (AI: 0.01%, Nukes: 0.018%, Bio: 0.002%, Nano: 0.0%, Natural: 0.0%, Other: 0.004%)\n",
      "2027 - 0.09% (AI: 0.06%, Nukes: 0.022%, Bio: 0.002%, Nano: 0.0%, Natural: 0.0%, Other: 0.006%)\n",
      "2028 - 0.23% (AI: 0.18%, Nukes: 0.04%, Bio: 0.002%, Nano: 0.0%, Natural: 0.0%, Other: 0.006%)\n",
      "2029 - 0.49% (AI: 0.43%, Nukes: 0.046%, Bio: 0.002%, Nano: 0.0%, Natural: 0.0%, Other: 0.006%)\n",
      "2030 - 0.93% (AI: 0.87%, Nukes: 0.054%, Bio: 0.002%, Nano: 0.0%, Natural: 0.0%, Other: 0.008%)\n",
      "2032 - 2.18% (AI: 2.1%, Nukes: 0.068%, Bio: 0.002%, Nano: 0.0%, Natural: 0.0%, Other: 0.008%)\n",
      "2035 - 5.43% (AI: 5.34%, Nukes: 0.082%, Bio: 0.004%, Nano: 0.0%, Natural: 0.0%, Other: 0.01%)\n",
      "2040 - 11.28% (AI: 11.14%, Nukes: 0.116%, Bio: 0.006%, Nano: 0.0%, Natural: 0.0%, Other: 0.014%)\n",
      "2045 - 15.48% (AI: 15.3%, Nukes: 0.146%, Bio: 0.006%, Nano: 0.002%, Natural: 0.0%, Other: 0.022%)\n",
      "2050 - 18.51% (AI: 18.32%, Nukes: 0.154%, Bio: 0.008%, Nano: 0.002%, Natural: 0.0%, Other: 0.026%)\n",
      "2060 - 22.15% (AI: 21.93%, Nukes: 0.176%, Bio: 0.01%, Nano: 0.004%, Natural: 0.0%, Other: 0.028%)\n",
      "2070 - 23.83% (AI: 23.59%, Nukes: 0.194%, Bio: 0.012%, Nano: 0.006%, Natural: 0.0%, Other: 0.034%)\n",
      "2100 - 25.37% (AI: 25.02%, Nukes: 0.254%, Bio: 0.022%, Nano: 0.02%, Natural: 0.0%, Other: 0.056%)\n"
     ]
    }
   ],
   "source": [
    "print('Cumulative Total X-Risk (including non-extinction x-risks and \"ok but not great\" x-risks)')\n",
    "\n",
    "def find(y_c, category):\n",
    "    return bayes.bayesnet(define_event_lambda,\n",
    "                          find=lambda e: ('xrisk' in e['collectors'][y_c]['category']) and (category in e['collectors'][y_c]['category']),\n",
    "                          n=VARS['RUNS'])\n",
    "\n",
    "for y_c in [2023, 2024, 2025, 2026, 2027, 2028, 2029, 2030, 2032, 2035, 2040, 2045, 2050, 2060, 2070, 2100]:\n",
    "    ai = find(y_c, 'tai')\n",
    "    nukes = find(y_c, 'nukes')\n",
    "    unknown = find(y_c, 'unknown')\n",
    "    nano = find(y_c, 'nanotech')\n",
    "    natural = find(y_c, 'supervolcano')\n",
    "    bio = find(y_c, 'bio')\n",
    "\n",
    "    out = '{} - {}% (AI: {}%, Nukes: {}%, Bio: {}%, Nano: {}%, Natural: {}%, Other: {}%)'\n",
    "    print(out.format(y_c,\n",
    "                     round((ai + nukes + bio + nano + unknown) * 100, 2),\n",
    "                     round(ai * 100, 2),\n",
    "                     round(nukes * 100, 3),\n",
    "                     round(bio * 100, 3),\n",
    "                     round(nano * 100, 3),\n",
    "                     round(natural * 100, 3),\n",
    "                     round(unknown * 100, 3)))\n"
   ]
  },
  {
   "cell_type": "code",
   "execution_count": 22,
   "metadata": {},
   "outputs": [
    {
     "name": "stdout",
     "output_type": "stream",
     "text": [
      "Cumulative Total Extinction Risk\n",
      "2030 - 0.3% (AI: 0.24%, Nukes: 0.054% (War: 0.04% Accident: 0.014%), Bio: 0.002% (War: 0.0%, Accident: 0.0%, Nonstate: 0.002%), Nano: 0.0%, Natural: 0.0%, Other: 0.008%)\n",
      "2050 - 4.47% (AI: 4.28%, Nukes: 0.154% (War: 0.102% Accident: 0.052%), Bio: 0.008% (War: 0.0%, Accident: 0.006%, Nonstate: 0.002%), Nano: 0.002%, Natural: 0.0%, Other: 0.026%)\n",
      "2100 - 6.11% (AI: 5.76%, Nukes: 0.254% (War: 0.184% Accident: 0.07%), Bio: 0.022% (War: 0.0%, Accident: 0.02%, Nonstate: 0.002%), Nano: 0.02%, Natural: 0.0%, Other: 0.056%)\n"
     ]
    }
   ],
   "source": [
    "print('Cumulative Total Extinction Risk')\n",
    "\n",
    "def find(y_c, category):\n",
    "    return bayes.bayesnet(define_event_lambda,\n",
    "                          find=lambda e: e['collectors'][y_c]['category'] == category,\n",
    "                          n=VARS['RUNS'])\n",
    "\n",
    "for y_c in [2030, 2050, 2100]:\n",
    "    ai = find(y_c, 'xrisk_full_unaligned_tai_extinction')\n",
    "    nukes_war = find(y_c, 'xrisk_nukes_war')\n",
    "    nukes_accident = find(y_c, 'xrisk_nukes_accident')\n",
    "    unknown = find(y_c, 'xrisk_unknown_unknown')\n",
    "    bio_war = find(y_c, 'xrisk_bio_war')\n",
    "    bio_accident = find(y_c, 'xrisk_bio_accident')\n",
    "    bio_nonstate = find(y_c, 'xrisk_bio_nonstate')\n",
    "    nanotech = find(y_c, 'xrisk_nanotech')\n",
    "    supervolcano = find(y_c, 'xrisk_supervolcano')\n",
    "    \n",
    "    r = bayes.bayesnet(define_event_lambda,\n",
    "                       find=lambda e: e['collectors'][y_c]['category'] in extinctions,\n",
    "                       n=VARS['RUNS'])\n",
    "    \n",
    "    out = '{} - {}% (AI: {}%, Nukes: {}% (War: {}% Accident: {}%), Bio: {}% (War: {}%, Accident: {}%, Nonstate: {}%), Nano: {}%, Natural: {}%, Other: {}%)'\n",
    "    print(out.format(y_c,\n",
    "                     round(r * 100, 2),\n",
    "                     round(ai * 100, 2),\n",
    "                     round((nukes_war + nukes_accident) * 100, 3),\n",
    "                     round(nukes_war * 100, 3),\n",
    "                     round(nukes_accident * 100, 3),\n",
    "                     round((bio_war + bio_accident + bio_nonstate) * 100, 3),\n",
    "                     round(bio_war * 100, 3),\n",
    "                     round(bio_accident * 100, 3),\n",
    "                     round(bio_nonstate * 100, 3),\n",
    "                     round(nanotech * 100, 3),\n",
    "                     round(supervolcano * 100, 3),\n",
    "                     round(unknown * 100, 3)))\n",
    "        "
   ]
  },
  {
   "cell_type": "code",
   "execution_count": 23,
   "metadata": {},
   "outputs": [
    {
     "name": "stdout",
     "output_type": "stream",
     "text": [
      "Cumulative Total Catastrophe Risk (defined as 10%+ death)\n",
      "2030 - 2.63%\n",
      "2050 - 21.39%\n",
      "2100 - 29.51%\n"
     ]
    }
   ],
   "source": [
    "# https://www.metaculus.com/questions/1493/global-population-decline-10-by-2100/\n",
    "print('Cumulative Total Catastrophe Risk (defined as 10%+ death)')\n",
    "\n",
    "for y_c in [2030, 2050, 2100]:\n",
    "    r = bayes.bayesnet(define_event_lambda,\n",
    "                       find=lambda e: (e['collectors'][y_c]['catastrophe'] != []) or (e['collectors'][y_c]['category'] in extinctions),\n",
    "                       n=VARS['RUNS'])\n",
    "    print('{} - {}%'.format(y_c, round(r * 100, 2)))\n",
    "    "
   ]
  },
  {
   "cell_type": "code",
   "execution_count": 24,
   "metadata": {},
   "outputs": [
    {
     "name": "stdout",
     "output_type": "stream",
     "text": [
      "Cumulative Total *Actively Bad* Future X-Risk (including non-extinction risks but excluding subtle AI misalignment)\n",
      "2023 - 0.0% (AI: 0.0%, Nukes: 0.002%, Bio: 0.0%, Nano: 0.0%, Natural: 0.0%, Other: 0.0%)\n",
      "2025 - 0.02% (AI: 0.0%, Nukes: 0.014%, Bio: 0.002%, Nano: 0.0%, Natural: 0.0%, Other: 0.002%)\n",
      "2030 - 0.88% (AI: 0.81%, Nukes: 0.054%, Bio: 0.002%, Nano: 0.0%, Natural: 0.0%, Other: 0.008%)\n",
      "2035 - 4.91% (AI: 4.81%, Nukes: 0.082%, Bio: 0.004%, Nano: 0.0%, Natural: 0.0%, Other: 0.01%)\n",
      "2040 - 9.8% (AI: 9.66%, Nukes: 0.116%, Bio: 0.006%, Nano: 0.0%, Natural: 0.0%, Other: 0.014%)\n",
      "2045 - 13.19% (AI: 13.01%, Nukes: 0.146%, Bio: 0.006%, Nano: 0.002%, Natural: 0.0%, Other: 0.022%)\n",
      "2050 - 15.57% (AI: 15.38%, Nukes: 0.154%, Bio: 0.008%, Nano: 0.002%, Natural: 0.0%, Other: 0.026%)\n",
      "2060 - 18.48% (AI: 18.27%, Nukes: 0.176%, Bio: 0.01%, Nano: 0.004%, Natural: 0.0%, Other: 0.028%)\n",
      "2070 - 19.81% (AI: 19.56%, Nukes: 0.194%, Bio: 0.012%, Nano: 0.006%, Natural: 0.0%, Other: 0.034%)\n",
      "2100 - 21.03% (AI: 20.68%, Nukes: 0.254%, Bio: 0.022%, Nano: 0.02%, Natural: 0.0%, Other: 0.056%)\n"
     ]
    }
   ],
   "source": [
    "print('Cumulative Total *Actively Bad* Future X-Risk (including non-extinction risks but excluding subtle AI misalignment)')\n",
    "\n",
    "def find(y_c, category):\n",
    "    return bayes.bayesnet(define_event_lambda,\n",
    "                          find=lambda e: ('xrisk' in e['collectors'][y_c]['category']) and (category in e['collectors'][y_c]['category']),\n",
    "                          n=VARS['RUNS'])\n",
    "\n",
    "for y_c in [2023, 2025, 2030, 2035, 2040, 2045, 2050, 2060, 2070, 2100]:\n",
    "    ai = find(y_c, 'tai')\n",
    "    ai_subtle_misalignment = find(y_c, 'xrisk_subtly_unaligned_tai')\n",
    "    nukes = find(y_c, 'nukes')\n",
    "    unknown = find(y_c, 'unknown')\n",
    "    nano = find(y_c, 'nanotech')\n",
    "    natural = find(y_c, 'supervolcano')\n",
    "    bio = find(y_c, 'bio')\n",
    "\n",
    "    out = '{} - {}% (AI: {}%, Nukes: {}%, Bio: {}%, Nano: {}%, Natural: {}%, Other: {}%)'\n",
    "    print(out.format(y_c,\n",
    "                     round((ai - ai_subtle_misalignment + nukes + bio + nano + unknown) * 100, 2),\n",
    "                     round((ai - ai_subtle_misalignment) * 100, 2),\n",
    "                     round(nukes * 100, 3),\n",
    "                     round(bio * 100, 3),\n",
    "                     round(nano * 100, 3),\n",
    "                     round(natural * 100, 3),\n",
    "                     round(unknown * 100, 3)))\n"
   ]
  },
  {
   "cell_type": "markdown",
   "metadata": {},
   "source": [
    "## Appendix"
   ]
  },
  {
   "cell_type": "code",
   "execution_count": 25,
   "metadata": {},
   "outputs": [
    {
     "name": "stdout",
     "output_type": "stream",
     "text": [
      ".............\n",
      "5% X-Risk By 2035 Apr 09\n"
     ]
    }
   ],
   "source": [
    "trigger_found = False\n",
    "i = 0\n",
    "trigger_found = False\n",
    "while not trigger_found:\n",
    "    print('.', end='')\n",
    "    y_c = years[i]\n",
    "    ai = find(y_c, 'tai')\n",
    "    nukes = find(y_c, 'nukes')\n",
    "    unknown = find(y_c, 'unknown')\n",
    "    nano = find(y_c, 'nanotech')\n",
    "    natural = find(y_c, 'supervolcano')\n",
    "    bio = find(y_c, 'bio')\n",
    "    xrisk = ai + nukes + bio + nano + unknown\n",
    "    if xrisk > 0.05:\n",
    "        trigger_found = True\n",
    "        y_c -= (xrisk - 0.05)/0.05\n",
    "    i += 1\n",
    "\n",
    "print('')\n",
    "if not trigger_found:\n",
    "    y_c = '>2100'\n",
    "else:\n",
    "    y_c = dt.datetime.strftime(dt.datetime.now() + dt.timedelta(days=(y_c - 2023) * 365.24), '%Y %b %d')\n",
    "    \n",
    "print('5% X-Risk By {}'.format(y_c))"
   ]
  },
  {
   "cell_type": "code",
   "execution_count": 26,
   "metadata": {},
   "outputs": [
    {
     "name": "stdout",
     "output_type": "stream",
     "text": [
      "Total X-Risk IN THAT SPECIFIC YEAR (non-cumulative) (including non-extinction x-risks)\n"
     ]
    },
    {
     "name": "stderr",
     "output_type": "stream",
     "text": [
      "100%|█████████████████████████████████████████████████████████████████████████████████████████████████████████████████████████████████████████████████████████████████████| 100/100 [00:05<00:00, 17.91it/s]\n",
      "100%|█████████████████████████████████████████████████████████████████████████████████████████████████████████████████████████████████████████████████████████████████████| 100/100 [00:05<00:00, 17.57it/s]\n",
      "100%|█████████████████████████████████████████████████████████████████████████████████████████████████████████████████████████████████████████████████████████████████████| 100/100 [00:05<00:00, 17.96it/s]\n",
      "100%|█████████████████████████████████████████████████████████████████████████████████████████████████████████████████████████████████████████████████████████████████████| 100/100 [00:05<00:00, 18.17it/s]\n",
      "100%|█████████████████████████████████████████████████████████████████████████████████████████████████████████████████████████████████████████████████████████████████████| 100/100 [00:06<00:00, 14.92it/s]\n",
      "100%|█████████████████████████████████████████████████████████████████████████████████████████████████████████████████████████████████████████████████████████████████████| 100/100 [00:09<00:00, 10.77it/s]"
     ]
    },
    {
     "name": "stdout",
     "output_type": "stream",
     "text": [
      "2023 - 0.006% (AI: 0.0%, Nukes: 0.006%, Bio: 0.0%, Nano: 0.0%, Natural: 0.0%, Other: 0.0%)\n",
      "2024 - 0.01% (AI: 0.0%, Nukes: 0.006%, Bio: 0.002%, Nano: 0.0%, Natural: 0.0%, Other: 0.002%)\n",
      "2025 - 0.012% (AI: 0.006%, Nukes: 0.004%, Bio: 0.0%, Nano: 0.0%, Natural: 0.0%, Other: 0.002%)\n",
      "2026 - 0.06% (AI: 0.054%, Nukes: 0.004%, Bio: 0.0%, Nano: 0.0%, Natural: 0.0%, Other: 0.002%)\n",
      "2027 - 0.142% (AI: 0.124%, Nukes: 0.018%, Bio: 0.0%, Nano: 0.0%, Natural: 0.0%, Other: 0.0%)\n",
      "2028 - 0.256% (AI: 0.25%, Nukes: 0.006%, Bio: 0.0%, Nano: 0.0%, Natural: 0.0%, Other: 0.0%)\n",
      "2029 - 0.442% (AI: 0.432%, Nukes: 0.008%, Bio: 0.0%, Nano: 0.0%, Natural: 0.0%, Other: 0.002%)\n",
      "2030 - 0.588% (AI: 0.584%, Nukes: 0.004%, Bio: 0.0%, Nano: 0.0%, Natural: 0.0%, Other: 0.0%)\n",
      "2031 - 0.658% (AI: 0.648%, Nukes: 0.01%, Bio: 0.0%, Nano: 0.0%, Natural: 0.0%, Other: 0.0%)\n",
      "2032 - 0.928% (AI: 0.928%, Nukes: 0.0%, Bio: 0.0%, Nano: 0.0%, Natural: 0.0%, Other: 0.0%)\n",
      "2033 - 1.148% (AI: 1.134%, Nukes: 0.01%, Bio: 0.002%, Nano: 0.0%, Natural: 0.0%, Other: 0.002%)\n",
      "2034 - 1.182% (AI: 1.178%, Nukes: 0.004%, Bio: 0.0%, Nano: 0.0%, Natural: 0.0%, Other: 0.0%)\n",
      "2035 - 1.252% (AI: 1.246%, Nukes: 0.004%, Bio: 0.002%, Nano: 0.0%, Natural: 0.0%, Other: 0.0%)\n",
      "2036 - 1.252% (AI: 1.246%, Nukes: 0.006%, Bio: 0.0%, Nano: 0.0%, Natural: 0.0%, Other: 0.0%)\n",
      "2037 - 1.248% (AI: 1.242%, Nukes: 0.006%, Bio: 0.0%, Nano: 0.0%, Natural: 0.0%, Other: 0.0%)\n",
      "2038 - 1.074% (AI: 1.058%, Nukes: 0.012%, Bio: 0.0%, Nano: 0.0%, Natural: 0.0%, Other: 0.004%)\n",
      "2039 - 1.02% (AI: 1.014%, Nukes: 0.006%, Bio: 0.0%, Nano: 0.0%, Natural: 0.0%, Other: 0.0%)\n",
      "2040 - 0.98% (AI: 0.978%, Nukes: 0.002%, Bio: 0.0%, Nano: 0.0%, Natural: 0.0%, Other: 0.0%)\n",
      "2041 - 0.894% (AI: 0.874%, Nukes: 0.014%, Bio: 0.0%, Nano: 0.002%, Natural: 0.0%, Other: 0.004%)\n",
      "2042 - 0.8% (AI: 0.792%, Nukes: 0.006%, Bio: 0.0%, Nano: 0.0%, Natural: 0.0%, Other: 0.002%)\n",
      "2043 - 0.842% (AI: 0.84%, Nukes: 0.0%, Bio: 0.0%, Nano: 0.0%, Natural: 0.0%, Other: 0.002%)\n",
      "2044 - 0.68% (AI: 0.672%, Nukes: 0.008%, Bio: 0.0%, Nano: 0.0%, Natural: 0.0%, Other: 0.0%)\n",
      "2045 - 0.688% (AI: 0.686%, Nukes: 0.0%, Bio: 0.0%, Nano: 0.0%, Natural: 0.0%, Other: 0.002%)\n",
      "2046 - 0.69% (AI: 0.686%, Nukes: 0.002%, Bio: 0.002%, Nano: 0.0%, Natural: 0.0%, Other: 0.0%)\n",
      "2047 - 0.516% (AI: 0.512%, Nukes: 0.004%, Bio: 0.0%, Nano: 0.0%, Natural: 0.0%, Other: 0.0%)\n",
      "2048 - 0.59% (AI: 0.586%, Nukes: 0.002%, Bio: 0.0%, Nano: 0.0%, Natural: 0.0%, Other: 0.002%)\n",
      "2049 - 0.554% (AI: 0.554%, Nukes: 0.0%, Bio: 0.0%, Nano: 0.0%, Natural: 0.0%, Other: 0.0%)\n",
      "2050 - 0.554% (AI: 0.552%, Nukes: 0.002%, Bio: 0.0%, Nano: 0.0%, Natural: 0.0%, Other: 0.0%)\n",
      "2051 - 0.476% (AI: 0.476%, Nukes: 0.0%, Bio: 0.0%, Nano: 0.0%, Natural: 0.0%, Other: 0.0%)\n",
      "2052 - 0.448% (AI: 0.444%, Nukes: 0.004%, Bio: 0.0%, Nano: 0.0%, Natural: 0.0%, Other: 0.0%)\n",
      "2053 - 0.386% (AI: 0.378%, Nukes: 0.004%, Bio: 0.002%, Nano: 0.0%, Natural: 0.0%, Other: 0.002%)\n",
      "2054 - 0.33% (AI: 0.33%, Nukes: 0.0%, Bio: 0.0%, Nano: 0.0%, Natural: 0.0%, Other: 0.0%)\n",
      "2055 - 0.342% (AI: 0.338%, Nukes: 0.002%, Bio: 0.0%, Nano: 0.002%, Natural: 0.0%, Other: 0.0%)\n",
      "2056 - 0.298% (AI: 0.298%, Nukes: 0.0%, Bio: 0.0%, Nano: 0.0%, Natural: 0.0%, Other: 0.0%)\n",
      "2057 - 0.262% (AI: 0.262%, Nukes: 0.0%, Bio: 0.0%, Nano: 0.0%, Natural: 0.0%, Other: 0.0%)\n",
      "2058 - 0.256% (AI: 0.254%, Nukes: 0.002%, Bio: 0.0%, Nano: 0.0%, Natural: 0.0%, Other: 0.0%)\n",
      "2059 - 0.28% (AI: 0.272%, Nukes: 0.008%, Bio: 0.0%, Nano: 0.0%, Natural: 0.0%, Other: 0.0%)\n",
      "2060 - 0.212% (AI: 0.212%, Nukes: 0.0%, Bio: 0.0%, Nano: 0.0%, Natural: 0.0%, Other: 0.0%)\n",
      "2061 - 0.196% (AI: 0.188%, Nukes: 0.004%, Bio: 0.0%, Nano: 0.002%, Natural: 0.0%, Other: 0.002%)\n",
      "2062 - 0.17% (AI: 0.168%, Nukes: 0.002%, Bio: 0.0%, Nano: 0.0%, Natural: 0.0%, Other: 0.0%)\n",
      "2063 - 0.18% (AI: 0.172%, Nukes: 0.004%, Bio: 0.002%, Nano: 0.0%, Natural: 0.0%, Other: 0.002%)\n",
      "2064 - 0.184% (AI: 0.184%, Nukes: 0.0%, Bio: 0.0%, Nano: 0.0%, Natural: 0.0%, Other: 0.0%)\n",
      "2065 - 0.158% (AI: 0.154%, Nukes: 0.004%, Bio: 0.0%, Nano: 0.0%, Natural: 0.0%, Other: 0.0%)\n",
      "2066 - 0.218% (AI: 0.214%, Nukes: 0.004%, Bio: 0.0%, Nano: 0.0%, Natural: 0.0%, Other: 0.0%)\n",
      "2067 - 0.098% (AI: 0.098%, Nukes: 0.0%, Bio: 0.0%, Nano: 0.0%, Natural: 0.0%, Other: 0.0%)\n",
      "2068 - 0.148% (AI: 0.146%, Nukes: 0.0%, Bio: 0.0%, Nano: 0.0%, Natural: 0.0%, Other: 0.002%)\n",
      "2069 - 0.124% (AI: 0.124%, Nukes: 0.0%, Bio: 0.0%, Nano: 0.0%, Natural: 0.0%, Other: 0.0%)\n",
      "2070 - 0.12% (AI: 0.11%, Nukes: 0.008%, Bio: 0.0%, Nano: 0.002%, Natural: 0.0%, Other: 0.0%)\n",
      "2071 - 0.09% (AI: 0.088%, Nukes: 0.002%, Bio: 0.0%, Nano: 0.0%, Natural: 0.0%, Other: 0.0%)\n",
      "2072 - 0.112% (AI: 0.11%, Nukes: 0.002%, Bio: 0.0%, Nano: 0.0%, Natural: 0.0%, Other: 0.0%)\n",
      "2073 - 0.102% (AI: 0.1%, Nukes: 0.002%, Bio: 0.0%, Nano: 0.0%, Natural: 0.0%, Other: 0.0%)\n",
      "2074 - 0.084% (AI: 0.082%, Nukes: 0.0%, Bio: 0.002%, Nano: 0.0%, Natural: 0.0%, Other: 0.0%)\n",
      "2075 - 0.104% (AI: 0.102%, Nukes: 0.002%, Bio: 0.0%, Nano: 0.0%, Natural: 0.0%, Other: 0.0%)\n",
      "2076 - 0.07% (AI: 0.064%, Nukes: 0.002%, Bio: 0.004%, Nano: 0.0%, Natural: 0.0%, Other: 0.0%)\n",
      "2077 - 0.054% (AI: 0.05%, Nukes: 0.004%, Bio: 0.0%, Nano: 0.0%, Natural: 0.0%, Other: 0.0%)\n",
      "2078 - 0.056% (AI: 0.056%, Nukes: 0.0%, Bio: 0.0%, Nano: 0.0%, Natural: 0.0%, Other: 0.0%)\n",
      "2079 - 0.062% (AI: 0.058%, Nukes: 0.002%, Bio: 0.0%, Nano: 0.0%, Natural: 0.0%, Other: 0.002%)\n",
      "2080 - 0.046% (AI: 0.044%, Nukes: 0.0%, Bio: 0.0%, Nano: 0.0%, Natural: 0.0%, Other: 0.002%)\n",
      "2081 - 0.042% (AI: 0.036%, Nukes: 0.004%, Bio: 0.0%, Nano: 0.0%, Natural: 0.0%, Other: 0.002%)\n",
      "2082 - 0.048% (AI: 0.044%, Nukes: 0.002%, Bio: 0.002%, Nano: 0.0%, Natural: 0.0%, Other: 0.0%)\n",
      "2083 - 0.028% (AI: 0.026%, Nukes: 0.002%, Bio: 0.0%, Nano: 0.0%, Natural: 0.0%, Other: 0.0%)\n",
      "2084 - 0.036% (AI: 0.032%, Nukes: 0.0%, Bio: 0.0%, Nano: 0.0%, Natural: 0.0%, Other: 0.004%)\n",
      "2085 - 0.038% (AI: 0.036%, Nukes: 0.0%, Bio: 0.0%, Nano: 0.002%, Natural: 0.0%, Other: 0.0%)\n",
      "2086 - 0.046% (AI: 0.042%, Nukes: 0.002%, Bio: 0.0%, Nano: 0.002%, Natural: 0.0%, Other: 0.0%)\n",
      "2087 - 0.026% (AI: 0.026%, Nukes: 0.0%, Bio: 0.0%, Nano: 0.0%, Natural: 0.0%, Other: 0.0%)\n",
      "2088 - 0.04% (AI: 0.04%, Nukes: 0.0%, Bio: 0.0%, Nano: 0.0%, Natural: 0.0%, Other: 0.0%)\n",
      "2089 - 0.022% (AI: 0.016%, Nukes: 0.004%, Bio: 0.0%, Nano: 0.0%, Natural: 0.0%, Other: 0.002%)\n",
      "2090 - 0.038% (AI: 0.036%, Nukes: 0.0%, Bio: 0.0%, Nano: 0.0%, Natural: 0.0%, Other: 0.002%)\n",
      "2091 - 0.026% (AI: 0.022%, Nukes: 0.002%, Bio: 0.0%, Nano: 0.0%, Natural: 0.0%, Other: 0.002%)\n",
      "2092 - 0.046% (AI: 0.038%, Nukes: 0.006%, Bio: 0.0%, Nano: 0.002%, Natural: 0.0%, Other: 0.0%)\n",
      "2093 - 0.034% (AI: 0.032%, Nukes: 0.0%, Bio: 0.0%, Nano: 0.0%, Natural: 0.0%, Other: 0.002%)\n",
      "2094 - 0.024% (AI: 0.02%, Nukes: 0.004%, Bio: 0.0%, Nano: 0.0%, Natural: 0.0%, Other: 0.0%)\n",
      "2095 - 0.04% (AI: 0.03%, Nukes: 0.006%, Bio: 0.002%, Nano: 0.002%, Natural: 0.0%, Other: 0.0%)\n",
      "2096 - 0.014% (AI: 0.012%, Nukes: 0.0%, Bio: 0.0%, Nano: 0.002%, Natural: 0.0%, Other: 0.0%)\n",
      "2097 - 0.042% (AI: 0.038%, Nukes: 0.0%, Bio: 0.0%, Nano: 0.0%, Natural: 0.0%, Other: 0.004%)\n",
      "2098 - 0.032% (AI: 0.028%, Nukes: 0.002%, Bio: 0.0%, Nano: 0.002%, Natural: 0.0%, Other: 0.0%)\n",
      "2099 - 0.016% (AI: 0.014%, Nukes: 0.002%, Bio: 0.0%, Nano: 0.0%, Natural: 0.0%, Other: 0.0%)\n",
      "2100 - 0.022% (AI: 0.02%, Nukes: 0.002%, Bio: 0.0%, Nano: 0.0%, Natural: 0.0%, Other: 0.0%)\n",
      "2101 - 0.026% (AI: 0.02%, Nukes: 0.004%, Bio: 0.0%, Nano: 0.0%, Natural: 0.0%, Other: 0.002%)\n",
      "2102 - 0.02% (AI: 0.018%, Nukes: 0.0%, Bio: 0.0%, Nano: 0.0%, Natural: 0.0%, Other: 0.002%)\n",
      "2103 - 0.03% (AI: 0.028%, Nukes: 0.0%, Bio: 0.0%, Nano: 0.002%, Natural: 0.0%, Other: 0.0%)\n",
      "2104 - 0.02% (AI: 0.016%, Nukes: 0.0%, Bio: 0.0%, Nano: 0.002%, Natural: 0.0%, Other: 0.002%)\n",
      "2105 - 0.022% (AI: 0.018%, Nukes: 0.0%, Bio: 0.0%, Nano: 0.002%, Natural: 0.0%, Other: 0.002%)\n",
      "2106 - 0.014% (AI: 0.014%, Nukes: 0.0%, Bio: 0.0%, Nano: 0.0%, Natural: 0.0%, Other: 0.0%)\n",
      "2107 - 0.004% (AI: 0.002%, Nukes: 0.002%, Bio: 0.0%, Nano: 0.0%, Natural: 0.0%, Other: 0.0%)\n",
      "2108 - 0.026% (AI: 0.016%, Nukes: 0.006%, Bio: 0.002%, Nano: 0.002%, Natural: 0.0%, Other: 0.0%)\n",
      "2109 - 0.014% (AI: 0.008%, Nukes: 0.002%, Bio: 0.002%, Nano: 0.0%, Natural: 0.0%, Other: 0.002%)\n",
      "2110 - 0.012% (AI: 0.01%, Nukes: 0.0%, Bio: 0.0%, Nano: 0.002%, Natural: 0.0%, Other: 0.0%)\n",
      "2111 - 0.02% (AI: 0.02%, Nukes: 0.0%, Bio: 0.0%, Nano: 0.0%, Natural: 0.0%, Other: 0.0%)\n",
      "2112 - 0.006% (AI: 0.006%, Nukes: 0.0%, Bio: 0.0%, Nano: 0.0%, Natural: 0.0%, Other: 0.0%)\n",
      "2113 - 0.03% (AI: 0.026%, Nukes: 0.004%, Bio: 0.0%, Nano: 0.0%, Natural: 0.0%, Other: 0.0%)\n",
      "2114 - 0.02% (AI: 0.016%, Nukes: 0.0%, Bio: 0.002%, Nano: 0.0%, Natural: 0.0%, Other: 0.002%)\n",
      "2115 - 0.01% (AI: 0.01%, Nukes: 0.0%, Bio: 0.0%, Nano: 0.0%, Natural: 0.0%, Other: 0.0%)\n",
      "2116 - 0.024% (AI: 0.018%, Nukes: 0.002%, Bio: 0.0%, Nano: 0.002%, Natural: 0.0%, Other: 0.002%)\n",
      "2117 - 0.018% (AI: 0.012%, Nukes: 0.004%, Bio: 0.0%, Nano: 0.0%, Natural: 0.0%, Other: 0.002%)\n",
      "2118 - 0.028% (AI: 0.024%, Nukes: 0.002%, Bio: 0.002%, Nano: 0.0%, Natural: 0.0%, Other: 0.0%)\n",
      "2119 - 0.02% (AI: 0.018%, Nukes: 0.002%, Bio: 0.0%, Nano: 0.0%, Natural: 0.0%, Other: 0.0%)\n",
      "2120 - 0.008% (AI: 0.008%, Nukes: 0.0%, Bio: 0.0%, Nano: 0.0%, Natural: 0.0%, Other: 0.0%)\n",
      "2121 - 0.022% (AI: 0.02%, Nukes: 0.002%, Bio: 0.0%, Nano: 0.0%, Natural: 0.0%, Other: 0.0%)\n"
     ]
    },
    {
     "name": "stderr",
     "output_type": "stream",
     "text": [
      "\n"
     ]
    }
   ],
   "source": [
    "print('Total X-Risk IN THAT SPECIFIC YEAR (non-cumulative) (including non-extinction x-risks)')\n",
    "\n",
    "ai = np.diff(np.array([find(y, 'tai') for y in tqdm(range(VARS['CURRENT_YEAR'], VARS['MAX_YEAR']))]))\n",
    "nukes = np.diff(np.array([find(y, 'nukes') for y in tqdm(range(VARS['CURRENT_YEAR'], VARS['MAX_YEAR']))]))\n",
    "unknown = np.diff(np.array([find(y, 'unknown') for y in tqdm(range(VARS['CURRENT_YEAR'], VARS['MAX_YEAR']))]))\n",
    "nano = np.diff(np.array([find(y, 'nanotech') for y in tqdm(range(VARS['CURRENT_YEAR'], VARS['MAX_YEAR']))]))\n",
    "natural = np.diff(np.array([find(y, 'supervolcano') for y in tqdm(range(VARS['CURRENT_YEAR'], VARS['MAX_YEAR']))]))\n",
    "bio = np.diff(np.array([find(y, 'bio') for y in tqdm(range(VARS['CURRENT_YEAR'], VARS['MAX_YEAR']))]))\n",
    "\n",
    "for y_c in range(VARS['MAX_YEAR'] - VARS['CURRENT_YEAR'] - 1):\n",
    "    out = '{} - {}% (AI: {}%, Nukes: {}%, Bio: {}%, Nano: {}%, Natural: {}%, Other: {}%)'\n",
    "    print(out.format(y_c + VARS['CURRENT_YEAR'],\n",
    "                     round((ai[y_c] + nukes[y_c] + bio[y_c] + nano[y_c] + unknown[y_c]) * 100, 8),\n",
    "                     round(ai[y_c] * 100, 8),\n",
    "                     round(nukes[y_c] * 100, 8),\n",
    "                     round(bio[y_c] * 100, 8),\n",
    "                     round(nano[y_c] * 100, 8),\n",
    "                     round(natural[y_c] * 100, 8),\n",
    "                     round(unknown[y_c] * 100, 8)))"
   ]
  },
  {
   "cell_type": "code",
   "execution_count": 27,
   "metadata": {},
   "outputs": [
    {
     "data": {
      "text/html": [
       "<div>\n",
       "<style scoped>\n",
       "    .dataframe tbody tr th:only-of-type {\n",
       "        vertical-align: middle;\n",
       "    }\n",
       "\n",
       "    .dataframe tbody tr th {\n",
       "        vertical-align: top;\n",
       "    }\n",
       "\n",
       "    .dataframe thead th {\n",
       "        text-align: right;\n",
       "    }\n",
       "</style>\n",
       "<table border=\"1\" class=\"dataframe\">\n",
       "  <thead>\n",
       "    <tr style=\"text-align: right;\">\n",
       "      <th></th>\n",
       "      <th>year</th>\n",
       "      <th>ai</th>\n",
       "      <th>nukes</th>\n",
       "      <th>unknown</th>\n",
       "      <th>nano</th>\n",
       "      <th>natural</th>\n",
       "      <th>bio</th>\n",
       "      <th>total</th>\n",
       "    </tr>\n",
       "  </thead>\n",
       "  <tbody>\n",
       "    <tr>\n",
       "      <th>0</th>\n",
       "      <td>2023</td>\n",
       "      <td>0.00000</td>\n",
       "      <td>0.00006</td>\n",
       "      <td>0.00000</td>\n",
       "      <td>0.0</td>\n",
       "      <td>0.0</td>\n",
       "      <td>0.00000</td>\n",
       "      <td>0.00006</td>\n",
       "    </tr>\n",
       "    <tr>\n",
       "      <th>1</th>\n",
       "      <td>2024</td>\n",
       "      <td>0.00000</td>\n",
       "      <td>0.00006</td>\n",
       "      <td>0.00002</td>\n",
       "      <td>0.0</td>\n",
       "      <td>0.0</td>\n",
       "      <td>0.00002</td>\n",
       "      <td>0.00010</td>\n",
       "    </tr>\n",
       "    <tr>\n",
       "      <th>2</th>\n",
       "      <td>2025</td>\n",
       "      <td>0.00006</td>\n",
       "      <td>0.00004</td>\n",
       "      <td>0.00002</td>\n",
       "      <td>0.0</td>\n",
       "      <td>0.0</td>\n",
       "      <td>0.00000</td>\n",
       "      <td>0.00012</td>\n",
       "    </tr>\n",
       "    <tr>\n",
       "      <th>3</th>\n",
       "      <td>2026</td>\n",
       "      <td>0.00054</td>\n",
       "      <td>0.00004</td>\n",
       "      <td>0.00002</td>\n",
       "      <td>0.0</td>\n",
       "      <td>0.0</td>\n",
       "      <td>0.00000</td>\n",
       "      <td>0.00060</td>\n",
       "    </tr>\n",
       "    <tr>\n",
       "      <th>4</th>\n",
       "      <td>2027</td>\n",
       "      <td>0.00124</td>\n",
       "      <td>0.00018</td>\n",
       "      <td>0.00000</td>\n",
       "      <td>0.0</td>\n",
       "      <td>0.0</td>\n",
       "      <td>0.00000</td>\n",
       "      <td>0.00142</td>\n",
       "    </tr>\n",
       "    <tr>\n",
       "      <th>...</th>\n",
       "      <td>...</td>\n",
       "      <td>...</td>\n",
       "      <td>...</td>\n",
       "      <td>...</td>\n",
       "      <td>...</td>\n",
       "      <td>...</td>\n",
       "      <td>...</td>\n",
       "      <td>...</td>\n",
       "    </tr>\n",
       "    <tr>\n",
       "      <th>94</th>\n",
       "      <td>2117</td>\n",
       "      <td>0.00012</td>\n",
       "      <td>0.00004</td>\n",
       "      <td>0.00002</td>\n",
       "      <td>0.0</td>\n",
       "      <td>0.0</td>\n",
       "      <td>0.00000</td>\n",
       "      <td>0.00018</td>\n",
       "    </tr>\n",
       "    <tr>\n",
       "      <th>95</th>\n",
       "      <td>2118</td>\n",
       "      <td>0.00024</td>\n",
       "      <td>0.00002</td>\n",
       "      <td>0.00000</td>\n",
       "      <td>0.0</td>\n",
       "      <td>0.0</td>\n",
       "      <td>0.00002</td>\n",
       "      <td>0.00028</td>\n",
       "    </tr>\n",
       "    <tr>\n",
       "      <th>96</th>\n",
       "      <td>2119</td>\n",
       "      <td>0.00018</td>\n",
       "      <td>0.00002</td>\n",
       "      <td>0.00000</td>\n",
       "      <td>0.0</td>\n",
       "      <td>0.0</td>\n",
       "      <td>0.00000</td>\n",
       "      <td>0.00020</td>\n",
       "    </tr>\n",
       "    <tr>\n",
       "      <th>97</th>\n",
       "      <td>2120</td>\n",
       "      <td>0.00008</td>\n",
       "      <td>0.00000</td>\n",
       "      <td>0.00000</td>\n",
       "      <td>0.0</td>\n",
       "      <td>0.0</td>\n",
       "      <td>0.00000</td>\n",
       "      <td>0.00008</td>\n",
       "    </tr>\n",
       "    <tr>\n",
       "      <th>98</th>\n",
       "      <td>2121</td>\n",
       "      <td>0.00020</td>\n",
       "      <td>0.00002</td>\n",
       "      <td>0.00000</td>\n",
       "      <td>0.0</td>\n",
       "      <td>0.0</td>\n",
       "      <td>0.00000</td>\n",
       "      <td>0.00022</td>\n",
       "    </tr>\n",
       "  </tbody>\n",
       "</table>\n",
       "<p>99 rows × 8 columns</p>\n",
       "</div>"
      ],
      "text/plain": [
       "    year       ai    nukes  unknown  nano  natural      bio    total\n",
       "0   2023  0.00000  0.00006  0.00000   0.0      0.0  0.00000  0.00006\n",
       "1   2024  0.00000  0.00006  0.00002   0.0      0.0  0.00002  0.00010\n",
       "2   2025  0.00006  0.00004  0.00002   0.0      0.0  0.00000  0.00012\n",
       "3   2026  0.00054  0.00004  0.00002   0.0      0.0  0.00000  0.00060\n",
       "4   2027  0.00124  0.00018  0.00000   0.0      0.0  0.00000  0.00142\n",
       "..   ...      ...      ...      ...   ...      ...      ...      ...\n",
       "94  2117  0.00012  0.00004  0.00002   0.0      0.0  0.00000  0.00018\n",
       "95  2118  0.00024  0.00002  0.00000   0.0      0.0  0.00002  0.00028\n",
       "96  2119  0.00018  0.00002  0.00000   0.0      0.0  0.00000  0.00020\n",
       "97  2120  0.00008  0.00000  0.00000   0.0      0.0  0.00000  0.00008\n",
       "98  2121  0.00020  0.00002  0.00000   0.0      0.0  0.00000  0.00022\n",
       "\n",
       "[99 rows x 8 columns]"
      ]
     },
     "execution_count": 27,
     "metadata": {},
     "output_type": "execute_result"
    }
   ],
   "source": [
    "xrisk_df = pd.DataFrame({'year': range(VARS['CURRENT_YEAR'], VARS['MAX_YEAR'] - 1),\n",
    "                         'ai': ai,\n",
    "                         'nukes': nukes,\n",
    "                         'unknown': unknown,\n",
    "                         'nano': nano,\n",
    "                         'natural': natural,\n",
    "                         'bio': bio})\n",
    "xrisk_df['total'] = xrisk_df['ai'] + xrisk_df['nukes'] + xrisk_df['unknown'] + xrisk_df['nano'] + xrisk_df['natural'] + xrisk_df['bio']\n",
    "xrisk_df.to_csv('caches/xrisk_df.csv', index=False)\n",
    "xrisk_df"
   ]
  },
  {
   "cell_type": "code",
   "execution_count": 28,
   "metadata": {},
   "outputs": [
    {
     "name": "stdout",
     "output_type": "stream",
     "text": [
      "Total X-Risk OR catastrophe by EOY year\n",
      "2024 - 0.33%\n",
      "2030 - 2.68%\n",
      "2050 - 24.26%\n",
      "2070 - 30.65%\n",
      "2100 - 33.63%\n"
     ]
    }
   ],
   "source": [
    "print('Total X-Risk OR catastrophe by EOY year')\n",
    "\n",
    "for y_c in [2024, 2030, 2050, 2070, 2100]:\n",
    "    r = bayes.bayesnet(define_event_lambda,\n",
    "                       find=lambda e: 'xrisk' in e['collectors'][y_c]['category'] or e['collectors'][y_c]['catastrophe'] != [],\n",
    "                       n=VARS['RUNS'])\n",
    "    print('{} - {}%'.format(y_c, round(r * 100, 2)))\n"
   ]
  },
  {
   "cell_type": "code",
   "execution_count": 29,
   "metadata": {},
   "outputs": [
    {
     "name": "stdout",
     "output_type": "stream",
     "text": [
      "Total X-Risk AND catastrophe by EOY year\n",
      "2024 - 0.0%\n",
      "2030 - 0.83%\n",
      "2050 - 15.52%\n",
      "2070 - 19.83%\n",
      "2100 - 21.06%\n"
     ]
    }
   ],
   "source": [
    "print('Total X-Risk AND catastrophe by EOY year')\n",
    "\n",
    "for y_c in [2024, 2030, 2050, 2070, 2100]:\n",
    "    r = bayes.bayesnet(define_event_lambda,\n",
    "                       find=lambda e: 'xrisk' in e['collectors'][y_c]['category'] and e['collectors'][y_c]['catastrophe'] != [],\n",
    "                       n=VARS['RUNS'])\n",
    "    print('{} - {}%'.format(y_c, round(r * 100, 2)))\n"
   ]
  },
  {
   "cell_type": "code",
   "execution_count": 30,
   "metadata": {},
   "outputs": [
    {
     "name": "stdout",
     "output_type": "stream",
     "text": [
      "AI X-Risk conditional on AGI beween beginning of 2023 and end of 2024\n"
     ]
    },
    {
     "ename": "ValueError",
     "evalue": "insufficient samples for condition",
     "output_type": "error",
     "traceback": [
      "\u001b[0;31m---------------------------------------------------------------------------\u001b[0m",
      "\u001b[0;31mValueError\u001b[0m                                Traceback (most recent call last)",
      "Cell \u001b[0;32mIn [30], line 25\u001b[0m\n\u001b[1;32m     23\u001b[0m \u001b[38;5;28;01mfor\u001b[39;00m y_c \u001b[38;5;129;01min\u001b[39;00m [[\u001b[38;5;241m2022\u001b[39m, \u001b[38;5;241m2024\u001b[39m], [\u001b[38;5;241m2024\u001b[39m, \u001b[38;5;241m2029\u001b[39m], [\u001b[38;5;241m2029\u001b[39m, \u001b[38;5;241m2039\u001b[39m], [\u001b[38;5;241m2039\u001b[39m, \u001b[38;5;241m2059\u001b[39m], [\u001b[38;5;241m2059\u001b[39m, VARS[\u001b[38;5;124m'\u001b[39m\u001b[38;5;124mMAX_YEAR\u001b[39m\u001b[38;5;124m'\u001b[39m] \u001b[38;5;241m-\u001b[39m \u001b[38;5;241m1\u001b[39m], [\u001b[38;5;241m2022\u001b[39m, \u001b[38;5;241m2070\u001b[39m]]:\n\u001b[1;32m     24\u001b[0m     \u001b[38;5;28mprint\u001b[39m(\u001b[38;5;124m'\u001b[39m\u001b[38;5;124mAI X-Risk conditional on AGI beween beginning of \u001b[39m\u001b[38;5;132;01m{}\u001b[39;00m\u001b[38;5;124m and end of \u001b[39m\u001b[38;5;132;01m{}\u001b[39;00m\u001b[38;5;124m'\u001b[39m\u001b[38;5;241m.\u001b[39mformat(y_c[\u001b[38;5;241m0\u001b[39m] \u001b[38;5;241m+\u001b[39m \u001b[38;5;241m1\u001b[39m, y_c[\u001b[38;5;241m1\u001b[39m]))\n\u001b[0;32m---> 25\u001b[0m     extinction \u001b[38;5;241m=\u001b[39m \u001b[43mfind\u001b[49m\u001b[43m(\u001b[49m\u001b[43my_c\u001b[49m\u001b[43m[\u001b[49m\u001b[38;5;241;43m0\u001b[39;49m\u001b[43m]\u001b[49m\u001b[43m,\u001b[49m\u001b[43m \u001b[49m\u001b[43my_c\u001b[49m\u001b[43m[\u001b[49m\u001b[38;5;241;43m1\u001b[39;49m\u001b[43m]\u001b[49m\u001b[43m,\u001b[49m\u001b[43m \u001b[49m\u001b[38;5;124;43m'\u001b[39;49m\u001b[38;5;124;43mxrisk_full_unaligned_tai_extinction\u001b[39;49m\u001b[38;5;124;43m'\u001b[39;49m\u001b[43m)\u001b[49m\n\u001b[1;32m     26\u001b[0m     singleton \u001b[38;5;241m=\u001b[39m find(y_c[\u001b[38;5;241m0\u001b[39m], y_c[\u001b[38;5;241m1\u001b[39m], \u001b[38;5;124m'\u001b[39m\u001b[38;5;124mxrisk_full_unaligned_tai_singleton\u001b[39m\u001b[38;5;124m'\u001b[39m)\n\u001b[1;32m     27\u001b[0m     subtle_misalignment \u001b[38;5;241m=\u001b[39m find(y_c[\u001b[38;5;241m0\u001b[39m], y_c[\u001b[38;5;241m1\u001b[39m], \u001b[38;5;124m'\u001b[39m\u001b[38;5;124mxrisk_subtly_unaligned_tai\u001b[39m\u001b[38;5;124m'\u001b[39m)\n",
      "Cell \u001b[0;32mIn [30], line 17\u001b[0m, in \u001b[0;36mfind\u001b[0;34m(y_low, y_high, category)\u001b[0m\n\u001b[1;32m     16\u001b[0m \u001b[38;5;28;01mdef\u001b[39;00m \u001b[38;5;21mfind\u001b[39m(y_low, y_high, category):\n\u001b[0;32m---> 17\u001b[0m     \u001b[38;5;28;01mreturn\u001b[39;00m \u001b[43mbayes\u001b[49m\u001b[38;5;241;43m.\u001b[39;49m\u001b[43mbayesnet\u001b[49m\u001b[43m(\u001b[49m\u001b[43mdefine_event_lambda\u001b[49m\u001b[43m,\u001b[49m\n\u001b[1;32m     18\u001b[0m \u001b[43m                          \u001b[49m\u001b[43mfind\u001b[49m\u001b[38;5;241;43m=\u001b[39;49m\u001b[38;5;28;43;01mlambda\u001b[39;49;00m\u001b[43m \u001b[49m\u001b[43me\u001b[49m\u001b[43m:\u001b[49m\u001b[43m \u001b[49m\u001b[43me\u001b[49m\u001b[43m[\u001b[49m\u001b[38;5;124;43m'\u001b[39;49m\u001b[38;5;124;43mcollectors\u001b[39;49m\u001b[38;5;124;43m'\u001b[39;49m\u001b[43m]\u001b[49m\u001b[43m[\u001b[49m\u001b[43mVARS\u001b[49m\u001b[43m[\u001b[49m\u001b[38;5;124;43m'\u001b[39;49m\u001b[38;5;124;43mMAX_YEAR\u001b[39;49m\u001b[38;5;124;43m'\u001b[39;49m\u001b[43m]\u001b[49m\u001b[43m \u001b[49m\u001b[38;5;241;43m-\u001b[39;49m\u001b[43m \u001b[49m\u001b[38;5;241;43m1\u001b[39;49m\u001b[43m \u001b[49m\u001b[38;5;28;43;01mif\u001b[39;49;00m\u001b[43m \u001b[49m\u001b[43my_high\u001b[49m\u001b[43m \u001b[49m\u001b[38;5;241;43m>\u001b[39;49m\u001b[38;5;241;43m=\u001b[39;49m\u001b[43m \u001b[49m\u001b[43mVARS\u001b[49m\u001b[43m[\u001b[49m\u001b[38;5;124;43m'\u001b[39;49m\u001b[38;5;124;43mMAX_YEAR\u001b[39;49m\u001b[38;5;124;43m'\u001b[39;49m\u001b[43m]\u001b[49m\u001b[43m \u001b[49m\u001b[38;5;28;43;01melse\u001b[39;49;00m\u001b[43m \u001b[49m\u001b[43my_high\u001b[49m\u001b[43m]\u001b[49m\u001b[43m[\u001b[49m\u001b[38;5;124;43m'\u001b[39;49m\u001b[38;5;124;43mcategory\u001b[39;49m\u001b[38;5;124;43m'\u001b[39;49m\u001b[43m]\u001b[49m\u001b[43m \u001b[49m\u001b[38;5;241;43m==\u001b[39;49m\u001b[43m \u001b[49m\u001b[43mcategory\u001b[49m\u001b[43m,\u001b[49m\n\u001b[1;32m     19\u001b[0m \u001b[43m                          \u001b[49m\u001b[43mconditional_on\u001b[49m\u001b[38;5;241;43m=\u001b[39;49m\u001b[43mgenerate_conditional\u001b[49m\u001b[43m(\u001b[49m\u001b[43my_low\u001b[49m\u001b[43m,\u001b[49m\u001b[43m \u001b[49m\u001b[43my_high\u001b[49m\u001b[43m)\u001b[49m\u001b[43m,\u001b[49m\n\u001b[1;32m     20\u001b[0m \u001b[43m                          \u001b[49m\u001b[43mn\u001b[49m\u001b[38;5;241;43m=\u001b[39;49m\u001b[43mVARS\u001b[49m\u001b[43m[\u001b[49m\u001b[38;5;124;43m'\u001b[39;49m\u001b[38;5;124;43mRUNS\u001b[39;49m\u001b[38;5;124;43m'\u001b[39;49m\u001b[43m]\u001b[49m\u001b[43m)\u001b[49m\n",
      "File \u001b[0;32m~/.virtualenvs/dev/lib/python3.9/site-packages/squigglepy/bayes.py:258\u001b[0m, in \u001b[0;36mbayesnet\u001b[0;34m(event_fn, n, find, conditional_on, reduce_fn, raw, memcache, memcache_load, memcache_save, reload_cache, dump_cache_file, load_cache_file, cache_file_primary, verbose, cores)\u001b[0m\n\u001b[1;32m    255\u001b[0m     events \u001b[38;5;241m=\u001b[39m [e \u001b[38;5;28;01mfor\u001b[39;00m e \u001b[38;5;129;01min\u001b[39;00m events \u001b[38;5;28;01mif\u001b[39;00m conditional_on(e)]\n\u001b[1;32m    257\u001b[0m \u001b[38;5;28;01mif\u001b[39;00m \u001b[38;5;28mlen\u001b[39m(events) \u001b[38;5;241m<\u001b[39m \u001b[38;5;241m1\u001b[39m:\n\u001b[0;32m--> 258\u001b[0m     \u001b[38;5;28;01mraise\u001b[39;00m \u001b[38;5;167;01mValueError\u001b[39;00m(\u001b[38;5;124m'\u001b[39m\u001b[38;5;124minsufficient samples for condition\u001b[39m\u001b[38;5;124m'\u001b[39m)\n\u001b[1;32m    260\u001b[0m \u001b[38;5;28;01mif\u001b[39;00m conditional_on \u001b[38;5;129;01mand\u001b[39;00m verbose:\n\u001b[1;32m    261\u001b[0m     \u001b[38;5;28mprint\u001b[39m(\u001b[38;5;124m'\u001b[39m\u001b[38;5;124m...Filtered!\u001b[39m\u001b[38;5;124m'\u001b[39m)\n",
      "\u001b[0;31mValueError\u001b[0m: insufficient samples for condition"
     ]
    }
   ],
   "source": [
    "# https://forum.effectivealtruism.org/posts/nYgw4FNpHf9bmJGEi/forecasting-thread-how-does-ai-risk-level-vary-based-on\n",
    "\n",
    "def generate_conditional(y_low, y_high):\n",
    "    def fn(e):\n",
    "        if e['final_state']['tai_year'] is None:\n",
    "            return False\n",
    "        elif e['final_state']['tai_year'] < y_low:\n",
    "            return False\n",
    "        elif e['final_state']['tai_year'] > y_high:\n",
    "            return False\n",
    "        else:\n",
    "            return True\n",
    "    return fn\n",
    "    \n",
    "\n",
    "def find(y_low, y_high, category):\n",
    "    return bayes.bayesnet(define_event_lambda,\n",
    "                          find=lambda e: e['collectors'][VARS['MAX_YEAR'] - 1 if y_high >= VARS['MAX_YEAR'] else y_high]['category'] == category,\n",
    "                          conditional_on=generate_conditional(y_low, y_high),\n",
    "                          n=VARS['RUNS'])\n",
    "\n",
    "\n",
    "for y_c in [[2022, 2024], [2024, 2029], [2029, 2039], [2039, 2059], [2059, VARS['MAX_YEAR'] - 1], [2022, 2070]]:\n",
    "    print('AI X-Risk conditional on AGI beween beginning of {} and end of {}'.format(y_c[0] + 1, y_c[1]))\n",
    "    extinction = find(y_c[0], y_c[1], 'xrisk_full_unaligned_tai_extinction')\n",
    "    singleton = find(y_c[0], y_c[1], 'xrisk_full_unaligned_tai_singleton')\n",
    "    subtle_misalignment = find(y_c[0], y_c[1], 'xrisk_subtly_unaligned_tai')\n",
    "    misuse = find(y_c[0], y_c[1], 'xrisk_tai_misuse')\n",
    "    out = '{}% (Extinction: {}%, Bad TAI singleton: {}%, Subtly misaligned singleton: {}%, Misuse singleton: {}%)'\n",
    "    print(out.format(round((extinction + singleton + subtle_misalignment + misuse) * 100, 1),\n",
    "                     round(extinction * 100, 1),\n",
    "                     round(singleton * 100, 1),\n",
    "                     round(subtle_misalignment * 100, 1),\n",
    "                     round(misuse * 100, 1)))\n",
    "    print('-')\n"
   ]
  },
  {
   "cell_type": "code",
   "execution_count": null,
   "metadata": {},
   "outputs": [],
   "source": [
    "print('Have we seen the following wars by EOY year?')\n",
    "\n",
    "def print_wars(wars):\n",
    "    bs = [[w['belligerents'] if w != [] else [] for w in ws] for ws in wars]\n",
    "    bs = Counter([' '.join(sorted(b)) for b in bs])    \n",
    "    bs = dict([(k, round(v / VARS['RUNS'] * 100, 3)) for k, v in bs.items()])\n",
    "    bs = sorted(bs.items(), key=lambda x: x[1], reverse=True)\n",
    "    for war in ['US/China', 'US/Russia', 'Other']:\n",
    "        print('{}: {}%'.format(war, round(sum([b[1] if war in b[0] else 0 for b in bs]), 1)))\n",
    "\n",
    "for y_c in [2023, 2026, 2030, 2050, 2070, 2100]:\n",
    "    print('## {} ##'.format(y_c))  \n",
    "    print_wars([c[y_c]['wars'] for c in collectors])\n",
    "    print('-')\n",
    "    print('-')"
   ]
  },
  {
   "cell_type": "code",
   "execution_count": null,
   "metadata": {},
   "outputs": [],
   "source": [
    "print('Offensive nuclear weapon use (1+ fatality) by EOY year?')\n",
    "\n",
    "def p_nuke_used_by(y_c):\n",
    "    return bayes.bayesnet(define_event_lambda,\n",
    "                          find=lambda e: e['collectors'][y_c]['nuclear_weapon_used'],\n",
    "                          n=VARS['RUNS'])\n",
    "\n",
    "for y_c in [2030, 2050, 2070, 2100]:\n",
    "    print('{}: {}%'.format(y_c, round(p_nuke_used_by(y_c) * 100, 2)))"
   ]
  },
  {
   "cell_type": "code",
   "execution_count": null,
   "metadata": {},
   "outputs": [],
   "source": [
    "print('Detail on war states')\n",
    "\n",
    "def print_wars(wars):\n",
    "    bs = [[w['belligerents'] if w != [] else [] for w in ws] for ws in wars]\n",
    "    bs = Counter([' '.join(sorted(b)) for b in bs])    \n",
    "    bs = dict([(k, round(v / VARS['RUNS'] * 100, 3)) for k, v in bs.items()])\n",
    "    bs = sorted(bs.items(), key=lambda x: x[1], reverse=True)\n",
    "    return bs\n",
    "\n",
    "for y_c in [2030, 2050, 2070, 2100]:\n",
    "    print('## {} ##'.format(y_c))  \n",
    "    pprint(print_wars([c[y_c]['wars'] for c in collectors]))\n",
    "    print('-')\n",
    "    print('-')"
   ]
  },
  {
   "cell_type": "code",
   "execution_count": null,
   "metadata": {},
   "outputs": [],
   "source": [
    "print('Detail on # of Wars At Year')\n",
    "\n",
    "for y_c in [2030, 2050, 2070, 2100]:\n",
    "    print('## # of wars as of {} ##'.format(y_c))  \n",
    "    pprint(sq.get_percentiles([len(c[y_c]['wars']) for c in collectors]))\n",
    "    print('-')\n",
    "    print('-')\n"
   ]
  },
  {
   "cell_type": "code",
   "execution_count": null,
   "metadata": {},
   "outputs": [],
   "source": [
    "print('Detail on War Length States At Year')\n",
    "\n",
    "def print_wars(y, wars):\n",
    "    bs = [[(w['end_year'] - w['start_year'] if w['end_year'] < y else y - w['start_year']) if w != [] else 0 for w in ws] for ws in wars]\n",
    "    bs = [round(sum(b) / (y - VARS['CURRENT_YEAR']) * 100, 1) for b in bs]\n",
    "    return bs\n",
    "\n",
    "for y_c in [2030, 2050, 2070, 2100]:\n",
    "    print('## Percent of time in war as of {} ##'.format(y_c))  \n",
    "    pprint(sq.get_percentiles(print_wars(y_c, [c[y_c]['wars'] for c in collectors])))\n",
    "    print('-')\n",
    "    print('-')"
   ]
  },
  {
   "cell_type": "code",
   "execution_count": null,
   "metadata": {},
   "outputs": [],
   "source": [
    "def print_states(states):\n",
    "    c = Counter(states)\n",
    "    c = dict([(k, round(v / VARS['RUNS'] * 100, 3)) for k, v in c.items()])\n",
    "    for k in c.keys():\n",
    "        if k not in STATES:\n",
    "            raise ValueError('State {} not in `STATES`'.format(k))\n",
    "    for state in STATES:\n",
    "        if not c.get(state):\n",
    "            c[state] = 0.0\n",
    "    c = sorted(c.items(), key=lambda x: x[1], reverse=True)\n",
    "    return c\n",
    "\n",
    "\n",
    "print('Detail on World State At Year')\n",
    "for y_c in [2030, 2050, 2070, 2100]:\n",
    "    print('## {} ##'.format(y_c)) \n",
    "    pprint(print_states([c[y_c]['category'] for c in collectors]))\n",
    "    print('-')\n",
    "    print('-')"
   ]
  },
  {
   "cell_type": "code",
   "execution_count": null,
   "metadata": {},
   "outputs": [],
   "source": [
    "print('Detail on Catastrophe States At Year')\n",
    "\n",
    "def print_catastrophe(catastrophes):\n",
    "    c = Counter([' '.join(sorted(c)) for c in catastrophes])\n",
    "    c = dict([(k, round(v / VARS['RUNS'] * 100, 2)) for k, v in c.items()])\n",
    "    c = sorted(c.items(), key=lambda x: x[1], reverse=True)\n",
    "    c = [c_ for c_ in c if c_[1] >= 0.1]\n",
    "    return c\n",
    "\n",
    "for y_c in [2023, 2030, 2050, 2070, 2100]:\n",
    "    print('## {} ##'.format(y_c))  \n",
    "    pprint(print_catastrophe([c[y_c]['catastrophe'] for c in collectors]))\n",
    "    print('-')\n",
    "    print('-')"
   ]
  },
  {
   "cell_type": "code",
   "execution_count": null,
   "metadata": {},
   "outputs": [],
   "source": [
    "print('Detail on # of Catastrophes At Year')\n",
    "\n",
    "for y_c in [2030, 2050, 2070, 2100]:\n",
    "    print('## # of catastrophes as of {} ##'.format(y_c))  \n",
    "    pprint(sq.get_percentiles([len(c[y_c]['catastrophe']) for c in collectors]))\n",
    "    print('-')\n",
    "    print('-')"
   ]
  },
  {
   "cell_type": "code",
   "execution_count": null,
   "metadata": {},
   "outputs": [],
   "source": [
    "print('Detail on *First* Catastrophe State At Year')\n",
    "\n",
    "def print_catastrophe_first(catastrophes):\n",
    "    c = Counter([c[0] if len(c) > 0 else '' for c in catastrophes])\n",
    "    c = dict([(k, round(v / VARS['RUNS'] * 100, 2)) for k, v in c.items()])\n",
    "    c = sorted(c.items(), key=lambda x: x[1], reverse=True)\n",
    "    c = [c_ for c_ in c if c_[1] >= 0.1]\n",
    "    return c\n",
    "\n",
    "for y_c in [2023, 2030, 2050, 2070, 2100]:\n",
    "    print('## {} ##'.format(y_c))  \n",
    "    pprint(print_catastrophe_first([c[y_c]['catastrophe'] for c in collectors]))\n",
    "    print('-')\n",
    "    print('-')"
   ]
  },
  {
   "cell_type": "code",
   "execution_count": null,
   "metadata": {},
   "outputs": [],
   "source": [
    "print('Detail on Double Catastrophe X-Risks')\n",
    "\n",
    "def print_double_catastrophes(catastrophes):\n",
    "    c = Counter(['' if c is None else c for c in catastrophes])\n",
    "    c = dict([(k, round(v / VARS['RUNS'] * 100, 3)) for k, v in c.items()])\n",
    "    c = sorted(c.items(), key=lambda x: x[1], reverse=True)\n",
    "    # c = [c_ for c_ in c if c_[1] >= 0.1]\n",
    "    return c\n",
    "\n",
    "for y_c in [2030, 2050, 2070, 2100]:\n",
    "    print('## {} ##'.format(y_c))  \n",
    "    pprint(print_double_catastrophes([c[y_c]['double_catastrophe_xrisk'] for c in collectors]))\n",
    "    print('-')\n",
    "    print('-')"
   ]
  }
 ],
 "metadata": {
  "kernelspec": {
   "display_name": "Python 3 (ipykernel)",
   "language": "python",
   "name": "python3"
  },
  "language_info": {
   "codemirror_mode": {
    "name": "ipython",
    "version": 3
   },
   "file_extension": ".py",
   "mimetype": "text/x-python",
   "name": "python",
   "nbconvert_exporter": "python",
   "pygments_lexer": "ipython3",
   "version": "3.9.16"
  }
 },
 "nbformat": 4,
 "nbformat_minor": 4
}
