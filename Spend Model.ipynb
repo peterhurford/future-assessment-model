{
 "cells": [
  {
   "cell_type": "code",
   "execution_count": 10,
   "id": "5ac6fd9f-ba15-4177-b363-cd62b7b638d0",
   "metadata": {},
   "outputs": [
    {
     "name": "stdout",
     "output_type": "stream",
     "text": [
      "Loaded\n"
     ]
    }
   ],
   "source": [
    "import math\n",
    "import random\n",
    "import numpy as np\n",
    "import squigglepy as sq\n",
    "from squigglepy.numbers import K, M, B\n",
    "import matplotlib.pyplot as plt\n",
    "\n",
    "from copy import copy, deepcopy\n",
    "from scipy import stats\n",
    "from pprint import pprint\n",
    "\n",
    "exec(open('utils.py').read())\n",
    "print('Loaded')"
   ]
  },
  {
   "cell_type": "code",
   "execution_count": 22,
   "id": "714ccadd-8b56-4203-ab64-a957efa7e0e4",
   "metadata": {},
   "outputs": [
    {
     "name": "stdout",
     "output_type": "stream",
     "text": [
      "{1: '432 thousand',\n",
      " 5: '844 thousand',\n",
      " 10: '1 million',\n",
      " 20: '2 million',\n",
      " 30: '3 million',\n",
      " 40: '3 million',\n",
      " 50: '4 million',\n",
      " 60: '5 million',\n",
      " 70: '7 million',\n",
      " 80: '10 million',\n",
      " 90: '14 million',\n",
      " 95: '20 million',\n",
      " 99: '39 million'}\n",
      "-\n",
      "28.1%\n"
     ]
    }
   ],
   "source": [
    "def pct_dist(a, b):\n",
    "    return sq.lognorm(a, b, lclip=0.01, rclip=1, credibility=80) \n",
    "\n",
    "\n",
    "def openai_spend_on_largest_model_this_year(total_investment,\n",
    "                                            percent_investment_spent_this_year,\n",
    "                                            percent_spend_on_compute,\n",
    "                                            percent_compute_on_biggest_model):\n",
    "    return total_investment * percent_investment_spent_this_year * percent_spend_on_compute * percent_compute_on_biggest_model\n",
    "\n",
    "\n",
    "gpt3_prediction = openai_spend_on_largest_model_this_year(total_investment=1*B,\n",
    "                                                          percent_investment_spent_this_year=pct_dist(0.05, 0.3),\n",
    "                                                          percent_spend_on_compute=pct_dist(0.2, 0.8),\n",
    "                                                          percent_compute_on_biggest_model=pct_dist(0.05, 0.15))\n",
    "\n",
    "\n",
    "samples = gpt3_prediction @ (100*K)\n",
    "\n",
    "actual_gpt3_spend = 2.4*M\n",
    "\n",
    "pprint(dict([(i[0], numerize(i[1])) for i in sq.get_percentiles(samples).items()]))\n",
    "print('-')\n",
    "print('{}%'.format(round(np.mean([s <= actual_gpt3_spend for s in samples]) * 100, 1)))"
   ]
  },
  {
   "cell_type": "code",
   "execution_count": 23,
   "id": "af2228bc-0982-4e39-98c1-17eeae33eae0",
   "metadata": {},
   "outputs": [
    {
     "name": "stdout",
     "output_type": "stream",
     "text": [
      "{1: '4 million',\n",
      " 5: '9 million',\n",
      " 10: '14 million',\n",
      " 20: '23 million',\n",
      " 30: '33 million',\n",
      " 40: '44 million',\n",
      " 50: '59 million',\n",
      " 60: '78 million',\n",
      " 70: '106 million',\n",
      " 80: '151 million',\n",
      " 90: '243 million',\n",
      " 95: '359 million',\n",
      " 99: '727 million'}\n"
     ]
    }
   ],
   "source": [
    "largest_openai_model_2023_prediction = openai_spend_on_largest_model_this_year(total_investment=10*B,\n",
    "                                                                               percent_investment_spent_this_year=pct_dist(0.05, 0.4),\n",
    "                                                                               percent_spend_on_compute=pct_dist(0.2, 0.9),\n",
    "                                                                               percent_compute_on_biggest_model=pct_dist(0.05, 0.2))\n",
    "samples = largest_openai_model_2023_prediction @ (100*K)\n",
    "\n",
    "pprint(dict([(i[0], numerize(i[1])) for i in sq.get_percentiles(samples).items()]))"
   ]
  },
  {
   "cell_type": "code",
   "execution_count": 27,
   "id": "88369903-7a10-4acb-b0ea-50b3f347c3b5",
   "metadata": {},
   "outputs": [
    {
     "name": "stdout",
     "output_type": "stream",
     "text": [
      "{1: '7 million',\n",
      " 5: '15 million',\n",
      " 10: '22 million',\n",
      " 20: '36 million',\n",
      " 30: '53 million',\n",
      " 40: '74 million',\n",
      " 50: '101 million',\n",
      " 60: '138 million',\n",
      " 70: '194 million',\n",
      " 80: '288 million',\n",
      " 90: '500 million',\n",
      " 95: '778 million',\n",
      " 99: '2 billion'}\n"
     ]
    }
   ],
   "source": [
    "def google_spend_on_largest_model_this_year(annual_r_and_d_spend,\n",
    "                                            percent_r_and_d_on_ai,\n",
    "                                            percent_ai_spend_on_compute,\n",
    "                                            percent_compute_on_biggest_model):\n",
    "    return (annual_r_and_d_spend *\n",
    "            percent_r_and_d_on_ai *\n",
    "            percent_ai_spend_on_compute *\n",
    "            percent_compute_on_biggest_model)\n",
    "\n",
    "\n",
    "largest_google_model_2023_prediction = google_spend_on_largest_model_this_year(annual_r_and_d_spend=sq.norm(26*B, 36*B, credibility=80),\n",
    "                                                                               percent_r_and_d_on_ai=pct_dist(0.1, 0.6),\n",
    "                                                                               percent_ai_spend_on_compute=pct_dist(0.2, 0.9),\n",
    "                                                                               percent_compute_on_biggest_model=pct_dist(0.01, 0.1))\n",
    "samples = largest_google_model_2023_prediction @ (100*K)\n",
    "pprint(dict([(i[0], numerize(i[1])) for i in sq.get_percentiles(samples).items()]))"
   ]
  }
 ],
 "metadata": {
  "kernelspec": {
   "display_name": "Python 3 (ipykernel)",
   "language": "python",
   "name": "python3"
  },
  "language_info": {
   "codemirror_mode": {
    "name": "ipython",
    "version": 3
   },
   "file_extension": ".py",
   "mimetype": "text/x-python",
   "name": "python",
   "nbconvert_exporter": "python",
   "pygments_lexer": "ipython3",
   "version": "3.9.15"
  }
 },
 "nbformat": 4,
 "nbformat_minor": 5
}
