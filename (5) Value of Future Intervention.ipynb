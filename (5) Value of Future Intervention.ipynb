{
 "cells": [
  {
   "cell_type": "code",
   "execution_count": 1,
   "id": "8dc97373-f651-4bd0-a101-be321958b7c1",
   "metadata": {},
   "outputs": [
    {
     "name": "stdout",
     "output_type": "stream",
     "text": [
      "Loaded\n"
     ]
    }
   ],
   "source": [
    "import os\n",
    "import dill\n",
    "\n",
    "import numpy as np\n",
    "import squigglepy as sq\n",
    "\n",
    "from squigglepy.numbers import K, M, B\n",
    "from squigglepy import bayes\n",
    "from tqdm import tqdm\n",
    "from pprint import pprint\n",
    "from copy import deepcopy\n",
    "from datetime import datetime as dt\n",
    "\n",
    "exec(open('utils.py').read())\n",
    "print('Loaded')"
   ]
  },
  {
   "cell_type": "code",
   "execution_count": 2,
   "id": "5fa2de6d-aecf-4028-a1cd-7db77ac8594c",
   "metadata": {},
   "outputs": [
    {
     "name": "stdout",
     "output_type": "stream",
     "text": [
      "Cache from: 2023-07-09 16:33:27.366091\n",
      "loaded default variables from cache!\n"
     ]
    }
   ],
   "source": [
    "with open('caches/variables.dill', 'rb') as f:\n",
    "    VARS = dill.load(f)\n",
    "print('Cache from: {}'.format(dt.fromtimestamp(os.path.getmtime('caches/variables.dill'))))\n",
    "print('loaded default variables from cache!') # Default variables are defined in \"(4) XRisk Model.ipynb\"\n",
    "# TODO: can do sensitivity analysis or VOI analysis over all the variables"
   ]
  },
  {
   "cell_type": "code",
   "execution_count": 8,
   "id": "a27eb4ca-9e6f-496b-a0f6-de3ef83802ff",
   "metadata": {},
   "outputs": [
    {
     "data": {
      "text/plain": [
       "66"
      ]
     },
     "execution_count": 8,
     "metadata": {},
     "output_type": "execute_result"
    }
   ],
   "source": [
    "VARS['tai_years'] = np.array(VARS['tai_years'])\n",
    "len(VARS)"
   ]
  },
  {
   "cell_type": "code",
   "execution_count": 5,
   "id": "dd1e7250-1d6a-467a-b6c2-3a3f479b651d",
   "metadata": {},
   "outputs": [
    {
     "name": "stdout",
     "output_type": "stream",
     "text": [
      "Loaded TAI scenarios module\n",
      "Loaded nuclear scenarios module\n",
      "Loaded great power war scenarios module\n",
      "Loaded bio scenarios module\n",
      "Loaded nano scenarios module\n",
      "Loaded supervolcano module\n",
      "Loaded unknown unknown scenarios module\n",
      "Loaded double dip catastrophe module\n",
      "Loaded TAI timelines module\n",
      "Loading from in-memory cache...\n",
      "...Loaded\n",
      "...Reducing\n",
      "...Reduced!\n",
      "...All done!\n",
      "loaded TAI variables from cache\n",
      "Cache from: 2023-07-09 16:20:32.576369\n"
     ]
    }
   ],
   "source": [
    "years = range(VARS['CURRENT_YEAR'], VARS['MAX_YEAR'])\n",
    "\n",
    "exec(open('modules/tai_risk.py').read())\n",
    "print('Loaded TAI scenarios module')\n",
    "\n",
    "exec(open('modules/nuclear.py').read())\n",
    "print('Loaded nuclear scenarios module')\n",
    "\n",
    "exec(open('modules/great_power_war.py').read())\n",
    "print('Loaded great power war scenarios module')\n",
    "\n",
    "exec(open('modules/bio.py').read())\n",
    "print('Loaded bio scenarios module')\n",
    "\n",
    "exec(open('modules/nano.py').read())\n",
    "print('Loaded nano scenarios module')\n",
    "\n",
    "exec(open('modules/supervolcano.py').read())\n",
    "print('Loaded supervolcano module')\n",
    "\n",
    "exec(open('modules/unknown_unknown.py').read())\n",
    "print('Loaded unknown unknown scenarios module')\n",
    "\n",
    "exec(open('modules/double_dip_catastrophe.py').read())\n",
    "print('Loaded double dip catastrophe module')\n",
    "\n",
    "exec(open('modules/tai_timelines.py').read())\n",
    "print('Loaded TAI timelines module')\n",
    "\n",
    "tai_years = bayes.bayesnet(load_cache_file='caches/tai_years', verbose=True)\n",
    "print('loaded TAI variables from cache')\n",
    "print('Cache from: {}'.format(dt.fromtimestamp(os.path.getmtime('caches/tai_years.sqcache'))))"
   ]
  },
  {
   "cell_type": "code",
   "execution_count": 6,
   "id": "f9287545-2852-4ab6-b2b5-5fc616877715",
   "metadata": {},
   "outputs": [
    {
     "name": "stdout",
     "output_type": "stream",
     "text": [
      "Total value at present: 320 billion QALY\n",
      "Total additional value over 100 years: 600 billion QALY\n",
      "Total value of future: 920 billion QALY\n"
     ]
    }
   ],
   "source": [
    "# TODO: Variation on these inputs?\n",
    "human_population = 8*B # TODO: Animals? Chance present is net negative?\n",
    "qaly_per_person = 40 # TODO: Improvements in health over time?\n",
    "VARS['total_present_value'] = human_population * qaly_per_person\n",
    "print('Total value at present: {} QALY'.format(numerize(VARS['total_present_value'])))\n",
    "\n",
    "births_per_year = 100*M # TODO: Digital minds? Population decline?\n",
    "qaly_per_birth = 60 # TODO: Improvements in health over time?\n",
    "VARS['total_additional_value_per_year'] = births_per_year * qaly_per_birth\n",
    "\n",
    "VARS['years_to_consider'] = 100  # TODO: Expand somehow to include more years?\n",
    "total_additional_value = VARS['total_additional_value_per_year'] * VARS['years_to_consider']\n",
    "print('Total additional value over 100 years: {} QALY'.format(numerize(total_additional_value)))\n",
    "\n",
    "total_value = VARS['total_present_value'] + total_additional_value\n",
    "print('Total value of future: {} QALY'.format(numerize(total_value)))"
   ]
  },
  {
   "cell_type": "code",
   "execution_count": 7,
   "id": "e6a84266-e875-4a76-9f5f-606def1249ac",
   "metadata": {},
   "outputs": [
    {
     "name": "stdout",
     "output_type": "stream",
     "text": [
      "Loaded world state valuation module\n"
     ]
    }
   ],
   "source": [
    "exec(open('modules/world_state_value.py').read())\n",
    "print('Loaded world state valuation module')"
   ]
  },
  {
   "cell_type": "code",
   "execution_count": 7,
   "id": "63f78010-5d07-4d20-b02d-6bbc579afc1b",
   "metadata": {},
   "outputs": [
    {
     "name": "stdout",
     "output_type": "stream",
     "text": [
      "Model loaded\n",
      "Loading from cache file (`caches/future_assessment_model_cache_short.sqcache`)...\n",
      "...Loaded\n",
      "Caching in-memory...\n",
      "...Cached!\n",
      "...Finding\n",
      "...Found!\n",
      "...All done!\n",
      "CPU times: user 29 s, sys: 6.81 s, total: 35.8 s\n",
      "Wall time: 39.7 s\n"
     ]
    },
    {
     "data": {
      "text/plain": [
       "{'category': 'boring',\n",
       " 'tai': False,\n",
       " 'tai_year': None,\n",
       " 'tai_type': None,\n",
       " 'nano': False,\n",
       " 'wars': [{'belligerents': 'US/Russia',\n",
       "   'start_year': 2089,\n",
       "   'end_year': 2091,\n",
       "   'war_length': 2}],\n",
       " 'war': False,\n",
       " 'war_start_year': 2089,\n",
       " 'war_end_year': 2091,\n",
       " 'russia_nuke_first': False,\n",
       " 'china_nuke_first': False,\n",
       " 'war_belligerents': None,\n",
       " 'peace_until': 2181,\n",
       " 'engineered_pathogen': True,\n",
       " 'natural_pathogen': True,\n",
       " 'lab_leak': True,\n",
       " 'state_bioweapon': False,\n",
       " 'nonstate_bioweapon': False,\n",
       " 'averted_misalignment': False,\n",
       " 'nuclear_weapon_used': False,\n",
       " 'catastrophe': ['engineered_pathogen'],\n",
       " 'recent_catastrophe_year': 2025,\n",
       " 'terminate': False,\n",
       " 'final_year': None,\n",
       " 'double_catastrophe_xrisk': None}"
      ]
     },
     "execution_count": 7,
     "metadata": {},
     "output_type": "execute_result"
    }
   ],
   "source": [
    "%%time\n",
    "\n",
    "exec(open('modules/define_event.py').read())\n",
    "print('Model loaded')\n",
    "\n",
    "# TODO: Reduce amount of information in cache file (only need final year) to improve load speed\n",
    "collectors = bayes.bayesnet(define_event,\n",
    "                            find=lambda e: e['collectors'][VARS['MAX_YEAR'] - 1],\n",
    "                            load_cache_file='caches/future_assessment_model_cache',\n",
    "                            reload_cache=False,\n",
    "                            raw=True,\n",
    "                            verbose=True,\n",
    "                            cores=1,\n",
    "                            n=VARS['RUNS'])\n",
    "collectors[0]"
   ]
  },
  {
   "cell_type": "code",
   "execution_count": 8,
   "id": "01be1348-d256-4676-a854-c8c68a5866cd",
   "metadata": {},
   "outputs": [
    {
     "name": "stderr",
     "output_type": "stream",
     "text": [
      "100%|█████████████████████████████████████████████████████████████████████████████████████████████████████████████████████████████████████████████████████████████| 50000/50000 [00:00<00:00, 136271.70it/s]"
     ]
    },
    {
     "name": "stdout",
     "output_type": "stream",
     "text": [
      "EV of future: 626 billion QALY\n",
      "-\n",
      "{1: '3.6e+11',\n",
      " 5: '3.9e+11',\n",
      " 10: '4.0e+11',\n",
      " 20: '4.3e+11',\n",
      " 30: '4.5e+11',\n",
      " 40: '4.8e+11',\n",
      " 50: '5.2e+11',\n",
      " 60: '5.9e+11',\n",
      " 70: '9.2e+11',\n",
      " 80: '9.2e+11',\n",
      " 90: '9.2e+11',\n",
      " 95: '9.2e+11',\n",
      " 99: '9.2e+11'}\n"
     ]
    },
    {
     "name": "stderr",
     "output_type": "stream",
     "text": [
      "\n"
     ]
    }
   ],
   "source": [
    "value_of_future = [value_of_world_state(world_state=c, variables=VARS) for c in tqdm(collectors)]\n",
    "\n",
    "print('EV of future: {} QALY'.format(numerize(np.mean(value_of_future))))\n",
    "print('-')\n",
    "pprint(sq.get_log_percentiles(value_of_future))"
   ]
  },
  {
   "cell_type": "code",
   "execution_count": 9,
   "id": "970d0d5c-caea-4048-b36a-1e8baece826b",
   "metadata": {},
   "outputs": [
    {
     "name": "stdout",
     "output_type": "stream",
     "text": [
      "Running intervention model...\n",
      "Generating Bayes net with 5 cores...\n"
     ]
    },
    {
     "name": "stderr",
     "output_type": "stream",
     "text": [
      "100%|████████████████████████████████████████████████████████████████████████████████████████████████████████████████████████████████████████████████████████████████| 50000/50000 [07:57<00:00, 104.74it/s]\n"
     ]
    },
    {
     "name": "stdout",
     "output_type": "stream",
     "text": [
      "Shuffling data...\n",
      "Waiting for other cores...\n",
      "Collecting data...\n"
     ]
    },
    {
     "name": "stderr",
     "output_type": "stream",
     "text": [
      "100%|█████████████████████████████████████████████████████████████████████████████████████████████████████████████████████████████████████████████████████████████████████████| 5/5 [00:48<00:00,  9.76s/it]"
     ]
    },
    {
     "name": "stdout",
     "output_type": "stream",
     "text": [
      "...Collected!\n",
      "Caching in-memory...\n",
      "...Cached!\n",
      "...Finding\n",
      "...Found!\n",
      "...All done!\n",
      "Ready\n",
      "CPU times: user 8min 8s, sys: 24.9 s, total: 8min 33s\n",
      "Wall time: 8min 48s\n"
     ]
    },
    {
     "name": "stderr",
     "output_type": "stream",
     "text": [
      "\n"
     ]
    }
   ],
   "source": [
    "%%time\n",
    "alt_variables = deepcopy(VARS)\n",
    "alt_variables['tai_years'] = [t + 5 for t in alt_variables['tai_years']] # Uniformly and universally delay TAI by 5 years with 100% success\n",
    "\n",
    "# TODO: Be able to declare changes in variables for only particular years\n",
    "\n",
    "print('Running intervention model...')\n",
    "alt_define_event_lambda = lambda: define_event(alt_variables, verbosity=0)\n",
    "alt_collectors = bayes.bayesnet(alt_define_event_lambda,\n",
    "                                find=lambda e: e['collectors'][VARS['MAX_YEAR'] - 1],\n",
    "                                raw=True,\n",
    "                                verbose=True,\n",
    "                                cores=5,\n",
    "                                n=VARS['RUNS'])\n",
    "print('Ready')"
   ]
  },
  {
   "cell_type": "code",
   "execution_count": 10,
   "id": "35c134a2-3676-42fc-9f20-c88e2f9f07ed",
   "metadata": {},
   "outputs": [
    {
     "name": "stdout",
     "output_type": "stream",
     "text": [
      "Calculating value...\n"
     ]
    },
    {
     "name": "stderr",
     "output_type": "stream",
     "text": [
      "100%|█████████████████████████████████████████████████████████████████████████████████████████████████████████████████████████████████████████████████████████████| 50000/50000 [00:00<00:00, 648887.35it/s]"
     ]
    },
    {
     "name": "stdout",
     "output_type": "stream",
     "text": [
      "Ready\n"
     ]
    },
    {
     "name": "stderr",
     "output_type": "stream",
     "text": [
      "\n"
     ]
    }
   ],
   "source": [
    "print('Calculating value...')\n",
    "value_of_alt_future = [value_of_world_state(world_state=c, variables=alt_variables) for c in tqdm(alt_collectors)]\n",
    "print('Ready')"
   ]
  },
  {
   "cell_type": "code",
   "execution_count": 12,
   "id": "6fecab83-8618-49ff-9eda-3c7919dd728a",
   "metadata": {},
   "outputs": [
    {
     "name": "stdout",
     "output_type": "stream",
     "text": [
      "-\n",
      "EV of default future: 626 billion QALY\n",
      "EV of alt future: 646 billion QALY\n",
      "-\n",
      "Diff / Value of intervention: Alt future is 21 billion QALY relative to default\n",
      "-\n",
      "Distribution of default future\n",
      "{1: '3.6e+11',\n",
      " 5: '3.9e+11',\n",
      " 10: '4.0e+11',\n",
      " 20: '4.3e+11',\n",
      " 30: '4.5e+11',\n",
      " 40: '4.8e+11',\n",
      " 50: '5.2e+11',\n",
      " 60: '5.9e+11',\n",
      " 70: '9.2e+11',\n",
      " 80: '9.2e+11',\n",
      " 90: '9.2e+11',\n",
      " 95: '9.2e+11',\n",
      " 99: '9.2e+11'}\n",
      "-\n",
      "Distribution of alt future\n",
      "{1: '3.9e+11',\n",
      " 5: '4.2e+11',\n",
      " 10: '4.3e+11',\n",
      " 20: '4.6e+11',\n",
      " 30: '4.8e+11',\n",
      " 40: '5.1e+11',\n",
      " 50: '5.5e+11',\n",
      " 60: '6.2e+11',\n",
      " 70: '9.2e+11',\n",
      " 80: '9.2e+11',\n",
      " 90: '9.2e+11',\n",
      " 95: '9.2e+11',\n",
      " 99: '9.2e+11'}\n"
     ]
    }
   ],
   "source": [
    "print('-')\n",
    "print('EV of default future: {} QALY'.format(numerize(np.mean(value_of_future))))\n",
    "print('EV of alt future: {} QALY'.format(numerize(np.mean(value_of_alt_future))))\n",
    "print('-')\n",
    "print('Diff / Value of intervention: Alt future is {} QALY relative to default'.format(numerize(np.mean(value_of_alt_future) - np.mean(value_of_future))))\n",
    "print('-')\n",
    "print('Distribution of default future')\n",
    "pprint(sq.get_log_percentiles(value_of_future))\n",
    "print('-')\n",
    "print('Distribution of alt future')\n",
    "pprint(sq.get_log_percentiles(value_of_alt_future))\n"
   ]
  },
  {
   "cell_type": "code",
   "execution_count": 9,
   "id": "7a8b96aa-361c-46c7-a6d5-237d9a7ef39a",
   "metadata": {},
   "outputs": [
    {
     "name": "stdout",
     "output_type": "stream",
     "text": [
      "File last ran: 2023-07-09 18:39:05.120097\n"
     ]
    }
   ],
   "source": [
    "print('File last ran: {}'.format(dt.now()))"
   ]
  }
 ],
 "metadata": {
  "kernelspec": {
   "display_name": "Python 3 (ipykernel)",
   "language": "python",
   "name": "python3"
  },
  "language_info": {
   "codemirror_mode": {
    "name": "ipython",
    "version": 3
   },
   "file_extension": ".py",
   "mimetype": "text/x-python",
   "name": "python",
   "nbconvert_exporter": "python",
   "pygments_lexer": "ipython3",
   "version": "3.11.3"
  }
 },
 "nbformat": 4,
 "nbformat_minor": 5
}
