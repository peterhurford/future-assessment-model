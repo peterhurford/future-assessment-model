{
 "cells": [
  {
   "cell_type": "markdown",
   "metadata": {},
   "source": [
    "## Library"
   ]
  },
  {
   "cell_type": "code",
   "execution_count": 1,
   "metadata": {
    "jupyter": {
     "source_hidden": true
    },
    "tags": []
   },
   "outputs": [
    {
     "name": "stdout",
     "output_type": "stream",
     "text": [
      "Loaded 1\n",
      "Loaded 2\n",
      "Loaded 3\n"
     ]
    }
   ],
   "source": [
    "import math\n",
    "import random\n",
    "\n",
    "import numpy as np\n",
    "import matplotlib.pyplot as plt\n",
    "\n",
    "import squigglepy as sq\n",
    "from squigglepy import bayes\n",
    "from squigglepy.numbers import K, M, B, T\n",
    "\n",
    "from copy import copy, deepcopy\n",
    "from scipy import stats\n",
    "from pprint import pprint\n",
    "print('Loaded 1')\n",
    "\n",
    "exec(open('utils.py').read())\n",
    "print('Loaded 2')\n",
    "\n",
    "exec(open('/Users/peterhurford/dev/forecastflow/library.py').read()) # TODO: Package?\n",
    "print('Loaded 3')"
   ]
  },
  {
   "cell_type": "markdown",
   "metadata": {},
   "source": [
    "## Variables (customize these)"
   ]
  },
  {
   "cell_type": "code",
   "execution_count": 2,
   "metadata": {},
   "outputs": [
    {
     "name": "stdout",
     "output_type": "stream",
     "text": [
      "Loaded\n"
     ]
    }
   ],
   "source": [
    "# Customize these!!!\n",
    "\n",
    "# Global variables - probably don't want to change these but you could.\n",
    "RUNS = 10000                                      # Number of runs to do (default 1000)\n",
    "CURRENT_YEAR = 2023                               # What year to start the run on? (default: 2023)\n",
    "MAX_YEAR = 2123                                   # What year to end the run on? (default: 2123)\n",
    "USE_NUMBERS = 'Wildeford'                         # Which variable set (see below) to use?\n",
    "GRAPH_P = 50                                      # What percentile to graph on the graphs below? (default: 50)\n",
    "VARIABLE_SETS = {}\n",
    "\n",
    "\n",
    "VARIABLE_SETS['Cotra2020'] = {\n",
    "    'initial_gdp': 23*T,                  # GDP in `CURRENT_YEAR` of country that will develop TAI (default: 23 trillion)\n",
    "    'tai_flop_size': sq.sample(load_cache_file='caches/cotra_2020'),  # Cache generated in \"Anchors\" notebook\n",
    "    # 90% CI, it takes 10^X FLOPs to run a transformative AI at inference.\n",
    "    # Note: A petaflop/s-day (pfs-day) consists of performing 10^15 neural net operations per second for one day,\n",
    "    # or a total of about 10^20 operations\n",
    "    'algo_doubling_rate_max': 3.5,        # 90% CI, algorithms get twice as efficient every X years (maximum)\n",
    "    'algo_doubling_rate_min': 2,          # 90% CI, algorithms get twice as efficient every X years (minimum)\n",
    "    'min_reduction': 2,                   # 90% CI, the minimum amount of OOMs of reduction in TAI size algorithm improvements could acheive\n",
    "    'max_reduction': 5,                   # 90% CI, the maximum amount of OOMs of reduction in TAI size algorithm improvements could acheive\n",
    "    'initial_flops_per_dollar': 17,       # 90% CI, as of today, we can buy 10^X FLOPs per $\n",
    "    'flops_halving_rate': 2.5,            # 90% CI, the cost of FLOPs per $ halves every X years\n",
    "    'max_flops_per_dollar': 24,           # 90% CI, the cheapest FLOPs will get is 10^X FLOPs per $\n",
    "    'initial_pay': 8.7,                   # 90% CI, as of today the maximum we would pay for TAI is $10^X\n",
    "    'gdp_growth': 1.03,                   # 90% CI, GDP will increase by a factor of X each year\n",
    "    'max_gdp_frac': 0.01,                 # 90% CI, the maximum % of GDP that would be spent on TAI is $10^X\n",
    "    'spend_doubling_time': 2.5            # 90% CI, our willingness to spend on TAI doubles every X years\n",
    "}\n",
    "\n",
    "\n",
    "VARIABLE_SETS['Cotra2022'] = deepcopy(VARIABLE_SETS['Cotra2020'])\n",
    "VARIABLE_SETS['Cotra2022']['tai_flop_size'] = sq.sample(load_cache_file='caches/cotra_2022')  # Cache generated in \"Anchors\" notebook\n",
    "VARIABLE_SETS['Cotra2022']['initial_flops_per_dollar'] = sq.const(18)\n",
    "\n",
    "\n",
    "def wildeford_max_gdp_frac():\n",
    "    small_project = sq.lognorm(1 / (250*K), 1 / (3*K))\n",
    "    modern_megaproject = sq.lognorm(1/K, 1/600)\n",
    "    old_form_megaproject = sq.lognorm(1/500, 1/150)\n",
    "    gigaproject = sq.lognorm(1/150, 1/50)\n",
    "    \n",
    "    r_ = random.random()\n",
    "    if r_ < 0.1:\n",
    "        gdp_frac = small_project\n",
    "        percent_spent_on_compute = sq.lognorm(0.2,0.6, lclip=0.1, rclip=0.9)\n",
    "    elif r_ < 0.8:\n",
    "        gdp_frac = modern_megaproject\n",
    "        percent_spent_on_compute = sq.lognorm(0.4,0.7, lclip=0.1, rclip=0.9)\n",
    "    elif r_ < 0.95:\n",
    "        gdp_frac = old_form_megaproject\n",
    "        percent_spent_on_compute = sq.lognorm(0.5,0.9, lclip=0.1, rclip=0.9)\n",
    "    else:\n",
    "        gdp_frac = gigaproject\n",
    "        percent_spent_on_compute = sq.lognorm(0.6,0.9, lclip=0.1, rclip=0.9)\n",
    "\n",
    "    return ~gdp_frac * ~percent_spent_on_compute\n",
    "\n",
    "VARIABLE_SETS['Wildeford'] = deepcopy(VARIABLE_SETS['Cotra2022'])\n",
    "VARIABLE_SETS['Wildeford']['tai_flop_size'] = sq.sample(load_cache_file='caches/meta_anchor')  # Cache generated in \"Anchors\" notebook\n",
    "VARIABLE_SETS['Wildeford']['flops_halving_rate'] = sq.lognorm(2, 5)\n",
    "VARIABLE_SETS['Wildeford']['initial_pay'] = sq.mixture([[0.8, sq.const(7.1)],\n",
    "                                                        [0.2, sq.lognorm(7.1,9, lclip=7.1)]]) #NEW\n",
    "VARIABLE_SETS['Wildeford']['gdp_growth'] = sq.lognorm(1.015, 1.035) #NEW\n",
    "VARIABLE_SETS['Wildeford']['max_gdp_frac'] = wildeford_max_gdp_frac #NEW\n",
    "VARIABLE_SETS['Wildeford']['spend_doubling_time'] = sq.mixture([[0.8, sq.lognorm(3,6)],\n",
    "                                                                [0.2, sq.lognorm(1,2, lclip=1)]]) #NEW\n",
    "# TODO: Willingness to spend connected to commercialization\n",
    "VARIABLE_SETS['Wildeford']['initial_chance_of_nonscaling_issue'] = 0.95 #NEW\n",
    "VARIABLE_SETS['Wildeford']['final_chance_of_nonscaling_issue'] = 0.3 #NEW\n",
    "VARIABLE_SETS['Wildeford']['nonscaling_issue_bottom_year'] = 2050 #NEW\n",
    "VARIABLE_SETS['Wildeford']['nonscaling_delay'] = sq.mixture([[0.7, sq.lognorm(2,10)],\n",
    "                                                             [0.3, sq.lognorm(5,40)]]) #NEW\n",
    "VARIABLE_SETS['Wildeford']['algo_doubling_rate_max'] = sq.norm(1,3) # NEW\n",
    "VARIABLE_SETS['Wildeford']['algo_doubling_rate_min'] = sq.norm(1,2) # NEW\n",
    "VARIABLE_SETS['Wildeford']['min_reduction'] = 2 # TODO: Connect to efficiency within tai_flop_size / should correlate with tai_flop_size\n",
    "VARIABLE_SETS['Wildeford']['max_reduction'] = 5\n",
    "\n",
    "\n",
    "# These equations define how variables change over time or in relationship to other variables.\n",
    "def gdp(initial_gdp, gdp_growth, year):\n",
    "    return initial_gdp * (gdp_growth ** year)\n",
    "\n",
    "\n",
    "def willingness_to_pay(initial_gdp, gdp_growth, initial_pay, spend_doubling_time, max_gdp_frac, year):\n",
    "    gdp_ = gdp(initial_gdp=initial_gdp, gdp_growth=gdp_growth, year=year)\n",
    "    x = (np.log(2) / spend_doubling_time) * year\n",
    "    if x < 650:\n",
    "        y = math.log10(initial_pay) + math.log10(math.exp(x)) - math.log10(1 + initial_pay / (gdp_ * max_gdp_frac) * math.exp(x))\n",
    "        if y > 300:\n",
    "            y = int(y) # Handle overflow errors\n",
    "        return 10 ** y\n",
    "    else: # Handle math.exp and math.log10 overflow errors\n",
    "        return 10 ** int(math.log10(initial_pay) + (year/spend_doubling_time)/3.3)\n",
    "    \n",
    "\n",
    "def algo_halving_fn(min_speed, max_speed, tai_flop_size):\n",
    "    if max_speed < min_speed:\n",
    "        max_speed = min_speed\n",
    "    if min_speed > max_speed:\n",
    "        min_speed = max_speed\n",
    "    return min(max(max_speed - (round((tai_flop_size - 29) / 2) / 2), min_speed), max_speed)\n",
    "\n",
    "\n",
    "def flops_needed(initial_flops, possible_reduction, doubling_rate, year):\n",
    "    x = (np.log(2) / doubling_rate) * year\n",
    "    if x < 650:\n",
    "        y = (math.log10(initial_flops) - max(math.log10(math.exp(x)) - math.log10(1 + (1/possible_reduction) * math.exp(x)), 0))\n",
    "        if y > 300:\n",
    "            y = int(y) # Handle overflow errors        \n",
    "        return 10 ** y\n",
    "    else: # Handle math.exp and math.log10 overflow errors\n",
    "        return 10 ** int(math.log10(initial_flops) - (1/possible_reduction))\n",
    "\n",
    "    \n",
    "def flops_per_dollar(initial_flops_per_dollar, max_flops_per_dollar, halving_rate, year):\n",
    "    x = (np.log(2) / halving_rate) * year\n",
    "    if x < 650:\n",
    "        y = (math.log10(initial_flops_per_dollar) + math.log10(math.exp(x)) - math.log10(1 + initial_flops_per_dollar / max_flops_per_dollar * math.exp(x)))\n",
    "        if y > 300:\n",
    "            y = int(y) # Handle overflow errors                \n",
    "        return 10 ** y\n",
    "    else: # Handle math.exp and math.log10 overflow errors\n",
    "        return 10 ** int(math.log10(initial_flops_per_dollar) + (year/halving_rate)/3.3)\n",
    "\n",
    "    \n",
    "def cost_of_tai(initial_flops, possible_reduction, algo_doubling_rate, initial_flops_per_dollar, max_flops_per_dollar,\n",
    "                flops_halving_rate, year):\n",
    "    return (flops_needed(initial_flops, possible_reduction, algo_doubling_rate, year) /\n",
    "            flops_per_dollar(initial_flops_per_dollar, max_flops_per_dollar, flops_halving_rate, year))\n",
    "\n",
    "\n",
    "def flops_at_max(initial_gdp, gdp_growth, initial_pay, spend_doubling_time, max_gdp_frac,\n",
    "                 initial_flops_per_dollar, max_flops_per_dollar, flops_halving_rate, year):\n",
    "    return (willingness_to_pay(initial_gdp=initial_gdp,\n",
    "                               gdp_growth=gdp_growth,\n",
    "                               initial_pay=initial_pay,\n",
    "                               spend_doubling_time=spend_doubling_time,\n",
    "                               max_gdp_frac=max_gdp_frac,\n",
    "                               year=year) *\n",
    "            flops_per_dollar(initial_flops_per_dollar, max_flops_per_dollar, flops_halving_rate, year))\n",
    "\n",
    "\n",
    "def possible_algo_reduction_fn(min_reduction, max_reduction, tai_flop_size):\n",
    "    if max_reduction < min_reduction:\n",
    "        max_reduction = min_reduction\n",
    "    if min_reduction > max_reduction:\n",
    "        min_reduction = max_reduction\n",
    "    return min(max(min_reduction + round((tai_flop_size - 32) / 4), min_reduction), max_reduction)\n",
    "\n",
    "\n",
    "# NEW\n",
    "def p_nonscaling_delay(initial_p, final_p, year, max_year):\n",
    "    return generalized_logistic_curve(x=year - CURRENT_YEAR,\n",
    "                                      slope=0.3,\n",
    "                                      shift=3 * (max_year - CURRENT_YEAR),\n",
    "                                      push=1,\n",
    "                                      maximum=final_p,\n",
    "                                      minimum=initial_p)\n",
    "    \n",
    "\n",
    "# ------------- Ignore below here ------------\n",
    "years = list(range(CURRENT_YEAR, MAX_YEAR))\n",
    "variables = VARIABLE_SETS[USE_NUMBERS]\n",
    "print('Loaded')\n"
   ]
  },
  {
   "cell_type": "code",
   "execution_count": 3,
   "metadata": {
    "scrolled": true
   },
   "outputs": [
    {
     "name": "stdout",
     "output_type": "stream",
     "text": [
      "{1: 20.045682037721935,\n",
      " 5: 24.060911735587453,\n",
      " 10: 25.292763406013908,\n",
      " 20: 26.905575948274755,\n",
      " 30: 28.730688119443748,\n",
      " 40: 30.73025347871559,\n",
      " 50: 32.54306015655732,\n",
      " 60: 34.48093681248623,\n",
      " 70: 36.63812523525167,\n",
      " 80: 39.209648394722635,\n",
      " 90: 42.86429739184473,\n",
      " 95: 45.79532218086243,\n",
      " 99: 52.376143622331945}\n"
     ]
    },
    {
     "data": {
      "image/png": "[encoded data removed]",
      "text/plain": [
       "<Figure size 640x480 with 1 Axes>"
      ]
     },
     "metadata": {},
     "output_type": "display_data"
    }
   ],
   "source": [
    "initial_flop_size_s = variables['tai_flop_size']\n",
    "initial_flops_p = sq.get_percentiles(initial_flop_size_s)\n",
    "plt.hist(initial_flop_size_s, bins = 200)\n",
    "pprint(initial_flops_p)"
   ]
  },
  {
   "cell_type": "code",
   "execution_count": 4,
   "metadata": {},
   "outputs": [
    {
     "data": {
      "text/plain": [
       "{1: 2.0,\n",
       " 5: 2.0,\n",
       " 10: 2.0,\n",
       " 20: 2.0,\n",
       " 30: 2.0,\n",
       " 40: 2.0,\n",
       " 50: 2.0,\n",
       " 60: 2.0,\n",
       " 70: 2.0,\n",
       " 80: 2.0,\n",
       " 90: 2.0,\n",
       " 95: 2.0,\n",
       " 99: 2.0}"
      ]
     },
     "execution_count": 4,
     "metadata": {},
     "output_type": "execute_result"
    }
   ],
   "source": [
    "min_reduction_p = sq.get_percentiles(sq.sample(variables['min_reduction'], n=1000))\n",
    "min_reduction_p"
   ]
  },
  {
   "cell_type": "code",
   "execution_count": 5,
   "metadata": {},
   "outputs": [
    {
     "data": {
      "text/plain": [
       "{99: 5.0,\n",
       " 95: 5.0,\n",
       " 90: 5.0,\n",
       " 80: 5.0,\n",
       " 70: 5.0,\n",
       " 60: 5.0,\n",
       " 50: 5.0,\n",
       " 40: 5.0,\n",
       " 30: 5.0,\n",
       " 20: 5.0,\n",
       " 10: 5.0,\n",
       " 5: 5.0,\n",
       " 1: 5.0}"
      ]
     },
     "execution_count": 5,
     "metadata": {},
     "output_type": "execute_result"
    }
   ],
   "source": [
    "max_reduction_p = sq.get_percentiles(sq.sample(variables['max_reduction'], n=1000), reverse=True)\n",
    "max_reduction_p"
   ]
  },
  {
   "cell_type": "code",
   "execution_count": 6,
   "metadata": {},
   "outputs": [
    {
     "data": {
      "text/plain": [
       "{99: 0.7623791043103469,\n",
       " 95: 0.9848231849841892,\n",
       " 90: 1.0991213145384275,\n",
       " 80: 1.2301504125123146,\n",
       " 70: 1.3298882197947184,\n",
       " 60: 1.4072182371738777,\n",
       " 50: 1.483267356652408,\n",
       " 40: 1.569643563628666,\n",
       " 30: 1.657297591341406,\n",
       " 20: 1.757903301344618,\n",
       " 10: 1.882155132797128,\n",
       " 5: 1.9945479454687303,\n",
       " 1: 2.227212934392872}"
      ]
     },
     "execution_count": 6,
     "metadata": {},
     "output_type": "execute_result"
    }
   ],
   "source": [
    "algo_doubling_rate_min_p = sq.get_percentiles(sq.sample(variables['algo_doubling_rate_min'], n=1000), reverse=True)\n",
    "algo_doubling_rate_min_p"
   ]
  },
  {
   "cell_type": "code",
   "execution_count": 7,
   "metadata": {},
   "outputs": [
    {
     "data": {
      "text/plain": [
       "{99: 0.7092206788591334,\n",
       " 95: 1.0061877147545244,\n",
       " 90: 1.1933829070065685,\n",
       " 80: 1.4720311687008878,\n",
       " 70: 1.6758924816583674,\n",
       " 60: 1.8638890289345849,\n",
       " 50: 2.0219085594527626,\n",
       " 40: 2.174385851932966,\n",
       " 30: 2.3278215475078063,\n",
       " 20: 2.5300613969476764,\n",
       " 10: 2.776918477093118,\n",
       " 5: 3.0031964908607716,\n",
       " 1: 3.450166287888053}"
      ]
     },
     "execution_count": 7,
     "metadata": {},
     "output_type": "execute_result"
    }
   ],
   "source": [
    "algo_doubling_rate_max_p = sq.get_percentiles(sq.sample(variables['algo_doubling_rate_max'], n=1000), reverse=True)\n",
    "algo_doubling_rate_max_p"
   ]
  },
  {
   "cell_type": "code",
   "execution_count": 8,
   "metadata": {},
   "outputs": [
    {
     "data": {
      "text/plain": [
       "{1: 18.0,\n",
       " 5: 18.0,\n",
       " 10: 18.0,\n",
       " 20: 18.0,\n",
       " 30: 18.0,\n",
       " 40: 18.0,\n",
       " 50: 18.0,\n",
       " 60: 18.0,\n",
       " 70: 18.0,\n",
       " 80: 18.0,\n",
       " 90: 18.0,\n",
       " 95: 18.0,\n",
       " 99: 18.0}"
      ]
     },
     "execution_count": 8,
     "metadata": {},
     "output_type": "execute_result"
    }
   ],
   "source": [
    "initial_flops_per_dollar_p = sq.get_percentiles(sq.sample(variables['initial_flops_per_dollar'], n=1000))\n",
    "initial_flops_per_dollar_p"
   ]
  },
  {
   "cell_type": "code",
   "execution_count": 9,
   "metadata": {},
   "outputs": [
    {
     "data": {
      "text/plain": [
       "{99: 1.6165819471052003,\n",
       " 95: 2.029700273164091,\n",
       " 90: 2.20127179618575,\n",
       " 80: 2.5366636284948187,\n",
       " 70: 2.731126745813038,\n",
       " 60: 2.9500795284516195,\n",
       " 50: 3.1460400804286284,\n",
       " 40: 3.3861826888458304,\n",
       " 30: 3.6895774644350046,\n",
       " 20: 4.033137788541704,\n",
       " 10: 4.469925838917635,\n",
       " 5: 4.951665956786899,\n",
       " 1: 5.721550281009142}"
      ]
     },
     "execution_count": 9,
     "metadata": {},
     "output_type": "execute_result"
    }
   ],
   "source": [
    "flops_halving_rate_p = sq.get_percentiles(sq.sample(variables['flops_halving_rate'], n=1000), reverse=True)\n",
    "flops_halving_rate_p"
   ]
  },
  {
   "cell_type": "code",
   "execution_count": 10,
   "metadata": {},
   "outputs": [
    {
     "data": {
      "text/plain": [
       "{1: 24.0,\n",
       " 5: 24.0,\n",
       " 10: 24.0,\n",
       " 20: 24.0,\n",
       " 30: 24.0,\n",
       " 40: 24.0,\n",
       " 50: 24.0,\n",
       " 60: 24.0,\n",
       " 70: 24.0,\n",
       " 80: 24.0,\n",
       " 90: 24.0,\n",
       " 95: 24.0,\n",
       " 99: 24.0}"
      ]
     },
     "execution_count": 10,
     "metadata": {},
     "output_type": "execute_result"
    }
   ],
   "source": [
    "max_flops_per_dollar_p = sq.get_percentiles(sq.sample(variables['max_flops_per_dollar'], n=1000))\n",
    "max_flops_per_dollar_p"
   ]
  },
  {
   "cell_type": "code",
   "execution_count": 11,
   "metadata": {},
   "outputs": [
    {
     "data": {
      "text/plain": [
       "{1: 7.1,\n",
       " 5: 7.1,\n",
       " 10: 7.1,\n",
       " 20: 7.1,\n",
       " 30: 7.1,\n",
       " 40: 7.1,\n",
       " 50: 7.1,\n",
       " 60: 7.1,\n",
       " 70: 7.1,\n",
       " 80: 7.1,\n",
       " 90: 7.82989082058052,\n",
       " 95: 8.272430952388287,\n",
       " 99: 8.861184178960093}"
      ]
     },
     "execution_count": 11,
     "metadata": {},
     "output_type": "execute_result"
    }
   ],
   "source": [
    "initial_pay_p = sq.get_percentiles(sq.sample(variables['initial_pay'], n=1000))\n",
    "initial_pay_p"
   ]
  },
  {
   "cell_type": "code",
   "execution_count": 12,
   "metadata": {},
   "outputs": [
    {
     "data": {
      "text/plain": [
       "{1: 1.0107506534437196,\n",
       " 5: 1.0149161609690938,\n",
       " 10: 1.0177461039275213,\n",
       " 20: 1.0201796036650745,\n",
       " 30: 1.0219537638360374,\n",
       " 40: 1.0235446682105036,\n",
       " 50: 1.0251988907379384,\n",
       " 60: 1.0268367733679813,\n",
       " 70: 1.028553050948955,\n",
       " 80: 1.0303866336605798,\n",
       " 90: 1.0330134563010434,\n",
       " 95: 1.035384520344773,\n",
       " 99: 1.0399786026784352}"
      ]
     },
     "execution_count": 12,
     "metadata": {},
     "output_type": "execute_result"
    }
   ],
   "source": [
    "gdp_growth_p = sq.get_percentiles(sq.sample(variables['gdp_growth'], n=1000))\n",
    "gdp_growth_p"
   ]
  },
  {
   "cell_type": "code",
   "execution_count": 13,
   "metadata": {},
   "outputs": [
    {
     "data": {
      "text/plain": [
       "{1: 2.464626479704167e-06,\n",
       " 5: 1.3971433763012402e-05,\n",
       " 10: 0.00037713297873593547,\n",
       " 20: 0.0005359200833602857,\n",
       " 30: 0.0005968551177237707,\n",
       " 40: 0.0006574628657144178,\n",
       " 50: 0.0007091657068329108,\n",
       " 60: 0.0007863941175895921,\n",
       " 70: 0.0008758509680667813,\n",
       " 80: 0.0010603591844291788,\n",
       " 90: 0.0027787985359377185,\n",
       " 95: 0.005198766383060996,\n",
       " 99: 0.010818493434227411}"
      ]
     },
     "execution_count": 13,
     "metadata": {},
     "output_type": "execute_result"
    }
   ],
   "source": [
    "max_gdp_frac_p = sq.get_percentiles(sq.sample(variables['max_gdp_frac'], n=1000))\n",
    "max_gdp_frac_p"
   ]
  },
  {
   "cell_type": "code",
   "execution_count": 14,
   "metadata": {},
   "outputs": [
    {
     "name": "stdout",
     "output_type": "stream",
     "text": [
      "0\n"
     ]
    }
   ],
   "source": [
    "willingness_ramp = variables.get('willingness_ramp', 0)\n",
    "if willingness_ramp != 0:\n",
    "    willingness_ramp_p = sq.get_percentiles(sq.sample(willingness_ramp), n=1000)\n",
    "    pprint(willingness_ramp_p)\n",
    "else:\n",
    "    print(0)"
   ]
  },
  {
   "cell_type": "code",
   "execution_count": 15,
   "metadata": {},
   "outputs": [
    {
     "data": {
      "text/plain": [
       "{99: 1.0,\n",
       " 95: 1.2213420350726483,\n",
       " 90: 1.4321947968922586,\n",
       " 80: 2.2625940689743875,\n",
       " 70: 3.261191757611863,\n",
       " 60: 3.6174375995417694,\n",
       " 50: 3.950171730564969,\n",
       " 40: 4.195583091826863,\n",
       " 30: 4.489536789298468,\n",
       " 20: 4.814285825682966,\n",
       " 10: 5.330289368879454,\n",
       " 5: 5.866590484769571,\n",
       " 1: 7.14753319510717}"
      ]
     },
     "execution_count": 15,
     "metadata": {},
     "output_type": "execute_result"
    }
   ],
   "source": [
    "spend_doubling_time_p = sq.get_percentiles(sq.sample(variables['spend_doubling_time'], n=1000), reverse=True)\n",
    "spend_doubling_time_p"
   ]
  },
  {
   "cell_type": "code",
   "execution_count": 16,
   "metadata": {},
   "outputs": [
    {
     "name": "stdout",
     "output_type": "stream",
     "text": [
      "{1: 38.01999999999998,\n",
      " 5: 25.0,\n",
      " 10: 17.0,\n",
      " 20: 12.0,\n",
      " 30: 9.0,\n",
      " 40: 7.0,\n",
      " 50: 6.0,\n",
      " 60: 5.0,\n",
      " 70: 4.0,\n",
      " 80: 4.0,\n",
      " 90: 3.0,\n",
      " 95: 3.0,\n",
      " 99: 2.0}\n"
     ]
    }
   ],
   "source": [
    "nonscaling_delay = variables.get('nonscaling_delay', 0)\n",
    "if nonscaling_delay != 0:\n",
    "    nonscaling_delay_p = sq.get_percentiles(np.ceil(sq.sample(nonscaling_delay, n=1000)), reverse=True)\n",
    "    pprint(nonscaling_delay_p)\n",
    "else:\n",
    "    print(0)"
   ]
  },
  {
   "cell_type": "code",
   "execution_count": 17,
   "metadata": {},
   "outputs": [
    {
     "name": "stdout",
     "output_type": "stream",
     "text": [
      "1\n"
     ]
    }
   ],
   "source": [
    "willingness_spend_horizon = variables.get('willingness_spend_horizon', 1)\n",
    "if willingness_spend_horizon != 1:\n",
    "    willingness_spend_horizon_p = sq.get_percentiles(sq.sample(willingness_spend_horizon, n=1000))\n",
    "    pprint(willingness_spend_horizon_p)\n",
    "else:\n",
    "    print(1)"
   ]
  },
  {
   "cell_type": "markdown",
   "metadata": {},
   "source": [
    "## GDP Over Time"
   ]
  },
  {
   "cell_type": "code",
   "execution_count": 18,
   "metadata": {},
   "outputs": [
    {
     "data": {
      "text/plain": [
       "Text(0, 0.5, 'log GDP')"
      ]
     },
     "execution_count": 18,
     "metadata": {},
     "output_type": "execute_result"
    },
    {
     "data": {
      "image/png": "[encoded data removed]",
      "text/plain": [
       "<Figure size 640x480 with 1 Axes>"
      ]
     },
     "metadata": {},
     "output_type": "display_data"
    }
   ],
   "source": [
    "gdp_ = np.array([gdp(initial_gdp=variables['initial_gdp'],\n",
    "                     gdp_growth=gdp_growth_p[GRAPH_P],\n",
    "                     year=(y - CURRENT_YEAR)) for y in years])\n",
    "plt.plot(years, np.log10(gdp_))\n",
    "plt.ylabel('log GDP')"
   ]
  },
  {
   "cell_type": "code",
   "execution_count": 19,
   "metadata": {},
   "outputs": [
    {
     "name": "stdout",
     "output_type": "stream",
     "text": [
      "Year: 2023 - GDP log 2022$USD 13.4 (~23 trillion)\n",
      "Year: 2024 - GDP log 2022$USD 13.4 (~24 trillion)\n",
      "Year: 2025 - GDP log 2022$USD 13.4 (~24 trillion)\n",
      "Year: 2026 - GDP log 2022$USD 13.4 (~25 trillion)\n",
      "Year: 2027 - GDP log 2022$USD 13.4 (~25 trillion)\n",
      "Year: 2028 - GDP log 2022$USD 13.4 (~26 trillion)\n",
      "Year: 2029 - GDP log 2022$USD 13.4 (~27 trillion)\n",
      "Year: 2030 - GDP log 2022$USD 13.4 (~27 trillion)\n",
      "Year: 2031 - GDP log 2022$USD 13.4 (~28 trillion)\n",
      "Year: 2032 - GDP log 2022$USD 13.5 (~29 trillion)\n",
      "Year: 2033 - GDP log 2022$USD 13.5 (~29 trillion)\n",
      "Year: 2034 - GDP log 2022$USD 13.5 (~30 trillion)\n",
      "Year: 2035 - GDP log 2022$USD 13.5 (~31 trillion)\n",
      "Year: 2036 - GDP log 2022$USD 13.5 (~32 trillion)\n",
      "Year: 2037 - GDP log 2022$USD 13.5 (~33 trillion)\n",
      "Year: 2038 - GDP log 2022$USD 13.5 (~33 trillion)\n",
      "Year: 2039 - GDP log 2022$USD 13.5 (~34 trillion)\n",
      "Year: 2040 - GDP log 2022$USD 13.5 (~35 trillion)\n",
      "Year: 2041 - GDP log 2022$USD 13.6 (~36 trillion)\n",
      "Year: 2042 - GDP log 2022$USD 13.6 (~37 trillion)\n",
      "Year: 2043 - GDP log 2022$USD 13.6 (~38 trillion)\n",
      "Year: 2044 - GDP log 2022$USD 13.6 (~39 trillion)\n",
      "Year: 2045 - GDP log 2022$USD 13.6 (~40 trillion)\n",
      "Year: 2046 - GDP log 2022$USD 13.6 (~41 trillion)\n",
      "Year: 2047 - GDP log 2022$USD 13.6 (~42 trillion)\n",
      "Year: 2048 - GDP log 2022$USD 13.6 (~43 trillion)\n",
      "Year: 2049 - GDP log 2022$USD 13.6 (~44 trillion)\n",
      "Year: 2050 - GDP log 2022$USD 13.7 (~45 trillion)\n",
      "Year: 2051 - GDP log 2022$USD 13.7 (~46 trillion)\n",
      "Year: 2052 - GDP log 2022$USD 13.7 (~47 trillion)\n",
      "Year: 2053 - GDP log 2022$USD 13.7 (~49 trillion)\n",
      "Year: 2054 - GDP log 2022$USD 13.7 (~50 trillion)\n",
      "Year: 2055 - GDP log 2022$USD 13.7 (~51 trillion)\n",
      "Year: 2056 - GDP log 2022$USD 13.7 (~52 trillion)\n",
      "Year: 2057 - GDP log 2022$USD 13.7 (~54 trillion)\n",
      "Year: 2058 - GDP log 2022$USD 13.7 (~55 trillion)\n",
      "Year: 2059 - GDP log 2022$USD 13.8 (~56 trillion)\n",
      "Year: 2060 - GDP log 2022$USD 13.8 (~58 trillion)\n",
      "Year: 2061 - GDP log 2022$USD 13.8 (~59 trillion)\n",
      "Year: 2062 - GDP log 2022$USD 13.8 (~61 trillion)\n",
      "Year: 2063 - GDP log 2022$USD 13.8 (~62 trillion)\n",
      "Year: 2064 - GDP log 2022$USD 13.8 (~64 trillion)\n",
      "Year: 2065 - GDP log 2022$USD 13.8 (~65 trillion)\n",
      "Year: 2066 - GDP log 2022$USD 13.8 (~67 trillion)\n",
      "Year: 2067 - GDP log 2022$USD 13.8 (~69 trillion)\n",
      "Year: 2068 - GDP log 2022$USD 13.8 (~70 trillion)\n",
      "Year: 2069 - GDP log 2022$USD 13.9 (~72 trillion)\n",
      "Year: 2070 - GDP log 2022$USD 13.9 (~74 trillion)\n",
      "Year: 2071 - GDP log 2022$USD 13.9 (~76 trillion)\n",
      "Year: 2072 - GDP log 2022$USD 13.9 (~78 trillion)\n",
      "Year: 2073 - GDP log 2022$USD 13.9 (~80 trillion)\n",
      "Year: 2074 - GDP log 2022$USD 13.9 (~82 trillion)\n",
      "Year: 2075 - GDP log 2022$USD 13.9 (~84 trillion)\n",
      "Year: 2076 - GDP log 2022$USD 13.9 (~86 trillion)\n",
      "Year: 2077 - GDP log 2022$USD 13.9 (~88 trillion)\n",
      "Year: 2078 - GDP log 2022$USD 14.0 (~90 trillion)\n",
      "Year: 2079 - GDP log 2022$USD 14.0 (~93 trillion)\n",
      "Year: 2080 - GDP log 2022$USD 14.0 (~95 trillion)\n",
      "Year: 2081 - GDP log 2022$USD 14.0 (~97 trillion)\n",
      "Year: 2082 - GDP log 2022$USD 14.0 (~100 trillion)\n",
      "Year: 2083 - GDP log 2022$USD 14.0 (~102 trillion)\n",
      "Year: 2084 - GDP log 2022$USD 14.0 (~105 trillion)\n",
      "Year: 2085 - GDP log 2022$USD 14.0 (~108 trillion)\n",
      "Year: 2086 - GDP log 2022$USD 14.0 (~110 trillion)\n",
      "Year: 2087 - GDP log 2022$USD 14.1 (~113 trillion)\n",
      "Year: 2088 - GDP log 2022$USD 14.1 (~116 trillion)\n",
      "Year: 2089 - GDP log 2022$USD 14.1 (~119 trillion)\n",
      "Year: 2090 - GDP log 2022$USD 14.1 (~122 trillion)\n",
      "Year: 2091 - GDP log 2022$USD 14.1 (~125 trillion)\n",
      "Year: 2092 - GDP log 2022$USD 14.1 (~128 trillion)\n",
      "Year: 2093 - GDP log 2022$USD 14.1 (~131 trillion)\n",
      "Year: 2094 - GDP log 2022$USD 14.1 (~135 trillion)\n",
      "Year: 2095 - GDP log 2022$USD 14.1 (~138 trillion)\n",
      "Year: 2096 - GDP log 2022$USD 14.2 (~141 trillion)\n",
      "Year: 2097 - GDP log 2022$USD 14.2 (~145 trillion)\n",
      "Year: 2098 - GDP log 2022$USD 14.2 (~149 trillion)\n",
      "Year: 2099 - GDP log 2022$USD 14.2 (~152 trillion)\n",
      "Year: 2100 - GDP log 2022$USD 14.2 (~156 trillion)\n",
      "Year: 2101 - GDP log 2022$USD 14.2 (~160 trillion)\n",
      "Year: 2102 - GDP log 2022$USD 14.2 (~164 trillion)\n",
      "Year: 2103 - GDP log 2022$USD 14.2 (~168 trillion)\n",
      "Year: 2104 - GDP log 2022$USD 14.2 (~173 trillion)\n",
      "Year: 2105 - GDP log 2022$USD 14.2 (~177 trillion)\n",
      "Year: 2106 - GDP log 2022$USD 14.3 (~181 trillion)\n",
      "Year: 2107 - GDP log 2022$USD 14.3 (~186 trillion)\n",
      "Year: 2108 - GDP log 2022$USD 14.3 (~191 trillion)\n",
      "Year: 2109 - GDP log 2022$USD 14.3 (~196 trillion)\n",
      "Year: 2110 - GDP log 2022$USD 14.3 (~200 trillion)\n",
      "Year: 2111 - GDP log 2022$USD 14.3 (~206 trillion)\n",
      "Year: 2112 - GDP log 2022$USD 14.3 (~211 trillion)\n",
      "Year: 2113 - GDP log 2022$USD 14.3 (~216 trillion)\n",
      "Year: 2114 - GDP log 2022$USD 14.3 (~221 trillion)\n",
      "Year: 2115 - GDP log 2022$USD 14.4 (~227 trillion)\n",
      "Year: 2116 - GDP log 2022$USD 14.4 (~233 trillion)\n",
      "Year: 2117 - GDP log 2022$USD 14.4 (~239 trillion)\n",
      "Year: 2118 - GDP log 2022$USD 14.4 (~245 trillion)\n",
      "Year: 2119 - GDP log 2022$USD 14.4 (~251 trillion)\n",
      "Year: 2120 - GDP log 2022$USD 14.4 (~257 trillion)\n",
      "Year: 2121 - GDP log 2022$USD 14.4 (~264 trillion)\n",
      "Year: 2122 - GDP log 2022$USD 14.4 (~270 trillion)\n"
     ]
    }
   ],
   "source": [
    "for y in years:\n",
    "    print('Year: {} - GDP log 2022$USD {} (~{})'.format(y,\n",
    "                                                        np.round(np.log10(gdp_[y - CURRENT_YEAR]), 1),\n",
    "                                                        numerize(gdp_[y - CURRENT_YEAR])))\n",
    "    "
   ]
  },
  {
   "cell_type": "markdown",
   "metadata": {},
   "source": [
    "## Willingness to Pay Over Time"
   ]
  },
  {
   "cell_type": "code",
   "execution_count": 20,
   "metadata": {},
   "outputs": [
    {
     "name": "stdout",
     "output_type": "stream",
     "text": [
      "-\n",
      "-\n",
      "## 20 ##\n",
      "Year: 2023 - willingness log 2022$USD per year 7.1 (~13 million)\n",
      "Year: 2024 - willingness log 2022$USD per year 7.2 (~15 million)\n",
      "Year: 2025 - willingness log 2022$USD per year 7.2 (~17 million)\n",
      "Year: 2026 - willingness log 2022$USD per year 7.3 (~19 million)\n",
      "Year: 2027 - willingness log 2022$USD per year 7.3 (~22 million)\n",
      "Year: 2028 - willingness log 2022$USD per year 7.4 (~26 million)\n",
      "Year: 2029 - willingness log 2022$USD per year 7.5 (~30 million)\n",
      "Year: 2030 - willingness log 2022$USD per year 7.5 (~34 million)\n",
      "Year: 2031 - willingness log 2022$USD per year 7.6 (~40 million)\n",
      "Year: 2032 - willingness log 2022$USD per year 7.7 (~46 million)\n",
      "Year: 2033 - willingness log 2022$USD per year 7.7 (~53 million)\n",
      "Year: 2034 - willingness log 2022$USD per year 7.8 (~61 million)\n",
      "Year: 2035 - willingness log 2022$USD per year 7.8 (~71 million)\n",
      "Year: 2036 - willingness log 2022$USD per year 7.9 (~81 million)\n",
      "Year: 2037 - willingness log 2022$USD per year 8.0 (~94 million)\n",
      "Year: 2038 - willingness log 2022$USD per year 8.0 (~108 million)\n",
      "Year: 2039 - willingness log 2022$USD per year 8.1 (~125 million)\n",
      "Year: 2040 - willingness log 2022$USD per year 8.2 (~144 million)\n",
      "Year: 2041 - willingness log 2022$USD per year 8.2 (~166 million)\n",
      "Year: 2042 - willingness log 2022$USD per year 8.3 (~192 million)\n",
      "Year: 2043 - willingness log 2022$USD per year 8.3 (~221 million)\n",
      "Year: 2044 - willingness log 2022$USD per year 8.4 (~255 million)\n",
      "Year: 2045 - willingness log 2022$USD per year 8.5 (~294 million)\n",
      "Year: 2046 - willingness log 2022$USD per year 8.5 (~339 million)\n",
      "Year: 2047 - willingness log 2022$USD per year 8.6 (~391 million)\n",
      "Year: 2048 - willingness log 2022$USD per year 8.7 (~450 million)\n",
      "Year: 2049 - willingness log 2022$USD per year 8.7 (~518 million)\n",
      "Year: 2050 - willingness log 2022$USD per year 8.8 (~597 million)\n",
      "Year: 2051 - willingness log 2022$USD per year 8.8 (~687 million)\n",
      "Year: 2052 - willingness log 2022$USD per year 8.9 (~790 million)\n",
      "Year: 2053 - willingness log 2022$USD per year 9.0 (~908 million)\n",
      "Year: 2054 - willingness log 2022$USD per year 9.0 (~1 billion)\n",
      "Year: 2055 - willingness log 2022$USD per year 9.1 (~1 billion)\n",
      "Year: 2056 - willingness log 2022$USD per year 9.1 (~1 billion)\n",
      "Year: 2057 - willingness log 2022$USD per year 9.2 (~2 billion)\n",
      "Year: 2058 - willingness log 2022$USD per year 9.3 (~2 billion)\n",
      "Year: 2059 - willingness log 2022$USD per year 9.3 (~2 billion)\n",
      "Year: 2060 - willingness log 2022$USD per year 9.4 (~2 billion)\n",
      "Year: 2061 - willingness log 2022$USD per year 9.4 (~3 billion)\n",
      "Year: 2062 - willingness log 2022$USD per year 9.5 (~3 billion)\n",
      "Year: 2063 - willingness log 2022$USD per year 9.5 (~3 billion)\n",
      "Year: 2064 - willingness log 2022$USD per year 9.6 (~4 billion)\n",
      "Year: 2065 - willingness log 2022$USD per year 9.7 (~4 billion)\n",
      "Year: 2066 - willingness log 2022$USD per year 9.7 (~5 billion)\n",
      "Year: 2067 - willingness log 2022$USD per year 9.8 (~6 billion)\n",
      "Year: 2068 - willingness log 2022$USD per year 9.8 (~6 billion)\n",
      "Year: 2069 - willingness log 2022$USD per year 9.9 (~7 billion)\n",
      "Year: 2070 - willingness log 2022$USD per year 9.9 (~8 billion)\n",
      "Year: 2071 - willingness log 2022$USD per year 10.0 (~9 billion)\n",
      "Year: 2072 - willingness log 2022$USD per year 10.0 (~10 billion)\n",
      "Year: 2073 - willingness log 2022$USD per year 10.0 (~11 billion)\n",
      "Year: 2074 - willingness log 2022$USD per year 10.1 (~12 billion)\n",
      "Year: 2075 - willingness log 2022$USD per year 10.1 (~14 billion)\n",
      "Year: 2076 - willingness log 2022$USD per year 10.2 (~15 billion)\n",
      "Year: 2077 - willingness log 2022$USD per year 10.2 (~16 billion)\n",
      "Year: 2078 - willingness log 2022$USD per year 10.3 (~18 billion)\n",
      "Year: 2079 - willingness log 2022$USD per year 10.3 (~19 billion)\n",
      "Year: 2080 - willingness log 2022$USD per year 10.3 (~21 billion)\n",
      "Year: 2081 - willingness log 2022$USD per year 10.4 (~23 billion)\n",
      "Year: 2082 - willingness log 2022$USD per year 10.4 (~24 billion)\n",
      "Year: 2083 - willingness log 2022$USD per year 10.4 (~26 billion)\n",
      "Year: 2084 - willingness log 2022$USD per year 10.4 (~28 billion)\n",
      "Year: 2085 - willingness log 2022$USD per year 10.5 (~29 billion)\n",
      "Year: 2086 - willingness log 2022$USD per year 10.5 (~31 billion)\n",
      "Year: 2087 - willingness log 2022$USD per year 10.5 (~33 billion)\n",
      "Year: 2088 - willingness log 2022$USD per year 10.5 (~34 billion)\n",
      "Year: 2089 - willingness log 2022$USD per year 10.6 (~36 billion)\n",
      "Year: 2090 - willingness log 2022$USD per year 10.6 (~38 billion)\n",
      "Year: 2091 - willingness log 2022$USD per year 10.6 (~40 billion)\n",
      "Year: 2092 - willingness log 2022$USD per year 10.6 (~41 billion)\n",
      "Year: 2093 - willingness log 2022$USD per year 10.6 (~43 billion)\n",
      "Year: 2094 - willingness log 2022$USD per year 10.6 (~44 billion)\n",
      "Year: 2095 - willingness log 2022$USD per year 10.7 (~46 billion)\n",
      "Year: 2096 - willingness log 2022$USD per year 10.7 (~48 billion)\n",
      "Year: 2097 - willingness log 2022$USD per year 10.7 (~49 billion)\n",
      "Year: 2098 - willingness log 2022$USD per year 10.7 (~51 billion)\n",
      "Year: 2099 - willingness log 2022$USD per year 10.7 (~52 billion)\n",
      "Year: 2100 - willingness log 2022$USD per year 10.7 (~54 billion)\n",
      "Year: 2101 - willingness log 2022$USD per year 10.7 (~55 billion)\n",
      "Year: 2102 - willingness log 2022$USD per year 10.8 (~57 billion)\n",
      "Year: 2103 - willingness log 2022$USD per year 10.8 (~58 billion)\n",
      "Year: 2104 - willingness log 2022$USD per year 10.8 (~60 billion)\n",
      "Year: 2105 - willingness log 2022$USD per year 10.8 (~61 billion)\n",
      "Year: 2106 - willingness log 2022$USD per year 10.8 (~63 billion)\n",
      "Year: 2107 - willingness log 2022$USD per year 10.8 (~64 billion)\n",
      "Year: 2108 - willingness log 2022$USD per year 10.8 (~66 billion)\n",
      "Year: 2109 - willingness log 2022$USD per year 10.8 (~67 billion)\n",
      "Year: 2110 - willingness log 2022$USD per year 10.8 (~69 billion)\n",
      "Year: 2111 - willingness log 2022$USD per year 10.8 (~70 billion)\n",
      "Year: 2112 - willingness log 2022$USD per year 10.9 (~72 billion)\n",
      "Year: 2113 - willingness log 2022$USD per year 10.9 (~73 billion)\n",
      "Year: 2114 - willingness log 2022$USD per year 10.9 (~75 billion)\n",
      "Year: 2115 - willingness log 2022$USD per year 10.9 (~77 billion)\n",
      "Year: 2116 - willingness log 2022$USD per year 10.9 (~78 billion)\n",
      "Year: 2117 - willingness log 2022$USD per year 10.9 (~80 billion)\n",
      "Year: 2118 - willingness log 2022$USD per year 10.9 (~82 billion)\n",
      "Year: 2119 - willingness log 2022$USD per year 10.9 (~83 billion)\n",
      "Year: 2120 - willingness log 2022$USD per year 10.9 (~85 billion)\n",
      "Year: 2121 - willingness log 2022$USD per year 10.9 (~87 billion)\n",
      "Year: 2122 - willingness log 2022$USD per year 10.9 (~89 billion)\n",
      "-\n",
      "-\n",
      "## 50 ##\n",
      "Year: 2023 - willingness log 2022$USD per year 7.1 (~13 million)\n",
      "Year: 2024 - willingness log 2022$USD per year 7.2 (~15 million)\n",
      "Year: 2025 - willingness log 2022$USD per year 7.3 (~18 million)\n",
      "Year: 2026 - willingness log 2022$USD per year 7.3 (~21 million)\n",
      "Year: 2027 - willingness log 2022$USD per year 7.4 (~25 million)\n",
      "Year: 2028 - willingness log 2022$USD per year 7.5 (~30 million)\n",
      "Year: 2029 - willingness log 2022$USD per year 7.6 (~36 million)\n",
      "Year: 2030 - willingness log 2022$USD per year 7.6 (~43 million)\n",
      "Year: 2031 - willingness log 2022$USD per year 7.7 (~51 million)\n",
      "Year: 2032 - willingness log 2022$USD per year 7.8 (~61 million)\n",
      "Year: 2033 - willingness log 2022$USD per year 7.9 (~73 million)\n",
      "Year: 2034 - willingness log 2022$USD per year 7.9 (~86 million)\n",
      "Year: 2035 - willingness log 2022$USD per year 8.0 (~103 million)\n",
      "Year: 2036 - willingness log 2022$USD per year 8.1 (~123 million)\n",
      "Year: 2037 - willingness log 2022$USD per year 8.2 (~146 million)\n",
      "Year: 2038 - willingness log 2022$USD per year 8.2 (~174 million)\n",
      "Year: 2039 - willingness log 2022$USD per year 8.3 (~207 million)\n",
      "Year: 2040 - willingness log 2022$USD per year 8.4 (~246 million)\n",
      "Year: 2041 - willingness log 2022$USD per year 8.5 (~293 million)\n",
      "Year: 2042 - willingness log 2022$USD per year 8.5 (~348 million)\n",
      "Year: 2043 - willingness log 2022$USD per year 8.6 (~414 million)\n",
      "Year: 2044 - willingness log 2022$USD per year 8.7 (~493 million)\n",
      "Year: 2045 - willingness log 2022$USD per year 8.8 (~585 million)\n",
      "Year: 2046 - willingness log 2022$USD per year 8.8 (~695 million)\n",
      "Year: 2047 - willingness log 2022$USD per year 8.9 (~825 million)\n",
      "Year: 2048 - willingness log 2022$USD per year 9.0 (~979 million)\n",
      "Year: 2049 - willingness log 2022$USD per year 9.1 (~1 billion)\n",
      "Year: 2050 - willingness log 2022$USD per year 9.1 (~1 billion)\n",
      "Year: 2051 - willingness log 2022$USD per year 9.2 (~2 billion)\n",
      "Year: 2052 - willingness log 2022$USD per year 9.3 (~2 billion)\n",
      "Year: 2053 - willingness log 2022$USD per year 9.4 (~2 billion)\n",
      "Year: 2054 - willingness log 2022$USD per year 9.4 (~3 billion)\n",
      "Year: 2055 - willingness log 2022$USD per year 9.5 (~3 billion)\n",
      "Year: 2056 - willingness log 2022$USD per year 9.6 (~4 billion)\n",
      "Year: 2057 - willingness log 2022$USD per year 9.6 (~4 billion)\n",
      "Year: 2058 - willingness log 2022$USD per year 9.7 (~5 billion)\n",
      "Year: 2059 - willingness log 2022$USD per year 9.8 (~6 billion)\n",
      "Year: 2060 - willingness log 2022$USD per year 9.8 (~7 billion)\n",
      "Year: 2061 - willingness log 2022$USD per year 9.9 (~8 billion)\n",
      "Year: 2062 - willingness log 2022$USD per year 10.0 (~9 billion)\n",
      "Year: 2063 - willingness log 2022$USD per year 10.0 (~11 billion)\n",
      "Year: 2064 - willingness log 2022$USD per year 10.1 (~12 billion)\n",
      "Year: 2065 - willingness log 2022$USD per year 10.1 (~14 billion)\n",
      "Year: 2066 - willingness log 2022$USD per year 10.2 (~16 billion)\n",
      "Year: 2067 - willingness log 2022$USD per year 10.3 (~18 billion)\n",
      "Year: 2068 - willingness log 2022$USD per year 10.3 (~20 billion)\n",
      "Year: 2069 - willingness log 2022$USD per year 10.4 (~23 billion)\n",
      "Year: 2070 - willingness log 2022$USD per year 10.4 (~25 billion)\n",
      "Year: 2071 - willingness log 2022$USD per year 10.4 (~28 billion)\n",
      "Year: 2072 - willingness log 2022$USD per year 10.5 (~31 billion)\n",
      "Year: 2073 - willingness log 2022$USD per year 10.5 (~33 billion)\n",
      "Year: 2074 - willingness log 2022$USD per year 10.6 (~36 billion)\n",
      "Year: 2075 - willingness log 2022$USD per year 10.6 (~39 billion)\n",
      "Year: 2076 - willingness log 2022$USD per year 10.6 (~42 billion)\n",
      "Year: 2077 - willingness log 2022$USD per year 10.7 (~45 billion)\n",
      "Year: 2078 - willingness log 2022$USD per year 10.7 (~48 billion)\n",
      "Year: 2079 - willingness log 2022$USD per year 10.7 (~51 billion)\n",
      "Year: 2080 - willingness log 2022$USD per year 10.7 (~54 billion)\n",
      "Year: 2081 - willingness log 2022$USD per year 10.8 (~57 billion)\n",
      "Year: 2082 - willingness log 2022$USD per year 10.8 (~60 billion)\n",
      "Year: 2083 - willingness log 2022$USD per year 10.8 (~63 billion)\n",
      "Year: 2084 - willingness log 2022$USD per year 10.8 (~66 billion)\n",
      "Year: 2085 - willingness log 2022$USD per year 10.8 (~68 billion)\n",
      "Year: 2086 - willingness log 2022$USD per year 10.9 (~71 billion)\n",
      "Year: 2087 - willingness log 2022$USD per year 10.9 (~74 billion)\n",
      "Year: 2088 - willingness log 2022$USD per year 10.9 (~77 billion)\n",
      "Year: 2089 - willingness log 2022$USD per year 10.9 (~79 billion)\n",
      "Year: 2090 - willingness log 2022$USD per year 10.9 (~82 billion)\n",
      "Year: 2091 - willingness log 2022$USD per year 10.9 (~85 billion)\n",
      "Year: 2092 - willingness log 2022$USD per year 10.9 (~87 billion)\n",
      "Year: 2093 - willingness log 2022$USD per year 11.0 (~90 billion)\n",
      "Year: 2094 - willingness log 2022$USD per year 11.0 (~93 billion)\n",
      "Year: 2095 - willingness log 2022$USD per year 11.0 (~95 billion)\n",
      "Year: 2096 - willingness log 2022$USD per year 11.0 (~98 billion)\n",
      "Year: 2097 - willingness log 2022$USD per year 11.0 (~101 billion)\n",
      "Year: 2098 - willingness log 2022$USD per year 11.0 (~104 billion)\n",
      "Year: 2099 - willingness log 2022$USD per year 11.0 (~107 billion)\n",
      "Year: 2100 - willingness log 2022$USD per year 11.0 (~110 billion)\n",
      "Year: 2101 - willingness log 2022$USD per year 11.1 (~112 billion)\n",
      "Year: 2102 - willingness log 2022$USD per year 11.1 (~115 billion)\n",
      "Year: 2103 - willingness log 2022$USD per year 11.1 (~119 billion)\n",
      "Year: 2104 - willingness log 2022$USD per year 11.1 (~122 billion)\n",
      "Year: 2105 - willingness log 2022$USD per year 11.1 (~125 billion)\n",
      "Year: 2106 - willingness log 2022$USD per year 11.1 (~128 billion)\n",
      "Year: 2107 - willingness log 2022$USD per year 11.1 (~131 billion)\n",
      "Year: 2108 - willingness log 2022$USD per year 11.1 (~135 billion)\n",
      "Year: 2109 - willingness log 2022$USD per year 11.1 (~138 billion)\n",
      "Year: 2110 - willingness log 2022$USD per year 11.2 (~142 billion)\n",
      "Year: 2111 - willingness log 2022$USD per year 11.2 (~145 billion)\n",
      "Year: 2112 - willingness log 2022$USD per year 11.2 (~149 billion)\n",
      "Year: 2113 - willingness log 2022$USD per year 11.2 (~153 billion)\n",
      "Year: 2114 - willingness log 2022$USD per year 11.2 (~157 billion)\n",
      "Year: 2115 - willingness log 2022$USD per year 11.2 (~161 billion)\n",
      "Year: 2116 - willingness log 2022$USD per year 11.2 (~165 billion)\n",
      "Year: 2117 - willingness log 2022$USD per year 11.2 (~169 billion)\n",
      "Year: 2118 - willingness log 2022$USD per year 11.2 (~173 billion)\n",
      "Year: 2119 - willingness log 2022$USD per year 11.2 (~178 billion)\n",
      "Year: 2120 - willingness log 2022$USD per year 11.3 (~182 billion)\n",
      "Year: 2121 - willingness log 2022$USD per year 11.3 (~187 billion)\n",
      "Year: 2122 - willingness log 2022$USD per year 11.3 (~192 billion)\n",
      "-\n",
      "-\n",
      "## 80 ##\n",
      "Year: 2023 - willingness log 2022$USD per year 7.1 (~13 million)\n",
      "Year: 2024 - willingness log 2022$USD per year 7.2 (~17 million)\n",
      "Year: 2025 - willingness log 2022$USD per year 7.4 (~23 million)\n",
      "Year: 2026 - willingness log 2022$USD per year 7.5 (~32 million)\n",
      "Year: 2027 - willingness log 2022$USD per year 7.6 (~43 million)\n",
      "Year: 2028 - willingness log 2022$USD per year 7.8 (~58 million)\n",
      "Year: 2029 - willingness log 2022$USD per year 7.9 (~79 million)\n",
      "Year: 2030 - willingness log 2022$USD per year 8.0 (~107 million)\n",
      "Year: 2031 - willingness log 2022$USD per year 8.2 (~145 million)\n",
      "Year: 2032 - willingness log 2022$USD per year 8.3 (~197 million)\n",
      "Year: 2033 - willingness log 2022$USD per year 8.4 (~267 million)\n",
      "Year: 2034 - willingness log 2022$USD per year 8.6 (~362 million)\n",
      "Year: 2035 - willingness log 2022$USD per year 8.7 (~490 million)\n",
      "Year: 2036 - willingness log 2022$USD per year 8.8 (~663 million)\n",
      "Year: 2037 - willingness log 2022$USD per year 9.0 (~895 million)\n",
      "Year: 2038 - willingness log 2022$USD per year 9.1 (~1 billion)\n",
      "Year: 2039 - willingness log 2022$USD per year 9.2 (~2 billion)\n",
      "Year: 2040 - willingness log 2022$USD per year 9.3 (~2 billion)\n",
      "Year: 2041 - willingness log 2022$USD per year 9.5 (~3 billion)\n",
      "Year: 2042 - willingness log 2022$USD per year 9.6 (~4 billion)\n",
      "Year: 2043 - willingness log 2022$USD per year 9.7 (~5 billion)\n",
      "Year: 2044 - willingness log 2022$USD per year 9.8 (~7 billion)\n",
      "Year: 2045 - willingness log 2022$USD per year 9.9 (~9 billion)\n",
      "Year: 2046 - willingness log 2022$USD per year 10.0 (~11 billion)\n",
      "Year: 2047 - willingness log 2022$USD per year 10.1 (~14 billion)\n",
      "Year: 2048 - willingness log 2022$USD per year 10.2 (~18 billion)\n",
      "Year: 2049 - willingness log 2022$USD per year 10.3 (~22 billion)\n",
      "Year: 2050 - willingness log 2022$USD per year 10.4 (~26 billion)\n",
      "Year: 2051 - willingness log 2022$USD per year 10.5 (~31 billion)\n",
      "Year: 2052 - willingness log 2022$USD per year 10.5 (~35 billion)\n",
      "Year: 2053 - willingness log 2022$USD per year 10.6 (~40 billion)\n",
      "Year: 2054 - willingness log 2022$USD per year 10.7 (~45 billion)\n",
      "Year: 2055 - willingness log 2022$USD per year 10.7 (~50 billion)\n",
      "Year: 2056 - willingness log 2022$USD per year 10.7 (~54 billion)\n",
      "Year: 2057 - willingness log 2022$USD per year 10.8 (~58 billion)\n",
      "Year: 2058 - willingness log 2022$USD per year 10.8 (~62 billion)\n",
      "Year: 2059 - willingness log 2022$USD per year 10.8 (~66 billion)\n",
      "Year: 2060 - willingness log 2022$USD per year 10.8 (~69 billion)\n",
      "Year: 2061 - willingness log 2022$USD per year 10.9 (~72 billion)\n",
      "Year: 2062 - willingness log 2022$USD per year 10.9 (~75 billion)\n",
      "Year: 2063 - willingness log 2022$USD per year 10.9 (~78 billion)\n",
      "Year: 2064 - willingness log 2022$USD per year 10.9 (~81 billion)\n",
      "Year: 2065 - willingness log 2022$USD per year 10.9 (~84 billion)\n",
      "Year: 2066 - willingness log 2022$USD per year 10.9 (~87 billion)\n",
      "Year: 2067 - willingness log 2022$USD per year 11.0 (~90 billion)\n",
      "Year: 2068 - willingness log 2022$USD per year 11.0 (~93 billion)\n",
      "Year: 2069 - willingness log 2022$USD per year 11.0 (~96 billion)\n",
      "Year: 2070 - willingness log 2022$USD per year 11.0 (~99 billion)\n",
      "Year: 2071 - willingness log 2022$USD per year 11.0 (~102 billion)\n",
      "Year: 2072 - willingness log 2022$USD per year 11.0 (~105 billion)\n",
      "Year: 2073 - willingness log 2022$USD per year 11.0 (~109 billion)\n",
      "Year: 2074 - willingness log 2022$USD per year 11.0 (~112 billion)\n",
      "Year: 2075 - willingness log 2022$USD per year 11.1 (~116 billion)\n",
      "Year: 2076 - willingness log 2022$USD per year 11.1 (~119 billion)\n",
      "Year: 2077 - willingness log 2022$USD per year 11.1 (~123 billion)\n",
      "Year: 2078 - willingness log 2022$USD per year 11.1 (~126 billion)\n",
      "Year: 2079 - willingness log 2022$USD per year 11.1 (~130 billion)\n",
      "Year: 2080 - willingness log 2022$USD per year 11.1 (~134 billion)\n",
      "Year: 2081 - willingness log 2022$USD per year 11.1 (~138 billion)\n",
      "Year: 2082 - willingness log 2022$USD per year 11.2 (~143 billion)\n",
      "Year: 2083 - willingness log 2022$USD per year 11.2 (~147 billion)\n",
      "Year: 2084 - willingness log 2022$USD per year 11.2 (~151 billion)\n",
      "Year: 2085 - willingness log 2022$USD per year 11.2 (~156 billion)\n",
      "Year: 2086 - willingness log 2022$USD per year 11.2 (~161 billion)\n",
      "Year: 2087 - willingness log 2022$USD per year 11.2 (~166 billion)\n",
      "Year: 2088 - willingness log 2022$USD per year 11.2 (~171 billion)\n",
      "Year: 2089 - willingness log 2022$USD per year 11.2 (~176 billion)\n",
      "Year: 2090 - willingness log 2022$USD per year 11.3 (~181 billion)\n",
      "Year: 2091 - willingness log 2022$USD per year 11.3 (~187 billion)\n",
      "Year: 2092 - willingness log 2022$USD per year 11.3 (~192 billion)\n",
      "Year: 2093 - willingness log 2022$USD per year 11.3 (~198 billion)\n",
      "Year: 2094 - willingness log 2022$USD per year 11.3 (~204 billion)\n",
      "Year: 2095 - willingness log 2022$USD per year 11.3 (~210 billion)\n",
      "Year: 2096 - willingness log 2022$USD per year 11.3 (~217 billion)\n",
      "Year: 2097 - willingness log 2022$USD per year 11.3 (~223 billion)\n",
      "Year: 2098 - willingness log 2022$USD per year 11.4 (~230 billion)\n",
      "Year: 2099 - willingness log 2022$USD per year 11.4 (~237 billion)\n",
      "Year: 2100 - willingness log 2022$USD per year 11.4 (~244 billion)\n",
      "Year: 2101 - willingness log 2022$USD per year 11.4 (~252 billion)\n",
      "Year: 2102 - willingness log 2022$USD per year 11.4 (~260 billion)\n",
      "Year: 2103 - willingness log 2022$USD per year 11.4 (~267 billion)\n",
      "Year: 2104 - willingness log 2022$USD per year 11.4 (~276 billion)\n",
      "Year: 2105 - willingness log 2022$USD per year 11.5 (~284 billion)\n",
      "Year: 2106 - willingness log 2022$USD per year 11.5 (~293 billion)\n",
      "Year: 2107 - willingness log 2022$USD per year 11.5 (~301 billion)\n",
      "Year: 2108 - willingness log 2022$USD per year 11.5 (~311 billion)\n",
      "Year: 2109 - willingness log 2022$USD per year 11.5 (~320 billion)\n",
      "Year: 2110 - willingness log 2022$USD per year 11.5 (~330 billion)\n",
      "Year: 2111 - willingness log 2022$USD per year 11.5 (~340 billion)\n",
      "Year: 2112 - willingness log 2022$USD per year 11.5 (~350 billion)\n",
      "Year: 2113 - willingness log 2022$USD per year 11.6 (~361 billion)\n",
      "Year: 2114 - willingness log 2022$USD per year 11.6 (~372 billion)\n",
      "Year: 2115 - willingness log 2022$USD per year 11.6 (~383 billion)\n",
      "Year: 2116 - willingness log 2022$USD per year 11.6 (~395 billion)\n",
      "Year: 2117 - willingness log 2022$USD per year 11.6 (~407 billion)\n",
      "Year: 2118 - willingness log 2022$USD per year 11.6 (~419 billion)\n",
      "Year: 2119 - willingness log 2022$USD per year 11.6 (~432 billion)\n",
      "Year: 2120 - willingness log 2022$USD per year 11.6 (~445 billion)\n",
      "Year: 2121 - willingness log 2022$USD per year 11.7 (~458 billion)\n",
      "Year: 2122 - willingness log 2022$USD per year 11.7 (~472 billion)\n"
     ]
    },
    {
     "data": {
      "image/png": "[encoded data removed]",
      "text/plain": [
       "<Figure size 640x480 with 1 Axes>"
      ]
     },
     "metadata": {},
     "output_type": "display_data"
    }
   ],
   "source": [
    "for p in [20, 50, 80]:\n",
    "    print('-')\n",
    "    print('-')\n",
    "    print('## {} ##'.format(p))\n",
    "    willingness = np.array([willingness_to_pay(initial_gdp=variables['initial_gdp'],\n",
    "                                               gdp_growth=gdp_growth_p[p],\n",
    "                                               initial_pay=10 ** initial_pay_p[p],\n",
    "                                               spend_doubling_time=spend_doubling_time_p[p],\n",
    "                                               max_gdp_frac=max_gdp_frac_p[p],\n",
    "                                               year=(y - CURRENT_YEAR)) for y in years])\n",
    "    for y in years:\n",
    "        print('Year: {} - willingness log 2022$USD per year {} (~{})'.format(y,\n",
    "                                                                             np.round(np.log10(willingness[y - CURRENT_YEAR]), 1),\n",
    "                                                                             numerize(willingness[y - CURRENT_YEAR])))\n",
    "\n",
    "\n",
    "    plt.plot(years, np.log10(willingness))\n",
    "plt.ylabel('log 2022$USD/yr willing to spend on TAI')\n",
    "plt.show()\n"
   ]
  },
  {
   "cell_type": "markdown",
   "metadata": {},
   "source": [
    "## FLOPs Needed to Make TAI (Given Algorithmic Progress)"
   ]
  },
  {
   "cell_type": "code",
   "execution_count": 21,
   "metadata": {},
   "outputs": [
    {
     "data": {
      "text/plain": [
       "Text(0, 0.5, 'log FLOPs needed to make TAI')"
      ]
     },
     "execution_count": 21,
     "metadata": {},
     "output_type": "execute_result"
    },
    {
     "data": {
      "image/png": "[encoded data removed]",
      "text/plain": [
       "<Figure size 640x480 with 1 Axes>"
      ]
     },
     "metadata": {},
     "output_type": "display_data"
    }
   ],
   "source": [
    "flops_ = np.array([flops_needed(initial_flops=10 ** initial_flops_p[GRAPH_P],\n",
    "                                doubling_rate=algo_halving_fn(algo_doubling_rate_min_p[GRAPH_P],\n",
    "                                                              algo_doubling_rate_max_p[GRAPH_P],\n",
    "                                                              initial_flops_p[GRAPH_P]),\n",
    "                                possible_reduction=10 ** possible_algo_reduction_fn(min_reduction_p[GRAPH_P],\n",
    "                                                                                    max_reduction_p[GRAPH_P],\n",
    "                                                                                    initial_flops_p[GRAPH_P]),\n",
    "                                year=(y - CURRENT_YEAR)) for y in years])\n",
    "\n",
    "plt.plot(years, np.log10(flops_))\n",
    "plt.ylabel('log FLOPs needed to make TAI')\n"
   ]
  },
  {
   "cell_type": "code",
   "execution_count": 22,
   "metadata": {},
   "outputs": [
    {
     "name": "stdout",
     "output_type": "stream",
     "text": [
      "Year: 2023 - log FLOPs needed for TAI 32.5 (~349 nonillion)\n",
      "Year: 2024 - log FLOPs needed for TAI 32.3 (~222 nonillion)\n",
      "Year: 2025 - log FLOPs needed for TAI 32.1 (~141 nonillion)\n",
      "Year: 2026 - log FLOPs needed for TAI 32.0 (~89 nonillion)\n",
      "Year: 2027 - log FLOPs needed for TAI 31.8 (~57 nonillion)\n",
      "Year: 2028 - log FLOPs needed for TAI 31.6 (~37 nonillion)\n",
      "Year: 2029 - log FLOPs needed for TAI 31.4 (~25 nonillion)\n",
      "Year: 2030 - log FLOPs needed for TAI 31.2 (~17 nonillion)\n",
      "Year: 2031 - log FLOPs needed for TAI 31.1 (~12 nonillion)\n",
      "Year: 2032 - log FLOPs needed for TAI 30.9 (~9 nonillion)\n",
      "Year: 2033 - log FLOPs needed for TAI 30.8 (~7 nonillion)\n",
      "Year: 2034 - log FLOPs needed for TAI 30.7 (~6 nonillion)\n",
      "Year: 2035 - log FLOPs needed for TAI 30.7 (~5 nonillion)\n",
      "Year: 2036 - log FLOPs needed for TAI 30.6 (~4 nonillion)\n",
      "Year: 2037 - log FLOPs needed for TAI 30.6 (~4 nonillion)\n",
      "Year: 2038 - log FLOPs needed for TAI 30.6 (~4 nonillion)\n",
      "Year: 2039 - log FLOPs needed for TAI 30.6 (~4 nonillion)\n",
      "Year: 2040 - log FLOPs needed for TAI 30.6 (~4 nonillion)\n",
      "Year: 2041 - log FLOPs needed for TAI 30.6 (~4 nonillion)\n",
      "Year: 2042 - log FLOPs needed for TAI 30.5 (~4 nonillion)\n",
      "Year: 2043 - log FLOPs needed for TAI 30.5 (~4 nonillion)\n",
      "Year: 2044 - log FLOPs needed for TAI 30.5 (~4 nonillion)\n",
      "Year: 2045 - log FLOPs needed for TAI 30.5 (~4 nonillion)\n",
      "Year: 2046 - log FLOPs needed for TAI 30.5 (~3 nonillion)\n",
      "Year: 2047 - log FLOPs needed for TAI 30.5 (~3 nonillion)\n",
      "Year: 2048 - log FLOPs needed for TAI 30.5 (~3 nonillion)\n",
      "Year: 2049 - log FLOPs needed for TAI 30.5 (~3 nonillion)\n",
      "Year: 2050 - log FLOPs needed for TAI 30.5 (~3 nonillion)\n",
      "Year: 2051 - log FLOPs needed for TAI 30.5 (~3 nonillion)\n",
      "Year: 2052 - log FLOPs needed for TAI 30.5 (~3 nonillion)\n",
      "Year: 2053 - log FLOPs needed for TAI 30.5 (~3 nonillion)\n",
      "Year: 2054 - log FLOPs needed for TAI 30.5 (~3 nonillion)\n",
      "Year: 2055 - log FLOPs needed for TAI 30.5 (~3 nonillion)\n",
      "Year: 2056 - log FLOPs needed for TAI 30.5 (~3 nonillion)\n",
      "Year: 2057 - log FLOPs needed for TAI 30.5 (~3 nonillion)\n",
      "Year: 2058 - log FLOPs needed for TAI 30.5 (~3 nonillion)\n",
      "Year: 2059 - log FLOPs needed for TAI 30.5 (~3 nonillion)\n",
      "Year: 2060 - log FLOPs needed for TAI 30.5 (~3 nonillion)\n",
      "Year: 2061 - log FLOPs needed for TAI 30.5 (~3 nonillion)\n",
      "Year: 2062 - log FLOPs needed for TAI 30.5 (~3 nonillion)\n",
      "Year: 2063 - log FLOPs needed for TAI 30.5 (~3 nonillion)\n",
      "Year: 2064 - log FLOPs needed for TAI 30.5 (~3 nonillion)\n",
      "Year: 2065 - log FLOPs needed for TAI 30.5 (~3 nonillion)\n",
      "Year: 2066 - log FLOPs needed for TAI 30.5 (~3 nonillion)\n",
      "Year: 2067 - log FLOPs needed for TAI 30.5 (~3 nonillion)\n",
      "Year: 2068 - log FLOPs needed for TAI 30.5 (~3 nonillion)\n",
      "Year: 2069 - log FLOPs needed for TAI 30.5 (~3 nonillion)\n",
      "Year: 2070 - log FLOPs needed for TAI 30.5 (~3 nonillion)\n",
      "Year: 2071 - log FLOPs needed for TAI 30.5 (~3 nonillion)\n",
      "Year: 2072 - log FLOPs needed for TAI 30.5 (~3 nonillion)\n",
      "Year: 2073 - log FLOPs needed for TAI 30.5 (~3 nonillion)\n",
      "Year: 2074 - log FLOPs needed for TAI 30.5 (~3 nonillion)\n",
      "Year: 2075 - log FLOPs needed for TAI 30.5 (~3 nonillion)\n",
      "Year: 2076 - log FLOPs needed for TAI 30.5 (~3 nonillion)\n",
      "Year: 2077 - log FLOPs needed for TAI 30.5 (~3 nonillion)\n",
      "Year: 2078 - log FLOPs needed for TAI 30.5 (~3 nonillion)\n",
      "Year: 2079 - log FLOPs needed for TAI 30.5 (~3 nonillion)\n",
      "Year: 2080 - log FLOPs needed for TAI 30.5 (~3 nonillion)\n",
      "Year: 2081 - log FLOPs needed for TAI 30.5 (~3 nonillion)\n",
      "Year: 2082 - log FLOPs needed for TAI 30.5 (~3 nonillion)\n",
      "Year: 2083 - log FLOPs needed for TAI 30.5 (~3 nonillion)\n",
      "Year: 2084 - log FLOPs needed for TAI 30.5 (~3 nonillion)\n",
      "Year: 2085 - log FLOPs needed for TAI 30.5 (~3 nonillion)\n",
      "Year: 2086 - log FLOPs needed for TAI 30.5 (~3 nonillion)\n",
      "Year: 2087 - log FLOPs needed for TAI 30.5 (~3 nonillion)\n",
      "Year: 2088 - log FLOPs needed for TAI 30.5 (~3 nonillion)\n",
      "Year: 2089 - log FLOPs needed for TAI 30.5 (~3 nonillion)\n",
      "Year: 2090 - log FLOPs needed for TAI 30.5 (~3 nonillion)\n",
      "Year: 2091 - log FLOPs needed for TAI 30.5 (~3 nonillion)\n",
      "Year: 2092 - log FLOPs needed for TAI 30.5 (~3 nonillion)\n",
      "Year: 2093 - log FLOPs needed for TAI 30.5 (~3 nonillion)\n",
      "Year: 2094 - log FLOPs needed for TAI 30.5 (~3 nonillion)\n",
      "Year: 2095 - log FLOPs needed for TAI 30.5 (~3 nonillion)\n",
      "Year: 2096 - log FLOPs needed for TAI 30.5 (~3 nonillion)\n",
      "Year: 2097 - log FLOPs needed for TAI 30.5 (~3 nonillion)\n",
      "Year: 2098 - log FLOPs needed for TAI 30.5 (~3 nonillion)\n",
      "Year: 2099 - log FLOPs needed for TAI 30.5 (~3 nonillion)\n",
      "Year: 2100 - log FLOPs needed for TAI 30.5 (~3 nonillion)\n",
      "Year: 2101 - log FLOPs needed for TAI 30.5 (~3 nonillion)\n",
      "Year: 2102 - log FLOPs needed for TAI 30.5 (~3 nonillion)\n",
      "Year: 2103 - log FLOPs needed for TAI 30.5 (~3 nonillion)\n",
      "Year: 2104 - log FLOPs needed for TAI 30.5 (~3 nonillion)\n",
      "Year: 2105 - log FLOPs needed for TAI 30.5 (~3 nonillion)\n",
      "Year: 2106 - log FLOPs needed for TAI 30.5 (~3 nonillion)\n",
      "Year: 2107 - log FLOPs needed for TAI 30.5 (~3 nonillion)\n",
      "Year: 2108 - log FLOPs needed for TAI 30.5 (~3 nonillion)\n",
      "Year: 2109 - log FLOPs needed for TAI 30.5 (~3 nonillion)\n",
      "Year: 2110 - log FLOPs needed for TAI 30.5 (~3 nonillion)\n",
      "Year: 2111 - log FLOPs needed for TAI 30.5 (~3 nonillion)\n",
      "Year: 2112 - log FLOPs needed for TAI 30.5 (~3 nonillion)\n",
      "Year: 2113 - log FLOPs needed for TAI 30.5 (~3 nonillion)\n",
      "Year: 2114 - log FLOPs needed for TAI 30.5 (~3 nonillion)\n",
      "Year: 2115 - log FLOPs needed for TAI 30.5 (~3 nonillion)\n",
      "Year: 2116 - log FLOPs needed for TAI 30.5 (~3 nonillion)\n",
      "Year: 2117 - log FLOPs needed for TAI 30.5 (~3 nonillion)\n",
      "Year: 2118 - log FLOPs needed for TAI 30.5 (~3 nonillion)\n",
      "Year: 2119 - log FLOPs needed for TAI 30.5 (~3 nonillion)\n",
      "Year: 2120 - log FLOPs needed for TAI 30.5 (~3 nonillion)\n",
      "Year: 2121 - log FLOPs needed for TAI 30.5 (~3 nonillion)\n",
      "Year: 2122 - log FLOPs needed for TAI 30.5 (~3 nonillion)\n"
     ]
    }
   ],
   "source": [
    "for y in years:\n",
    "    print('Year: {} - log FLOPs needed for TAI {} (~{})'.format(y,\n",
    "                                                                np.round(np.log10(flops_[y - CURRENT_YEAR]), 1),\n",
    "                                                                numerize(flops_[y - CURRENT_YEAR])))"
   ]
  },
  {
   "cell_type": "markdown",
   "metadata": {},
   "source": [
    "## FLOPs per Dollar (Given Declining Costs)"
   ]
  },
  {
   "cell_type": "code",
   "execution_count": 23,
   "metadata": {},
   "outputs": [
    {
     "data": {
      "text/plain": [
       "Text(0, 0.5, 'log FLOPs per $1')"
      ]
     },
     "execution_count": 23,
     "metadata": {},
     "output_type": "execute_result"
    },
    {
     "data": {
      "image/png": "[encoded data removed]",
      "text/plain": [
       "<Figure size 640x480 with 1 Axes>"
      ]
     },
     "metadata": {},
     "output_type": "display_data"
    }
   ],
   "source": [
    "flops_per_dollar_ = np.array([flops_per_dollar(initial_flops_per_dollar=10 ** initial_flops_per_dollar_p[GRAPH_P],\n",
    "                                               max_flops_per_dollar=10 ** max_flops_per_dollar_p[GRAPH_P],\n",
    "                                               halving_rate=flops_halving_rate_p[GRAPH_P],\n",
    "                                               year=(y - CURRENT_YEAR)) for y in years])\n",
    "plt.plot(years, np.log10(flops_per_dollar_))\n",
    "plt.ylabel('log FLOPs per $1')\n"
   ]
  },
  {
   "cell_type": "code",
   "execution_count": 24,
   "metadata": {},
   "outputs": [
    {
     "name": "stdout",
     "output_type": "stream",
     "text": [
      "Year: 2023 - log 18.0 FLOPs per $ (~1000 quadrillion)\n",
      "Year: 2024 - log 18.1 FLOPs per $ (~1 quintillion)\n",
      "Year: 2025 - log 18.2 FLOPs per $ (~2 quintillion)\n",
      "Year: 2026 - log 18.3 FLOPs per $ (~2 quintillion)\n",
      "Year: 2027 - log 18.4 FLOPs per $ (~2 quintillion)\n",
      "Year: 2028 - log 18.5 FLOPs per $ (~3 quintillion)\n",
      "Year: 2029 - log 18.6 FLOPs per $ (~4 quintillion)\n",
      "Year: 2030 - log 18.7 FLOPs per $ (~5 quintillion)\n",
      "Year: 2031 - log 18.8 FLOPs per $ (~6 quintillion)\n",
      "Year: 2032 - log 18.9 FLOPs per $ (~7 quintillion)\n",
      "Year: 2033 - log 19.0 FLOPs per $ (~9 quintillion)\n",
      "Year: 2034 - log 19.1 FLOPs per $ (~11 quintillion)\n",
      "Year: 2035 - log 19.1 FLOPs per $ (~14 quintillion)\n",
      "Year: 2036 - log 19.2 FLOPs per $ (~18 quintillion)\n",
      "Year: 2037 - log 19.3 FLOPs per $ (~22 quintillion)\n",
      "Year: 2038 - log 19.4 FLOPs per $ (~27 quintillion)\n",
      "Year: 2039 - log 19.5 FLOPs per $ (~34 quintillion)\n",
      "Year: 2040 - log 19.6 FLOPs per $ (~42 quintillion)\n",
      "Year: 2041 - log 19.7 FLOPs per $ (~53 quintillion)\n",
      "Year: 2042 - log 19.8 FLOPs per $ (~66 quintillion)\n",
      "Year: 2043 - log 19.9 FLOPs per $ (~82 quintillion)\n",
      "Year: 2044 - log 20.0 FLOPs per $ (~102 quintillion)\n",
      "Year: 2045 - log 20.1 FLOPs per $ (~127 quintillion)\n",
      "Year: 2046 - log 20.2 FLOPs per $ (~159 quintillion)\n",
      "Year: 2047 - log 20.3 FLOPs per $ (~198 quintillion)\n",
      "Year: 2048 - log 20.4 FLOPs per $ (~247 quintillion)\n",
      "Year: 2049 - log 20.5 FLOPs per $ (~307 quintillion)\n",
      "Year: 2050 - log 20.6 FLOPs per $ (~383 quintillion)\n",
      "Year: 2051 - log 20.7 FLOPs per $ (~478 quintillion)\n",
      "Year: 2052 - log 20.8 FLOPs per $ (~595 quintillion)\n",
      "Year: 2053 - log 20.9 FLOPs per $ (~742 quintillion)\n",
      "Year: 2054 - log 21.0 FLOPs per $ (~924 quintillion)\n",
      "Year: 2055 - log 21.1 FLOPs per $ (~1 sextillion)\n",
      "Year: 2056 - log 21.2 FLOPs per $ (~1 sextillion)\n",
      "Year: 2057 - log 21.3 FLOPs per $ (~2 sextillion)\n",
      "Year: 2058 - log 21.3 FLOPs per $ (~2 sextillion)\n",
      "Year: 2059 - log 21.4 FLOPs per $ (~3 sextillion)\n",
      "Year: 2060 - log 21.5 FLOPs per $ (~3 sextillion)\n",
      "Year: 2061 - log 21.6 FLOPs per $ (~4 sextillion)\n",
      "Year: 2062 - log 21.7 FLOPs per $ (~5 sextillion)\n",
      "Year: 2063 - log 21.8 FLOPs per $ (~7 sextillion)\n",
      "Year: 2064 - log 21.9 FLOPs per $ (~8 sextillion)\n",
      "Year: 2065 - log 22.0 FLOPs per $ (~10 sextillion)\n",
      "Year: 2066 - log 22.1 FLOPs per $ (~13 sextillion)\n",
      "Year: 2067 - log 22.2 FLOPs per $ (~16 sextillion)\n",
      "Year: 2068 - log 22.3 FLOPs per $ (~20 sextillion)\n",
      "Year: 2069 - log 22.4 FLOPs per $ (~25 sextillion)\n",
      "Year: 2070 - log 22.5 FLOPs per $ (~30 sextillion)\n",
      "Year: 2071 - log 22.6 FLOPs per $ (~38 sextillion)\n",
      "Year: 2072 - log 22.7 FLOPs per $ (~47 sextillion)\n",
      "Year: 2073 - log 22.8 FLOPs per $ (~57 sextillion)\n",
      "Year: 2074 - log 22.8 FLOPs per $ (~71 sextillion)\n",
      "Year: 2075 - log 22.9 FLOPs per $ (~86 sextillion)\n",
      "Year: 2076 - log 23.0 FLOPs per $ (~105 sextillion)\n",
      "Year: 2077 - log 23.1 FLOPs per $ (~128 sextillion)\n",
      "Year: 2078 - log 23.2 FLOPs per $ (~155 sextillion)\n",
      "Year: 2079 - log 23.3 FLOPs per $ (~186 sextillion)\n",
      "Year: 2080 - log 23.3 FLOPs per $ (~221 sextillion)\n",
      "Year: 2081 - log 23.4 FLOPs per $ (~262 sextillion)\n",
      "Year: 2082 - log 23.5 FLOPs per $ (~307 sextillion)\n",
      "Year: 2083 - log 23.6 FLOPs per $ (~355 sextillion)\n",
      "Year: 2084 - log 23.6 FLOPs per $ (~407 sextillion)\n",
      "Year: 2085 - log 23.7 FLOPs per $ (~461 sextillion)\n",
      "Year: 2086 - log 23.7 FLOPs per $ (~516 sextillion)\n",
      "Year: 2087 - log 23.8 FLOPs per $ (~571 sextillion)\n",
      "Year: 2088 - log 23.8 FLOPs per $ (~624 sextillion)\n",
      "Year: 2089 - log 23.8 FLOPs per $ (~674 sextillion)\n",
      "Year: 2090 - log 23.9 FLOPs per $ (~720 sextillion)\n",
      "Year: 2091 - log 23.9 FLOPs per $ (~763 sextillion)\n",
      "Year: 2092 - log 23.9 FLOPs per $ (~800 sextillion)\n",
      "Year: 2093 - log 23.9 FLOPs per $ (~833 sextillion)\n",
      "Year: 2094 - log 23.9 FLOPs per $ (~861 sextillion)\n",
      "Year: 2095 - log 23.9 FLOPs per $ (~886 sextillion)\n",
      "Year: 2096 - log 24.0 FLOPs per $ (~906 sextillion)\n",
      "Year: 2097 - log 24.0 FLOPs per $ (~923 sextillion)\n",
      "Year: 2098 - log 24.0 FLOPs per $ (~938 sextillion)\n",
      "Year: 2099 - log 24.0 FLOPs per $ (~949 sextillion)\n",
      "Year: 2100 - log 24.0 FLOPs per $ (~959 sextillion)\n",
      "Year: 2101 - log 24.0 FLOPs per $ (~967 sextillion)\n",
      "Year: 2102 - log 24.0 FLOPs per $ (~973 sextillion)\n",
      "Year: 2103 - log 24.0 FLOPs per $ (~978 sextillion)\n",
      "Year: 2104 - log 24.0 FLOPs per $ (~983 sextillion)\n",
      "Year: 2105 - log 24.0 FLOPs per $ (~986 sextillion)\n",
      "Year: 2106 - log 24.0 FLOPs per $ (~989 sextillion)\n",
      "Year: 2107 - log 24.0 FLOPs per $ (~991 sextillion)\n",
      "Year: 2108 - log 24.0 FLOPs per $ (~993 sextillion)\n",
      "Year: 2109 - log 24.0 FLOPs per $ (~994 sextillion)\n",
      "Year: 2110 - log 24.0 FLOPs per $ (~995 sextillion)\n",
      "Year: 2111 - log 24.0 FLOPs per $ (~996 sextillion)\n",
      "Year: 2112 - log 24.0 FLOPs per $ (~997 sextillion)\n",
      "Year: 2113 - log 24.0 FLOPs per $ (~998 sextillion)\n",
      "Year: 2114 - log 24.0 FLOPs per $ (~998 sextillion)\n",
      "Year: 2115 - log 24.0 FLOPs per $ (~998 sextillion)\n",
      "Year: 2116 - log 24.0 FLOPs per $ (~999 sextillion)\n",
      "Year: 2117 - log 24.0 FLOPs per $ (~999 sextillion)\n",
      "Year: 2118 - log 24.0 FLOPs per $ (~999 sextillion)\n",
      "Year: 2119 - log 24.0 FLOPs per $ (~999 sextillion)\n",
      "Year: 2120 - log 24.0 FLOPs per $ (~999 sextillion)\n",
      "Year: 2121 - log 24.0 FLOPs per $ (~1000 sextillion)\n",
      "Year: 2122 - log 24.0 FLOPs per $ (~1000 sextillion)\n"
     ]
    }
   ],
   "source": [
    "for y in years:\n",
    "    print('Year: {} - log {} FLOPs per $ (~{})'.format(y,\n",
    "                                                       np.round(np.log10(flops_per_dollar_[y - CURRENT_YEAR]), 1),\n",
    "                                                       numerize(flops_per_dollar_[y - CURRENT_YEAR])))"
   ]
  },
  {
   "cell_type": "markdown",
   "metadata": {},
   "source": [
    "## Max Possible OOM Reduction in TAI FLOP Size"
   ]
  },
  {
   "cell_type": "code",
   "execution_count": 25,
   "metadata": {},
   "outputs": [
    {
     "data": {
      "text/plain": [
       "Text(0.5, 0, 'initial FLOP needed for TAI prior to any reduction')"
      ]
     },
     "execution_count": 25,
     "metadata": {},
     "output_type": "execute_result"
    },
    {
     "data": {
      "image/png": "[encoded data removed]",
      "text/plain": [
       "<Figure size 640x480 with 1 Axes>"
      ]
     },
     "metadata": {},
     "output_type": "display_data"
    }
   ],
   "source": [
    "# TODO: Update to include efficiency based\n",
    "tai_sizes = range(24, 60)\n",
    "flops_per_dollar_ = np.array([possible_algo_reduction_fn(min_reduction_p[GRAPH_P],\n",
    "                                                         max_reduction_p[GRAPH_P], t) for t in tai_sizes])\n",
    "plt.plot(tai_sizes, flops_per_dollar_)\n",
    "plt.ylabel('max OOM reduction')\n",
    "plt.xlabel('initial FLOP needed for TAI prior to any reduction')\n"
   ]
  },
  {
   "cell_type": "code",
   "execution_count": 26,
   "metadata": {},
   "outputs": [
    {
     "name": "stdout",
     "output_type": "stream",
     "text": [
      "TAI log FLOP 24 -> 2.0 OOM reductions possible\n",
      "TAI log FLOP 25 -> 2.0 OOM reductions possible\n",
      "TAI log FLOP 26 -> 2.0 OOM reductions possible\n",
      "TAI log FLOP 27 -> 2.0 OOM reductions possible\n",
      "TAI log FLOP 28 -> 2.0 OOM reductions possible\n",
      "TAI log FLOP 29 -> 2.0 OOM reductions possible\n",
      "TAI log FLOP 30 -> 2.0 OOM reductions possible\n",
      "TAI log FLOP 31 -> 2.0 OOM reductions possible\n",
      "TAI log FLOP 32 -> 2.0 OOM reductions possible\n",
      "TAI log FLOP 33 -> 2.0 OOM reductions possible\n",
      "TAI log FLOP 34 -> 2.0 OOM reductions possible\n",
      "TAI log FLOP 35 -> 3.0 OOM reductions possible\n",
      "TAI log FLOP 36 -> 3.0 OOM reductions possible\n",
      "TAI log FLOP 37 -> 3.0 OOM reductions possible\n",
      "TAI log FLOP 38 -> 4.0 OOM reductions possible\n",
      "TAI log FLOP 39 -> 4.0 OOM reductions possible\n",
      "TAI log FLOP 40 -> 4.0 OOM reductions possible\n",
      "TAI log FLOP 41 -> 4.0 OOM reductions possible\n",
      "TAI log FLOP 42 -> 4.0 OOM reductions possible\n",
      "TAI log FLOP 43 -> 5.0 OOM reductions possible\n",
      "TAI log FLOP 44 -> 5.0 OOM reductions possible\n",
      "TAI log FLOP 45 -> 5.0 OOM reductions possible\n",
      "TAI log FLOP 46 -> 5.0 OOM reductions possible\n",
      "TAI log FLOP 47 -> 5.0 OOM reductions possible\n",
      "TAI log FLOP 48 -> 5.0 OOM reductions possible\n",
      "TAI log FLOP 49 -> 5.0 OOM reductions possible\n",
      "TAI log FLOP 50 -> 5.0 OOM reductions possible\n",
      "TAI log FLOP 51 -> 5.0 OOM reductions possible\n",
      "TAI log FLOP 52 -> 5.0 OOM reductions possible\n",
      "TAI log FLOP 53 -> 5.0 OOM reductions possible\n",
      "TAI log FLOP 54 -> 5.0 OOM reductions possible\n",
      "TAI log FLOP 55 -> 5.0 OOM reductions possible\n",
      "TAI log FLOP 56 -> 5.0 OOM reductions possible\n",
      "TAI log FLOP 57 -> 5.0 OOM reductions possible\n",
      "TAI log FLOP 58 -> 5.0 OOM reductions possible\n",
      "TAI log FLOP 59 -> 5.0 OOM reductions possible\n"
     ]
    }
   ],
   "source": [
    "for t in tai_sizes:\n",
    "    print('TAI log FLOP {} -> {} OOM reductions possible'.format(t,\n",
    "                                                                 round(possible_algo_reduction_fn(min_reduction_p[GRAPH_P],\n",
    "                                                                                                  max_reduction_p[GRAPH_P],\n",
    "                                                                                                  t), 2)))\n",
    "          "
   ]
  },
  {
   "cell_type": "markdown",
   "metadata": {},
   "source": [
    "## Halving time (years) of compute requirements"
   ]
  },
  {
   "cell_type": "code",
   "execution_count": 27,
   "metadata": {},
   "outputs": [
    {
     "data": {
      "text/plain": [
       "Text(0.5, 0, 'initial FLOP needed for TAI prior to any reduction')"
      ]
     },
     "execution_count": 27,
     "metadata": {},
     "output_type": "execute_result"
    },
    {
     "data": {
      "image/png": "[encoded data removed]",
      "text/plain": [
       "<Figure size 640x480 with 1 Axes>"
      ]
     },
     "metadata": {},
     "output_type": "display_data"
    }
   ],
   "source": [
    "tai_sizes = range(24, 60)\n",
    "flops_per_dollar_ = np.array([algo_halving_fn(algo_doubling_rate_min_p[GRAPH_P],\n",
    "                                              algo_doubling_rate_max_p[GRAPH_P],\n",
    "                                              t) for t in tai_sizes])\n",
    "plt.plot(tai_sizes, flops_per_dollar_)\n",
    "plt.ylabel('number of years for compute requirements to halve')\n",
    "plt.xlabel('initial FLOP needed for TAI prior to any reduction')\n"
   ]
  },
  {
   "cell_type": "code",
   "execution_count": 28,
   "metadata": {},
   "outputs": [
    {
     "name": "stdout",
     "output_type": "stream",
     "text": [
      "TAI log FLOP 24 -> algo doubling rate 2.02yrs\n",
      "TAI log FLOP 25 -> algo doubling rate 2.02yrs\n",
      "TAI log FLOP 26 -> algo doubling rate 2.02yrs\n",
      "TAI log FLOP 27 -> algo doubling rate 2.02yrs\n",
      "TAI log FLOP 28 -> algo doubling rate 2.02yrs\n",
      "TAI log FLOP 29 -> algo doubling rate 2.02yrs\n",
      "TAI log FLOP 30 -> algo doubling rate 2.02yrs\n",
      "TAI log FLOP 31 -> algo doubling rate 1.52yrs\n",
      "TAI log FLOP 32 -> algo doubling rate 1.48yrs\n",
      "TAI log FLOP 33 -> algo doubling rate 1.48yrs\n",
      "TAI log FLOP 34 -> algo doubling rate 1.48yrs\n",
      "TAI log FLOP 35 -> algo doubling rate 1.48yrs\n",
      "TAI log FLOP 36 -> algo doubling rate 1.48yrs\n",
      "TAI log FLOP 37 -> algo doubling rate 1.48yrs\n",
      "TAI log FLOP 38 -> algo doubling rate 1.48yrs\n",
      "TAI log FLOP 39 -> algo doubling rate 1.48yrs\n",
      "TAI log FLOP 40 -> algo doubling rate 1.48yrs\n",
      "TAI log FLOP 41 -> algo doubling rate 1.48yrs\n",
      "TAI log FLOP 42 -> algo doubling rate 1.48yrs\n",
      "TAI log FLOP 43 -> algo doubling rate 1.48yrs\n",
      "TAI log FLOP 44 -> algo doubling rate 1.48yrs\n",
      "TAI log FLOP 45 -> algo doubling rate 1.48yrs\n",
      "TAI log FLOP 46 -> algo doubling rate 1.48yrs\n",
      "TAI log FLOP 47 -> algo doubling rate 1.48yrs\n",
      "TAI log FLOP 48 -> algo doubling rate 1.48yrs\n",
      "TAI log FLOP 49 -> algo doubling rate 1.48yrs\n",
      "TAI log FLOP 50 -> algo doubling rate 1.48yrs\n",
      "TAI log FLOP 51 -> algo doubling rate 1.48yrs\n",
      "TAI log FLOP 52 -> algo doubling rate 1.48yrs\n",
      "TAI log FLOP 53 -> algo doubling rate 1.48yrs\n",
      "TAI log FLOP 54 -> algo doubling rate 1.48yrs\n",
      "TAI log FLOP 55 -> algo doubling rate 1.48yrs\n",
      "TAI log FLOP 56 -> algo doubling rate 1.48yrs\n",
      "TAI log FLOP 57 -> algo doubling rate 1.48yrs\n",
      "TAI log FLOP 58 -> algo doubling rate 1.48yrs\n",
      "TAI log FLOP 59 -> algo doubling rate 1.48yrs\n"
     ]
    }
   ],
   "source": [
    "for t in tai_sizes:\n",
    "    print('TAI log FLOP {} -> algo doubling rate {}yrs'.format(t,\n",
    "                                                               round(algo_halving_fn(algo_doubling_rate_min_p[GRAPH_P],\n",
    "                                                                                     algo_doubling_rate_max_p[GRAPH_P],\n",
    "                                                                                     t), 2)))\n"
   ]
  },
  {
   "cell_type": "markdown",
   "metadata": {},
   "source": [
    "## Dollars Needed to Buy TAI (Given Algorithmic Progress and Decline in Cost per FLOP)"
   ]
  },
  {
   "cell_type": "code",
   "execution_count": 29,
   "metadata": {},
   "outputs": [
    {
     "data": {
      "text/plain": [
       "Text(0, 0.5, 'log $ needed to buy TAI')"
      ]
     },
     "execution_count": 29,
     "metadata": {},
     "output_type": "execute_result"
    },
    {
     "data": {
      "image/png": "[encoded data removed]",
      "text/plain": [
       "<Figure size 640x480 with 1 Axes>"
      ]
     },
     "metadata": {},
     "output_type": "display_data"
    }
   ],
   "source": [
    "cost_of_tai_ = np.array([cost_of_tai(initial_flops=10 ** initial_flops_p[GRAPH_P],\n",
    "                                     possible_reduction=10 ** possible_algo_reduction_fn(min_reduction_p[GRAPH_P], max_reduction_p[GRAPH_P], initial_flops_p[GRAPH_P]),\n",
    "                                     algo_doubling_rate=algo_halving_fn(algo_doubling_rate_min_p[GRAPH_P],\n",
    "                                                                        algo_doubling_rate_max_p[GRAPH_P],\n",
    "                                                                        initial_flops_p[GRAPH_P]),\n",
    "                                     initial_flops_per_dollar=10 ** initial_flops_per_dollar_p[GRAPH_P],\n",
    "                                     max_flops_per_dollar=10 ** max_flops_per_dollar_p[GRAPH_P],\n",
    "                                     flops_halving_rate=flops_halving_rate_p[GRAPH_P],\n",
    "                                     year=(y - CURRENT_YEAR)) for y in years])\n",
    "\n",
    "plt.plot(years, np.log10(cost_of_tai_))\n",
    "plt.ylabel('log $ needed to buy TAI')\n"
   ]
  },
  {
   "cell_type": "code",
   "execution_count": 30,
   "metadata": {},
   "outputs": [
    {
     "name": "stdout",
     "output_type": "stream",
     "text": [
      "Year: 2023 - log $ 14.5 to buy TAI (~349 trillion)\n",
      "Year: 2024 - log $ 14.3 to buy TAI (~178 trillion)\n",
      "Year: 2025 - log $ 14.0 to buy TAI (~91 trillion)\n",
      "Year: 2026 - log $ 13.7 to buy TAI (~46 trillion)\n",
      "Year: 2027 - log $ 13.4 to buy TAI (~24 trillion)\n",
      "Year: 2028 - log $ 13.1 to buy TAI (~12 trillion)\n",
      "Year: 2029 - log $ 12.8 to buy TAI (~7 trillion)\n",
      "Year: 2030 - log $ 12.6 to buy TAI (~4 trillion)\n",
      "Year: 2031 - log $ 12.3 to buy TAI (~2 trillion)\n",
      "Year: 2032 - log $ 12.1 to buy TAI (~1 trillion)\n",
      "Year: 2033 - log $ 11.9 to buy TAI (~746 billion)\n",
      "Year: 2034 - log $ 11.7 to buy TAI (~491 billion)\n",
      "Year: 2035 - log $ 11.5 to buy TAI (~339 billion)\n",
      "Year: 2036 - log $ 11.4 to buy TAI (~245 billion)\n",
      "Year: 2037 - log $ 11.3 to buy TAI (~183 billion)\n",
      "Year: 2038 - log $ 11.1 to buy TAI (~140 billion)\n",
      "Year: 2039 - log $ 11.0 to buy TAI (~109 billion)\n",
      "Year: 2040 - log $ 10.9 to buy TAI (~85 billion)\n",
      "Year: 2041 - log $ 10.8 to buy TAI (~68 billion)\n",
      "Year: 2042 - log $ 10.7 to buy TAI (~54 billion)\n",
      "Year: 2043 - log $ 10.6 to buy TAI (~43 billion)\n",
      "Year: 2044 - log $ 10.5 to buy TAI (~34 billion)\n",
      "Year: 2045 - log $ 10.4 to buy TAI (~28 billion)\n",
      "Year: 2046 - log $ 10.3 to buy TAI (~22 billion)\n",
      "Year: 2047 - log $ 10.2 to buy TAI (~18 billion)\n",
      "Year: 2048 - log $ 10.2 to buy TAI (~14 billion)\n",
      "Year: 2049 - log $ 10.1 to buy TAI (~11 billion)\n",
      "Year: 2050 - log $ 10.0 to buy TAI (~9 billion)\n",
      "Year: 2051 - log $ 9.9 to buy TAI (~7 billion)\n",
      "Year: 2052 - log $ 9.8 to buy TAI (~6 billion)\n",
      "Year: 2053 - log $ 9.7 to buy TAI (~5 billion)\n",
      "Year: 2054 - log $ 9.6 to buy TAI (~4 billion)\n",
      "Year: 2055 - log $ 9.5 to buy TAI (~3 billion)\n",
      "Year: 2056 - log $ 9.4 to buy TAI (~2 billion)\n",
      "Year: 2057 - log $ 9.3 to buy TAI (~2 billion)\n",
      "Year: 2058 - log $ 9.2 to buy TAI (~2 billion)\n",
      "Year: 2059 - log $ 9.1 to buy TAI (~1 billion)\n",
      "Year: 2060 - log $ 9.0 to buy TAI (~1 billion)\n",
      "Year: 2061 - log $ 8.9 to buy TAI (~811 million)\n",
      "Year: 2062 - log $ 8.8 to buy TAI (~651 million)\n",
      "Year: 2063 - log $ 8.7 to buy TAI (~523 million)\n",
      "Year: 2064 - log $ 8.6 to buy TAI (~420 million)\n",
      "Year: 2065 - log $ 8.5 to buy TAI (~338 million)\n",
      "Year: 2066 - log $ 8.4 to buy TAI (~272 million)\n",
      "Year: 2067 - log $ 8.3 to buy TAI (~219 million)\n",
      "Year: 2068 - log $ 8.2 to buy TAI (~176 million)\n",
      "Year: 2069 - log $ 8.2 to buy TAI (~142 million)\n",
      "Year: 2070 - log $ 8.1 to buy TAI (~115 million)\n",
      "Year: 2071 - log $ 8.0 to buy TAI (~93 million)\n",
      "Year: 2072 - log $ 7.9 to buy TAI (~75 million)\n",
      "Year: 2073 - log $ 7.8 to buy TAI (~61 million)\n",
      "Year: 2074 - log $ 7.7 to buy TAI (~50 million)\n",
      "Year: 2075 - log $ 7.6 to buy TAI (~40 million)\n",
      "Year: 2076 - log $ 7.5 to buy TAI (~33 million)\n",
      "Year: 2077 - log $ 7.4 to buy TAI (~27 million)\n",
      "Year: 2078 - log $ 7.4 to buy TAI (~23 million)\n",
      "Year: 2079 - log $ 7.3 to buy TAI (~19 million)\n",
      "Year: 2080 - log $ 7.2 to buy TAI (~16 million)\n",
      "Year: 2081 - log $ 7.1 to buy TAI (~13 million)\n",
      "Year: 2082 - log $ 7.1 to buy TAI (~11 million)\n",
      "Year: 2083 - log $ 7.0 to buy TAI (~10 million)\n",
      "Year: 2084 - log $ 6.9 to buy TAI (~9 million)\n",
      "Year: 2085 - log $ 6.9 to buy TAI (~8 million)\n",
      "Year: 2086 - log $ 6.8 to buy TAI (~7 million)\n",
      "Year: 2087 - log $ 6.8 to buy TAI (~6 million)\n",
      "Year: 2088 - log $ 6.7 to buy TAI (~6 million)\n",
      "Year: 2089 - log $ 6.7 to buy TAI (~5 million)\n",
      "Year: 2090 - log $ 6.7 to buy TAI (~5 million)\n",
      "Year: 2091 - log $ 6.7 to buy TAI (~5 million)\n",
      "Year: 2092 - log $ 6.6 to buy TAI (~4 million)\n",
      "Year: 2093 - log $ 6.6 to buy TAI (~4 million)\n",
      "Year: 2094 - log $ 6.6 to buy TAI (~4 million)\n",
      "Year: 2095 - log $ 6.6 to buy TAI (~4 million)\n",
      "Year: 2096 - log $ 6.6 to buy TAI (~4 million)\n",
      "Year: 2097 - log $ 6.6 to buy TAI (~4 million)\n",
      "Year: 2098 - log $ 6.6 to buy TAI (~4 million)\n",
      "Year: 2099 - log $ 6.6 to buy TAI (~4 million)\n",
      "Year: 2100 - log $ 6.6 to buy TAI (~4 million)\n",
      "Year: 2101 - log $ 6.6 to buy TAI (~4 million)\n",
      "Year: 2102 - log $ 6.6 to buy TAI (~4 million)\n",
      "Year: 2103 - log $ 6.6 to buy TAI (~4 million)\n",
      "Year: 2104 - log $ 6.6 to buy TAI (~4 million)\n",
      "Year: 2105 - log $ 6.5 to buy TAI (~4 million)\n",
      "Year: 2106 - log $ 6.5 to buy TAI (~4 million)\n",
      "Year: 2107 - log $ 6.5 to buy TAI (~4 million)\n",
      "Year: 2108 - log $ 6.5 to buy TAI (~4 million)\n",
      "Year: 2109 - log $ 6.5 to buy TAI (~4 million)\n",
      "Year: 2110 - log $ 6.5 to buy TAI (~4 million)\n",
      "Year: 2111 - log $ 6.5 to buy TAI (~4 million)\n",
      "Year: 2112 - log $ 6.5 to buy TAI (~4 million)\n",
      "Year: 2113 - log $ 6.5 to buy TAI (~4 million)\n",
      "Year: 2114 - log $ 6.5 to buy TAI (~3 million)\n",
      "Year: 2115 - log $ 6.5 to buy TAI (~3 million)\n",
      "Year: 2116 - log $ 6.5 to buy TAI (~3 million)\n",
      "Year: 2117 - log $ 6.5 to buy TAI (~3 million)\n",
      "Year: 2118 - log $ 6.5 to buy TAI (~3 million)\n",
      "Year: 2119 - log $ 6.5 to buy TAI (~3 million)\n",
      "Year: 2120 - log $ 6.5 to buy TAI (~3 million)\n",
      "Year: 2121 - log $ 6.5 to buy TAI (~3 million)\n",
      "Year: 2122 - log $ 6.5 to buy TAI (~3 million)\n"
     ]
    }
   ],
   "source": [
    "for y in years:\n",
    "    print('Year: {} - log $ {} to buy TAI (~{})'.format(y,\n",
    "                                                        np.round(np.log10(cost_of_tai_[y - CURRENT_YEAR]), 1),\n",
    "                                                        numerize(cost_of_tai_[y - CURRENT_YEAR])))"
   ]
  },
  {
   "cell_type": "markdown",
   "metadata": {},
   "source": [
    "## FLOPs at Max Spend"
   ]
  },
  {
   "cell_type": "code",
   "execution_count": 31,
   "metadata": {},
   "outputs": [
    {
     "data": {
      "text/plain": [
       "Text(0, 0.5, 'max log FLOPs bought given willingness to spend')"
      ]
     },
     "execution_count": 31,
     "metadata": {},
     "output_type": "execute_result"
    },
    {
     "data": {
      "image/png": "[encoded data removed]",
      "text/plain": [
       "<Figure size 640x480 with 1 Axes>"
      ]
     },
     "metadata": {},
     "output_type": "display_data"
    }
   ],
   "source": [
    "flops_at_max_ = np.array([flops_at_max(initial_gdp=variables['initial_gdp'],\n",
    "                                       gdp_growth=gdp_growth_p[GRAPH_P],\n",
    "                                       initial_pay=10 ** initial_pay_p[GRAPH_P],\n",
    "                                       spend_doubling_time=spend_doubling_time_p[GRAPH_P],\n",
    "                                       max_gdp_frac=max_gdp_frac_p[GRAPH_P],\n",
    "                                       initial_flops_per_dollar=10 ** initial_flops_per_dollar_p[GRAPH_P],\n",
    "                                       max_flops_per_dollar=10 ** max_flops_per_dollar_p[GRAPH_P],\n",
    "                                       flops_halving_rate=flops_halving_rate_p[GRAPH_P],\n",
    "                                       year=(y - CURRENT_YEAR)) for y in years])\n",
    "\n",
    "plt.plot(years, np.log10(flops_at_max_))\n",
    "plt.ylabel('max log FLOPs bought given willingness to spend')\n"
   ]
  },
  {
   "cell_type": "code",
   "execution_count": 32,
   "metadata": {},
   "outputs": [
    {
     "name": "stdout",
     "output_type": "stream",
     "text": [
      "Year: 2023 - max log FLOPs 25.1 (~13 septillion FLOP, ~145596 petaFLOP/s-days)\n",
      "Year: 2024 - max log FLOPs 25.3 (~19 septillion FLOP, ~216266 petaFLOP/s-days)\n",
      "Year: 2025 - max log FLOPs 25.4 (~28 septillion FLOP, ~321231 petaFLOP/s-days)\n",
      "Year: 2026 - max log FLOPs 25.6 (~41 septillion FLOP, ~477129 petaFLOP/s-days)\n",
      "Year: 2027 - max log FLOPs 25.8 (~61 septillion FLOP, ~708667 petaFLOP/s-days)\n",
      "Year: 2028 - max log FLOPs 26.0 (~91 septillion FLOP, ~1052531 petaFLOP/s-days)\n",
      "Year: 2029 - max log FLOPs 26.1 (~135 septillion FLOP, ~1563188 petaFLOP/s-days)\n",
      "Year: 2030 - max log FLOPs 26.3 (~201 septillion FLOP, ~2321500 petaFLOP/s-days)\n",
      "Year: 2031 - max log FLOPs 26.5 (~298 septillion FLOP, ~3447501 petaFLOP/s-days)\n",
      "Year: 2032 - max log FLOPs 26.6 (~442 septillion FLOP, ~5119350 petaFLOP/s-days)\n",
      "Year: 2033 - max log FLOPs 26.8 (~657 septillion FLOP, ~7601436 petaFLOP/s-days)\n",
      "Year: 2034 - max log FLOPs 27.0 (~975 septillion FLOP, ~11286055 petaFLOP/s-days)\n",
      "Year: 2035 - max log FLOPs 27.2 (~1 octillion FLOP, ~16755172 petaFLOP/s-days)\n",
      "Year: 2036 - max log FLOPs 27.3 (~2 octillion FLOP, ~24871923 petaFLOP/s-days)\n",
      "Year: 2037 - max log FLOPs 27.5 (~3 octillion FLOP, ~36916125 petaFLOP/s-days)\n",
      "Year: 2038 - max log FLOPs 27.7 (~5 octillion FLOP, ~54784851 petaFLOP/s-days)\n",
      "Year: 2039 - max log FLOPs 27.8 (~7 octillion FLOP, ~81289128 petaFLOP/s-days)\n",
      "Year: 2040 - max log FLOPs 28.0 (~10 octillion FLOP, ~120592537 petaFLOP/s-days)\n",
      "Year: 2041 - max log FLOPs 28.2 (~15 octillion FLOP, ~178859059 petaFLOP/s-days)\n",
      "Year: 2042 - max log FLOPs 28.4 (~23 octillion FLOP, ~265209114 petaFLOP/s-days)\n",
      "Year: 2043 - max log FLOPs 28.5 (~34 octillion FLOP, ~393128896 petaFLOP/s-days)\n",
      "Year: 2044 - max log FLOPs 28.7 (~50 octillion FLOP, ~582545375 petaFLOP/s-days)\n",
      "Year: 2045 - max log FLOPs 28.9 (~75 octillion FLOP, ~862876998 petaFLOP/s-days)\n",
      "Year: 2046 - max log FLOPs 29.0 (~110 octillion FLOP, ~1277511486 petaFLOP/s-days)\n",
      "Year: 2047 - max log FLOPs 29.2 (~163 octillion FLOP, ~1890365773 petaFLOP/s-days)\n",
      "Year: 2048 - max log FLOPs 29.4 (~242 octillion FLOP, ~2795475145 petaFLOP/s-days)\n",
      "Year: 2049 - max log FLOPs 29.6 (~357 octillion FLOP, ~4130974905 petaFLOP/s-days)\n",
      "Year: 2050 - max log FLOPs 29.7 (~527 octillion FLOP, ~6099427353 petaFLOP/s-days)\n",
      "Year: 2051 - max log FLOPs 29.9 (~777 octillion FLOP, ~8997275109 petaFLOP/s-days)\n",
      "Year: 2052 - max log FLOPs 30.1 (~1 nonillion FLOP, ~13257355225 petaFLOP/s-days)\n",
      "Year: 2053 - max log FLOPs 30.2 (~2 nonillion FLOP, ~19509997897 petaFLOP/s-days)\n",
      "Year: 2054 - max log FLOPs 30.4 (~2 nonillion FLOP, ~28670397461 petaFLOP/s-days)\n",
      "Year: 2055 - max log FLOPs 30.6 (~4 nonillion FLOP, ~42062848004 petaFLOP/s-days)\n",
      "Year: 2056 - max log FLOPs 30.7 (~5 nonillion FLOP, ~61596271396 petaFLOP/s-days)\n",
      "Year: 2057 - max log FLOPs 30.9 (~8 nonillion FLOP, ~90010434176 petaFLOP/s-days)\n",
      "Year: 2058 - max log FLOPs 31.1 (~11 nonillion FLOP, ~131218543383 petaFLOP/s-days)\n",
      "Year: 2059 - max log FLOPs 31.2 (~16 nonillion FLOP, ~190779675496 petaFLOP/s-days)\n",
      "Year: 2060 - max log FLOPs 31.4 (~24 nonillion FLOP, ~276543773438 petaFLOP/s-days)\n",
      "Year: 2061 - max log FLOPs 31.5 (~35 nonillion FLOP, ~399522623032 petaFLOP/s-days)\n",
      "Year: 2062 - max log FLOPs 31.7 (~50 nonillion FLOP, ~575051923838 petaFLOP/s-days)\n",
      "Year: 2063 - max log FLOPs 31.9 (~71 nonillion FLOP, ~824321596064 petaFLOP/s-days)\n",
      "Year: 2064 - max log FLOPs 32.0 (~102 nonillion FLOP, ~1176362685639 petaFLOP/s-days)\n",
      "Year: 2065 - max log FLOPs 32.2 (~144 nonillion FLOP, ~1670587983092 petaFLOP/s-days)\n",
      "Year: 2066 - max log FLOPs 32.3 (~204 nonillion FLOP, ~2359987412683 petaFLOP/s-days)\n",
      "Year: 2067 - max log FLOPs 32.5 (~286 nonillion FLOP, ~3315075064743 petaFLOP/s-days)\n",
      "Year: 2068 - max log FLOPs 32.6 (~400 nonillion FLOP, ~4628667642007 petaFLOP/s-days)\n",
      "Year: 2069 - max log FLOPs 32.7 (~555 nonillion FLOP, ~6421536933342 petaFLOP/s-days)\n",
      "Year: 2070 - max log FLOPs 32.9 (~765 nonillion FLOP, ~8848911028159 petaFLOP/s-days)\n",
      "Year: 2071 - max log FLOPs 33.0 (~1 decillion FLOP, ~12107684804322 petaFLOP/s-days)\n",
      "Year: 2072 - max log FLOPs 33.2 (~1 decillion FLOP, ~16444018725398 petaFLOP/s-days)\n",
      "Year: 2073 - max log FLOPs 33.3 (~2 decillion FLOP, ~22160731102960 petaFLOP/s-days)\n",
      "Year: 2074 - max log FLOPs 33.4 (~3 decillion FLOP, ~29623499561245 petaFLOP/s-days)\n",
      "Year: 2075 - max log FLOPs 33.5 (~3 decillion FLOP, ~39264374794131 petaFLOP/s-days)\n",
      "Year: 2076 - max log FLOPs 33.6 (~4 decillion FLOP, ~51580505821359 petaFLOP/s-days)\n",
      "Year: 2077 - max log FLOPs 33.8 (~6 decillion FLOP, ~67125387894364 petaFLOP/s-days)\n",
      "Year: 2078 - max log FLOPs 33.9 (~7 decillion FLOP, ~86489593531289 petaFLOP/s-days)\n",
      "Year: 2079 - max log FLOPs 34.0 (~10 decillion FLOP, ~110268191132931 petaFLOP/s-days)\n",
      "Year: 2080 - max log FLOPs 34.1 (~12 decillion FLOP, ~139013347030921 petaFLOP/s-days)\n",
      "Year: 2081 - max log FLOPs 34.2 (~15 decillion FLOP, ~173173336299071 petaFLOP/s-days)\n",
      "Year: 2082 - max log FLOPs 34.3 (~18 decillion FLOP, ~213023378899955 petaFLOP/s-days)\n",
      "Year: 2083 - max log FLOPs 34.3 (~22 decillion FLOP, ~258598648880998 petaFLOP/s-days)\n",
      "Year: 2084 - max log FLOPs 34.4 (~27 decillion FLOP, ~309643802285945 petaFLOP/s-days)\n",
      "Year: 2085 - max log FLOPs 34.5 (~32 decillion FLOP, ~365594143337194 petaFLOP/s-days)\n",
      "Year: 2086 - max log FLOPs 34.6 (~37 decillion FLOP, ~425599261202638 petaFLOP/s-days)\n",
      "Year: 2087 - max log FLOPs 34.6 (~42 decillion FLOP, ~488590671436980 petaFLOP/s-days)\n",
      "Year: 2088 - max log FLOPs 34.7 (~48 decillion FLOP, ~553383397437205 petaFLOP/s-days)\n",
      "Year: 2089 - max log FLOPs 34.7 (~53 decillion FLOP, ~618792034726374 petaFLOP/s-days)\n",
      "Year: 2090 - max log FLOPs 34.8 (~59 decillion FLOP, ~683738606470024 petaFLOP/s-days)\n",
      "Year: 2091 - max log FLOPs 34.8 (~65 decillion FLOP, ~747333543795643 petaFLOP/s-days)\n",
      "Year: 2092 - max log FLOPs 34.8 (~70 decillion FLOP, ~808920144573588 petaFLOP/s-days)\n",
      "Year: 2093 - max log FLOPs 34.9 (~75 decillion FLOP, ~868082821443871 petaFLOP/s-days)\n",
      "Year: 2094 - max log FLOPs 34.9 (~80 decillion FLOP, ~924626824173553 petaFLOP/s-days)\n",
      "Year: 2095 - max log FLOPs 34.9 (~85 decillion FLOP, ~978540387974546 petaFLOP/s-days)\n",
      "Year: 2096 - max log FLOPs 34.9 (~89 decillion FLOP, ~1029949874209202 petaFLOP/s-days)\n",
      "Year: 2097 - max log FLOPs 35.0 (~93 decillion FLOP, ~1079075927272388 petaFLOP/s-days)\n",
      "Year: 2098 - max log FLOPs 35.0 (~97 decillion FLOP, ~1126195505009792 petaFLOP/s-days)\n",
      "Year: 2099 - max log FLOPs 35.0 (~101 decillion FLOP, ~1171611872034128 petaFLOP/s-days)\n",
      "Year: 2100 - max log FLOPs 35.0 (~105 decillion FLOP, ~1215632705263197 petaFLOP/s-days)\n",
      "Year: 2101 - max log FLOPs 35.0 (~109 decillion FLOP, ~1258555358470423 petaFLOP/s-days)\n",
      "Year: 2102 - max log FLOPs 35.1 (~112 decillion FLOP, ~1300657875807594 petaFLOP/s-days)\n",
      "Year: 2103 - max log FLOPs 35.1 (~116 decillion FLOP, ~1342194299003106 petaFLOP/s-days)\n",
      "Year: 2104 - max log FLOPs 35.1 (~120 decillion FLOP, ~1383392983460700 petaFLOP/s-days)\n",
      "Year: 2105 - max log FLOPs 35.1 (~123 decillion FLOP, ~1424456890975333 petaFLOP/s-days)\n",
      "Year: 2106 - max log FLOPs 35.1 (~127 decillion FLOP, ~1465565083557732 petaFLOP/s-days)\n",
      "Year: 2107 - max log FLOPs 35.1 (~130 decillion FLOP, ~1506874866613620 petaFLOP/s-days)\n",
      "Year: 2108 - max log FLOPs 35.1 (~134 decillion FLOP, ~1548524208008316 petaFLOP/s-days)\n",
      "Year: 2109 - max log FLOPs 35.1 (~137 decillion FLOP, ~1590634193146384 petaFLOP/s-days)\n",
      "Year: 2110 - max log FLOPs 35.1 (~141 decillion FLOP, ~1633311371680482 petaFLOP/s-days)\n",
      "Year: 2111 - max log FLOPs 35.2 (~145 decillion FLOP, ~1676649916972466 petaFLOP/s-days)\n",
      "Year: 2112 - max log FLOPs 35.2 (~149 decillion FLOP, ~1720733562634545 petaFLOP/s-days)\n",
      "Year: 2113 - max log FLOPs 35.2 (~153 decillion FLOP, ~1765637307748249 petaFLOP/s-days)\n",
      "Year: 2114 - max log FLOPs 35.2 (~157 decillion FLOP, ~1811428898637995 petaFLOP/s-days)\n",
      "Year: 2115 - max log FLOPs 35.2 (~161 decillion FLOP, ~1858170104001436 petaFLOP/s-days)\n",
      "Year: 2116 - max log FLOPs 35.2 (~165 decillion FLOP, ~1905917804364840 petaFLOP/s-days)\n",
      "Year: 2117 - max log FLOPs 35.2 (~169 decillion FLOP, ~1954724918032261 petaFLOP/s-days)\n",
      "Year: 2118 - max log FLOPs 35.2 (~173 decillion FLOP, ~2004641185136995 petaFLOP/s-days)\n",
      "Year: 2119 - max log FLOPs 35.2 (~178 decillion FLOP, ~2055713829877825 petaFLOP/s-days)\n",
      "Year: 2120 - max log FLOPs 35.3 (~182 decillion FLOP, ~2107988119037512 petaFLOP/s-days)\n",
      "Year: 2121 - max log FLOPs 35.3 (~187 decillion FLOP, ~2161507832749528 petaFLOP/s-days)\n",
      "Year: 2122 - max log FLOPs 35.3 (~191 decillion FLOP, ~2216315661387857 petaFLOP/s-days)\n"
     ]
    }
   ],
   "source": [
    "for y in years:\n",
    "    print('Year: {} - max log FLOPs {} (~{} FLOP, ~{} petaFLOP/s-days)'.format(y,\n",
    "                                                                               np.round(np.log10(flops_at_max_[y - CURRENT_YEAR]), 1),\n",
    "                                                                               numerize(flops_at_max_[y - CURRENT_YEAR]),\n",
    "                                                                               log_flop_to_petaflop_sdays(np.log10(flops_at_max_[y - CURRENT_YEAR]))))\n",
    "    "
   ]
  },
  {
   "cell_type": "markdown",
   "metadata": {},
   "source": [
    "## Parameters at Max Spend"
   ]
  },
  {
   "cell_type": "code",
   "execution_count": 33,
   "metadata": {},
   "outputs": [
    {
     "name": "stdout",
     "output_type": "stream",
     "text": [
      "Year: 2023 - max log parameters 13.1 (~13 trillion parameters)\n",
      "Year: 2024 - max log parameters 13.3 (~19 trillion parameters)\n",
      "Year: 2025 - max log parameters 13.4 (~28 trillion parameters)\n",
      "Year: 2026 - max log parameters 13.6 (~41 trillion parameters)\n",
      "Year: 2027 - max log parameters 13.8 (~61 trillion parameters)\n",
      "Year: 2028 - max log parameters 14.0 (~91 trillion parameters)\n",
      "Year: 2029 - max log parameters 14.1 (~135 trillion parameters)\n",
      "Year: 2030 - max log parameters 14.3 (~201 trillion parameters)\n",
      "Year: 2031 - max log parameters 14.5 (~298 trillion parameters)\n",
      "Year: 2032 - max log parameters 14.6 (~442 trillion parameters)\n",
      "Year: 2033 - max log parameters 14.8 (~657 trillion parameters)\n",
      "Year: 2034 - max log parameters 15.0 (~975 trillion parameters)\n",
      "Year: 2035 - max log parameters 15.2 (~1 quadrillion parameters)\n",
      "Year: 2036 - max log parameters 15.3 (~2 quadrillion parameters)\n",
      "Year: 2037 - max log parameters 15.5 (~3 quadrillion parameters)\n",
      "Year: 2038 - max log parameters 15.7 (~5 quadrillion parameters)\n",
      "Year: 2039 - max log parameters 15.8 (~7 quadrillion parameters)\n",
      "Year: 2040 - max log parameters 16.0 (~10 quadrillion parameters)\n",
      "Year: 2041 - max log parameters 16.2 (~15 quadrillion parameters)\n",
      "Year: 2042 - max log parameters 16.4 (~23 quadrillion parameters)\n",
      "Year: 2043 - max log parameters 16.5 (~34 quadrillion parameters)\n",
      "Year: 2044 - max log parameters 16.7 (~50 quadrillion parameters)\n",
      "Year: 2045 - max log parameters 16.9 (~75 quadrillion parameters)\n",
      "Year: 2046 - max log parameters 17.0 (~110 quadrillion parameters)\n",
      "Year: 2047 - max log parameters 17.2 (~163 quadrillion parameters)\n",
      "Year: 2048 - max log parameters 17.4 (~242 quadrillion parameters)\n",
      "Year: 2049 - max log parameters 17.6 (~357 quadrillion parameters)\n",
      "Year: 2050 - max log parameters 17.7 (~527 quadrillion parameters)\n",
      "Year: 2051 - max log parameters 17.9 (~777 quadrillion parameters)\n",
      "Year: 2052 - max log parameters 18.1 (~1 quintillion parameters)\n",
      "Year: 2053 - max log parameters 18.2 (~2 quintillion parameters)\n",
      "Year: 2054 - max log parameters 18.4 (~2 quintillion parameters)\n",
      "Year: 2055 - max log parameters 18.6 (~4 quintillion parameters)\n",
      "Year: 2056 - max log parameters 18.7 (~5 quintillion parameters)\n",
      "Year: 2057 - max log parameters 18.9 (~8 quintillion parameters)\n",
      "Year: 2058 - max log parameters 19.1 (~11 quintillion parameters)\n",
      "Year: 2059 - max log parameters 19.2 (~16 quintillion parameters)\n",
      "Year: 2060 - max log parameters 19.4 (~24 quintillion parameters)\n",
      "Year: 2061 - max log parameters 19.5 (~35 quintillion parameters)\n",
      "Year: 2062 - max log parameters 19.7 (~50 quintillion parameters)\n",
      "Year: 2063 - max log parameters 19.9 (~71 quintillion parameters)\n",
      "Year: 2064 - max log parameters 20.0 (~102 quintillion parameters)\n",
      "Year: 2065 - max log parameters 20.2 (~144 quintillion parameters)\n",
      "Year: 2066 - max log parameters 20.3 (~204 quintillion parameters)\n",
      "Year: 2067 - max log parameters 20.5 (~286 quintillion parameters)\n",
      "Year: 2068 - max log parameters 20.6 (~400 quintillion parameters)\n",
      "Year: 2069 - max log parameters 20.7 (~555 quintillion parameters)\n",
      "Year: 2070 - max log parameters 20.9 (~765 quintillion parameters)\n",
      "Year: 2071 - max log parameters 21.0 (~1 sextillion parameters)\n",
      "Year: 2072 - max log parameters 21.2 (~1 sextillion parameters)\n",
      "Year: 2073 - max log parameters 21.3 (~2 sextillion parameters)\n",
      "Year: 2074 - max log parameters 21.4 (~3 sextillion parameters)\n",
      "Year: 2075 - max log parameters 21.5 (~3 sextillion parameters)\n",
      "Year: 2076 - max log parameters 21.6 (~4 sextillion parameters)\n",
      "Year: 2077 - max log parameters 21.8 (~6 sextillion parameters)\n",
      "Year: 2078 - max log parameters 21.9 (~7 sextillion parameters)\n",
      "Year: 2079 - max log parameters 22.0 (~10 sextillion parameters)\n",
      "Year: 2080 - max log parameters 22.1 (~12 sextillion parameters)\n",
      "Year: 2081 - max log parameters 22.2 (~15 sextillion parameters)\n",
      "Year: 2082 - max log parameters 22.3 (~18 sextillion parameters)\n",
      "Year: 2083 - max log parameters 22.3 (~22 sextillion parameters)\n",
      "Year: 2084 - max log parameters 22.4 (~27 sextillion parameters)\n",
      "Year: 2085 - max log parameters 22.5 (~32 sextillion parameters)\n",
      "Year: 2086 - max log parameters 22.6 (~37 sextillion parameters)\n",
      "Year: 2087 - max log parameters 22.6 (~42 sextillion parameters)\n",
      "Year: 2088 - max log parameters 22.7 (~48 sextillion parameters)\n",
      "Year: 2089 - max log parameters 22.7 (~53 sextillion parameters)\n",
      "Year: 2090 - max log parameters 22.8 (~59 sextillion parameters)\n",
      "Year: 2091 - max log parameters 22.8 (~65 sextillion parameters)\n",
      "Year: 2092 - max log parameters 22.8 (~70 sextillion parameters)\n",
      "Year: 2093 - max log parameters 22.9 (~75 sextillion parameters)\n",
      "Year: 2094 - max log parameters 22.9 (~80 sextillion parameters)\n",
      "Year: 2095 - max log parameters 22.9 (~85 sextillion parameters)\n",
      "Year: 2096 - max log parameters 22.9 (~89 sextillion parameters)\n",
      "Year: 2097 - max log parameters 23.0 (~93 sextillion parameters)\n",
      "Year: 2098 - max log parameters 23.0 (~97 sextillion parameters)\n",
      "Year: 2099 - max log parameters 23.0 (~101 sextillion parameters)\n",
      "Year: 2100 - max log parameters 23.0 (~105 sextillion parameters)\n",
      "Year: 2101 - max log parameters 23.0 (~109 sextillion parameters)\n",
      "Year: 2102 - max log parameters 23.1 (~112 sextillion parameters)\n",
      "Year: 2103 - max log parameters 23.1 (~116 sextillion parameters)\n",
      "Year: 2104 - max log parameters 23.1 (~120 sextillion parameters)\n",
      "Year: 2105 - max log parameters 23.1 (~123 sextillion parameters)\n",
      "Year: 2106 - max log parameters 23.1 (~127 sextillion parameters)\n",
      "Year: 2107 - max log parameters 23.1 (~130 sextillion parameters)\n",
      "Year: 2108 - max log parameters 23.1 (~134 sextillion parameters)\n",
      "Year: 2109 - max log parameters 23.1 (~137 sextillion parameters)\n",
      "Year: 2110 - max log parameters 23.1 (~141 sextillion parameters)\n",
      "Year: 2111 - max log parameters 23.2 (~145 sextillion parameters)\n",
      "Year: 2112 - max log parameters 23.2 (~149 sextillion parameters)\n",
      "Year: 2113 - max log parameters 23.2 (~153 sextillion parameters)\n",
      "Year: 2114 - max log parameters 23.2 (~157 sextillion parameters)\n",
      "Year: 2115 - max log parameters 23.2 (~161 sextillion parameters)\n",
      "Year: 2116 - max log parameters 23.2 (~165 sextillion parameters)\n",
      "Year: 2117 - max log parameters 23.2 (~169 sextillion parameters)\n",
      "Year: 2118 - max log parameters 23.2 (~173 sextillion parameters)\n",
      "Year: 2119 - max log parameters 23.2 (~178 sextillion parameters)\n",
      "Year: 2120 - max log parameters 23.3 (~182 sextillion parameters)\n",
      "Year: 2121 - max log parameters 23.3 (~187 sextillion parameters)\n",
      "Year: 2122 - max log parameters 23.3 (~191 sextillion parameters)\n"
     ]
    }
   ],
   "source": [
    "for y in years:\n",
    "    print('Year: {} - max log parameters {} (~{} parameters)'.format(y,\n",
    "                                                                     np.round(np.log10(flops_at_max_[y - CURRENT_YEAR]) - 12, 1),\n",
    "                                                                     numerize(10 ** (np.log10(flops_at_max_[y - CURRENT_YEAR]) - 12))))\n",
    "                                                                     \n",
    "    "
   ]
  },
  {
   "cell_type": "markdown",
   "metadata": {},
   "source": [
    "## Chance of Non-scaling Delay"
   ]
  },
  {
   "cell_type": "code",
   "execution_count": 34,
   "metadata": {},
   "outputs": [
    {
     "data": {
      "text/plain": [
       "Text(0, 0.5, 'chance of non-scaling delay by year')"
      ]
     },
     "execution_count": 34,
     "metadata": {},
     "output_type": "execute_result"
    },
    {
     "data": {
      "image/png": "[encoded data removed]",
      "text/plain": [
       "<Figure size 640x480 with 1 Axes>"
      ]
     },
     "metadata": {},
     "output_type": "display_data"
    }
   ],
   "source": [
    "p_nonscaling_delay_ = np.array([p_nonscaling_delay(variables.get('initial_chance_of_nonscaling_issue', 0),\n",
    "                                                   variables.get('final_chance_of_nonscaling_issue', 0),\n",
    "                                                   year=y,\n",
    "                                                   max_year=variables.get('nonscaling_issue_bottom_year', 0)) for y in years])\n",
    "\n",
    "plt.plot(years[:60], p_nonscaling_delay_[:60])\n",
    "plt.ylabel('chance of non-scaling delay by year')\n"
   ]
  },
  {
   "cell_type": "code",
   "execution_count": 35,
   "metadata": {},
   "outputs": [
    {
     "name": "stdout",
     "output_type": "stream",
     "text": [
      "Year: 2023 - p(nonscaling delay) = 94.2%\n",
      "Year: 2024 - p(nonscaling delay) = 93.9%\n",
      "Year: 2025 - p(nonscaling delay) = 93.6%\n",
      "Year: 2026 - p(nonscaling delay) = 93.1%\n",
      "Year: 2027 - p(nonscaling delay) = 92.4%\n",
      "Year: 2028 - p(nonscaling delay) = 91.6%\n",
      "Year: 2029 - p(nonscaling delay) = 90.5%\n",
      "Year: 2030 - p(nonscaling delay) = 89.0%\n",
      "Year: 2031 - p(nonscaling delay) = 87.2%\n",
      "Year: 2032 - p(nonscaling delay) = 84.9%\n",
      "Year: 2033 - p(nonscaling delay) = 82.1%\n",
      "Year: 2034 - p(nonscaling delay) = 78.7%\n",
      "Year: 2035 - p(nonscaling delay) = 74.8%\n",
      "Year: 2036 - p(nonscaling delay) = 70.4%\n",
      "Year: 2037 - p(nonscaling delay) = 65.6%\n",
      "Year: 2038 - p(nonscaling delay) = 60.8%\n",
      "Year: 2039 - p(nonscaling delay) = 56.0%\n",
      "Year: 2040 - p(nonscaling delay) = 51.5%\n",
      "Year: 2041 - p(nonscaling delay) = 47.4%\n",
      "Year: 2042 - p(nonscaling delay) = 43.9%\n",
      "Year: 2043 - p(nonscaling delay) = 40.9%\n",
      "Year: 2044 - p(nonscaling delay) = 38.4%\n",
      "Year: 2045 - p(nonscaling delay) = 36.5%\n",
      "Year: 2046 - p(nonscaling delay) = 34.9%\n",
      "Year: 2047 - p(nonscaling delay) = 33.7%\n",
      "Year: 2048 - p(nonscaling delay) = 32.8%\n",
      "Year: 2049 - p(nonscaling delay) = 32.1%\n",
      "Year: 2050 - p(nonscaling delay) = 31.6%\n",
      "Year: 2051 - p(nonscaling delay) = 31.2%\n",
      "Year: 2052 - p(nonscaling delay) = 30.9%\n",
      "Year: 2053 - p(nonscaling delay) = 30.6%\n",
      "Year: 2054 - p(nonscaling delay) = 30.5%\n",
      "Year: 2055 - p(nonscaling delay) = 30.4%\n",
      "Year: 2056 - p(nonscaling delay) = 30.3%\n",
      "Year: 2057 - p(nonscaling delay) = 30.2%\n",
      "Year: 2058 - p(nonscaling delay) = 30.1%\n",
      "Year: 2059 - p(nonscaling delay) = 30.1%\n",
      "Year: 2060 - p(nonscaling delay) = 30.1%\n",
      "Year: 2061 - p(nonscaling delay) = 30.1%\n",
      "Year: 2062 - p(nonscaling delay) = 30.0%\n",
      "Year: 2063 - p(nonscaling delay) = 30.0%\n",
      "Year: 2064 - p(nonscaling delay) = 30.0%\n",
      "Year: 2065 - p(nonscaling delay) = 30.0%\n",
      "Year: 2066 - p(nonscaling delay) = 30.0%\n",
      "Year: 2067 - p(nonscaling delay) = 30.0%\n",
      "Year: 2068 - p(nonscaling delay) = 30.0%\n",
      "Year: 2069 - p(nonscaling delay) = 30.0%\n",
      "Year: 2070 - p(nonscaling delay) = 30.0%\n",
      "Year: 2071 - p(nonscaling delay) = 30.0%\n",
      "Year: 2072 - p(nonscaling delay) = 30.0%\n",
      "Year: 2073 - p(nonscaling delay) = 30.0%\n",
      "Year: 2074 - p(nonscaling delay) = 30.0%\n",
      "Year: 2075 - p(nonscaling delay) = 30.0%\n",
      "Year: 2076 - p(nonscaling delay) = 30.0%\n",
      "Year: 2077 - p(nonscaling delay) = 30.0%\n",
      "Year: 2078 - p(nonscaling delay) = 30.0%\n",
      "Year: 2079 - p(nonscaling delay) = 30.0%\n",
      "Year: 2080 - p(nonscaling delay) = 30.0%\n",
      "Year: 2081 - p(nonscaling delay) = 30.0%\n",
      "Year: 2082 - p(nonscaling delay) = 30.0%\n",
      "Year: 2083 - p(nonscaling delay) = 30.0%\n",
      "Year: 2084 - p(nonscaling delay) = 30.0%\n",
      "Year: 2085 - p(nonscaling delay) = 30.0%\n",
      "Year: 2086 - p(nonscaling delay) = 30.0%\n",
      "Year: 2087 - p(nonscaling delay) = 30.0%\n",
      "Year: 2088 - p(nonscaling delay) = 30.0%\n",
      "Year: 2089 - p(nonscaling delay) = 30.0%\n",
      "Year: 2090 - p(nonscaling delay) = 30.0%\n",
      "Year: 2091 - p(nonscaling delay) = 30.0%\n",
      "Year: 2092 - p(nonscaling delay) = 30.0%\n",
      "Year: 2093 - p(nonscaling delay) = 30.0%\n",
      "Year: 2094 - p(nonscaling delay) = 30.0%\n",
      "Year: 2095 - p(nonscaling delay) = 30.0%\n",
      "Year: 2096 - p(nonscaling delay) = 30.0%\n",
      "Year: 2097 - p(nonscaling delay) = 30.0%\n",
      "Year: 2098 - p(nonscaling delay) = 30.0%\n",
      "Year: 2099 - p(nonscaling delay) = 30.0%\n",
      "Year: 2100 - p(nonscaling delay) = 30.0%\n",
      "Year: 2101 - p(nonscaling delay) = 30.0%\n",
      "Year: 2102 - p(nonscaling delay) = 30.0%\n",
      "Year: 2103 - p(nonscaling delay) = 30.0%\n",
      "Year: 2104 - p(nonscaling delay) = 30.0%\n",
      "Year: 2105 - p(nonscaling delay) = 30.0%\n",
      "Year: 2106 - p(nonscaling delay) = 30.0%\n",
      "Year: 2107 - p(nonscaling delay) = 30.0%\n",
      "Year: 2108 - p(nonscaling delay) = 30.0%\n",
      "Year: 2109 - p(nonscaling delay) = 30.0%\n",
      "Year: 2110 - p(nonscaling delay) = 30.0%\n",
      "Year: 2111 - p(nonscaling delay) = 30.0%\n",
      "Year: 2112 - p(nonscaling delay) = 30.0%\n",
      "Year: 2113 - p(nonscaling delay) = 30.0%\n",
      "Year: 2114 - p(nonscaling delay) = 30.0%\n",
      "Year: 2115 - p(nonscaling delay) = 30.0%\n",
      "Year: 2116 - p(nonscaling delay) = 30.0%\n",
      "Year: 2117 - p(nonscaling delay) = 30.0%\n",
      "Year: 2118 - p(nonscaling delay) = 30.0%\n",
      "Year: 2119 - p(nonscaling delay) = 30.0%\n",
      "Year: 2120 - p(nonscaling delay) = 30.0%\n",
      "Year: 2121 - p(nonscaling delay) = 30.0%\n",
      "Year: 2122 - p(nonscaling delay) = 30.0%\n"
     ]
    }
   ],
   "source": [
    "for y in years:\n",
    "    print('Year: {} - p(nonscaling delay) = {}%'.format(y,\n",
    "                                                        np.round(p_nonscaling_delay_[y - CURRENT_YEAR] * 100, 1)))"
   ]
  },
  {
   "cell_type": "markdown",
   "metadata": {},
   "source": [
    "## Run Model"
   ]
  },
  {
   "cell_type": "code",
   "execution_count": 36,
   "metadata": {},
   "outputs": [
    {
     "name": "stdout",
     "output_type": "stream",
     "text": [
      "Loaded\n"
     ]
    }
   ],
   "source": [
    "def run_model(initial_gdp_, tai_flop_size_, nonscaling_delay_, algo_doubling_rate_,\n",
    "              possible_algo_reduction_, initial_flops_per_dollar_, flops_halving_rate_,\n",
    "              max_flops_per_dollar_, initial_pay_, gdp_growth_, max_gdp_frac_,\n",
    "              willingness_ramp_, spend_doubling_time_, initial_chance_of_nonscaling_issue_,\n",
    "              final_chance_of_nonscaling_issue_, nonscaling_issue_bottom_year_,\n",
    "              willingness_spend_horizon_, print_diagnostic):\n",
    "    queue_tai_year = 99999\n",
    "    plt.ioff()\n",
    "    if print_diagnostic:\n",
    "        cost_of_tai_collector = []\n",
    "        willingness_collector = []\n",
    "    \n",
    "    if print_diagnostic:\n",
    "        print('It takes {} log FLOPs (~{}) for transformative capabilities.'.format(np.round(tai_flop_size_, 1),\n",
    "                                                                                    numerize(10 ** tai_flop_size_)))\n",
    "        print('Every {} years algorithms get 2x better, with {} log reductions possible.'.format(np.round(algo_doubling_rate_, 1),\n",
    "                                                                                                 np.round(possible_algo_reduction_, 1)))\n",
    "        print(('FLOPs start at a cost of {} log FLOPs (~{}) per 2022$USD. Every {} years they get ' +\n",
    "               '2x cheaper, to a maximum of {} log FLOPs (~{}) per 2022$USD.').format(np.round(math.log10(initial_flops_per_dollar_), 1),\n",
    "                                                                               numerize(initial_flops_per_dollar_),\n",
    "                                                                               np.round(flops_halving_rate_, 1),\n",
    "                                                                               np.round(math.log10(max_flops_per_dollar_), 1),\n",
    "                                                                               numerize(max_flops_per_dollar_)))\n",
    "        print(('We are willing to pay {} log 2022$USD (~{}) and this increases by {}x per year to a max of {}% of GDP. ' +\n",
    "               'GDP grows at a rate of {}x per year.').format(np.round(math.log10(initial_pay_), 1),\n",
    "                                                              numerize(initial_pay_),\n",
    "                                                              np.round(spend_doubling_time_, 1),\n",
    "                                                              np.round(max_gdp_frac_, 4),\n",
    "                                                              np.round(gdp_growth_, 3)))\n",
    "        if willingness_ramp_ < 1:\n",
    "            print('In this simulation, if we are {}% of the way to paying for TAI, we will ramp to paying for TAI.'.format(np.round(willingness_ramp_ * 100)))\n",
    "\n",
    "        if willingness_spend_horizon_ > 1:\n",
    "            print('We are willing to spend over {} years to make TAI'.format(willingness_spend_horizon_))\n",
    "            \n",
    "        print(('If a non-scaling delay happens, it will take an additional {} years to produce TAI due' +\n",
    "               ' to issues unrelated to scaling FLOP').format(np.round(nonscaling_delay_, 1)))\n",
    "        print('---')\n",
    "    \n",
    "    tai_created = False\n",
    "    is_nonscaling_issue = None\n",
    "    for y in years:\n",
    "        if not tai_created:\n",
    "            flops_needed_ = flops_needed(initial_flops=10 ** tai_flop_size_,\n",
    "                                         doubling_rate=algo_doubling_rate_,\n",
    "                                         possible_reduction=10 ** possible_algo_reduction_,\n",
    "                                         year=(y - CURRENT_YEAR))\n",
    "            \n",
    "            flops_per_dollar_ = flops_per_dollar(initial_flops_per_dollar=initial_flops_per_dollar_,\n",
    "                                                 max_flops_per_dollar=max_flops_per_dollar_,\n",
    "                                                 halving_rate=flops_halving_rate_,\n",
    "                                                 year=(y - CURRENT_YEAR))\n",
    "            \n",
    "            if flops_per_dollar_ > 10 ** 200 or flops_needed_ > 10 ** 200:\n",
    "                flops_needed_ = int(flops_needed_)\n",
    "                flops_per_dollar_ = int(flops_per_dollar_)\n",
    "                cost_of_tai_ = flops_needed_ // flops_per_dollar_\n",
    "            else:\n",
    "                cost_of_tai_ = flops_needed_ / flops_per_dollar_\n",
    "            \n",
    "            willingness_ = willingness_to_pay(initial_gdp=initial_gdp_,\n",
    "                                              gdp_growth=gdp_growth_,\n",
    "                                              initial_pay=initial_pay_,\n",
    "                                              spend_doubling_time=spend_doubling_time_,\n",
    "                                              max_gdp_frac=max_gdp_frac_,\n",
    "                                              year=(y - CURRENT_YEAR))\n",
    "            \n",
    "            if flops_per_dollar_ > 10 ** 200:\n",
    "                willingness_ = int(willingness_)\n",
    "            if willingness_ > 10 ** 200:\n",
    "                flops_per_dollar_ = int(flops_per_dollar_)\n",
    "            \n",
    "            if print_diagnostic:\n",
    "                cost_of_tai_collector.append(cost_of_tai_)\n",
    "                willingness_collector.append(willingness_)\n",
    "            \n",
    "            total_compute_ = willingness_ * flops_per_dollar_\n",
    "            \n",
    "            if print_diagnostic:\n",
    "                out_str = ('Year: {} - {} max log FLOP ({}) available - TAI takes {} log FLOP ({}) - ' +\n",
    "                           'log $ {} to buy TAI ({}) vs. willingness to pay log $ {} ({}) - {} log FLOPS per $ ({})')\n",
    "                print(out_str.format(y,\n",
    "                                     np.round(math.log10(total_compute_), 1),\n",
    "                                     numerize(total_compute_),\n",
    "                                     np.round(math.log10(flops_needed_), 1),\n",
    "                                     numerize(flops_needed_),\n",
    "                                     np.round(math.log10(cost_of_tai_), 1),\n",
    "                                     numerize(cost_of_tai_),\n",
    "                                     np.round(math.log10(willingness_), 1),\n",
    "                                     numerize(willingness_),\n",
    "                                     np.round(math.log10(flops_per_dollar_), 1),\n",
    "                                     numerize(flops_per_dollar_)))\n",
    "            \n",
    "            if cost_of_tai_ > 10 ** 200:\n",
    "                spend_tai_years = int(cost_of_tai_) // int(willingness_)\n",
    "            else:\n",
    "                spend_tai_years = cost_of_tai_ / willingness_\n",
    "                \n",
    "            if not is_nonscaling_issue and queue_tai_year < 99999 and print_diagnostic:\n",
    "                print('-$- {}/{}'.format(y, queue_tai_year))\n",
    "            if (cost_of_tai_ * willingness_ramp_) <= willingness_ or y >= queue_tai_year:\n",
    "                if is_nonscaling_issue is None:\n",
    "                    p_nonscaling_delay_ = p_nonscaling_delay(initial_chance_of_nonscaling_issue_,\n",
    "                                                             final_chance_of_nonscaling_issue_,\n",
    "                                                             year=y,\n",
    "                                                             max_year=nonscaling_issue_bottom_year_)\n",
    "                    is_nonscaling_issue = sq.event(p_nonscaling_delay_)\n",
    "                    nonscaling_countdown = nonscaling_delay_\n",
    "                    if print_diagnostic:\n",
    "                        print('-- {} p_nonscaling_issue={}'.format('Nonscaling delay occured' if is_nonscaling_issue else 'Nonscaling issue did not occur',\n",
    "                                                                   np.round(p_nonscaling_delay_, 4)))\n",
    "                \n",
    "                if not is_nonscaling_issue or nonscaling_countdown <= 0.1:\n",
    "                    if print_diagnostic:\n",
    "                        print('--- /!\\ TAI CREATED in {}'.format(y))\n",
    "                        plot_tai(plt, years, cost_of_tai_collector, willingness_collector).show()\n",
    "                    return y\n",
    "                else:\n",
    "                    if print_diagnostic:\n",
    "                        print('/!\\ FLOPs for TAI sufficient but needs {} more years to solve non-scaling issues'.format(np.round(nonscaling_countdown, 1)))\n",
    "                    nonscaling_countdown -= 1\n",
    "            elif (not is_nonscaling_issue and willingness_spend_horizon_ > 1 and\n",
    "                  spend_tai_years <= willingness_spend_horizon_ and y + math.ceil(spend_tai_years) < queue_tai_year):\n",
    "                queue_tai_year = y + math.ceil(spend_tai_years)\n",
    "                if print_diagnostic:\n",
    "                    print('-$- We have enough spend to make TAI in {} years (in {}) if sustained.'.format(math.ceil(spend_tai_years),\n",
    "                                                                                                          queue_tai_year))\n",
    "                \n",
    "    if not tai_created:\n",
    "        if print_diagnostic:\n",
    "            print('--- :/ TAI NOT CREATED BEFORE {}'.format(MAX_YEAR + 1))\n",
    "            plot_tai(plt, years, cost_of_tai_collector, willingness_collector).show()\n",
    "        return MAX_YEAR + 1\n",
    "    \n",
    "    \n",
    "def define_event(verbose=False):\n",
    "    tai_flop_size_ = sq.sample(sq.discrete(variables['tai_flop_size']))\n",
    "\n",
    "    if tai_flop_size_ > 300:\n",
    "        tai_flop_size_ = int(tai_flop_size_) # Handle overflow errors\n",
    "    \n",
    "    algo_doubling_rate_ = algo_halving_fn(sq.sample(variables['algo_doubling_rate_min']),\n",
    "                                          sq.sample(variables['algo_doubling_rate_max']),\n",
    "                                          tai_flop_size_)\n",
    "    \n",
    "    possible_algo_reduction_ = possible_algo_reduction_fn(sq.sample(variables['min_reduction']),\n",
    "                                                          sq.sample(variables['max_reduction']),\n",
    "                                                          tai_flop_size_)\n",
    "    \n",
    "    initial_flops_per_dollar_ = 10 ** sq.sample(variables['initial_flops_per_dollar'])\n",
    "    flops_halving_rate_ = sq.sample(variables['flops_halving_rate'])\n",
    "    max_flops_per_dollar_ = 10 ** sq.sample(variables['max_flops_per_dollar'])\n",
    "    initial_pay_ = 10 ** sq.sample(variables['initial_pay'])\n",
    "    gdp_growth_ = sq.sample(variables['gdp_growth'])\n",
    "    max_gdp_frac_ = sq.sample(variables['max_gdp_frac'])\n",
    "    \n",
    "    willingness_ramp_happens = sq.event_occurs(variables.get('p_willingness_ramp', 0))\n",
    "    if willingness_ramp_happens:\n",
    "        willingness_ramp_ = sq.sample(variables.get('willingness_ramp', 1))\n",
    "    else:\n",
    "        willingness_ramp_ = 1\n",
    "    \n",
    "    initial_gdp_ = variables['initial_gdp']\n",
    "    spend_doubling_time_ = sq.sample(variables['spend_doubling_time'])\n",
    "    nonscaling_delay_ = sq.sample(variables.get('nonscaling_delay', sq.const(0)))\n",
    "    initial_chance_of_nonscaling_issue_ = variables.get('initial_chance_of_nonscaling_issue', 0)\n",
    "    final_chance_of_nonscaling_issue_ = variables.get('final_chance_of_nonscaling_issue', 0)\n",
    "    nonscaling_issue_bottom_year_ = variables.get('nonscaling_issue_bottom_year', 0)\n",
    "    willingness_spend_horizon_ = int(sq.sample(variables.get('willingness_spend_horizon', sq.const(1))))\n",
    "    \n",
    "    tai_year = run_model(initial_gdp_=initial_gdp_,\n",
    "                         tai_flop_size_=tai_flop_size_,\n",
    "                         nonscaling_delay_=nonscaling_delay_,\n",
    "                         algo_doubling_rate_=algo_doubling_rate_,\n",
    "                         possible_algo_reduction_=possible_algo_reduction_,\n",
    "                         initial_flops_per_dollar_=initial_flops_per_dollar_,\n",
    "                         flops_halving_rate_=flops_halving_rate_,\n",
    "                         max_flops_per_dollar_=max_flops_per_dollar_,\n",
    "                         initial_pay_=initial_pay_,\n",
    "                         gdp_growth_=gdp_growth_,\n",
    "                         max_gdp_frac_=max_gdp_frac_,\n",
    "                         willingness_ramp_=willingness_ramp_,\n",
    "                         spend_doubling_time_=spend_doubling_time_,\n",
    "                         initial_chance_of_nonscaling_issue_=initial_chance_of_nonscaling_issue_,\n",
    "                         final_chance_of_nonscaling_issue_=final_chance_of_nonscaling_issue_,\n",
    "                         nonscaling_issue_bottom_year_=nonscaling_issue_bottom_year_,\n",
    "                         willingness_spend_horizon_=willingness_spend_horizon_,\n",
    "                         print_diagnostic=verbose)\n",
    "    \n",
    "    return {'tai_year': tai_year,\n",
    "            'initial_gdp': initial_gdp_,\n",
    "            'tai_flop_size': tai_flop_size_,\n",
    "            'nonscaling_delay': nonscaling_delay_,\n",
    "            'algo_doubling_rte': algo_doubling_rate_,\n",
    "            'possible_algo_reduction': possible_algo_reduction_,\n",
    "            'initial_flops_per_dollar': float(initial_flops_per_dollar_),\n",
    "            'flops_halving_rate': flops_halving_rate_,\n",
    "            'max_flops_per_dollar': float(max_flops_per_dollar_),\n",
    "            'initial_pay': initial_pay_,\n",
    "            'gdp_growth': gdp_growth_,\n",
    "            'max_gdp_frac': max_gdp_frac_,\n",
    "            'willingness_ramp_': willingness_ramp_,\n",
    "            'spend_doubling_time_': spend_doubling_time_,\n",
    "            'initial_chance_of_nonscaling_issue': initial_chance_of_nonscaling_issue_,\n",
    "            'final_chance_of_nonscaling_issue': final_chance_of_nonscaling_issue_,\n",
    "            'nonscaling_issue_bottom_year': nonscaling_issue_bottom_year_,\n",
    "            'willingness_spend_horizon_': willingness_spend_horizon_}\n",
    "\n",
    "print('Loaded')\n"
   ]
  },
  {
   "cell_type": "code",
   "execution_count": 37,
   "metadata": {},
   "outputs": [
    {
     "name": "stdout",
     "output_type": "stream",
     "text": [
      "It takes 36.7 log FLOPs (~5 thousand decillion) for transformative capabilities.\n",
      "Every 1.5 years algorithms get 2x better, with 3 log reductions possible.\n",
      "FLOPs start at a cost of 18.0 log FLOPs (~1 quintillion) per 2022$USD. Every 2.4 years they get 2x cheaper, to a maximum of 24.0 log FLOPs (~1 septillion) per 2022$USD.\n",
      "We are willing to pay 7.1 log 2022$USD (~13 million) and this increases by 3.9x per year to a max of 0.0% of GDP. GDP grows at a rate of 1.016x per year.\n",
      "If a non-scaling delay happens, it will take an additional 7.7 years to produce TAI due to issues unrelated to scaling FLOP\n",
      "---\n",
      "Year: 2023 - 25.1 max log FLOP (12 septillion) available - TAI takes 36.7 log FLOP (5 thousand decillion) - log $ 18.7 to buy TAI (5 quintillion) vs. willingness to pay log $ 7.1 (12 million) - 18.0 log FLOPS per $ (1000 quadrillion)\n",
      "Year: 2024 - 25.3 max log FLOP (20 septillion) available - TAI takes 36.5 log FLOP (3 thousand decillion) - log $ 18.3 to buy TAI (2 quintillion) vs. willingness to pay log $ 7.2 (15 million) - 18.1 log FLOPS per $ (1 quintillion)\n",
      "Year: 2025 - 25.5 max log FLOP (32 septillion) available - TAI takes 36.3 log FLOP (2 thousand decillion) - log $ 18.0 to buy TAI (1 quintillion) vs. willingness to pay log $ 7.2 (18 million) - 18.3 log FLOPS per $ (2 quintillion)\n",
      "Year: 2026 - 25.7 max log FLOP (50 septillion) available - TAI takes 36.1 log FLOP (1 thousand decillion) - log $ 17.7 to buy TAI (476 quadrillion) vs. willingness to pay log $ 7.3 (21 million) - 18.4 log FLOPS per $ (2 quintillion)\n",
      "Year: 2027 - 25.9 max log FLOP (80 septillion) available - TAI takes 35.9 log FLOP (727 decillion) - log $ 17.4 to buy TAI (225 quadrillion) vs. willingness to pay log $ 7.4 (25 million) - 18.5 log FLOPS per $ (3 quintillion)\n",
      "Year: 2028 - 26.1 max log FLOP (127 septillion) available - TAI takes 35.7 log FLOP (461 decillion) - log $ 17.0 to buy TAI (106 quadrillion) vs. willingness to pay log $ 7.5 (29 million) - 18.6 log FLOPS per $ (4 quintillion)\n",
      "Year: 2029 - 26.3 max log FLOP (202 septillion) available - TAI takes 35.5 log FLOP (292 decillion) - log $ 16.7 to buy TAI (50 quadrillion) vs. willingness to pay log $ 7.5 (35 million) - 18.8 log FLOPS per $ (6 quintillion)\n",
      "Year: 2030 - 26.5 max log FLOP (321 septillion) available - TAI takes 35.3 log FLOP (186 decillion) - log $ 16.4 to buy TAI (24 quadrillion) vs. willingness to pay log $ 7.6 (41 million) - 18.9 log FLOPS per $ (8 quintillion)\n",
      "Year: 2031 - 26.7 max log FLOP (510 septillion) available - TAI takes 35.1 log FLOP (119 decillion) - log $ 16.1 to buy TAI (11 quadrillion) vs. willingness to pay log $ 7.7 (49 million) - 19.0 log FLOPS per $ (10 quintillion)\n",
      "Year: 2032 - 26.9 max log FLOP (808 septillion) available - TAI takes 34.9 log FLOP (77 decillion) - log $ 15.7 to buy TAI (6 quadrillion) vs. willingness to pay log $ 7.8 (58 million) - 19.1 log FLOPS per $ (14 quintillion)\n",
      "Year: 2033 - 27.1 max log FLOP (1 octillion) available - TAI takes 34.7 log FLOP (50 decillion) - log $ 15.4 to buy TAI (3 quadrillion) vs. willingness to pay log $ 7.8 (68 million) - 19.3 log FLOPS per $ (19 quintillion)\n",
      "Year: 2034 - 27.3 max log FLOP (2 octillion) available - TAI takes 34.5 log FLOP (33 decillion) - log $ 15.1 to buy TAI (1 quadrillion) vs. willingness to pay log $ 7.9 (80 million) - 19.4 log FLOPS per $ (25 quintillion)\n",
      "Year: 2035 - 27.5 max log FLOP (3 octillion) available - TAI takes 34.4 log FLOP (23 decillion) - log $ 14.8 to buy TAI (677 trillion) vs. willingness to pay log $ 8.0 (95 million) - 19.5 log FLOPS per $ (34 quintillion)\n",
      "Year: 2036 - 27.7 max log FLOP (5 octillion) available - TAI takes 34.2 log FLOP (16 decillion) - log $ 14.6 to buy TAI (356 trillion) vs. willingness to pay log $ 8.0 (111 million) - 19.7 log FLOPS per $ (45 quintillion)\n",
      "Year: 2037 - 27.9 max log FLOP (8 octillion) available - TAI takes 34.1 log FLOP (12 decillion) - log $ 14.3 to buy TAI (195 trillion) vs. willingness to pay log $ 8.1 (130 million) - 19.8 log FLOPS per $ (61 quintillion)\n",
      "Year: 2038 - 28.1 max log FLOP (12 octillion) available - TAI takes 34.0 log FLOP (9 decillion) - log $ 14.1 to buy TAI (113 trillion) vs. willingness to pay log $ 8.2 (152 million) - 19.9 log FLOPS per $ (81 quintillion)\n",
      "Year: 2039 - 28.3 max log FLOP (19 octillion) available - TAI takes 33.9 log FLOP (7 decillion) - log $ 13.8 to buy TAI (68 trillion) vs. willingness to pay log $ 8.2 (177 million) - 20.0 log FLOPS per $ (109 quintillion)\n",
      "Year: 2040 - 28.5 max log FLOP (30 octillion) available - TAI takes 33.8 log FLOP (6 decillion) - log $ 13.6 to buy TAI (44 trillion) vs. willingness to pay log $ 8.3 (205 million) - 20.2 log FLOPS per $ (146 quintillion)\n",
      "Year: 2041 - 28.7 max log FLOP (46 octillion) available - TAI takes 33.8 log FLOP (6 decillion) - log $ 13.5 to buy TAI (29 trillion) vs. willingness to pay log $ 8.4 (237 million) - 20.3 log FLOPS per $ (195 quintillion)\n",
      "Year: 2042 - 28.9 max log FLOP (72 octillion) available - TAI takes 33.7 log FLOP (5 decillion) - log $ 13.3 to buy TAI (20 trillion) vs. willingness to pay log $ 8.4 (273 million) - 20.4 log FLOPS per $ (262 quintillion)\n",
      "Year: 2043 - 29.0 max log FLOP (110 octillion) available - TAI takes 33.7 log FLOP (5 decillion) - log $ 13.2 to buy TAI (14 trillion) vs. willingness to pay log $ 8.5 (313 million) - 20.5 log FLOPS per $ (351 quintillion)\n",
      "Year: 2044 - 29.2 max log FLOP (168 octillion) available - TAI takes 33.7 log FLOP (5 decillion) - log $ 13.0 to buy TAI (10 trillion) vs. willingness to pay log $ 8.6 (357 million) - 20.7 log FLOPS per $ (471 quintillion)\n",
      "Year: 2045 - 29.4 max log FLOP (255 octillion) available - TAI takes 33.7 log FLOP (5 decillion) - log $ 12.9 to buy TAI (7 trillion) vs. willingness to pay log $ 8.6 (405 million) - 20.8 log FLOPS per $ (631 quintillion)\n",
      "Year: 2046 - 29.6 max log FLOP (386 octillion) available - TAI takes 33.7 log FLOP (5 decillion) - log $ 12.7 to buy TAI (6 trillion) vs. willingness to pay log $ 8.7 (456 million) - 20.9 log FLOPS per $ (846 quintillion)\n",
      "Year: 2047 - 29.8 max log FLOP (580 octillion) available - TAI takes 33.7 log FLOP (5 decillion) - log $ 12.6 to buy TAI (4 trillion) vs. willingness to pay log $ 8.7 (512 million) - 21.1 log FLOPS per $ (1 sextillion)\n",
      "Year: 2048 - 29.9 max log FLOP (866 octillion) available - TAI takes 33.7 log FLOP (5 decillion) - log $ 12.5 to buy TAI (3 trillion) vs. willingness to pay log $ 8.8 (570 million) - 21.2 log FLOPS per $ (2 sextillion)\n",
      "Year: 2049 - 30.1 max log FLOP (1 nonillion) available - TAI takes 33.7 log FLOP (5 decillion) - log $ 12.4 to buy TAI (2 trillion) vs. willingness to pay log $ 8.8 (631 million) - 21.3 log FLOPS per $ (2 sextillion)\n",
      "Year: 2050 - 30.3 max log FLOP (2 nonillion) available - TAI takes 33.7 log FLOP (5 decillion) - log $ 12.2 to buy TAI (2 trillion) vs. willingness to pay log $ 8.8 (694 million) - 21.4 log FLOPS per $ (3 sextillion)\n",
      "Year: 2051 - 30.4 max log FLOP (3 nonillion) available - TAI takes 33.7 log FLOP (5 decillion) - log $ 12.1 to buy TAI (1 trillion) vs. willingness to pay log $ 8.9 (759 million) - 21.6 log FLOPS per $ (4 sextillion)\n",
      "Year: 2052 - 30.6 max log FLOP (4 nonillion) available - TAI takes 33.7 log FLOP (5 decillion) - log $ 12.0 to buy TAI (930 billion) vs. willingness to pay log $ 8.9 (824 million) - 21.7 log FLOPS per $ (5 sextillion)\n",
      "Year: 2053 - 30.8 max log FLOP (6 nonillion) available - TAI takes 33.7 log FLOP (5 decillion) - log $ 11.8 to buy TAI (694 billion) vs. willingness to pay log $ 8.9 (889 million) - 21.8 log FLOPS per $ (7 sextillion)\n",
      "Year: 2054 - 30.9 max log FLOP (8 nonillion) available - TAI takes 33.7 log FLOP (5 decillion) - log $ 11.7 to buy TAI (519 billion) vs. willingness to pay log $ 9.0 (954 million) - 21.9 log FLOPS per $ (9 sextillion)\n",
      "Year: 2055 - 31.1 max log FLOP (12 nonillion) available - TAI takes 33.7 log FLOP (5 decillion) - log $ 11.6 to buy TAI (388 billion) vs. willingness to pay log $ 9.0 (1 billion) - 22.1 log FLOPS per $ (12 sextillion)\n",
      "Year: 2056 - 31.2 max log FLOP (17 nonillion) available - TAI takes 33.7 log FLOP (5 decillion) - log $ 11.5 to buy TAI (291 billion) vs. willingness to pay log $ 9.0 (1 billion) - 22.2 log FLOPS per $ (16 sextillion)\n",
      "Year: 2057 - 31.4 max log FLOP (24 nonillion) available - TAI takes 33.7 log FLOP (5 decillion) - log $ 11.3 to buy TAI (218 billion) vs. willingness to pay log $ 9.1 (1 billion) - 22.3 log FLOPS per $ (21 sextillion)\n",
      "Year: 2058 - 31.5 max log FLOP (33 nonillion) available - TAI takes 33.7 log FLOP (5 decillion) - log $ 11.2 to buy TAI (164 billion) vs. willingness to pay log $ 9.1 (1 billion) - 22.4 log FLOPS per $ (28 sextillion)\n",
      "Year: 2059 - 31.7 max log FLOP (46 nonillion) available - TAI takes 33.7 log FLOP (5 decillion) - log $ 11.1 to buy TAI (123 billion) vs. willingness to pay log $ 9.1 (1 billion) - 22.6 log FLOPS per $ (37 sextillion)\n",
      "Year: 2060 - 31.8 max log FLOP (64 nonillion) available - TAI takes 33.7 log FLOP (5 decillion) - log $ 11.0 to buy TAI (93 billion) vs. willingness to pay log $ 9.1 (1 billion) - 22.7 log FLOPS per $ (49 sextillion)\n",
      "Year: 2061 - 31.9 max log FLOP (88 nonillion) available - TAI takes 33.7 log FLOP (5 decillion) - log $ 10.8 to buy TAI (71 billion) vs. willingness to pay log $ 9.1 (1 billion) - 22.8 log FLOPS per $ (64 sextillion)\n",
      "Year: 2062 - 32.1 max log FLOP (119 nonillion) available - TAI takes 33.7 log FLOP (5 decillion) - log $ 10.7 to buy TAI (54 billion) vs. willingness to pay log $ 9.2 (1 billion) - 22.9 log FLOPS per $ (84 sextillion)\n",
      "Year: 2063 - 32.2 max log FLOP (161 nonillion) available - TAI takes 33.7 log FLOP (5 decillion) - log $ 10.6 to buy TAI (41 billion) vs. willingness to pay log $ 9.2 (1 billion) - 23.0 log FLOPS per $ (110 sextillion)\n",
      "Year: 2064 - 32.3 max log FLOP (214 nonillion) available - TAI takes 33.7 log FLOP (5 decillion) - log $ 10.5 to buy TAI (32 billion) vs. willingness to pay log $ 9.2 (2 billion) - 23.2 log FLOPS per $ (142 sextillion)\n",
      "Year: 2065 - 32.4 max log FLOP (282 nonillion) available - TAI takes 33.7 log FLOP (5 decillion) - log $ 10.4 to buy TAI (25 billion) vs. willingness to pay log $ 9.2 (2 billion) - 23.3 log FLOPS per $ (182 sextillion)\n",
      "Year: 2066 - 32.6 max log FLOP (365 nonillion) available - TAI takes 33.7 log FLOP (5 decillion) - log $ 10.3 to buy TAI (20 billion) vs. willingness to pay log $ 9.2 (2 billion) - 23.4 log FLOPS per $ (229 sextillion)\n",
      "Year: 2067 - 32.7 max log FLOP (466 nonillion) available - TAI takes 33.7 log FLOP (5 decillion) - log $ 10.2 to buy TAI (16 billion) vs. willingness to pay log $ 9.2 (2 billion) - 23.5 log FLOPS per $ (285 sextillion)\n",
      "Year: 2068 - 32.8 max log FLOP (583 nonillion) available - TAI takes 33.7 log FLOP (5 decillion) - log $ 10.1 to buy TAI (13 billion) vs. willingness to pay log $ 9.2 (2 billion) - 23.5 log FLOPS per $ (348 sextillion)\n",
      "Year: 2069 - 32.9 max log FLOP (715 nonillion) available - TAI takes 33.7 log FLOP (5 decillion) - log $ 10.0 to buy TAI (11 billion) vs. willingness to pay log $ 9.2 (2 billion) - 23.6 log FLOPS per $ (417 sextillion)\n",
      "Year: 2070 - 32.9 max log FLOP (858 nonillion) available - TAI takes 33.7 log FLOP (5 decillion) - log $ 10.0 to buy TAI (9 billion) vs. willingness to pay log $ 9.2 (2 billion) - 23.7 log FLOPS per $ (490 sextillion)\n",
      "Year: 2071 - 33.0 max log FLOP (1 decillion) available - TAI takes 33.7 log FLOP (5 decillion) - log $ 9.9 to buy TAI (8 billion) vs. willingness to pay log $ 9.3 (2 billion) - 23.8 log FLOPS per $ (563 sextillion)\n",
      "Year: 2072 - 33.1 max log FLOP (1 decillion) available - TAI takes 33.7 log FLOP (5 decillion) - log $ 9.9 to buy TAI (7 billion) vs. willingness to pay log $ 9.3 (2 billion) - 23.8 log FLOPS per $ (633 sextillion)\n",
      "Year: 2073 - 33.1 max log FLOP (1 decillion) available - TAI takes 33.7 log FLOP (5 decillion) - log $ 9.8 to buy TAI (7 billion) vs. willingness to pay log $ 9.3 (2 billion) - 23.8 log FLOPS per $ (698 sextillion)\n",
      "Year: 2074 - 33.2 max log FLOP (1 decillion) available - TAI takes 33.7 log FLOP (5 decillion) - log $ 9.8 to buy TAI (6 billion) vs. willingness to pay log $ 9.3 (2 billion) - 23.9 log FLOPS per $ (756 sextillion)\n",
      "Year: 2075 - 33.2 max log FLOP (2 decillion) available - TAI takes 33.7 log FLOP (5 decillion) - log $ 9.8 to buy TAI (6 billion) vs. willingness to pay log $ 9.3 (2 billion) - 23.9 log FLOPS per $ (806 sextillion)\n",
      "Year: 2076 - 33.2 max log FLOP (2 decillion) available - TAI takes 33.7 log FLOP (5 decillion) - log $ 9.7 to buy TAI (5 billion) vs. willingness to pay log $ 9.3 (2 billion) - 23.9 log FLOPS per $ (848 sextillion)\n",
      "Year: 2077 - 33.2 max log FLOP (2 decillion) available - TAI takes 33.7 log FLOP (5 decillion) - log $ 9.7 to buy TAI (5 billion) vs. willingness to pay log $ 9.3 (2 billion) - 23.9 log FLOPS per $ (882 sextillion)\n",
      "Year: 2078 - 33.3 max log FLOP (2 decillion) available - TAI takes 33.7 log FLOP (5 decillion) - log $ 9.7 to buy TAI (5 billion) vs. willingness to pay log $ 9.3 (2 billion) - 24.0 log FLOPS per $ (909 sextillion)\n",
      "Year: 2079 - 33.3 max log FLOP (2 decillion) available - TAI takes 33.7 log FLOP (5 decillion) - log $ 9.7 to buy TAI (5 billion) vs. willingness to pay log $ 9.3 (2 billion) - 24.0 log FLOPS per $ (931 sextillion)\n",
      "Year: 2080 - 33.3 max log FLOP (2 decillion) available - TAI takes 33.7 log FLOP (5 decillion) - log $ 9.7 to buy TAI (5 billion) vs. willingness to pay log $ 9.3 (2 billion) - 24.0 log FLOPS per $ (947 sextillion)\n",
      "Year: 2081 - 33.3 max log FLOP (2 decillion) available - TAI takes 33.7 log FLOP (5 decillion) - log $ 9.7 to buy TAI (5 billion) vs. willingness to pay log $ 9.3 (2 billion) - 24.0 log FLOPS per $ (960 sextillion)\n",
      "Year: 2082 - 33.3 max log FLOP (2 decillion) available - TAI takes 33.7 log FLOP (5 decillion) - log $ 9.7 to buy TAI (5 billion) vs. willingness to pay log $ 9.3 (2 billion) - 24.0 log FLOPS per $ (970 sextillion)\n",
      "Year: 2083 - 33.3 max log FLOP (2 decillion) available - TAI takes 33.7 log FLOP (5 decillion) - log $ 9.7 to buy TAI (5 billion) vs. willingness to pay log $ 9.3 (2 billion) - 24.0 log FLOPS per $ (977 sextillion)\n",
      "Year: 2084 - 33.3 max log FLOP (2 decillion) available - TAI takes 33.7 log FLOP (5 decillion) - log $ 9.7 to buy TAI (5 billion) vs. willingness to pay log $ 9.4 (2 billion) - 24.0 log FLOPS per $ (983 sextillion)\n",
      "Year: 2085 - 33.4 max log FLOP (2 decillion) available - TAI takes 33.7 log FLOP (5 decillion) - log $ 9.7 to buy TAI (5 billion) vs. willingness to pay log $ 9.4 (2 billion) - 24.0 log FLOPS per $ (987 sextillion)\n",
      "Year: 2086 - 33.4 max log FLOP (2 decillion) available - TAI takes 33.7 log FLOP (5 decillion) - log $ 9.7 to buy TAI (5 billion) vs. willingness to pay log $ 9.4 (2 billion) - 24.0 log FLOPS per $ (991 sextillion)\n",
      "Year: 2087 - 33.4 max log FLOP (2 decillion) available - TAI takes 33.7 log FLOP (5 decillion) - log $ 9.7 to buy TAI (5 billion) vs. willingness to pay log $ 9.4 (2 billion) - 24.0 log FLOPS per $ (993 sextillion)\n",
      "Year: 2088 - 33.4 max log FLOP (2 decillion) available - TAI takes 33.7 log FLOP (5 decillion) - log $ 9.7 to buy TAI (5 billion) vs. willingness to pay log $ 9.4 (2 billion) - 24.0 log FLOPS per $ (995 sextillion)\n",
      "Year: 2089 - 33.4 max log FLOP (2 decillion) available - TAI takes 33.7 log FLOP (5 decillion) - log $ 9.7 to buy TAI (5 billion) vs. willingness to pay log $ 9.4 (2 billion) - 24.0 log FLOPS per $ (996 sextillion)\n",
      "Year: 2090 - 33.4 max log FLOP (2 decillion) available - TAI takes 33.7 log FLOP (5 decillion) - log $ 9.7 to buy TAI (5 billion) vs. willingness to pay log $ 9.4 (2 billion) - 24.0 log FLOPS per $ (997 sextillion)\n",
      "Year: 2091 - 33.4 max log FLOP (3 decillion) available - TAI takes 33.7 log FLOP (5 decillion) - log $ 9.7 to buy TAI (5 billion) vs. willingness to pay log $ 9.4 (3 billion) - 24.0 log FLOPS per $ (998 sextillion)\n",
      "Year: 2092 - 33.4 max log FLOP (3 decillion) available - TAI takes 33.7 log FLOP (5 decillion) - log $ 9.7 to buy TAI (5 billion) vs. willingness to pay log $ 9.4 (3 billion) - 24.0 log FLOPS per $ (998 sextillion)\n",
      "Year: 2093 - 33.4 max log FLOP (3 decillion) available - TAI takes 33.7 log FLOP (5 decillion) - log $ 9.7 to buy TAI (5 billion) vs. willingness to pay log $ 9.4 (3 billion) - 24.0 log FLOPS per $ (999 sextillion)\n",
      "Year: 2094 - 33.4 max log FLOP (3 decillion) available - TAI takes 33.7 log FLOP (5 decillion) - log $ 9.7 to buy TAI (5 billion) vs. willingness to pay log $ 9.4 (3 billion) - 24.0 log FLOPS per $ (999 sextillion)\n",
      "Year: 2095 - 33.4 max log FLOP (3 decillion) available - TAI takes 33.7 log FLOP (5 decillion) - log $ 9.7 to buy TAI (5 billion) vs. willingness to pay log $ 9.4 (3 billion) - 24.0 log FLOPS per $ (999 sextillion)\n",
      "Year: 2096 - 33.4 max log FLOP (3 decillion) available - TAI takes 33.7 log FLOP (5 decillion) - log $ 9.7 to buy TAI (5 billion) vs. willingness to pay log $ 9.4 (3 billion) - 24.0 log FLOPS per $ (999 sextillion)\n",
      "Year: 2097 - 33.4 max log FLOP (3 decillion) available - TAI takes 33.7 log FLOP (5 decillion) - log $ 9.7 to buy TAI (5 billion) vs. willingness to pay log $ 9.4 (3 billion) - 24.0 log FLOPS per $ (1000 sextillion)\n",
      "Year: 2098 - 33.4 max log FLOP (3 decillion) available - TAI takes 33.7 log FLOP (5 decillion) - log $ 9.7 to buy TAI (5 billion) vs. willingness to pay log $ 9.4 (3 billion) - 24.0 log FLOPS per $ (1000 sextillion)\n",
      "Year: 2099 - 33.5 max log FLOP (3 decillion) available - TAI takes 33.7 log FLOP (5 decillion) - log $ 9.7 to buy TAI (5 billion) vs. willingness to pay log $ 9.5 (3 billion) - 24.0 log FLOPS per $ (1000 sextillion)\n",
      "Year: 2100 - 33.5 max log FLOP (3 decillion) available - TAI takes 33.7 log FLOP (5 decillion) - log $ 9.7 to buy TAI (5 billion) vs. willingness to pay log $ 9.5 (3 billion) - 24.0 log FLOPS per $ (1000 sextillion)\n",
      "Year: 2101 - 33.5 max log FLOP (3 decillion) available - TAI takes 33.7 log FLOP (5 decillion) - log $ 9.7 to buy TAI (5 billion) vs. willingness to pay log $ 9.5 (3 billion) - 24.0 log FLOPS per $ (1000 sextillion)\n",
      "Year: 2102 - 33.5 max log FLOP (3 decillion) available - TAI takes 33.7 log FLOP (5 decillion) - log $ 9.7 to buy TAI (5 billion) vs. willingness to pay log $ 9.5 (3 billion) - 24.0 log FLOPS per $ (1000 sextillion)\n",
      "Year: 2103 - 33.5 max log FLOP (3 decillion) available - TAI takes 33.7 log FLOP (5 decillion) - log $ 9.7 to buy TAI (5 billion) vs. willingness to pay log $ 9.5 (3 billion) - 24.0 log FLOPS per $ (1000 sextillion)\n",
      "Year: 2104 - 33.5 max log FLOP (3 decillion) available - TAI takes 33.7 log FLOP (5 decillion) - log $ 9.7 to buy TAI (5 billion) vs. willingness to pay log $ 9.5 (3 billion) - 24.0 log FLOPS per $ (1000 sextillion)\n",
      "Year: 2105 - 33.5 max log FLOP (3 decillion) available - TAI takes 33.7 log FLOP (5 decillion) - log $ 9.7 to buy TAI (5 billion) vs. willingness to pay log $ 9.5 (3 billion) - 24.0 log FLOPS per $ (1000 sextillion)\n",
      "Year: 2106 - 33.5 max log FLOP (3 decillion) available - TAI takes 33.7 log FLOP (5 decillion) - log $ 9.7 to buy TAI (5 billion) vs. willingness to pay log $ 9.5 (3 billion) - 24.0 log FLOPS per $ (1000 sextillion)\n",
      "Year: 2107 - 33.5 max log FLOP (3 decillion) available - TAI takes 33.7 log FLOP (5 decillion) - log $ 9.7 to buy TAI (5 billion) vs. willingness to pay log $ 9.5 (3 billion) - 24.0 log FLOPS per $ (1000 sextillion)\n",
      "Year: 2108 - 33.5 max log FLOP (3 decillion) available - TAI takes 33.7 log FLOP (5 decillion) - log $ 9.7 to buy TAI (5 billion) vs. willingness to pay log $ 9.5 (3 billion) - 24.0 log FLOPS per $ (1000 sextillion)\n",
      "Year: 2109 - 33.5 max log FLOP (3 decillion) available - TAI takes 33.7 log FLOP (5 decillion) - log $ 9.7 to buy TAI (5 billion) vs. willingness to pay log $ 9.5 (3 billion) - 24.0 log FLOPS per $ (1000 sextillion)\n",
      "Year: 2110 - 33.5 max log FLOP (3 decillion) available - TAI takes 33.7 log FLOP (5 decillion) - log $ 9.7 to buy TAI (5 billion) vs. willingness to pay log $ 9.5 (3 billion) - 24.0 log FLOPS per $ (1000 sextillion)\n",
      "Year: 2111 - 33.5 max log FLOP (3 decillion) available - TAI takes 33.7 log FLOP (5 decillion) - log $ 9.7 to buy TAI (5 billion) vs. willingness to pay log $ 9.5 (3 billion) - 24.0 log FLOPS per $ (1000 sextillion)\n",
      "Year: 2112 - 33.5 max log FLOP (4 decillion) available - TAI takes 33.7 log FLOP (5 decillion) - log $ 9.7 to buy TAI (5 billion) vs. willingness to pay log $ 9.5 (4 billion) - 24.0 log FLOPS per $ (1000 sextillion)\n",
      "Year: 2113 - 33.6 max log FLOP (4 decillion) available - TAI takes 33.7 log FLOP (5 decillion) - log $ 9.7 to buy TAI (5 billion) vs. willingness to pay log $ 9.6 (4 billion) - 24.0 log FLOPS per $ (1000 sextillion)\n",
      "Year: 2114 - 33.6 max log FLOP (4 decillion) available - TAI takes 33.7 log FLOP (5 decillion) - log $ 9.7 to buy TAI (5 billion) vs. willingness to pay log $ 9.6 (4 billion) - 24.0 log FLOPS per $ (1000 sextillion)\n",
      "Year: 2115 - 33.6 max log FLOP (4 decillion) available - TAI takes 33.7 log FLOP (5 decillion) - log $ 9.7 to buy TAI (5 billion) vs. willingness to pay log $ 9.6 (4 billion) - 24.0 log FLOPS per $ (1000 sextillion)\n",
      "Year: 2116 - 33.6 max log FLOP (4 decillion) available - TAI takes 33.7 log FLOP (5 decillion) - log $ 9.7 to buy TAI (5 billion) vs. willingness to pay log $ 9.6 (4 billion) - 24.0 log FLOPS per $ (1000 sextillion)\n",
      "Year: 2117 - 33.6 max log FLOP (4 decillion) available - TAI takes 33.7 log FLOP (5 decillion) - log $ 9.7 to buy TAI (5 billion) vs. willingness to pay log $ 9.6 (4 billion) - 24.0 log FLOPS per $ (1000 sextillion)\n",
      "Year: 2118 - 33.6 max log FLOP (4 decillion) available - TAI takes 33.7 log FLOP (5 decillion) - log $ 9.7 to buy TAI (5 billion) vs. willingness to pay log $ 9.6 (4 billion) - 24.0 log FLOPS per $ (1000 sextillion)\n",
      "Year: 2119 - 33.6 max log FLOP (4 decillion) available - TAI takes 33.7 log FLOP (5 decillion) - log $ 9.7 to buy TAI (5 billion) vs. willingness to pay log $ 9.6 (4 billion) - 24.0 log FLOPS per $ (1000 sextillion)\n",
      "Year: 2120 - 33.6 max log FLOP (4 decillion) available - TAI takes 33.7 log FLOP (5 decillion) - log $ 9.7 to buy TAI (5 billion) vs. willingness to pay log $ 9.6 (4 billion) - 24.0 log FLOPS per $ (1000 sextillion)\n",
      "Year: 2121 - 33.6 max log FLOP (4 decillion) available - TAI takes 33.7 log FLOP (5 decillion) - log $ 9.7 to buy TAI (5 billion) vs. willingness to pay log $ 9.6 (4 billion) - 24.0 log FLOPS per $ (1000 sextillion)\n",
      "Year: 2122 - 33.6 max log FLOP (4 decillion) available - TAI takes 33.7 log FLOP (5 decillion) - log $ 9.7 to buy TAI (5 billion) vs. willingness to pay log $ 9.6 (4 billion) - 24.0 log FLOPS per $ (1000 sextillion)\n",
      "--- :/ TAI NOT CREATED BEFORE 2124\n"
     ]
    },
    {
     "data": {
      "image/png": "[encoded data removed]",
      "text/plain": [
       "<Figure size 640x480 with 1 Axes>"
      ]
     },
     "metadata": {},
     "output_type": "display_data"
    },
    {
     "data": {
      "text/plain": [
       "{'tai_year': 2124,\n",
       " 'initial_gdp': 23000000000000,\n",
       " 'tai_flop_size': 36.65707130788425,\n",
       " 'nonscaling_delay': 7.738397424786427,\n",
       " 'algo_doubling_rte': 1.5079482167154865,\n",
       " 'possible_algo_reduction': 3,\n",
       " 'initial_flops_per_dollar': 1e+18,\n",
       " 'flops_halving_rate': 2.364911799367593,\n",
       " 'max_flops_per_dollar': 1e+24,\n",
       " 'initial_pay': 12589254.117941663,\n",
       " 'gdp_growth': 1.0157859477366862,\n",
       " 'max_gdp_frac': 3.780860308500405e-05,\n",
       " 'willingness_ramp_': 1,\n",
       " 'spend_doubling_time_': 3.940165315743374,\n",
       " 'initial_chance_of_nonscaling_issue': 0.95,\n",
       " 'final_chance_of_nonscaling_issue': 0.3,\n",
       " 'nonscaling_issue_bottom_year': 2050,\n",
       " 'willingness_spend_horizon_': 1}"
      ]
     },
     "execution_count": 37,
     "metadata": {},
     "output_type": "execute_result"
    }
   ],
   "source": [
    "define_event(verbose=True)"
   ]
  },
  {
   "cell_type": "code",
   "execution_count": 38,
   "metadata": {},
   "outputs": [
    {
     "name": "stdout",
     "output_type": "stream",
     "text": [
      "## RUN 1 ##\n",
      "It takes 34.3 log FLOPs (~19 decillion) for transformative capabilities.\n",
      "Every 1.8 years algorithms get 2x better, with 3 log reductions possible.\n",
      "FLOPs start at a cost of 18.0 log FLOPs (~1 quintillion) per 2022$USD. Every 4.3 years they get 2x cheaper, to a maximum of 24.0 log FLOPs (~1 septillion) per 2022$USD.\n",
      "We are willing to pay 7.1 log 2022$USD (~13 million) and this increases by 5.9x per year to a max of 0.001% of GDP. GDP grows at a rate of 1.03x per year.\n",
      "If a non-scaling delay happens, it will take an additional 34.4 years to produce TAI due to issues unrelated to scaling FLOP\n",
      "---\n",
      "Year: 2023 - 25.1 max log FLOP (13 septillion) available - TAI takes 34.3 log FLOP (19 decillion) - log $ 16.3 to buy TAI (19 quadrillion) vs. willingness to pay log $ 7.1 (13 million) - 18.0 log FLOPS per $ (1000 quadrillion)\n",
      "Year: 2024 - 25.2 max log FLOP (17 septillion) available - TAI takes 34.1 log FLOP (13 decillion) - log $ 16.0 to buy TAI (11 quadrillion) vs. willingness to pay log $ 7.2 (14 million) - 18.1 log FLOPS per $ (1 quintillion)\n",
      "Year: 2025 - 25.3 max log FLOP (22 septillion) available - TAI takes 33.9 log FLOP (9 decillion) - log $ 15.8 to buy TAI (6 quadrillion) vs. willingness to pay log $ 7.2 (16 million) - 18.1 log FLOPS per $ (1 quintillion)\n",
      "Year: 2026 - 25.5 max log FLOP (29 septillion) available - TAI takes 33.8 log FLOP (6 decillion) - log $ 15.6 to buy TAI (4 quadrillion) vs. willingness to pay log $ 7.3 (18 million) - 18.2 log FLOPS per $ (2 quintillion)\n",
      "Year: 2027 - 25.6 max log FLOP (38 septillion) available - TAI takes 33.6 log FLOP (4 decillion) - log $ 15.3 to buy TAI (2 quadrillion) vs. willingness to pay log $ 7.3 (20 million) - 18.3 log FLOPS per $ (2 quintillion)\n",
      "Year: 2028 - 25.7 max log FLOP (51 septillion) available - TAI takes 33.5 log FLOP (3 decillion) - log $ 15.1 to buy TAI (1 quadrillion) vs. willingness to pay log $ 7.4 (23 million) - 18.3 log FLOPS per $ (2 quintillion)\n",
      "Year: 2029 - 25.8 max log FLOP (67 septillion) available - TAI takes 33.3 log FLOP (2 decillion) - log $ 14.9 to buy TAI (740 trillion) vs. willingness to pay log $ 7.4 (25 million) - 18.4 log FLOPS per $ (3 quintillion)\n",
      "Year: 2030 - 25.9 max log FLOP (88 septillion) available - TAI takes 33.1 log FLOP (1 decillion) - log $ 14.6 to buy TAI (432 trillion) vs. willingness to pay log $ 7.5 (29 million) - 18.5 log FLOPS per $ (3 quintillion)\n",
      "Year: 2031 - 26.1 max log FLOP (117 septillion) available - TAI takes 33.0 log FLOP (914 nonillion) - log $ 14.4 to buy TAI (252 trillion) vs. willingness to pay log $ 7.5 (32 million) - 18.6 log FLOPS per $ (4 quintillion)\n",
      "Year: 2032 - 26.2 max log FLOP (154 septillion) available - TAI takes 32.8 log FLOP (629 nonillion) - log $ 14.2 to buy TAI (148 trillion) vs. willingness to pay log $ 7.6 (36 million) - 18.6 log FLOPS per $ (4 quintillion)\n",
      "Year: 2033 - 26.3 max log FLOP (204 septillion) available - TAI takes 32.6 log FLOP (435 nonillion) - log $ 13.9 to buy TAI (87 trillion) vs. willingness to pay log $ 7.6 (41 million) - 18.7 log FLOPS per $ (5 quintillion)\n",
      "Year: 2034 - 26.4 max log FLOP (269 septillion) available - TAI takes 32.5 log FLOP (303 nonillion) - log $ 13.7 to buy TAI (52 trillion) vs. willingness to pay log $ 7.7 (46 million) - 18.8 log FLOPS per $ (6 quintillion)\n",
      "Year: 2035 - 26.6 max log FLOP (355 septillion) available - TAI takes 32.3 log FLOP (213 nonillion) - log $ 13.5 to buy TAI (31 trillion) vs. willingness to pay log $ 7.7 (52 million) - 18.8 log FLOPS per $ (7 quintillion)\n",
      "Year: 2036 - 26.7 max log FLOP (469 septillion) available - TAI takes 32.2 log FLOP (151 nonillion) - log $ 13.3 to buy TAI (19 trillion) vs. willingness to pay log $ 7.8 (58 million) - 18.9 log FLOPS per $ (8 quintillion)\n",
      "Year: 2037 - 26.8 max log FLOP (620 septillion) available - TAI takes 32.0 log FLOP (109 nonillion) - log $ 13.1 to buy TAI (11 trillion) vs. willingness to pay log $ 7.8 (65 million) - 19.0 log FLOPS per $ (9 quintillion)\n",
      "Year: 2038 - 26.9 max log FLOP (818 septillion) available - TAI takes 31.9 log FLOP (81 nonillion) - log $ 12.9 to buy TAI (7 trillion) vs. willingness to pay log $ 7.9 (73 million) - 19.0 log FLOPS per $ (11 quintillion)\n",
      "Year: 2039 - 27.0 max log FLOP (1 octillion) available - TAI takes 31.8 log FLOP (61 nonillion) - log $ 12.7 to buy TAI (5 trillion) vs. willingness to pay log $ 7.9 (83 million) - 19.1 log FLOPS per $ (13 quintillion)\n",
      "Year: 2040 - 27.2 max log FLOP (1 octillion) available - TAI takes 31.7 log FLOP (48 nonillion) - log $ 12.5 to buy TAI (3 trillion) vs. willingness to pay log $ 8.0 (93 million) - 19.2 log FLOPS per $ (15 quintillion)\n",
      "Year: 2041 - 27.3 max log FLOP (2 octillion) available - TAI takes 31.6 log FLOP (39 nonillion) - log $ 12.3 to buy TAI (2 trillion) vs. willingness to pay log $ 8.0 (104 million) - 19.3 log FLOPS per $ (18 quintillion)\n",
      "Year: 2042 - 27.4 max log FLOP (2 octillion) available - TAI takes 31.5 log FLOP (32 nonillion) - log $ 12.2 to buy TAI (2 trillion) vs. willingness to pay log $ 8.1 (117 million) - 19.3 log FLOPS per $ (21 quintillion)\n",
      "Year: 2043 - 27.5 max log FLOP (3 octillion) available - TAI takes 31.4 log FLOP (28 nonillion) - log $ 12.1 to buy TAI (1 trillion) vs. willingness to pay log $ 8.1 (132 million) - 19.4 log FLOPS per $ (25 quintillion)\n",
      "Year: 2044 - 27.6 max log FLOP (4 octillion) available - TAI takes 31.4 log FLOP (25 nonillion) - log $ 11.9 to buy TAI (863 billion) vs. willingness to pay log $ 8.2 (148 million) - 19.5 log FLOPS per $ (29 quintillion)\n",
      "Year: 2045 - 27.8 max log FLOP (6 octillion) available - TAI takes 31.4 log FLOP (23 nonillion) - log $ 11.8 to buy TAI (678 billion) vs. willingness to pay log $ 8.2 (167 million) - 19.5 log FLOPS per $ (34 quintillion)\n",
      "Year: 2046 - 27.9 max log FLOP (8 octillion) available - TAI takes 31.3 log FLOP (22 nonillion) - log $ 11.7 to buy TAI (544 billion) vs. willingness to pay log $ 8.3 (188 million) - 19.6 log FLOPS per $ (40 quintillion)\n",
      "Year: 2047 - 28.0 max log FLOP (10 octillion) available - TAI takes 31.3 log FLOP (21 nonillion) - log $ 11.6 to buy TAI (444 billion) vs. willingness to pay log $ 8.3 (211 million) - 19.7 log FLOPS per $ (47 quintillion)\n",
      "Year: 2048 - 28.1 max log FLOP (13 octillion) available - TAI takes 31.3 log FLOP (20 nonillion) - log $ 11.6 to buy TAI (367 billion) vs. willingness to pay log $ 8.4 (237 million) - 19.7 log FLOPS per $ (56 quintillion)\n",
      "Year: 2049 - 28.2 max log FLOP (17 octillion) available - TAI takes 31.3 log FLOP (20 nonillion) - log $ 11.5 to buy TAI (306 billion) vs. willingness to pay log $ 8.4 (267 million) - 19.8 log FLOPS per $ (65 quintillion)\n",
      "Year: 2050 - 28.4 max log FLOP (23 octillion) available - TAI takes 31.3 log FLOP (20 nonillion) - log $ 11.4 to buy TAI (257 billion) vs. willingness to pay log $ 8.5 (300 million) - 19.9 log FLOPS per $ (77 quintillion)\n",
      "Year: 2051 - 28.5 max log FLOP (30 octillion) available - TAI takes 31.3 log FLOP (20 nonillion) - log $ 11.3 to buy TAI (216 billion) vs. willingness to pay log $ 8.5 (337 million) - 20.0 log FLOPS per $ (90 quintillion)\n",
      "Year: 2052 - 28.6 max log FLOP (40 octillion) available - TAI takes 31.3 log FLOP (19 nonillion) - log $ 11.3 to buy TAI (183 billion) vs. willingness to pay log $ 8.6 (379 million) - 20.0 log FLOPS per $ (106 quintillion)\n",
      "Year: 2053 - 28.7 max log FLOP (53 octillion) available - TAI takes 31.3 log FLOP (19 nonillion) - log $ 11.2 to buy TAI (155 billion) vs. willingness to pay log $ 8.6 (426 million) - 20.1 log FLOPS per $ (124 quintillion)\n",
      "Year: 2054 - 28.8 max log FLOP (70 octillion) available - TAI takes 31.3 log FLOP (19 nonillion) - log $ 11.1 to buy TAI (132 billion) vs. willingness to pay log $ 8.7 (479 million) - 20.2 log FLOPS per $ (146 quintillion)\n",
      "Year: 2055 - 29.0 max log FLOP (92 octillion) available - TAI takes 31.3 log FLOP (19 nonillion) - log $ 11.0 to buy TAI (112 billion) vs. willingness to pay log $ 8.7 (538 million) - 20.2 log FLOPS per $ (172 quintillion)\n",
      "Year: 2056 - 29.1 max log FLOP (122 octillion) available - TAI takes 31.3 log FLOP (19 nonillion) - log $ 11.0 to buy TAI (95 billion) vs. willingness to pay log $ 8.8 (605 million) - 20.3 log FLOPS per $ (202 quintillion)\n",
      "Year: 2057 - 29.2 max log FLOP (161 octillion) available - TAI takes 31.3 log FLOP (19 nonillion) - log $ 10.9 to buy TAI (81 billion) vs. willingness to pay log $ 8.8 (680 million) - 20.4 log FLOPS per $ (237 quintillion)\n",
      "Year: 2058 - 29.3 max log FLOP (212 octillion) available - TAI takes 31.3 log FLOP (19 nonillion) - log $ 10.8 to buy TAI (69 billion) vs. willingness to pay log $ 8.9 (764 million) - 20.4 log FLOPS per $ (278 quintillion)\n",
      "Year: 2059 - 29.4 max log FLOP (280 octillion) available - TAI takes 31.3 log FLOP (19 nonillion) - log $ 10.8 to buy TAI (59 billion) vs. willingness to pay log $ 8.9 (858 million) - 20.5 log FLOPS per $ (326 quintillion)\n",
      "Year: 2060 - 29.6 max log FLOP (370 octillion) available - TAI takes 31.3 log FLOP (19 nonillion) - log $ 10.7 to buy TAI (50 billion) vs. willingness to pay log $ 9.0 (964 million) - 20.6 log FLOPS per $ (383 quintillion)\n",
      "Year: 2061 - 29.7 max log FLOP (488 octillion) available - TAI takes 31.3 log FLOP (19 nonillion) - log $ 10.6 to buy TAI (42 billion) vs. willingness to pay log $ 9.0 (1 billion) - 20.7 log FLOPS per $ (450 quintillion)\n",
      "Year: 2062 - 29.8 max log FLOP (643 octillion) available - TAI takes 31.3 log FLOP (19 nonillion) - log $ 10.6 to buy TAI (36 billion) vs. willingness to pay log $ 9.1 (1 billion) - 20.7 log FLOPS per $ (529 quintillion)\n",
      "Year: 2063 - 29.9 max log FLOP (849 octillion) available - TAI takes 31.3 log FLOP (19 nonillion) - log $ 10.5 to buy TAI (31 billion) vs. willingness to pay log $ 9.1 (1 billion) - 20.8 log FLOPS per $ (621 quintillion)\n",
      "Year: 2064 - 30.0 max log FLOP (1 nonillion) available - TAI takes 31.3 log FLOP (19 nonillion) - log $ 10.4 to buy TAI (26 billion) vs. willingness to pay log $ 9.2 (2 billion) - 20.9 log FLOPS per $ (729 quintillion)\n",
      "Year: 2065 - 30.2 max log FLOP (1 nonillion) available - TAI takes 31.3 log FLOP (19 nonillion) - log $ 10.3 to buy TAI (22 billion) vs. willingness to pay log $ 9.2 (2 billion) - 20.9 log FLOPS per $ (856 quintillion)\n",
      "Year: 2066 - 30.3 max log FLOP (2 nonillion) available - TAI takes 31.3 log FLOP (19 nonillion) - log $ 10.3 to buy TAI (19 billion) vs. willingness to pay log $ 9.3 (2 billion) - 21.0 log FLOPS per $ (1 sextillion)\n",
      "Year: 2067 - 30.4 max log FLOP (3 nonillion) available - TAI takes 31.3 log FLOP (19 nonillion) - log $ 10.2 to buy TAI (16 billion) vs. willingness to pay log $ 9.3 (2 billion) - 21.1 log FLOPS per $ (1 sextillion)\n",
      "Year: 2068 - 30.5 max log FLOP (3 nonillion) available - TAI takes 31.3 log FLOP (19 nonillion) - log $ 10.1 to buy TAI (14 billion) vs. willingness to pay log $ 9.4 (2 billion) - 21.1 log FLOPS per $ (1 sextillion)\n",
      "Year: 2069 - 30.6 max log FLOP (4 nonillion) available - TAI takes 31.3 log FLOP (19 nonillion) - log $ 10.1 to buy TAI (12 billion) vs. willingness to pay log $ 9.4 (3 billion) - 21.2 log FLOPS per $ (2 sextillion)\n",
      "Year: 2070 - 30.8 max log FLOP (6 nonillion) available - TAI takes 31.3 log FLOP (19 nonillion) - log $ 10.0 to buy TAI (10 billion) vs. willingness to pay log $ 9.5 (3 billion) - 21.3 log FLOPS per $ (2 sextillion)\n",
      "Year: 2071 - 30.9 max log FLOP (8 nonillion) available - TAI takes 31.3 log FLOP (19 nonillion) - log $ 9.9 to buy TAI (9 billion) vs. willingness to pay log $ 9.5 (3 billion) - 21.4 log FLOPS per $ (2 sextillion)\n",
      "Year: 2072 - 31.0 max log FLOP (10 nonillion) available - TAI takes 31.3 log FLOP (19 nonillion) - log $ 9.9 to buy TAI (7 billion) vs. willingness to pay log $ 9.6 (4 billion) - 21.4 log FLOPS per $ (3 sextillion)\n",
      "Year: 2073 - 31.1 max log FLOP (13 nonillion) available - TAI takes 31.3 log FLOP (19 nonillion) - log $ 9.8 to buy TAI (6 billion) vs. willingness to pay log $ 9.6 (4 billion) - 21.5 log FLOPS per $ (3 sextillion)\n",
      "Year: 2074 - 31.2 max log FLOP (18 nonillion) available - TAI takes 31.3 log FLOP (19 nonillion) - log $ 9.7 to buy TAI (5 billion) vs. willingness to pay log $ 9.7 (5 billion) - 21.6 log FLOPS per $ (4 sextillion)\n",
      "Year: 2075 - 31.4 max log FLOP (23 nonillion) available - TAI takes 31.3 log FLOP (19 nonillion) - log $ 9.7 to buy TAI (4 billion) vs. willingness to pay log $ 9.7 (5 billion) - 21.6 log FLOPS per $ (4 sextillion)\n",
      "-- Nonscaling issue did not occur p_nonscaling_issue=0.3\n",
      "--- /!\\ TAI CREATED in 2075\n"
     ]
    },
    {
     "data": {
      "image/png": "[encoded data removed]",
      "text/plain": [
       "<Figure size 640x480 with 1 Axes>"
      ]
     },
     "metadata": {},
     "output_type": "display_data"
    },
    {
     "name": "stdout",
     "output_type": "stream",
     "text": [
      "## RUN 2 ##\n",
      "It takes 32.0 log FLOPs (~101 nonillion) for transformative capabilities.\n",
      "Every 1.2 years algorithms get 2x better, with 2 log reductions possible.\n",
      "FLOPs start at a cost of 18.0 log FLOPs (~1 quintillion) per 2022$USD. Every 3.2 years they get 2x cheaper, to a maximum of 24.0 log FLOPs (~1 septillion) per 2022$USD.\n",
      "We are willing to pay 7.1 log 2022$USD (~13 million) and this increases by 5.1x per year to a max of 0.001% of GDP. GDP grows at a rate of 1.017x per year.\n",
      "If a non-scaling delay happens, it will take an additional 11.8 years to produce TAI due to issues unrelated to scaling FLOP\n",
      "---\n",
      "Year: 2023 - 25.1 max log FLOP (13 septillion) available - TAI takes 32.0 log FLOP (101 nonillion) - log $ 14.0 to buy TAI (101 trillion) vs. willingness to pay log $ 7.1 (13 million) - 18.0 log FLOPS per $ (1000 quadrillion)\n",
      "Year: 2024 - 25.3 max log FLOP (18 septillion) available - TAI takes 31.8 log FLOP (58 nonillion) - log $ 13.7 to buy TAI (47 trillion) vs. willingness to pay log $ 7.2 (14 million) - 18.1 log FLOPS per $ (1 quintillion)\n",
      "Year: 2025 - 25.4 max log FLOP (25 septillion) available - TAI takes 31.5 log FLOP (33 nonillion) - log $ 13.3 to buy TAI (22 trillion) vs. willingness to pay log $ 7.2 (16 million) - 18.2 log FLOPS per $ (2 quintillion)\n",
      "Year: 2026 - 25.6 max log FLOP (36 septillion) available - TAI takes 31.3 log FLOP (19 nonillion) - log $ 13.0 to buy TAI (10 trillion) vs. willingness to pay log $ 7.3 (19 million) - 18.3 log FLOPS per $ (2 quintillion)\n",
      "Year: 2027 - 25.7 max log FLOP (52 septillion) available - TAI takes 31.1 log FLOP (11 nonillion) - log $ 12.7 to buy TAI (5 trillion) vs. willingness to pay log $ 7.3 (22 million) - 18.4 log FLOPS per $ (2 quintillion)\n",
      "Year: 2028 - 25.9 max log FLOP (74 septillion) available - TAI takes 30.8 log FLOP (7 nonillion) - log $ 12.4 to buy TAI (2 trillion) vs. willingness to pay log $ 7.4 (25 million) - 18.5 log FLOPS per $ (3 quintillion)\n",
      "Year: 2029 - 26.0 max log FLOP (105 septillion) available - TAI takes 30.6 log FLOP (4 nonillion) - log $ 12.1 to buy TAI (1 trillion) vs. willingness to pay log $ 7.5 (28 million) - 18.6 log FLOPS per $ (4 quintillion)\n",
      "Year: 2030 - 26.2 max log FLOP (149 septillion) available - TAI takes 30.5 log FLOP (3 nonillion) - log $ 11.8 to buy TAI (623 billion) vs. willingness to pay log $ 7.5 (32 million) - 18.7 log FLOPS per $ (5 quintillion)\n",
      "Year: 2031 - 26.3 max log FLOP (212 septillion) available - TAI takes 30.3 log FLOP (2 nonillion) - log $ 11.6 to buy TAI (360 billion) vs. willingness to pay log $ 7.6 (37 million) - 18.8 log FLOPS per $ (6 quintillion)\n",
      "Year: 2032 - 26.5 max log FLOP (302 septillion) available - TAI takes 30.2 log FLOP (2 nonillion) - log $ 11.4 to buy TAI (225 billion) vs. willingness to pay log $ 7.6 (42 million) - 18.9 log FLOPS per $ (7 quintillion)\n",
      "Year: 2033 - 26.6 max log FLOP (430 septillion) available - TAI takes 30.1 log FLOP (1 nonillion) - log $ 11.2 to buy TAI (152 billion) vs. willingness to pay log $ 7.7 (48 million) - 18.9 log FLOPS per $ (9 quintillion)\n",
      "Year: 2034 - 26.8 max log FLOP (612 septillion) available - TAI takes 30.1 log FLOP (1 nonillion) - log $ 11.0 to buy TAI (109 billion) vs. willingness to pay log $ 7.7 (55 million) - 19.0 log FLOPS per $ (11 quintillion)\n",
      "Year: 2035 - 26.9 max log FLOP (871 septillion) available - TAI takes 30.0 log FLOP (1 nonillion) - log $ 10.9 to buy TAI (81 billion) vs. willingness to pay log $ 7.8 (63 million) - 19.1 log FLOPS per $ (14 quintillion)\n",
      "Year: 2036 - 27.1 max log FLOP (1 octillion) available - TAI takes 30.0 log FLOP (1 nonillion) - log $ 10.8 to buy TAI (63 billion) vs. willingness to pay log $ 7.9 (72 million) - 19.2 log FLOPS per $ (17 quintillion)\n",
      "Year: 2037 - 27.2 max log FLOP (2 octillion) available - TAI takes 30.0 log FLOP (1 nonillion) - log $ 10.7 to buy TAI (49 billion) vs. willingness to pay log $ 7.9 (83 million) - 19.3 log FLOPS per $ (21 quintillion)\n",
      "Year: 2038 - 27.4 max log FLOP (3 octillion) available - TAI takes 30.0 log FLOP (1 nonillion) - log $ 10.6 to buy TAI (39 billion) vs. willingness to pay log $ 8.0 (95 million) - 19.4 log FLOPS per $ (26 quintillion)\n",
      "Year: 2039 - 27.6 max log FLOP (4 octillion) available - TAI takes 30.0 log FLOP (1 nonillion) - log $ 10.5 to buy TAI (31 billion) vs. willingness to pay log $ 8.0 (108 million) - 19.5 log FLOPS per $ (33 quintillion)\n",
      "Year: 2040 - 27.7 max log FLOP (5 octillion) available - TAI takes 30.0 log FLOP (1 nonillion) - log $ 10.4 to buy TAI (25 billion) vs. willingness to pay log $ 8.1 (124 million) - 19.6 log FLOPS per $ (41 quintillion)\n",
      "Year: 2041 - 27.9 max log FLOP (7 octillion) available - TAI takes 30.0 log FLOP (1 nonillion) - log $ 10.3 to buy TAI (20 billion) vs. willingness to pay log $ 8.2 (142 million) - 19.7 log FLOPS per $ (51 quintillion)\n",
      "Year: 2042 - 28.0 max log FLOP (10 octillion) available - TAI takes 30.0 log FLOP (1 nonillion) - log $ 10.2 to buy TAI (16 billion) vs. willingness to pay log $ 8.2 (162 million) - 19.8 log FLOPS per $ (63 quintillion)\n",
      "Year: 2043 - 28.2 max log FLOP (15 octillion) available - TAI takes 30.0 log FLOP (1 nonillion) - log $ 10.1 to buy TAI (13 billion) vs. willingness to pay log $ 8.3 (185 million) - 19.9 log FLOPS per $ (79 quintillion)\n",
      "Year: 2044 - 28.3 max log FLOP (21 octillion) available - TAI takes 30.0 log FLOP (1 nonillion) - log $ 10.0 to buy TAI (10 billion) vs. willingness to pay log $ 8.3 (212 million) - 20.0 log FLOPS per $ (98 quintillion)\n",
      "Year: 2045 - 28.5 max log FLOP (30 octillion) available - TAI takes 30.0 log FLOP (1 nonillion) - log $ 9.9 to buy TAI (8 billion) vs. willingness to pay log $ 8.4 (242 million) - 20.1 log FLOPS per $ (122 quintillion)\n",
      "Year: 2046 - 28.6 max log FLOP (42 octillion) available - TAI takes 30.0 log FLOP (1 nonillion) - log $ 9.8 to buy TAI (7 billion) vs. willingness to pay log $ 8.4 (277 million) - 20.2 log FLOPS per $ (152 quintillion)\n",
      "Year: 2047 - 28.8 max log FLOP (60 octillion) available - TAI takes 30.0 log FLOP (1 nonillion) - log $ 9.7 to buy TAI (5 billion) vs. willingness to pay log $ 8.5 (317 million) - 20.3 log FLOPS per $ (189 quintillion)\n",
      "Year: 2048 - 28.9 max log FLOP (85 octillion) available - TAI takes 30.0 log FLOP (1 nonillion) - log $ 9.6 to buy TAI (4 billion) vs. willingness to pay log $ 8.6 (362 million) - 20.4 log FLOPS per $ (235 quintillion)\n",
      "Year: 2049 - 29.1 max log FLOP (121 octillion) available - TAI takes 30.0 log FLOP (1 nonillion) - log $ 9.5 to buy TAI (3 billion) vs. willingness to pay log $ 8.6 (413 million) - 20.5 log FLOPS per $ (293 quintillion)\n",
      "Year: 2050 - 29.2 max log FLOP (172 octillion) available - TAI takes 30.0 log FLOP (1 nonillion) - log $ 9.4 to buy TAI (3 billion) vs. willingness to pay log $ 8.7 (472 million) - 20.6 log FLOPS per $ (365 quintillion)\n",
      "Year: 2051 - 29.4 max log FLOP (245 octillion) available - TAI takes 30.0 log FLOP (1 nonillion) - log $ 9.3 to buy TAI (2 billion) vs. willingness to pay log $ 8.7 (540 million) - 20.7 log FLOPS per $ (453 quintillion)\n",
      "Year: 2052 - 29.5 max log FLOP (348 octillion) available - TAI takes 30.0 log FLOP (1 nonillion) - log $ 9.3 to buy TAI (2 billion) vs. willingness to pay log $ 8.8 (616 million) - 20.8 log FLOPS per $ (564 quintillion)\n",
      "Year: 2053 - 29.7 max log FLOP (494 octillion) available - TAI takes 30.0 log FLOP (1 nonillion) - log $ 9.2 to buy TAI (1 billion) vs. willingness to pay log $ 8.8 (704 million) - 20.8 log FLOPS per $ (702 quintillion)\n",
      "Year: 2054 - 29.8 max log FLOP (701 octillion) available - TAI takes 30.0 log FLOP (1 nonillion) - log $ 9.1 to buy TAI (1 billion) vs. willingness to pay log $ 8.9 (803 million) - 20.9 log FLOPS per $ (873 quintillion)\n",
      "Year: 2055 - 30.0 max log FLOP (996 octillion) available - TAI takes 30.0 log FLOP (1 nonillion) - log $ 9.0 to buy TAI (932 million) vs. willingness to pay log $ 9.0 (917 million) - 21.0 log FLOPS per $ (1 sextillion)\n",
      "Year: 2056 - 30.2 max log FLOP (1 nonillion) available - TAI takes 30.0 log FLOP (1 nonillion) - log $ 8.9 to buy TAI (750 million) vs. willingness to pay log $ 9.0 (1 billion) - 21.1 log FLOPS per $ (1 sextillion)\n",
      "-- Nonscaling issue did not occur p_nonscaling_issue=0.3026\n",
      "--- /!\\ TAI CREATED in 2056\n"
     ]
    },
    {
     "data": {
      "image/png": "[encoded data removed]",
      "text/plain": [
       "<Figure size 640x480 with 1 Axes>"
      ]
     },
     "metadata": {},
     "output_type": "display_data"
    },
    {
     "name": "stdout",
     "output_type": "stream",
     "text": [
      "## RUN 3 ##\n",
      "It takes 31.6 log FLOPs (~42 nonillion) for transformative capabilities.\n",
      "Every 2.6 years algorithms get 2x better, with 2 log reductions possible.\n",
      "FLOPs start at a cost of 18.0 log FLOPs (~1 quintillion) per 2022$USD. Every 2.2 years they get 2x cheaper, to a maximum of 24.0 log FLOPs (~1 septillion) per 2022$USD.\n",
      "We are willing to pay 7.1 log 2022$USD (~13 million) and this increases by 5.6x per year to a max of 0.0008% of GDP. GDP grows at a rate of 1.026x per year.\n",
      "If a non-scaling delay happens, it will take an additional 14.3 years to produce TAI due to issues unrelated to scaling FLOP\n",
      "---\n",
      "Year: 2023 - 25.1 max log FLOP (13 septillion) available - TAI takes 31.6 log FLOP (42 nonillion) - log $ 13.6 to buy TAI (42 trillion) vs. willingness to pay log $ 7.1 (13 million) - 18.0 log FLOPS per $ (1000 quadrillion)\n",
      "Year: 2024 - 25.3 max log FLOP (20 septillion) available - TAI takes 31.5 log FLOP (33 nonillion) - log $ 13.4 to buy TAI (24 trillion) vs. willingness to pay log $ 7.2 (14 million) - 18.1 log FLOPS per $ (1 quintillion)\n",
      "Year: 2025 - 25.5 max log FLOP (30 septillion) available - TAI takes 31.4 log FLOP (25 nonillion) - log $ 13.1 to buy TAI (13 trillion) vs. willingness to pay log $ 7.2 (16 million) - 18.3 log FLOPS per $ (2 quintillion)\n",
      "Year: 2026 - 25.7 max log FLOP (47 septillion) available - TAI takes 31.3 log FLOP (19 nonillion) - log $ 12.9 to buy TAI (7 trillion) vs. willingness to pay log $ 7.3 (18 million) - 18.4 log FLOPS per $ (3 quintillion)\n",
      "Year: 2027 - 25.9 max log FLOP (73 septillion) available - TAI takes 31.2 log FLOP (15 nonillion) - log $ 12.6 to buy TAI (4 trillion) vs. willingness to pay log $ 7.3 (21 million) - 18.6 log FLOPS per $ (4 quintillion)\n",
      "Year: 2028 - 26.1 max log FLOP (114 septillion) available - TAI takes 31.1 log FLOP (12 nonillion) - log $ 12.4 to buy TAI (2 trillion) vs. willingness to pay log $ 7.4 (23 million) - 18.7 log FLOPS per $ (5 quintillion)\n",
      "Year: 2029 - 26.2 max log FLOP (178 septillion) available - TAI takes 31.0 log FLOP (9 nonillion) - log $ 12.1 to buy TAI (1 trillion) vs. willingness to pay log $ 7.4 (26 million) - 18.8 log FLOPS per $ (7 quintillion)\n",
      "Year: 2030 - 26.4 max log FLOP (276 septillion) available - TAI takes 30.8 log FLOP (7 nonillion) - log $ 11.9 to buy TAI (762 billion) vs. willingness to pay log $ 7.5 (30 million) - 19.0 log FLOPS per $ (9 quintillion)\n",
      "Year: 2031 - 26.6 max log FLOP (429 septillion) available - TAI takes 30.7 log FLOP (6 nonillion) - log $ 11.6 to buy TAI (434 billion) vs. willingness to pay log $ 7.5 (34 million) - 19.1 log FLOPS per $ (13 quintillion)\n",
      "Year: 2032 - 26.8 max log FLOP (667 septillion) available - TAI takes 30.6 log FLOP (4 nonillion) - log $ 11.4 to buy TAI (248 billion) vs. willingness to pay log $ 7.6 (38 million) - 19.2 log FLOPS per $ (17 quintillion)\n",
      "Year: 2033 - 27.0 max log FLOP (1 octillion) available - TAI takes 30.5 log FLOP (3 nonillion) - log $ 11.2 to buy TAI (143 billion) vs. willingness to pay log $ 7.6 (43 million) - 19.4 log FLOPS per $ (24 quintillion)\n",
      "Year: 2034 - 27.2 max log FLOP (2 octillion) available - TAI takes 30.4 log FLOP (3 nonillion) - log $ 10.9 to buy TAI (83 billion) vs. willingness to pay log $ 7.7 (49 million) - 19.5 log FLOPS per $ (33 quintillion)\n",
      "Year: 2035 - 27.4 max log FLOP (3 octillion) available - TAI takes 30.3 log FLOP (2 nonillion) - log $ 10.7 to buy TAI (48 billion) vs. willingness to pay log $ 7.7 (55 million) - 19.7 log FLOPS per $ (45 quintillion)\n",
      "Year: 2036 - 27.6 max log FLOP (4 octillion) available - TAI takes 30.2 log FLOP (2 nonillion) - log $ 10.5 to buy TAI (29 billion) vs. willingness to pay log $ 7.8 (63 million) - 19.8 log FLOPS per $ (62 quintillion)\n",
      "Year: 2037 - 27.8 max log FLOP (6 octillion) available - TAI takes 30.2 log FLOP (1 nonillion) - log $ 10.2 to buy TAI (17 billion) vs. willingness to pay log $ 7.9 (71 million) - 19.9 log FLOPS per $ (85 quintillion)\n",
      "Year: 2038 - 28.0 max log FLOP (9 octillion) available - TAI takes 30.1 log FLOP (1 nonillion) - log $ 10.0 to buy TAI (10 billion) vs. willingness to pay log $ 7.9 (80 million) - 20.1 log FLOPS per $ (117 quintillion)\n",
      "Year: 2039 - 28.2 max log FLOP (15 octillion) available - TAI takes 30.0 log FLOP (1 nonillion) - log $ 9.8 to buy TAI (6 billion) vs. willingness to pay log $ 8.0 (91 million) - 20.2 log FLOPS per $ (161 quintillion)\n",
      "Year: 2040 - 28.4 max log FLOP (23 octillion) available - TAI takes 30.0 log FLOP (892 octillion) - log $ 9.6 to buy TAI (4 billion) vs. willingness to pay log $ 8.0 (103 million) - 20.3 log FLOPS per $ (221 quintillion)\n",
      "Year: 2041 - 28.5 max log FLOP (35 octillion) available - TAI takes 29.9 log FLOP (783 octillion) - log $ 9.4 to buy TAI (3 billion) vs. willingness to pay log $ 8.1 (116 million) - 20.5 log FLOPS per $ (304 quintillion)\n",
      "Year: 2042 - 28.7 max log FLOP (55 octillion) available - TAI takes 29.8 log FLOP (699 octillion) - log $ 9.2 to buy TAI (2 billion) vs. willingness to pay log $ 8.1 (132 million) - 20.6 log FLOPS per $ (417 quintillion)\n",
      "Year: 2043 - 28.9 max log FLOP (85 octillion) available - TAI takes 29.8 log FLOP (634 octillion) - log $ 9.0 to buy TAI (1 billion) vs. willingness to pay log $ 8.2 (149 million) - 20.8 log FLOPS per $ (573 quintillion)\n",
      "Year: 2044 - 29.1 max log FLOP (133 octillion) available - TAI takes 29.8 log FLOP (584 octillion) - log $ 8.9 to buy TAI (742 million) vs. willingness to pay log $ 8.2 (168 million) - 20.9 log FLOPS per $ (788 quintillion)\n",
      "Year: 2045 - 29.3 max log FLOP (206 octillion) available - TAI takes 29.7 log FLOP (546 octillion) - log $ 8.7 to buy TAI (505 million) vs. willingness to pay log $ 8.3 (190 million) - 21.0 log FLOPS per $ (1 sextillion)\n",
      "Year: 2046 - 29.5 max log FLOP (320 octillion) available - TAI takes 29.7 log FLOP (517 octillion) - log $ 8.5 to buy TAI (348 million) vs. willingness to pay log $ 8.3 (215 million) - 21.2 log FLOPS per $ (1 sextillion)\n",
      "Year: 2047 - 29.7 max log FLOP (497 octillion) available - TAI takes 29.7 log FLOP (494 octillion) - log $ 8.4 to buy TAI (242 million) vs. willingness to pay log $ 8.4 (244 million) - 21.3 log FLOPS per $ (2 sextillion)\n",
      "-- Nonscaling delay occured p_nonscaling_issue=0.3371\n",
      "/!\\ FLOPs for TAI sufficient but needs 14.3 more years to solve non-scaling issues\n",
      "Year: 2048 - 29.9 max log FLOP (771 octillion) available - TAI takes 29.7 log FLOP (477 octillion) - log $ 8.2 to buy TAI (170 million) vs. willingness to pay log $ 8.4 (276 million) - 21.4 log FLOPS per $ (3 sextillion)\n",
      "/!\\ FLOPs for TAI sufficient but needs 13.3 more years to solve non-scaling issues\n",
      "Year: 2049 - 30.1 max log FLOP (1 nonillion) available - TAI takes 29.7 log FLOP (464 octillion) - log $ 8.1 to buy TAI (121 million) vs. willingness to pay log $ 8.5 (312 million) - 21.6 log FLOPS per $ (4 sextillion)\n",
      "/!\\ FLOPs for TAI sufficient but needs 12.3 more years to solve non-scaling issues\n",
      "Year: 2050 - 30.3 max log FLOP (2 nonillion) available - TAI takes 29.7 log FLOP (453 octillion) - log $ 7.9 to buy TAI (86 million) vs. willingness to pay log $ 8.5 (352 million) - 21.7 log FLOPS per $ (5 sextillion)\n",
      "/!\\ FLOPs for TAI sufficient but needs 11.3 more years to solve non-scaling issues\n",
      "Year: 2051 - 30.5 max log FLOP (3 nonillion) available - TAI takes 29.6 log FLOP (446 octillion) - log $ 7.8 to buy TAI (62 million) vs. willingness to pay log $ 8.6 (398 million) - 21.9 log FLOPS per $ (7 sextillion)\n",
      "/!\\ FLOPs for TAI sufficient but needs 10.3 more years to solve non-scaling issues\n",
      "Year: 2052 - 30.6 max log FLOP (4 nonillion) available - TAI takes 29.6 log FLOP (440 octillion) - log $ 7.6 to buy TAI (44 million) vs. willingness to pay log $ 8.7 (450 million) - 22.0 log FLOPS per $ (10 sextillion)\n",
      "/!\\ FLOPs for TAI sufficient but needs 9.3 more years to solve non-scaling issues\n",
      "Year: 2053 - 30.8 max log FLOP (7 nonillion) available - TAI takes 29.6 log FLOP (435 octillion) - log $ 7.5 to buy TAI (32 million) vs. willingness to pay log $ 8.7 (509 million) - 22.1 log FLOPS per $ (14 sextillion)\n",
      "/!\\ FLOPs for TAI sufficient but needs 8.3 more years to solve non-scaling issues\n",
      "Year: 2054 - 31.0 max log FLOP (11 nonillion) available - TAI takes 29.6 log FLOP (431 octillion) - log $ 7.4 to buy TAI (23 million) vs. willingness to pay log $ 8.8 (575 million) - 22.3 log FLOPS per $ (19 sextillion)\n",
      "/!\\ FLOPs for TAI sufficient but needs 7.3 more years to solve non-scaling issues\n",
      "Year: 2055 - 31.2 max log FLOP (16 nonillion) available - TAI takes 29.6 log FLOP (429 octillion) - log $ 7.2 to buy TAI (17 million) vs. willingness to pay log $ 8.8 (650 million) - 22.4 log FLOPS per $ (25 sextillion)\n",
      "/!\\ FLOPs for TAI sufficient but needs 6.3 more years to solve non-scaling issues\n",
      "Year: 2056 - 31.4 max log FLOP (25 nonillion) available - TAI takes 29.6 log FLOP (427 octillion) - log $ 7.1 to buy TAI (12 million) vs. willingness to pay log $ 8.9 (735 million) - 22.5 log FLOPS per $ (34 sextillion)\n",
      "/!\\ FLOPs for TAI sufficient but needs 5.3 more years to solve non-scaling issues\n",
      "Year: 2057 - 31.6 max log FLOP (39 nonillion) available - TAI takes 29.6 log FLOP (425 octillion) - log $ 7.0 to buy TAI (9 million) vs. willingness to pay log $ 8.9 (830 million) - 22.7 log FLOPS per $ (47 sextillion)\n",
      "/!\\ FLOPs for TAI sufficient but needs 4.3 more years to solve non-scaling issues\n",
      "Year: 2058 - 31.8 max log FLOP (59 nonillion) available - TAI takes 29.6 log FLOP (424 octillion) - log $ 6.8 to buy TAI (7 million) vs. willingness to pay log $ 9.0 (938 million) - 22.8 log FLOPS per $ (63 sextillion)\n",
      "/!\\ FLOPs for TAI sufficient but needs 3.3 more years to solve non-scaling issues\n",
      "Year: 2059 - 32.0 max log FLOP (90 nonillion) available - TAI takes 29.6 log FLOP (423 octillion) - log $ 6.7 to buy TAI (5 million) vs. willingness to pay log $ 9.0 (1 billion) - 22.9 log FLOPS per $ (85 sextillion)\n",
      "/!\\ FLOPs for TAI sufficient but needs 2.3 more years to solve non-scaling issues\n",
      "Year: 2060 - 32.1 max log FLOP (135 nonillion) available - TAI takes 29.6 log FLOP (422 octillion) - log $ 6.6 to buy TAI (4 million) vs. willingness to pay log $ 9.1 (1 billion) - 23.1 log FLOPS per $ (113 sextillion)\n",
      "/!\\ FLOPs for TAI sufficient but needs 1.3 more years to solve non-scaling issues\n",
      "Year: 2061 - 32.3 max log FLOP (200 nonillion) available - TAI takes 29.6 log FLOP (421 octillion) - log $ 6.5 to buy TAI (3 million) vs. willingness to pay log $ 9.1 (1 billion) - 23.2 log FLOPS per $ (148 sextillion)\n",
      "/!\\ FLOPs for TAI sufficient but needs 0.3 more years to solve non-scaling issues\n",
      "Year: 2062 - 32.5 max log FLOP (294 nonillion) available - TAI takes 29.6 log FLOP (421 octillion) - log $ 6.3 to buy TAI (2 million) vs. willingness to pay log $ 9.2 (2 billion) - 23.3 log FLOPS per $ (193 sextillion)\n",
      "--- /!\\ TAI CREATED in 2062\n"
     ]
    },
    {
     "data": {
      "image/png": "[encoded data removed]",
      "text/plain": [
       "<Figure size 640x480 with 1 Axes>"
      ]
     },
     "metadata": {},
     "output_type": "display_data"
    },
    {
     "name": "stdout",
     "output_type": "stream",
     "text": [
      "## RUN 4 ##\n",
      "It takes 25.0 log FLOPs (~9 septillion) for transformative capabilities.\n",
      "Every 1.4 years algorithms get 2x better, with 2 log reductions possible.\n",
      "FLOPs start at a cost of 18.0 log FLOPs (~1 quintillion) per 2022$USD. Every 2.7 years they get 2x cheaper, to a maximum of 24.0 log FLOPs (~1 septillion) per 2022$USD.\n",
      "We are willing to pay 7.1 log 2022$USD (~13 million) and this increases by 1.8x per year to a max of 0.0011% of GDP. GDP grows at a rate of 1.023x per year.\n",
      "If a non-scaling delay happens, it will take an additional 4.5 years to produce TAI due to issues unrelated to scaling FLOP\n",
      "---\n",
      "Year: 2023 - 25.1 max log FLOP (13 septillion) available - TAI takes 25.0 log FLOP (9 septillion) - log $ 7.0 to buy TAI (9 million) vs. willingness to pay log $ 7.1 (13 million) - 18.0 log FLOPS per $ (1000 quadrillion)\n",
      "-- Nonscaling delay occured p_nonscaling_issue=0.9421\n",
      "/!\\ FLOPs for TAI sufficient but needs 4.5 more years to solve non-scaling issues\n",
      "Year: 2024 - 25.4 max log FLOP (24 septillion) available - TAI takes 24.8 log FLOP (6 septillion) - log $ 6.6 to buy TAI (4 million) vs. willingness to pay log $ 7.3 (19 million) - 18.1 log FLOPS per $ (1 quintillion)\n",
      "/!\\ FLOPs for TAI sufficient but needs 3.5 more years to solve non-scaling issues\n",
      "Year: 2025 - 25.7 max log FLOP (47 septillion) available - TAI takes 24.5 log FLOP (3 septillion) - log $ 6.3 to buy TAI (2 million) vs. willingness to pay log $ 7.4 (28 million) - 18.2 log FLOPS per $ (2 quintillion)\n",
      "/!\\ FLOPs for TAI sufficient but needs 2.5 more years to solve non-scaling issues\n",
      "Year: 2026 - 26.0 max log FLOP (90 septillion) available - TAI takes 24.3 log FLOP (2 septillion) - log $ 6.0 to buy TAI (983 thousand) vs. willingness to pay log $ 7.6 (41 million) - 18.3 log FLOPS per $ (2 quintillion)\n",
      "/!\\ FLOPs for TAI sufficient but needs 1.5 more years to solve non-scaling issues\n",
      "Year: 2027 - 26.2 max log FLOP (173 septillion) available - TAI takes 24.1 log FLOP (1 septillion) - log $ 5.7 to buy TAI (471 thousand) vs. willingness to pay log $ 7.8 (61 million) - 18.5 log FLOPS per $ (3 quintillion)\n",
      "/!\\ FLOPs for TAI sufficient but needs 0.5 more years to solve non-scaling issues\n",
      "Year: 2028 - 26.5 max log FLOP (333 septillion) available - TAI takes 23.9 log FLOP (844 sextillion) - log $ 5.4 to buy TAI (229 thousand) vs. willingness to pay log $ 8.0 (90 million) - 18.6 log FLOPS per $ (4 quintillion)\n",
      "--- /!\\ TAI CREATED in 2028\n"
     ]
    },
    {
     "data": {
      "image/png": "[encoded data removed]",
      "text/plain": [
       "<Figure size 640x480 with 1 Axes>"
      ]
     },
     "metadata": {},
     "output_type": "display_data"
    },
    {
     "name": "stdout",
     "output_type": "stream",
     "text": [
      "## RUN 5 ##\n",
      "It takes 27.2 log FLOPs (~2 octillion) for transformative capabilities.\n",
      "Every 2.7 years algorithms get 2x better, with 2 log reductions possible.\n",
      "FLOPs start at a cost of 18.0 log FLOPs (~1 quintillion) per 2022$USD. Every 2.7 years they get 2x cheaper, to a maximum of 24.0 log FLOPs (~1 septillion) per 2022$USD.\n",
      "We are willing to pay 7.1 log 2022$USD (~13 million) and this increases by 4.6x per year to a max of 0.001% of GDP. GDP grows at a rate of 1.016x per year.\n",
      "If a non-scaling delay happens, it will take an additional 3.9 years to produce TAI due to issues unrelated to scaling FLOP\n",
      "---\n",
      "Year: 2023 - 25.1 max log FLOP (13 septillion) available - TAI takes 27.2 log FLOP (2 octillion) - log $ 9.2 to buy TAI (2 billion) vs. willingness to pay log $ 7.1 (13 million) - 18.0 log FLOPS per $ (1000 quadrillion)\n",
      "Year: 2024 - 25.3 max log FLOP (19 septillion) available - TAI takes 27.1 log FLOP (1 octillion) - log $ 9.0 to buy TAI (933 million) vs. willingness to pay log $ 7.2 (15 million) - 18.1 log FLOPS per $ (1 quintillion)\n",
      "Year: 2025 - 25.5 max log FLOP (28 septillion) available - TAI takes 27.0 log FLOP (933 septillion) - log $ 8.7 to buy TAI (559 million) vs. willingness to pay log $ 7.2 (17 million) - 18.2 log FLOPS per $ (2 quintillion)\n",
      "Year: 2026 - 25.6 max log FLOP (43 septillion) available - TAI takes 26.9 log FLOP (723 septillion) - log $ 8.5 to buy TAI (335 million) vs. willingness to pay log $ 7.3 (20 million) - 18.3 log FLOPS per $ (2 quintillion)\n",
      "Year: 2027 - 25.8 max log FLOP (64 septillion) available - TAI takes 26.7 log FLOP (561 septillion) - log $ 8.3 to buy TAI (201 million) vs. willingness to pay log $ 7.4 (23 million) - 18.4 log FLOPS per $ (3 quintillion)\n",
      "Year: 2028 - 26.0 max log FLOP (97 septillion) available - TAI takes 26.6 log FLOP (436 septillion) - log $ 8.1 to buy TAI (121 million) vs. willingness to pay log $ 7.4 (27 million) - 18.6 log FLOPS per $ (4 quintillion)\n",
      "Year: 2029 - 26.2 max log FLOP (146 septillion) available - TAI takes 26.5 log FLOP (339 septillion) - log $ 7.9 to buy TAI (73 million) vs. willingness to pay log $ 7.5 (31 million) - 18.7 log FLOPS per $ (5 quintillion)\n",
      "Year: 2030 - 26.3 max log FLOP (219 septillion) available - TAI takes 26.4 log FLOP (265 septillion) - log $ 7.6 to buy TAI (44 million) vs. willingness to pay log $ 7.6 (36 million) - 18.8 log FLOPS per $ (6 quintillion)\n",
      "Year: 2031 - 26.5 max log FLOP (329 septillion) available - TAI takes 26.3 log FLOP (208 septillion) - log $ 7.4 to buy TAI (27 million) vs. willingness to pay log $ 7.6 (42 million) - 18.9 log FLOPS per $ (8 quintillion)\n",
      "-- Nonscaling delay occured p_nonscaling_issue=0.8721\n",
      "/!\\ FLOPs for TAI sufficient but needs 3.9 more years to solve non-scaling issues\n",
      "Year: 2032 - 26.7 max log FLOP (495 septillion) available - TAI takes 26.2 log FLOP (164 septillion) - log $ 7.2 to buy TAI (16 million) vs. willingness to pay log $ 7.7 (49 million) - 19.0 log FLOPS per $ (10 quintillion)\n",
      "/!\\ FLOPs for TAI sufficient but needs 2.9 more years to solve non-scaling issues\n",
      "Year: 2033 - 26.9 max log FLOP (745 septillion) available - TAI takes 26.1 log FLOP (130 septillion) - log $ 7.0 to buy TAI (10 million) vs. willingness to pay log $ 7.8 (57 million) - 19.1 log FLOPS per $ (13 quintillion)\n",
      "/!\\ FLOPs for TAI sufficient but needs 1.9 more years to solve non-scaling issues\n",
      "Year: 2034 - 27.0 max log FLOP (1 octillion) available - TAI takes 26.0 log FLOP (104 septillion) - log $ 6.8 to buy TAI (6 million) vs. willingness to pay log $ 7.8 (67 million) - 19.2 log FLOPS per $ (17 quintillion)\n",
      "/!\\ FLOPs for TAI sufficient but needs 0.9 more years to solve non-scaling issues\n",
      "Year: 2035 - 27.2 max log FLOP (2 octillion) available - TAI takes 25.9 log FLOP (83 septillion) - log $ 6.6 to buy TAI (4 million) vs. willingness to pay log $ 7.9 (78 million) - 19.3 log FLOPS per $ (22 quintillion)\n",
      "--- /!\\ TAI CREATED in 2035\n"
     ]
    },
    {
     "data": {
      "image/png": "[encoded data removed]",
      "text/plain": [
       "<Figure size 640x480 with 1 Axes>"
      ]
     },
     "metadata": {},
     "output_type": "display_data"
    }
   ],
   "source": [
    "for i in range(5):\n",
    "    print('## RUN {} ##'.format(i + 1))\n",
    "    define_event(verbose=True)"
   ]
  },
  {
   "cell_type": "code",
   "execution_count": 39,
   "metadata": {},
   "outputs": [
    {
     "name": "stdout",
     "output_type": "stream",
     "text": [
      "Reloading cache...\n",
      "Generating Bayes net with 7 cores...\n"
     ]
    },
    {
     "name": "stderr",
     "output_type": "stream",
     "text": [
      "10024it [02:01, 82.53it/s]                                                                                                                                                                                  \n"
     ]
    },
    {
     "name": "stdout",
     "output_type": "stream",
     "text": [
      "Shuffling data...\n",
      "Waiting for other cores...\n",
      "Collecting data...\n"
     ]
    },
    {
     "name": "stderr",
     "output_type": "stream",
     "text": [
      "100%|████████████████████████████████████████████████████████████████████████████████████████████████████████████████████████████████████████████████████████████████████████| 7/7 [00:00<00:00, 362.10it/s]\n"
     ]
    },
    {
     "name": "stdout",
     "output_type": "stream",
     "text": [
      "...Collected!\n",
      "Caching in-memory...\n",
      "...Cached!\n",
      "Writing cache to file `caches/tai_years.sqcache`...\n",
      "...Cached!\n",
      "...Finding\n",
      "...Found!\n",
      "...All done!\n",
      "CPU times: user 1min 37s, sys: 1.3 s, total: 1min 38s\n",
      "Wall time: 2min 1s\n"
     ]
    }
   ],
   "source": [
    "%%time\n",
    "tai_years = bayes.bayesnet(define_event,\n",
    "                           find=lambda e: e['tai_year'],\n",
    "                           verbose=True,\n",
    "                           raw=True,\n",
    "                           dump_cache_file='caches/tai_years',\n",
    "                           reload_cache=True,\n",
    "                           cores=7,\n",
    "                           n=RUNS)"
   ]
  },
  {
   "cell_type": "code",
   "execution_count": 40,
   "metadata": {},
   "outputs": [
    {
     "data": {
      "text/plain": [
       "['1%: 2025',\n",
       " '5%: 2028',\n",
       " '10%: 2030',\n",
       " '20%: 2036',\n",
       " '30%: 2042',\n",
       " '40%: 2049',\n",
       " '50%: 2058',\n",
       " '60%: 2069',\n",
       " '70%: 2083',\n",
       " '80%: >2123',\n",
       " '90%: >2123',\n",
       " '95%: >2123',\n",
       " '99%: >2123']"
      ]
     },
     "execution_count": 40,
     "metadata": {},
     "output_type": "execute_result"
    }
   ],
   "source": [
    "out = sq.get_percentiles(tai_years)\n",
    "[str(o[0]) + '%: ' + (str(int(o[1])) if o[1] < MAX_YEAR else '>' + str(MAX_YEAR)) for o in out.items()]\n",
    "\n",
    "# NOTE: Ajeya's numbers should output something very close to:\n",
    "# '5%': 2027,\n",
    "# '10%: 2031',\n",
    "# '20%: 2037',\n",
    "# '30%: 2042',\n",
    "# '40%: 2047',\n",
    "# '50%: 2053',\n",
    "# '60%: 2061',\n",
    "# '70%: 2073',\n",
    "# '80%: >2100',\n",
    "# '90%: >2100',\n",
    "# '95%: >2100'\n",
    "\n",
    "# My latest numbers (2022 Aug 27 8:43PM CT):\n",
    "# '1%: 2024',\n",
    "# '5%: 2027',\n",
    "# '10%: 2029',\n",
    "# '20%: 2033',\n",
    "# '30%: 2038',\n",
    "# '40%: 2045',\n",
    "# '50%: 2054',\n",
    "# '60%: 2064',\n",
    "# '70%: 2079',\n",
    "# '80%: 2116',\n",
    "# '90%: >2222',\n",
    "# '95%: >2222',\n",
    "# '99%: >2222']\n"
   ]
  },
  {
   "cell_type": "code",
   "execution_count": 41,
   "metadata": {},
   "outputs": [
    {
     "data": {
      "text/plain": [
       "['1%: 2 years from now',\n",
       " '5%: 5 years from now',\n",
       " '10%: 7 years from now',\n",
       " '20%: 13 years from now',\n",
       " '30%: 19 years from now',\n",
       " '40%: 26 years from now',\n",
       " '50%: 35 years from now',\n",
       " '60%: 46 years from now',\n",
       " '70%: 60 years from now',\n",
       " '80%: >100 years from now',\n",
       " '90%: >100 years from now',\n",
       " '95%: >100 years from now',\n",
       " '99%: >100 years from now']"
      ]
     },
     "execution_count": 41,
     "metadata": {},
     "output_type": "execute_result"
    }
   ],
   "source": [
    "[str(o[0]) + '%: ' + (str(int(o[1]) - CURRENT_YEAR) if o[1] < MAX_YEAR else '>' + str(MAX_YEAR - CURRENT_YEAR)) + ' years from now' for o in out.items()]\n"
   ]
  },
  {
   "cell_type": "code",
   "execution_count": 42,
   "metadata": {},
   "outputs": [
    {
     "data": {
      "image/png": "[encoded data removed]",
      "text/plain": [
       "<Figure size 640x480 with 1 Axes>"
      ]
     },
     "metadata": {},
     "output_type": "display_data"
    }
   ],
   "source": [
    "tai_years_ = np.array([MAX_YEAR + 1 if t > MAX_YEAR else t for t in tai_years])\n",
    "count, bins_count = np.histogram(tai_years_, bins=(MAX_YEAR - CURRENT_YEAR))\n",
    "bins = np.round(np.array([b for b in bins_count[1:] if b <= MAX_YEAR]))\n",
    "pdf = count / sum(count)\n",
    "cdf = np.cumsum(pdf)\n",
    "\n",
    "plt.plot(bins, cdf[:len(bins)], label='CDF')\n",
    "plt.legend()\n",
    "plt.show()"
   ]
  },
  {
   "cell_type": "code",
   "execution_count": 43,
   "metadata": {},
   "outputs": [
    {
     "name": "stdout",
     "output_type": "stream",
     "text": [
      "<2024: 0.6%\n",
      "2025-2029: 7.9%\n",
      "2030-2039: 15.7%\n",
      "2040-2049: 11.9%\n",
      "2050-2059: 10.2%\n",
      "2060-2069: 8.0%\n",
      "2070-2079: 6.4%\n",
      "2080-2089: 3.5%\n",
      "2090-2099: 2.0%\n",
      "2100-2109: 1.8%\n",
      "2110-2119: 0.7%\n",
      ">2120: 21.9%\n"
     ]
    }
   ],
   "source": [
    "d_ = dict(zip(years, cdf[:len(bins)]))\n",
    "\n",
    "def bin_tai_yrs(low=None, hi=None):\n",
    "    low = CURRENT_YEAR if low is None else low\n",
    "    out = 1 - d_[low] if hi is None else d_[hi] - d_[low]\n",
    "    return round(out * 100, 1)\n",
    "\n",
    "print('<2024: {}%'.format(bin_tai_yrs(hi=2024)))\n",
    "print('2025-2029: {}%'.format(bin_tai_yrs(2025, 2029)))\n",
    "print('2030-2039: {}%'.format(bin_tai_yrs(2030, 2039)))\n",
    "print('2040-2049: {}%'.format(bin_tai_yrs(2040, 2049)))\n",
    "print('2050-2059: {}%'.format(bin_tai_yrs(2050, 2059)))\n",
    "print('2060-2069: {}%'.format(bin_tai_yrs(2060, 2069)))\n",
    "print('2070-2079: {}%'.format(bin_tai_yrs(2070, 2079)))\n",
    "print('2080-2089: {}%'.format(bin_tai_yrs(2080, 2089)))\n",
    "print('2090-2099: {}%'.format(bin_tai_yrs(2090, 2099)))\n",
    "print('2100-2109: {}%'.format(bin_tai_yrs(2100, 2109)))\n",
    "print('2110-2119: {}%'.format(bin_tai_yrs(2110, 2119)))\n",
    "print('>2120: {}%'.format(bin_tai_yrs(low=2120)))"
   ]
  },
  {
   "cell_type": "code",
   "execution_count": 66,
   "metadata": {},
   "outputs": [
    {
     "name": "stderr",
     "output_type": "stream",
     "text": [
      "<string>:111: DeprecationWarning: `np.int` is a deprecated alias for the builtin `int`. To silence this warning, use `int` by itself. Doing this will not modify any behavior and is safe. When replacing `np.int`, you may wish to use e.g. `np.int64` or `np.int32` to specify the precision. If you wish to review your current use, check the release note link for additional information.\n",
      "Deprecated in NumPy 1.20; for more details and guidance: https://numpy.org/devdocs/release/1.20.0-notes.html#deprecations\n",
      "<string>:112: DeprecationWarning: `np.int` is a deprecated alias for the builtin `int`. To silence this warning, use `int` by itself. Doing this will not modify any behavior and is safe. When replacing `np.int`, you may wish to use e.g. `np.int64` or `np.int32` to specify the precision. If you wish to review your current use, check the release note link for additional information.\n",
      "Deprecated in NumPy 1.20; for more details and guidance: https://numpy.org/devdocs/release/1.20.0-notes.html#deprecations\n"
     ]
    },
    {
     "data": {
      "image/png": "[encoded data removed]",
      "text/plain": [
       "<Figure size 640x480 with 1 Axes>"
      ]
     },
     "metadata": {},
     "output_type": "display_data"
    }
   ],
   "source": [
    "pdf_smoothed = savitzky_golay(pdf[:len(bins)], 51, 3)\n",
    "plt.plot(bins, pdf_smoothed, label='PDF (smoothed)')\n",
    "plt.legend()\n",
    "plt.show()"
   ]
  },
  {
   "cell_type": "code",
   "execution_count": 67,
   "metadata": {},
   "outputs": [
    {
     "data": {
      "text/plain": [
       "array([0.006 , 0.0125, 0.0255, 0.0479, 0.0655, 0.085 , 0.1047, 0.1212,\n",
       "       0.1374, 0.1574, 0.179 , 0.1933, 0.2076, 0.2208, 0.2425, 0.2577,\n",
       "       0.2784, 0.2941, 0.3092, 0.3213, 0.3351, 0.3485, 0.365 , 0.382 ,\n",
       "       0.3933, 0.4005, 0.4133, 0.4268, 0.4405, 0.4508, 0.4631, 0.4725,\n",
       "       0.4865, 0.4975, 0.505 , 0.5177, 0.5291, 0.5353, 0.5414, 0.5489,\n",
       "       0.5582, 0.5686, 0.5787, 0.5883, 0.5998, 0.6074, 0.6151, 0.6222,\n",
       "       0.6287, 0.6386, 0.6453, 0.653 , 0.6596, 0.6693, 0.6754, 0.6815,\n",
       "       0.6864, 0.6936, 0.698 , 0.7008, 0.7039, 0.7084, 0.7143, 0.7181,\n",
       "       0.7213, 0.7246, 0.7288, 0.7328, 0.735 , 0.7375, 0.7403, 0.742 ,\n",
       "       0.7449, 0.7471, 0.7495, 0.7511, 0.7528, 0.7548, 0.7589, 0.7613,\n",
       "       0.762 , 0.7654, 0.7667, 0.7699, 0.7713, 0.7721, 0.773 , 0.7739,\n",
       "       0.7754, 0.7758, 0.7767, 0.7773, 0.7783, 0.7796, 0.7805, 0.7811,\n",
       "       0.7813, 0.7814, 0.782 ])"
      ]
     },
     "execution_count": 67,
     "metadata": {},
     "output_type": "execute_result"
    }
   ],
   "source": [
    "cdf[:len(bins)]"
   ]
  },
  {
   "cell_type": "code",
   "execution_count": 68,
   "metadata": {},
   "outputs": [
    {
     "data": {
      "text/plain": [
       "array([0.006 , 0.0065, 0.013 , 0.0224, 0.0176, 0.0195, 0.0197, 0.0165,\n",
       "       0.0162, 0.02  , 0.0216, 0.0143, 0.0143, 0.0132, 0.0217, 0.0152,\n",
       "       0.0207, 0.0157, 0.0151, 0.0121, 0.0138, 0.0134, 0.0165, 0.017 ,\n",
       "       0.0113, 0.0072, 0.0128, 0.0135, 0.0137, 0.0103, 0.0123, 0.0094,\n",
       "       0.014 , 0.011 , 0.0075, 0.0127, 0.0114, 0.0062, 0.0061, 0.0075,\n",
       "       0.0093, 0.0104, 0.0101, 0.0096, 0.0115, 0.0076, 0.0077, 0.0071,\n",
       "       0.0065, 0.0099, 0.0067, 0.0077, 0.0066, 0.0097, 0.0061, 0.0061,\n",
       "       0.0049, 0.0072, 0.0044, 0.0028, 0.0031, 0.0045, 0.0059, 0.0038,\n",
       "       0.0032, 0.0033, 0.0042, 0.004 , 0.0022, 0.0025, 0.0028, 0.0017,\n",
       "       0.0029, 0.0022, 0.0024, 0.0016, 0.0017, 0.002 , 0.0041, 0.0024,\n",
       "       0.0007, 0.0034, 0.0013, 0.0032, 0.0014, 0.0008, 0.0009, 0.0009,\n",
       "       0.0015, 0.0004, 0.0009, 0.0006, 0.001 , 0.0013, 0.0009, 0.0006,\n",
       "       0.0002, 0.0001, 0.0006])"
      ]
     },
     "execution_count": 68,
     "metadata": {},
     "output_type": "execute_result"
    }
   ],
   "source": [
    "pdf[:len(bins)]"
   ]
  },
  {
   "cell_type": "code",
   "execution_count": 69,
   "metadata": {},
   "outputs": [
    {
     "name": "stderr",
     "output_type": "stream",
     "text": [
      "<string>:111: DeprecationWarning: `np.int` is a deprecated alias for the builtin `int`. To silence this warning, use `int` by itself. Doing this will not modify any behavior and is safe. When replacing `np.int`, you may wish to use e.g. `np.int64` or `np.int32` to specify the precision. If you wish to review your current use, check the release note link for additional information.\n",
      "Deprecated in NumPy 1.20; for more details and guidance: https://numpy.org/devdocs/release/1.20.0-notes.html#deprecations\n",
      "<string>:112: DeprecationWarning: `np.int` is a deprecated alias for the builtin `int`. To silence this warning, use `int` by itself. Doing this will not modify any behavior and is safe. When replacing `np.int`, you may wish to use e.g. `np.int64` or `np.int32` to specify the precision. If you wish to review your current use, check the release note link for additional information.\n",
      "Deprecated in NumPy 1.20; for more details and guidance: https://numpy.org/devdocs/release/1.20.0-notes.html#deprecations\n"
     ]
    },
    {
     "data": {
      "image/png": "[encoded data removed]",
      "text/plain": [
       "<Figure size 640x480 with 1 Axes>"
      ]
     },
     "metadata": {},
     "output_type": "display_data"
    },
    {
     "data": {
      "image/png": "[encoded data removed]",
      "text/plain": [
       "<Figure size 640x480 with 1 Axes>"
      ]
     },
     "metadata": {},
     "output_type": "display_data"
    }
   ],
   "source": [
    "## TODO: Update all\n",
    "\n",
    "cotra_2020_cdf = [0.0214, 0.0272, 0.0328, 0.0385, 0.0458, 0.0551, 0.0641, 0.0721,\n",
    "       0.0827, 0.0923, 0.1061, 0.1199, 0.1343, 0.1574, 0.175 , 0.1917,\n",
    "       0.2108, 0.2321, 0.251 , 0.2825, 0.3001, 0.3177, 0.3317, 0.3531,\n",
    "       0.3829, 0.4089, 0.4372, 0.4606, 0.4829, 0.4944, 0.504 , 0.5147,\n",
    "       0.5243, 0.5335, 0.5423, 0.5521, 0.5608, 0.5719, 0.5826, 0.5922,\n",
    "       0.6011, 0.6096, 0.6209, 0.6379, 0.6524, 0.6682, 0.682 , 0.6948,\n",
    "       0.7084, 0.7207, 0.7314, 0.7362, 0.7407, 0.7456, 0.7506, 0.755 ,\n",
    "       0.7594, 0.7626, 0.7668, 0.7698, 0.7725, 0.7745, 0.7765, 0.7775,\n",
    "       0.7793, 0.7801, 0.781 , 0.7818, 0.7827, 0.7833, 0.7843, 0.7847,\n",
    "       0.7852, 0.7858, 0.7861, 0.7868, 0.7874, 0.7882, 0.7887, 0.7891,\n",
    "       0.7895, 0.7908, 0.7916, 0.7918, 0.7926, 0.7929, 0.7933, 0.7936,\n",
    "       0.7941, 0.7949, 0.795 , 0.7954, 0.7957, 0.7962, 0.7969, 0.7976,\n",
    "       0.7981, 0.7987, 0.7996, 0.8002, 0.8004, 0.801 , 0.8015, 0.8021,\n",
    "       0.8025, 0.8029, 0.8034, 0.8041, 0.8045, 0.8052, 0.8059, 0.806 ,\n",
    "       0.8066, 0.8071, 0.8079, 0.8087, 0.8089, 0.8093, 0.8093, 0.8095,\n",
    "       0.8105, 0.8109, 0.8114, 0.8118, 0.8128, 0.8132, 0.8139, 0.8139,\n",
    "       0.8144, 0.8149, 0.8154, 0.8162, 0.8167, 0.8173, 0.8177, 0.8185,\n",
    "       0.8196, 0.82  , 0.821 , 0.8217, 0.8224, 0.8233, 0.8244, 0.8247,\n",
    "       0.8254, 0.8262, 0.8267, 0.8274, 0.8277, 0.8288, 0.8294, 0.8298,\n",
    "       0.8305, 0.8318, 0.8328, 0.8335, 0.8343, 0.8347, 0.8351, 0.8361,\n",
    "       0.837 , 0.8376, 0.8385, 0.8398, 0.8404, 0.8413, 0.8419, 0.8427,\n",
    "       0.8437, 0.8448, 0.8458, 0.8462, 0.8471, 0.8482, 0.8487, 0.8491,\n",
    "       0.8498, 0.8505, 0.8507, 0.8511, 0.8519, 0.8526, 0.8534, 0.8542,\n",
    "       0.855 , 0.8554, 0.8559, 0.8565, 0.857 , 0.8575, 0.8581, 0.8587,\n",
    "       0.8592, 0.86  , 0.8605, 0.861 , 0.8615, 0.862 , 0.8629]\n",
    "cotra_2020_pdf = np.append(np.array(cotra_2020_cdf[0]), np.diff(cotra_2020_cdf[:len(bins)]))\n",
    "cotra_2020_pdf_smoothed = savitzky_golay(cotra_2020_pdf[:len(bins)], 51, 3)\n",
    "\n",
    "cotra_2022_cdf = [0.0616, 0.0747, 0.0873, 0.1015, 0.118 , 0.1365, 0.1564, 0.1758,\n",
    "       0.1981, 0.2188, 0.2531, 0.2768, 0.2975, 0.3193, 0.3481, 0.3728,\n",
    "       0.4124, 0.433 , 0.4557, 0.4742, 0.4981, 0.5348, 0.569 , 0.6032,\n",
    "       0.627 , 0.6404, 0.6507, 0.6611, 0.6701, 0.6801, 0.6893, 0.697 ,\n",
    "       0.7051, 0.7115, 0.7186, 0.7252, 0.7331, 0.7411, 0.749 , 0.7577,\n",
    "       0.7691, 0.7785, 0.7881, 0.799 , 0.807 , 0.8161, 0.8233, 0.8303,\n",
    "       0.8348, 0.839 , 0.8429, 0.8462, 0.8494, 0.8517, 0.8532, 0.8553,\n",
    "       0.8566, 0.8588, 0.8602, 0.862 , 0.8633, 0.864 , 0.8648, 0.8654,\n",
    "       0.8662, 0.867 , 0.8672, 0.8677, 0.8683, 0.8686, 0.8689, 0.8689,\n",
    "       0.8692, 0.8695, 0.8699, 0.8703, 0.8709, 0.8711, 0.8713, 0.8715,\n",
    "       0.8719, 0.8721, 0.8727, 0.873 , 0.8736, 0.8739, 0.8742, 0.8746,\n",
    "       0.875 , 0.8751, 0.8754, 0.8757, 0.8763, 0.8764, 0.8768, 0.8772,\n",
    "       0.8775, 0.8775, 0.8776, 0.8779, 0.878 , 0.8781, 0.8783, 0.8789,\n",
    "       0.8792, 0.8794, 0.8795, 0.8798, 0.8805, 0.8808, 0.8814, 0.8819,\n",
    "       0.8822, 0.8826, 0.8827, 0.8828, 0.8832, 0.8834, 0.8837, 0.8839,\n",
    "       0.8842, 0.8848, 0.8857, 0.8859, 0.8861, 0.8863, 0.8866, 0.8869,\n",
    "       0.8869, 0.8873, 0.8878, 0.8889, 0.8896, 0.8904, 0.8906, 0.8911,\n",
    "       0.8915, 0.892 , 0.8929, 0.8934, 0.8937, 0.8942, 0.8946, 0.8954,\n",
    "       0.8959, 0.8963, 0.8969, 0.8972, 0.8975, 0.8984, 0.8988, 0.8993,\n",
    "       0.8999, 0.9004, 0.9007, 0.9015, 0.9019, 0.9021, 0.9026, 0.9031,\n",
    "       0.9037, 0.9041, 0.9048, 0.9054, 0.9057, 0.9062, 0.9067, 0.9075,\n",
    "       0.9084, 0.9088, 0.909 , 0.9101, 0.9106, 0.9108, 0.9114, 0.9116,\n",
    "       0.9121, 0.9127, 0.913 , 0.9137, 0.9144, 0.9147, 0.9154, 0.9159,\n",
    "       0.9161, 0.9166, 0.9173, 0.9177, 0.9185, 0.9189, 0.9193, 0.9195,\n",
    "       0.9195, 0.9198, 0.9204, 0.9205, 0.921 , 0.9216, 0.9221]\n",
    "cotra_2022_pdf = np.append(np.array(cotra_2022_cdf[0]), np.diff(cotra_2022_cdf[:len(bins)]))\n",
    "cotra_2022_pdf_smoothed = savitzky_golay(cotra_2022_pdf[:len(bins)], 51, 3)\n",
    "\n",
    "peter_cdf = [0.0024, 0.0045, 0.0106, 0.0179, 0.0258, 0.0345, 0.0423, 0.0522,\n",
    "       0.0638, 0.076 , 0.0885, 0.1028, 0.1165, 0.1332, 0.1498, 0.1669,\n",
    "       0.1835, 0.2004, 0.2162, 0.2369, 0.2551, 0.2711, 0.2861, 0.3021,\n",
    "       0.3184, 0.3314, 0.347 , 0.3589, 0.3729, 0.3882, 0.4022, 0.4142,\n",
    "       0.4268, 0.4394, 0.4498, 0.4614, 0.471 , 0.4828, 0.4929, 0.5014,\n",
    "       0.5097, 0.5179, 0.5275, 0.5359, 0.5456, 0.5545, 0.5634, 0.5711,\n",
    "       0.5808, 0.5891, 0.5949, 0.6039, 0.6125, 0.6198, 0.6257, 0.6331,\n",
    "       0.6392, 0.6453, 0.6503, 0.6571, 0.6629, 0.6684, 0.674 , 0.6803,\n",
    "       0.6858, 0.6904, 0.6956, 0.7006, 0.7052, 0.7099, 0.7146, 0.7179,\n",
    "       0.7209, 0.7253, 0.7293, 0.7325, 0.7352, 0.7388, 0.7421, 0.7448,\n",
    "       0.7482, 0.7503, 0.7523, 0.7539, 0.7566, 0.7591, 0.7616, 0.7632,\n",
    "       0.7667, 0.7685, 0.7699, 0.7714, 0.7729, 0.7749, 0.7769, 0.779 ,\n",
    "       0.7808, 0.7829, 0.7849, 0.787 , 0.7878, 0.7895, 0.7902, 0.792 ,\n",
    "       0.7931, 0.794 , 0.7952, 0.7967, 0.7981, 0.7993, 0.8003, 0.8021,\n",
    "       0.8031, 0.8044, 0.8049, 0.8058, 0.8063, 0.8072, 0.8079, 0.8083,\n",
    "       0.8091, 0.8096, 0.8101, 0.8111, 0.8116, 0.8126, 0.8131, 0.8142,\n",
    "       0.815 , 0.8157, 0.8161, 0.817 , 0.8178, 0.8192, 0.8194, 0.8206,\n",
    "       0.8209, 0.8211, 0.8217, 0.8221, 0.823 , 0.8234, 0.8237, 0.8245,\n",
    "       0.825 , 0.8253, 0.8259, 0.8265, 0.8273, 0.8279, 0.8285, 0.8287,\n",
    "       0.8294, 0.8297, 0.8302, 0.8302, 0.8311, 0.8315, 0.8316, 0.8318,\n",
    "       0.832 , 0.8321, 0.8324, 0.8327, 0.8331, 0.8335, 0.8337, 0.8341,\n",
    "       0.8342, 0.8344, 0.8347, 0.8349, 0.8353, 0.8359, 0.8365, 0.8371,\n",
    "       0.8373, 0.8374, 0.8375, 0.8379, 0.8382, 0.8385, 0.8391, 0.8395,\n",
    "       0.8398, 0.84  , 0.8406, 0.841 , 0.8413, 0.8417, 0.8419, 0.842 ,\n",
    "       0.8426, 0.8427, 0.8432, 0.8434, 0.8439, 0.8444, 0.8448]\n",
    "peter_pdf = np.append(np.array(peter_cdf[0]), np.diff(peter_cdf[:len(bins)]))\n",
    "peter_pdf_smoothed = savitzky_golay(peter_pdf[:len(bins)], 51, 3)\n",
    "\n",
    "plt.plot(bins[:99], cotra_2020_cdf[:99], label='Cotra 2020 CDF')\n",
    "plt.plot(bins[:99], cotra_2022_cdf[:99], label='Cotra 2022 CDF (guess)')\n",
    "plt.plot(bins[:99], peter_cdf[:99], label='Wildeford CDF')\n",
    "plt.legend()\n",
    "plt.show()\n",
    "\n",
    "plt.plot(bins[:99], cotra_2020_pdf_smoothed[:99], label='Cotra 2020 PDF (smoothed)')\n",
    "plt.plot(bins[:99], cotra_2022_pdf_smoothed[:99], label='Cotra 2022 PDF (guess, smoothed)')\n",
    "plt.plot(bins[:99], peter_pdf_smoothed[:99], label='Wildeford PDF (smoothed)')\n",
    "plt.legend()\n",
    "plt.show()"
   ]
  },
  {
   "cell_type": "markdown",
   "metadata": {},
   "source": [
    "## Sensitivity Analysis"
   ]
  },
  {
   "cell_type": "code",
   "execution_count": 70,
   "metadata": {},
   "outputs": [
    {
     "name": "stdout",
     "output_type": "stream",
     "text": [
      "## Default ##\n",
      "59: [2068, 2068, 2068]\n"
     ]
    }
   ],
   "source": [
    "print('## Default ##')\n",
    "results = sq.sample(lambda: run_model(initial_gdp_=21*T,\n",
    "                                      tai_flop_size_=36,\n",
    "                                      nonscaling_delay_=0,\n",
    "                                      algo_doubling_rate_=2,\n",
    "                                      possible_algo_reduction_=2,\n",
    "                                      initial_flops_per_dollar_=10 ** 18,\n",
    "                                      flops_halving_rate_=2.5,\n",
    "                                      max_flops_per_dollar_=10 ** 24,\n",
    "                                      initial_pay_=10*M,\n",
    "                                      gdp_growth_=1.03,\n",
    "                                      max_gdp_frac_=1/1600,\n",
    "                                      willingness_ramp_=1,\n",
    "                                      spend_doubling_time_=2.5,\n",
    "                                      initial_chance_of_nonscaling_issue_=0,\n",
    "                                      final_chance_of_nonscaling_issue_=0,\n",
    "                                      nonscaling_issue_bottom_year_=0,\n",
    "                                      willingness_spend_horizon_=1,\n",
    "                                      print_diagnostic=False), n=1000)\n",
    "print('{}: {}'.format(t,\n",
    "                      ['>2222' if int(sq.get_percentiles(results)[5]) > 2222 else int(sq.get_percentiles(results)[5]),\n",
    "                       '>2222' if int(sq.get_percentiles(results)[50]) > 2222 else int(sq.get_percentiles(results)[50]),\n",
    "                       '>2222' if int(sq.get_percentiles(results)[95]) > 2222 else int(sq.get_percentiles(results)[95])]))\n",
    "          "
   ]
  },
  {
   "cell_type": "code",
   "execution_count": 71,
   "metadata": {},
   "outputs": [
    {
     "name": "stdout",
     "output_type": "stream",
     "text": [
      "## TAI FLOP Size ##\n",
      "20: [2023, 2023, 2023]\n",
      "21: [2023, 2023, 2023]\n",
      "22: [2023, 2023, 2023]\n",
      "23: [2023, 2023, 2023]\n",
      "24: [2023, 2023, 2023]\n",
      "25: [2024, 2024, 2024]\n",
      "26: [2026, 2026, 2026]\n",
      "27: [2029, 2029, 2029]\n",
      "28: [2031, 2031, 2031]\n",
      "29: [2034, 2034, 2034]\n",
      "30: [2037, 2037, 2037]\n",
      "31: [2041, 2041, 2041]\n",
      "32: [2045, 2045, 2045]\n",
      "33: [2049, 2049, 2049]\n",
      "34: [2054, 2054, 2054]\n",
      "35: [2061, 2061, 2061]\n",
      "36: [2068, 2068, 2068]\n",
      "37: [2092, 2092, 2092]\n",
      "38: [2124, 2124, 2124]\n",
      "39: [2124, 2124, 2124]\n",
      "40: [2124, 2124, 2124]\n",
      "41: [2124, 2124, 2124]\n",
      "42: [2124, 2124, 2124]\n"
     ]
    }
   ],
   "source": [
    "print('## TAI FLOP Size ##')\n",
    "for t in range(20, 43):\n",
    "    results = sq.sample(lambda: run_model(initial_gdp_=21*T,\n",
    "                                          tai_flop_size_=t,\n",
    "                                          nonscaling_delay_=0,\n",
    "                                          algo_doubling_rate_=2,\n",
    "                                          possible_algo_reduction_=2,\n",
    "                                          initial_flops_per_dollar_=10 ** 18,\n",
    "                                          flops_halving_rate_=2.5,\n",
    "                                          max_flops_per_dollar_=10 ** 24,\n",
    "                                          initial_pay_=10*M,\n",
    "                                          gdp_growth_=1.03,\n",
    "                                          max_gdp_frac_=1/1600,\n",
    "                                          willingness_ramp_=1,\n",
    "                                          spend_doubling_time_=2.5,\n",
    "                                          initial_chance_of_nonscaling_issue_=0,\n",
    "                                          final_chance_of_nonscaling_issue_=0,\n",
    "                                          nonscaling_issue_bottom_year_=0,\n",
    "                                          willingness_spend_horizon_=1,\n",
    "                                          print_diagnostic=False), n=1000)\n",
    "    print('{}: {}'.format(t,\n",
    "                          ['>2222' if int(sq.get_percentiles(results)[5]) > 2222 else int(sq.get_percentiles(results)[5]),\n",
    "                           '>2222' if int(sq.get_percentiles(results)[50]) > 2222 else int(sq.get_percentiles(results)[50]),\n",
    "                           '>2222' if int(sq.get_percentiles(results)[95]) > 2222 else int(sq.get_percentiles(results)[95])]))\n",
    "    "
   ]
  },
  {
   "cell_type": "code",
   "execution_count": 72,
   "metadata": {},
   "outputs": [
    {
     "name": "stdout",
     "output_type": "stream",
     "text": [
      "## GDP Growth ##\n",
      "1.0: [2078, 2078, 2078]\n",
      "1.01: [2073, 2073, 2073]\n",
      "1.02: [2070, 2070, 2070]\n",
      "1.03: [2068, 2068, 2068]\n",
      "1.04: [2067, 2067, 2067]\n"
     ]
    }
   ],
   "source": [
    "print('## GDP Growth ##')\n",
    "for g in range(0, 5):\n",
    "    results = sq.sample(lambda: run_model(initial_gdp_=21*T,\n",
    "                                          tai_flop_size_=36,\n",
    "                                          nonscaling_delay_=0,\n",
    "                                          algo_doubling_rate_=2,\n",
    "                                          possible_algo_reduction_=2,\n",
    "                                          initial_flops_per_dollar_=10 ** 18,\n",
    "                                          flops_halving_rate_=2.5,\n",
    "                                          max_flops_per_dollar_=10 ** 24,\n",
    "                                          initial_pay_=10*M,\n",
    "                                          gdp_growth_=1 + g/100,\n",
    "                                          max_gdp_frac_=1/1600,\n",
    "                                          willingness_ramp_=1,\n",
    "                                          spend_doubling_time_=2.5,\n",
    "                                          initial_chance_of_nonscaling_issue_=0,\n",
    "                                          final_chance_of_nonscaling_issue_=0,\n",
    "                                          nonscaling_issue_bottom_year_=0,\n",
    "                                          willingness_spend_horizon_=1,\n",
    "                                          print_diagnostic=False), n=1000)\n",
    "    print('{}: {}'.format(1 + g / 100,\n",
    "                          ['>2222' if int(sq.get_percentiles(results)[5]) > 2222 else int(sq.get_percentiles(results)[5]),\n",
    "                           '>2222' if int(sq.get_percentiles(results)[50]) > 2222 else int(sq.get_percentiles(results)[50]),\n",
    "                           '>2222' if int(sq.get_percentiles(results)[95]) > 2222 else int(sq.get_percentiles(results)[95])]))\n",
    "    "
   ]
  },
  {
   "cell_type": "code",
   "execution_count": 73,
   "metadata": {},
   "outputs": [
    {
     "name": "stdout",
     "output_type": "stream",
     "text": [
      "## Max GDP Frac ##\n",
      "2e-06: [2124, 2124, 2124]\n",
      "4e-06: [2124, 2124, 2124]\n",
      "1e-05: [2124, 2124, 2124]\n",
      "2e-05: [2124, 2124, 2124]\n",
      "0.0001: [2081, 2081, 2081]\n",
      "0.0005: [2069, 2069, 2069]\n",
      "0.0005: [2069, 2069, 2069]\n",
      "0.0006666666666666666: [2068, 2068, 2068]\n",
      "0.001: [2067, 2067, 2067]\n",
      "0.002: [2065, 2065, 2065]\n",
      "0.003: [2064, 2064, 2064]\n",
      "0.004: [2063, 2063, 2063]\n",
      "0.005: [2063, 2063, 2063]\n",
      "0.01: [2062, 2062, 2062]\n",
      "0.02: [2061, 2061, 2061]\n",
      "0.03: [2061, 2061, 2061]\n",
      "0.04: [2061, 2061, 2061]\n"
     ]
    }
   ],
   "source": [
    "print('## Max GDP Frac ##')\n",
    "for g in [1/(500*K), 1/(250*K), 1/(100*K), 1/(50*K), 1/(10*K), 5/(10*K),\n",
    "          1/2000, 1/1500, 1/1000, 2/1000, 3/1000, 4/1000, 5/1000, 1/100,\n",
    "          2/100, 3/100, 4/100]:\n",
    "    results = sq.sample(lambda: run_model(initial_gdp_=21*T,\n",
    "                                          tai_flop_size_=36,\n",
    "                                          nonscaling_delay_=0,\n",
    "                                          algo_doubling_rate_=2,\n",
    "                                          possible_algo_reduction_=2,\n",
    "                                          initial_flops_per_dollar_=10 ** 18,\n",
    "                                          flops_halving_rate_=2.5,\n",
    "                                          max_flops_per_dollar_=10 ** 24,\n",
    "                                          initial_pay_=10*M,\n",
    "                                          gdp_growth_=1.03,\n",
    "                                          max_gdp_frac_=g,\n",
    "                                          willingness_ramp_=1,\n",
    "                                          spend_doubling_time_=2.5,\n",
    "                                          initial_chance_of_nonscaling_issue_=0,\n",
    "                                          final_chance_of_nonscaling_issue_=0,\n",
    "                                          nonscaling_issue_bottom_year_=0,\n",
    "                                          willingness_spend_horizon_=1,\n",
    "                                          print_diagnostic=False), n=1000)\n",
    "    print('{}: {}'.format(g,\n",
    "                          ['>2222' if int(sq.get_percentiles(results)[5]) > 2222 else int(sq.get_percentiles(results)[5]),\n",
    "                           '>2222' if int(sq.get_percentiles(results)[50]) > 2222 else int(sq.get_percentiles(results)[50]),\n",
    "                           '>2222' if int(sq.get_percentiles(results)[95]) > 2222 else int(sq.get_percentiles(results)[95])]))\n",
    "    "
   ]
  },
  {
   "cell_type": "code",
   "execution_count": 74,
   "metadata": {},
   "outputs": [
    {
     "name": "stdout",
     "output_type": "stream",
     "text": [
      "## Spend Doubling Time ##\n",
      "1.0: [2068, 2068, 2068]\n",
      "1.1: [2068, 2068, 2068]\n",
      "1.2: [2068, 2068, 2068]\n",
      "1.3: [2068, 2068, 2068]\n",
      "1.4: [2068, 2068, 2068]\n",
      "1.5: [2068, 2068, 2068]\n",
      "1.6: [2068, 2068, 2068]\n",
      "1.7: [2068, 2068, 2068]\n",
      "1.8: [2068, 2068, 2068]\n",
      "1.9: [2068, 2068, 2068]\n",
      "2.0: [2068, 2068, 2068]\n",
      "2.1: [2068, 2068, 2068]\n",
      "2.2: [2068, 2068, 2068]\n",
      "2.3: [2068, 2068, 2068]\n",
      "2.4: [2068, 2068, 2068]\n",
      "2.5: [2068, 2068, 2068]\n",
      "2.6: [2068, 2068, 2068]\n",
      "2.7: [2069, 2069, 2069]\n",
      "2.8: [2069, 2069, 2069]\n",
      "2.9: [2069, 2069, 2069]\n",
      "3.0: [2069, 2069, 2069]\n",
      "3.1: [2069, 2069, 2069]\n",
      "3.2: [2069, 2069, 2069]\n",
      "3.3: [2070, 2070, 2070]\n",
      "3.4: [2070, 2070, 2070]\n",
      "3.5: [2070, 2070, 2070]\n",
      "3.6: [2070, 2070, 2070]\n",
      "3.7: [2071, 2071, 2071]\n",
      "3.8: [2071, 2071, 2071]\n",
      "3.9: [2072, 2072, 2072]\n",
      "4.0: [2072, 2072, 2072]\n",
      "4.1: [2072, 2072, 2072]\n",
      "4.2: [2073, 2073, 2073]\n",
      "4.3: [2073, 2073, 2073]\n",
      "4.4: [2074, 2074, 2074]\n",
      "4.5: [2074, 2074, 2074]\n",
      "4.6: [2075, 2075, 2075]\n",
      "4.7: [2075, 2075, 2075]\n",
      "4.8: [2076, 2076, 2076]\n",
      "4.9: [2077, 2077, 2077]\n",
      "5.0: [2077, 2077, 2077]\n",
      "5.1: [2078, 2078, 2078]\n",
      "5.2: [2078, 2078, 2078]\n",
      "5.3: [2079, 2079, 2079]\n",
      "5.4: [2080, 2080, 2080]\n",
      "5.5: [2081, 2081, 2081]\n",
      "5.6: [2081, 2081, 2081]\n",
      "5.7: [2082, 2082, 2082]\n",
      "5.8: [2083, 2083, 2083]\n",
      "5.9: [2084, 2084, 2084]\n"
     ]
    }
   ],
   "source": [
    "print('## Spend Doubling Time ##')\n",
    "for d in range(0, 50):\n",
    "    results = sq.sample(lambda: run_model(initial_gdp_=21*T,\n",
    "                                          tai_flop_size_=36,\n",
    "                                          nonscaling_delay_=0,\n",
    "                                          algo_doubling_rate_=2,\n",
    "                                          possible_algo_reduction_=2,\n",
    "                                          initial_flops_per_dollar_=10 ** 18,\n",
    "                                          flops_halving_rate_=2.5,\n",
    "                                          max_flops_per_dollar_=10 ** 24,\n",
    "                                          initial_pay_=10*M,\n",
    "                                          gdp_growth_=1.03,\n",
    "                                          max_gdp_frac_=1/1600,\n",
    "                                          willingness_ramp_=1,\n",
    "                                          spend_doubling_time_=1 + d / 10,\n",
    "                                          initial_chance_of_nonscaling_issue_=0,\n",
    "                                          final_chance_of_nonscaling_issue_=0,\n",
    "                                          nonscaling_issue_bottom_year_=0,\n",
    "                                          willingness_spend_horizon_=1,\n",
    "                                          print_diagnostic=False), n=1000)\n",
    "    print('{}: {}'.format(1 + d / 10,\n",
    "                          ['>2222' if int(sq.get_percentiles(results)[5]) > 2222 else int(sq.get_percentiles(results)[5]),\n",
    "                           '>2222' if int(sq.get_percentiles(results)[50]) > 2222 else int(sq.get_percentiles(results)[50]),\n",
    "                           '>2222' if int(sq.get_percentiles(results)[95]) > 2222 else int(sq.get_percentiles(results)[95])]))\n",
    "    "
   ]
  },
  {
   "cell_type": "code",
   "execution_count": 75,
   "metadata": {},
   "outputs": [
    {
     "name": "stdout",
     "output_type": "stream",
     "text": [
      "## Initial FLOPs per dollar ##\n",
      "17: [2076, 2076, 2076]\n",
      "17.5: [2072, 2072, 2072]\n",
      "18: [2068, 2068, 2068]\n"
     ]
    }
   ],
   "source": [
    "print('## Initial FLOPs per dollar ##')\n",
    "for d in [17, 17.5, 18]:\n",
    "    results = sq.sample(lambda: run_model(initial_gdp_=21*T,\n",
    "                                          tai_flop_size_=36,\n",
    "                                          nonscaling_delay_=0,\n",
    "                                          algo_doubling_rate_=2,\n",
    "                                          possible_algo_reduction_=2,\n",
    "                                          initial_flops_per_dollar_=10 ** d,\n",
    "                                          flops_halving_rate_=2.5,\n",
    "                                          max_flops_per_dollar_=10 ** 24,\n",
    "                                          initial_pay_=10*M,\n",
    "                                          gdp_growth_=1.03,\n",
    "                                          max_gdp_frac_=1/1600,\n",
    "                                          willingness_ramp_=1,\n",
    "                                          spend_doubling_time_=2.5,\n",
    "                                          initial_chance_of_nonscaling_issue_=0,\n",
    "                                          final_chance_of_nonscaling_issue_=0,\n",
    "                                          nonscaling_issue_bottom_year_=0,\n",
    "                                          willingness_spend_horizon_=1,\n",
    "                                          print_diagnostic=False), n=1000)\n",
    "    print('{}: {}'.format(d,\n",
    "                          ['>2222' if int(sq.get_percentiles(results)[5]) > 2222 else int(sq.get_percentiles(results)[5]),\n",
    "                           '>2222' if int(sq.get_percentiles(results)[50]) > 2222 else int(sq.get_percentiles(results)[50]),\n",
    "                           '>2222' if int(sq.get_percentiles(results)[95]) > 2222 else int(sq.get_percentiles(results)[95])]))\n",
    "    "
   ]
  },
  {
   "cell_type": "code",
   "execution_count": 76,
   "metadata": {},
   "outputs": [
    {
     "name": "stdout",
     "output_type": "stream",
     "text": [
      "## Initial pay ##\n",
      "$10 million: [2068, 2068, 2068]\n",
      "$13 million: [2068, 2068, 2068]\n",
      "$16 million: [2068, 2068, 2068]\n",
      "$20 million: [2068, 2068, 2068]\n",
      "$25 million: [2068, 2068, 2068]\n",
      "$32 million: [2068, 2068, 2068]\n",
      "$40 million: [2068, 2068, 2068]\n",
      "$50 million: [2068, 2068, 2068]\n",
      "$63 million: [2068, 2068, 2068]\n",
      "$79 million: [2068, 2068, 2068]\n",
      "$100 million: [2068, 2068, 2068]\n",
      "$126 million: [2068, 2068, 2068]\n",
      "$158 million: [2068, 2068, 2068]\n",
      "$200 million: [2068, 2068, 2068]\n",
      "$251 million: [2068, 2068, 2068]\n",
      "$316 million: [2068, 2068, 2068]\n",
      "$398 million: [2068, 2068, 2068]\n",
      "$501 million: [2068, 2068, 2068]\n",
      "$631 million: [2068, 2068, 2068]\n",
      "$794 million: [2068, 2068, 2068]\n",
      "$1 billion: [2068, 2068, 2068]\n"
     ]
    }
   ],
   "source": [
    "print('## Initial pay ##')\n",
    "for p in range(70, 91):\n",
    "    results = sq.sample(lambda: run_model(initial_gdp_=21*T,\n",
    "                                          tai_flop_size_=36,\n",
    "                                          nonscaling_delay_=0,\n",
    "                                          algo_doubling_rate_=2,\n",
    "                                          possible_algo_reduction_=2,\n",
    "                                          initial_flops_per_dollar_=10 ** 18,\n",
    "                                          flops_halving_rate_=2.5,\n",
    "                                          max_flops_per_dollar_=10 ** 24,\n",
    "                                          initial_pay_=10 ** (p / 10),\n",
    "                                          gdp_growth_=1.03,\n",
    "                                          max_gdp_frac_=1/1600,\n",
    "                                          willingness_ramp_=1,\n",
    "                                          spend_doubling_time_=2.5,\n",
    "                                          initial_chance_of_nonscaling_issue_=0,\n",
    "                                          final_chance_of_nonscaling_issue_=0,\n",
    "                                          nonscaling_issue_bottom_year_=0,\n",
    "                                          willingness_spend_horizon_=1,\n",
    "                                          print_diagnostic=False), n=1000)\n",
    "    print('${}: {}'.format(numerize(10 ** (p / 10)),\n",
    "                           ['>2222' if int(sq.get_percentiles(results)[5]) > 2222 else int(sq.get_percentiles(results)[5]),\n",
    "                            '>2222' if int(sq.get_percentiles(results)[50]) > 2222 else int(sq.get_percentiles(results)[50]),\n",
    "                            '>2222' if int(sq.get_percentiles(results)[95]) > 2222 else int(sq.get_percentiles(results)[95])]))\n",
    "    "
   ]
  },
  {
   "cell_type": "code",
   "execution_count": 77,
   "metadata": {},
   "outputs": [
    {
     "name": "stdout",
     "output_type": "stream",
     "text": [
      "## FLOPs halving rate ##\n",
      "0.5: [2050, 2050, 2050]\n",
      "0.6: [2050, 2050, 2050]\n",
      "0.7: [2050, 2050, 2050]\n",
      "0.8: [2050, 2050, 2050]\n",
      "0.9: [2050, 2050, 2050]\n",
      "1.0: [2050, 2050, 2050]\n",
      "1.1: [2050, 2050, 2050]\n",
      "1.2: [2051, 2051, 2051]\n",
      "1.3: [2052, 2052, 2052]\n",
      "1.4: [2053, 2053, 2053]\n",
      "1.5: [2054, 2054, 2054]\n",
      "1.6: [2055, 2055, 2055]\n",
      "1.7: [2056, 2056, 2056]\n",
      "1.8: [2058, 2058, 2058]\n",
      "1.9: [2059, 2059, 2059]\n",
      "2.0: [2061, 2061, 2061]\n",
      "2.1: [2062, 2062, 2062]\n",
      "2.2: [2064, 2064, 2064]\n",
      "2.3: [2065, 2065, 2065]\n",
      "2.4: [2067, 2067, 2067]\n",
      "2.5: [2068, 2068, 2068]\n",
      "2.6: [2070, 2070, 2070]\n",
      "2.7: [2072, 2072, 2072]\n",
      "2.8: [2073, 2073, 2073]\n",
      "2.9: [2075, 2075, 2075]\n",
      "3.0: [2076, 2076, 2076]\n",
      "3.1: [2078, 2078, 2078]\n",
      "3.2: [2079, 2079, 2079]\n",
      "3.3: [2081, 2081, 2081]\n",
      "3.4: [2082, 2082, 2082]\n",
      "3.5: [2084, 2084, 2084]\n",
      "3.6: [2085, 2085, 2085]\n",
      "3.7: [2087, 2087, 2087]\n",
      "3.8: [2088, 2088, 2088]\n",
      "3.9: [2089, 2089, 2089]\n",
      "4.0: [2091, 2091, 2091]\n"
     ]
    }
   ],
   "source": [
    "print('## FLOPs halving rate ##')\n",
    "for f in range(5, 41):\n",
    "    results = sq.sample(lambda: run_model(initial_gdp_=21*T,\n",
    "                                          tai_flop_size_=36,\n",
    "                                          nonscaling_delay_=0,\n",
    "                                          algo_doubling_rate_=2,\n",
    "                                          possible_algo_reduction_=2,\n",
    "                                          initial_flops_per_dollar_=10 ** 18,\n",
    "                                          flops_halving_rate_=f / 10,\n",
    "                                          max_flops_per_dollar_=10 ** 24,\n",
    "                                          initial_pay_=10*M,\n",
    "                                          gdp_growth_=1.03,\n",
    "                                          max_gdp_frac_=1/1600,\n",
    "                                          willingness_ramp_=1,\n",
    "                                          spend_doubling_time_=2.5,\n",
    "                                          initial_chance_of_nonscaling_issue_=0,\n",
    "                                          final_chance_of_nonscaling_issue_=0,\n",
    "                                          nonscaling_issue_bottom_year_=0,\n",
    "                                          willingness_spend_horizon_=1,\n",
    "                                          print_diagnostic=False), n=1000)\n",
    "    print('{}: {}'.format(f / 10,\n",
    "                          ['>2222' if int(sq.get_percentiles(results)[5]) > 2222 else int(sq.get_percentiles(results)[5]),\n",
    "                           '>2222' if int(sq.get_percentiles(results)[50]) > 2222 else int(sq.get_percentiles(results)[50]),\n",
    "                           '>2222' if int(sq.get_percentiles(results)[95]) > 2222 else int(sq.get_percentiles(results)[95])]))\n",
    "    "
   ]
  },
  {
   "cell_type": "code",
   "execution_count": 78,
   "metadata": {},
   "outputs": [
    {
     "name": "stdout",
     "output_type": "stream",
     "text": [
      "## Max FLOPs per dollar ##\n",
      "20: [2124, 2124, 2124]\n",
      "21: [2124, 2124, 2124]\n",
      "22: [2124, 2124, 2124]\n",
      "23: [2092, 2092, 2092]\n",
      "24: [2068, 2068, 2068]\n",
      "25: [2068, 2068, 2068]\n",
      "26: [2068, 2068, 2068]\n",
      "27: [2068, 2068, 2068]\n",
      "28: [2068, 2068, 2068]\n",
      "29: [2068, 2068, 2068]\n",
      "30: [2068, 2068, 2068]\n"
     ]
    }
   ],
   "source": [
    "print('## Max FLOPs per dollar ##')\n",
    "for f in range(20, 31):\n",
    "    results = sq.sample(lambda: run_model(initial_gdp_=21*T,\n",
    "                                          tai_flop_size_=36,\n",
    "                                          nonscaling_delay_=0,\n",
    "                                          algo_doubling_rate_=2,\n",
    "                                          possible_algo_reduction_=2,\n",
    "                                          initial_flops_per_dollar_=10 ** 18,\n",
    "                                          flops_halving_rate_=2.5,\n",
    "                                          max_flops_per_dollar_=10 ** f,\n",
    "                                          initial_pay_=10*M,\n",
    "                                          gdp_growth_=1.03,\n",
    "                                          max_gdp_frac_=1/1600,\n",
    "                                          willingness_ramp_=1,\n",
    "                                          spend_doubling_time_=2.5,\n",
    "                                          initial_chance_of_nonscaling_issue_=0,\n",
    "                                          final_chance_of_nonscaling_issue_=0,\n",
    "                                          nonscaling_issue_bottom_year_=0,\n",
    "                                          willingness_spend_horizon_=1,\n",
    "                                          print_diagnostic=False), n=1000)\n",
    "    print('{}: {}'.format(f,\n",
    "                          ['>2222' if int(sq.get_percentiles(results)[5]) > 2222 else int(sq.get_percentiles(results)[5]),\n",
    "                           '>2222' if int(sq.get_percentiles(results)[50]) > 2222 else int(sq.get_percentiles(results)[50]),\n",
    "                           '>2222' if int(sq.get_percentiles(results)[95]) > 2222 else int(sq.get_percentiles(results)[95])]))\n",
    "    "
   ]
  },
  {
   "cell_type": "code",
   "execution_count": 79,
   "metadata": {},
   "outputs": [
    {
     "name": "stdout",
     "output_type": "stream",
     "text": [
      "## Willingness ramp ##\n",
      "0.1: [2061, 2061, 2061]\n",
      "0.2: [2063, 2063, 2063]\n",
      "0.3: [2064, 2064, 2064]\n",
      "0.4: [2065, 2065, 2065]\n",
      "0.5: [2066, 2066, 2066]\n",
      "0.6: [2067, 2067, 2067]\n",
      "0.7: [2067, 2067, 2067]\n",
      "0.8: [2068, 2068, 2068]\n",
      "0.9: [2068, 2068, 2068]\n",
      "1.0: [2068, 2068, 2068]\n"
     ]
    }
   ],
   "source": [
    "print('## Willingness ramp ##')\n",
    "for r in range(1, 11):\n",
    "    results = sq.sample(lambda: run_model(initial_gdp_=21*T,\n",
    "                                          tai_flop_size_=36,\n",
    "                                          nonscaling_delay_=0,\n",
    "                                          algo_doubling_rate_=2,\n",
    "                                          possible_algo_reduction_=2,\n",
    "                                          initial_flops_per_dollar_=10 ** 18,\n",
    "                                          flops_halving_rate_=2.5,\n",
    "                                          max_flops_per_dollar_=10 ** 24,\n",
    "                                          initial_pay_=10*M,\n",
    "                                          gdp_growth_=1.03,\n",
    "                                          max_gdp_frac_=1/1600,\n",
    "                                          willingness_ramp_=r / 10,\n",
    "                                          spend_doubling_time_=2.5,\n",
    "                                          initial_chance_of_nonscaling_issue_=0,\n",
    "                                          final_chance_of_nonscaling_issue_=0,\n",
    "                                          nonscaling_issue_bottom_year_=0,\n",
    "                                          willingness_spend_horizon_=1,\n",
    "                                          print_diagnostic=False), n=1000)\n",
    "    print('{}: {}'.format(r / 10,\n",
    "                          ['>2222' if int(sq.get_percentiles(results)[5]) > 2222 else int(sq.get_percentiles(results)[5]),\n",
    "                           '>2222' if int(sq.get_percentiles(results)[50]) > 2222 else int(sq.get_percentiles(results)[50]),\n",
    "                           '>2222' if int(sq.get_percentiles(results)[95]) > 2222 else int(sq.get_percentiles(results)[95])]))\n",
    "    "
   ]
  },
  {
   "cell_type": "code",
   "execution_count": 80,
   "metadata": {},
   "outputs": [
    {
     "name": "stdout",
     "output_type": "stream",
     "text": [
      "## Willingness to spend horizon ##\n",
      "1: [2068, 2068, 2068]\n",
      "2: [2068, 2068, 2068]\n",
      "3: [2067, 2067, 2067]\n",
      "4: [2067, 2067, 2067]\n",
      "5: [2067, 2067, 2067]\n",
      "6: [2067, 2067, 2067]\n",
      "7: [2067, 2067, 2067]\n",
      "8: [2067, 2067, 2067]\n",
      "9: [2067, 2067, 2067]\n",
      "10: [2067, 2067, 2067]\n"
     ]
    }
   ],
   "source": [
    "print('## Willingness to spend horizon ##')\n",
    "for y in range(1, 11):\n",
    "    results = sq.sample(lambda: run_model(initial_gdp_=21*T,\n",
    "                                          tai_flop_size_=36,\n",
    "                                          nonscaling_delay_=0,\n",
    "                                          algo_doubling_rate_=2,\n",
    "                                          possible_algo_reduction_=2,\n",
    "                                          initial_flops_per_dollar_=10 ** 18,\n",
    "                                          flops_halving_rate_=2.5,\n",
    "                                          max_flops_per_dollar_=10 ** 24,\n",
    "                                          initial_pay_=10*M,\n",
    "                                          gdp_growth_=1.03,\n",
    "                                          max_gdp_frac_=1/1600,\n",
    "                                          willingness_ramp_=1,\n",
    "                                          spend_doubling_time_=2.5,\n",
    "                                          initial_chance_of_nonscaling_issue_=0,\n",
    "                                          final_chance_of_nonscaling_issue_=0,\n",
    "                                          nonscaling_issue_bottom_year_=0,\n",
    "                                          willingness_spend_horizon_=y,\n",
    "                                          print_diagnostic=False), n=1000)\n",
    "    print('{}: {}'.format(y,\n",
    "                          ['>2222' if int(sq.get_percentiles(results)[5]) > 2222 else int(sq.get_percentiles(results)[5]),\n",
    "                           '>2222' if int(sq.get_percentiles(results)[50]) > 2222 else int(sq.get_percentiles(results)[50]),\n",
    "                           '>2222' if int(sq.get_percentiles(results)[95]) > 2222 else int(sq.get_percentiles(results)[95])]))\n",
    "    "
   ]
  },
  {
   "cell_type": "code",
   "execution_count": 81,
   "metadata": {},
   "outputs": [
    {
     "name": "stdout",
     "output_type": "stream",
     "text": [
      "## Algo doubling rate ##\n",
      "1.0: [2067, 2067, 2067]\n",
      "1.2: [2067, 2067, 2067]\n",
      "1.4: [2067, 2067, 2067]\n",
      "1.6: [2067, 2067, 2067]\n",
      "1.8: [2067, 2067, 2067]\n",
      "2.0: [2067, 2067, 2067]\n",
      "2.2: [2067, 2067, 2067]\n",
      "2.4: [2067, 2067, 2067]\n",
      "2.6: [2067, 2067, 2067]\n",
      "2.8: [2068, 2068, 2068]\n",
      "3.0: [2068, 2068, 2068]\n",
      "3.2: [2068, 2068, 2068]\n",
      "3.4: [2068, 2068, 2068]\n",
      "3.6: [2068, 2068, 2068]\n",
      "3.8: [2068, 2068, 2068]\n",
      "4.0: [2068, 2068, 2068]\n"
     ]
    }
   ],
   "source": [
    "print('## Algo doubling rate ##')\n",
    "for d in range(10, 41, 2):\n",
    "    results = sq.sample(lambda: run_model(initial_gdp_=21*T,\n",
    "                                          tai_flop_size_=36,\n",
    "                                          nonscaling_delay_=0,\n",
    "                                          algo_doubling_rate_=d / 10,\n",
    "                                          possible_algo_reduction_=2,\n",
    "                                          initial_flops_per_dollar_=10 ** 18,\n",
    "                                          flops_halving_rate_=2.5,\n",
    "                                          max_flops_per_dollar_=10 ** 24,\n",
    "                                          initial_pay_=10*M,\n",
    "                                          gdp_growth_=1.03,\n",
    "                                          max_gdp_frac_=1/1600,\n",
    "                                          willingness_ramp_=1,\n",
    "                                          spend_doubling_time_=2.5,\n",
    "                                          initial_chance_of_nonscaling_issue_=0,\n",
    "                                          final_chance_of_nonscaling_issue_=0,\n",
    "                                          nonscaling_issue_bottom_year_=0,\n",
    "                                          willingness_spend_horizon_=y,\n",
    "                                          print_diagnostic=False), n=1000)\n",
    "    print('{}: {}'.format(d / 10,\n",
    "                          ['>2222' if int(sq.get_percentiles(results)[5]) > 2222 else int(sq.get_percentiles(results)[5]),\n",
    "                           '>2222' if int(sq.get_percentiles(results)[50]) > 2222 else int(sq.get_percentiles(results)[50]),\n",
    "                           '>2222' if int(sq.get_percentiles(results)[95]) > 2222 else int(sq.get_percentiles(results)[95])]))\n",
    "    "
   ]
  },
  {
   "cell_type": "code",
   "execution_count": 82,
   "metadata": {},
   "outputs": [
    {
     "name": "stdout",
     "output_type": "stream",
     "text": [
      "## Possible algo reduction ##\n",
      "0: [2102, 2102, 2102]\n",
      "1: [2076, 2076, 2076]\n",
      "2: [2067, 2067, 2067]\n",
      "3: [2060, 2060, 2060]\n",
      "4: [2055, 2055, 2055]\n",
      "5: [2053, 2053, 2053]\n",
      "6: [2052, 2052, 2052]\n",
      "7: [2052, 2052, 2052]\n",
      "8: [2052, 2052, 2052]\n",
      "9: [2052, 2052, 2052]\n",
      "10: [2052, 2052, 2052]\n",
      "11: [2052, 2052, 2052]\n",
      "12: [2052, 2052, 2052]\n"
     ]
    }
   ],
   "source": [
    "print('## Possible algo reduction ##')\n",
    "for r in range(0, 13):\n",
    "    results = sq.sample(lambda: run_model(initial_gdp_=21*T,\n",
    "                                          tai_flop_size_=36,\n",
    "                                          nonscaling_delay_=0,\n",
    "                                          algo_doubling_rate_=2,\n",
    "                                          possible_algo_reduction_=r,\n",
    "                                          initial_flops_per_dollar_=10 ** 18,\n",
    "                                          flops_halving_rate_=2.5,\n",
    "                                          max_flops_per_dollar_=10 ** 24,\n",
    "                                          initial_pay_=10*M,\n",
    "                                          gdp_growth_=1.03,\n",
    "                                          max_gdp_frac_=1/1600,\n",
    "                                          willingness_ramp_=1,\n",
    "                                          spend_doubling_time_=2.5,\n",
    "                                          initial_chance_of_nonscaling_issue_=0,\n",
    "                                          final_chance_of_nonscaling_issue_=0,\n",
    "                                          nonscaling_issue_bottom_year_=0,\n",
    "                                          willingness_spend_horizon_=y,\n",
    "                                          print_diagnostic=False), n=1000)\n",
    "    print('{}: {}'.format(r,\n",
    "                          ['>2222' if int(sq.get_percentiles(results)[5]) > 2222 else int(sq.get_percentiles(results)[5]),\n",
    "                           '>2222' if int(sq.get_percentiles(results)[50]) > 2222 else int(sq.get_percentiles(results)[50]),\n",
    "                           '>2222' if int(sq.get_percentiles(results)[95]) > 2222 else int(sq.get_percentiles(results)[95])]))\n",
    "    "
   ]
  },
  {
   "cell_type": "code",
   "execution_count": 83,
   "metadata": {},
   "outputs": [],
   "source": [
    "# TODO: Wildeford meta anchor horizon length\n",
    "# TODO: Wildeford meta anchor efficiency w/ efficiency-based algorithmic reduction\n",
    "# TODO: efficiency-based algorithmic reduction vs. regular algorithmic reduction"
   ]
  },
  {
   "cell_type": "code",
   "execution_count": 84,
   "metadata": {},
   "outputs": [
    {
     "name": "stdout",
     "output_type": "stream",
     "text": [
      "11558 What will be the maximum compute (in petaFLOPS-days) ever used in training an AI experiment by the following dates?\n",
      "6192 What will be the maximum compute (in petaFLOPS-days) ever used in training an AI experiment by the following dates? (January 1, 2031)\n",
      "Me -\n",
      "* Min: 1800\n",
      "* <Min: 0\n",
      "* Q1: 482363.462\n",
      "* Mid: 4955454.895\n",
      "* Q3: 14696518.042\n",
      "* >Max: 0.02200000000000002\n",
      "* Max: 10000000000\n",
      "Metaculus -\n",
      "* Min: 1800\n",
      "* <Min: 0.0\n",
      "* Q1: 3109866.189\n",
      "* Mid: 31948526.063\n",
      "* Q3: 281004112.704\n",
      "* >Max: 0.07401999999999997\n",
      "* Max: 10000000000\n",
      "-\n",
      "6559 What will be the maximum compute (in petaFLOPS-days) ever used in training an AI experiment by the following dates? (January 1, 2026)\n",
      "Me -\n",
      "* Min: 3640\n",
      "* <Min: 0\n",
      "* Q1: 330449.338\n",
      "* Mid: 899946.671\n",
      "* Q3: 1310339.199\n",
      "* >Max: 0.010000000000000009\n",
      "* Max: 1000000000\n",
      "Metaculus -\n",
      "* Min: 3640\n",
      "* <Min: 0.0\n",
      "* Q1: 618087.295\n",
      "* Mid: 5195921.5\n",
      "* Q3: 49506740.334\n",
      "* >Max: 0.12192999999999998\n",
      "* Max: 1000000000\n",
      "-\n",
      "6517 What will be the maximum compute (in petaFLOPS-days) ever used in training an AI experiment by the following dates? (February 14, 2023)\n",
      "Metaculus -\n",
      "* Min: 3640\n",
      "* <Min: 0.0\n",
      "* Q1: 17623.15\n",
      "* Mid: 51507.61\n",
      "* Q3: 150542.549\n",
      "* >Max: 0.029410000000000047\n",
      "* Max: 2000000\n",
      "-\n",
      "6148 What will be the maximum compute (in petaFLOPS-days) ever used in training an AI experiment by the following dates? (January 14, 2022)\n",
      "Resolved as 320532.1027084993\n",
      "-\n"
     ]
    }
   ],
   "source": [
    "get_question(11558)"
   ]
  },
  {
   "cell_type": "code",
   "execution_count": 85,
   "metadata": {},
   "outputs": [
    {
     "name": "stdout",
     "output_type": "stream",
     "text": [
      "-\n",
      "## 2022 ##\n",
      "25th: 24.5 max log FLOPs / ~40911 petaFLOP/s-days)\n",
      "mean: 25.7 max log FLOPs / ~619751 petaFLOP/s-days)\n",
      "75th: 26.8 max log FLOPs / ~7265380 petaFLOP/s-days)\n",
      "-\n",
      "## 2025 ##\n",
      "25th: 25.9 max log FLOPs / ~924379 petaFLOP/s-days)\n",
      "mean: 26.5 max log FLOPs / ~4021998 petaFLOP/s-days)\n",
      "75th: 27.4 max log FLOPs / ~28976286 petaFLOP/s-days)\n",
      "-\n",
      "## 2030 ##\n",
      "25th: 28.1 max log FLOPs / ~159863445 petaFLOP/s-days)\n",
      "mean: 27.9 max log FLOPs / ~90261450 petaFLOP/s-days)\n",
      "75th: 28.4 max log FLOPs / ~288816073 petaFLOP/s-days)\n"
     ]
    }
   ],
   "source": [
    "# https://www.metaculus.com/questions/11558/maximum-compute-used-in-ai-training/\n",
    "# TODO: Fetch from Metaculus, look side by side\n",
    "# TODO: Be able to predict back\n",
    "for y in [2022, 2025, 2030]:\n",
    "    print('-')\n",
    "    print('## {} ##'.format(y))\n",
    "    for i in range(3):\n",
    "        flops_at_max_ = flops_at_max(initial_gdp=variables['initial_gdp'],\n",
    "                                     gdp_growth=[1.02, 1.025, 1.03][i],\n",
    "                                     initial_pay=[10*M, 100*M, 1*B][i],\n",
    "                                     spend_doubling_time=[1, 2, 3][i],\n",
    "                                     max_gdp_frac=[1/1000, 4/1000, 1/100][i],\n",
    "                                     initial_flops_per_dollar=10 ** 18,\n",
    "                                     max_flops_per_dollar=10 ** 24,\n",
    "                                     flops_halving_rate=[2, 2.5, 3][i],\n",
    "                                     year=(y - CURRENT_YEAR))\n",
    "\n",
    "        print('{}: {} max log FLOPs / ~{} petaFLOP/s-days)'.format(['25th', 'mean', '75th'][i],\n",
    "                                                                   np.round(np.log10(flops_at_max_), 1),\n",
    "                                                                   log_flop_to_petaflop_sdays(np.log10(flops_at_max_))))\n"
   ]
  }
 ],
 "metadata": {
  "kernelspec": {
   "display_name": "Python 3 (ipykernel)",
   "language": "python",
   "name": "python3"
  },
  "language_info": {
   "codemirror_mode": {
    "name": "ipython",
    "version": 3
   },
   "file_extension": ".py",
   "mimetype": "text/x-python",
   "name": "python",
   "nbconvert_exporter": "python",
   "pygments_lexer": "ipython3",
   "version": "3.9.15"
  }
 },
 "nbformat": 4,
 "nbformat_minor": 4
}
