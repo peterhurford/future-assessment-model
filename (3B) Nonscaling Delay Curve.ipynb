{
 "cells": [
  {
   "cell_type": "code",
   "execution_count": 1,
   "id": "92bffbfd-e89b-45a2-9174-0fd203e96d36",
   "metadata": {},
   "outputs": [
    {
     "name": "stdout",
     "output_type": "stream",
     "text": [
      "Loaded\n"
     ]
    }
   ],
   "source": [
    "import dill\n",
    "import math\n",
    "import numpy as np\n",
    "from pprint import pprint\n",
    "from bayes_opt import BayesianOptimization\n",
    "\n",
    "CURRENT_YEAR = 2023\n",
    "MAX_YEAR = 2123\n",
    "years = list(range(CURRENT_YEAR, MAX_YEAR))\n",
    "delays = {}\n",
    "\n",
    "exec(open('utils.py').read())\n",
    "print('Loaded')"
   ]
  },
  {
   "cell_type": "markdown",
   "id": "fb92a6f5-c3a8-40be-89ae-0b29c39d3fc0",
   "metadata": {},
   "source": [
    "## Algorithms/insights delay"
   ]
  },
  {
   "cell_type": "code",
   "execution_count": 2,
   "id": "ede8a8fc-b4a4-4273-9b44-913170dda139",
   "metadata": {},
   "outputs": [
    {
     "name": "stdout",
     "output_type": "stream",
     "text": [
      "|   iter    |  target   |   push    |   shift   |   slope   |\n",
      "-------------------------------------------------------------\n",
      "| \u001b[95m2        \u001b[0m | \u001b[95m-0.1802  \u001b[0m | \u001b[95m0.3474   \u001b[0m | \u001b[95m8.822    \u001b[0m | \u001b[95m3.573    \u001b[0m |\n",
      "| \u001b[95m9        \u001b[0m | \u001b[95m-0.09937 \u001b[0m | \u001b[95m1.471    \u001b[0m | \u001b[95m7.582    \u001b[0m | \u001b[95m0.3868   \u001b[0m |\n",
      "| \u001b[95m59       \u001b[0m | \u001b[95m-0.08459 \u001b[0m | \u001b[95m0.9286   \u001b[0m | \u001b[95m5.063    \u001b[0m | \u001b[95m0.4166   \u001b[0m |\n",
      "| \u001b[95m75       \u001b[0m | \u001b[95m-0.08033 \u001b[0m | \u001b[95m0.5736   \u001b[0m | \u001b[95m2.052    \u001b[0m | \u001b[95m0.3505   \u001b[0m |\n",
      "| \u001b[95m78       \u001b[0m | \u001b[95m-0.0614  \u001b[0m | \u001b[95m0.1547   \u001b[0m | \u001b[95m2.066    \u001b[0m | \u001b[95m0.3922   \u001b[0m |\n",
      "| \u001b[95m84       \u001b[0m | \u001b[95m-0.05057 \u001b[0m | \u001b[95m0.6181   \u001b[0m | \u001b[95m4.864    \u001b[0m | \u001b[95m0.4341   \u001b[0m |\n",
      "| \u001b[95m89       \u001b[0m | \u001b[95m-0.0364  \u001b[0m | \u001b[95m0.4057   \u001b[0m | \u001b[95m4.615    \u001b[0m | \u001b[95m0.4253   \u001b[0m |\n",
      "=============================================================\n",
      "Curve params found\n",
      "{'push': 0.40568401720963193,\n",
      " 'shift': 4.615496224043848,\n",
      " 'slope': 0.42530492142716414}\n",
      "-\n",
      "## Chance of nonscaling delay ##\n"
     ]
    },
    {
     "data": {
      "image/png": "[encoded data removed]",
      "text/plain": [
       "<Figure size 640x480 with 1 Axes>"
      ]
     },
     "metadata": {},
     "output_type": "display_data"
    },
    {
     "name": "stdout",
     "output_type": "stream",
     "text": [
      "Year: 2023 - chance of a nonscaling delay if TAI compute needs are otherwise met in this year: 85%\n",
      "Year: 2024 - chance of a nonscaling delay if TAI compute needs are otherwise met in this year: 83%\n",
      "Year: 2025 - chance of a nonscaling delay if TAI compute needs are otherwise met in this year: 80%\n",
      "Year: 2026 - chance of a nonscaling delay if TAI compute needs are otherwise met in this year: 75%\n",
      "Year: 2027 - chance of a nonscaling delay if TAI compute needs are otherwise met in this year: 68%\n",
      "Year: 2028 - chance of a nonscaling delay if TAI compute needs are otherwise met in this year: 60%\n",
      "Year: 2029 - chance of a nonscaling delay if TAI compute needs are otherwise met in this year: 50%\n",
      "Year: 2030 - chance of a nonscaling delay if TAI compute needs are otherwise met in this year: 40%\n",
      "Year: 2031 - chance of a nonscaling delay if TAI compute needs are otherwise met in this year: 32%\n",
      "Year: 2032 - chance of a nonscaling delay if TAI compute needs are otherwise met in this year: 26%\n",
      "Year: 2033 - chance of a nonscaling delay if TAI compute needs are otherwise met in this year: 21%\n",
      "Year: 2043 - chance of a nonscaling delay if TAI compute needs are otherwise met in this year: 10%\n",
      "Year: 2053 - chance of a nonscaling delay if TAI compute needs are otherwise met in this year: 10%\n",
      "Year: 2063 - chance of a nonscaling delay if TAI compute needs are otherwise met in this year: 10%\n",
      "Year: 2073 - chance of a nonscaling delay if TAI compute needs are otherwise met in this year: 10%\n",
      "Year: 2083 - chance of a nonscaling delay if TAI compute needs are otherwise met in this year: 10%\n",
      "Year: 2093 - chance of a nonscaling delay if TAI compute needs are otherwise met in this year: 10%\n",
      "Year: 2103 - chance of a nonscaling delay if TAI compute needs are otherwise met in this year: 10%\n",
      "Year: 2113 - chance of a nonscaling delay if TAI compute needs are otherwise met in this year: 10%\n",
      "-\n",
      "{1: 2,\n",
      " 5: 2,\n",
      " 10: 2,\n",
      " 20: 3,\n",
      " 30: 3,\n",
      " 40: 4,\n",
      " 50: 4,\n",
      " 60: 5,\n",
      " 70: 5,\n",
      " 80: 6,\n",
      " 90: 8,\n",
      " 95: 11,\n",
      " 99: 21}\n"
     ]
    }
   ],
   "source": [
    "nonscaling_points = [(2023, 0.85),\n",
    "                     (2027, 0.7),\n",
    "                     (2030, 0.3),\n",
    "                     (2035, 0.2),\n",
    "                     (2050, 0.1)]\n",
    "p_nonscaling_delay = derive_nonscaling_delay_curve(nonscaling_points)\n",
    "delays['algorithms'] = {'prob': p_nonscaling_delay, 'length': sq.mixture([[0.9, sq.lognorm(2, 8)], [0.1, sq.lognorm(3, 30)]])}\n",
    "plot_nonscaling_delay(plt, years, p_nonscaling_delay)\n",
    "print('-')\n",
    "pprint(sq.get_percentiles(delays['algorithms']['length'] @ 1000, digits=0))"
   ]
  },
  {
   "cell_type": "markdown",
   "id": "75f3fbca-072c-489c-a1d6-6cfbf43b569c",
   "metadata": {},
   "source": [
    "## Infrastructure delay"
   ]
  },
  {
   "cell_type": "code",
   "execution_count": 3,
   "id": "027d2084-28bb-4f50-9cd9-4a30fd661a09",
   "metadata": {},
   "outputs": [
    {
     "name": "stdout",
     "output_type": "stream",
     "text": [
      "|   iter    |  target   |   push    |   shift   |   slope   |\n",
      "-------------------------------------------------------------\n",
      "| \u001b[95m3        \u001b[0m | \u001b[95m-0.396   \u001b[0m | \u001b[95m6.988    \u001b[0m | \u001b[95m8.008    \u001b[0m | \u001b[95m5.847    \u001b[0m |\n",
      "| \u001b[95m4        \u001b[0m | \u001b[95m-0.3206  \u001b[0m | \u001b[95m1.625    \u001b[0m | \u001b[95m4.433    \u001b[0m | \u001b[95m7.581    \u001b[0m |\n",
      "| \u001b[95m5        \u001b[0m | \u001b[95m-0.2505  \u001b[0m | \u001b[95m0.3452   \u001b[0m | \u001b[95m7.138    \u001b[0m | \u001b[95m5.562    \u001b[0m |\n",
      "| \u001b[95m6        \u001b[0m | \u001b[95m-0.2272  \u001b[0m | \u001b[95m1.386    \u001b[0m | \u001b[95m8.164    \u001b[0m | \u001b[95m0.6787   \u001b[0m |\n",
      "| \u001b[95m30       \u001b[0m | \u001b[95m-0.1639  \u001b[0m | \u001b[95m1.193    \u001b[0m | \u001b[95m2.951    \u001b[0m | \u001b[95m0.2517   \u001b[0m |\n",
      "| \u001b[95m34       \u001b[0m | \u001b[95m-0.1243  \u001b[0m | \u001b[95m0.03884  \u001b[0m | \u001b[95m1.344    \u001b[0m | \u001b[95m0.9209   \u001b[0m |\n",
      "| \u001b[95m55       \u001b[0m | \u001b[95m-0.06683 \u001b[0m | \u001b[95m0.01     \u001b[0m | \u001b[95m4.571    \u001b[0m | \u001b[95m0.893    \u001b[0m |\n",
      "| \u001b[95m80       \u001b[0m | \u001b[95m-0.04722 \u001b[0m | \u001b[95m0.1421   \u001b[0m | \u001b[95m9.593    \u001b[0m | \u001b[95m0.6439   \u001b[0m |\n",
      "=============================================================\n",
      "Curve params found\n",
      "{'push': 0.14211819073772716,\n",
      " 'shift': 9.593393167416359,\n",
      " 'slope': 0.6438940940904343}\n",
      "-\n",
      "## Chance of nonscaling delay ##\n"
     ]
    },
    {
     "data": {
      "image/png": "[encoded data removed]",
      "text/plain": [
       "<Figure size 640x480 with 1 Axes>"
      ]
     },
     "metadata": {},
     "output_type": "display_data"
    },
    {
     "name": "stdout",
     "output_type": "stream",
     "text": [
      "Year: 2023 - chance of a nonscaling delay if TAI compute needs are otherwise met in this year: 90%\n",
      "Year: 2024 - chance of a nonscaling delay if TAI compute needs are otherwise met in this year: 90%\n",
      "Year: 2025 - chance of a nonscaling delay if TAI compute needs are otherwise met in this year: 90%\n",
      "Year: 2026 - chance of a nonscaling delay if TAI compute needs are otherwise met in this year: 90%\n",
      "Year: 2027 - chance of a nonscaling delay if TAI compute needs are otherwise met in this year: 88%\n",
      "Year: 2028 - chance of a nonscaling delay if TAI compute needs are otherwise met in this year: 82%\n",
      "Year: 2029 - chance of a nonscaling delay if TAI compute needs are otherwise met in this year: 68%\n",
      "Year: 2030 - chance of a nonscaling delay if TAI compute needs are otherwise met in this year: 51%\n",
      "Year: 2031 - chance of a nonscaling delay if TAI compute needs are otherwise met in this year: 35%\n",
      "Year: 2032 - chance of a nonscaling delay if TAI compute needs are otherwise met in this year: 25%\n",
      "Year: 2033 - chance of a nonscaling delay if TAI compute needs are otherwise met in this year: 18%\n",
      "Year: 2043 - chance of a nonscaling delay if TAI compute needs are otherwise met in this year: 10%\n",
      "Year: 2053 - chance of a nonscaling delay if TAI compute needs are otherwise met in this year: 10%\n",
      "Year: 2063 - chance of a nonscaling delay if TAI compute needs are otherwise met in this year: 10%\n",
      "Year: 2073 - chance of a nonscaling delay if TAI compute needs are otherwise met in this year: 10%\n",
      "Year: 2083 - chance of a nonscaling delay if TAI compute needs are otherwise met in this year: 10%\n",
      "Year: 2093 - chance of a nonscaling delay if TAI compute needs are otherwise met in this year: 10%\n",
      "Year: 2103 - chance of a nonscaling delay if TAI compute needs are otherwise met in this year: 10%\n",
      "Year: 2113 - chance of a nonscaling delay if TAI compute needs are otherwise met in this year: 10%\n",
      "-\n",
      "{1: 1,\n",
      " 5: 1,\n",
      " 10: 1,\n",
      " 20: 2,\n",
      " 30: 2,\n",
      " 40: 3,\n",
      " 50: 3,\n",
      " 60: 4,\n",
      " 70: 5,\n",
      " 80: 6,\n",
      " 90: 9,\n",
      " 95: 13,\n",
      " 99: 24}\n"
     ]
    }
   ],
   "source": [
    "# https://twitter.com/ohlennart/status/1645058017119854592\n",
    "# https://asteriskmag.com/issues/03/the-transistor-cliff\n",
    "nonscaling_points = [(2023, 0.9),\n",
    "                     (2027, 0.7),\n",
    "                     (2030, 0.5),\n",
    "                     (2050, 0.1)]\n",
    "p_nonscaling_delay = derive_nonscaling_delay_curve(nonscaling_points)\n",
    "delays['infra'] = {'prob': p_nonscaling_delay, 'length': sq.mixture([[0.9, sq.lognorm(1, 8)], [0.1, sq.lognorm(3, 30)]])}\n",
    "plot_nonscaling_delay(plt, years, p_nonscaling_delay)\n",
    "print('-')\n",
    "pprint(sq.get_percentiles(delays['infra']['length'] @ 1000, digits=0))"
   ]
  },
  {
   "cell_type": "markdown",
   "id": "ff1615c5-bb32-487f-a750-dbc41fb8d00e",
   "metadata": {},
   "source": [
    "## Data delay"
   ]
  },
  {
   "cell_type": "code",
   "execution_count": null,
   "id": "568e938a-922d-43fc-8382-6bca86332e3c",
   "metadata": {},
   "outputs": [
    {
     "name": "stdout",
     "output_type": "stream",
     "text": [
      "|   iter    |  target   |   push    |   shift   |   slope   |\n",
      "-------------------------------------------------------------\n",
      "| \u001b[95m2        \u001b[0m | \u001b[95m-0.3998  \u001b[0m | \u001b[95m8.201    \u001b[0m | \u001b[95m5.029    \u001b[0m | \u001b[95m3.255    \u001b[0m |\n",
      "| \u001b[95m10       \u001b[0m | \u001b[95m-0.3848  \u001b[0m | \u001b[95m9.549    \u001b[0m | \u001b[95m2.321    \u001b[0m | \u001b[95m0.6084   \u001b[0m |\n",
      "| \u001b[95m12       \u001b[0m | \u001b[95m-0.109   \u001b[0m | \u001b[95m0.2688   \u001b[0m | \u001b[95m1.742    \u001b[0m | \u001b[95m0.3124   \u001b[0m |\n",
      "| \u001b[95m41       \u001b[0m | \u001b[95m-0.1014  \u001b[0m | \u001b[95m0.2331   \u001b[0m | \u001b[95m1.439    \u001b[0m | \u001b[95m0.3772   \u001b[0m |\n",
      "| \u001b[95m43       \u001b[0m | \u001b[95m-0.07399 \u001b[0m | \u001b[95m0.115    \u001b[0m | \u001b[95m1.497    \u001b[0m | \u001b[95m0.4232   \u001b[0m |\n",
      "| \u001b[95m47       \u001b[0m | \u001b[95m-0.0639  \u001b[0m | \u001b[95m0.07641  \u001b[0m | \u001b[95m2.092    \u001b[0m | \u001b[95m0.5679   \u001b[0m |\n",
      "| \u001b[95m65       \u001b[0m | \u001b[95m-0.008879\u001b[0m | \u001b[95m0.01     \u001b[0m | \u001b[95m1.396    \u001b[0m | \u001b[95m1.035    \u001b[0m |\n"
     ]
    }
   ],
   "source": [
    "nonscaling_points = {'points': [(2025, 0.9),\n",
    "                                (2027, 0.8),\n",
    "                                (2030, 0.2),\n",
    "                                (2050, 0.1)],\n",
    "                     'init': 2024}\n",
    "p_nonscaling_delay = derive_nonscaling_delay_curve(nonscaling_points)\n",
    "delays['data'] = {'prob': p_nonscaling_delay, 'length': sq.mixture([[0.9, sq.lognorm(1, 8)], [0.1, sq.lognorm(3, 10)]])}\n",
    "plot_nonscaling_delay(plt, years, p_nonscaling_delay)\n",
    "print('-')\n",
    "pprint(sq.get_percentiles(delays['data']['length'] @ 1000, digits=0))"
   ]
  },
  {
   "cell_type": "markdown",
   "id": "b124feaa-b239-4982-acbb-d3efc6054bcc",
   "metadata": {},
   "source": [
    "## Robotics need delay"
   ]
  },
  {
   "cell_type": "code",
   "execution_count": null,
   "id": "3b74ba6e-ff8b-4311-bd16-fbdaaf881bd3",
   "metadata": {},
   "outputs": [],
   "source": [
    "nonscaling_points = [(2023, 0.6),\n",
    "                     (2030, 0.3),\n",
    "                     (2040, 0.1),\n",
    "                     (2050, 0.05)]\n",
    "p_nonscaling_delay = derive_nonscaling_delay_curve(nonscaling_points)\n",
    "delays['robotics'] = {'prob': p_nonscaling_delay, 'length': sq.mixture([[0.85, sq.lognorm(3, 10)],\n",
    "                                                                        [0.15, sq.lognorm(7, 15)]])}\n",
    "plot_nonscaling_delay(plt, years, p_nonscaling_delay)\n",
    "print('-')\n",
    "pprint(sq.get_percentiles(delays['robotics']['length'] @ 1000, digits=0))"
   ]
  },
  {
   "cell_type": "markdown",
   "id": "962df8a5-7d24-4001-96d0-1b8ec1a0f741",
   "metadata": {},
   "source": [
    "## Integration delay"
   ]
  },
  {
   "cell_type": "code",
   "execution_count": null,
   "id": "ec560708-06f9-4b0c-8af7-04f2785650df",
   "metadata": {},
   "outputs": [],
   "source": [
    "# https://twitter.com/MatthewJBar/status/1653461856919654400\n",
    "nonscaling_points = [(2023, 0.3),\n",
    "                     (2030, 0.2),\n",
    "                     (2040, 0.1),\n",
    "                     (2050, 0.05)]\n",
    "p_nonscaling_delay = derive_nonscaling_delay_curve(nonscaling_points)\n",
    "delays['integration'] = {'prob': p_nonscaling_delay, 'length': sq.lognorm(3, 30)}\n",
    "plot_nonscaling_delay(plt, years, p_nonscaling_delay)\n",
    "print('-')\n",
    "pprint(sq.get_percentiles(delays['integration']['length'] @ 1000, digits=0))"
   ]
  },
  {
   "cell_type": "markdown",
   "id": "bfa3c990-2427-45bd-bfc5-0cf2917095aa",
   "metadata": {},
   "source": [
    "##  Real world feedback delay"
   ]
  },
  {
   "cell_type": "code",
   "execution_count": null,
   "id": "e3010b54-63f4-46d5-8188-d51ec573ae45",
   "metadata": {},
   "outputs": [],
   "source": [
    "nonscaling_points = [(2023, 0.4),\n",
    "                     (2030, 0.3),\n",
    "                     (2050, 0.2)]\n",
    "p_nonscaling_delay = derive_nonscaling_delay_curve(nonscaling_points)\n",
    "delays['real_world_feedback'] = {'prob': p_nonscaling_delay, 'length': sq.mixture([[0.8, sq.lognorm(3, 10)],\n",
    "                                                                                   [0.1, sq.lognorm(10, 30)],\n",
    "                                                                                   [0.1, sq.lognorm(20, 50)]])}\n",
    "plot_nonscaling_delay(plt, years, p_nonscaling_delay)\n",
    "print('-')\n",
    "pprint(sq.get_percentiles(delays['real_world_feedback']['length'] @ 1000, digits=0))"
   ]
  },
  {
   "cell_type": "markdown",
   "id": "9427eaee-ec9f-4e96-bc0c-a91c7a5d1911",
   "metadata": {},
   "source": [
    "## Policy delay (e.g., pause)"
   ]
  },
  {
   "cell_type": "code",
   "execution_count": null,
   "id": "f9e3828e-5cd9-404f-b591-3b776259733d",
   "metadata": {},
   "outputs": [],
   "source": [
    "nonscaling_points = [(2023, 0.6),\n",
    "                     (2030, 0.4),\n",
    "                     (2050, 0.2),\n",
    "                     (2080, 0.1)]\n",
    "p_nonscaling_delay = derive_nonscaling_delay_curve(nonscaling_points)\n",
    "delays['policy_pause'] = {'prob': p_nonscaling_delay, 'length': sq.mixture([[0.9, sq.lognorm(1, 5)],\n",
    "                                                                            [0.1, sq.lognorm(10, 100)]])}\n",
    "plot_nonscaling_delay(plt, years, p_nonscaling_delay)\n",
    "print('-')\n",
    "pprint(sq.get_percentiles(delays['policy_pause']['length'] @ 1000, digits=0))"
   ]
  },
  {
   "cell_type": "markdown",
   "id": "b100c5f5-5c16-4515-8814-ae81391126d9",
   "metadata": {},
   "source": [
    "## Take off speeds"
   ]
  },
  {
   "cell_type": "code",
   "execution_count": null,
   "id": "acad56b4-027e-456e-8569-4a38812ee5a3",
   "metadata": {},
   "outputs": [],
   "source": [
    "# https://www.lesswrong.com/posts/Gc9FGtdXhK9sCSEYu/what-a-compute-centric-framework-says-about-ai-takeoff\n",
    "\n",
    "delays['take_off'] = {'prob': 1, 'length': sq.lognorm(1, 15)}\n",
    "plot_nonscaling_delay(plt, years, lambda _: 1)\n",
    "print('-')\n",
    "pprint(sq.get_percentiles(delays['take_off']['length'] @ 1000, digits=0))"
   ]
  },
  {
   "cell_type": "markdown",
   "id": "a6bb37d3-59fd-48ab-b34d-634163fdd778",
   "metadata": {},
   "source": [
    "## Save"
   ]
  },
  {
   "cell_type": "code",
   "execution_count": null,
   "id": "3a5ee983-96e5-4392-a1b4-44588eba845e",
   "metadata": {},
   "outputs": [],
   "source": [
    "with open('caches/nonscaling_delays.dill', 'wb') as f:\n",
    "    dill.dump(delays, f)\n",
    "    \n",
    "print('cached!')"
   ]
  }
 ],
 "metadata": {
  "kernelspec": {
   "display_name": "Python 3 (ipykernel)",
   "language": "python",
   "name": "python3"
  },
  "language_info": {
   "codemirror_mode": {
    "name": "ipython",
    "version": 3
   },
   "file_extension": ".py",
   "mimetype": "text/x-python",
   "name": "python",
   "nbconvert_exporter": "python",
   "pygments_lexer": "ipython3",
   "version": "3.11.3"
  }
 },
 "nbformat": 4,
 "nbformat_minor": 5
}
