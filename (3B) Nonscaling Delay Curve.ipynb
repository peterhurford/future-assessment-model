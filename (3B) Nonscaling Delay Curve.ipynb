{
 "cells": [
  {
   "cell_type": "code",
   "execution_count": 1,
   "id": "92bffbfd-e89b-45a2-9174-0fd203e96d36",
   "metadata": {},
   "outputs": [
    {
     "name": "stdout",
     "output_type": "stream",
     "text": [
      "Loaded\n"
     ]
    }
   ],
   "source": [
    "import dill\n",
    "import math\n",
    "import numpy as np\n",
    "from pprint import pprint\n",
    "from bayes_opt import BayesianOptimization\n",
    "from datetime import datetime as dt\n",
    "\n",
    "delays = {}\n",
    "\n",
    "exec(open('utils.py').read())\n",
    "print('Loaded')\n",
    "\n",
    "MAX_YEAR = CURRENT_YEAR + 100 # CURRENT_YEAR defined in utils.py\n",
    "years = list(range(CURRENT_YEAR, MAX_YEAR))"
   ]
  },
  {
   "cell_type": "markdown",
   "id": "fb92a6f5-c3a8-40be-89ae-0b29c39d3fc0",
   "metadata": {},
   "source": [
    "## Algorithms/insights delay"
   ]
  },
  {
   "cell_type": "code",
   "execution_count": 2,
   "id": "ede8a8fc-b4a4-4273-9b44-913170dda139",
   "metadata": {},
   "outputs": [
    {
     "name": "stdout",
     "output_type": "stream",
     "text": [
      "|   iter    |  target   |   push    |   shift   |   slope   |\n",
      "-------------------------------------------------------------\n",
      "| \u001b[95m3        \u001b[0m | \u001b[95m-0.03758 \u001b[0m | \u001b[95m1.173    \u001b[0m | \u001b[95m1.877    \u001b[0m | \u001b[95m6.549    \u001b[0m |\n",
      "| \u001b[95m5        \u001b[0m | \u001b[95m-0.0375  \u001b[0m | \u001b[95m0.06304  \u001b[0m | \u001b[95m3.495    \u001b[0m | \u001b[95m7.536    \u001b[0m |\n",
      "| \u001b[95m13       \u001b[0m | \u001b[95m-0.02862 \u001b[0m | \u001b[95m0.604    \u001b[0m | \u001b[95m8.016    \u001b[0m | \u001b[95m1.904    \u001b[0m |\n",
      "| \u001b[95m36       \u001b[0m | \u001b[95m-0.01376 \u001b[0m | \u001b[95m0.3002   \u001b[0m | \u001b[95m7.435    \u001b[0m | \u001b[95m1.544    \u001b[0m |\n",
      "| \u001b[95m44       \u001b[0m | \u001b[95m-0.01257 \u001b[0m | \u001b[95m0.06187  \u001b[0m | \u001b[95m8.017    \u001b[0m | \u001b[95m1.152    \u001b[0m |\n",
      "| \u001b[95m47       \u001b[0m | \u001b[95m-0.009503\u001b[0m | \u001b[95m0.7222   \u001b[0m | \u001b[95m8.136    \u001b[0m | \u001b[95m0.8222   \u001b[0m |\n"
     ]
    },
    {
     "name": "stderr",
     "output_type": "stream",
     "text": [
      "<string>:64: RuntimeWarning: overflow encountered in scalar power\n",
      "<string>:64: RuntimeWarning: overflow encountered in scalar power\n",
      "<string>:64: RuntimeWarning: overflow encountered in scalar power\n"
     ]
    },
    {
     "name": "stdout",
     "output_type": "stream",
     "text": [
      "=============================================================\n",
      "Curve params found\n",
      "{'push': 0.7221770188575014,\n",
      " 'shift': 8.136362476844333,\n",
      " 'slope': 0.8222213868225198}\n",
      "-\n",
      "## Chance of nonscaling delay ##\n"
     ]
    },
    {
     "data": {
      "image/png": "[encoded data removed]",
      "text/plain": [
       "<Figure size 640x480 with 1 Axes>"
      ]
     },
     "metadata": {},
     "output_type": "display_data"
    },
    {
     "name": "stdout",
     "output_type": "stream",
     "text": [
      "Year: 2025 - chance of a nonscaling delay if TAI compute needs are otherwise met in this year: 20%\n",
      "Year: 2026 - chance of a nonscaling delay if TAI compute needs are otherwise met in this year: 18%\n",
      "Year: 2027 - chance of a nonscaling delay if TAI compute needs are otherwise met in this year: 16%\n",
      "Year: 2028 - chance of a nonscaling delay if TAI compute needs are otherwise met in this year: 13%\n",
      "Year: 2029 - chance of a nonscaling delay if TAI compute needs are otherwise met in this year: 10%\n",
      "Year: 2030 - chance of a nonscaling delay if TAI compute needs are otherwise met in this year: 7%\n",
      "Year: 2031 - chance of a nonscaling delay if TAI compute needs are otherwise met in this year: 6%\n",
      "Year: 2032 - chance of a nonscaling delay if TAI compute needs are otherwise met in this year: 6%\n",
      "Year: 2033 - chance of a nonscaling delay if TAI compute needs are otherwise met in this year: 5%\n",
      "Year: 2034 - chance of a nonscaling delay if TAI compute needs are otherwise met in this year: 5%\n",
      "Year: 2035 - chance of a nonscaling delay if TAI compute needs are otherwise met in this year: 5%\n",
      "Year: 2045 - chance of a nonscaling delay if TAI compute needs are otherwise met in this year: 5%\n",
      "Year: 2055 - chance of a nonscaling delay if TAI compute needs are otherwise met in this year: 5%\n",
      "Year: 2065 - chance of a nonscaling delay if TAI compute needs are otherwise met in this year: 5%\n",
      "Year: 2075 - chance of a nonscaling delay if TAI compute needs are otherwise met in this year: 5%\n",
      "Year: 2085 - chance of a nonscaling delay if TAI compute needs are otherwise met in this year: 5%\n",
      "Year: 2095 - chance of a nonscaling delay if TAI compute needs are otherwise met in this year: 5%\n",
      "Year: 2105 - chance of a nonscaling delay if TAI compute needs are otherwise met in this year: 5%\n",
      "Year: 2115 - chance of a nonscaling delay if TAI compute needs are otherwise met in this year: 5%\n",
      "-\n",
      "{1: 2,\n",
      " 5: 2,\n",
      " 10: 2,\n",
      " 20: 2,\n",
      " 30: 3,\n",
      " 40: 3,\n",
      " 50: 3,\n",
      " 60: 4,\n",
      " 70: 4,\n",
      " 80: 4,\n",
      " 90: 5,\n",
      " 95: 6,\n",
      " 99: 17}\n"
     ]
    }
   ],
   "source": [
    "nonscaling_points = [(2024, 0.2),\n",
    "                     (2027, 0.15),\n",
    "                     (2030, 0.1),\n",
    "                     (2050, 0.05)]\n",
    "p_nonscaling_delay = derive_nonscaling_delay_curve(nonscaling_points)\n",
    "delays['algorithms'] = {'prob': p_nonscaling_delay, 'length': sq.mixture([[0.9, sq.lognorm(2, 5)], [0.1, sq.lognorm(2, 20)]])}\n",
    "plot_nonscaling_delay(plt, years, p_nonscaling_delay)\n",
    "print('-')\n",
    "pprint(sq.get_percentiles(delays['algorithms']['length'] @ 1000, digits=0))"
   ]
  },
  {
   "cell_type": "markdown",
   "id": "75f3fbca-072c-489c-a1d6-6cfbf43b569c",
   "metadata": {},
   "source": [
    "## Infrastructure delay"
   ]
  },
  {
   "cell_type": "code",
   "execution_count": 3,
   "id": "027d2084-28bb-4f50-9cd9-4a30fd661a09",
   "metadata": {},
   "outputs": [
    {
     "name": "stdout",
     "output_type": "stream",
     "text": [
      "|   iter    |  target   |   push    |   shift   |   slope   |\n",
      "-------------------------------------------------------------\n",
      "| \u001b[95m2        \u001b[0m | \u001b[95m-0.1249  \u001b[0m | \u001b[95m1.291    \u001b[0m | \u001b[95m6.586    \u001b[0m | \u001b[95m9.124    \u001b[0m |\n",
      "| \u001b[95m6        \u001b[0m | \u001b[95m-0.1097  \u001b[0m | \u001b[95m1.023    \u001b[0m | \u001b[95m3.597    \u001b[0m | \u001b[95m3.637    \u001b[0m |\n",
      "| \u001b[95m9        \u001b[0m | \u001b[95m-0.09053 \u001b[0m | \u001b[95m2.385    \u001b[0m | \u001b[95m6.647    \u001b[0m | \u001b[95m0.4329   \u001b[0m |\n",
      "| \u001b[95m33       \u001b[0m | \u001b[95m-0.05596 \u001b[0m | \u001b[95m0.13     \u001b[0m | \u001b[95m6.535    \u001b[0m | \u001b[95m4.749    \u001b[0m |\n"
     ]
    },
    {
     "name": "stderr",
     "output_type": "stream",
     "text": [
      "<string>:64: RuntimeWarning: overflow encountered in scalar power\n",
      "<string>:64: RuntimeWarning: overflow encountered in scalar power\n"
     ]
    },
    {
     "name": "stdout",
     "output_type": "stream",
     "text": [
      "| \u001b[95m43       \u001b[0m | \u001b[95m-0.048   \u001b[0m | \u001b[95m0.01     \u001b[0m | \u001b[95m7.118    \u001b[0m | \u001b[95m6.61     \u001b[0m |\n"
     ]
    },
    {
     "name": "stderr",
     "output_type": "stream",
     "text": [
      "<string>:64: RuntimeWarning: overflow encountered in scalar power\n",
      "<string>:64: RuntimeWarning: overflow encountered in scalar power\n",
      "<string>:64: RuntimeWarning: overflow encountered in scalar power\n",
      "<string>:64: RuntimeWarning: overflow encountered in scalar power\n",
      "<string>:64: RuntimeWarning: overflow encountered in scalar power\n",
      "<string>:64: RuntimeWarning: overflow encountered in scalar power\n",
      "<string>:64: RuntimeWarning: overflow encountered in scalar power\n"
     ]
    },
    {
     "name": "stdout",
     "output_type": "stream",
     "text": [
      "| \u001b[95m88       \u001b[0m | \u001b[95m-0.03817 \u001b[0m | \u001b[95m0.02894  \u001b[0m | \u001b[95m6.272    \u001b[0m | \u001b[95m5.548    \u001b[0m |\n",
      "| \u001b[95m97       \u001b[0m | \u001b[95m-0.02878 \u001b[0m | \u001b[95m0.04483  \u001b[0m | \u001b[95m5.848    \u001b[0m | \u001b[95m5.167    \u001b[0m |\n"
     ]
    },
    {
     "name": "stderr",
     "output_type": "stream",
     "text": [
      "<string>:64: RuntimeWarning: overflow encountered in scalar power\n",
      "<string>:64: RuntimeWarning: overflow encountered in scalar power\n"
     ]
    },
    {
     "name": "stdout",
     "output_type": "stream",
     "text": [
      "=============================================================\n",
      "Curve params found\n",
      "{'push': 0.04483259993707241,\n",
      " 'shift': 5.847760437671844,\n",
      " 'slope': 5.166862343814113}\n",
      "-\n",
      "## Chance of nonscaling delay ##\n"
     ]
    },
    {
     "data": {
      "image/png": "[encoded data removed]",
      "text/plain": [
       "<Figure size 640x480 with 1 Axes>"
      ]
     },
     "metadata": {},
     "output_type": "display_data"
    },
    {
     "name": "stdout",
     "output_type": "stream",
     "text": [
      "Year: 2025 - chance of a nonscaling delay if TAI compute needs are otherwise met in this year: 90%\n",
      "Year: 2026 - chance of a nonscaling delay if TAI compute needs are otherwise met in this year: 52%\n",
      "Year: 2027 - chance of a nonscaling delay if TAI compute needs are otherwise met in this year: 10%\n",
      "Year: 2028 - chance of a nonscaling delay if TAI compute needs are otherwise met in this year: 10%\n",
      "Year: 2029 - chance of a nonscaling delay if TAI compute needs are otherwise met in this year: 10%\n",
      "Year: 2030 - chance of a nonscaling delay if TAI compute needs are otherwise met in this year: 10%\n",
      "Year: 2031 - chance of a nonscaling delay if TAI compute needs are otherwise met in this year: 10%\n",
      "Year: 2032 - chance of a nonscaling delay if TAI compute needs are otherwise met in this year: 10%\n",
      "Year: 2033 - chance of a nonscaling delay if TAI compute needs are otherwise met in this year: 10%\n",
      "Year: 2034 - chance of a nonscaling delay if TAI compute needs are otherwise met in this year: 10%\n",
      "Year: 2035 - chance of a nonscaling delay if TAI compute needs are otherwise met in this year: 10%\n",
      "Year: 2045 - chance of a nonscaling delay if TAI compute needs are otherwise met in this year: 10%\n",
      "Year: 2055 - chance of a nonscaling delay if TAI compute needs are otherwise met in this year: 10%\n",
      "Year: 2065 - chance of a nonscaling delay if TAI compute needs are otherwise met in this year: 10%\n",
      "Year: 2075 - chance of a nonscaling delay if TAI compute needs are otherwise met in this year: 10%\n",
      "Year: 2085 - chance of a nonscaling delay if TAI compute needs are otherwise met in this year: 10%\n",
      "Year: 2095 - chance of a nonscaling delay if TAI compute needs are otherwise met in this year: 10%\n",
      "Year: 2105 - chance of a nonscaling delay if TAI compute needs are otherwise met in this year: 10%\n",
      "Year: 2115 - chance of a nonscaling delay if TAI compute needs are otherwise met in this year: 10%\n",
      "-\n",
      "{1: 1,\n",
      " 5: 1,\n",
      " 10: 1,\n",
      " 20: 1,\n",
      " 30: 2,\n",
      " 40: 2,\n",
      " 50: 2,\n",
      " 60: 3,\n",
      " 70: 3,\n",
      " 80: 3,\n",
      " 90: 4,\n",
      " 95: 5,\n",
      " 99: 7}\n"
     ]
    }
   ],
   "source": [
    "# https://twitter.com/ohlennart/status/1645058017119854592\n",
    "# https://asteriskmag.com/issues/03/the-transistor-cliff\n",
    "nonscaling_points = [(2024, 0.9),\n",
    "                     (2026, 0.5),\n",
    "                     (2030, 0.2),\n",
    "                     (2050, 0.1)]\n",
    "p_nonscaling_delay = derive_nonscaling_delay_curve(nonscaling_points)\n",
    "delays['infra'] = {'prob': p_nonscaling_delay, 'length': sq.lognorm(1, 5)}\n",
    "plot_nonscaling_delay(plt, years, p_nonscaling_delay)\n",
    "print('-')\n",
    "pprint(sq.get_percentiles(delays['infra']['length'] @ 1000, digits=0))"
   ]
  },
  {
   "cell_type": "markdown",
   "id": "ff1615c5-bb32-487f-a750-dbc41fb8d00e",
   "metadata": {},
   "source": [
    "## Data delay"
   ]
  },
  {
   "cell_type": "code",
   "execution_count": 4,
   "id": "568e938a-922d-43fc-8382-6bca86332e3c",
   "metadata": {},
   "outputs": [
    {
     "name": "stdout",
     "output_type": "stream",
     "text": [
      "|   iter    |  target   |   push    |   shift   |   slope   |\n",
      "-------------------------------------------------------------\n",
      "| \u001b[95m6        \u001b[0m | \u001b[95m-0.1508  \u001b[0m | \u001b[95m1.873    \u001b[0m | \u001b[95m2.95     \u001b[0m | \u001b[95m8.769    \u001b[0m |\n",
      "| \u001b[95m11       \u001b[0m | \u001b[95m-0.1298  \u001b[0m | \u001b[95m0.4399   \u001b[0m | \u001b[95m8.939    \u001b[0m | \u001b[95m2.456    \u001b[0m |\n"
     ]
    },
    {
     "name": "stderr",
     "output_type": "stream",
     "text": [
      "<string>:64: RuntimeWarning: overflow encountered in scalar power\n",
      "<string>:64: RuntimeWarning: overflow encountered in scalar power\n",
      "<string>:64: RuntimeWarning: overflow encountered in scalar power\n"
     ]
    },
    {
     "name": "stdout",
     "output_type": "stream",
     "text": [
      "| \u001b[95m52       \u001b[0m | \u001b[95m-0.04502 \u001b[0m | \u001b[95m0.01     \u001b[0m | \u001b[95m5.015    \u001b[0m | \u001b[95m1.922    \u001b[0m |\n",
      "| \u001b[95m57       \u001b[0m | \u001b[95m-0.04484 \u001b[0m | \u001b[95m0.01     \u001b[0m | \u001b[95m4.6      \u001b[0m | \u001b[95m1.897    \u001b[0m |\n",
      "| \u001b[95m61       \u001b[0m | \u001b[95m-0.04212 \u001b[0m | \u001b[95m0.01825  \u001b[0m | \u001b[95m5.322    \u001b[0m | \u001b[95m1.357    \u001b[0m |\n",
      "| \u001b[95m62       \u001b[0m | \u001b[95m-0.0226  \u001b[0m | \u001b[95m0.1936   \u001b[0m | \u001b[95m6.157    \u001b[0m | \u001b[95m1.267    \u001b[0m |\n",
      "| \u001b[95m80       \u001b[0m | \u001b[95m-0.01332 \u001b[0m | \u001b[95m0.3396   \u001b[0m | \u001b[95m8.364    \u001b[0m | \u001b[95m0.955    \u001b[0m |\n"
     ]
    },
    {
     "name": "stderr",
     "output_type": "stream",
     "text": [
      "<string>:64: RuntimeWarning: overflow encountered in scalar power\n"
     ]
    },
    {
     "name": "stdout",
     "output_type": "stream",
     "text": [
      "=============================================================\n",
      "Curve params found\n",
      "{'push': 0.33957063174263225,\n",
      " 'shift': 8.364269585981825,\n",
      " 'slope': 0.9550407247107854}\n",
      "-\n",
      "## Chance of nonscaling delay ##\n"
     ]
    },
    {
     "data": {
      "image/png": "[encoded data removed]",
      "text/plain": [
       "<Figure size 640x480 with 1 Axes>"
      ]
     },
     "metadata": {},
     "output_type": "display_data"
    },
    {
     "name": "stdout",
     "output_type": "stream",
     "text": [
      "Year: 2025 - chance of a nonscaling delay if TAI compute needs are otherwise met in this year: 70%\n",
      "Year: 2026 - chance of a nonscaling delay if TAI compute needs are otherwise met in this year: 69%\n",
      "Year: 2027 - chance of a nonscaling delay if TAI compute needs are otherwise met in this year: 64%\n",
      "Year: 2028 - chance of a nonscaling delay if TAI compute needs are otherwise met in this year: 51%\n",
      "Year: 2029 - chance of a nonscaling delay if TAI compute needs are otherwise met in this year: 33%\n",
      "Year: 2030 - chance of a nonscaling delay if TAI compute needs are otherwise met in this year: 21%\n",
      "Year: 2031 - chance of a nonscaling delay if TAI compute needs are otherwise met in this year: 15%\n",
      "Year: 2032 - chance of a nonscaling delay if TAI compute needs are otherwise met in this year: 12%\n",
      "Year: 2033 - chance of a nonscaling delay if TAI compute needs are otherwise met in this year: 11%\n",
      "Year: 2034 - chance of a nonscaling delay if TAI compute needs are otherwise met in this year: 10%\n",
      "Year: 2035 - chance of a nonscaling delay if TAI compute needs are otherwise met in this year: 10%\n",
      "Year: 2045 - chance of a nonscaling delay if TAI compute needs are otherwise met in this year: 10%\n",
      "Year: 2055 - chance of a nonscaling delay if TAI compute needs are otherwise met in this year: 10%\n",
      "Year: 2065 - chance of a nonscaling delay if TAI compute needs are otherwise met in this year: 10%\n",
      "Year: 2075 - chance of a nonscaling delay if TAI compute needs are otherwise met in this year: 10%\n",
      "Year: 2085 - chance of a nonscaling delay if TAI compute needs are otherwise met in this year: 10%\n",
      "Year: 2095 - chance of a nonscaling delay if TAI compute needs are otherwise met in this year: 10%\n",
      "Year: 2105 - chance of a nonscaling delay if TAI compute needs are otherwise met in this year: 10%\n",
      "Year: 2115 - chance of a nonscaling delay if TAI compute needs are otherwise met in this year: 10%\n",
      "-\n",
      "{1: 1,\n",
      " 5: 1,\n",
      " 10: 1,\n",
      " 20: 2,\n",
      " 30: 2,\n",
      " 40: 3,\n",
      " 50: 3,\n",
      " 60: 4,\n",
      " 70: 4,\n",
      " 80: 5,\n",
      " 90: 7,\n",
      " 95: 8,\n",
      " 99: 12}\n"
     ]
    }
   ],
   "source": [
    "nonscaling_points = [(2024, 0.7),\n",
    "                     (2027, 0.6),\n",
    "                     (2030, 0.2),\n",
    "                     (2050, 0.1)]\n",
    "p_nonscaling_delay = derive_nonscaling_delay_curve(nonscaling_points)\n",
    "delays['data'] = {'prob': p_nonscaling_delay, 'length': sq.mixture([[0.9, sq.lognorm(1, 8)], [0.1, sq.lognorm(3, 10)]])}\n",
    "plot_nonscaling_delay(plt, years, p_nonscaling_delay)\n",
    "print('-')\n",
    "pprint(sq.get_percentiles(delays['data']['length'] @ 1000, digits=0))"
   ]
  },
  {
   "cell_type": "markdown",
   "id": "b124feaa-b239-4982-acbb-d3efc6054bcc",
   "metadata": {},
   "source": [
    "## Robotics need delay"
   ]
  },
  {
   "cell_type": "code",
   "execution_count": 5,
   "id": "3b74ba6e-ff8b-4311-bd16-fbdaaf881bd3",
   "metadata": {},
   "outputs": [
    {
     "name": "stdout",
     "output_type": "stream",
     "text": [
      "|   iter    |  target   |   push    |   shift   |   slope   |\n",
      "-------------------------------------------------------------\n",
      "| \u001b[95m5        \u001b[0m | \u001b[95m-0.05167 \u001b[0m | \u001b[95m2.16     \u001b[0m | \u001b[95m2.467    \u001b[0m | \u001b[95m6.925    \u001b[0m |\n",
      "| \u001b[95m7        \u001b[0m | \u001b[95m-0.05    \u001b[0m | \u001b[95m0.23     \u001b[0m | \u001b[95m8.784    \u001b[0m | \u001b[95m3.042    \u001b[0m |\n"
     ]
    },
    {
     "name": "stderr",
     "output_type": "stream",
     "text": [
      "<string>:64: RuntimeWarning: overflow encountered in scalar power\n",
      "<string>:64: RuntimeWarning: overflow encountered in scalar power\n"
     ]
    },
    {
     "name": "stdout",
     "output_type": "stream",
     "text": [
      "| \u001b[95m46       \u001b[0m | \u001b[95m-0.05    \u001b[0m | \u001b[95m0.01     \u001b[0m | \u001b[95m5.952    \u001b[0m | \u001b[95m3.322    \u001b[0m |\n"
     ]
    },
    {
     "name": "stderr",
     "output_type": "stream",
     "text": [
      "<string>:64: RuntimeWarning: overflow encountered in scalar power\n",
      "<string>:64: RuntimeWarning: overflow encountered in scalar power\n"
     ]
    },
    {
     "name": "stdout",
     "output_type": "stream",
     "text": [
      "| \u001b[95m55       \u001b[0m | \u001b[95m-0.04928 \u001b[0m | \u001b[95m0.01     \u001b[0m | \u001b[95m2.468    \u001b[0m | \u001b[95m1.992    \u001b[0m |\n"
     ]
    },
    {
     "name": "stderr",
     "output_type": "stream",
     "text": [
      "<string>:64: RuntimeWarning: overflow encountered in scalar power\n",
      "<string>:64: RuntimeWarning: overflow encountered in scalar power\n"
     ]
    },
    {
     "name": "stdout",
     "output_type": "stream",
     "text": [
      "| \u001b[95m86       \u001b[0m | \u001b[95m-0.04604 \u001b[0m | \u001b[95m0.01     \u001b[0m | \u001b[95m6.492    \u001b[0m | \u001b[95m1.84     \u001b[0m |\n"
     ]
    },
    {
     "name": "stderr",
     "output_type": "stream",
     "text": [
      "<string>:64: RuntimeWarning: overflow encountered in scalar power\n",
      "<string>:64: RuntimeWarning: overflow encountered in scalar power\n",
      "<string>:64: RuntimeWarning: overflow encountered in scalar power\n"
     ]
    },
    {
     "name": "stdout",
     "output_type": "stream",
     "text": [
      "| \u001b[95m107      \u001b[0m | \u001b[95m-0.03403 \u001b[0m | \u001b[95m0.07551  \u001b[0m | \u001b[95m5.802    \u001b[0m | \u001b[95m0.6244   \u001b[0m |\n",
      "| \u001b[95m111      \u001b[0m | \u001b[95m-0.02042 \u001b[0m | \u001b[95m0.03701  \u001b[0m | \u001b[95m5.957    \u001b[0m | \u001b[95m1.103    \u001b[0m |\n",
      "| \u001b[95m118      \u001b[0m | \u001b[95m-0.01587 \u001b[0m | \u001b[95m0.7335   \u001b[0m | \u001b[95m3.675    \u001b[0m | \u001b[95m0.1938   \u001b[0m |\n",
      "=============================================================\n",
      "Curve params found\n",
      "{'push': 0.7334939215175151,\n",
      " 'shift': 3.675431447829529,\n",
      " 'slope': 0.19376507987207944}\n",
      "-\n",
      "## Chance of nonscaling delay ##\n"
     ]
    },
    {
     "data": {
      "image/png": "[encoded data removed]",
      "text/plain": [
       "<Figure size 640x480 with 1 Axes>"
      ]
     },
     "metadata": {},
     "output_type": "display_data"
    },
    {
     "name": "stdout",
     "output_type": "stream",
     "text": [
      "Year: 2025 - chance of a nonscaling delay if TAI compute needs are otherwise met in this year: 30%\n",
      "Year: 2026 - chance of a nonscaling delay if TAI compute needs are otherwise met in this year: 26%\n",
      "Year: 2027 - chance of a nonscaling delay if TAI compute needs are otherwise met in this year: 25%\n",
      "Year: 2028 - chance of a nonscaling delay if TAI compute needs are otherwise met in this year: 25%\n",
      "Year: 2029 - chance of a nonscaling delay if TAI compute needs are otherwise met in this year: 24%\n",
      "Year: 2030 - chance of a nonscaling delay if TAI compute needs are otherwise met in this year: 22%\n",
      "Year: 2031 - chance of a nonscaling delay if TAI compute needs are otherwise met in this year: 21%\n",
      "Year: 2032 - chance of a nonscaling delay if TAI compute needs are otherwise met in this year: 20%\n",
      "Year: 2033 - chance of a nonscaling delay if TAI compute needs are otherwise met in this year: 19%\n",
      "Year: 2034 - chance of a nonscaling delay if TAI compute needs are otherwise met in this year: 17%\n",
      "Year: 2035 - chance of a nonscaling delay if TAI compute needs are otherwise met in this year: 16%\n",
      "Year: 2045 - chance of a nonscaling delay if TAI compute needs are otherwise met in this year: 7%\n",
      "Year: 2055 - chance of a nonscaling delay if TAI compute needs are otherwise met in this year: 5%\n",
      "Year: 2065 - chance of a nonscaling delay if TAI compute needs are otherwise met in this year: 5%\n",
      "Year: 2075 - chance of a nonscaling delay if TAI compute needs are otherwise met in this year: 5%\n",
      "Year: 2085 - chance of a nonscaling delay if TAI compute needs are otherwise met in this year: 5%\n",
      "Year: 2095 - chance of a nonscaling delay if TAI compute needs are otherwise met in this year: 5%\n",
      "Year: 2105 - chance of a nonscaling delay if TAI compute needs are otherwise met in this year: 5%\n",
      "Year: 2115 - chance of a nonscaling delay if TAI compute needs are otherwise met in this year: 5%\n",
      "-\n",
      "{1: 1,\n",
      " 5: 1,\n",
      " 10: 1,\n",
      " 20: 2,\n",
      " 30: 2,\n",
      " 40: 2,\n",
      " 50: 2,\n",
      " 60: 3,\n",
      " 70: 3,\n",
      " 80: 4,\n",
      " 90: 5,\n",
      " 95: 7,\n",
      " 99: 13}\n"
     ]
    }
   ],
   "source": [
    "nonscaling_points = [(2024, 0.3),\n",
    "                     (2030, 0.2),\n",
    "                     (2040, 0.1),\n",
    "                     (2050, 0.05)]\n",
    "p_nonscaling_delay = derive_nonscaling_delay_curve(nonscaling_points)\n",
    "delays['robotics'] = {'prob': p_nonscaling_delay, 'length': sq.mixture([[0.85, sq.lognorm(1, 5)],\n",
    "                                                                        [0.15, sq.lognorm(1, 15)]])}\n",
    "plot_nonscaling_delay(plt, years, p_nonscaling_delay)\n",
    "print('-')\n",
    "pprint(sq.get_percentiles(delays['robotics']['length'] @ 1000, digits=0))"
   ]
  },
  {
   "cell_type": "markdown",
   "id": "962df8a5-7d24-4001-96d0-1b8ec1a0f741",
   "metadata": {},
   "source": [
    "## Integration delay"
   ]
  },
  {
   "cell_type": "code",
   "execution_count": 6,
   "id": "ec560708-06f9-4b0c-8af7-04f2785650df",
   "metadata": {},
   "outputs": [
    {
     "name": "stdout",
     "output_type": "stream",
     "text": [
      "|   iter    |  target   |   push    |   shift   |   slope   |\n",
      "-------------------------------------------------------------\n",
      "| \u001b[95m2        \u001b[0m | \u001b[95m-0.05443 \u001b[0m | \u001b[95m3.956    \u001b[0m | \u001b[95m7.7      \u001b[0m | \u001b[95m9.759    \u001b[0m |\n",
      "| \u001b[95m5        \u001b[0m | \u001b[95m-0.05039 \u001b[0m | \u001b[95m1.147    \u001b[0m | \u001b[95m4.735    \u001b[0m | \u001b[95m4.655    \u001b[0m |\n",
      "| \u001b[95m12       \u001b[0m | \u001b[95m-0.05005 \u001b[0m | \u001b[95m0.7695   \u001b[0m | \u001b[95m8.383    \u001b[0m | \u001b[95m3.644    \u001b[0m |\n",
      "| \u001b[95m29       \u001b[0m | \u001b[95m-0.05002 \u001b[0m | \u001b[95m0.8491   \u001b[0m | \u001b[95m0.5459   \u001b[0m | \u001b[95m7.823    \u001b[0m |\n",
      "| \u001b[95m34       \u001b[0m | \u001b[95m-0.05    \u001b[0m | \u001b[95m0.437    \u001b[0m | \u001b[95m6.753    \u001b[0m | \u001b[95m9.846    \u001b[0m |\n"
     ]
    },
    {
     "name": "stderr",
     "output_type": "stream",
     "text": [
      "<string>:64: RuntimeWarning: overflow encountered in scalar power\n"
     ]
    },
    {
     "name": "stdout",
     "output_type": "stream",
     "text": [
      "| \u001b[95m43       \u001b[0m | \u001b[95m-0.05    \u001b[0m | \u001b[95m0.01     \u001b[0m | \u001b[95m3.121    \u001b[0m | \u001b[95m10.0     \u001b[0m |\n"
     ]
    },
    {
     "name": "stderr",
     "output_type": "stream",
     "text": [
      "<string>:64: RuntimeWarning: overflow encountered in scalar power\n"
     ]
    },
    {
     "name": "stdout",
     "output_type": "stream",
     "text": [
      "| \u001b[95m44       \u001b[0m | \u001b[95m-0.05    \u001b[0m | \u001b[95m0.01     \u001b[0m | \u001b[95m3.166    \u001b[0m | \u001b[95m6.803    \u001b[0m |\n"
     ]
    },
    {
     "name": "stderr",
     "output_type": "stream",
     "text": [
      "<string>:64: RuntimeWarning: overflow encountered in scalar power\n"
     ]
    },
    {
     "name": "stdout",
     "output_type": "stream",
     "text": [
      "| \u001b[95m47       \u001b[0m | \u001b[95m-0.05    \u001b[0m | \u001b[95m0.01     \u001b[0m | \u001b[95m0.01     \u001b[0m | \u001b[95m4.559    \u001b[0m |\n",
      "| \u001b[95m59       \u001b[0m | \u001b[95m-0.05    \u001b[0m | \u001b[95m0.01     \u001b[0m | \u001b[95m2.004    \u001b[0m | \u001b[95m5.054    \u001b[0m |\n",
      "| \u001b[95m60       \u001b[0m | \u001b[95m-0.04999 \u001b[0m | \u001b[95m0.01     \u001b[0m | \u001b[95m5.287    \u001b[0m | \u001b[95m3.204    \u001b[0m |\n"
     ]
    },
    {
     "name": "stderr",
     "output_type": "stream",
     "text": [
      "<string>:64: RuntimeWarning: overflow encountered in scalar power\n",
      "<string>:64: RuntimeWarning: overflow encountered in scalar power\n",
      "<string>:64: RuntimeWarning: overflow encountered in scalar power\n",
      "<string>:64: RuntimeWarning: overflow encountered in scalar power\n"
     ]
    },
    {
     "name": "stdout",
     "output_type": "stream",
     "text": [
      "| \u001b[95m82       \u001b[0m | \u001b[95m-0.04999 \u001b[0m | \u001b[95m0.01     \u001b[0m | \u001b[95m7.226    \u001b[0m | \u001b[95m3.056    \u001b[0m |\n"
     ]
    },
    {
     "name": "stderr",
     "output_type": "stream",
     "text": [
      "<string>:64: RuntimeWarning: overflow encountered in scalar power\n",
      "<string>:64: RuntimeWarning: overflow encountered in scalar power\n",
      "<string>:64: RuntimeWarning: overflow encountered in scalar power\n",
      "<string>:64: RuntimeWarning: overflow encountered in scalar power\n",
      "<string>:64: RuntimeWarning: overflow encountered in scalar power\n",
      "<string>:64: RuntimeWarning: overflow encountered in scalar power\n"
     ]
    },
    {
     "name": "stdout",
     "output_type": "stream",
     "text": [
      "=============================================================\n",
      "Curve params found\n",
      "{'push': 0.01, 'shift': 7.226033626657171, 'slope': 3.0556567671998995}\n",
      "-\n",
      "## Chance of nonscaling delay ##\n"
     ]
    },
    {
     "data": {
      "image/png": "[encoded data removed]",
      "text/plain": [
       "<Figure size 640x480 with 1 Axes>"
      ]
     },
     "metadata": {},
     "output_type": "display_data"
    },
    {
     "name": "stdout",
     "output_type": "stream",
     "text": [
      "Year: 2025 - chance of a nonscaling delay if TAI compute needs are otherwise met in this year: 40%\n",
      "Year: 2026 - chance of a nonscaling delay if TAI compute needs are otherwise met in this year: 40%\n",
      "Year: 2027 - chance of a nonscaling delay if TAI compute needs are otherwise met in this year: 33%\n",
      "Year: 2028 - chance of a nonscaling delay if TAI compute needs are otherwise met in this year: 8%\n",
      "Year: 2029 - chance of a nonscaling delay if TAI compute needs are otherwise met in this year: 5%\n",
      "Year: 2030 - chance of a nonscaling delay if TAI compute needs are otherwise met in this year: 5%\n",
      "Year: 2031 - chance of a nonscaling delay if TAI compute needs are otherwise met in this year: 5%\n",
      "Year: 2032 - chance of a nonscaling delay if TAI compute needs are otherwise met in this year: 5%\n",
      "Year: 2033 - chance of a nonscaling delay if TAI compute needs are otherwise met in this year: 5%\n",
      "Year: 2034 - chance of a nonscaling delay if TAI compute needs are otherwise met in this year: 5%\n",
      "Year: 2035 - chance of a nonscaling delay if TAI compute needs are otherwise met in this year: 5%\n",
      "Year: 2045 - chance of a nonscaling delay if TAI compute needs are otherwise met in this year: 5%\n",
      "Year: 2055 - chance of a nonscaling delay if TAI compute needs are otherwise met in this year: 5%\n",
      "Year: 2065 - chance of a nonscaling delay if TAI compute needs are otherwise met in this year: 5%\n",
      "Year: 2075 - chance of a nonscaling delay if TAI compute needs are otherwise met in this year: 5%\n",
      "Year: 2085 - chance of a nonscaling delay if TAI compute needs are otherwise met in this year: 5%\n",
      "Year: 2095 - chance of a nonscaling delay if TAI compute needs are otherwise met in this year: 5%\n",
      "Year: 2105 - chance of a nonscaling delay if TAI compute needs are otherwise met in this year: 5%\n",
      "Year: 2115 - chance of a nonscaling delay if TAI compute needs are otherwise met in this year: 5%\n",
      "-\n",
      "{1: 2,\n",
      " 5: 3,\n",
      " 10: 4,\n",
      " 20: 5,\n",
      " 30: 7,\n",
      " 40: 8,\n",
      " 50: 10,\n",
      " 60: 12,\n",
      " 70: 14,\n",
      " 80: 18,\n",
      " 90: 24,\n",
      " 95: 31,\n",
      " 99: 49}\n"
     ]
    }
   ],
   "source": [
    "# https://twitter.com/MatthewJBar/status/1653461856919654400\n",
    "nonscaling_points = [(2024, 0.4),\n",
    "                     (2030, 0.2),\n",
    "                     (2040, 0.1),\n",
    "                     (2050, 0.05)]\n",
    "p_nonscaling_delay = derive_nonscaling_delay_curve(nonscaling_points)\n",
    "delays['integration'] = {'prob': p_nonscaling_delay, 'length': sq.lognorm(3, 30)}\n",
    "plot_nonscaling_delay(plt, years, p_nonscaling_delay)\n",
    "print('-')\n",
    "pprint(sq.get_percentiles(delays['integration']['length'] @ 1000, digits=0))"
   ]
  },
  {
   "cell_type": "markdown",
   "id": "bfa3c990-2427-45bd-bfc5-0cf2917095aa",
   "metadata": {},
   "source": [
    "##  Real world feedback delay"
   ]
  },
  {
   "cell_type": "code",
   "execution_count": 7,
   "id": "e3010b54-63f4-46d5-8188-d51ec573ae45",
   "metadata": {},
   "outputs": [
    {
     "name": "stdout",
     "output_type": "stream",
     "text": [
      "|   iter    |  target   |   push    |   shift   |   slope   |\n",
      "-------------------------------------------------------------\n",
      "| \u001b[95m12       \u001b[0m | \u001b[95m-0.0108  \u001b[0m | \u001b[95m3.102    \u001b[0m | \u001b[95m2.837    \u001b[0m | \u001b[95m9.847    \u001b[0m |\n",
      "| \u001b[95m19       \u001b[0m | \u001b[95m-0.01008 \u001b[0m | \u001b[95m0.7921   \u001b[0m | \u001b[95m6.025    \u001b[0m | \u001b[95m2.766    \u001b[0m |\n",
      "| \u001b[95m20       \u001b[0m | \u001b[95m-0.009918\u001b[0m | \u001b[95m0.06459  \u001b[0m | \u001b[95m8.502    \u001b[0m | \u001b[95m2.133    \u001b[0m |\n"
     ]
    },
    {
     "name": "stderr",
     "output_type": "stream",
     "text": [
      "<string>:64: RuntimeWarning: overflow encountered in scalar power\n",
      "<string>:64: RuntimeWarning: overflow encountered in scalar power\n",
      "<string>:64: RuntimeWarning: overflow encountered in scalar power\n",
      "<string>:64: RuntimeWarning: overflow encountered in scalar power\n",
      "<string>:64: RuntimeWarning: overflow encountered in scalar power\n",
      "<string>:64: RuntimeWarning: overflow encountered in scalar power\n"
     ]
    },
    {
     "name": "stdout",
     "output_type": "stream",
     "text": [
      "| \u001b[95m61       \u001b[0m | \u001b[95m-0.009679\u001b[0m | \u001b[95m0.01     \u001b[0m | \u001b[95m6.983    \u001b[0m | \u001b[95m2.193    \u001b[0m |\n"
     ]
    },
    {
     "name": "stderr",
     "output_type": "stream",
     "text": [
      "<string>:64: RuntimeWarning: overflow encountered in scalar power\n",
      "<string>:64: RuntimeWarning: overflow encountered in scalar power\n",
      "<string>:64: RuntimeWarning: overflow encountered in scalar power\n",
      "<string>:64: RuntimeWarning: overflow encountered in scalar power\n",
      "<string>:64: RuntimeWarning: overflow encountered in scalar power\n",
      "<string>:64: RuntimeWarning: overflow encountered in scalar power\n",
      "<string>:64: RuntimeWarning: overflow encountered in scalar power\n"
     ]
    },
    {
     "name": "stdout",
     "output_type": "stream",
     "text": [
      "=============================================================\n",
      "Curve params found\n",
      "{'push': 0.01, 'shift': 6.983367095180534, 'slope': 2.192753380372012}\n",
      "-\n",
      "## Chance of nonscaling delay ##\n"
     ]
    },
    {
     "data": {
      "image/png": "[encoded data removed]",
      "text/plain": [
       "<Figure size 640x480 with 1 Axes>"
      ]
     },
     "metadata": {},
     "output_type": "display_data"
    },
    {
     "name": "stdout",
     "output_type": "stream",
     "text": [
      "Year: 2025 - chance of a nonscaling delay if TAI compute needs are otherwise met in this year: 10%\n",
      "Year: 2026 - chance of a nonscaling delay if TAI compute needs are otherwise met in this year: 10%\n",
      "Year: 2027 - chance of a nonscaling delay if TAI compute needs are otherwise met in this year: 10%\n",
      "Year: 2028 - chance of a nonscaling delay if TAI compute needs are otherwise met in this year: 7%\n",
      "Year: 2029 - chance of a nonscaling delay if TAI compute needs are otherwise met in this year: 3%\n",
      "Year: 2030 - chance of a nonscaling delay if TAI compute needs are otherwise met in this year: 2%\n",
      "Year: 2031 - chance of a nonscaling delay if TAI compute needs are otherwise met in this year: 2%\n",
      "Year: 2032 - chance of a nonscaling delay if TAI compute needs are otherwise met in this year: 2%\n",
      "Year: 2033 - chance of a nonscaling delay if TAI compute needs are otherwise met in this year: 2%\n",
      "Year: 2034 - chance of a nonscaling delay if TAI compute needs are otherwise met in this year: 2%\n",
      "Year: 2035 - chance of a nonscaling delay if TAI compute needs are otherwise met in this year: 2%\n",
      "Year: 2045 - chance of a nonscaling delay if TAI compute needs are otherwise met in this year: 2%\n",
      "Year: 2055 - chance of a nonscaling delay if TAI compute needs are otherwise met in this year: 2%\n",
      "Year: 2065 - chance of a nonscaling delay if TAI compute needs are otherwise met in this year: 2%\n",
      "Year: 2075 - chance of a nonscaling delay if TAI compute needs are otherwise met in this year: 2%\n",
      "Year: 2085 - chance of a nonscaling delay if TAI compute needs are otherwise met in this year: 2%\n",
      "Year: 2095 - chance of a nonscaling delay if TAI compute needs are otherwise met in this year: 2%\n",
      "Year: 2105 - chance of a nonscaling delay if TAI compute needs are otherwise met in this year: 2%\n",
      "Year: 2115 - chance of a nonscaling delay if TAI compute needs are otherwise met in this year: 2%\n",
      "-\n",
      "{1: 2,\n",
      " 5: 3,\n",
      " 10: 4,\n",
      " 20: 4,\n",
      " 30: 5,\n",
      " 40: 5,\n",
      " 50: 6,\n",
      " 60: 7,\n",
      " 70: 9,\n",
      " 80: 12,\n",
      " 90: 26,\n",
      " 95: 32,\n",
      " 99: 45}\n"
     ]
    }
   ],
   "source": [
    "nonscaling_points = [(2024, 0.1),\n",
    "                     (2030, 0.05),\n",
    "                     (2050, 0.02)]\n",
    "p_nonscaling_delay = derive_nonscaling_delay_curve(nonscaling_points)\n",
    "delays['real_world_feedback'] = {'prob': p_nonscaling_delay, 'length': sq.mixture([[0.8, sq.lognorm(3, 10)],\n",
    "                                                                                   [0.1, sq.lognorm(10, 30)],\n",
    "                                                                                   [0.1, sq.lognorm(20, 50)]])}\n",
    "plot_nonscaling_delay(plt, years, p_nonscaling_delay)\n",
    "print('-')\n",
    "pprint(sq.get_percentiles(delays['real_world_feedback']['length'] @ 1000, digits=0))"
   ]
  },
  {
   "cell_type": "markdown",
   "id": "b100c5f5-5c16-4515-8814-ae81391126d9",
   "metadata": {},
   "source": [
    "## Take off speeds"
   ]
  },
  {
   "cell_type": "code",
   "execution_count": 8,
   "id": "acad56b4-027e-456e-8569-4a38812ee5a3",
   "metadata": {},
   "outputs": [
    {
     "name": "stdout",
     "output_type": "stream",
     "text": [
      "|   iter    |  target   |   push    |   shift   |   slope   |\n",
      "-------------------------------------------------------------\n",
      "| \u001b[95m4        \u001b[0m | \u001b[95m-0.1187  \u001b[0m | \u001b[95m3.237    \u001b[0m | \u001b[95m1.093    \u001b[0m | \u001b[95m9.609    \u001b[0m |\n",
      "| \u001b[95m13       \u001b[0m | \u001b[95m-0.1127  \u001b[0m | \u001b[95m1.381    \u001b[0m | \u001b[95m4.12     \u001b[0m | \u001b[95m7.179    \u001b[0m |\n",
      "| \u001b[95m22       \u001b[0m | \u001b[95m-0.1125  \u001b[0m | \u001b[95m0.9595   \u001b[0m | \u001b[95m9.714    \u001b[0m | \u001b[95m5.833    \u001b[0m |\n",
      "| \u001b[95m25       \u001b[0m | \u001b[95m-0.1125  \u001b[0m | \u001b[95m0.01751  \u001b[0m | \u001b[95m4.933    \u001b[0m | \u001b[95m9.334    \u001b[0m |\n",
      "| \u001b[95m30       \u001b[0m | \u001b[95m-0.1125  \u001b[0m | \u001b[95m0.0302   \u001b[0m | \u001b[95m8.941    \u001b[0m | \u001b[95m3.379    \u001b[0m |\n",
      "| \u001b[95m33       \u001b[0m | \u001b[95m-0.0696  \u001b[0m | \u001b[95m0.265    \u001b[0m | \u001b[95m1.193    \u001b[0m | \u001b[95m0.449    \u001b[0m |\n",
      "| \u001b[95m42       \u001b[0m | \u001b[95m-0.06162 \u001b[0m | \u001b[95m1.025    \u001b[0m | \u001b[95m1.796    \u001b[0m | \u001b[95m0.06673  \u001b[0m |\n",
      "| \u001b[95m58       \u001b[0m | \u001b[95m-0.06147 \u001b[0m | \u001b[95m0.1249   \u001b[0m | \u001b[95m0.9326   \u001b[0m | \u001b[95m0.5242   \u001b[0m |\n",
      "| \u001b[95m60       \u001b[0m | \u001b[95m-0.0613  \u001b[0m | \u001b[95m0.4002   \u001b[0m | \u001b[95m1.558    \u001b[0m | \u001b[95m0.341    \u001b[0m |\n",
      "| \u001b[95m71       \u001b[0m | \u001b[95m-0.04253 \u001b[0m | \u001b[95m0.216    \u001b[0m | \u001b[95m1.723    \u001b[0m | \u001b[95m0.4356   \u001b[0m |\n",
      "=============================================================\n",
      "Curve params found\n",
      "{'push': 0.21597018008613636,\n",
      " 'shift': 1.722872719225554,\n",
      " 'slope': 0.435551105670606}\n",
      "-\n",
      "## Chance of nonscaling delay ##\n"
     ]
    },
    {
     "data": {
      "image/png": "[encoded data removed]",
      "text/plain": [
       "<Figure size 640x480 with 1 Axes>"
      ]
     },
     "metadata": {},
     "output_type": "display_data"
    },
    {
     "name": "stdout",
     "output_type": "stream",
     "text": [
      "Year: 2025 - chance of a nonscaling delay if TAI compute needs are otherwise met in this year: 70%\n",
      "Year: 2026 - chance of a nonscaling delay if TAI compute needs are otherwise met in this year: 68%\n",
      "Year: 2027 - chance of a nonscaling delay if TAI compute needs are otherwise met in this year: 66%\n",
      "Year: 2028 - chance of a nonscaling delay if TAI compute needs are otherwise met in this year: 62%\n",
      "Year: 2029 - chance of a nonscaling delay if TAI compute needs are otherwise met in this year: 55%\n",
      "Year: 2030 - chance of a nonscaling delay if TAI compute needs are otherwise met in this year: 48%\n",
      "Year: 2031 - chance of a nonscaling delay if TAI compute needs are otherwise met in this year: 41%\n",
      "Year: 2032 - chance of a nonscaling delay if TAI compute needs are otherwise met in this year: 35%\n",
      "Year: 2033 - chance of a nonscaling delay if TAI compute needs are otherwise met in this year: 31%\n",
      "Year: 2034 - chance of a nonscaling delay if TAI compute needs are otherwise met in this year: 27%\n",
      "Year: 2035 - chance of a nonscaling delay if TAI compute needs are otherwise met in this year: 25%\n",
      "Year: 2045 - chance of a nonscaling delay if TAI compute needs are otherwise met in this year: 20%\n",
      "Year: 2055 - chance of a nonscaling delay if TAI compute needs are otherwise met in this year: 20%\n",
      "Year: 2065 - chance of a nonscaling delay if TAI compute needs are otherwise met in this year: 20%\n",
      "Year: 2075 - chance of a nonscaling delay if TAI compute needs are otherwise met in this year: 20%\n",
      "Year: 2085 - chance of a nonscaling delay if TAI compute needs are otherwise met in this year: 20%\n",
      "Year: 2095 - chance of a nonscaling delay if TAI compute needs are otherwise met in this year: 20%\n",
      "Year: 2105 - chance of a nonscaling delay if TAI compute needs are otherwise met in this year: 20%\n",
      "Year: 2115 - chance of a nonscaling delay if TAI compute needs are otherwise met in this year: 20%\n",
      "-\n",
      "{1: 1,\n",
      " 5: 2,\n",
      " 10: 2,\n",
      " 20: 3,\n",
      " 30: 4,\n",
      " 40: 5,\n",
      " 50: 6,\n",
      " 60: 7,\n",
      " 70: 8,\n",
      " 80: 10,\n",
      " 90: 12,\n",
      " 95: 16,\n",
      " 99: 24}\n"
     ]
    }
   ],
   "source": [
    "# https://www.lesswrong.com/posts/Gc9FGtdXhK9sCSEYu/what-a-compute-centric-framework-says-about-ai-takeoff\n",
    "nonscaling_points = [(2024, 0.7),\n",
    "                     (2030, 0.5),\n",
    "                     (2050, 0.35),\n",
    "                     (2080, 0.2)]\n",
    "p_nonscaling_delay = derive_nonscaling_delay_curve(nonscaling_points)\n",
    "delays['take_off'] = {'prob': p_nonscaling_delay, 'length': sq.lognorm(2, 15)}\n",
    "plot_nonscaling_delay(plt, years, p_nonscaling_delay)\n",
    "print('-')\n",
    "pprint(sq.get_percentiles(delays['take_off']['length'] @ 1000, digits=0))"
   ]
  },
  {
   "cell_type": "markdown",
   "id": "a6bb37d3-59fd-48ab-b34d-634163fdd778",
   "metadata": {},
   "source": [
    "## Save"
   ]
  },
  {
   "cell_type": "code",
   "execution_count": 9,
   "id": "3a5ee983-96e5-4392-a1b4-44588eba845e",
   "metadata": {},
   "outputs": [
    {
     "name": "stdout",
     "output_type": "stream",
     "text": [
      "cached!\n"
     ]
    }
   ],
   "source": [
    "with open('caches/nonscaling_delays.dill', 'wb') as f:\n",
    "    dill.dump(delays, f)\n",
    "    \n",
    "print('cached!')"
   ]
  },
  {
   "cell_type": "code",
   "execution_count": 10,
   "id": "911cabe6-7f04-4bc3-98ac-7c6702c6ac94",
   "metadata": {},
   "outputs": [
    {
     "name": "stdout",
     "output_type": "stream",
     "text": [
      "File last ran: 2024-04-26 10:13:32.486483\n"
     ]
    }
   ],
   "source": [
    "print('File last ran: {}'.format(dt.now()))"
   ]
  }
 ],
 "metadata": {
  "kernelspec": {
   "display_name": "Python 3 (ipykernel)",
   "language": "python",
   "name": "python3"
  },
  "language_info": {
   "codemirror_mode": {
    "name": "ipython",
    "version": 3
   },
   "file_extension": ".py",
   "mimetype": "text/x-python",
   "name": "python",
   "nbconvert_exporter": "python",
   "pygments_lexer": "ipython3",
   "version": "3.11.0"
  }
 },
 "nbformat": 4,
 "nbformat_minor": 5
}
