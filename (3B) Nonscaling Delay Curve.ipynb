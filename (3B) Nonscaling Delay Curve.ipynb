{
 "cells": [
  {
   "cell_type": "code",
   "execution_count": 1,
   "id": "92bffbfd-e89b-45a2-9174-0fd203e96d36",
   "metadata": {},
   "outputs": [
    {
     "name": "stdout",
     "output_type": "stream",
     "text": [
      "Loaded\n"
     ]
    }
   ],
   "source": [
    "import dill\n",
    "import math\n",
    "import numpy as np\n",
    "from pprint import pprint\n",
    "from bayes_opt import BayesianOptimization\n",
    "from datetime import datetime as dt\n",
    "\n",
    "delays = {}\n",
    "\n",
    "exec(open('utils.py').read())\n",
    "print('Loaded')\n",
    "\n",
    "MAX_YEAR = CURRENT_YEAR + 100 # CURRENT_YEAR defined in utils.py\n",
    "years = list(range(CURRENT_YEAR, MAX_YEAR))"
   ]
  },
  {
   "cell_type": "markdown",
   "id": "fb92a6f5-c3a8-40be-89ae-0b29c39d3fc0",
   "metadata": {},
   "source": [
    "## Algorithms/insights delay"
   ]
  },
  {
   "cell_type": "code",
   "execution_count": 2,
   "id": "ede8a8fc-b4a4-4273-9b44-913170dda139",
   "metadata": {},
   "outputs": [
    {
     "name": "stdout",
     "output_type": "stream",
     "text": [
      "|   iter    |  target   |   push    |   shift   |   slope   |\n",
      "-------------------------------------------------------------\n",
      "| \u001b[95m2        \u001b[0m | \u001b[95m-0.04261 \u001b[0m | \u001b[95m6.005    \u001b[0m | \u001b[95m7.884    \u001b[0m | \u001b[95m9.902    \u001b[0m |\n",
      "| \u001b[95m3        \u001b[0m | \u001b[95m-0.03989 \u001b[0m | \u001b[95m4.066    \u001b[0m | \u001b[95m9.327    \u001b[0m | \u001b[95m8.969    \u001b[0m |\n",
      "| \u001b[95m4        \u001b[0m | \u001b[95m-0.03744 \u001b[0m | \u001b[95m0.8454   \u001b[0m | \u001b[95m7.428    \u001b[0m | \u001b[95m4.145    \u001b[0m |\n",
      "| \u001b[95m10       \u001b[0m | \u001b[95m-0.01764 \u001b[0m | \u001b[95m1.773    \u001b[0m | \u001b[95m5.107    \u001b[0m | \u001b[95m0.3297   \u001b[0m |\n",
      "| \u001b[95m43       \u001b[0m | \u001b[95m-0.01223 \u001b[0m | \u001b[95m1.284    \u001b[0m | \u001b[95m4.47     \u001b[0m | \u001b[95m0.4042   \u001b[0m |\n",
      "| \u001b[95m56       \u001b[0m | \u001b[95m-0.007506\u001b[0m | \u001b[95m1.074    \u001b[0m | \u001b[95m4.665    \u001b[0m | \u001b[95m0.3919   \u001b[0m |\n",
      "| \u001b[95m57       \u001b[0m | \u001b[95m-0.004921\u001b[0m | \u001b[95m0.7871   \u001b[0m | \u001b[95m4.813    \u001b[0m | \u001b[95m0.5348   \u001b[0m |\n"
     ]
    },
    {
     "name": "stderr",
     "output_type": "stream",
     "text": [
      "<string>:64: RuntimeWarning: overflow encountered in scalar power\n",
      "<string>:64: RuntimeWarning: overflow encountered in scalar power\n",
      "<string>:64: RuntimeWarning: overflow encountered in scalar power\n"
     ]
    },
    {
     "name": "stdout",
     "output_type": "stream",
     "text": [
      "=============================================================\n",
      "Curve params found\n",
      "{'push': 0.7871153195362566,\n",
      " 'shift': 4.813172753965903,\n",
      " 'slope': 0.5348152652973945}\n",
      "-\n",
      "## Chance of nonscaling delay ##\n"
     ]
    },
    {
     "data": {
      "image/png": "[encoded data removed]",
      "text/plain": [
       "<Figure size 640x480 with 1 Axes>"
      ]
     },
     "metadata": {},
     "output_type": "display_data"
    },
    {
     "name": "stdout",
     "output_type": "stream",
     "text": [
      "Year: 2025 - chance of a nonscaling delay if TAI compute needs are otherwise met in this year: 20%\n",
      "Year: 2026 - chance of a nonscaling delay if TAI compute needs are otherwise met in this year: 17%\n",
      "Year: 2027 - chance of a nonscaling delay if TAI compute needs are otherwise met in this year: 16%\n",
      "Year: 2028 - chance of a nonscaling delay if TAI compute needs are otherwise met in this year: 14%\n",
      "Year: 2029 - chance of a nonscaling delay if TAI compute needs are otherwise met in this year: 12%\n",
      "Year: 2030 - chance of a nonscaling delay if TAI compute needs are otherwise met in this year: 10%\n",
      "Year: 2031 - chance of a nonscaling delay if TAI compute needs are otherwise met in this year: 8%\n",
      "Year: 2032 - chance of a nonscaling delay if TAI compute needs are otherwise met in this year: 7%\n",
      "Year: 2033 - chance of a nonscaling delay if TAI compute needs are otherwise met in this year: 6%\n",
      "Year: 2034 - chance of a nonscaling delay if TAI compute needs are otherwise met in this year: 6%\n",
      "Year: 2035 - chance of a nonscaling delay if TAI compute needs are otherwise met in this year: 5%\n",
      "Year: 2045 - chance of a nonscaling delay if TAI compute needs are otherwise met in this year: 5%\n",
      "Year: 2055 - chance of a nonscaling delay if TAI compute needs are otherwise met in this year: 5%\n",
      "Year: 2065 - chance of a nonscaling delay if TAI compute needs are otherwise met in this year: 5%\n",
      "Year: 2075 - chance of a nonscaling delay if TAI compute needs are otherwise met in this year: 5%\n",
      "Year: 2085 - chance of a nonscaling delay if TAI compute needs are otherwise met in this year: 5%\n",
      "Year: 2095 - chance of a nonscaling delay if TAI compute needs are otherwise met in this year: 5%\n",
      "Year: 2105 - chance of a nonscaling delay if TAI compute needs are otherwise met in this year: 5%\n",
      "Year: 2115 - chance of a nonscaling delay if TAI compute needs are otherwise met in this year: 5%\n",
      "-\n",
      "{1: 2,\n",
      " 5: 2,\n",
      " 10: 2,\n",
      " 20: 3,\n",
      " 30: 3,\n",
      " 40: 3,\n",
      " 50: 3,\n",
      " 60: 4,\n",
      " 70: 4,\n",
      " 80: 4,\n",
      " 90: 5,\n",
      " 95: 7,\n",
      " 99: 15}\n"
     ]
    }
   ],
   "source": [
    "nonscaling_points = [(2024, 0.2),\n",
    "                     (2027, 0.15),\n",
    "                     (2030, 0.1),\n",
    "                     (2050, 0.05)]\n",
    "p_nonscaling_delay = derive_nonscaling_delay_curve(nonscaling_points)\n",
    "delays['algorithms'] = {'prob': p_nonscaling_delay, 'length': sq.mixture([[0.9, sq.lognorm(2, 5)], [0.1, sq.lognorm(2, 20)]])}\n",
    "plot_nonscaling_delay(plt, years, p_nonscaling_delay)\n",
    "print('-')\n",
    "pprint(sq.get_percentiles(delays['algorithms']['length'] @ 1000, digits=0))"
   ]
  },
  {
   "cell_type": "markdown",
   "id": "75f3fbca-072c-489c-a1d6-6cfbf43b569c",
   "metadata": {},
   "source": [
    "## Infrastructure delay"
   ]
  },
  {
   "cell_type": "code",
   "execution_count": 3,
   "id": "027d2084-28bb-4f50-9cd9-4a30fd661a09",
   "metadata": {},
   "outputs": [
    {
     "name": "stdout",
     "output_type": "stream",
     "text": [
      "|   iter    |  target   |   push    |   shift   |   slope   |\n",
      "-------------------------------------------------------------\n",
      "| \u001b[95m2        \u001b[0m | \u001b[95m-0.2724  \u001b[0m | \u001b[95m2.148    \u001b[0m | \u001b[95m2.986    \u001b[0m | \u001b[95m2.088    \u001b[0m |\n",
      "| \u001b[95m3        \u001b[0m | \u001b[95m-0.2485  \u001b[0m | \u001b[95m1.984    \u001b[0m | \u001b[95m9.652    \u001b[0m | \u001b[95m2.274    \u001b[0m |\n",
      "| \u001b[95m4        \u001b[0m | \u001b[95m-0.24    \u001b[0m | \u001b[95m0.0884   \u001b[0m | \u001b[95m3.866    \u001b[0m | \u001b[95m6.238    \u001b[0m |\n",
      "| \u001b[95m19       \u001b[0m | \u001b[95m-0.2346  \u001b[0m | \u001b[95m0.5308   \u001b[0m | \u001b[95m1.663    \u001b[0m | \u001b[95m2.17     \u001b[0m |\n",
      "| \u001b[95m37       \u001b[0m | \u001b[95m-0.2291  \u001b[0m | \u001b[95m0.4698   \u001b[0m | \u001b[95m2.757    \u001b[0m | \u001b[95m2.195    \u001b[0m |\n"
     ]
    },
    {
     "name": "stderr",
     "output_type": "stream",
     "text": [
      "<string>:64: RuntimeWarning: overflow encountered in scalar power\n",
      "<string>:64: RuntimeWarning: overflow encountered in scalar power\n",
      "<string>:64: RuntimeWarning: overflow encountered in scalar power\n"
     ]
    },
    {
     "name": "stdout",
     "output_type": "stream",
     "text": [
      "| \u001b[95m54       \u001b[0m | \u001b[95m-0.1333  \u001b[0m | \u001b[95m0.01     \u001b[0m | \u001b[95m2.36     \u001b[0m | \u001b[95m2.682    \u001b[0m |\n",
      "| \u001b[95m57       \u001b[0m | \u001b[95m-0.1024  \u001b[0m | \u001b[95m0.01     \u001b[0m | \u001b[95m2.236    \u001b[0m | \u001b[95m2.365    \u001b[0m |\n",
      "| \u001b[95m82       \u001b[0m | \u001b[95m-0.09455 \u001b[0m | \u001b[95m0.01     \u001b[0m | \u001b[95m2.135    \u001b[0m | \u001b[95m1.423    \u001b[0m |\n",
      "| \u001b[95m88       \u001b[0m | \u001b[95m-0.07236 \u001b[0m | \u001b[95m0.08334  \u001b[0m | \u001b[95m1.94     \u001b[0m | \u001b[95m0.858    \u001b[0m |\n",
      "| \u001b[95m92       \u001b[0m | \u001b[95m-0.04791 \u001b[0m | \u001b[95m0.1854   \u001b[0m | \u001b[95m1.8      \u001b[0m | \u001b[95m0.4481   \u001b[0m |\n",
      "| \u001b[95m110      \u001b[0m | \u001b[95m-0.03574 \u001b[0m | \u001b[95m0.3235   \u001b[0m | \u001b[95m2.466    \u001b[0m | \u001b[95m0.4039   \u001b[0m |\n",
      "=============================================================\n",
      "Curve params found\n",
      "{'push': 0.3235144097617166,\n",
      " 'shift': 2.465758255872291,\n",
      " 'slope': 0.40385159697059614}\n",
      "-\n",
      "## Chance of nonscaling delay ##\n"
     ]
    },
    {
     "data": {
      "image/png": "[encoded data removed]",
      "text/plain": [
       "<Figure size 640x480 with 1 Axes>"
      ]
     },
     "metadata": {},
     "output_type": "display_data"
    },
    {
     "name": "stdout",
     "output_type": "stream",
     "text": [
      "Year: 2025 - chance of a nonscaling delay if TAI compute needs are otherwise met in this year: 90%\n",
      "Year: 2026 - chance of a nonscaling delay if TAI compute needs are otherwise met in this year: 86%\n",
      "Year: 2027 - chance of a nonscaling delay if TAI compute needs are otherwise met in this year: 82%\n",
      "Year: 2028 - chance of a nonscaling delay if TAI compute needs are otherwise met in this year: 75%\n",
      "Year: 2029 - chance of a nonscaling delay if TAI compute needs are otherwise met in this year: 67%\n",
      "Year: 2030 - chance of a nonscaling delay if TAI compute needs are otherwise met in this year: 57%\n",
      "Year: 2031 - chance of a nonscaling delay if TAI compute needs are otherwise met in this year: 47%\n",
      "Year: 2032 - chance of a nonscaling delay if TAI compute needs are otherwise met in this year: 37%\n",
      "Year: 2033 - chance of a nonscaling delay if TAI compute needs are otherwise met in this year: 30%\n",
      "Year: 2034 - chance of a nonscaling delay if TAI compute needs are otherwise met in this year: 24%\n",
      "Year: 2035 - chance of a nonscaling delay if TAI compute needs are otherwise met in this year: 20%\n",
      "Year: 2045 - chance of a nonscaling delay if TAI compute needs are otherwise met in this year: 10%\n",
      "Year: 2055 - chance of a nonscaling delay if TAI compute needs are otherwise met in this year: 10%\n",
      "Year: 2065 - chance of a nonscaling delay if TAI compute needs are otherwise met in this year: 10%\n",
      "Year: 2075 - chance of a nonscaling delay if TAI compute needs are otherwise met in this year: 10%\n",
      "Year: 2085 - chance of a nonscaling delay if TAI compute needs are otherwise met in this year: 10%\n",
      "Year: 2095 - chance of a nonscaling delay if TAI compute needs are otherwise met in this year: 10%\n",
      "Year: 2105 - chance of a nonscaling delay if TAI compute needs are otherwise met in this year: 10%\n",
      "Year: 2115 - chance of a nonscaling delay if TAI compute needs are otherwise met in this year: 10%\n",
      "-\n",
      "{1: 2,\n",
      " 5: 3,\n",
      " 10: 4,\n",
      " 20: 5,\n",
      " 30: 6,\n",
      " 40: 6,\n",
      " 50: 7,\n",
      " 60: 8,\n",
      " 70: 9,\n",
      " 80: 11,\n",
      " 90: 13,\n",
      " 95: 15,\n",
      " 99: 20}\n"
     ]
    }
   ],
   "source": [
    "# https://twitter.com/ohlennart/status/1645058017119854592\n",
    "# https://asteriskmag.com/issues/03/the-transistor-cliff\n",
    "nonscaling_points = [(2024, 0.9),\n",
    "                     (2027, 0.8),\n",
    "                     (2030, 0.5),\n",
    "                     (2040, 0.2),\n",
    "                     (2050, 0.1)]\n",
    "p_nonscaling_delay = derive_nonscaling_delay_curve(nonscaling_points)\n",
    "delays['infra'] = {'prob': p_nonscaling_delay, 'length': sq.lognorm(3, 15)}\n",
    "plot_nonscaling_delay(plt, years, p_nonscaling_delay)\n",
    "print('-')\n",
    "pprint(sq.get_percentiles(delays['infra']['length'] @ 1000, digits=0))"
   ]
  },
  {
   "cell_type": "markdown",
   "id": "ff1615c5-bb32-487f-a750-dbc41fb8d00e",
   "metadata": {},
   "source": [
    "## Data delay"
   ]
  },
  {
   "cell_type": "code",
   "execution_count": 4,
   "id": "568e938a-922d-43fc-8382-6bca86332e3c",
   "metadata": {},
   "outputs": [
    {
     "name": "stdout",
     "output_type": "stream",
     "text": [
      "|   iter    |  target   |   push    |   shift   |   slope   |\n",
      "-------------------------------------------------------------\n",
      "| \u001b[95m2        \u001b[0m | \u001b[95m-0.13    \u001b[0m | \u001b[95m0.7678   \u001b[0m | \u001b[95m3.229    \u001b[0m | \u001b[95m3.924    \u001b[0m |\n",
      "| \u001b[95m11       \u001b[0m | \u001b[95m-0.13    \u001b[0m | \u001b[95m0.6641   \u001b[0m | \u001b[95m0.9755   \u001b[0m | \u001b[95m6.401    \u001b[0m |\n"
     ]
    },
    {
     "name": "stderr",
     "output_type": "stream",
     "text": [
      "<string>:64: RuntimeWarning: overflow encountered in scalar power\n"
     ]
    },
    {
     "name": "stdout",
     "output_type": "stream",
     "text": [
      "| \u001b[95m41       \u001b[0m | \u001b[95m-0.13    \u001b[0m | \u001b[95m0.01     \u001b[0m | \u001b[95m10.0     \u001b[0m | \u001b[95m10.0     \u001b[0m |\n"
     ]
    },
    {
     "name": "stderr",
     "output_type": "stream",
     "text": [
      "<string>:64: RuntimeWarning: overflow encountered in scalar power\n"
     ]
    },
    {
     "name": "stdout",
     "output_type": "stream",
     "text": [
      "| \u001b[95m42       \u001b[0m | \u001b[95m-0.13    \u001b[0m | \u001b[95m0.01     \u001b[0m | \u001b[95m5.359    \u001b[0m | \u001b[95m10.0     \u001b[0m |\n"
     ]
    },
    {
     "name": "stderr",
     "output_type": "stream",
     "text": [
      "<string>:64: RuntimeWarning: overflow encountered in scalar power\n"
     ]
    },
    {
     "name": "stdout",
     "output_type": "stream",
     "text": [
      "| \u001b[95m44       \u001b[0m | \u001b[95m-0.13    \u001b[0m | \u001b[95m0.01     \u001b[0m | \u001b[95m0.01     \u001b[0m | \u001b[95m10.0     \u001b[0m |\n"
     ]
    },
    {
     "name": "stderr",
     "output_type": "stream",
     "text": [
      "<string>:64: RuntimeWarning: overflow encountered in scalar power\n",
      "<string>:64: RuntimeWarning: overflow encountered in scalar power\n",
      "<string>:64: RuntimeWarning: overflow encountered in scalar power\n",
      "<string>:64: RuntimeWarning: overflow encountered in scalar power\n",
      "<string>:64: RuntimeWarning: overflow encountered in scalar power\n",
      "<string>:64: RuntimeWarning: overflow encountered in scalar power\n",
      "<string>:64: RuntimeWarning: overflow encountered in scalar power\n",
      "<string>:64: RuntimeWarning: overflow encountered in scalar power\n",
      "<string>:64: RuntimeWarning: overflow encountered in scalar power\n",
      "<string>:64: RuntimeWarning: overflow encountered in scalar power\n",
      "<string>:64: RuntimeWarning: overflow encountered in scalar power\n",
      "<string>:64: RuntimeWarning: overflow encountered in scalar power\n"
     ]
    },
    {
     "name": "stdout",
     "output_type": "stream",
     "text": [
      "=============================================================\n",
      "Curve params found\n",
      "{'push': 0.01, 'shift': 0.01, 'slope': 10.0}\n",
      "-\n",
      "## Chance of nonscaling delay ##\n"
     ]
    },
    {
     "data": {
      "image/png": "[encoded data removed]",
      "text/plain": [
       "<Figure size 640x480 with 1 Axes>"
      ]
     },
     "metadata": {},
     "output_type": "display_data"
    },
    {
     "name": "stdout",
     "output_type": "stream",
     "text": [
      "Year: 2025 - chance of a nonscaling delay if TAI compute needs are otherwise met in this year: 0%\n",
      "Year: 2026 - chance of a nonscaling delay if TAI compute needs are otherwise met in this year: 5%\n",
      "Year: 2027 - chance of a nonscaling delay if TAI compute needs are otherwise met in this year: 5%\n",
      "Year: 2028 - chance of a nonscaling delay if TAI compute needs are otherwise met in this year: 5%\n",
      "Year: 2029 - chance of a nonscaling delay if TAI compute needs are otherwise met in this year: 5%\n",
      "Year: 2030 - chance of a nonscaling delay if TAI compute needs are otherwise met in this year: 5%\n",
      "Year: 2031 - chance of a nonscaling delay if TAI compute needs are otherwise met in this year: 5%\n",
      "Year: 2032 - chance of a nonscaling delay if TAI compute needs are otherwise met in this year: 5%\n",
      "Year: 2033 - chance of a nonscaling delay if TAI compute needs are otherwise met in this year: 5%\n",
      "Year: 2034 - chance of a nonscaling delay if TAI compute needs are otherwise met in this year: 5%\n",
      "Year: 2035 - chance of a nonscaling delay if TAI compute needs are otherwise met in this year: 5%\n",
      "Year: 2045 - chance of a nonscaling delay if TAI compute needs are otherwise met in this year: 5%\n",
      "Year: 2055 - chance of a nonscaling delay if TAI compute needs are otherwise met in this year: 5%\n",
      "Year: 2065 - chance of a nonscaling delay if TAI compute needs are otherwise met in this year: 5%\n",
      "Year: 2075 - chance of a nonscaling delay if TAI compute needs are otherwise met in this year: 5%\n",
      "Year: 2085 - chance of a nonscaling delay if TAI compute needs are otherwise met in this year: 5%\n",
      "Year: 2095 - chance of a nonscaling delay if TAI compute needs are otherwise met in this year: 5%\n",
      "Year: 2105 - chance of a nonscaling delay if TAI compute needs are otherwise met in this year: 5%\n",
      "Year: 2115 - chance of a nonscaling delay if TAI compute needs are otherwise met in this year: 5%\n",
      "-\n",
      "{1: 1,\n",
      " 5: 1,\n",
      " 10: 1,\n",
      " 20: 2,\n",
      " 30: 2,\n",
      " 40: 3,\n",
      " 50: 3,\n",
      " 60: 4,\n",
      " 70: 4,\n",
      " 80: 6,\n",
      " 90: 7,\n",
      " 95: 8,\n",
      " 99: 11}\n"
     ]
    }
   ],
   "source": [
    "nonscaling_points = [(2024, 0),\n",
    "                     (2027, 0.4),\n",
    "                     (2030, 0.3),\n",
    "                     (2040, 0.1),\n",
    "                     (2050, 0.05)]\n",
    "p_nonscaling_delay = derive_nonscaling_delay_curve(nonscaling_points)\n",
    "delays['data'] = {'prob': p_nonscaling_delay, 'length': sq.mixture([[0.9, sq.lognorm(1, 8)], [0.1, sq.lognorm(3, 10)]])}\n",
    "plot_nonscaling_delay(plt, years, p_nonscaling_delay)\n",
    "print('-')\n",
    "pprint(sq.get_percentiles(delays['data']['length'] @ 1000, digits=0))"
   ]
  },
  {
   "cell_type": "markdown",
   "id": "b124feaa-b239-4982-acbb-d3efc6054bcc",
   "metadata": {},
   "source": [
    "## Robotics need delay"
   ]
  },
  {
   "cell_type": "code",
   "execution_count": 5,
   "id": "3b74ba6e-ff8b-4311-bd16-fbdaaf881bd3",
   "metadata": {},
   "outputs": [],
   "source": [
    "\"\"\"\n",
    "nonscaling_points = [(2024, 0.3),\n",
    "                     (2030, 0.2),\n",
    "                     (2040, 0.1),\n",
    "                     (2050, 0.05)]\n",
    "p_nonscaling_delay = derive_nonscaling_delay_curve(nonscaling_points)\n",
    "delays['robotics'] = {'prob': p_nonscaling_delay, 'length': sq.mixture([[0.85, sq.lognorm(1, 5)],\n",
    "                                                                        [0.15, sq.lognorm(1, 15)]])}\n",
    "plot_nonscaling_delay(plt, years, p_nonscaling_delay)\n",
    "print('-')\n",
    "pprint(sq.get_percentiles(delays['robotics']['length'] @ 1000, digits=0))\n",
    "\"\"\"\n",
    "None"
   ]
  },
  {
   "cell_type": "markdown",
   "id": "962df8a5-7d24-4001-96d0-1b8ec1a0f741",
   "metadata": {},
   "source": [
    "## Integration delay"
   ]
  },
  {
   "cell_type": "code",
   "execution_count": 6,
   "id": "ec560708-06f9-4b0c-8af7-04f2785650df",
   "metadata": {},
   "outputs": [],
   "source": [
    "\"\"\"\n",
    "# https://twitter.com/MatthewJBar/status/1653461856919654400\n",
    "nonscaling_points = [(2024, 0.4),\n",
    "                     (2030, 0.2),\n",
    "                     (2040, 0.1),\n",
    "                     (2050, 0.05)]\n",
    "p_nonscaling_delay = derive_nonscaling_delay_curve(nonscaling_points)\n",
    "delays['integration'] = {'prob': p_nonscaling_delay, 'length': sq.lognorm(3, 30)}\n",
    "plot_nonscaling_delay(plt, years, p_nonscaling_delay)\n",
    "print('-')\n",
    "pprint(sq.get_percentiles(delays['integration']['length'] @ 1000, digits=0))\n",
    "\"\"\"\n",
    "None"
   ]
  },
  {
   "cell_type": "markdown",
   "id": "bfa3c990-2427-45bd-bfc5-0cf2917095aa",
   "metadata": {},
   "source": [
    "##  Real world feedback delay"
   ]
  },
  {
   "cell_type": "code",
   "execution_count": 7,
   "id": "e3010b54-63f4-46d5-8188-d51ec573ae45",
   "metadata": {},
   "outputs": [],
   "source": [
    "\"\"\"\n",
    "nonscaling_points = [(2024, 0.1),\n",
    "                     (2030, 0.05),\n",
    "                     (2050, 0.02)]\n",
    "p_nonscaling_delay = derive_nonscaling_delay_curve(nonscaling_points)\n",
    "delays['real_world_feedback'] = {'prob': p_nonscaling_delay, 'length': sq.mixture([[0.8, sq.lognorm(3, 10)],\n",
    "                                                                                   [0.1, sq.lognorm(10, 30)],\n",
    "                                                                                   [0.1, sq.lognorm(20, 50)]])}\n",
    "plot_nonscaling_delay(plt, years, p_nonscaling_delay)\n",
    "print('-')\n",
    "pprint(sq.get_percentiles(delays['real_world_feedback']['length'] @ 1000, digits=0))\n",
    "\"\"\"\n",
    "None"
   ]
  },
  {
   "cell_type": "markdown",
   "id": "b100c5f5-5c16-4515-8814-ae81391126d9",
   "metadata": {},
   "source": [
    "## Take off speeds"
   ]
  },
  {
   "cell_type": "code",
   "execution_count": 8,
   "id": "acad56b4-027e-456e-8569-4a38812ee5a3",
   "metadata": {},
   "outputs": [],
   "source": [
    "\"\"\"\n",
    "# https://www.lesswrong.com/posts/Gc9FGtdXhK9sCSEYu/what-a-compute-centric-framework-says-about-ai-takeoff\n",
    "nonscaling_points = [(2024, 0.7),\n",
    "                     (2030, 0.5),\n",
    "                     (2050, 0.35),\n",
    "                     (2080, 0.2)]\n",
    "p_nonscaling_delay = derive_nonscaling_delay_curve(nonscaling_points)\n",
    "delays['take_off'] = {'prob': p_nonscaling_delay, 'length': sq.lognorm(2, 15)}\n",
    "plot_nonscaling_delay(plt, years, p_nonscaling_delay)\n",
    "print('-')\n",
    "pprint(sq.get_percentiles(delays['take_off']['length'] @ 1000, digits=0))\n",
    "\"\"\"\n",
    "None"
   ]
  },
  {
   "cell_type": "markdown",
   "id": "a6bb37d3-59fd-48ab-b34d-634163fdd778",
   "metadata": {},
   "source": [
    "## Save"
   ]
  },
  {
   "cell_type": "code",
   "execution_count": 9,
   "id": "3a5ee983-96e5-4392-a1b4-44588eba845e",
   "metadata": {},
   "outputs": [
    {
     "name": "stdout",
     "output_type": "stream",
     "text": [
      "cached!\n"
     ]
    }
   ],
   "source": [
    "with open('caches/nonscaling_delays.dill', 'wb') as f:\n",
    "    dill.dump(delays, f)\n",
    "    \n",
    "print('cached!')"
   ]
  },
  {
   "cell_type": "code",
   "execution_count": 10,
   "id": "911cabe6-7f04-4bc3-98ac-7c6702c6ac94",
   "metadata": {},
   "outputs": [
    {
     "name": "stdout",
     "output_type": "stream",
     "text": [
      "File last ran: 2024-06-08 10:46:58.263266\n"
     ]
    }
   ],
   "source": [
    "print('File last ran: {}'.format(dt.now()))"
   ]
  }
 ],
 "metadata": {
  "kernelspec": {
   "display_name": "Python 3 (ipykernel)",
   "language": "python",
   "name": "python3"
  },
  "language_info": {
   "codemirror_mode": {
    "name": "ipython",
    "version": 3
   },
   "file_extension": ".py",
   "mimetype": "text/x-python",
   "name": "python",
   "nbconvert_exporter": "python",
   "pygments_lexer": "ipython3",
   "version": "3.11.0"
  }
 },
 "nbformat": 4,
 "nbformat_minor": 5
}
