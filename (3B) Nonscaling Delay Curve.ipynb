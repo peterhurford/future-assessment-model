{
 "cells": [
  {
   "cell_type": "code",
   "execution_count": 1,
   "id": "92bffbfd-e89b-45a2-9174-0fd203e96d36",
   "metadata": {},
   "outputs": [
    {
     "name": "stdout",
     "output_type": "stream",
     "text": [
      "Loaded\n",
      "Loaded\n"
     ]
    }
   ],
   "source": [
    "import math\n",
    "import numpy as np\n",
    "from pprint import pprint\n",
    "from bayes_opt import BayesianOptimization\n",
    "\n",
    "\n",
    "exec(open('utils.py').read())\n",
    "print('Loaded')\n",
    "\n",
    "\n",
    "CURRENT_YEAR = 2023\n",
    "MAX_YEAR = 2123\n",
    "\n",
    "\n",
    "def derive_nonscaling_delay_curve(nonscaling_points, verbose=True):\n",
    "    years = list(range(CURRENT_YEAR, nonscaling_points[-1][0]))\n",
    "    year_cuts = [y[0] for y in nonscaling_points]\n",
    "    desired = [d[1] for d in nonscaling_points]\n",
    "    minimum = desired[0]\n",
    "    maximum = desired[-1]\n",
    "    bottom_year = year_cuts[-1]\n",
    "        \n",
    "    def shape_curve(slope, shift, push):\n",
    "        out = [generalized_logistic_curve(x=y - CURRENT_YEAR,\n",
    "                                          slope=slope,\n",
    "                                          shift=shift,\n",
    "                                          push=push,\n",
    "                                          maximum=maximum,\n",
    "                                          minimum=minimum) for y in year_cuts]\n",
    "        return -np.mean([np.abs(out[i] - desired[i]) for i in range(len(out))])\n",
    "\n",
    "\n",
    "    pbounds = {'slope': (0.01, 10),\n",
    "               'shift': (0.01, 10),\n",
    "               'push': (0.01, 10)}\n",
    "    optimizer = BayesianOptimization(f=shape_curve, pbounds=pbounds, verbose=verbose, allow_duplicate_points=True)\n",
    "    optimizer.maximize(init_points=40, n_iter=80)\n",
    "    params = optimizer.max['params']\n",
    "    if verbose:\n",
    "        print('Curve params found')\n",
    "        pprint(params)\n",
    "        print('-')\n",
    "\n",
    "\n",
    "    def p_nonscaling_delay(year):\n",
    "        if year == CURRENT_YEAR:\n",
    "            return minimum\n",
    "        elif year >= bottom_year:\n",
    "            return maximum\n",
    "        else:\n",
    "            return generalized_logistic_curve(x=year - CURRENT_YEAR,\n",
    "                                              slope=params['slope'],\n",
    "                                              shift=params['shift'],\n",
    "                                              push=params['push'],\n",
    "                                              maximum=maximum,\n",
    "                                              minimum=minimum)\n",
    "\n",
    "    return p_nonscaling_delay\n",
    "\n",
    "print('Loaded')"
   ]
  },
  {
   "cell_type": "code",
   "execution_count": 2,
   "id": "ede8a8fc-b4a4-4273-9b44-913170dda139",
   "metadata": {},
   "outputs": [
    {
     "name": "stdout",
     "output_type": "stream",
     "text": [
      "|   iter    |  target   |   push    |   shift   |   slope   |\n",
      "-------------------------------------------------------------\n",
      "| \u001b[95m6        \u001b[0m | \u001b[95m-0.4065  \u001b[0m | \u001b[95m5.626    \u001b[0m | \u001b[95m5.845    \u001b[0m | \u001b[95m2.065    \u001b[0m |\n",
      "| \u001b[95m7        \u001b[0m | \u001b[95m-0.3879  \u001b[0m | \u001b[95m9.417    \u001b[0m | \u001b[95m3.149    \u001b[0m | \u001b[95m0.07377  \u001b[0m |\n",
      "| \u001b[95m10       \u001b[0m | \u001b[95m-0.2991  \u001b[0m | \u001b[95m0.9991   \u001b[0m | \u001b[95m5.848    \u001b[0m | \u001b[95m0.8944   \u001b[0m |\n",
      "| \u001b[95m19       \u001b[0m | \u001b[95m-0.139   \u001b[0m | \u001b[95m0.9612   \u001b[0m | \u001b[95m7.6      \u001b[0m | \u001b[95m0.3501   \u001b[0m |\n",
      "| \u001b[95m45       \u001b[0m | \u001b[95m-0.08656 \u001b[0m | \u001b[95m1.036    \u001b[0m | \u001b[95m7.976    \u001b[0m | \u001b[95m0.1507   \u001b[0m |\n",
      "| \u001b[95m67       \u001b[0m | \u001b[95m-0.0503  \u001b[0m | \u001b[95m0.8025   \u001b[0m | \u001b[95m7.695    \u001b[0m | \u001b[95m0.2026   \u001b[0m |\n",
      "| \u001b[95m102      \u001b[0m | \u001b[95m-0.02591 \u001b[0m | \u001b[95m0.5566   \u001b[0m | \u001b[95m9.645    \u001b[0m | \u001b[95m0.2936   \u001b[0m |\n",
      "=============================================================\n",
      "Curve params found\n",
      "{'push': 0.5565853234707618,\n",
      " 'shift': 9.644546861319078,\n",
      " 'slope': 0.29362571303102664}\n",
      "-\n"
     ]
    }
   ],
   "source": [
    "nonscaling_points = [(2023, 0.95),\n",
    "                     (2027, 0.9),\n",
    "                     (2030, 0.7),\n",
    "                     (2035, 0.5),\n",
    "                     (2050, 0.2)]\n",
    "p_nonscaling_delay = derive_nonscaling_delay_curve(nonscaling_points)"
   ]
  },
  {
   "cell_type": "code",
   "execution_count": 3,
   "id": "ca4f0c03-0067-41ca-9613-5dbf8f338907",
   "metadata": {},
   "outputs": [
    {
     "name": "stdout",
     "output_type": "stream",
     "text": [
      "## Chance of nonscaling delay ##\n"
     ]
    },
    {
     "data": {
      "image/png": "[encoded data removed]",
      "text/plain": [
       "<Figure size 640x480 with 1 Axes>"
      ]
     },
     "metadata": {},
     "output_type": "display_data"
    },
    {
     "name": "stdout",
     "output_type": "stream",
     "text": [
      "Year: 2023 - chance of a nonscaling delay if TAI compute needs are otherwise met in this year: 95%\n",
      "Year: 2024 - chance of a nonscaling delay if TAI compute needs are otherwise met in this year: 93%\n",
      "Year: 2025 - chance of a nonscaling delay if TAI compute needs are otherwise met in this year: 92%\n",
      "Year: 2026 - chance of a nonscaling delay if TAI compute needs are otherwise met in this year: 91%\n",
      "Year: 2027 - chance of a nonscaling delay if TAI compute needs are otherwise met in this year: 89%\n",
      "Year: 2028 - chance of a nonscaling delay if TAI compute needs are otherwise met in this year: 86%\n",
      "Year: 2029 - chance of a nonscaling delay if TAI compute needs are otherwise met in this year: 82%\n",
      "Year: 2030 - chance of a nonscaling delay if TAI compute needs are otherwise met in this year: 77%\n",
      "Year: 2031 - chance of a nonscaling delay if TAI compute needs are otherwise met in this year: 72%\n",
      "Year: 2032 - chance of a nonscaling delay if TAI compute needs are otherwise met in this year: 66%\n",
      "Year: 2033 - chance of a nonscaling delay if TAI compute needs are otherwise met in this year: 59%\n",
      "Year: 2043 - chance of a nonscaling delay if TAI compute needs are otherwise met in this year: 24%\n",
      "Year: 2053 - chance of a nonscaling delay if TAI compute needs are otherwise met in this year: 20%\n",
      "Year: 2063 - chance of a nonscaling delay if TAI compute needs are otherwise met in this year: 20%\n",
      "Year: 2073 - chance of a nonscaling delay if TAI compute needs are otherwise met in this year: 20%\n",
      "Year: 2083 - chance of a nonscaling delay if TAI compute needs are otherwise met in this year: 20%\n",
      "Year: 2093 - chance of a nonscaling delay if TAI compute needs are otherwise met in this year: 20%\n",
      "Year: 2103 - chance of a nonscaling delay if TAI compute needs are otherwise met in this year: 20%\n",
      "Year: 2113 - chance of a nonscaling delay if TAI compute needs are otherwise met in this year: 20%\n"
     ]
    }
   ],
   "source": [
    "years = list(range(CURRENT_YEAR, MAX_YEAR))\n",
    "print('## Chance of nonscaling delay ##')\n",
    "p_delay_ = np.array([p_nonscaling_delay(y) for y in years])\n",
    "plt.plot(years, p_delay_, color='black')\n",
    "plt.ylabel('chance of a non-scaling delay')\n",
    "plt.show()\n",
    "\n",
    "for y in years[:10] + years[10::10]:\n",
    "    outstr = 'Year: {} - chance of a nonscaling delay if TAI compute needs are otherwise met in this year: {}%'\n",
    "    print(outstr.format(y, int(round(p_delay_[y - CURRENT_YEAR] * 100))))\n"
   ]
  },
  {
   "cell_type": "code",
   "execution_count": 4,
   "id": "3a5ee983-96e5-4392-a1b4-44588eba845e",
   "metadata": {},
   "outputs": [
    {
     "name": "stdout",
     "output_type": "stream",
     "text": [
      "cached!\n"
     ]
    }
   ],
   "source": [
    "with open('caches/nonscaling_delay_array.npy', 'wb') as f:\n",
    "    np.save(f, p_delay_)\n",
    "    \n",
    "print('cached!')"
   ]
  }
 ],
 "metadata": {
  "kernelspec": {
   "display_name": "Python 3 (ipykernel)",
   "language": "python",
   "name": "python3"
  },
  "language_info": {
   "codemirror_mode": {
    "name": "ipython",
    "version": 3
   },
   "file_extension": ".py",
   "mimetype": "text/x-python",
   "name": "python",
   "nbconvert_exporter": "python",
   "pygments_lexer": "ipython3",
   "version": "3.9.16"
  }
 },
 "nbformat": 4,
 "nbformat_minor": 5
}
