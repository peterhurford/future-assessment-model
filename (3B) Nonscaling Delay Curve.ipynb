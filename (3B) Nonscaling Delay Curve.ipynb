{
 "cells": [
  {
   "cell_type": "code",
   "execution_count": 1,
   "id": "92bffbfd-e89b-45a2-9174-0fd203e96d36",
   "metadata": {},
   "outputs": [
    {
     "name": "stdout",
     "output_type": "stream",
     "text": [
      "Loaded\n"
     ]
    }
   ],
   "source": [
    "import dill\n",
    "import math\n",
    "import numpy as np\n",
    "from pprint import pprint\n",
    "from bayes_opt import BayesianOptimization\n",
    "from datetime import datetime as dt\n",
    "\n",
    "delays = {}\n",
    "\n",
    "exec(open('utils.py').read())\n",
    "print('Loaded')\n",
    "\n",
    "MAX_YEAR = CURRENT_YEAR + 100 # CURRENT_YEAR defined in utils.py\n",
    "years = list(range(CURRENT_YEAR, MAX_YEAR))"
   ]
  },
  {
   "cell_type": "markdown",
   "id": "fb92a6f5-c3a8-40be-89ae-0b29c39d3fc0",
   "metadata": {},
   "source": [
    "## Algorithms/insights delay"
   ]
  },
  {
   "cell_type": "code",
   "execution_count": 2,
   "id": "ede8a8fc-b4a4-4273-9b44-913170dda139",
   "metadata": {},
   "outputs": [
    {
     "name": "stdout",
     "output_type": "stream",
     "text": [
      "|   iter    |  target   |   push    |   shift   |   slope   |\n",
      "-------------------------------------------------------------\n",
      "| \u001b[95m48       \u001b[0m | \u001b[95m-0.0121  \u001b[0m | \u001b[95m1.721    \u001b[0m | \u001b[95m9.203    \u001b[0m | \u001b[95m0.4827   \u001b[0m |\n",
      "| \u001b[95m53       \u001b[0m | \u001b[95m-0.01105 \u001b[0m | \u001b[95m0.6321   \u001b[0m | \u001b[95m9.006    \u001b[0m | \u001b[95m0.8864   \u001b[0m |\n",
      "| \u001b[95m57       \u001b[0m | \u001b[95m-0.009639\u001b[0m | \u001b[95m1.059    \u001b[0m | \u001b[95m9.067    \u001b[0m | \u001b[95m0.7624   \u001b[0m |\n",
      "| \u001b[95m68       \u001b[0m | \u001b[95m-0.007063\u001b[0m | \u001b[95m0.9071   \u001b[0m | \u001b[95m7.371    \u001b[0m | \u001b[95m0.6761   \u001b[0m |\n",
      "| \u001b[95m77       \u001b[0m | \u001b[95m-0.004715\u001b[0m | \u001b[95m0.9395   \u001b[0m | \u001b[95m6.781    \u001b[0m | \u001b[95m0.5341   \u001b[0m |\n"
     ]
    },
    {
     "name": "stderr",
     "output_type": "stream",
     "text": [
      "<string>:64: RuntimeWarning: overflow encountered in scalar power\n"
     ]
    },
    {
     "name": "stdout",
     "output_type": "stream",
     "text": [
      "=============================================================\n",
      "Curve params found\n",
      "{'push': 0.9395013076347095,\n",
      " 'shift': 6.780714645080102,\n",
      " 'slope': 0.5341260804930157}\n",
      "-\n",
      "## Chance of nonscaling delay ##\n"
     ]
    },
    {
     "data": {
      "image/png": "[encoded data removed]",
      "text/plain": [
       "<Figure size 640x480 with 1 Axes>"
      ]
     },
     "metadata": {},
     "output_type": "display_data"
    },
    {
     "name": "stdout",
     "output_type": "stream",
     "text": [
      "Year: 2025 - chance of a nonscaling delay if TAI compute needs are otherwise met in this year: 20%\n",
      "Year: 2026 - chance of a nonscaling delay if TAI compute needs are otherwise met in this year: 17%\n",
      "Year: 2027 - chance of a nonscaling delay if TAI compute needs are otherwise met in this year: 16%\n",
      "Year: 2028 - chance of a nonscaling delay if TAI compute needs are otherwise met in this year: 14%\n",
      "Year: 2029 - chance of a nonscaling delay if TAI compute needs are otherwise met in this year: 12%\n",
      "Year: 2030 - chance of a nonscaling delay if TAI compute needs are otherwise met in this year: 10%\n",
      "Year: 2031 - chance of a nonscaling delay if TAI compute needs are otherwise met in this year: 8%\n",
      "Year: 2032 - chance of a nonscaling delay if TAI compute needs are otherwise met in this year: 7%\n",
      "Year: 2033 - chance of a nonscaling delay if TAI compute needs are otherwise met in this year: 6%\n",
      "Year: 2034 - chance of a nonscaling delay if TAI compute needs are otherwise met in this year: 6%\n",
      "Year: 2035 - chance of a nonscaling delay if TAI compute needs are otherwise met in this year: 6%\n",
      "Year: 2045 - chance of a nonscaling delay if TAI compute needs are otherwise met in this year: 5%\n",
      "Year: 2055 - chance of a nonscaling delay if TAI compute needs are otherwise met in this year: 5%\n",
      "Year: 2065 - chance of a nonscaling delay if TAI compute needs are otherwise met in this year: 5%\n",
      "Year: 2075 - chance of a nonscaling delay if TAI compute needs are otherwise met in this year: 5%\n",
      "Year: 2085 - chance of a nonscaling delay if TAI compute needs are otherwise met in this year: 5%\n",
      "Year: 2095 - chance of a nonscaling delay if TAI compute needs are otherwise met in this year: 5%\n",
      "Year: 2105 - chance of a nonscaling delay if TAI compute needs are otherwise met in this year: 5%\n",
      "Year: 2115 - chance of a nonscaling delay if TAI compute needs are otherwise met in this year: 5%\n",
      "-\n",
      "{1: 1,\n",
      " 5: 1,\n",
      " 10: 1,\n",
      " 20: 2,\n",
      " 30: 2,\n",
      " 40: 2,\n",
      " 50: 2,\n",
      " 60: 3,\n",
      " 70: 3,\n",
      " 80: 4,\n",
      " 90: 5,\n",
      " 95: 7,\n",
      " 99: 13}\n"
     ]
    }
   ],
   "source": [
    "nonscaling_points = [(2024, 0.2),\n",
    "                     (2027, 0.15),\n",
    "                     (2030, 0.1),\n",
    "                     (2050, 0.05)]\n",
    "p_nonscaling_delay = derive_nonscaling_delay_curve(nonscaling_points)\n",
    "delays['algorithms'] = {'prob': p_nonscaling_delay, 'length': sq.mixture([[0.9, sq.lognorm(1, 5)], [0.1, sq.lognorm(2, 20)]])}\n",
    "plot_nonscaling_delay(plt, years, p_nonscaling_delay)\n",
    "print('-')\n",
    "pprint(sq.get_percentiles(delays['algorithms']['length'] @ 1000, digits=0))"
   ]
  },
  {
   "cell_type": "markdown",
   "id": "75f3fbca-072c-489c-a1d6-6cfbf43b569c",
   "metadata": {},
   "source": [
    "## Infrastructure delay"
   ]
  },
  {
   "cell_type": "code",
   "execution_count": 11,
   "id": "027d2084-28bb-4f50-9cd9-4a30fd661a09",
   "metadata": {},
   "outputs": [
    {
     "name": "stdout",
     "output_type": "stream",
     "text": [
      "|   iter    |  target   |   push    |   shift   |   slope   |\n",
      "-------------------------------------------------------------\n",
      "| \u001b[95m8        \u001b[0m | \u001b[95m-0.1094  \u001b[0m | \u001b[95m1.921    \u001b[0m | \u001b[95m8.644    \u001b[0m | \u001b[95m0.5846   \u001b[0m |\n",
      "| \u001b[95m44       \u001b[0m | \u001b[95m-0.08232 \u001b[0m | \u001b[95m2.014    \u001b[0m | \u001b[95m9.294    \u001b[0m | \u001b[95m0.4229   \u001b[0m |\n",
      "| \u001b[95m49       \u001b[0m | \u001b[95m-0.07384 \u001b[0m | \u001b[95m2.103    \u001b[0m | \u001b[95m8.969    \u001b[0m | \u001b[95m0.3101   \u001b[0m |\n",
      "| \u001b[95m52       \u001b[0m | \u001b[95m-0.07174 \u001b[0m | \u001b[95m1.993    \u001b[0m | \u001b[95m8.126    \u001b[0m | \u001b[95m0.2223   \u001b[0m |\n",
      "| \u001b[95m60       \u001b[0m | \u001b[95m-0.06958 \u001b[0m | \u001b[95m1.939    \u001b[0m | \u001b[95m8.634    \u001b[0m | \u001b[95m0.2211   \u001b[0m |\n",
      "| \u001b[95m87       \u001b[0m | \u001b[95m-0.06872 \u001b[0m | \u001b[95m0.788    \u001b[0m | \u001b[95m9.102    \u001b[0m | \u001b[95m0.5445   \u001b[0m |\n",
      "| \u001b[95m90       \u001b[0m | \u001b[95m-0.067   \u001b[0m | \u001b[95m1.206    \u001b[0m | \u001b[95m8.506    \u001b[0m | \u001b[95m0.6856   \u001b[0m |\n",
      "=============================================================\n",
      "Curve params found\n",
      "{'push': 1.2063715718951127,\n",
      " 'shift': 8.505551985796718,\n",
      " 'slope': 0.6855591869839641}\n",
      "-\n",
      "## Chance of nonscaling delay ##\n"
     ]
    },
    {
     "data": {
      "image/png": "[encoded data removed]",
      "text/plain": [
       "<Figure size 640x480 with 1 Axes>"
      ]
     },
     "metadata": {},
     "output_type": "display_data"
    },
    {
     "name": "stdout",
     "output_type": "stream",
     "text": [
      "Year: 2025 - chance of a nonscaling delay if TAI compute needs are otherwise met in this year: 90%\n",
      "Year: 2026 - chance of a nonscaling delay if TAI compute needs are otherwise met in this year: 70%\n",
      "Year: 2027 - chance of a nonscaling delay if TAI compute needs are otherwise met in this year: 59%\n",
      "Year: 2028 - chance of a nonscaling delay if TAI compute needs are otherwise met in this year: 47%\n",
      "Year: 2029 - chance of a nonscaling delay if TAI compute needs are otherwise met in this year: 34%\n",
      "Year: 2030 - chance of a nonscaling delay if TAI compute needs are otherwise met in this year: 25%\n",
      "Year: 2031 - chance of a nonscaling delay if TAI compute needs are otherwise met in this year: 18%\n",
      "Year: 2032 - chance of a nonscaling delay if TAI compute needs are otherwise met in this year: 14%\n",
      "Year: 2033 - chance of a nonscaling delay if TAI compute needs are otherwise met in this year: 12%\n",
      "Year: 2034 - chance of a nonscaling delay if TAI compute needs are otherwise met in this year: 11%\n",
      "Year: 2035 - chance of a nonscaling delay if TAI compute needs are otherwise met in this year: 11%\n",
      "Year: 2045 - chance of a nonscaling delay if TAI compute needs are otherwise met in this year: 10%\n",
      "Year: 2055 - chance of a nonscaling delay if TAI compute needs are otherwise met in this year: 10%\n",
      "Year: 2065 - chance of a nonscaling delay if TAI compute needs are otherwise met in this year: 10%\n",
      "Year: 2075 - chance of a nonscaling delay if TAI compute needs are otherwise met in this year: 10%\n",
      "Year: 2085 - chance of a nonscaling delay if TAI compute needs are otherwise met in this year: 10%\n",
      "Year: 2095 - chance of a nonscaling delay if TAI compute needs are otherwise met in this year: 10%\n",
      "Year: 2105 - chance of a nonscaling delay if TAI compute needs are otherwise met in this year: 10%\n",
      "Year: 2115 - chance of a nonscaling delay if TAI compute needs are otherwise met in this year: 10%\n",
      "-\n",
      "{1: 2,\n",
      " 5: 3,\n",
      " 10: 4,\n",
      " 20: 4,\n",
      " 30: 5,\n",
      " 40: 6,\n",
      " 50: 7,\n",
      " 60: 8,\n",
      " 70: 9,\n",
      " 80: 10,\n",
      " 90: 13,\n",
      " 95: 15,\n",
      " 99: 22}\n"
     ]
    }
   ],
   "source": [
    "# https://twitter.com/ohlennart/status/1645058017119854592\n",
    "# https://asteriskmag.com/issues/03/the-transistor-cliff\n",
    "nonscaling_points = [(2024, 0.9),\n",
    "                     (2027, 0.6),\n",
    "                     (2030, 0.4),\n",
    "                     (2040, 0.2),\n",
    "                     (2050, 0.1)]\n",
    "p_nonscaling_delay = derive_nonscaling_delay_curve(nonscaling_points)\n",
    "delays['infra'] = {'prob': p_nonscaling_delay, 'length': sq.lognorm(3, 15)}\n",
    "plot_nonscaling_delay(plt, years, p_nonscaling_delay)\n",
    "print('-')\n",
    "pprint(sq.get_percentiles(delays['infra']['length'] @ 1000, digits=0))"
   ]
  },
  {
   "cell_type": "markdown",
   "id": "ff1615c5-bb32-487f-a750-dbc41fb8d00e",
   "metadata": {},
   "source": [
    "## Data delay"
   ]
  },
  {
   "cell_type": "code",
   "execution_count": 4,
   "id": "568e938a-922d-43fc-8382-6bca86332e3c",
   "metadata": {},
   "outputs": [
    {
     "name": "stdout",
     "output_type": "stream",
     "text": [
      "|   iter    |  target   |   push    |   shift   |   slope   |\n",
      "-------------------------------------------------------------\n",
      "| \u001b[95m2        \u001b[0m | \u001b[95m-0.1571  \u001b[0m | \u001b[95m7.413    \u001b[0m | \u001b[95m8.526    \u001b[0m | \u001b[95m6.766    \u001b[0m |\n",
      "| \u001b[95m5        \u001b[0m | \u001b[95m-0.1328  \u001b[0m | \u001b[95m1.962    \u001b[0m | \u001b[95m2.222    \u001b[0m | \u001b[95m6.028    \u001b[0m |\n",
      "| \u001b[95m6        \u001b[0m | \u001b[95m-0.1306  \u001b[0m | \u001b[95m1.417    \u001b[0m | \u001b[95m2.621    \u001b[0m | \u001b[95m6.056    \u001b[0m |\n",
      "| \u001b[95m10       \u001b[0m | \u001b[95m-0.112   \u001b[0m | \u001b[95m3.014    \u001b[0m | \u001b[95m5.455    \u001b[0m | \u001b[95m0.1109   \u001b[0m |\n",
      "| \u001b[95m19       \u001b[0m | \u001b[95m-0.057   \u001b[0m | \u001b[95m0.428    \u001b[0m | \u001b[95m6.134    \u001b[0m | \u001b[95m0.2749   \u001b[0m |\n",
      "| \u001b[95m115      \u001b[0m | \u001b[95m-0.05579 \u001b[0m | \u001b[95m0.2512   \u001b[0m | \u001b[95m6.114    \u001b[0m | \u001b[95m0.3738   \u001b[0m |\n",
      "| \u001b[95m117      \u001b[0m | \u001b[95m-0.0556  \u001b[0m | \u001b[95m0.2552   \u001b[0m | \u001b[95m5.893    \u001b[0m | \u001b[95m0.3442   \u001b[0m |\n",
      "| \u001b[95m118      \u001b[0m | \u001b[95m-0.02236 \u001b[0m | \u001b[95m0.488    \u001b[0m | \u001b[95m6.234    \u001b[0m | \u001b[95m0.5082   \u001b[0m |\n",
      "=============================================================\n",
      "Curve params found\n",
      "{'push': 0.4880319950443052,\n",
      " 'shift': 6.234036617922253,\n",
      " 'slope': 0.5082080850760865}\n",
      "-\n",
      "## Chance of nonscaling delay ##\n"
     ]
    },
    {
     "data": {
      "image/png": "[encoded data removed]",
      "text/plain": [
       "<Figure size 640x480 with 1 Axes>"
      ]
     },
     "metadata": {},
     "output_type": "display_data"
    },
    {
     "name": "stdout",
     "output_type": "stream",
     "text": [
      "Year: 2025 - chance of a nonscaling delay if TAI compute needs are otherwise met in this year: 50%\n",
      "Year: 2026 - chance of a nonscaling delay if TAI compute needs are otherwise met in this year: 48%\n",
      "Year: 2027 - chance of a nonscaling delay if TAI compute needs are otherwise met in this year: 46%\n",
      "Year: 2028 - chance of a nonscaling delay if TAI compute needs are otherwise met in this year: 42%\n",
      "Year: 2029 - chance of a nonscaling delay if TAI compute needs are otherwise met in this year: 37%\n",
      "Year: 2030 - chance of a nonscaling delay if TAI compute needs are otherwise met in this year: 30%\n",
      "Year: 2031 - chance of a nonscaling delay if TAI compute needs are otherwise met in this year: 24%\n",
      "Year: 2032 - chance of a nonscaling delay if TAI compute needs are otherwise met in this year: 18%\n",
      "Year: 2033 - chance of a nonscaling delay if TAI compute needs are otherwise met in this year: 13%\n",
      "Year: 2034 - chance of a nonscaling delay if TAI compute needs are otherwise met in this year: 10%\n",
      "Year: 2035 - chance of a nonscaling delay if TAI compute needs are otherwise met in this year: 8%\n",
      "Year: 2045 - chance of a nonscaling delay if TAI compute needs are otherwise met in this year: 5%\n",
      "Year: 2055 - chance of a nonscaling delay if TAI compute needs are otherwise met in this year: 5%\n",
      "Year: 2065 - chance of a nonscaling delay if TAI compute needs are otherwise met in this year: 5%\n",
      "Year: 2075 - chance of a nonscaling delay if TAI compute needs are otherwise met in this year: 5%\n",
      "Year: 2085 - chance of a nonscaling delay if TAI compute needs are otherwise met in this year: 5%\n",
      "Year: 2095 - chance of a nonscaling delay if TAI compute needs are otherwise met in this year: 5%\n",
      "Year: 2105 - chance of a nonscaling delay if TAI compute needs are otherwise met in this year: 5%\n",
      "Year: 2115 - chance of a nonscaling delay if TAI compute needs are otherwise met in this year: 5%\n",
      "-\n",
      "{1: 1,\n",
      " 5: 1,\n",
      " 10: 1,\n",
      " 20: 2,\n",
      " 30: 2,\n",
      " 40: 2,\n",
      " 50: 3,\n",
      " 60: 3,\n",
      " 70: 4,\n",
      " 80: 5,\n",
      " 90: 7,\n",
      " 95: 8,\n",
      " 99: 13}\n"
     ]
    }
   ],
   "source": [
    "nonscaling_points = [(2024, 0.5),\n",
    "                     (2027, 0.4),\n",
    "                     (2030, 0.3),\n",
    "                     (2040, 0.1),\n",
    "                     (2050, 0.05)]\n",
    "p_nonscaling_delay = derive_nonscaling_delay_curve(nonscaling_points)\n",
    "delays['data'] = {'prob': p_nonscaling_delay, 'length': sq.mixture([[0.9, sq.lognorm(1, 8)], [0.1, sq.lognorm(3, 10)]])}\n",
    "plot_nonscaling_delay(plt, years, p_nonscaling_delay)\n",
    "print('-')\n",
    "pprint(sq.get_percentiles(delays['data']['length'] @ 1000, digits=0))"
   ]
  },
  {
   "cell_type": "markdown",
   "id": "b124feaa-b239-4982-acbb-d3efc6054bcc",
   "metadata": {},
   "source": [
    "## Robotics need delay"
   ]
  },
  {
   "cell_type": "code",
   "execution_count": 5,
   "id": "3b74ba6e-ff8b-4311-bd16-fbdaaf881bd3",
   "metadata": {},
   "outputs": [],
   "source": [
    "\"\"\"\n",
    "nonscaling_points = [(2024, 0.3),\n",
    "                     (2030, 0.2),\n",
    "                     (2040, 0.1),\n",
    "                     (2050, 0.05)]\n",
    "p_nonscaling_delay = derive_nonscaling_delay_curve(nonscaling_points)\n",
    "delays['robotics'] = {'prob': p_nonscaling_delay, 'length': sq.mixture([[0.85, sq.lognorm(1, 5)],\n",
    "                                                                        [0.15, sq.lognorm(1, 15)]])}\n",
    "plot_nonscaling_delay(plt, years, p_nonscaling_delay)\n",
    "print('-')\n",
    "pprint(sq.get_percentiles(delays['robotics']['length'] @ 1000, digits=0))\n",
    "\"\"\"\n",
    "None"
   ]
  },
  {
   "cell_type": "markdown",
   "id": "962df8a5-7d24-4001-96d0-1b8ec1a0f741",
   "metadata": {},
   "source": [
    "## Integration delay"
   ]
  },
  {
   "cell_type": "code",
   "execution_count": 6,
   "id": "ec560708-06f9-4b0c-8af7-04f2785650df",
   "metadata": {},
   "outputs": [],
   "source": [
    "\"\"\"\n",
    "# https://twitter.com/MatthewJBar/status/1653461856919654400\n",
    "nonscaling_points = [(2024, 0.4),\n",
    "                     (2030, 0.2),\n",
    "                     (2040, 0.1),\n",
    "                     (2050, 0.05)]\n",
    "p_nonscaling_delay = derive_nonscaling_delay_curve(nonscaling_points)\n",
    "delays['integration'] = {'prob': p_nonscaling_delay, 'length': sq.lognorm(3, 30)}\n",
    "plot_nonscaling_delay(plt, years, p_nonscaling_delay)\n",
    "print('-')\n",
    "pprint(sq.get_percentiles(delays['integration']['length'] @ 1000, digits=0))\n",
    "\"\"\"\n",
    "None"
   ]
  },
  {
   "cell_type": "markdown",
   "id": "bfa3c990-2427-45bd-bfc5-0cf2917095aa",
   "metadata": {},
   "source": [
    "##  Real world feedback delay"
   ]
  },
  {
   "cell_type": "code",
   "execution_count": 7,
   "id": "e3010b54-63f4-46d5-8188-d51ec573ae45",
   "metadata": {},
   "outputs": [],
   "source": [
    "\"\"\"\n",
    "nonscaling_points = [(2024, 0.1),\n",
    "                     (2030, 0.05),\n",
    "                     (2050, 0.02)]\n",
    "p_nonscaling_delay = derive_nonscaling_delay_curve(nonscaling_points)\n",
    "delays['real_world_feedback'] = {'prob': p_nonscaling_delay, 'length': sq.mixture([[0.8, sq.lognorm(3, 10)],\n",
    "                                                                                   [0.1, sq.lognorm(10, 30)],\n",
    "                                                                                   [0.1, sq.lognorm(20, 50)]])}\n",
    "plot_nonscaling_delay(plt, years, p_nonscaling_delay)\n",
    "print('-')\n",
    "pprint(sq.get_percentiles(delays['real_world_feedback']['length'] @ 1000, digits=0))\n",
    "\"\"\"\n",
    "None"
   ]
  },
  {
   "cell_type": "markdown",
   "id": "b100c5f5-5c16-4515-8814-ae81391126d9",
   "metadata": {},
   "source": [
    "## Take off speeds"
   ]
  },
  {
   "cell_type": "code",
   "execution_count": 8,
   "id": "acad56b4-027e-456e-8569-4a38812ee5a3",
   "metadata": {},
   "outputs": [],
   "source": [
    "\"\"\"\n",
    "# https://www.lesswrong.com/posts/Gc9FGtdXhK9sCSEYu/what-a-compute-centric-framework-says-about-ai-takeoff\n",
    "nonscaling_points = [(2024, 0.7),\n",
    "                     (2030, 0.5),\n",
    "                     (2050, 0.35),\n",
    "                     (2080, 0.2)]\n",
    "p_nonscaling_delay = derive_nonscaling_delay_curve(nonscaling_points)\n",
    "delays['take_off'] = {'prob': p_nonscaling_delay, 'length': sq.lognorm(2, 15)}\n",
    "plot_nonscaling_delay(plt, years, p_nonscaling_delay)\n",
    "print('-')\n",
    "pprint(sq.get_percentiles(delays['take_off']['length'] @ 1000, digits=0))\n",
    "\"\"\"\n",
    "None"
   ]
  },
  {
   "cell_type": "markdown",
   "id": "a6bb37d3-59fd-48ab-b34d-634163fdd778",
   "metadata": {},
   "source": [
    "## Save"
   ]
  },
  {
   "cell_type": "code",
   "execution_count": 12,
   "id": "3a5ee983-96e5-4392-a1b4-44588eba845e",
   "metadata": {},
   "outputs": [
    {
     "name": "stdout",
     "output_type": "stream",
     "text": [
      "cached!\n"
     ]
    }
   ],
   "source": [
    "with open('caches/nonscaling_delays.dill', 'wb') as f:\n",
    "    dill.dump(delays, f)\n",
    "    \n",
    "print('cached!')"
   ]
  },
  {
   "cell_type": "code",
   "execution_count": 13,
   "id": "911cabe6-7f04-4bc3-98ac-7c6702c6ac94",
   "metadata": {},
   "outputs": [
    {
     "name": "stdout",
     "output_type": "stream",
     "text": [
      "File last ran: 2024-06-13 23:05:32.827545\n"
     ]
    }
   ],
   "source": [
    "print('File last ran: {}'.format(dt.now()))"
   ]
  }
 ],
 "metadata": {
  "kernelspec": {
   "display_name": "Python 3 (ipykernel)",
   "language": "python",
   "name": "python3"
  },
  "language_info": {
   "codemirror_mode": {
    "name": "ipython",
    "version": 3
   },
   "file_extension": ".py",
   "mimetype": "text/x-python",
   "name": "python",
   "nbconvert_exporter": "python",
   "pygments_lexer": "ipython3",
   "version": "3.11.0"
  }
 },
 "nbformat": 4,
 "nbformat_minor": 5
}
