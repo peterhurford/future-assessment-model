{
 "cells": [
  {
   "cell_type": "code",
   "execution_count": 21,
   "id": "92bffbfd-e89b-45a2-9174-0fd203e96d36",
   "metadata": {},
   "outputs": [
    {
     "name": "stdout",
     "output_type": "stream",
     "text": [
      "Loaded\n"
     ]
    }
   ],
   "source": [
    "import dill\n",
    "import math\n",
    "import numpy as np\n",
    "from pprint import pprint\n",
    "from bayes_opt import BayesianOptimization\n",
    "from datetime import datetime as dt\n",
    "\n",
    "delays = {}\n",
    "\n",
    "exec(open('utils.py').read())\n",
    "print('Loaded')\n",
    "\n",
    "MAX_YEAR = CURRENT_YEAR + 100 # CURRENT_YEAR defined in utils.py\n",
    "years = list(range(CURRENT_YEAR, MAX_YEAR))"
   ]
  },
  {
   "cell_type": "markdown",
   "id": "fb92a6f5-c3a8-40be-89ae-0b29c39d3fc0",
   "metadata": {},
   "source": [
    "## Algorithms/insights delay"
   ]
  },
  {
   "cell_type": "code",
   "execution_count": 22,
   "id": "ede8a8fc-b4a4-4273-9b44-913170dda139",
   "metadata": {},
   "outputs": [
    {
     "name": "stdout",
     "output_type": "stream",
     "text": [
      "|   iter    |  target   |   push    |   shift   |   slope   |\n",
      "-------------------------------------------------------------\n",
      "| \u001b[95m8        \u001b[0m | \u001b[95m-0.05303 \u001b[0m | \u001b[95m0.5802   \u001b[0m | \u001b[95m4.787    \u001b[0m | \u001b[95m6.441    \u001b[0m |\n",
      "| \u001b[95m12       \u001b[0m | \u001b[95m-0.05094 \u001b[0m | \u001b[95m0.506    \u001b[0m | \u001b[95m7.383    \u001b[0m | \u001b[95m8.034    \u001b[0m |\n",
      "| \u001b[95m15       \u001b[0m | \u001b[95m-0.05001 \u001b[0m | \u001b[95m0.1986   \u001b[0m | \u001b[95m4.249    \u001b[0m | \u001b[95m6.515    \u001b[0m |\n",
      "| \u001b[95m25       \u001b[0m | \u001b[95m-0.05    \u001b[0m | \u001b[95m0.04947  \u001b[0m | \u001b[95m2.313    \u001b[0m | \u001b[95m7.262    \u001b[0m |\n",
      "| \u001b[95m44       \u001b[0m | \u001b[95m-0.05    \u001b[0m | \u001b[95m0.01     \u001b[0m | \u001b[95m10.0     \u001b[0m | \u001b[95m7.181    \u001b[0m |\n",
      "| \u001b[95m45       \u001b[0m | \u001b[95m-0.05    \u001b[0m | \u001b[95m0.01     \u001b[0m | \u001b[95m6.777    \u001b[0m | \u001b[95m5.413    \u001b[0m |\n",
      "| \u001b[95m48       \u001b[0m | \u001b[95m-0.04995 \u001b[0m | \u001b[95m0.01     \u001b[0m | \u001b[95m3.376    \u001b[0m | \u001b[95m4.311    \u001b[0m |\n",
      "| \u001b[95m62       \u001b[0m | \u001b[95m-0.04397 \u001b[0m | \u001b[95m0.01     \u001b[0m | \u001b[95m3.113    \u001b[0m | \u001b[95m2.676    \u001b[0m |\n",
      "| \u001b[95m64       \u001b[0m | \u001b[95m-0.03179 \u001b[0m | \u001b[95m0.01     \u001b[0m | \u001b[95m2.665    \u001b[0m | \u001b[95m1.516    \u001b[0m |\n",
      "| \u001b[95m67       \u001b[0m | \u001b[95m-0.01989 \u001b[0m | \u001b[95m0.01     \u001b[0m | \u001b[95m2.209    \u001b[0m | \u001b[95m1.94     \u001b[0m |\n",
      "| \u001b[95m71       \u001b[0m | \u001b[95m-0.01587 \u001b[0m | \u001b[95m0.01     \u001b[0m | \u001b[95m1.908    \u001b[0m | \u001b[95m1.723    \u001b[0m |\n",
      "=============================================================\n",
      "Curve params found\n",
      "{'push': 0.01, 'shift': 1.908466606166272, 'slope': 1.7232862560012998}\n",
      "-\n",
      "## Chance of nonscaling delay ##\n"
     ]
    },
    {
     "data": {
      "image/png": "[encoded data removed]",
      "text/plain": [
       "<Figure size 640x480 with 1 Axes>"
      ]
     },
     "metadata": {},
     "output_type": "display_data"
    },
    {
     "name": "stdout",
     "output_type": "stream",
     "text": [
      "Year: 2024 - chance of a nonscaling delay if TAI compute needs are otherwise met in this year: 30%\n",
      "Year: 2025 - chance of a nonscaling delay if TAI compute needs are otherwise met in this year: 30%\n",
      "Year: 2026 - chance of a nonscaling delay if TAI compute needs are otherwise met in this year: 30%\n",
      "Year: 2027 - chance of a nonscaling delay if TAI compute needs are otherwise met in this year: 22%\n",
      "Year: 2028 - chance of a nonscaling delay if TAI compute needs are otherwise met in this year: 9%\n",
      "Year: 2029 - chance of a nonscaling delay if TAI compute needs are otherwise met in this year: 6%\n",
      "Year: 2030 - chance of a nonscaling delay if TAI compute needs are otherwise met in this year: 5%\n",
      "Year: 2031 - chance of a nonscaling delay if TAI compute needs are otherwise met in this year: 5%\n",
      "Year: 2032 - chance of a nonscaling delay if TAI compute needs are otherwise met in this year: 5%\n",
      "Year: 2033 - chance of a nonscaling delay if TAI compute needs are otherwise met in this year: 5%\n",
      "Year: 2034 - chance of a nonscaling delay if TAI compute needs are otherwise met in this year: 5%\n",
      "Year: 2044 - chance of a nonscaling delay if TAI compute needs are otherwise met in this year: 5%\n",
      "Year: 2054 - chance of a nonscaling delay if TAI compute needs are otherwise met in this year: 5%\n",
      "Year: 2064 - chance of a nonscaling delay if TAI compute needs are otherwise met in this year: 5%\n",
      "Year: 2074 - chance of a nonscaling delay if TAI compute needs are otherwise met in this year: 5%\n",
      "Year: 2084 - chance of a nonscaling delay if TAI compute needs are otherwise met in this year: 5%\n",
      "Year: 2094 - chance of a nonscaling delay if TAI compute needs are otherwise met in this year: 5%\n",
      "Year: 2104 - chance of a nonscaling delay if TAI compute needs are otherwise met in this year: 5%\n",
      "Year: 2114 - chance of a nonscaling delay if TAI compute needs are otherwise met in this year: 5%\n",
      "-\n",
      "{1: 2,\n",
      " 5: 2,\n",
      " 10: 2,\n",
      " 20: 3,\n",
      " 30: 3,\n",
      " 40: 3,\n",
      " 50: 3,\n",
      " 60: 4,\n",
      " 70: 4,\n",
      " 80: 4,\n",
      " 90: 5,\n",
      " 95: 6,\n",
      " 99: 13}\n"
     ]
    }
   ],
   "source": [
    "nonscaling_points = [(2024, 0.3),\n",
    "                     (2027, 0.2),\n",
    "                     (2030, 0.1),\n",
    "                     (2050, 0.05)]\n",
    "p_nonscaling_delay = derive_nonscaling_delay_curve(nonscaling_points)\n",
    "delays['algorithms'] = {'prob': p_nonscaling_delay, 'length': sq.mixture([[0.9, sq.lognorm(2, 5)], [0.1, sq.lognorm(2, 20)]])}\n",
    "plot_nonscaling_delay(plt, years, p_nonscaling_delay)\n",
    "print('-')\n",
    "pprint(sq.get_percentiles(delays['algorithms']['length'] @ 1000, digits=0))"
   ]
  },
  {
   "cell_type": "markdown",
   "id": "75f3fbca-072c-489c-a1d6-6cfbf43b569c",
   "metadata": {},
   "source": [
    "## Infrastructure delay"
   ]
  },
  {
   "cell_type": "code",
   "execution_count": 23,
   "id": "027d2084-28bb-4f50-9cd9-4a30fd661a09",
   "metadata": {},
   "outputs": [
    {
     "name": "stdout",
     "output_type": "stream",
     "text": [
      "|   iter    |  target   |   push    |   shift   |   slope   |\n",
      "-------------------------------------------------------------\n",
      "| \u001b[95m32       \u001b[0m | \u001b[95m-0.04418 \u001b[0m | \u001b[95m1.046    \u001b[0m | \u001b[95m6.563    \u001b[0m | \u001b[95m0.7955   \u001b[0m |\n",
      "| \u001b[95m42       \u001b[0m | \u001b[95m-0.03382 \u001b[0m | \u001b[95m0.7116   \u001b[0m | \u001b[95m7.371    \u001b[0m | \u001b[95m1.116    \u001b[0m |\n",
      "=============================================================\n",
      "Curve params found\n",
      "{'push': 0.7116204312747159,\n",
      " 'shift': 7.371213734004578,\n",
      " 'slope': 1.1163582559407284}\n",
      "-\n",
      "## Chance of nonscaling delay ##\n"
     ]
    },
    {
     "data": {
      "image/png": "[encoded data removed]",
      "text/plain": [
       "<Figure size 640x480 with 1 Axes>"
      ]
     },
     "metadata": {},
     "output_type": "display_data"
    },
    {
     "name": "stdout",
     "output_type": "stream",
     "text": [
      "Year: 2024 - chance of a nonscaling delay if TAI compute needs are otherwise met in this year: 80%\n",
      "Year: 2025 - chance of a nonscaling delay if TAI compute needs are otherwise met in this year: 68%\n",
      "Year: 2026 - chance of a nonscaling delay if TAI compute needs are otherwise met in this year: 49%\n",
      "Year: 2027 - chance of a nonscaling delay if TAI compute needs are otherwise met in this year: 29%\n",
      "Year: 2028 - chance of a nonscaling delay if TAI compute needs are otherwise met in this year: 18%\n",
      "Year: 2029 - chance of a nonscaling delay if TAI compute needs are otherwise met in this year: 13%\n",
      "Year: 2030 - chance of a nonscaling delay if TAI compute needs are otherwise met in this year: 11%\n",
      "Year: 2031 - chance of a nonscaling delay if TAI compute needs are otherwise met in this year: 10%\n",
      "Year: 2032 - chance of a nonscaling delay if TAI compute needs are otherwise met in this year: 10%\n",
      "Year: 2033 - chance of a nonscaling delay if TAI compute needs are otherwise met in this year: 10%\n",
      "Year: 2034 - chance of a nonscaling delay if TAI compute needs are otherwise met in this year: 10%\n",
      "Year: 2044 - chance of a nonscaling delay if TAI compute needs are otherwise met in this year: 10%\n",
      "Year: 2054 - chance of a nonscaling delay if TAI compute needs are otherwise met in this year: 10%\n",
      "Year: 2064 - chance of a nonscaling delay if TAI compute needs are otherwise met in this year: 10%\n",
      "Year: 2074 - chance of a nonscaling delay if TAI compute needs are otherwise met in this year: 10%\n",
      "Year: 2084 - chance of a nonscaling delay if TAI compute needs are otherwise met in this year: 10%\n",
      "Year: 2094 - chance of a nonscaling delay if TAI compute needs are otherwise met in this year: 10%\n",
      "Year: 2104 - chance of a nonscaling delay if TAI compute needs are otherwise met in this year: 10%\n",
      "Year: 2114 - chance of a nonscaling delay if TAI compute needs are otherwise met in this year: 10%\n",
      "-\n",
      "{1: 1,\n",
      " 5: 1,\n",
      " 10: 1,\n",
      " 20: 1,\n",
      " 30: 2,\n",
      " 40: 2,\n",
      " 50: 2,\n",
      " 60: 3,\n",
      " 70: 3,\n",
      " 80: 3,\n",
      " 90: 4,\n",
      " 95: 5,\n",
      " 99: 7}\n"
     ]
    }
   ],
   "source": [
    "# https://twitter.com/ohlennart/status/1645058017119854592\n",
    "# https://asteriskmag.com/issues/03/the-transistor-cliff\n",
    "nonscaling_points = [(2024, 0.8),\n",
    "                     (2026, 0.5),\n",
    "                     (2030, 0.2),\n",
    "                     (2050, 0.1)]\n",
    "p_nonscaling_delay = derive_nonscaling_delay_curve(nonscaling_points)\n",
    "delays['infra'] = {'prob': p_nonscaling_delay, 'length': sq.lognorm(1, 5)}\n",
    "plot_nonscaling_delay(plt, years, p_nonscaling_delay)\n",
    "print('-')\n",
    "pprint(sq.get_percentiles(delays['infra']['length'] @ 1000, digits=0))"
   ]
  },
  {
   "cell_type": "markdown",
   "id": "ff1615c5-bb32-487f-a750-dbc41fb8d00e",
   "metadata": {},
   "source": [
    "## Data delay"
   ]
  },
  {
   "cell_type": "code",
   "execution_count": 24,
   "id": "568e938a-922d-43fc-8382-6bca86332e3c",
   "metadata": {},
   "outputs": [
    {
     "name": "stdout",
     "output_type": "stream",
     "text": [
      "|   iter    |  target   |   push    |   shift   |   slope   |\n",
      "-------------------------------------------------------------\n",
      "| \u001b[95m2        \u001b[0m | \u001b[95m-0.2585  \u001b[0m | \u001b[95m5.81     \u001b[0m | \u001b[95m5.549    \u001b[0m | \u001b[95m6.185    \u001b[0m |\n",
      "| \u001b[95m4        \u001b[0m | \u001b[95m-0.1983  \u001b[0m | \u001b[95m2.111    \u001b[0m | \u001b[95m9.922    \u001b[0m | \u001b[95m8.394    \u001b[0m |\n",
      "| \u001b[95m6        \u001b[0m | \u001b[95m-0.1155  \u001b[0m | \u001b[95m0.9706   \u001b[0m | \u001b[95m5.798    \u001b[0m | \u001b[95m0.1714   \u001b[0m |\n",
      "| \u001b[95m48       \u001b[0m | \u001b[95m-0.08883 \u001b[0m | \u001b[95m1.27     \u001b[0m | \u001b[95m6.06     \u001b[0m | \u001b[95m0.4511   \u001b[0m |\n",
      "| \u001b[95m50       \u001b[0m | \u001b[95m-0.06355 \u001b[0m | \u001b[95m0.904    \u001b[0m | \u001b[95m5.809    \u001b[0m | \u001b[95m0.5868   \u001b[0m |\n",
      "| \u001b[95m52       \u001b[0m | \u001b[95m-0.02623 \u001b[0m | \u001b[95m0.4071   \u001b[0m | \u001b[95m5.454    \u001b[0m | \u001b[95m0.596    \u001b[0m |\n",
      "| \u001b[95m53       \u001b[0m | \u001b[95m-0.0104  \u001b[0m | \u001b[95m0.2364   \u001b[0m | \u001b[95m5.702    \u001b[0m | \u001b[95m0.8456   \u001b[0m |\n",
      "=============================================================\n",
      "Curve params found\n",
      "{'push': 0.2363550513917969,\n",
      " 'shift': 5.702479710220067,\n",
      " 'slope': 0.8456044216484676}\n",
      "-\n",
      "## Chance of nonscaling delay ##\n"
     ]
    },
    {
     "data": {
      "image/png": "[encoded data removed]",
      "text/plain": [
       "<Figure size 640x480 with 1 Axes>"
      ]
     },
     "metadata": {},
     "output_type": "display_data"
    },
    {
     "name": "stdout",
     "output_type": "stream",
     "text": [
      "Year: 2024 - chance of a nonscaling delay if TAI compute needs are otherwise met in this year: 70%\n",
      "Year: 2025 - chance of a nonscaling delay if TAI compute needs are otherwise met in this year: 70%\n",
      "Year: 2026 - chance of a nonscaling delay if TAI compute needs are otherwise met in this year: 67%\n",
      "Year: 2027 - chance of a nonscaling delay if TAI compute needs are otherwise met in this year: 58%\n",
      "Year: 2028 - chance of a nonscaling delay if TAI compute needs are otherwise met in this year: 42%\n",
      "Year: 2029 - chance of a nonscaling delay if TAI compute needs are otherwise met in this year: 27%\n",
      "Year: 2030 - chance of a nonscaling delay if TAI compute needs are otherwise met in this year: 18%\n",
      "Year: 2031 - chance of a nonscaling delay if TAI compute needs are otherwise met in this year: 14%\n",
      "Year: 2032 - chance of a nonscaling delay if TAI compute needs are otherwise met in this year: 12%\n",
      "Year: 2033 - chance of a nonscaling delay if TAI compute needs are otherwise met in this year: 11%\n",
      "Year: 2034 - chance of a nonscaling delay if TAI compute needs are otherwise met in this year: 10%\n",
      "Year: 2044 - chance of a nonscaling delay if TAI compute needs are otherwise met in this year: 10%\n",
      "Year: 2054 - chance of a nonscaling delay if TAI compute needs are otherwise met in this year: 10%\n",
      "Year: 2064 - chance of a nonscaling delay if TAI compute needs are otherwise met in this year: 10%\n",
      "Year: 2074 - chance of a nonscaling delay if TAI compute needs are otherwise met in this year: 10%\n",
      "Year: 2084 - chance of a nonscaling delay if TAI compute needs are otherwise met in this year: 10%\n",
      "Year: 2094 - chance of a nonscaling delay if TAI compute needs are otherwise met in this year: 10%\n",
      "Year: 2104 - chance of a nonscaling delay if TAI compute needs are otherwise met in this year: 10%\n",
      "Year: 2114 - chance of a nonscaling delay if TAI compute needs are otherwise met in this year: 10%\n",
      "-\n",
      "{1: 1,\n",
      " 5: 1,\n",
      " 10: 1,\n",
      " 20: 2,\n",
      " 30: 2,\n",
      " 40: 3,\n",
      " 50: 3,\n",
      " 60: 4,\n",
      " 70: 4,\n",
      " 80: 5,\n",
      " 90: 7,\n",
      " 95: 9,\n",
      " 99: 13}\n"
     ]
    }
   ],
   "source": [
    "nonscaling_points = [(2024, 0.7),\n",
    "                     (2027, 0.6),\n",
    "                     (2030, 0.2),\n",
    "                     (2050, 0.1)]\n",
    "p_nonscaling_delay = derive_nonscaling_delay_curve(nonscaling_points)\n",
    "delays['data'] = {'prob': p_nonscaling_delay, 'length': sq.mixture([[0.9, sq.lognorm(1, 8)], [0.1, sq.lognorm(3, 10)]])}\n",
    "plot_nonscaling_delay(plt, years, p_nonscaling_delay)\n",
    "print('-')\n",
    "pprint(sq.get_percentiles(delays['data']['length'] @ 1000, digits=0))"
   ]
  },
  {
   "cell_type": "markdown",
   "id": "b124feaa-b239-4982-acbb-d3efc6054bcc",
   "metadata": {},
   "source": [
    "## Robotics need delay"
   ]
  },
  {
   "cell_type": "code",
   "execution_count": 25,
   "id": "3b74ba6e-ff8b-4311-bd16-fbdaaf881bd3",
   "metadata": {},
   "outputs": [
    {
     "name": "stdout",
     "output_type": "stream",
     "text": [
      "|   iter    |  target   |   push    |   shift   |   slope   |\n",
      "-------------------------------------------------------------\n",
      "| \u001b[95m2        \u001b[0m | \u001b[95m-0.09461 \u001b[0m | \u001b[95m3.728    \u001b[0m | \u001b[95m2.515    \u001b[0m | \u001b[95m6.244    \u001b[0m |\n",
      "| \u001b[95m3        \u001b[0m | \u001b[95m-0.08554 \u001b[0m | \u001b[95m3.275    \u001b[0m | \u001b[95m5.352    \u001b[0m | \u001b[95m1.691    \u001b[0m |\n",
      "| \u001b[95m8        \u001b[0m | \u001b[95m-0.06469 \u001b[0m | \u001b[95m1.145    \u001b[0m | \u001b[95m4.229    \u001b[0m | \u001b[95m1.409    \u001b[0m |\n",
      "| \u001b[95m24       \u001b[0m | \u001b[95m-0.05595 \u001b[0m | \u001b[95m0.5891   \u001b[0m | \u001b[95m2.997    \u001b[0m | \u001b[95m8.31     \u001b[0m |\n",
      "| \u001b[95m28       \u001b[0m | \u001b[95m-0.0515  \u001b[0m | \u001b[95m0.1248   \u001b[0m | \u001b[95m0.5929   \u001b[0m | \u001b[95m5.703    \u001b[0m |\n",
      "| \u001b[95m41       \u001b[0m | \u001b[95m-0.05    \u001b[0m | \u001b[95m0.01     \u001b[0m | \u001b[95m2.852    \u001b[0m | \u001b[95m6.323    \u001b[0m |\n",
      "| \u001b[95m43       \u001b[0m | \u001b[95m-0.05    \u001b[0m | \u001b[95m0.01     \u001b[0m | \u001b[95m6.686    \u001b[0m | \u001b[95m4.376    \u001b[0m |\n",
      "| \u001b[95m45       \u001b[0m | \u001b[95m-0.05    \u001b[0m | \u001b[95m0.01     \u001b[0m | \u001b[95m10.0     \u001b[0m | \u001b[95m2.855    \u001b[0m |\n",
      "| \u001b[95m71       \u001b[0m | \u001b[95m-0.0492  \u001b[0m | \u001b[95m0.01     \u001b[0m | \u001b[95m3.033    \u001b[0m | \u001b[95m1.677    \u001b[0m |\n",
      "=============================================================\n",
      "Curve params found\n",
      "{'push': 0.01, 'shift': 3.033126951557285, 'slope': 1.6774512219347755}\n",
      "-\n",
      "## Chance of nonscaling delay ##\n"
     ]
    },
    {
     "data": {
      "image/png": "[encoded data removed]",
      "text/plain": [
       "<Figure size 640x480 with 1 Axes>"
      ]
     },
     "metadata": {},
     "output_type": "display_data"
    },
    {
     "name": "stdout",
     "output_type": "stream",
     "text": [
      "Year: 2024 - chance of a nonscaling delay if TAI compute needs are otherwise met in this year: 30%\n",
      "Year: 2025 - chance of a nonscaling delay if TAI compute needs are otherwise met in this year: 30%\n",
      "Year: 2026 - chance of a nonscaling delay if TAI compute needs are otherwise met in this year: 30%\n",
      "Year: 2027 - chance of a nonscaling delay if TAI compute needs are otherwise met in this year: 26%\n",
      "Year: 2028 - chance of a nonscaling delay if TAI compute needs are otherwise met in this year: 13%\n",
      "Year: 2029 - chance of a nonscaling delay if TAI compute needs are otherwise met in this year: 7%\n",
      "Year: 2030 - chance of a nonscaling delay if TAI compute needs are otherwise met in this year: 5%\n",
      "Year: 2031 - chance of a nonscaling delay if TAI compute needs are otherwise met in this year: 5%\n",
      "Year: 2032 - chance of a nonscaling delay if TAI compute needs are otherwise met in this year: 5%\n",
      "Year: 2033 - chance of a nonscaling delay if TAI compute needs are otherwise met in this year: 5%\n",
      "Year: 2034 - chance of a nonscaling delay if TAI compute needs are otherwise met in this year: 5%\n",
      "Year: 2044 - chance of a nonscaling delay if TAI compute needs are otherwise met in this year: 5%\n",
      "Year: 2054 - chance of a nonscaling delay if TAI compute needs are otherwise met in this year: 5%\n",
      "Year: 2064 - chance of a nonscaling delay if TAI compute needs are otherwise met in this year: 5%\n",
      "Year: 2074 - chance of a nonscaling delay if TAI compute needs are otherwise met in this year: 5%\n",
      "Year: 2084 - chance of a nonscaling delay if TAI compute needs are otherwise met in this year: 5%\n",
      "Year: 2094 - chance of a nonscaling delay if TAI compute needs are otherwise met in this year: 5%\n",
      "Year: 2104 - chance of a nonscaling delay if TAI compute needs are otherwise met in this year: 5%\n",
      "Year: 2114 - chance of a nonscaling delay if TAI compute needs are otherwise met in this year: 5%\n",
      "-\n",
      "{1: 1,\n",
      " 5: 1,\n",
      " 10: 1,\n",
      " 20: 1,\n",
      " 30: 2,\n",
      " 40: 2,\n",
      " 50: 2,\n",
      " 60: 3,\n",
      " 70: 3,\n",
      " 80: 4,\n",
      " 90: 5,\n",
      " 95: 7,\n",
      " 99: 13}\n"
     ]
    }
   ],
   "source": [
    "nonscaling_points = [(2024, 0.3),\n",
    "                     (2030, 0.2),\n",
    "                     (2040, 0.1),\n",
    "                     (2050, 0.05)]\n",
    "p_nonscaling_delay = derive_nonscaling_delay_curve(nonscaling_points)\n",
    "delays['robotics'] = {'prob': p_nonscaling_delay, 'length': sq.mixture([[0.85, sq.lognorm(1, 5)],\n",
    "                                                                        [0.15, sq.lognorm(1, 15)]])}\n",
    "plot_nonscaling_delay(plt, years, p_nonscaling_delay)\n",
    "print('-')\n",
    "pprint(sq.get_percentiles(delays['robotics']['length'] @ 1000, digits=0))"
   ]
  },
  {
   "cell_type": "markdown",
   "id": "962df8a5-7d24-4001-96d0-1b8ec1a0f741",
   "metadata": {},
   "source": [
    "## Integration delay"
   ]
  },
  {
   "cell_type": "code",
   "execution_count": null,
   "id": "ec560708-06f9-4b0c-8af7-04f2785650df",
   "metadata": {},
   "outputs": [
    {
     "name": "stdout",
     "output_type": "stream",
     "text": [
      "|   iter    |  target   |   push    |   shift   |   slope   |\n",
      "-------------------------------------------------------------\n",
      "| \u001b[95m6        \u001b[0m | \u001b[95m-0.05402 \u001b[0m | \u001b[95m0.7168   \u001b[0m | \u001b[95m8.104    \u001b[0m | \u001b[95m4.216    \u001b[0m |\n",
      "| \u001b[95m7        \u001b[0m | \u001b[95m-0.04144 \u001b[0m | \u001b[95m2.261    \u001b[0m | \u001b[95m9.848    \u001b[0m | \u001b[95m0.2606   \u001b[0m |\n"
     ]
    }
   ],
   "source": [
    "# https://twitter.com/MatthewJBar/status/1653461856919654400\n",
    "nonscaling_points = [(2024, 0.4),\n",
    "                     (2030, 0.2),\n",
    "                     (2040, 0.1),\n",
    "                     (2050, 0.05)]\n",
    "p_nonscaling_delay = derive_nonscaling_delay_curve(nonscaling_points)\n",
    "delays['integration'] = {'prob': p_nonscaling_delay, 'length': sq.lognorm(3, 30)}\n",
    "plot_nonscaling_delay(plt, years, p_nonscaling_delay)\n",
    "print('-')\n",
    "pprint(sq.get_percentiles(delays['integration']['length'] @ 1000, digits=0))"
   ]
  },
  {
   "cell_type": "markdown",
   "id": "bfa3c990-2427-45bd-bfc5-0cf2917095aa",
   "metadata": {},
   "source": [
    "##  Real world feedback delay"
   ]
  },
  {
   "cell_type": "code",
   "execution_count": null,
   "id": "e3010b54-63f4-46d5-8188-d51ec573ae45",
   "metadata": {},
   "outputs": [],
   "source": [
    "nonscaling_points = [(2024, 0.1),\n",
    "                     (2030, 0.05),\n",
    "                     (2050, 0.02)]\n",
    "p_nonscaling_delay = derive_nonscaling_delay_curve(nonscaling_points)\n",
    "delays['real_world_feedback'] = {'prob': p_nonscaling_delay, 'length': sq.mixture([[0.8, sq.lognorm(3, 10)],\n",
    "                                                                                   [0.1, sq.lognorm(10, 30)],\n",
    "                                                                                   [0.1, sq.lognorm(20, 50)]])}\n",
    "plot_nonscaling_delay(plt, years, p_nonscaling_delay)\n",
    "print('-')\n",
    "pprint(sq.get_percentiles(delays['real_world_feedback']['length'] @ 1000, digits=0))"
   ]
  },
  {
   "cell_type": "markdown",
   "id": "b100c5f5-5c16-4515-8814-ae81391126d9",
   "metadata": {},
   "source": [
    "## Take off speeds"
   ]
  },
  {
   "cell_type": "code",
   "execution_count": null,
   "id": "acad56b4-027e-456e-8569-4a38812ee5a3",
   "metadata": {},
   "outputs": [],
   "source": [
    "# https://www.lesswrong.com/posts/Gc9FGtdXhK9sCSEYu/what-a-compute-centric-framework-says-about-ai-takeoff\n",
    "nonscaling_points = [(2024, 0.7),\n",
    "                     (2030, 0.5),\n",
    "                     (2050, 0.35),\n",
    "                     (2080, 0.2)]\n",
    "p_nonscaling_delay = derive_nonscaling_delay_curve(nonscaling_points)\n",
    "delays['take_off'] = {'prob': p_nonscaling_delay, 'length': sq.lognorm(2, 15)}\n",
    "plot_nonscaling_delay(plt, years, p_nonscaling_delay)\n",
    "print('-')\n",
    "pprint(sq.get_percentiles(delays['take_off']['length'] @ 1000, digits=0))"
   ]
  },
  {
   "cell_type": "markdown",
   "id": "a6bb37d3-59fd-48ab-b34d-634163fdd778",
   "metadata": {},
   "source": [
    "## Save"
   ]
  },
  {
   "cell_type": "code",
   "execution_count": null,
   "id": "3a5ee983-96e5-4392-a1b4-44588eba845e",
   "metadata": {},
   "outputs": [],
   "source": [
    "with open('caches/nonscaling_delays.dill', 'wb') as f:\n",
    "    dill.dump(delays, f)\n",
    "    \n",
    "print('cached!')"
   ]
  },
  {
   "cell_type": "code",
   "execution_count": null,
   "id": "911cabe6-7f04-4bc3-98ac-7c6702c6ac94",
   "metadata": {},
   "outputs": [],
   "source": [
    "print('File last ran: {}'.format(dt.now()))"
   ]
  }
 ],
 "metadata": {
  "kernelspec": {
   "display_name": "Python 3 (ipykernel)",
   "language": "python",
   "name": "python3"
  },
  "language_info": {
   "codemirror_mode": {
    "name": "ipython",
    "version": 3
   },
   "file_extension": ".py",
   "mimetype": "text/x-python",
   "name": "python",
   "nbconvert_exporter": "python",
   "pygments_lexer": "ipython3",
   "version": "3.11.0"
  }
 },
 "nbformat": 4,
 "nbformat_minor": 5
}
