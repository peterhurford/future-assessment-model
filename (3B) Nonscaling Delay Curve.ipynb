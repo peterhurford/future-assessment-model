{
 "cells": [
  {
   "cell_type": "code",
   "execution_count": 1,
   "id": "92bffbfd-e89b-45a2-9174-0fd203e96d36",
   "metadata": {},
   "outputs": [
    {
     "name": "stdout",
     "output_type": "stream",
     "text": [
      "Loaded\n"
     ]
    }
   ],
   "source": [
    "import dill\n",
    "import math\n",
    "import numpy as np\n",
    "from pprint import pprint\n",
    "from bayes_opt import BayesianOptimization\n",
    "from datetime import datetime as dt\n",
    "\n",
    "delays = {}\n",
    "\n",
    "exec(open('utils.py').read())\n",
    "print('Loaded')\n",
    "\n",
    "MAX_YEAR = CURRENT_YEAR + 100 # CURRENT_YEAR defined in utils.py\n",
    "years = list(range(CURRENT_YEAR, MAX_YEAR))"
   ]
  },
  {
   "cell_type": "markdown",
   "id": "fb92a6f5-c3a8-40be-89ae-0b29c39d3fc0",
   "metadata": {},
   "source": [
    "## Algorithms/insights delay"
   ]
  },
  {
   "cell_type": "code",
   "execution_count": 2,
   "id": "ede8a8fc-b4a4-4273-9b44-913170dda139",
   "metadata": {},
   "outputs": [
    {
     "name": "stdout",
     "output_type": "stream",
     "text": [
      "|   iter    |  target   |   push    |   shift   |   slope   |\n",
      "-------------------------------------------------------------\n",
      "| \u001b[95m4        \u001b[0m | \u001b[95m-0.109   \u001b[0m | \u001b[95m3.044    \u001b[0m | \u001b[95m7.478    \u001b[0m | \u001b[95m0.01537  \u001b[0m |\n",
      "| \u001b[95m9        \u001b[0m | \u001b[95m-0.1047  \u001b[0m | \u001b[95m1.527    \u001b[0m | \u001b[95m9.876    \u001b[0m | \u001b[95m3.729    \u001b[0m |\n",
      "| \u001b[95m11       \u001b[0m | \u001b[95m-0.1007  \u001b[0m | \u001b[95m0.5087   \u001b[0m | \u001b[95m1.599    \u001b[0m | \u001b[95m6.568    \u001b[0m |\n",
      "| \u001b[95m13       \u001b[0m | \u001b[95m-0.09492 \u001b[0m | \u001b[95m0.8825   \u001b[0m | \u001b[95m9.417    \u001b[0m | \u001b[95m8.693    \u001b[0m |\n",
      "| \u001b[95m28       \u001b[0m | \u001b[95m-0.06533 \u001b[0m | \u001b[95m1.191    \u001b[0m | \u001b[95m6.428    \u001b[0m | \u001b[95m0.1441   \u001b[0m |\n",
      "| \u001b[95m42       \u001b[0m | \u001b[95m-0.05127 \u001b[0m | \u001b[95m1.55     \u001b[0m | \u001b[95m6.321    \u001b[0m | \u001b[95m0.167    \u001b[0m |\n",
      "| \u001b[95m43       \u001b[0m | \u001b[95m-0.04461 \u001b[0m | \u001b[95m1.519    \u001b[0m | \u001b[95m5.587    \u001b[0m | \u001b[95m0.3245   \u001b[0m |\n",
      "| \u001b[95m58       \u001b[0m | \u001b[95m-0.03931 \u001b[0m | \u001b[95m1.519    \u001b[0m | \u001b[95m6.7      \u001b[0m | \u001b[95m0.2154   \u001b[0m |\n",
      "| \u001b[95m67       \u001b[0m | \u001b[95m-0.03229 \u001b[0m | \u001b[95m1.379    \u001b[0m | \u001b[95m6.995    \u001b[0m | \u001b[95m0.3511   \u001b[0m |\n",
      "| \u001b[95m73       \u001b[0m | \u001b[95m-0.02935 \u001b[0m | \u001b[95m1.568    \u001b[0m | \u001b[95m7.255    \u001b[0m | \u001b[95m0.291    \u001b[0m |\n",
      "| \u001b[95m75       \u001b[0m | \u001b[95m-0.02388 \u001b[0m | \u001b[95m1.161    \u001b[0m | \u001b[95m7.608    \u001b[0m | \u001b[95m0.283    \u001b[0m |\n",
      "| \u001b[95m91       \u001b[0m | \u001b[95m-0.01925 \u001b[0m | \u001b[95m1.178    \u001b[0m | \u001b[95m8.696    \u001b[0m | \u001b[95m0.393    \u001b[0m |\n",
      "| \u001b[95m104      \u001b[0m | \u001b[95m-0.01757 \u001b[0m | \u001b[95m0.8415   \u001b[0m | \u001b[95m8.715    \u001b[0m | \u001b[95m0.3848   \u001b[0m |\n",
      "| \u001b[95m105      \u001b[0m | \u001b[95m-0.01329 \u001b[0m | \u001b[95m0.8728   \u001b[0m | \u001b[95m8.962    \u001b[0m | \u001b[95m0.4344   \u001b[0m |\n",
      "=============================================================\n",
      "Curve params found\n",
      "{'push': 0.8727959490165418,\n",
      " 'shift': 8.961864570044566,\n",
      " 'slope': 0.434366875720609}\n",
      "-\n",
      "## Chance of nonscaling delay ##\n"
     ]
    },
    {
     "data": {
      "image/png": "[encoded data removed]",
      "text/plain": [
       "<Figure size 640x480 with 1 Axes>"
      ]
     },
     "metadata": {},
     "output_type": "display_data"
    },
    {
     "name": "stdout",
     "output_type": "stream",
     "text": [
      "Year: 2024 - chance of a nonscaling delay if TAI compute needs are otherwise met in this year: 40%\n",
      "Year: 2025 - chance of a nonscaling delay if TAI compute needs are otherwise met in this year: 36%\n",
      "Year: 2026 - chance of a nonscaling delay if TAI compute needs are otherwise met in this year: 34%\n",
      "Year: 2027 - chance of a nonscaling delay if TAI compute needs are otherwise met in this year: 31%\n",
      "Year: 2028 - chance of a nonscaling delay if TAI compute needs are otherwise met in this year: 28%\n",
      "Year: 2029 - chance of a nonscaling delay if TAI compute needs are otherwise met in this year: 24%\n",
      "Year: 2030 - chance of a nonscaling delay if TAI compute needs are otherwise met in this year: 20%\n",
      "Year: 2031 - chance of a nonscaling delay if TAI compute needs are otherwise met in this year: 17%\n",
      "Year: 2032 - chance of a nonscaling delay if TAI compute needs are otherwise met in this year: 14%\n",
      "Year: 2033 - chance of a nonscaling delay if TAI compute needs are otherwise met in this year: 11%\n",
      "Year: 2034 - chance of a nonscaling delay if TAI compute needs are otherwise met in this year: 9%\n",
      "Year: 2044 - chance of a nonscaling delay if TAI compute needs are otherwise met in this year: 5%\n",
      "Year: 2054 - chance of a nonscaling delay if TAI compute needs are otherwise met in this year: 5%\n",
      "Year: 2064 - chance of a nonscaling delay if TAI compute needs are otherwise met in this year: 5%\n",
      "Year: 2074 - chance of a nonscaling delay if TAI compute needs are otherwise met in this year: 5%\n",
      "Year: 2084 - chance of a nonscaling delay if TAI compute needs are otherwise met in this year: 5%\n",
      "Year: 2094 - chance of a nonscaling delay if TAI compute needs are otherwise met in this year: 5%\n",
      "Year: 2104 - chance of a nonscaling delay if TAI compute needs are otherwise met in this year: 5%\n",
      "Year: 2114 - chance of a nonscaling delay if TAI compute needs are otherwise met in this year: 5%\n",
      "-\n",
      "{1: 2,\n",
      " 5: 2,\n",
      " 10: 2,\n",
      " 20: 2,\n",
      " 30: 3,\n",
      " 40: 3,\n",
      " 50: 3,\n",
      " 60: 3,\n",
      " 70: 4,\n",
      " 80: 4,\n",
      " 90: 5,\n",
      " 95: 6,\n",
      " 99: 13}\n"
     ]
    }
   ],
   "source": [
    "nonscaling_points = [(2024, 0.4),\n",
    "                     (2027, 0.3),\n",
    "                     (2030, 0.2),\n",
    "                     (2035, 0.1),\n",
    "                     (2050, 0.05)]\n",
    "p_nonscaling_delay = derive_nonscaling_delay_curve(nonscaling_points)\n",
    "delays['algorithms'] = {'prob': p_nonscaling_delay, 'length': sq.mixture([[0.9, sq.lognorm(2, 5)], [0.1, sq.lognorm(2, 20)]])}\n",
    "plot_nonscaling_delay(plt, years, p_nonscaling_delay)\n",
    "print('-')\n",
    "pprint(sq.get_percentiles(delays['algorithms']['length'] @ 1000, digits=0))"
   ]
  },
  {
   "cell_type": "markdown",
   "id": "75f3fbca-072c-489c-a1d6-6cfbf43b569c",
   "metadata": {},
   "source": [
    "## Infrastructure delay"
   ]
  },
  {
   "cell_type": "code",
   "execution_count": null,
   "id": "027d2084-28bb-4f50-9cd9-4a30fd661a09",
   "metadata": {},
   "outputs": [
    {
     "name": "stdout",
     "output_type": "stream",
     "text": [
      "|   iter    |  target   |   push    |   shift   |   slope   |\n",
      "-------------------------------------------------------------\n",
      "| \u001b[95m4        \u001b[0m | \u001b[95m-0.1885  \u001b[0m | \u001b[95m1.819    \u001b[0m | \u001b[95m2.955    \u001b[0m | \u001b[95m2.674    \u001b[0m |\n",
      "| \u001b[95m8        \u001b[0m | \u001b[95m-0.1885  \u001b[0m | \u001b[95m0.6065   \u001b[0m | \u001b[95m0.5984   \u001b[0m | \u001b[95m6.056    \u001b[0m |\n",
      "| \u001b[95m9        \u001b[0m | \u001b[95m-0.1497  \u001b[0m | \u001b[95m1.347    \u001b[0m | \u001b[95m9.099    \u001b[0m | \u001b[95m6.752    \u001b[0m |\n",
      "| \u001b[95m12       \u001b[0m | \u001b[95m-0.1153  \u001b[0m | \u001b[95m2.955    \u001b[0m | \u001b[95m9.233    \u001b[0m | \u001b[95m0.4871   \u001b[0m |\n",
      "| \u001b[95m17       \u001b[0m | \u001b[95m-0.04822 \u001b[0m | \u001b[95m0.1765   \u001b[0m | \u001b[95m4.353    \u001b[0m | \u001b[95m0.7168   \u001b[0m |\n",
      "| \u001b[95m44       \u001b[0m | \u001b[95m-0.04609 \u001b[0m | \u001b[95m0.2885   \u001b[0m | \u001b[95m4.77     \u001b[0m | \u001b[95m1.207    \u001b[0m |\n",
      "| \u001b[95m54       \u001b[0m | \u001b[95m-0.03937 \u001b[0m | \u001b[95m0.6097   \u001b[0m | \u001b[95m4.636    \u001b[0m | \u001b[95m0.6181   \u001b[0m |\n",
      "| \u001b[95m59       \u001b[0m | \u001b[95m-0.03783 \u001b[0m | \u001b[95m0.9202   \u001b[0m | \u001b[95m5.312    \u001b[0m | \u001b[95m0.5808   \u001b[0m |\n"
     ]
    }
   ],
   "source": [
    "# https://twitter.com/ohlennart/status/1645058017119854592\n",
    "# https://asteriskmag.com/issues/03/the-transistor-cliff\n",
    "nonscaling_points = [(2024, 0.6),\n",
    "                     (2026, 0.4),\n",
    "                     (2030, 0.2),\n",
    "                     (2050, 0.05)]\n",
    "p_nonscaling_delay = derive_nonscaling_delay_curve(nonscaling_points)\n",
    "delays['infra'] = {'prob': p_nonscaling_delay, 'length': sq.lognorm(1, 10)}\n",
    "plot_nonscaling_delay(plt, years, p_nonscaling_delay)\n",
    "print('-')\n",
    "pprint(sq.get_percentiles(delays['infra']['length'] @ 1000, digits=0))"
   ]
  },
  {
   "cell_type": "markdown",
   "id": "ff1615c5-bb32-487f-a750-dbc41fb8d00e",
   "metadata": {},
   "source": [
    "## Data delay"
   ]
  },
  {
   "cell_type": "code",
   "execution_count": null,
   "id": "568e938a-922d-43fc-8382-6bca86332e3c",
   "metadata": {},
   "outputs": [],
   "source": [
    "nonscaling_points = [(2024, 0.7),\n",
    "                     (2027, 0.6),\n",
    "                     (2030, 0.2),\n",
    "                     (2050, 0.1)]\n",
    "p_nonscaling_delay = derive_nonscaling_delay_curve(nonscaling_points)\n",
    "delays['data'] = {'prob': p_nonscaling_delay, 'length': sq.mixture([[0.9, sq.lognorm(1, 8)], [0.1, sq.lognorm(3, 10)]])}\n",
    "plot_nonscaling_delay(plt, years, p_nonscaling_delay)\n",
    "print('-')\n",
    "pprint(sq.get_percentiles(delays['data']['length'] @ 1000, digits=0))"
   ]
  },
  {
   "cell_type": "markdown",
   "id": "b124feaa-b239-4982-acbb-d3efc6054bcc",
   "metadata": {},
   "source": [
    "## Robotics need delay"
   ]
  },
  {
   "cell_type": "code",
   "execution_count": null,
   "id": "3b74ba6e-ff8b-4311-bd16-fbdaaf881bd3",
   "metadata": {},
   "outputs": [],
   "source": [
    "nonscaling_points = [(2024, 0.3),\n",
    "                     (2030, 0.2),\n",
    "                     (2040, 0.1),\n",
    "                     (2050, 0.05)]\n",
    "p_nonscaling_delay = derive_nonscaling_delay_curve(nonscaling_points)\n",
    "delays['robotics'] = {'prob': p_nonscaling_delay, 'length': sq.mixture([[0.85, sq.lognorm(3, 10)],\n",
    "                                                                        [0.15, sq.lognorm(7, 15)]])}\n",
    "plot_nonscaling_delay(plt, years, p_nonscaling_delay)\n",
    "print('-')\n",
    "pprint(sq.get_percentiles(delays['robotics']['length'] @ 1000, digits=0))"
   ]
  },
  {
   "cell_type": "markdown",
   "id": "962df8a5-7d24-4001-96d0-1b8ec1a0f741",
   "metadata": {},
   "source": [
    "## Integration delay"
   ]
  },
  {
   "cell_type": "code",
   "execution_count": null,
   "id": "ec560708-06f9-4b0c-8af7-04f2785650df",
   "metadata": {},
   "outputs": [],
   "source": [
    "# https://twitter.com/MatthewJBar/status/1653461856919654400\n",
    "nonscaling_points = [(2024, 0.3),\n",
    "                     (2030, 0.2),\n",
    "                     (2040, 0.1),\n",
    "                     (2050, 0.05)]\n",
    "p_nonscaling_delay = derive_nonscaling_delay_curve(nonscaling_points)\n",
    "delays['integration'] = {'prob': p_nonscaling_delay, 'length': sq.lognorm(3, 30)}\n",
    "plot_nonscaling_delay(plt, years, p_nonscaling_delay)\n",
    "print('-')\n",
    "pprint(sq.get_percentiles(delays['integration']['length'] @ 1000, digits=0))"
   ]
  },
  {
   "cell_type": "markdown",
   "id": "bfa3c990-2427-45bd-bfc5-0cf2917095aa",
   "metadata": {},
   "source": [
    "##  Real world feedback delay"
   ]
  },
  {
   "cell_type": "code",
   "execution_count": null,
   "id": "e3010b54-63f4-46d5-8188-d51ec573ae45",
   "metadata": {},
   "outputs": [],
   "source": [
    "nonscaling_points = [(2024, 0.1),\n",
    "                     (2030, 0.05),\n",
    "                     (2050, 0.02)]\n",
    "p_nonscaling_delay = derive_nonscaling_delay_curve(nonscaling_points)\n",
    "delays['real_world_feedback'] = {'prob': p_nonscaling_delay, 'length': sq.mixture([[0.8, sq.lognorm(3, 10)],\n",
    "                                                                                   [0.1, sq.lognorm(10, 30)],\n",
    "                                                                                   [0.1, sq.lognorm(20, 50)]])}\n",
    "plot_nonscaling_delay(plt, years, p_nonscaling_delay)\n",
    "print('-')\n",
    "pprint(sq.get_percentiles(delays['real_world_feedback']['length'] @ 1000, digits=0))"
   ]
  },
  {
   "cell_type": "markdown",
   "id": "b100c5f5-5c16-4515-8814-ae81391126d9",
   "metadata": {},
   "source": [
    "## Take off speeds"
   ]
  },
  {
   "cell_type": "code",
   "execution_count": null,
   "id": "acad56b4-027e-456e-8569-4a38812ee5a3",
   "metadata": {},
   "outputs": [],
   "source": [
    "# https://www.lesswrong.com/posts/Gc9FGtdXhK9sCSEYu/what-a-compute-centric-framework-says-about-ai-takeoff\n",
    "nonscaling_points = [(2024, 0.7),\n",
    "                     (2030, 0.5),\n",
    "                     (2050, 0.35),\n",
    "                     (2080, 0.2)]\n",
    "p_nonscaling_delay = derive_nonscaling_delay_curve(nonscaling_points)\n",
    "delays['take_off'] = {'prob': p_nonscaling_delay, 'length': sq.lognorm(2, 15)}\n",
    "plot_nonscaling_delay(plt, years, p_nonscaling_delay)\n",
    "print('-')\n",
    "pprint(sq.get_percentiles(delays['take_off']['length'] @ 1000, digits=0))"
   ]
  },
  {
   "cell_type": "markdown",
   "id": "a6bb37d3-59fd-48ab-b34d-634163fdd778",
   "metadata": {},
   "source": [
    "## Save"
   ]
  },
  {
   "cell_type": "code",
   "execution_count": null,
   "id": "3a5ee983-96e5-4392-a1b4-44588eba845e",
   "metadata": {},
   "outputs": [],
   "source": [
    "with open('caches/nonscaling_delays.dill', 'wb') as f:\n",
    "    dill.dump(delays, f)\n",
    "    \n",
    "print('cached!')"
   ]
  },
  {
   "cell_type": "code",
   "execution_count": null,
   "id": "911cabe6-7f04-4bc3-98ac-7c6702c6ac94",
   "metadata": {},
   "outputs": [],
   "source": [
    "print('File last ran: {}'.format(dt.now()))"
   ]
  }
 ],
 "metadata": {
  "kernelspec": {
   "display_name": "Python 3 (ipykernel)",
   "language": "python",
   "name": "python3"
  },
  "language_info": {
   "codemirror_mode": {
    "name": "ipython",
    "version": 3
   },
   "file_extension": ".py",
   "mimetype": "text/x-python",
   "name": "python",
   "nbconvert_exporter": "python",
   "pygments_lexer": "ipython3",
   "version": "3.11.0"
  }
 },
 "nbformat": 4,
 "nbformat_minor": 5
}
