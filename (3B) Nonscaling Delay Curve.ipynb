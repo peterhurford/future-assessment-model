{
 "cells": [
  {
   "cell_type": "code",
   "execution_count": 1,
   "id": "92bffbfd-e89b-45a2-9174-0fd203e96d36",
   "metadata": {},
   "outputs": [
    {
     "name": "stdout",
     "output_type": "stream",
     "text": [
      "Loaded\n",
      "Loaded\n"
     ]
    }
   ],
   "source": [
    "import math\n",
    "import numpy as np\n",
    "from pprint import pprint\n",
    "from bayes_opt import BayesianOptimization\n",
    "\n",
    "\n",
    "exec(open('utils.py').read())\n",
    "print('Loaded')\n",
    "\n",
    "\n",
    "CURRENT_YEAR = 2023\n",
    "MAX_YEAR = 2123\n",
    "\n",
    "\n",
    "def derive_nonscaling_delay_curve(nonscaling_points, verbose=True):\n",
    "    years = list(range(CURRENT_YEAR, nonscaling_points[-1][0]))\n",
    "    year_cuts = [y[0] for y in nonscaling_points]\n",
    "    desired = [d[1] for d in nonscaling_points]\n",
    "    minimum = desired[0]\n",
    "    maximum = desired[-1]\n",
    "    bottom_year = year_cuts[-1]\n",
    "        \n",
    "    def shape_curve(slope, shift, push):\n",
    "        out = [generalized_logistic_curve(x=y - CURRENT_YEAR,\n",
    "                                          slope=slope,\n",
    "                                          shift=shift,\n",
    "                                          push=push,\n",
    "                                          maximum=maximum,\n",
    "                                          minimum=minimum) for y in year_cuts]\n",
    "        return -np.mean([np.abs(out[i] - desired[i]) for i in range(len(out))])\n",
    "\n",
    "\n",
    "    pbounds = {'slope': (0.01, 10),\n",
    "               'shift': (0.01, 10),\n",
    "               'push': (0.01, 10)}\n",
    "    optimizer = BayesianOptimization(f=shape_curve, pbounds=pbounds, verbose=verbose, allow_duplicate_points=True)\n",
    "    optimizer.maximize(init_points=40, n_iter=80)\n",
    "    params = optimizer.max['params']\n",
    "    if verbose:\n",
    "        print('Curve params found')\n",
    "        pprint(params)\n",
    "        print('-')\n",
    "\n",
    "\n",
    "    def p_nonscaling_delay(year):\n",
    "        if year == CURRENT_YEAR:\n",
    "            return minimum\n",
    "        elif year >= bottom_year:\n",
    "            return maximum\n",
    "        else:\n",
    "            return generalized_logistic_curve(x=year - CURRENT_YEAR,\n",
    "                                              slope=params['slope'],\n",
    "                                              shift=params['shift'],\n",
    "                                              push=params['push'],\n",
    "                                              maximum=maximum,\n",
    "                                              minimum=minimum)\n",
    "\n",
    "    return p_nonscaling_delay\n",
    "\n",
    "print('Loaded')"
   ]
  },
  {
   "cell_type": "code",
   "execution_count": 2,
   "id": "ede8a8fc-b4a4-4273-9b44-913170dda139",
   "metadata": {},
   "outputs": [
    {
     "name": "stdout",
     "output_type": "stream",
     "text": [
      "|   iter    |  target   |   push    |   shift   |   slope   |\n",
      "-------------------------------------------------------------\n",
      "| \u001b[95m6        \u001b[0m | \u001b[95m-0.3     \u001b[0m | \u001b[95m0.07042  \u001b[0m | \u001b[95m4.734    \u001b[0m | \u001b[95m7.346    \u001b[0m |\n",
      "| \u001b[95m14       \u001b[0m | \u001b[95m-0.3     \u001b[0m | \u001b[95m0.1254   \u001b[0m | \u001b[95m2.509    \u001b[0m | \u001b[95m3.014    \u001b[0m |\n",
      "| \u001b[95m15       \u001b[0m | \u001b[95m-0.06886 \u001b[0m | \u001b[95m0.1415   \u001b[0m | \u001b[95m9.08     \u001b[0m | \u001b[95m0.5188   \u001b[0m |\n",
      "| \u001b[95m44       \u001b[0m | \u001b[95m-0.03565 \u001b[0m | \u001b[95m0.441    \u001b[0m | \u001b[95m8.909    \u001b[0m | \u001b[95m0.3691   \u001b[0m |\n",
      "| \u001b[95m49       \u001b[0m | \u001b[95m-0.03155 \u001b[0m | \u001b[95m0.4201   \u001b[0m | \u001b[95m9.017    \u001b[0m | \u001b[95m0.3184   \u001b[0m |\n",
      "| \u001b[95m86       \u001b[0m | \u001b[95m-0.02976 \u001b[0m | \u001b[95m0.4654   \u001b[0m | \u001b[95m5.5      \u001b[0m | \u001b[95m0.2818   \u001b[0m |\n",
      "| \u001b[95m119      \u001b[0m | \u001b[95m-0.02943 \u001b[0m | \u001b[95m0.3913   \u001b[0m | \u001b[95m5.475    \u001b[0m | \u001b[95m0.3025   \u001b[0m |\n",
      "=============================================================\n",
      "Curve params found\n",
      "{'push': 0.39130592600353387,\n",
      " 'shift': 5.474920470271391,\n",
      " 'slope': 0.3025025076630564}\n",
      "-\n"
     ]
    }
   ],
   "source": [
    "nonscaling_points = [(2023, 0.95),\n",
    "                     (2027, 0.9),\n",
    "                     (2030, 0.7),\n",
    "                     (2035, 0.5),\n",
    "                     (2050, 0.2)]\n",
    "p_nonscaling_delay = derive_nonscaling_delay_curve(nonscaling_points)"
   ]
  },
  {
   "cell_type": "code",
   "execution_count": 3,
   "id": "ca4f0c03-0067-41ca-9613-5dbf8f338907",
   "metadata": {},
   "outputs": [
    {
     "name": "stdout",
     "output_type": "stream",
     "text": [
      "## Chance of nonscaling delay ##\n"
     ]
    },
    {
     "data": {
      "image/png": "[encoded data removed]",
      "text/plain": [
       "<Figure size 640x480 with 1 Axes>"
      ]
     },
     "metadata": {},
     "output_type": "display_data"
    },
    {
     "name": "stdout",
     "output_type": "stream",
     "text": [
      "Year: 2023 - chance of a nonscaling delay if TAI compute needs are otherwise met in this year: 95%\n",
      "Year: 2024 - chance of a nonscaling delay if TAI compute needs are otherwise met in this year: 94%\n",
      "Year: 2025 - chance of a nonscaling delay if TAI compute needs are otherwise met in this year: 93%\n",
      "Year: 2026 - chance of a nonscaling delay if TAI compute needs are otherwise met in this year: 91%\n",
      "Year: 2027 - chance of a nonscaling delay if TAI compute needs are otherwise met in this year: 89%\n",
      "Year: 2028 - chance of a nonscaling delay if TAI compute needs are otherwise met in this year: 85%\n",
      "Year: 2029 - chance of a nonscaling delay if TAI compute needs are otherwise met in this year: 80%\n",
      "Year: 2030 - chance of a nonscaling delay if TAI compute needs are otherwise met in this year: 74%\n",
      "Year: 2031 - chance of a nonscaling delay if TAI compute needs are otherwise met in this year: 68%\n",
      "Year: 2032 - chance of a nonscaling delay if TAI compute needs are otherwise met in this year: 61%\n",
      "Year: 2033 - chance of a nonscaling delay if TAI compute needs are otherwise met in this year: 54%\n",
      "Year: 2043 - chance of a nonscaling delay if TAI compute needs are otherwise met in this year: 22%\n",
      "Year: 2053 - chance of a nonscaling delay if TAI compute needs are otherwise met in this year: 20%\n",
      "Year: 2063 - chance of a nonscaling delay if TAI compute needs are otherwise met in this year: 20%\n",
      "Year: 2073 - chance of a nonscaling delay if TAI compute needs are otherwise met in this year: 20%\n",
      "Year: 2083 - chance of a nonscaling delay if TAI compute needs are otherwise met in this year: 20%\n",
      "Year: 2093 - chance of a nonscaling delay if TAI compute needs are otherwise met in this year: 20%\n",
      "Year: 2103 - chance of a nonscaling delay if TAI compute needs are otherwise met in this year: 20%\n",
      "Year: 2113 - chance of a nonscaling delay if TAI compute needs are otherwise met in this year: 20%\n"
     ]
    }
   ],
   "source": [
    "years = list(range(CURRENT_YEAR, MAX_YEAR))\n",
    "print('## Chance of nonscaling delay ##')\n",
    "p_delay_ = np.array([p_nonscaling_delay(y) for y in years])\n",
    "plt.plot(years, p_delay_, color='black')\n",
    "plt.ylabel('chance of a non-scaling delay')\n",
    "plt.show()\n",
    "\n",
    "for y in years[:10] + years[10::10]:\n",
    "    outstr = 'Year: {} - chance of a nonscaling delay if TAI compute needs are otherwise met in this year: {}%'\n",
    "    print(outstr.format(y, int(round(p_delay_[y - CURRENT_YEAR] * 100))))\n"
   ]
  },
  {
   "cell_type": "code",
   "execution_count": 4,
   "id": "3a5ee983-96e5-4392-a1b4-44588eba845e",
   "metadata": {},
   "outputs": [
    {
     "name": "stdout",
     "output_type": "stream",
     "text": [
      "cached!\n"
     ]
    }
   ],
   "source": [
    "with open('caches/nonscaling_delay_array.npy', 'wb') as f:\n",
    "    np.save(f, p_delay_)\n",
    "    \n",
    "print('cached!')"
   ]
  }
 ],
 "metadata": {
  "kernelspec": {
   "display_name": "Python 3 (ipykernel)",
   "language": "python",
   "name": "python3"
  },
  "language_info": {
   "codemirror_mode": {
    "name": "ipython",
    "version": 3
   },
   "file_extension": ".py",
   "mimetype": "text/x-python",
   "name": "python",
   "nbconvert_exporter": "python",
   "pygments_lexer": "ipython3",
   "version": "3.9.16"
  }
 },
 "nbformat": 4,
 "nbformat_minor": 5
}
