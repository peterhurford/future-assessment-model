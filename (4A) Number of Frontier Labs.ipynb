{
 "cells": [
  {
   "cell_type": "code",
   "execution_count": 1,
   "id": "5ac6fd9f-ba15-4177-b363-cd62b7b638d0",
   "metadata": {},
   "outputs": [
    {
     "name": "stdout",
     "output_type": "stream",
     "text": [
      "Loaded\n"
     ]
    }
   ],
   "source": [
    "import math\n",
    "import random\n",
    "import numpy as np\n",
    "import squigglepy as sq\n",
    "from squigglepy.numbers import K, M, B, T\n",
    "import matplotlib.pyplot as plt\n",
    "\n",
    "from copy import copy, deepcopy\n",
    "from scipy import stats\n",
    "from pprint import pprint\n",
    "from datetime import datetime as dt\n",
    "\n",
    "exec(open('utils.py').read())\n",
    "print('Loaded')"
   ]
  },
  {
   "cell_type": "markdown",
   "id": "ee241325-7931-4543-83b8-f29d8e374baf",
   "metadata": {},
   "source": [
    "\"Frontier lab\" is defined as an AI company that has trained a model with an amount of compute that's within one order of magnitude of the world leading model (world leading in terms of most training compute)."
   ]
  },
  {
   "cell_type": "code",
   "execution_count": 2,
   "id": "25e74613-62e7-48c2-a79a-a7cfc6875007",
   "metadata": {},
   "outputs": [
    {
     "name": "stdout",
     "output_type": "stream",
     "text": [
      "## How many frontier labs by EOY 2030? ##\n"
     ]
    },
    {
     "name": "stderr",
     "output_type": "stream",
     "text": [
      "100%|███████████████████████████████████████████████████████████████████████████████████████████████████████████████████████████████████████████████████████████████| 10000/10000 [00:08<00:00, 1240.87it/s]\n",
      "100%|███████████████████████████████████████████████████████████████████████████████████████████████████████████████████████████████████████████████████████████████| 10000/10000 [00:03<00:00, 2571.14it/s]\n"
     ]
    },
    {
     "name": "stdout",
     "output_type": "stream",
     "text": [
      "Writing cache to file `caches/n_labs.sqcache.npy`...\n",
      "...Cached\n",
      "{1: 7,\n",
      " 5: 10,\n",
      " 10: 12,\n",
      " 20: 15,\n",
      " 30: 18,\n",
      " 40: 21,\n",
      " 50: 23,\n",
      " 60: 26,\n",
      " 70: 29,\n",
      " 80: 40,\n",
      " 90: 52,\n",
      " 95: 58,\n",
      " 99: 69}\n"
     ]
    },
    {
     "data": {
      "image/png": "[encoded data removed]",
      "text/plain": [
       "<Figure size 640x480 with 1 Axes>"
      ]
     },
     "metadata": {},
     "output_type": "display_data"
    }
   ],
   "source": [
    "RUNS = 10*K\n",
    "\n",
    "p_merger = 0.05\n",
    "p_weak_catchup = 0.7 # Enough of a catchup for Meta, Yandex, Hugging Face, etc., to become frontier\n",
    "p_strong_catchup = 0.3 # Enough of a catchup for open source to become frontier\n",
    "\n",
    "\n",
    "def model_n_labs(end_year):\n",
    "    n_labs = 5 # OpenAI, Anthropic, Google Deepmind, Microsoft (presumed), UAE\n",
    "    lab_creation_rate = sq.norm(4, 10, lclip=1) / 8\n",
    "    labs_going_out_of_business_rate = sq.norm(1, 5, lclip=1) / 40\n",
    "    china_back_date = int(np.round(~sq.lognorm(1, 15))) + 2023\n",
    "    \n",
    "    if sq.event(p_weak_catchup):\n",
    "        n_labs += sq.norm(2, 4)\n",
    "        \n",
    "    if sq.event(p_strong_catchup):\n",
    "        n_labs += sq.norm(3, 10)\n",
    "        lab_creation_rate *= 3\n",
    "        labs_going_out_of_business_rate *= 3\n",
    "    \n",
    "    for y in range(2023, end_year):\n",
    "        if y == china_back_date:\n",
    "            n_labs *= 2\n",
    "            \n",
    "        n_labs += sq.poisson(~lab_creation_rate)\n",
    "        n_labs -= sq.poisson(~labs_going_out_of_business_rate)\n",
    "        if sq.event(p_merger):\n",
    "            n_labs -= 1\n",
    "            \n",
    "    return n_labs\n",
    "    \n",
    "    \n",
    "print('## How many frontier labs by EOY 2030? ##')\n",
    "n_lab_samples = sq.sample(lambda: model_n_labs(2030), n=RUNS, verbose=True, dump_cache_file='caches/n_labs')\n",
    "pprint(sq.get_percentiles(n_lab_samples, digits=0))\n",
    "plt.hist(n_lab_samples, bins=200)\n",
    "plt.show()"
   ]
  },
  {
   "cell_type": "code",
   "execution_count": 3,
   "id": "a4bc6f38-1d5d-471f-a184-de8b54d01725",
   "metadata": {},
   "outputs": [
    {
     "data": {
      "text/plain": [
       "0.9454"
      ]
     },
     "execution_count": 3,
     "metadata": {},
     "output_type": "execute_result"
    }
   ],
   "source": [
    "np.mean([n > 10 for n in n_lab_samples])"
   ]
  },
  {
   "cell_type": "code",
   "execution_count": 4,
   "id": "f8cc3989-3942-44ea-9a16-c43f93e2ca3a",
   "metadata": {},
   "outputs": [
    {
     "name": "stdout",
     "output_type": "stream",
     "text": [
      "## How many frontier labs by EOY 2026? ##\n"
     ]
    },
    {
     "name": "stderr",
     "output_type": "stream",
     "text": [
      "100%|███████████████████████████████████████████████████████████████████████████████████████████████████████████████████████████████████████████████████████████████| 10000/10000 [00:04<00:00, 2165.58it/s]\n",
      "100%|███████████████████████████████████████████████████████████████████████████████████████████████████████████████████████████████████████████████████████████████| 10000/10000 [00:01<00:00, 6455.74it/s]\n"
     ]
    },
    {
     "name": "stdout",
     "output_type": "stream",
     "text": [
      "{1: 5,\n",
      " 5: 6,\n",
      " 10: 7,\n",
      " 20: 9,\n",
      " 30: 10,\n",
      " 40: 11,\n",
      " 50: 13,\n",
      " 60: 16,\n",
      " 70: 19,\n",
      " 80: 21,\n",
      " 90: 26,\n",
      " 95: 36,\n",
      " 99: 46}\n"
     ]
    },
    {
     "data": {
      "image/png": "[encoded data removed]",
      "text/plain": [
       "<Figure size 640x480 with 1 Axes>"
      ]
     },
     "metadata": {},
     "output_type": "display_data"
    }
   ],
   "source": [
    "print('## How many frontier labs by EOY 2026? ##')\n",
    "n_lab_samples_2026 = sq.sample(lambda: model_n_labs(2026), n=RUNS, verbose=True)\n",
    "pprint(sq.get_percentiles(n_lab_samples_2026, digits=0))\n",
    "plt.hist(n_lab_samples_2026, bins=200)\n",
    "plt.show()"
   ]
  },
  {
   "cell_type": "code",
   "execution_count": 5,
   "id": "9ded0884-039e-46b2-b992-f92564714c6d",
   "metadata": {},
   "outputs": [
    {
     "name": "stdout",
     "output_type": "stream",
     "text": [
      "File last ran: 2023-11-20 11:46:57.047649\n"
     ]
    }
   ],
   "source": [
    "print('File last ran: {}'.format(dt.now()))"
   ]
  }
 ],
 "metadata": {
  "kernelspec": {
   "display_name": "Python 3 (ipykernel)",
   "language": "python",
   "name": "python3"
  },
  "language_info": {
   "codemirror_mode": {
    "name": "ipython",
    "version": 3
   },
   "file_extension": ".py",
   "mimetype": "text/x-python",
   "name": "python",
   "nbconvert_exporter": "python",
   "pygments_lexer": "ipython3",
   "version": "3.11.4"
  }
 },
 "nbformat": 4,
 "nbformat_minor": 5
}
