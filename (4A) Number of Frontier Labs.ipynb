{
 "cells": [
  {
   "cell_type": "code",
   "execution_count": 1,
   "id": "5ac6fd9f-ba15-4177-b363-cd62b7b638d0",
   "metadata": {},
   "outputs": [
    {
     "name": "stdout",
     "output_type": "stream",
     "text": [
      "Loaded\n"
     ]
    }
   ],
   "source": [
    "import math\n",
    "import random\n",
    "import numpy as np\n",
    "import squigglepy as sq\n",
    "from squigglepy.numbers import K, M, B, T\n",
    "import matplotlib.pyplot as plt\n",
    "\n",
    "from copy import copy, deepcopy\n",
    "from scipy import stats\n",
    "from pprint import pprint\n",
    "from datetime import datetime as dt\n",
    "\n",
    "exec(open('utils.py').read())\n",
    "print('Loaded')"
   ]
  },
  {
   "cell_type": "markdown",
   "id": "ee241325-7931-4543-83b8-f29d8e374baf",
   "metadata": {},
   "source": [
    "\"Frontier lab\" is defined as an AI company that has trained a model with an amount of compute that's within one order of magnitude of the world leading model (world leading in terms of most training compute)."
   ]
  },
  {
   "cell_type": "code",
   "execution_count": 2,
   "id": "25e74613-62e7-48c2-a79a-a7cfc6875007",
   "metadata": {},
   "outputs": [
    {
     "name": "stdout",
     "output_type": "stream",
     "text": [
      "Loaded\n"
     ]
    }
   ],
   "source": [
    "RUNS = 10*K\n",
    "\n",
    "p_merger = 0.05\n",
    "p_weak_catchup = 0.6 # Enough of a catchup for some of Meta, Mistral, xAI, Yandex, Hugging Face, etc., to become frontier\n",
    "p_strong_catchup = 0.3 # Enough of a catchup for open source to become frontier\n",
    "\n",
    "\n",
    "def model_n_labs(end_year):\n",
    "    n_labs = 4 # Currently OpenAI, Anthropic, Google, and Mistral\n",
    "    annual_lab_creation_rate = 6 / 4 # OpenAI, Anthropic, Google, Deepmind, Inflection, and Mistral have been various frontier labs over 2020-2024\n",
    "    annual_lab_leave_rate = 3 / 4 # Google-Deepmind merge, Microsoft-Inflection acquisition, Anthropic dropped from frontier but then came back\n",
    "    \n",
    "    china_back_date = int(np.round(~sq.lognorm(1, 15))) + CURRENT_YEAR\n",
    "    \n",
    "    if end_year > 2026 and sq.event(p_weak_catchup):\n",
    "        n_labs += sq.norm(1, 4)\n",
    "        \n",
    "    if end_year > 2028 and sq.event(p_strong_catchup):\n",
    "        n_labs += sq.norm(3, 10)\n",
    "    \n",
    "    for y in range(CURRENT_YEAR, end_year):\n",
    "        if y == china_back_date:\n",
    "            n_labs *= 1.5\n",
    "\n",
    "        n_labs += sq.poisson(annual_lab_creation_rate)\n",
    "        n_labs -= sq.poisson(annual_lab_leave_rate)\n",
    "        \n",
    "    return sq.dist_floor(n_labs)\n",
    "    \n",
    "print('Loaded')"
   ]
  },
  {
   "cell_type": "markdown",
   "id": "1ce9753b-7b99-445d-a712-d956b2aefc67",
   "metadata": {},
   "source": [
    "## EOY 2030"
   ]
  },
  {
   "cell_type": "code",
   "execution_count": 3,
   "id": "97efb947-2775-4e1e-911f-085824995502",
   "metadata": {},
   "outputs": [
    {
     "name": "stdout",
     "output_type": "stream",
     "text": [
      "## How many frontier labs by EOY 2030? ##\n"
     ]
    },
    {
     "name": "stderr",
     "output_type": "stream",
     "text": [
      "100%|███████████████████████████████████████████████████████████████████████████████████████████████████████████████████████████████████████████████████████████████| 10000/10000 [00:01<00:00, 6117.23it/s]\n",
      "100%|███████████████████████████████████████████████████████████████████████████████████████████████████████████████████████████████████████████████████████████████| 10000/10000 [00:02<00:00, 3531.93it/s]\n"
     ]
    },
    {
     "name": "stdout",
     "output_type": "stream",
     "text": [
      "Writing cache to file `caches/n_labs.sqcache.npy`...\n",
      "...Cached\n",
      "{1: 2,\n",
      " 5: 5,\n",
      " 10: 6,\n",
      " 20: 8,\n",
      " 30: 10,\n",
      " 40: 11,\n",
      " 50: 13,\n",
      " 60: 14,\n",
      " 70: 16,\n",
      " 80: 19,\n",
      " 90: 22,\n",
      " 95: 25,\n",
      " 99: 31}\n"
     ]
    },
    {
     "data": {
      "image/png": "[encoded data removed]",
      "text/plain": [
       "<Figure size 640x480 with 1 Axes>"
      ]
     },
     "metadata": {},
     "output_type": "display_data"
    }
   ],
   "source": [
    "print('## How many frontier labs by EOY 2030? ##')\n",
    "n_lab_samples = sq.sample(lambda: model_n_labs(2030), n=RUNS, verbose=True, dump_cache_file='caches/n_labs')\n",
    "pprint(sq.get_percentiles(n_lab_samples, digits=0))\n",
    "plt.hist(n_lab_samples, bins=200)\n",
    "plt.show()"
   ]
  },
  {
   "cell_type": "code",
   "execution_count": 4,
   "id": "a4bc6f38-1d5d-471f-a184-de8b54d01725",
   "metadata": {},
   "outputs": [
    {
     "data": {
      "text/plain": [
       "0.6496"
      ]
     },
     "execution_count": 4,
     "metadata": {},
     "output_type": "execute_result"
    }
   ],
   "source": [
    "np.mean([n > 10 for n in n_lab_samples])"
   ]
  },
  {
   "cell_type": "markdown",
   "id": "9d863dce-df06-489d-8afc-fee470d2b07e",
   "metadata": {},
   "source": [
    "## EOY 2025"
   ]
  },
  {
   "cell_type": "code",
   "execution_count": 5,
   "id": "f8cc3989-3942-44ea-9a16-c43f93e2ca3a",
   "metadata": {},
   "outputs": [
    {
     "name": "stdout",
     "output_type": "stream",
     "text": [
      "## How many frontier labs by EOY 2025? ##\n"
     ]
    },
    {
     "name": "stderr",
     "output_type": "stream",
     "text": [
      "100%|███████████████████████████████████████████████████████████████████████████████████████████████████████████████████████████████████████████████████████████████| 10000/10000 [00:01<00:00, 9774.60it/s]\n",
      "100%|██████████████████████████████████████████████████████████████████████████████████████████████████████████████████████████████████████████████████████████████| 10000/10000 [00:00<00:00, 19689.54it/s]\n"
     ]
    },
    {
     "name": "stdout",
     "output_type": "stream",
     "text": [
      "{1: 1,\n",
      " 5: 2,\n",
      " 10: 3,\n",
      " 20: 4,\n",
      " 30: 4,\n",
      " 40: 4,\n",
      " 50: 5,\n",
      " 60: 5,\n",
      " 70: 5,\n",
      " 80: 6,\n",
      " 90: 7,\n",
      " 95: 7,\n",
      " 99: 8}\n"
     ]
    },
    {
     "data": {
      "image/png": "[encoded data removed]",
      "text/plain": [
       "<Figure size 640x480 with 1 Axes>"
      ]
     },
     "metadata": {},
     "output_type": "display_data"
    }
   ],
   "source": [
    "# https://www.metaculus.com/questions/17101/number-of-frontier-ai-labs-on-dec-31-2025/\n",
    "print('## How many frontier labs by EOY 2025? ##')\n",
    "n_lab_samples_2026 = sq.sample(lambda: model_n_labs(2026), n=RUNS, verbose=True)\n",
    "pprint(sq.get_percentiles(n_lab_samples_2026, digits=0))\n",
    "plt.hist(n_lab_samples_2026, bins=200)\n",
    "plt.show()"
   ]
  },
  {
   "cell_type": "code",
   "execution_count": 14,
   "id": "597ee2e7-6774-4333-ae39-be616e30fb79",
   "metadata": {},
   "outputs": [
    {
     "name": "stdout",
     "output_type": "stream",
     "text": [
      "<3? => 5.4%\n",
      "3? => 13.0%\n",
      "4? => 26.6%\n",
      "5? => 25.9%\n",
      "6? => 17.3%\n",
      "7? => 7.9%\n",
      ">7? => 3.9%\n"
     ]
    }
   ],
   "source": [
    "print('<3? => {:.1f}%'.format(np.mean([n < 3 for n in n_lab_samples_2026]) * 100))\n",
    "print('3? => {:.1f}%'.format(np.mean([n == 3 for n in n_lab_samples_2026]) * 100))\n",
    "print('4? => {:.1f}%'.format(np.mean([n == 4 for n in n_lab_samples_2026]) * 100))\n",
    "print('5? => {:.1f}%'.format(np.mean([n == 5 for n in n_lab_samples_2026]) * 100))\n",
    "print('6? => {:.1f}%'.format(np.mean([n == 6 for n in n_lab_samples_2026]) * 100))\n",
    "print('7? => {:.1f}%'.format(np.mean([n == 7 for n in n_lab_samples_2026]) * 100))\n",
    "print('>7? => {:.1f}%'.format(np.mean([n > 7 for n in n_lab_samples_2026]) * 100))"
   ]
  },
  {
   "cell_type": "code",
   "execution_count": 6,
   "id": "9ded0884-039e-46b2-b992-f92564714c6d",
   "metadata": {},
   "outputs": [
    {
     "name": "stdout",
     "output_type": "stream",
     "text": [
      "File last ran: 2024-04-11 13:42:14.458769\n"
     ]
    }
   ],
   "source": [
    "print('File last ran: {}'.format(dt.now()))"
   ]
  }
 ],
 "metadata": {
  "kernelspec": {
   "display_name": "Python 3 (ipykernel)",
   "language": "python",
   "name": "python3"
  },
  "language_info": {
   "codemirror_mode": {
    "name": "ipython",
    "version": 3
   },
   "file_extension": ".py",
   "mimetype": "text/x-python",
   "name": "python",
   "nbconvert_exporter": "python",
   "pygments_lexer": "ipython3",
   "version": "3.11.0"
  }
 },
 "nbformat": 4,
 "nbformat_minor": 5
}
