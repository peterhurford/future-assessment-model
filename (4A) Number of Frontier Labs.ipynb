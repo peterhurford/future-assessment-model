{
 "cells": [
  {
   "cell_type": "code",
   "execution_count": 1,
   "id": "5ac6fd9f-ba15-4177-b363-cd62b7b638d0",
   "metadata": {},
   "outputs": [
    {
     "name": "stdout",
     "output_type": "stream",
     "text": [
      "Loaded\n"
     ]
    }
   ],
   "source": [
    "import math\n",
    "import random\n",
    "import numpy as np\n",
    "import squigglepy as sq\n",
    "from squigglepy.numbers import K, M, B, T\n",
    "import matplotlib.pyplot as plt\n",
    "\n",
    "from copy import copy, deepcopy\n",
    "from scipy import stats\n",
    "from pprint import pprint\n",
    "from datetime import datetime as dt\n",
    "\n",
    "exec(open('utils.py').read())\n",
    "print('Loaded')"
   ]
  },
  {
   "cell_type": "markdown",
   "id": "ee241325-7931-4543-83b8-f29d8e374baf",
   "metadata": {},
   "source": [
    "\"Frontier lab\" is defined as an AI company that has trained a model with an amount of compute that's within one order of magnitude of the world leading model (world leading in terms of most training compute)."
   ]
  },
  {
   "cell_type": "code",
   "execution_count": 2,
   "id": "25e74613-62e7-48c2-a79a-a7cfc6875007",
   "metadata": {},
   "outputs": [
    {
     "name": "stdout",
     "output_type": "stream",
     "text": [
      "Loaded\n"
     ]
    }
   ],
   "source": [
    "RUNS = 10*K\n",
    "\n",
    "p_merger = 0.05\n",
    "p_weak_catchup = 0.6 # Enough of a catchup for some of Meta, Mistral, xAI, Yandex, Hugging Face, etc., to become frontier\n",
    "p_strong_catchup = 0.3 # Enough of a catchup for open source to become frontier\n",
    "\n",
    "\n",
    "def model_n_labs(end_year):\n",
    "    n_labs = 5 # Currently OpenAI, Anthropic, Google, Mistral... probably Meta + xAI too... so say 5\n",
    "    annual_lab_creation_rate = 6 / 4 # OpenAI, Anthropic, Google, Deepmind, Inflection, and Mistral have been various frontier labs over 2020-2024\n",
    "    annual_lab_leave_rate = 3 / 4 # Google-Deepmind merge, Microsoft-Inflection acquisition, Anthropic dropped from frontier but then came back\n",
    "    \n",
    "    china_back_date = int(np.round(~sq.lognorm(1, 15))) + CURRENT_YEAR\n",
    "    \n",
    "    if end_year > 2026 and sq.event(p_weak_catchup):\n",
    "        n_labs += sq.norm(1, 4)\n",
    "        \n",
    "    if end_year > 2028 and sq.event(p_strong_catchup):\n",
    "        n_labs += sq.norm(3, 10)\n",
    "    \n",
    "    for y in range(CURRENT_YEAR, end_year):\n",
    "        if y == china_back_date:\n",
    "            n_labs *= 1.5\n",
    "\n",
    "        n_labs += sq.poisson(annual_lab_creation_rate)\n",
    "        n_labs -= sq.poisson(annual_lab_leave_rate)\n",
    "        \n",
    "    return sq.dist_floor(n_labs)\n",
    "    \n",
    "print('Loaded')"
   ]
  },
  {
   "cell_type": "markdown",
   "id": "1ce9753b-7b99-445d-a712-d956b2aefc67",
   "metadata": {},
   "source": [
    "## EOY 2030"
   ]
  },
  {
   "cell_type": "code",
   "execution_count": 3,
   "id": "97efb947-2775-4e1e-911f-085824995502",
   "metadata": {},
   "outputs": [
    {
     "name": "stdout",
     "output_type": "stream",
     "text": [
      "## How many frontier labs by EOY 2030? ##\n"
     ]
    },
    {
     "name": "stderr",
     "output_type": "stream",
     "text": [
      "100%|████████████████████████████████████████████████████████████████████████████████████████████████████████████████████████████████████████████████████████████████████████████████████████████████████████| 10000/10000 [00:01<00:00, 6501.00it/s]\n",
      "100%|████████████████████████████████████████████████████████████████████████████████████████████████████████████████████████████████████████████████████████████████████████████████████████████████████████| 10000/10000 [00:02<00:00, 3792.59it/s]\n"
     ]
    },
    {
     "name": "stdout",
     "output_type": "stream",
     "text": [
      "Writing cache to file `caches/n_labs.sqcache.npy`...\n",
      "...Cached\n",
      "{1: 3,\n",
      " 5: 6,\n",
      " 10: 7,\n",
      " 20: 9,\n",
      " 30: 11,\n",
      " 40: 12,\n",
      " 50: 14,\n",
      " 60: 15,\n",
      " 70: 17,\n",
      " 80: 20,\n",
      " 90: 23,\n",
      " 95: 27,\n",
      " 99: 33}\n"
     ]
    },
    {
     "data": {
      "image/png": "[encoded data removed]",
      "text/plain": [
       "<Figure size 640x480 with 1 Axes>"
      ]
     },
     "metadata": {},
     "output_type": "display_data"
    }
   ],
   "source": [
    "print('## How many frontier labs by EOY 2030? ##')\n",
    "n_lab_samples = sq.sample(lambda: model_n_labs(2030), n=RUNS, verbose=True, dump_cache_file='caches/n_labs')\n",
    "pprint(sq.get_percentiles(n_lab_samples, digits=0))\n",
    "plt.hist(n_lab_samples, bins=200)\n",
    "plt.show()"
   ]
  },
  {
   "cell_type": "code",
   "execution_count": 4,
   "id": "a4bc6f38-1d5d-471f-a184-de8b54d01725",
   "metadata": {},
   "outputs": [
    {
     "data": {
      "text/plain": [
       "0.7203"
      ]
     },
     "execution_count": 4,
     "metadata": {},
     "output_type": "execute_result"
    }
   ],
   "source": [
    "np.mean([n > 10 for n in n_lab_samples])"
   ]
  },
  {
   "cell_type": "markdown",
   "id": "9d863dce-df06-489d-8afc-fee470d2b07e",
   "metadata": {},
   "source": [
    "## EOY 2025"
   ]
  },
  {
   "cell_type": "code",
   "execution_count": 5,
   "id": "f8cc3989-3942-44ea-9a16-c43f93e2ca3a",
   "metadata": {},
   "outputs": [
    {
     "name": "stdout",
     "output_type": "stream",
     "text": [
      "## How many frontier labs by EOY 2025? ##\n"
     ]
    },
    {
     "name": "stderr",
     "output_type": "stream",
     "text": [
      "100%|███████████████████████████████████████████████████████████████████████████████████████████████████████████████████████████████████████████████████████████████████████████████████████████████████████| 10000/10000 [00:00<00:00, 11078.97it/s]\n",
      "100%|███████████████████████████████████████████████████████████████████████████████████████████████████████████████████████████████████████████████████████████████████████████████████████████████████████| 10000/10000 [00:00<00:00, 22926.73it/s]\n"
     ]
    },
    {
     "name": "stdout",
     "output_type": "stream",
     "text": [
      "{1: 2,\n",
      " 5: 3,\n",
      " 10: 4,\n",
      " 20: 5,\n",
      " 30: 5,\n",
      " 40: 5,\n",
      " 50: 6,\n",
      " 60: 6,\n",
      " 70: 6,\n",
      " 80: 7,\n",
      " 90: 8,\n",
      " 95: 8,\n",
      " 99: 10}\n"
     ]
    },
    {
     "data": {
      "image/png": "[encoded data removed]",
      "text/plain": [
       "<Figure size 640x480 with 1 Axes>"
      ]
     },
     "metadata": {},
     "output_type": "display_data"
    }
   ],
   "source": [
    "# https://www.metaculus.com/questions/17101/number-of-frontier-ai-labs-on-dec-31-2025/\n",
    "print('## How many frontier labs by EOY 2025? ##')\n",
    "n_lab_samples_2026 = sq.sample(lambda: model_n_labs(2026), n=RUNS, verbose=True)\n",
    "pprint(sq.get_percentiles(n_lab_samples_2026, digits=0))\n",
    "plt.hist(n_lab_samples_2026, bins=200)\n",
    "plt.show()"
   ]
  },
  {
   "cell_type": "code",
   "execution_count": 9,
   "id": "597ee2e7-6774-4333-ae39-be616e30fb79",
   "metadata": {},
   "outputs": [
    {
     "name": "stdout",
     "output_type": "stream",
     "text": [
      "<3? => 1.1%\n",
      "3? => 4.1%\n",
      "4? => 13.1%\n",
      "5? => 25.7%\n",
      "6? => 27.1%\n",
      "7? => 17.4%\n",
      "8? => 7.9%\n",
      ">8? => 3.6%\n"
     ]
    }
   ],
   "source": [
    "print('<3? => {:.1f}%'.format(np.mean([n < 3 for n in n_lab_samples_2026]) * 100))\n",
    "print('3? => {:.1f}%'.format(np.mean([n == 3 for n in n_lab_samples_2026]) * 100))\n",
    "print('4? => {:.1f}%'.format(np.mean([n == 4 for n in n_lab_samples_2026]) * 100))\n",
    "print('5? => {:.1f}%'.format(np.mean([n == 5 for n in n_lab_samples_2026]) * 100))\n",
    "print('6? => {:.1f}%'.format(np.mean([n == 6 for n in n_lab_samples_2026]) * 100))\n",
    "print('7? => {:.1f}%'.format(np.mean([n == 7 for n in n_lab_samples_2026]) * 100))\n",
    "print('8? => {:.1f}%'.format(np.mean([n == 8 for n in n_lab_samples_2026]) * 100))\n",
    "print('>8? => {:.1f}%'.format(np.mean([n > 8 for n in n_lab_samples_2026]) * 100))"
   ]
  },
  {
   "cell_type": "code",
   "execution_count": 7,
   "id": "9ded0884-039e-46b2-b992-f92564714c6d",
   "metadata": {},
   "outputs": [
    {
     "name": "stdout",
     "output_type": "stream",
     "text": [
      "File last ran: 2024-04-26 10:25:59.081276\n"
     ]
    }
   ],
   "source": [
    "print('File last ran: {}'.format(dt.now()))"
   ]
  }
 ],
 "metadata": {
  "kernelspec": {
   "display_name": "Python 3 (ipykernel)",
   "language": "python",
   "name": "python3"
  },
  "language_info": {
   "codemirror_mode": {
    "name": "ipython",
    "version": 3
   },
   "file_extension": ".py",
   "mimetype": "text/x-python",
   "name": "python",
   "nbconvert_exporter": "python",
   "pygments_lexer": "ipython3",
   "version": "3.11.0"
  }
 },
 "nbformat": 4,
 "nbformat_minor": 5
}
