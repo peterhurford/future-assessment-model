{
 "cells": [
  {
   "cell_type": "code",
   "execution_count": 1,
   "id": "5ac6fd9f-ba15-4177-b363-cd62b7b638d0",
   "metadata": {},
   "outputs": [
    {
     "name": "stdout",
     "output_type": "stream",
     "text": [
      "Loaded\n"
     ]
    }
   ],
   "source": [
    "import math\n",
    "import random\n",
    "import numpy as np\n",
    "import squigglepy as sq\n",
    "from squigglepy.numbers import K, M, B, T\n",
    "import matplotlib.pyplot as plt\n",
    "\n",
    "from copy import copy, deepcopy\n",
    "from scipy import stats\n",
    "from pprint import pprint\n",
    "from datetime import datetime as dt\n",
    "\n",
    "exec(open('utils.py').read())\n",
    "print('Loaded')"
   ]
  },
  {
   "cell_type": "markdown",
   "id": "ee241325-7931-4543-83b8-f29d8e374baf",
   "metadata": {},
   "source": [
    "\"Frontier lab\" is defined as an AI company that has trained a model with an amount of compute that's within one order of magnitude of the world leading model (world leading in terms of most training compute)."
   ]
  },
  {
   "cell_type": "code",
   "execution_count": 2,
   "id": "25e74613-62e7-48c2-a79a-a7cfc6875007",
   "metadata": {},
   "outputs": [
    {
     "name": "stdout",
     "output_type": "stream",
     "text": [
      "## How many frontier labs by EOY 2030? ##\n"
     ]
    },
    {
     "name": "stderr",
     "output_type": "stream",
     "text": [
      "100%|███████████████████████████████████████████████████████████████████████████████████████████████████████████████████████████████████████████████████████████████| 10000/10000 [00:02<00:00, 4583.51it/s]\n",
      "100%|███████████████████████████████████████████████████████████████████████████████████████████████████████████████████████████████████████████████████████████████| 10000/10000 [00:03<00:00, 2850.90it/s]\n"
     ]
    },
    {
     "name": "stdout",
     "output_type": "stream",
     "text": [
      "Writing cache to file `caches/n_labs.sqcache.npy`...\n",
      "...Cached\n",
      "{1: -1,\n",
      " 5: 2,\n",
      " 10: 4,\n",
      " 20: 6,\n",
      " 30: 8,\n",
      " 40: 9,\n",
      " 50: 11,\n",
      " 60: 12,\n",
      " 70: 14,\n",
      " 80: 17,\n",
      " 90: 21,\n",
      " 95: 24,\n",
      " 99: 29}\n"
     ]
    },
    {
     "data": {
      "image/png": "[encoded data removed]",
      "text/plain": [
       "<Figure size 640x480 with 1 Axes>"
      ]
     },
     "metadata": {},
     "output_type": "display_data"
    }
   ],
   "source": [
    "RUNS = 10*K\n",
    "\n",
    "p_merger = 0.05\n",
    "p_weak_catchup = 0.6 # Enough of a catchup for some of Meta, Mistral, xAI, Yandex, Hugging Face, etc., to become frontier\n",
    "p_strong_catchup = 0.3 # Enough of a catchup for open source to become frontier\n",
    "\n",
    "\n",
    "def model_n_labs(end_year):\n",
    "    n_labs = 3 # Currently OpenAI, and Anthropic\n",
    "    annual_lab_creation_rate = 5 / 4 # OpenAI, Anthropic, Google, Deepmind, and Inflection have been various frontier labs over 2020-2024\n",
    "    annual_lab_leave_rate = 3 / 4 # Google-Deepmind merge, Microsoft-Inflection acquisition, Anthropic dropped from frontier but then came back\n",
    "    \n",
    "    china_back_date = int(np.round(~sq.lognorm(1, 15))) + CURRENT_YEAR\n",
    "    \n",
    "    if end_year > 2025 and sq.event(p_weak_catchup):\n",
    "        n_labs += sq.norm(1, 4)\n",
    "        \n",
    "    if end_year > 2026 and sq.event(p_strong_catchup):\n",
    "        n_labs += sq.norm(3, 10)\n",
    "    \n",
    "    for y in range(CURRENT_YEAR, end_year):\n",
    "        if y == china_back_date:\n",
    "            n_labs *= 1.5\n",
    "\n",
    "        n_labs += sq.poisson(annual_lab_creation_rate)\n",
    "        n_labs -= sq.poisson(annual_lab_leave_rate)\n",
    "        \n",
    "    return sq.dist_floor(n_labs)\n",
    "    \n",
    "    \n",
    "print('## How many frontier labs by EOY 2030? ##')\n",
    "n_lab_samples = sq.sample(lambda: model_n_labs(2030), n=RUNS, verbose=True, dump_cache_file='caches/n_labs')\n",
    "pprint(sq.get_percentiles(n_lab_samples, digits=0))\n",
    "plt.hist(n_lab_samples, bins=200)\n",
    "plt.show()"
   ]
  },
  {
   "cell_type": "code",
   "execution_count": 3,
   "id": "a4bc6f38-1d5d-471f-a184-de8b54d01725",
   "metadata": {},
   "outputs": [
    {
     "data": {
      "text/plain": [
       "0.5167"
      ]
     },
     "execution_count": 3,
     "metadata": {},
     "output_type": "execute_result"
    }
   ],
   "source": [
    "np.mean([n > 10 for n in n_lab_samples])"
   ]
  },
  {
   "cell_type": "code",
   "execution_count": 4,
   "id": "f8cc3989-3942-44ea-9a16-c43f93e2ca3a",
   "metadata": {},
   "outputs": [
    {
     "name": "stdout",
     "output_type": "stream",
     "text": [
      "## How many frontier labs by EOY 2026? ##\n"
     ]
    },
    {
     "name": "stderr",
     "output_type": "stream",
     "text": [
      "100%|███████████████████████████████████████████████████████████████████████████████████████████████████████████████████████████████████████████████████████████████| 10000/10000 [00:01<00:00, 7349.05it/s]\n",
      "100%|███████████████████████████████████████████████████████████████████████████████████████████████████████████████████████████████████████████████████████████████| 10000/10000 [00:01<00:00, 8289.63it/s]\n"
     ]
    },
    {
     "name": "stdout",
     "output_type": "stream",
     "text": [
      "{1: 0,\n",
      " 5: 2,\n",
      " 10: 2,\n",
      " 20: 3,\n",
      " 30: 4,\n",
      " 40: 5,\n",
      " 50: 5,\n",
      " 60: 6,\n",
      " 70: 7,\n",
      " 80: 8,\n",
      " 90: 9,\n",
      " 95: 10,\n",
      " 99: 13}\n"
     ]
    },
    {
     "data": {
      "image/png": "[encoded data removed]",
      "text/plain": [
       "<Figure size 640x480 with 1 Axes>"
      ]
     },
     "metadata": {},
     "output_type": "display_data"
    }
   ],
   "source": [
    "# https://www.metaculus.com/questions/17101/number-of-frontier-ai-labs-on-dec-31-2025/\n",
    "print('## How many frontier labs by EOY 2026? ##')\n",
    "n_lab_samples_2026 = sq.sample(lambda: model_n_labs(2026), n=RUNS, verbose=True)\n",
    "pprint(sq.get_percentiles(n_lab_samples_2026, digits=0))\n",
    "plt.hist(n_lab_samples_2026, bins=200)\n",
    "plt.show()"
   ]
  },
  {
   "cell_type": "code",
   "execution_count": 5,
   "id": "9ded0884-039e-46b2-b992-f92564714c6d",
   "metadata": {},
   "outputs": [
    {
     "name": "stdout",
     "output_type": "stream",
     "text": [
      "File last ran: 2024-03-22 12:54:25.451242\n"
     ]
    }
   ],
   "source": [
    "print('File last ran: {}'.format(dt.now()))"
   ]
  }
 ],
 "metadata": {
  "kernelspec": {
   "display_name": "Python 3 (ipykernel)",
   "language": "python",
   "name": "python3"
  },
  "language_info": {
   "codemirror_mode": {
    "name": "ipython",
    "version": 3
   },
   "file_extension": ".py",
   "mimetype": "text/x-python",
   "name": "python",
   "nbconvert_exporter": "python",
   "pygments_lexer": "ipython3",
   "version": "3.11.0"
  }
 },
 "nbformat": 4,
 "nbformat_minor": 5
}
